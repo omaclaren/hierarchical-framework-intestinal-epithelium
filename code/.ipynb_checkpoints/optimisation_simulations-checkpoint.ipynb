{
 "metadata": {
  "name": "",
  "signature": "sha256:e2dcd9e01c0c56010476f33f089193cbc61d581616f828e85e6ecd6e46cf2f9c"
 },
 "nbformat": 3,
 "nbformat_minor": 0,
 "worksheets": [
  {
   "cells": [
    {
     "cell_type": "markdown",
     "metadata": {},
     "source": [
      "#Notebook for running simulations and sampling, aside from working.  \n",
      "##OJM"
     ]
    },
    {
     "cell_type": "code",
     "collapsed": false,
     "input": [
      "import numpy as np\n",
      "import numpy.linalg as la\n",
      "import scipy as sp\n",
      "from scipy import stats\n",
      "import scipy.interpolate as interpolate\n",
      "import scipy.special as special\n",
      "import matplotlib as mpl\n",
      "import matplotlib.pyplot as plt\n",
      "import os\n",
      "import errno\n",
      "%matplotlib inline"
     ],
     "language": "python",
     "metadata": {},
     "outputs": [],
     "prompt_number": 2
    },
    {
     "cell_type": "code",
     "collapsed": false,
     "input": [
      "%run data_analysis_functions.ipynb\n",
      "%run simulation_functions.ipynb"
     ],
     "language": "python",
     "metadata": {},
     "outputs": [],
     "prompt_number": 3
    },
    {
     "cell_type": "markdown",
     "metadata": {},
     "source": [
      "##Optimisation approach"
     ]
    },
    {
     "cell_type": "code",
     "collapsed": false,
     "input": [
      "def opt_sim(data_dir='../data-working/TXT_BrdU/',sample_type='BrdU',\n",
      "                          actual_out_times= np.array([60.,120.,360.,600.,1080.,1920.]),times_to_fit_i=[5],precision_time=4,\n",
      "                          p0=np.array([1.0,2.0,0.01,0.01,0.01]),p_var_i=[],reg_param= 0.1,penalty_order=1,x_min=0.,x_max=100.,k=3,s=15,nx=100):\n",
      "    \"\"\"\n",
      "    optimisation solution to inverse problem\n",
      "    -\n",
      "    notes\n",
      "    a key difficulty is choosing proper comparison grid\n",
      "    also, systematic regularisation - dependence on number of parameters etc? determining reg. parameter\n",
      "    -\n",
      "    structure\n",
      "    initial condition\n",
      "    data for fitting\n",
      "    model definition\n",
      "    residuals function\n",
      "    \n",
      "    \n",
      "    \"\"\"\n",
      "    #---\n",
      "    #get initial condition\n",
      "    files_in_dir= os.listdir(data_dir)\n",
      "    files_in_dir.sort() #assumes files have same name format!!\n",
      "\n",
      "    start= actual_out_times[0]\n",
      "    time_format= '%0'+('%1d' % precision_time)+'d'\n",
      "    file_ic= get_data_file(data_dir,time_format%start)\n",
      "    \n",
      "    density_results= process_and_fit_label_data_file(data_dir=data_dir,file_to_fit=file_ic,\n",
      "                                                     sample_type=sample_type,x_max=x_max,\n",
      "                                                     do_plot=False)\n",
      "    initial_profile_f= density_results[-1]\n",
      "    \n",
      "    #---\n",
      "    #data for comparison. NOTE - get \n",
      "    #TODO - use times_to_fit_i?\n",
      "    x_data_to_fit= np.tile(np.arange(x_min,x_max),(actual_out_times.size-1,1))\n",
      "    x_data_to_fit= np.transpose(x_data_to_fit)\n",
      "    label_data_at_x_data= np.zeros(x_data_to_fit.shape)\n",
      "\n",
      "    for i in range(0,actual_out_times.size-1):\n",
      "        current_time= actual_out_times[i+1]\n",
      "        file_current= get_data_file(data_dir,time_format%current_time)\n",
      "        print file_current\n",
      "        data_result= process_and_fit_label_data_file(data_dir=data_dir,file_to_fit=file_current,sample_type=sample_type,k=k,s=s,x_max=100,do_plot=False)\n",
      "        #careful here - data grid concept needs to be tidied up.\n",
      "        label_data_at_x_data[:,i]= np.append(data_result[0],np.zeros(x_max-data_result[0].size))\n",
      "    \n",
      "    #convert between experimental times and simulation times \n",
      "    norm_out_times= (actual_out_times-min(actual_out_times))/(max(actual_out_times)-min(actual_out_times))\n",
      "    \n",
      "    #---\n",
      "    #function for one sim.\n",
      "    def model(p_var):\n",
      "        \"\"\"\n",
      "        simulation model\n",
      "        -\n",
      "        notes:\n",
      "        output formats for each quantity are -\n",
      "        [column of results at time 1|column of results at time 2|...etc...]\n",
      "        uses arguments from outer function - bad practice?\n",
      "        bit of a hack with 'global' vs. local arguments.\n",
      "        \"\"\"\n",
      "        #HACK!\n",
      "        #try_count= 0\n",
      "        #while try_count<5:\n",
      "        #    try:\n",
      "                #code with possible error\n",
      "                #set up and run simulation \n",
      "        #        velocity_f= velocity_from_integrated_proliferation(proliferation_profile(p=p,x_max=x_max))\n",
      "        #        controller= setup(nx=nx,initial_profile_f=initial_profile_f,velocity_f=velocity_f,norm_out_times=norm_out_times)\n",
      "        #        #controller.verbosity= 0\n",
      "        #        controller.run()\n",
      "        #    except:\n",
      "        #        print 'adding noise/making positive to try avoid numerical difficulties'\n",
      "        #        print p\n",
      "                #print p_current\n",
      "                #p= p+np.random.normal(0,0.1,p.size)\n",
      "        #        p= np.abs(p+np.random.normal(0,0.1,p.size))\n",
      "        #        try_count= try_count+1\n",
      "        #        continue\n",
      "        #    else:\n",
      "        #         #the rest of the code\n",
      "        #         break\n",
      "        p= np.copy(p0) #careful of python 'labels/tags' vs 'containers'.\n",
      "        p[p_var_i]= p_var[p_var_i]\n",
      "        #print 'test p0 changing:' \n",
      "        #print p==p0\n",
      "        #print p[p_fixed_i]== p0[p_fixed_i]\n",
      "        #print 'here'\n",
      "        velocity_f= velocity_from_integrated_proliferation(proliferation_profile(p=p,x_max=x_max))\n",
      "        controller= setup(nx=nx,initial_profile_f=initial_profile_f,velocity_f=velocity_f,norm_out_times=norm_out_times)\n",
      "        #controller.verbosity= 0\n",
      "        controller.run()\n",
      "\n",
      "        #extract (all) simulation results\n",
      "        output_shape= [np.size(controller.frames[0].state.q[0,:],axis=0),np.size(controller.frames,axis=0)]\n",
      "        #print output_shape\n",
      "        labels= np.zeros(output_shape)\n",
      "        x_centres= np.zeros(output_shape)\n",
      "        velocity= np.zeros(output_shape)\n",
      "        for i in range(0,np.size(controller.out_times,axis=0)):\n",
      "            labels[:,i]= controller.frames[i].state.q[0,:]\n",
      "            #don't actually vary with time!\n",
      "            x_centres[:,i]= controller.frames[0].state.grid.c_centers[0]\n",
      "            velocity[:,i]= controller.frames[0].state.aux[0,:]\n",
      "\n",
      "        return labels, velocity, x_centres\n",
      "\n",
      "    #---\n",
      "    #residuals function\n",
      "    def residuals(p_var_current,flatten_residual=True):#,p0=np.array([1.0,2.0,0.01,0.01,0.01]))#,p_fixed_i=[]):#,x_data_to_fit=x_data_to_fit,label_data_to_fit=label_data_to_fit,times_to_fit=[]):\n",
      "        \"\"\"\n",
      "        residuals between model solutions and data\n",
      "        -\n",
      "        notes\n",
      "        data and model results are matrices/arrays!\n",
      "        in 'column vector' storage format?\n",
      "        -\n",
      "        Plan\n",
      "        general outline\n",
      "        -at a given time\n",
      "        [vectorised]\n",
      "        --at a set of data comparison x points\n",
      "        ---get data values\n",
      "        ---get solution values (via interp.)\n",
      "        ---compute residual and store as column vector in residual matrix\n",
      "        -(in another function) square values and sum to get a single scalar\n",
      "        approach\n",
      "        -test cell to consider a vector of data values and test sim and calc residual\n",
      "        \"\"\"\n",
      "        #get solutions at all times > t0. #use e.g. structured arrays??\n",
      "        results= model(p_var=p_var_current)\n",
      "        labels_model= results[0][:,1:]\n",
      "        x_centres_model= results[2][:,1:]\n",
      "\n",
      "        #data grid. TODO - do better. Note: don't include initial condition so one index smaller.\n",
      "        #use e.g. structured arrays?? For now - collect all but only compare subset. Inefficient.\n",
      "        label_model_at_x_data_current= np.zeros(x_data_to_fit.shape[0])\n",
      "        residual_at_x_data= np.zeros(x_data_to_fit.shape)\n",
      "        #times_to_fit_i\n",
      "        for i in np.subtract(times_to_fit_i,1):\n",
      "            #TODO - assert i>0\n",
      "            \n",
      "            #current_time= actual_out_times[i+1]\n",
      "            #file_current= get_data_file(data_dir,time_format%current_time)\n",
      "            #print file_current\n",
      "            #data_result= process_and_fit_label_data_file(data_dir=data_dir,file_to_fit=file_current,sample_type=sample_type,k=k,s=s,x_max=100,do_plot=False)\n",
      "            #careful here - data grid concept needs to be tidied up.\n",
      "            #label_data_at_x_data= np.append(data_result[0],np.zeros(x_max-data_result[0].size))\n",
      "            label_model_at_x_data_current= np.interp(x_data_to_fit[:,i],x_centres_model[:,i],labels_model[:,i])\n",
      "            residual_at_x_data[:,i]= label_data_at_x_data[:,i]-label_model_at_x_data_current\n",
      "            #temp\n",
      "            #plt.plot(residual_at_x_data[:,i])\n",
      "\n",
      "        #temp\n",
      "        #plt.show()\n",
      "        if flatten_residual:\n",
      "            return np.ravel(residual_at_x_data) #ravel flattens into single vector\n",
      "        else:\n",
      "            return residual_at_x_data\n",
      "    #---\n",
      "    #Optimisation\n",
      "    #currently only one step.\n",
      "    import scipy.optimize as sciopt\n",
      "    flatten_residual= True\n",
      "    \n",
      "    #plsq= sciopt.leastsq(residuals,p0,args=(flatten_residual))\n",
      "    #pest= plsq[0]\n",
      "    #bounds= [(-10,10) for i in range(p.size)]\n",
      "    #max_iter= 10\n",
      "    #max_fev= 20\n",
      "    #note - use centered parameters in penalty. CAREFUL OF FIXED PARAMETERS!!!\n",
      "    #CAREFUL OF NORMS VS SQUARED ETC - SHOULDN'T REALLY MATTER THO...\n",
      "    #NOTE - INCORRECT FOR L0 BUT SHOULDN'T REALLY USE??\n",
      "    p_var0= np.copy(p0[p_var_i])\n",
      "    sum_square_penalised= lambda p_var: (1/np.float(len(times_to_fit_i)))*la.norm(residuals(p_var_current=p_var),ord=2)**2\\\n",
      "        +reg_param*(la.norm(p_var-np.mean(p_var),ord=penalty_order)**penalty_order)\n",
      "    #out= sciopt.minimize(sum_sq,p0,bounds=bounds,method=),method='Nelder-Mead'\n",
      "    #out= sciopt.minimize(sum_square_penalised,p0,method='Nelder-Mead',options=dict({'maxiter':10,'maxfev':20}))\n",
      "    out= sciopt.minimize(sum_square_penalised,p_var0,method='Nelder-Mead')\n",
      "    #pest= out.x\n",
      "    return out"
     ],
     "language": "python",
     "metadata": {},
     "outputs": [],
     "prompt_number": 11
    },
    {
     "cell_type": "code",
     "collapsed": false,
     "input": [
      "#Note association!\n",
      "a= np.linspace(0,10)\n",
      "b= a[0:3]\n",
      "b[2] = -1\n",
      "print a #changed!\n",
      "print b"
     ],
     "language": "python",
     "metadata": {},
     "outputs": [
      {
       "output_type": "stream",
       "stream": "stdout",
       "text": [
        "[  0.           0.20408163  -1.           0.6122449    0.81632653\n",
        "   1.02040816   1.2244898    1.42857143   1.63265306   1.83673469\n",
        "   2.04081633   2.24489796   2.44897959   2.65306122   2.85714286\n",
        "   3.06122449   3.26530612   3.46938776   3.67346939   3.87755102\n",
        "   4.08163265   4.28571429   4.48979592   4.69387755   4.89795918\n",
        "   5.10204082   5.30612245   5.51020408   5.71428571   5.91836735\n",
        "   6.12244898   6.32653061   6.53061224   6.73469388   6.93877551\n",
        "   7.14285714   7.34693878   7.55102041   7.75510204   7.95918367\n",
        "   8.16326531   8.36734694   8.57142857   8.7755102    8.97959184\n",
        "   9.18367347   9.3877551    9.59183673   9.79591837  10.        ]\n",
        "[ 0.          0.20408163 -1.        ]\n"
       ]
      }
     ],
     "prompt_number": 5
    },
    {
     "cell_type": "code",
     "collapsed": false,
     "input": [
      "#one-off optimisation - no random search/restart etc.\n",
      "x_min= 0.\n",
      "x_max= 100.\n",
      "x= np.linspace(x_min,x_max,100)\n",
      "#actual_out_times= np.array([60.,120.,360.,600.,840.,1080.])#,1920.])\n",
      "\n",
      "data_dir='../data-working/TXT_BrdU/'\n",
      "sample_type='BrdU'\n",
      "actual_out_times= np.array([120.,360.,600.])#,1920.])\n",
      "times_to_fit_i=[2]\n",
      "#note - starting near p3 = 0 gives 'nicer' solutions. how to do systematically?\n",
      "p0=np.random.uniform(low=-1.0,high=1.0,size=3)\n",
      "p0= np.append(p0,np.zeros(17))\n",
      "p_start= np.copy(p0)\n",
      "print 'p0: ' \n",
      "print p0\n",
      "p_var_i= [0,1,2,3]\n",
      "#reg_param= 0.005\n",
      "#reg_param= 0.05\n",
      "#reg_param= 0.03\n",
      "reg_param= 0.1\n",
      "#reg_param= 0.0\n",
      "#NOTE - PROBS SHOULDN'T EVER USE L0??\n",
      "penalty_order=2 #norm used in regularisation e.g. L0, L1, L2 etc, NOT order of derivative\n",
      "import time as timer\n",
      "t0 = timer.time()\n",
      "out= opt_sim(p0=p0,p_var_i=p_var_i,data_dir=data_dir,sample_type=sample_type,actual_out_times=actual_out_times,times_to_fit_i=times_to_fit_i,reg_param=reg_param,penalty_order=penalty_order,nx=100)\n",
      "t1 = timer.time()"
     ],
     "language": "python",
     "metadata": {},
     "outputs": [
      {
       "output_type": "stream",
       "stream": "stdout",
       "text": [
        "p0: \n",
        "[-0.35713032  0.00420331  0.30305314  0.          0.          0.          0.\n",
        "  0.          0.          0.          0.          0.          0.          0.\n",
        "  0.          0.          0.          0.          0.          0.        ]\n",
        "BrdU_01_0360min.txt\n",
        "BrdU_01_0600min.txt"
       ]
      },
      {
       "output_type": "stream",
       "stream": "stdout",
       "text": [
        "\n",
        "2014-12-04 18:32:23,650 INFO CLAW: Solution 0 computed for time t=0.000000\n"
       ]
      },
      {
       "output_type": "stream",
       "stream": "stdout",
       "text": [
        "2014-12-04 18:32:23,655 INFO CLAW: Solution 1 computed for time t=0.500000\n"
       ]
      },
      {
       "output_type": "stream",
       "stream": "stdout",
       "text": [
        "2014-12-04 18:32:23,659 INFO CLAW: Solution 2 computed for time t=1.000000\n"
       ]
      },
      {
       "output_type": "stream",
       "stream": "stdout",
       "text": [
        "2014-12-04 18:32:24,615 INFO CLAW: Solution 0 computed for time t=0.000000\n"
       ]
      },
      {
       "output_type": "stream",
       "stream": "stdout",
       "text": [
        "2014-12-04 18:32:24,621 INFO CLAW: Solution 1 computed for time t=0.500000\n"
       ]
      },
      {
       "output_type": "stream",
       "stream": "stdout",
       "text": [
        "2014-12-04 18:32:24,626 INFO CLAW: Solution 2 computed for time t=1.000000\n"
       ]
      },
      {
       "output_type": "stream",
       "stream": "stdout",
       "text": [
        "2014-12-04 18:32:25,608 INFO CLAW: Solution 0 computed for time t=0.000000\n"
       ]
      },
      {
       "output_type": "stream",
       "stream": "stdout",
       "text": [
        "2014-12-04 18:32:25,614 INFO CLAW: Solution 1 computed for time t=0.500000\n"
       ]
      },
      {
       "output_type": "stream",
       "stream": "stdout",
       "text": [
        "2014-12-04 18:32:25,619 INFO CLAW: Solution 2 computed for time t=1.000000\n"
       ]
      },
      {
       "output_type": "stream",
       "stream": "stdout",
       "text": [
        "2014-12-04 18:32:26,549 INFO CLAW: Solution 0 computed for time t=0.000000\n"
       ]
      },
      {
       "output_type": "stream",
       "stream": "stdout",
       "text": [
        "2014-12-04 18:32:26,553 INFO CLAW: Solution 1 computed for time t=0.500000\n"
       ]
      },
      {
       "output_type": "stream",
       "stream": "stdout",
       "text": [
        "2014-12-04 18:32:26,556 INFO CLAW: Solution 2 computed for time t=1.000000\n"
       ]
      },
      {
       "output_type": "stream",
       "stream": "stdout",
       "text": [
        "2014-12-04 18:32:27,546 INFO CLAW: Solution 0 computed for time t=0.000000\n"
       ]
      },
      {
       "output_type": "stream",
       "stream": "stdout",
       "text": [
        "2014-12-04 18:32:27,549 INFO CLAW: Solution 1 computed for time t=0.500000\n"
       ]
      },
      {
       "output_type": "stream",
       "stream": "stdout",
       "text": [
        "2014-12-04 18:32:27,553 INFO CLAW: Solution 2 computed for time t=1.000000\n"
       ]
      },
      {
       "output_type": "stream",
       "stream": "stdout",
       "text": [
        "2014-12-04 18:32:28,437 INFO CLAW: Solution 0 computed for time t=0.000000\n"
       ]
      },
      {
       "output_type": "stream",
       "stream": "stdout",
       "text": [
        "2014-12-04 18:32:28,441 INFO CLAW: Solution 1 computed for time t=0.500000\n"
       ]
      },
      {
       "output_type": "stream",
       "stream": "stdout",
       "text": [
        "2014-12-04 18:32:28,444 INFO CLAW: Solution 2 computed for time t=1.000000\n"
       ]
      },
      {
       "output_type": "stream",
       "stream": "stdout",
       "text": [
        "2014-12-04 18:32:29,325 INFO CLAW: Solution 0 computed for time t=0.000000\n"
       ]
      },
      {
       "output_type": "stream",
       "stream": "stdout",
       "text": [
        "2014-12-04 18:32:29,330 INFO CLAW: Solution 1 computed for time t=0.500000\n"
       ]
      },
      {
       "output_type": "stream",
       "stream": "stdout",
       "text": [
        "2014-12-04 18:32:29,334 INFO CLAW: Solution 2 computed for time t=1.000000\n"
       ]
      },
      {
       "output_type": "stream",
       "stream": "stdout",
       "text": [
        "2014-12-04 18:32:30,233 INFO CLAW: Solution 0 computed for time t=0.000000\n"
       ]
      },
      {
       "output_type": "stream",
       "stream": "stdout",
       "text": [
        "2014-12-04 18:32:30,236 INFO CLAW: Solution 1 computed for time t=0.500000\n"
       ]
      },
      {
       "output_type": "stream",
       "stream": "stdout",
       "text": [
        "2014-12-04 18:32:30,240 INFO CLAW: Solution 2 computed for time t=1.000000\n"
       ]
      },
      {
       "output_type": "stream",
       "stream": "stdout",
       "text": [
        "2014-12-04 18:32:31,137 INFO CLAW: Solution 0 computed for time t=0.000000\n"
       ]
      },
      {
       "output_type": "stream",
       "stream": "stdout",
       "text": [
        "2014-12-04 18:32:31,140 INFO CLAW: Solution 1 computed for time t=0.500000\n"
       ]
      },
      {
       "output_type": "stream",
       "stream": "stdout",
       "text": [
        "2014-12-04 18:32:31,143 INFO CLAW: Solution 2 computed for time t=1.000000\n"
       ]
      },
      {
       "output_type": "stream",
       "stream": "stdout",
       "text": [
        "2014-12-04 18:32:32,038 INFO CLAW: Solution 0 computed for time t=0.000000\n"
       ]
      },
      {
       "output_type": "stream",
       "stream": "stdout",
       "text": [
        "2014-12-04 18:32:32,042 INFO CLAW: Solution 1 computed for time t=0.500000\n"
       ]
      },
      {
       "output_type": "stream",
       "stream": "stdout",
       "text": [
        "2014-12-04 18:32:32,046 INFO CLAW: Solution 2 computed for time t=1.000000\n"
       ]
      },
      {
       "output_type": "stream",
       "stream": "stdout",
       "text": [
        "2014-12-04 18:32:32,969 INFO CLAW: Solution 0 computed for time t=0.000000\n"
       ]
      },
      {
       "output_type": "stream",
       "stream": "stdout",
       "text": [
        "2014-12-04 18:32:32,973 INFO CLAW: Solution 1 computed for time t=0.500000\n"
       ]
      },
      {
       "output_type": "stream",
       "stream": "stdout",
       "text": [
        "2014-12-04 18:32:32,976 INFO CLAW: Solution 2 computed for time t=1.000000\n"
       ]
      },
      {
       "output_type": "stream",
       "stream": "stdout",
       "text": [
        "2014-12-04 18:32:33,954 INFO CLAW: Solution 0 computed for time t=0.000000\n"
       ]
      },
      {
       "output_type": "stream",
       "stream": "stdout",
       "text": [
        "2014-12-04 18:32:33,958 INFO CLAW: Solution 1 computed for time t=0.500000\n"
       ]
      },
      {
       "output_type": "stream",
       "stream": "stdout",
       "text": [
        "2014-12-04 18:32:33,961 INFO CLAW: Solution 2 computed for time t=1.000000\n"
       ]
      },
      {
       "output_type": "stream",
       "stream": "stdout",
       "text": [
        "2014-12-04 18:32:34,896 INFO CLAW: Solution 0 computed for time t=0.000000\n"
       ]
      },
      {
       "output_type": "stream",
       "stream": "stdout",
       "text": [
        "2014-12-04 18:32:34,899 INFO CLAW: Solution 1 computed for time t=0.500000\n"
       ]
      },
      {
       "output_type": "stream",
       "stream": "stdout",
       "text": [
        "2014-12-04 18:32:34,902 INFO CLAW: Solution 2 computed for time t=1.000000\n"
       ]
      },
      {
       "output_type": "stream",
       "stream": "stdout",
       "text": [
        "2014-12-04 18:32:35,796 INFO CLAW: Solution 0 computed for time t=0.000000\n"
       ]
      },
      {
       "output_type": "stream",
       "stream": "stdout",
       "text": [
        "2014-12-04 18:32:35,799 INFO CLAW: Solution 1 computed for time t=0.500000\n"
       ]
      },
      {
       "output_type": "stream",
       "stream": "stdout",
       "text": [
        "2014-12-04 18:32:35,802 INFO CLAW: Solution 2 computed for time t=1.000000\n"
       ]
      },
      {
       "output_type": "stream",
       "stream": "stdout",
       "text": [
        "2014-12-04 18:32:36,723 INFO CLAW: Solution 0 computed for time t=0.000000\n"
       ]
      },
      {
       "output_type": "stream",
       "stream": "stdout",
       "text": [
        "2014-12-04 18:32:36,728 INFO CLAW: Solution 1 computed for time t=0.500000\n"
       ]
      },
      {
       "output_type": "stream",
       "stream": "stdout",
       "text": [
        "2014-12-04 18:32:36,732 INFO CLAW: Solution 2 computed for time t=1.000000\n"
       ]
      },
      {
       "output_type": "stream",
       "stream": "stdout",
       "text": [
        "2014-12-04 18:32:37,637 INFO CLAW: Solution 0 computed for time t=0.000000\n"
       ]
      },
      {
       "output_type": "stream",
       "stream": "stdout",
       "text": [
        "2014-12-04 18:32:37,641 INFO CLAW: Solution 1 computed for time t=0.500000\n"
       ]
      },
      {
       "output_type": "stream",
       "stream": "stdout",
       "text": [
        "2014-12-04 18:32:37,645 INFO CLAW: Solution 2 computed for time t=1.000000\n"
       ]
      },
      {
       "output_type": "stream",
       "stream": "stdout",
       "text": [
        "2014-12-04 18:32:38,543 INFO CLAW: Solution 0 computed for time t=0.000000\n"
       ]
      },
      {
       "output_type": "stream",
       "stream": "stdout",
       "text": [
        "2014-12-04 18:32:38,546 INFO CLAW: Solution 1 computed for time t=0.500000\n"
       ]
      },
      {
       "output_type": "stream",
       "stream": "stdout",
       "text": [
        "2014-12-04 18:32:38,549 INFO CLAW: Solution 2 computed for time t=1.000000\n"
       ]
      },
      {
       "output_type": "stream",
       "stream": "stdout",
       "text": [
        "2014-12-04 18:32:39,436 INFO CLAW: Solution 0 computed for time t=0.000000\n"
       ]
      },
      {
       "output_type": "stream",
       "stream": "stdout",
       "text": [
        "2014-12-04 18:32:39,440 INFO CLAW: Solution 1 computed for time t=0.500000\n"
       ]
      },
      {
       "output_type": "stream",
       "stream": "stdout",
       "text": [
        "2014-12-04 18:32:39,442 INFO CLAW: Solution 2 computed for time t=1.000000\n"
       ]
      },
      {
       "output_type": "stream",
       "stream": "stdout",
       "text": [
        "2014-12-04 18:32:40,344 INFO CLAW: Solution 0 computed for time t=0.000000\n"
       ]
      },
      {
       "output_type": "stream",
       "stream": "stdout",
       "text": [
        "2014-12-04 18:32:40,347 INFO CLAW: Solution 1 computed for time t=0.500000\n"
       ]
      },
      {
       "output_type": "stream",
       "stream": "stdout",
       "text": [
        "2014-12-04 18:32:40,350 INFO CLAW: Solution 2 computed for time t=1.000000\n"
       ]
      },
      {
       "output_type": "stream",
       "stream": "stdout",
       "text": [
        "2014-12-04 18:32:41,261 INFO CLAW: Solution 0 computed for time t=0.000000\n"
       ]
      },
      {
       "output_type": "stream",
       "stream": "stdout",
       "text": [
        "2014-12-04 18:32:41,266 INFO CLAW: Solution 1 computed for time t=0.500000\n"
       ]
      },
      {
       "output_type": "stream",
       "stream": "stdout",
       "text": [
        "2014-12-04 18:32:41,270 INFO CLAW: Solution 2 computed for time t=1.000000\n"
       ]
      },
      {
       "output_type": "stream",
       "stream": "stdout",
       "text": [
        "2014-12-04 18:32:42,170 INFO CLAW: Solution 0 computed for time t=0.000000\n"
       ]
      },
      {
       "output_type": "stream",
       "stream": "stdout",
       "text": [
        "2014-12-04 18:32:42,174 INFO CLAW: Solution 1 computed for time t=0.500000\n"
       ]
      },
      {
       "output_type": "stream",
       "stream": "stdout",
       "text": [
        "2014-12-04 18:32:42,178 INFO CLAW: Solution 2 computed for time t=1.000000\n"
       ]
      },
      {
       "output_type": "stream",
       "stream": "stdout",
       "text": [
        "2014-12-04 18:32:43,063 INFO CLAW: Solution 0 computed for time t=0.000000\n"
       ]
      },
      {
       "output_type": "stream",
       "stream": "stdout",
       "text": [
        "2014-12-04 18:32:43,067 INFO CLAW: Solution 1 computed for time t=0.500000\n"
       ]
      },
      {
       "output_type": "stream",
       "stream": "stdout",
       "text": [
        "2014-12-04 18:32:43,071 INFO CLAW: Solution 2 computed for time t=1.000000\n"
       ]
      },
      {
       "output_type": "stream",
       "stream": "stdout",
       "text": [
        "2014-12-04 18:32:43,963 INFO CLAW: Solution 0 computed for time t=0.000000\n"
       ]
      },
      {
       "output_type": "stream",
       "stream": "stdout",
       "text": [
        "2014-12-04 18:32:43,970 INFO CLAW: Solution 1 computed for time t=0.500000\n"
       ]
      },
      {
       "output_type": "stream",
       "stream": "stdout",
       "text": [
        "2014-12-04 18:32:43,975 INFO CLAW: Solution 2 computed for time t=1.000000\n"
       ]
      },
      {
       "output_type": "stream",
       "stream": "stdout",
       "text": [
        "2014-12-04 18:32:44,857 INFO CLAW: Solution 0 computed for time t=0.000000\n"
       ]
      },
      {
       "output_type": "stream",
       "stream": "stdout",
       "text": [
        "2014-12-04 18:32:44,863 INFO CLAW: Solution 1 computed for time t=0.500000\n"
       ]
      },
      {
       "output_type": "stream",
       "stream": "stdout",
       "text": [
        "2014-12-04 18:32:44,868 INFO CLAW: Solution 2 computed for time t=1.000000\n"
       ]
      },
      {
       "output_type": "stream",
       "stream": "stdout",
       "text": [
        "2014-12-04 18:32:45,852 INFO CLAW: Solution 0 computed for time t=0.000000\n"
       ]
      },
      {
       "output_type": "stream",
       "stream": "stdout",
       "text": [
        "2014-12-04 18:32:45,862 INFO CLAW: Solution 1 computed for time t=0.500000\n"
       ]
      },
      {
       "output_type": "stream",
       "stream": "stdout",
       "text": [
        "2014-12-04 18:32:45,871 INFO CLAW: Solution 2 computed for time t=1.000000\n"
       ]
      },
      {
       "output_type": "stream",
       "stream": "stdout",
       "text": [
        "2014-12-04 18:32:46,828 INFO CLAW: Solution 0 computed for time t=0.000000\n"
       ]
      },
      {
       "output_type": "stream",
       "stream": "stdout",
       "text": [
        "2014-12-04 18:32:46,838 INFO CLAW: Solution 1 computed for time t=0.500000\n"
       ]
      },
      {
       "output_type": "stream",
       "stream": "stdout",
       "text": [
        "2014-12-04 18:32:46,849 INFO CLAW: Solution 2 computed for time t=1.000000\n"
       ]
      },
      {
       "output_type": "stream",
       "stream": "stdout",
       "text": [
        "2014-12-04 18:32:47,816 INFO CLAW: Solution 0 computed for time t=0.000000\n"
       ]
      },
      {
       "output_type": "stream",
       "stream": "stdout",
       "text": [
        "2014-12-04 18:32:47,825 INFO CLAW: Solution 1 computed for time t=0.500000\n"
       ]
      },
      {
       "output_type": "stream",
       "stream": "stdout",
       "text": [
        "2014-12-04 18:32:47,839 INFO CLAW: Solution 2 computed for time t=1.000000\n"
       ]
      },
      {
       "output_type": "stream",
       "stream": "stdout",
       "text": [
        "2014-12-04 18:32:48,830 INFO CLAW: Solution 0 computed for time t=0.000000\n"
       ]
      },
      {
       "output_type": "stream",
       "stream": "stdout",
       "text": [
        "2014-12-04 18:32:48,837 INFO CLAW: Solution 1 computed for time t=0.500000\n"
       ]
      },
      {
       "output_type": "stream",
       "stream": "stdout",
       "text": [
        "2014-12-04 18:32:48,847 INFO CLAW: Solution 2 computed for time t=1.000000\n"
       ]
      },
      {
       "output_type": "stream",
       "stream": "stdout",
       "text": [
        "2014-12-04 18:32:49,777 INFO CLAW: Solution 0 computed for time t=0.000000\n"
       ]
      },
      {
       "output_type": "stream",
       "stream": "stdout",
       "text": [
        "2014-12-04 18:32:49,783 INFO CLAW: Solution 1 computed for time t=0.500000\n"
       ]
      },
      {
       "output_type": "stream",
       "stream": "stdout",
       "text": [
        "2014-12-04 18:32:49,789 INFO CLAW: Solution 2 computed for time t=1.000000\n"
       ]
      },
      {
       "output_type": "stream",
       "stream": "stdout",
       "text": [
        "2014-12-04 18:32:50,690 INFO CLAW: Solution 0 computed for time t=0.000000\n"
       ]
      },
      {
       "output_type": "stream",
       "stream": "stdout",
       "text": [
        "2014-12-04 18:32:50,700 INFO CLAW: Solution 1 computed for time t=0.500000\n"
       ]
      },
      {
       "output_type": "stream",
       "stream": "stdout",
       "text": [
        "2014-12-04 18:32:50,706 INFO CLAW: Solution 2 computed for time t=1.000000\n"
       ]
      },
      {
       "output_type": "stream",
       "stream": "stdout",
       "text": [
        "2014-12-04 18:32:51,611 INFO CLAW: Solution 0 computed for time t=0.000000\n"
       ]
      },
      {
       "output_type": "stream",
       "stream": "stdout",
       "text": [
        "2014-12-04 18:32:51,620 INFO CLAW: Solution 1 computed for time t=0.500000\n"
       ]
      },
      {
       "output_type": "stream",
       "stream": "stdout",
       "text": [
        "2014-12-04 18:32:51,629 INFO CLAW: Solution 2 computed for time t=1.000000\n"
       ]
      },
      {
       "output_type": "stream",
       "stream": "stdout",
       "text": [
        "2014-12-04 18:32:52,546 INFO CLAW: Solution 0 computed for time t=0.000000\n"
       ]
      },
      {
       "output_type": "stream",
       "stream": "stdout",
       "text": [
        "2014-12-04 18:32:52,555 INFO CLAW: Solution 1 computed for time t=0.500000\n"
       ]
      },
      {
       "output_type": "stream",
       "stream": "stdout",
       "text": [
        "2014-12-04 18:32:52,562 INFO CLAW: Solution 2 computed for time t=1.000000\n"
       ]
      },
      {
       "output_type": "stream",
       "stream": "stdout",
       "text": [
        "2014-12-04 18:32:53,482 INFO CLAW: Solution 0 computed for time t=0.000000\n"
       ]
      },
      {
       "output_type": "stream",
       "stream": "stdout",
       "text": [
        "2014-12-04 18:32:53,490 INFO CLAW: Solution 1 computed for time t=0.500000\n"
       ]
      },
      {
       "output_type": "stream",
       "stream": "stdout",
       "text": [
        "2014-12-04 18:32:53,498 INFO CLAW: Solution 2 computed for time t=1.000000\n"
       ]
      },
      {
       "output_type": "stream",
       "stream": "stdout",
       "text": [
        "2014-12-04 18:32:54,377 INFO CLAW: Solution 0 computed for time t=0.000000\n"
       ]
      },
      {
       "output_type": "stream",
       "stream": "stdout",
       "text": [
        "2014-12-04 18:32:54,384 INFO CLAW: Solution 1 computed for time t=0.500000\n"
       ]
      },
      {
       "output_type": "stream",
       "stream": "stdout",
       "text": [
        "2014-12-04 18:32:54,390 INFO CLAW: Solution 2 computed for time t=1.000000\n"
       ]
      },
      {
       "output_type": "stream",
       "stream": "stdout",
       "text": [
        "2014-12-04 18:32:55,285 INFO CLAW: Solution 0 computed for time t=0.000000\n"
       ]
      },
      {
       "output_type": "stream",
       "stream": "stdout",
       "text": [
        "2014-12-04 18:32:55,293 INFO CLAW: Solution 1 computed for time t=0.500000\n"
       ]
      },
      {
       "output_type": "stream",
       "stream": "stdout",
       "text": [
        "2014-12-04 18:32:55,300 INFO CLAW: Solution 2 computed for time t=1.000000\n"
       ]
      },
      {
       "output_type": "stream",
       "stream": "stdout",
       "text": [
        "2014-12-04 18:32:56,187 INFO CLAW: Solution 0 computed for time t=0.000000\n"
       ]
      },
      {
       "output_type": "stream",
       "stream": "stdout",
       "text": [
        "2014-12-04 18:32:56,197 INFO CLAW: Solution 1 computed for time t=0.500000\n"
       ]
      },
      {
       "output_type": "stream",
       "stream": "stdout",
       "text": [
        "2014-12-04 18:32:56,207 INFO CLAW: Solution 2 computed for time t=1.000000\n"
       ]
      },
      {
       "output_type": "stream",
       "stream": "stdout",
       "text": [
        "2014-12-04 18:32:57,118 INFO CLAW: Solution 0 computed for time t=0.000000\n"
       ]
      },
      {
       "output_type": "stream",
       "stream": "stdout",
       "text": [
        "2014-12-04 18:32:57,126 INFO CLAW: Solution 1 computed for time t=0.500000\n"
       ]
      },
      {
       "output_type": "stream",
       "stream": "stdout",
       "text": [
        "2014-12-04 18:32:57,134 INFO CLAW: Solution 2 computed for time t=1.000000\n"
       ]
      },
      {
       "output_type": "stream",
       "stream": "stdout",
       "text": [
        "2014-12-04 18:32:58,019 INFO CLAW: Solution 0 computed for time t=0.000000\n"
       ]
      },
      {
       "output_type": "stream",
       "stream": "stdout",
       "text": [
        "2014-12-04 18:32:58,025 INFO CLAW: Solution 1 computed for time t=0.500000\n"
       ]
      },
      {
       "output_type": "stream",
       "stream": "stdout",
       "text": [
        "2014-12-04 18:32:58,030 INFO CLAW: Solution 2 computed for time t=1.000000\n"
       ]
      },
      {
       "output_type": "stream",
       "stream": "stdout",
       "text": [
        "2014-12-04 18:32:58,937 INFO CLAW: Solution 0 computed for time t=0.000000\n"
       ]
      },
      {
       "output_type": "stream",
       "stream": "stdout",
       "text": [
        "2014-12-04 18:32:58,943 INFO CLAW: Solution 1 computed for time t=0.500000\n"
       ]
      },
      {
       "output_type": "stream",
       "stream": "stdout",
       "text": [
        "2014-12-04 18:32:58,948 INFO CLAW: Solution 2 computed for time t=1.000000\n"
       ]
      },
      {
       "output_type": "stream",
       "stream": "stdout",
       "text": [
        "2014-12-04 18:32:59,830 INFO CLAW: Solution 0 computed for time t=0.000000\n"
       ]
      },
      {
       "output_type": "stream",
       "stream": "stdout",
       "text": [
        "2014-12-04 18:32:59,837 INFO CLAW: Solution 1 computed for time t=0.500000\n"
       ]
      },
      {
       "output_type": "stream",
       "stream": "stdout",
       "text": [
        "2014-12-04 18:32:59,844 INFO CLAW: Solution 2 computed for time t=1.000000\n"
       ]
      },
      {
       "output_type": "stream",
       "stream": "stdout",
       "text": [
        "2014-12-04 18:33:00,751 INFO CLAW: Solution 0 computed for time t=0.000000\n"
       ]
      },
      {
       "output_type": "stream",
       "stream": "stdout",
       "text": [
        "2014-12-04 18:33:00,759 INFO CLAW: Solution 1 computed for time t=0.500000\n"
       ]
      },
      {
       "output_type": "stream",
       "stream": "stdout",
       "text": [
        "2014-12-04 18:33:00,768 INFO CLAW: Solution 2 computed for time t=1.000000\n"
       ]
      },
      {
       "output_type": "stream",
       "stream": "stdout",
       "text": [
        "2014-12-04 18:33:01,678 INFO CLAW: Solution 0 computed for time t=0.000000\n"
       ]
      },
      {
       "output_type": "stream",
       "stream": "stdout",
       "text": [
        "2014-12-04 18:33:01,686 INFO CLAW: Solution 1 computed for time t=0.500000\n"
       ]
      },
      {
       "output_type": "stream",
       "stream": "stdout",
       "text": [
        "2014-12-04 18:33:01,692 INFO CLAW: Solution 2 computed for time t=1.000000\n"
       ]
      },
      {
       "output_type": "stream",
       "stream": "stdout",
       "text": [
        "2014-12-04 18:33:02,687 INFO CLAW: Solution 0 computed for time t=0.000000\n"
       ]
      },
      {
       "output_type": "stream",
       "stream": "stdout",
       "text": [
        "2014-12-04 18:33:02,693 INFO CLAW: Solution 1 computed for time t=0.500000\n"
       ]
      },
      {
       "output_type": "stream",
       "stream": "stdout",
       "text": [
        "2014-12-04 18:33:02,699 INFO CLAW: Solution 2 computed for time t=1.000000\n"
       ]
      },
      {
       "output_type": "stream",
       "stream": "stdout",
       "text": [
        "2014-12-04 18:33:03,722 INFO CLAW: Solution 0 computed for time t=0.000000\n"
       ]
      },
      {
       "output_type": "stream",
       "stream": "stdout",
       "text": [
        "2014-12-04 18:33:03,728 INFO CLAW: Solution 1 computed for time t=0.500000\n"
       ]
      },
      {
       "output_type": "stream",
       "stream": "stdout",
       "text": [
        "2014-12-04 18:33:03,735 INFO CLAW: Solution 2 computed for time t=1.000000\n"
       ]
      },
      {
       "output_type": "stream",
       "stream": "stdout",
       "text": [
        "2014-12-04 18:33:04,659 INFO CLAW: Solution 0 computed for time t=0.000000\n"
       ]
      },
      {
       "output_type": "stream",
       "stream": "stdout",
       "text": [
        "2014-12-04 18:33:04,665 INFO CLAW: Solution 1 computed for time t=0.500000\n"
       ]
      },
      {
       "output_type": "stream",
       "stream": "stdout",
       "text": [
        "2014-12-04 18:33:04,672 INFO CLAW: Solution 2 computed for time t=1.000000\n"
       ]
      },
      {
       "output_type": "stream",
       "stream": "stdout",
       "text": [
        "2014-12-04 18:33:05,559 INFO CLAW: Solution 0 computed for time t=0.000000\n"
       ]
      },
      {
       "output_type": "stream",
       "stream": "stdout",
       "text": [
        "2014-12-04 18:33:05,566 INFO CLAW: Solution 1 computed for time t=0.500000\n"
       ]
      },
      {
       "output_type": "stream",
       "stream": "stdout",
       "text": [
        "2014-12-04 18:33:05,573 INFO CLAW: Solution 2 computed for time t=1.000000\n"
       ]
      },
      {
       "output_type": "stream",
       "stream": "stdout",
       "text": [
        "2014-12-04 18:33:06,482 INFO CLAW: Solution 0 computed for time t=0.000000\n"
       ]
      },
      {
       "output_type": "stream",
       "stream": "stdout",
       "text": [
        "2014-12-04 18:33:06,492 INFO CLAW: Solution 1 computed for time t=0.500000\n"
       ]
      },
      {
       "output_type": "stream",
       "stream": "stdout",
       "text": [
        "2014-12-04 18:33:06,500 INFO CLAW: Solution 2 computed for time t=1.000000\n"
       ]
      },
      {
       "output_type": "stream",
       "stream": "stdout",
       "text": [
        "2014-12-04 18:33:07,416 INFO CLAW: Solution 0 computed for time t=0.000000\n"
       ]
      },
      {
       "output_type": "stream",
       "stream": "stdout",
       "text": [
        "2014-12-04 18:33:07,423 INFO CLAW: Solution 1 computed for time t=0.500000\n"
       ]
      },
      {
       "output_type": "stream",
       "stream": "stdout",
       "text": [
        "2014-12-04 18:33:07,430 INFO CLAW: Solution 2 computed for time t=1.000000\n"
       ]
      },
      {
       "output_type": "stream",
       "stream": "stdout",
       "text": [
        "2014-12-04 18:33:08,334 INFO CLAW: Solution 0 computed for time t=0.000000\n"
       ]
      },
      {
       "output_type": "stream",
       "stream": "stdout",
       "text": [
        "2014-12-04 18:33:08,342 INFO CLAW: Solution 1 computed for time t=0.500000\n"
       ]
      },
      {
       "output_type": "stream",
       "stream": "stdout",
       "text": [
        "2014-12-04 18:33:08,353 INFO CLAW: Solution 2 computed for time t=1.000000\n"
       ]
      },
      {
       "output_type": "stream",
       "stream": "stdout",
       "text": [
        "2014-12-04 18:33:09,265 INFO CLAW: Solution 0 computed for time t=0.000000\n"
       ]
      },
      {
       "output_type": "stream",
       "stream": "stdout",
       "text": [
        "2014-12-04 18:33:09,275 INFO CLAW: Solution 1 computed for time t=0.500000\n"
       ]
      },
      {
       "output_type": "stream",
       "stream": "stdout",
       "text": [
        "2014-12-04 18:33:09,282 INFO CLAW: Solution 2 computed for time t=1.000000\n"
       ]
      },
      {
       "output_type": "stream",
       "stream": "stdout",
       "text": [
        "2014-12-04 18:33:10,192 INFO CLAW: Solution 0 computed for time t=0.000000\n"
       ]
      },
      {
       "output_type": "stream",
       "stream": "stdout",
       "text": [
        "2014-12-04 18:33:10,199 INFO CLAW: Solution 1 computed for time t=0.500000\n"
       ]
      },
      {
       "output_type": "stream",
       "stream": "stdout",
       "text": [
        "2014-12-04 18:33:10,206 INFO CLAW: Solution 2 computed for time t=1.000000\n"
       ]
      },
      {
       "output_type": "stream",
       "stream": "stdout",
       "text": [
        "2014-12-04 18:33:11,116 INFO CLAW: Solution 0 computed for time t=0.000000\n"
       ]
      },
      {
       "output_type": "stream",
       "stream": "stdout",
       "text": [
        "2014-12-04 18:33:11,123 INFO CLAW: Solution 1 computed for time t=0.500000\n"
       ]
      },
      {
       "output_type": "stream",
       "stream": "stdout",
       "text": [
        "2014-12-04 18:33:11,130 INFO CLAW: Solution 2 computed for time t=1.000000\n"
       ]
      },
      {
       "output_type": "stream",
       "stream": "stdout",
       "text": [
        "2014-12-04 18:33:12,037 INFO CLAW: Solution 0 computed for time t=0.000000\n"
       ]
      },
      {
       "output_type": "stream",
       "stream": "stdout",
       "text": [
        "2014-12-04 18:33:12,047 INFO CLAW: Solution 1 computed for time t=0.500000\n"
       ]
      },
      {
       "output_type": "stream",
       "stream": "stdout",
       "text": [
        "2014-12-04 18:33:12,056 INFO CLAW: Solution 2 computed for time t=1.000000\n"
       ]
      },
      {
       "output_type": "stream",
       "stream": "stdout",
       "text": [
        "2014-12-04 18:33:12,991 INFO CLAW: Solution 0 computed for time t=0.000000\n"
       ]
      },
      {
       "output_type": "stream",
       "stream": "stdout",
       "text": [
        "2014-12-04 18:33:12,998 INFO CLAW: Solution 1 computed for time t=0.500000\n"
       ]
      },
      {
       "output_type": "stream",
       "stream": "stdout",
       "text": [
        "2014-12-04 18:33:13,006 INFO CLAW: Solution 2 computed for time t=1.000000\n"
       ]
      },
      {
       "output_type": "stream",
       "stream": "stdout",
       "text": [
        "2014-12-04 18:33:13,875 INFO CLAW: Solution 0 computed for time t=0.000000\n"
       ]
      },
      {
       "output_type": "stream",
       "stream": "stdout",
       "text": [
        "2014-12-04 18:33:13,881 INFO CLAW: Solution 1 computed for time t=0.500000\n"
       ]
      },
      {
       "output_type": "stream",
       "stream": "stdout",
       "text": [
        "2014-12-04 18:33:13,887 INFO CLAW: Solution 2 computed for time t=1.000000\n"
       ]
      },
      {
       "output_type": "stream",
       "stream": "stdout",
       "text": [
        "2014-12-04 18:33:14,761 INFO CLAW: Solution 0 computed for time t=0.000000\n"
       ]
      },
      {
       "output_type": "stream",
       "stream": "stdout",
       "text": [
        "2014-12-04 18:33:14,768 INFO CLAW: Solution 1 computed for time t=0.500000\n"
       ]
      },
      {
       "output_type": "stream",
       "stream": "stdout",
       "text": [
        "2014-12-04 18:33:14,776 INFO CLAW: Solution 2 computed for time t=1.000000\n"
       ]
      },
      {
       "output_type": "stream",
       "stream": "stdout",
       "text": [
        "2014-12-04 18:33:15,696 INFO CLAW: Solution 0 computed for time t=0.000000\n"
       ]
      },
      {
       "output_type": "stream",
       "stream": "stdout",
       "text": [
        "2014-12-04 18:33:15,702 INFO CLAW: Solution 1 computed for time t=0.500000\n"
       ]
      },
      {
       "output_type": "stream",
       "stream": "stdout",
       "text": [
        "2014-12-04 18:33:15,708 INFO CLAW: Solution 2 computed for time t=1.000000\n"
       ]
      },
      {
       "output_type": "stream",
       "stream": "stdout",
       "text": [
        "2014-12-04 18:33:16,638 INFO CLAW: Solution 0 computed for time t=0.000000\n"
       ]
      },
      {
       "output_type": "stream",
       "stream": "stdout",
       "text": [
        "2014-12-04 18:33:16,649 INFO CLAW: Solution 1 computed for time t=0.500000\n"
       ]
      },
      {
       "output_type": "stream",
       "stream": "stdout",
       "text": [
        "2014-12-04 18:33:16,656 INFO CLAW: Solution 2 computed for time t=1.000000\n"
       ]
      },
      {
       "output_type": "stream",
       "stream": "stdout",
       "text": [
        "2014-12-04 18:33:17,624 INFO CLAW: Solution 0 computed for time t=0.000000\n"
       ]
      },
      {
       "output_type": "stream",
       "stream": "stdout",
       "text": [
        "2014-12-04 18:33:17,630 INFO CLAW: Solution 1 computed for time t=0.500000\n"
       ]
      },
      {
       "output_type": "stream",
       "stream": "stdout",
       "text": [
        "2014-12-04 18:33:17,637 INFO CLAW: Solution 2 computed for time t=1.000000\n"
       ]
      },
      {
       "output_type": "stream",
       "stream": "stdout",
       "text": [
        "2014-12-04 18:33:18,533 INFO CLAW: Solution 0 computed for time t=0.000000\n"
       ]
      },
      {
       "output_type": "stream",
       "stream": "stdout",
       "text": [
        "2014-12-04 18:33:18,539 INFO CLAW: Solution 1 computed for time t=0.500000\n"
       ]
      },
      {
       "output_type": "stream",
       "stream": "stdout",
       "text": [
        "2014-12-04 18:33:18,546 INFO CLAW: Solution 2 computed for time t=1.000000\n"
       ]
      },
      {
       "output_type": "stream",
       "stream": "stdout",
       "text": [
        "2014-12-04 18:33:19,433 INFO CLAW: Solution 0 computed for time t=0.000000\n"
       ]
      },
      {
       "output_type": "stream",
       "stream": "stdout",
       "text": [
        "2014-12-04 18:33:19,439 INFO CLAW: Solution 1 computed for time t=0.500000\n"
       ]
      },
      {
       "output_type": "stream",
       "stream": "stdout",
       "text": [
        "2014-12-04 18:33:19,446 INFO CLAW: Solution 2 computed for time t=1.000000\n"
       ]
      },
      {
       "output_type": "stream",
       "stream": "stdout",
       "text": [
        "2014-12-04 18:33:20,335 INFO CLAW: Solution 0 computed for time t=0.000000\n"
       ]
      },
      {
       "output_type": "stream",
       "stream": "stdout",
       "text": [
        "2014-12-04 18:33:20,343 INFO CLAW: Solution 1 computed for time t=0.500000\n"
       ]
      },
      {
       "output_type": "stream",
       "stream": "stdout",
       "text": [
        "2014-12-04 18:33:20,350 INFO CLAW: Solution 2 computed for time t=1.000000\n"
       ]
      },
      {
       "output_type": "stream",
       "stream": "stdout",
       "text": [
        "2014-12-04 18:33:21,329 INFO CLAW: Solution 0 computed for time t=0.000000\n"
       ]
      },
      {
       "output_type": "stream",
       "stream": "stdout",
       "text": [
        "2014-12-04 18:33:21,336 INFO CLAW: Solution 1 computed for time t=0.500000\n"
       ]
      },
      {
       "output_type": "stream",
       "stream": "stdout",
       "text": [
        "2014-12-04 18:33:21,343 INFO CLAW: Solution 2 computed for time t=1.000000\n"
       ]
      },
      {
       "output_type": "stream",
       "stream": "stdout",
       "text": [
        "2014-12-04 18:33:22,259 INFO CLAW: Solution 0 computed for time t=0.000000\n"
       ]
      },
      {
       "output_type": "stream",
       "stream": "stdout",
       "text": [
        "2014-12-04 18:33:22,266 INFO CLAW: Solution 1 computed for time t=0.500000\n"
       ]
      },
      {
       "output_type": "stream",
       "stream": "stdout",
       "text": [
        "2014-12-04 18:33:22,274 INFO CLAW: Solution 2 computed for time t=1.000000\n"
       ]
      },
      {
       "output_type": "stream",
       "stream": "stdout",
       "text": [
        "2014-12-04 18:33:23,268 INFO CLAW: Solution 0 computed for time t=0.000000\n"
       ]
      },
      {
       "output_type": "stream",
       "stream": "stdout",
       "text": [
        "2014-12-04 18:33:23,279 INFO CLAW: Solution 1 computed for time t=0.500000\n"
       ]
      },
      {
       "output_type": "stream",
       "stream": "stdout",
       "text": [
        "2014-12-04 18:33:23,288 INFO CLAW: Solution 2 computed for time t=1.000000\n"
       ]
      },
      {
       "output_type": "stream",
       "stream": "stdout",
       "text": [
        "2014-12-04 18:33:24,187 INFO CLAW: Solution 0 computed for time t=0.000000\n"
       ]
      },
      {
       "output_type": "stream",
       "stream": "stdout",
       "text": [
        "2014-12-04 18:33:24,197 INFO CLAW: Solution 1 computed for time t=0.500000\n"
       ]
      },
      {
       "output_type": "stream",
       "stream": "stdout",
       "text": [
        "2014-12-04 18:33:24,207 INFO CLAW: Solution 2 computed for time t=1.000000\n"
       ]
      },
      {
       "output_type": "stream",
       "stream": "stdout",
       "text": [
        "2014-12-04 18:33:25,173 INFO CLAW: Solution 0 computed for time t=0.000000\n"
       ]
      },
      {
       "output_type": "stream",
       "stream": "stdout",
       "text": [
        "2014-12-04 18:33:25,180 INFO CLAW: Solution 1 computed for time t=0.500000\n"
       ]
      },
      {
       "output_type": "stream",
       "stream": "stdout",
       "text": [
        "2014-12-04 18:33:25,187 INFO CLAW: Solution 2 computed for time t=1.000000\n"
       ]
      },
      {
       "output_type": "stream",
       "stream": "stdout",
       "text": [
        "2014-12-04 18:33:26,123 INFO CLAW: Solution 0 computed for time t=0.000000\n"
       ]
      },
      {
       "output_type": "stream",
       "stream": "stdout",
       "text": [
        "2014-12-04 18:33:26,133 INFO CLAW: Solution 1 computed for time t=0.500000\n"
       ]
      },
      {
       "output_type": "stream",
       "stream": "stdout",
       "text": [
        "2014-12-04 18:33:26,140 INFO CLAW: Solution 2 computed for time t=1.000000\n"
       ]
      },
      {
       "output_type": "stream",
       "stream": "stdout",
       "text": [
        "2014-12-04 18:33:27,104 INFO CLAW: Solution 0 computed for time t=0.000000\n"
       ]
      },
      {
       "output_type": "stream",
       "stream": "stdout",
       "text": [
        "2014-12-04 18:33:27,118 INFO CLAW: Solution 1 computed for time t=0.500000\n"
       ]
      },
      {
       "output_type": "stream",
       "stream": "stdout",
       "text": [
        "2014-12-04 18:33:27,132 INFO CLAW: Solution 2 computed for time t=1.000000\n"
       ]
      },
      {
       "output_type": "stream",
       "stream": "stdout",
       "text": [
        "2014-12-04 18:33:28,168 INFO CLAW: Solution 0 computed for time t=0.000000\n"
       ]
      },
      {
       "output_type": "stream",
       "stream": "stdout",
       "text": [
        "2014-12-04 18:33:28,175 INFO CLAW: Solution 1 computed for time t=0.500000\n"
       ]
      },
      {
       "output_type": "stream",
       "stream": "stdout",
       "text": [
        "2014-12-04 18:33:28,184 INFO CLAW: Solution 2 computed for time t=1.000000\n"
       ]
      },
      {
       "output_type": "stream",
       "stream": "stdout",
       "text": [
        "2014-12-04 18:33:29,084 INFO CLAW: Solution 0 computed for time t=0.000000\n"
       ]
      },
      {
       "output_type": "stream",
       "stream": "stdout",
       "text": [
        "2014-12-04 18:33:29,091 INFO CLAW: Solution 1 computed for time t=0.500000\n"
       ]
      },
      {
       "output_type": "stream",
       "stream": "stdout",
       "text": [
        "2014-12-04 18:33:29,100 INFO CLAW: Solution 2 computed for time t=1.000000\n"
       ]
      },
      {
       "output_type": "stream",
       "stream": "stdout",
       "text": [
        "2014-12-04 18:33:30,059 INFO CLAW: Solution 0 computed for time t=0.000000\n"
       ]
      },
      {
       "output_type": "stream",
       "stream": "stdout",
       "text": [
        "2014-12-04 18:33:30,066 INFO CLAW: Solution 1 computed for time t=0.500000\n"
       ]
      },
      {
       "output_type": "stream",
       "stream": "stdout",
       "text": [
        "2014-12-04 18:33:30,073 INFO CLAW: Solution 2 computed for time t=1.000000\n"
       ]
      },
      {
       "output_type": "stream",
       "stream": "stdout",
       "text": [
        "2014-12-04 18:33:31,035 INFO CLAW: Solution 0 computed for time t=0.000000\n"
       ]
      },
      {
       "output_type": "stream",
       "stream": "stdout",
       "text": [
        "2014-12-04 18:33:31,044 INFO CLAW: Solution 1 computed for time t=0.500000\n"
       ]
      },
      {
       "output_type": "stream",
       "stream": "stdout",
       "text": [
        "2014-12-04 18:33:31,051 INFO CLAW: Solution 2 computed for time t=1.000000\n"
       ]
      },
      {
       "output_type": "stream",
       "stream": "stdout",
       "text": [
        "2014-12-04 18:33:31,989 INFO CLAW: Solution 0 computed for time t=0.000000\n"
       ]
      },
      {
       "output_type": "stream",
       "stream": "stdout",
       "text": [
        "2014-12-04 18:33:31,995 INFO CLAW: Solution 1 computed for time t=0.500000\n"
       ]
      },
      {
       "output_type": "stream",
       "stream": "stdout",
       "text": [
        "2014-12-04 18:33:32,002 INFO CLAW: Solution 2 computed for time t=1.000000\n"
       ]
      },
      {
       "output_type": "stream",
       "stream": "stdout",
       "text": [
        "2014-12-04 18:33:32,904 INFO CLAW: Solution 0 computed for time t=0.000000\n"
       ]
      },
      {
       "output_type": "stream",
       "stream": "stdout",
       "text": [
        "2014-12-04 18:33:32,910 INFO CLAW: Solution 1 computed for time t=0.500000\n"
       ]
      },
      {
       "output_type": "stream",
       "stream": "stdout",
       "text": [
        "2014-12-04 18:33:32,916 INFO CLAW: Solution 2 computed for time t=1.000000\n"
       ]
      },
      {
       "output_type": "stream",
       "stream": "stdout",
       "text": [
        "2014-12-04 18:33:33,787 INFO CLAW: Solution 0 computed for time t=0.000000\n"
       ]
      },
      {
       "output_type": "stream",
       "stream": "stdout",
       "text": [
        "2014-12-04 18:33:33,794 INFO CLAW: Solution 1 computed for time t=0.500000\n"
       ]
      },
      {
       "output_type": "stream",
       "stream": "stdout",
       "text": [
        "2014-12-04 18:33:33,801 INFO CLAW: Solution 2 computed for time t=1.000000\n"
       ]
      },
      {
       "output_type": "stream",
       "stream": "stdout",
       "text": [
        "2014-12-04 18:33:34,717 INFO CLAW: Solution 0 computed for time t=0.000000\n"
       ]
      },
      {
       "output_type": "stream",
       "stream": "stdout",
       "text": [
        "2014-12-04 18:33:34,728 INFO CLAW: Solution 1 computed for time t=0.500000\n"
       ]
      },
      {
       "output_type": "stream",
       "stream": "stdout",
       "text": [
        "2014-12-04 18:33:34,738 INFO CLAW: Solution 2 computed for time t=1.000000\n"
       ]
      },
      {
       "output_type": "stream",
       "stream": "stdout",
       "text": [
        "2014-12-04 18:33:35,635 INFO CLAW: Solution 0 computed for time t=0.000000\n"
       ]
      },
      {
       "output_type": "stream",
       "stream": "stdout",
       "text": [
        "2014-12-04 18:33:35,642 INFO CLAW: Solution 1 computed for time t=0.500000\n"
       ]
      },
      {
       "output_type": "stream",
       "stream": "stdout",
       "text": [
        "2014-12-04 18:33:35,648 INFO CLAW: Solution 2 computed for time t=1.000000\n"
       ]
      },
      {
       "output_type": "stream",
       "stream": "stdout",
       "text": [
        "2014-12-04 18:33:36,582 INFO CLAW: Solution 0 computed for time t=0.000000\n"
       ]
      },
      {
       "output_type": "stream",
       "stream": "stdout",
       "text": [
        "2014-12-04 18:33:36,592 INFO CLAW: Solution 1 computed for time t=0.500000\n"
       ]
      },
      {
       "output_type": "stream",
       "stream": "stdout",
       "text": [
        "2014-12-04 18:33:36,601 INFO CLAW: Solution 2 computed for time t=1.000000\n"
       ]
      },
      {
       "output_type": "stream",
       "stream": "stdout",
       "text": [
        "2014-12-04 18:33:37,522 INFO CLAW: Solution 0 computed for time t=0.000000\n"
       ]
      },
      {
       "output_type": "stream",
       "stream": "stdout",
       "text": [
        "2014-12-04 18:33:37,528 INFO CLAW: Solution 1 computed for time t=0.500000\n"
       ]
      },
      {
       "output_type": "stream",
       "stream": "stdout",
       "text": [
        "2014-12-04 18:33:37,535 INFO CLAW: Solution 2 computed for time t=1.000000\n"
       ]
      },
      {
       "output_type": "stream",
       "stream": "stdout",
       "text": [
        "2014-12-04 18:33:38,463 INFO CLAW: Solution 0 computed for time t=0.000000\n"
       ]
      },
      {
       "output_type": "stream",
       "stream": "stdout",
       "text": [
        "2014-12-04 18:33:38,472 INFO CLAW: Solution 1 computed for time t=0.500000\n"
       ]
      },
      {
       "output_type": "stream",
       "stream": "stdout",
       "text": [
        "2014-12-04 18:33:38,479 INFO CLAW: Solution 2 computed for time t=1.000000\n"
       ]
      },
      {
       "output_type": "stream",
       "stream": "stdout",
       "text": [
        "2014-12-04 18:33:39,360 INFO CLAW: Solution 0 computed for time t=0.000000\n"
       ]
      },
      {
       "output_type": "stream",
       "stream": "stdout",
       "text": [
        "2014-12-04 18:33:39,367 INFO CLAW: Solution 1 computed for time t=0.500000\n"
       ]
      },
      {
       "output_type": "stream",
       "stream": "stdout",
       "text": [
        "2014-12-04 18:33:39,375 INFO CLAW: Solution 2 computed for time t=1.000000\n"
       ]
      },
      {
       "output_type": "stream",
       "stream": "stdout",
       "text": [
        "2014-12-04 18:33:40,283 INFO CLAW: Solution 0 computed for time t=0.000000\n"
       ]
      },
      {
       "output_type": "stream",
       "stream": "stdout",
       "text": [
        "2014-12-04 18:33:40,289 INFO CLAW: Solution 1 computed for time t=0.500000\n"
       ]
      },
      {
       "output_type": "stream",
       "stream": "stdout",
       "text": [
        "2014-12-04 18:33:40,296 INFO CLAW: Solution 2 computed for time t=1.000000\n"
       ]
      },
      {
       "output_type": "stream",
       "stream": "stdout",
       "text": [
        "2014-12-04 18:33:41,213 INFO CLAW: Solution 0 computed for time t=0.000000\n"
       ]
      },
      {
       "output_type": "stream",
       "stream": "stdout",
       "text": [
        "2014-12-04 18:33:41,223 INFO CLAW: Solution 1 computed for time t=0.500000\n"
       ]
      },
      {
       "output_type": "stream",
       "stream": "stdout",
       "text": [
        "2014-12-04 18:33:41,230 INFO CLAW: Solution 2 computed for time t=1.000000\n"
       ]
      },
      {
       "output_type": "stream",
       "stream": "stdout",
       "text": [
        "2014-12-04 18:33:42,126 INFO CLAW: Solution 0 computed for time t=0.000000\n"
       ]
      },
      {
       "output_type": "stream",
       "stream": "stdout",
       "text": [
        "2014-12-04 18:33:42,137 INFO CLAW: Solution 1 computed for time t=0.500000\n"
       ]
      },
      {
       "output_type": "stream",
       "stream": "stdout",
       "text": [
        "2014-12-04 18:33:42,144 INFO CLAW: Solution 2 computed for time t=1.000000\n"
       ]
      },
      {
       "output_type": "stream",
       "stream": "stdout",
       "text": [
        "2014-12-04 18:33:43,064 INFO CLAW: Solution 0 computed for time t=0.000000\n"
       ]
      },
      {
       "output_type": "stream",
       "stream": "stdout",
       "text": [
        "2014-12-04 18:33:43,075 INFO CLAW: Solution 1 computed for time t=0.500000\n"
       ]
      },
      {
       "output_type": "stream",
       "stream": "stdout",
       "text": [
        "2014-12-04 18:33:43,085 INFO CLAW: Solution 2 computed for time t=1.000000\n"
       ]
      },
      {
       "output_type": "stream",
       "stream": "stdout",
       "text": [
        "2014-12-04 18:33:44,041 INFO CLAW: Solution 0 computed for time t=0.000000\n"
       ]
      },
      {
       "output_type": "stream",
       "stream": "stdout",
       "text": [
        "2014-12-04 18:33:44,048 INFO CLAW: Solution 1 computed for time t=0.500000\n"
       ]
      },
      {
       "output_type": "stream",
       "stream": "stdout",
       "text": [
        "2014-12-04 18:33:44,057 INFO CLAW: Solution 2 computed for time t=1.000000\n"
       ]
      },
      {
       "output_type": "stream",
       "stream": "stdout",
       "text": [
        "2014-12-04 18:33:45,029 INFO CLAW: Solution 0 computed for time t=0.000000\n"
       ]
      },
      {
       "output_type": "stream",
       "stream": "stdout",
       "text": [
        "2014-12-04 18:33:45,036 INFO CLAW: Solution 1 computed for time t=0.500000\n"
       ]
      },
      {
       "output_type": "stream",
       "stream": "stdout",
       "text": [
        "2014-12-04 18:33:45,046 INFO CLAW: Solution 2 computed for time t=1.000000\n"
       ]
      },
      {
       "output_type": "stream",
       "stream": "stdout",
       "text": [
        "2014-12-04 18:33:46,001 INFO CLAW: Solution 0 computed for time t=0.000000\n"
       ]
      },
      {
       "output_type": "stream",
       "stream": "stdout",
       "text": [
        "2014-12-04 18:33:46,009 INFO CLAW: Solution 1 computed for time t=0.500000\n"
       ]
      },
      {
       "output_type": "stream",
       "stream": "stdout",
       "text": [
        "2014-12-04 18:33:46,020 INFO CLAW: Solution 2 computed for time t=1.000000\n"
       ]
      },
      {
       "output_type": "stream",
       "stream": "stdout",
       "text": [
        "2014-12-04 18:33:46,897 INFO CLAW: Solution 0 computed for time t=0.000000\n"
       ]
      },
      {
       "output_type": "stream",
       "stream": "stdout",
       "text": [
        "2014-12-04 18:33:46,905 INFO CLAW: Solution 1 computed for time t=0.500000\n"
       ]
      },
      {
       "output_type": "stream",
       "stream": "stdout",
       "text": [
        "2014-12-04 18:33:46,912 INFO CLAW: Solution 2 computed for time t=1.000000\n"
       ]
      },
      {
       "output_type": "stream",
       "stream": "stdout",
       "text": [
        "2014-12-04 18:33:47,800 INFO CLAW: Solution 0 computed for time t=0.000000\n"
       ]
      },
      {
       "output_type": "stream",
       "stream": "stdout",
       "text": [
        "2014-12-04 18:33:47,808 INFO CLAW: Solution 1 computed for time t=0.500000\n"
       ]
      },
      {
       "output_type": "stream",
       "stream": "stdout",
       "text": [
        "2014-12-04 18:33:47,817 INFO CLAW: Solution 2 computed for time t=1.000000\n"
       ]
      },
      {
       "output_type": "stream",
       "stream": "stdout",
       "text": [
        "2014-12-04 18:33:48,698 INFO CLAW: Solution 0 computed for time t=0.000000\n"
       ]
      },
      {
       "output_type": "stream",
       "stream": "stdout",
       "text": [
        "2014-12-04 18:33:48,706 INFO CLAW: Solution 1 computed for time t=0.500000\n"
       ]
      },
      {
       "output_type": "stream",
       "stream": "stdout",
       "text": [
        "2014-12-04 18:33:48,714 INFO CLAW: Solution 2 computed for time t=1.000000\n"
       ]
      },
      {
       "output_type": "stream",
       "stream": "stdout",
       "text": [
        "2014-12-04 18:33:49,612 INFO CLAW: Solution 0 computed for time t=0.000000\n"
       ]
      },
      {
       "output_type": "stream",
       "stream": "stdout",
       "text": [
        "2014-12-04 18:33:49,619 INFO CLAW: Solution 1 computed for time t=0.500000\n"
       ]
      },
      {
       "output_type": "stream",
       "stream": "stdout",
       "text": [
        "2014-12-04 18:33:49,627 INFO CLAW: Solution 2 computed for time t=1.000000\n"
       ]
      },
      {
       "output_type": "stream",
       "stream": "stdout",
       "text": [
        "2014-12-04 18:33:50,513 INFO CLAW: Solution 0 computed for time t=0.000000\n"
       ]
      },
      {
       "output_type": "stream",
       "stream": "stdout",
       "text": [
        "2014-12-04 18:33:50,521 INFO CLAW: Solution 1 computed for time t=0.500000\n"
       ]
      },
      {
       "output_type": "stream",
       "stream": "stdout",
       "text": [
        "2014-12-04 18:33:50,529 INFO CLAW: Solution 2 computed for time t=1.000000\n"
       ]
      },
      {
       "output_type": "stream",
       "stream": "stdout",
       "text": [
        "2014-12-04 18:33:51,405 INFO CLAW: Solution 0 computed for time t=0.000000\n"
       ]
      },
      {
       "output_type": "stream",
       "stream": "stdout",
       "text": [
        "2014-12-04 18:33:51,415 INFO CLAW: Solution 1 computed for time t=0.500000\n"
       ]
      },
      {
       "output_type": "stream",
       "stream": "stdout",
       "text": [
        "2014-12-04 18:33:51,423 INFO CLAW: Solution 2 computed for time t=1.000000\n"
       ]
      },
      {
       "output_type": "stream",
       "stream": "stdout",
       "text": [
        "2014-12-04 18:33:52,313 INFO CLAW: Solution 0 computed for time t=0.000000\n"
       ]
      },
      {
       "output_type": "stream",
       "stream": "stdout",
       "text": [
        "2014-12-04 18:33:52,323 INFO CLAW: Solution 1 computed for time t=0.500000\n"
       ]
      },
      {
       "output_type": "stream",
       "stream": "stdout",
       "text": [
        "2014-12-04 18:33:52,332 INFO CLAW: Solution 2 computed for time t=1.000000\n"
       ]
      },
      {
       "output_type": "stream",
       "stream": "stdout",
       "text": [
        "2014-12-04 18:33:53,227 INFO CLAW: Solution 0 computed for time t=0.000000\n"
       ]
      },
      {
       "output_type": "stream",
       "stream": "stdout",
       "text": [
        "2014-12-04 18:33:53,235 INFO CLAW: Solution 1 computed for time t=0.500000\n"
       ]
      },
      {
       "output_type": "stream",
       "stream": "stdout",
       "text": [
        "2014-12-04 18:33:53,242 INFO CLAW: Solution 2 computed for time t=1.000000\n"
       ]
      },
      {
       "output_type": "stream",
       "stream": "stdout",
       "text": [
        "2014-12-04 18:33:54,148 INFO CLAW: Solution 0 computed for time t=0.000000\n"
       ]
      },
      {
       "output_type": "stream",
       "stream": "stdout",
       "text": [
        "2014-12-04 18:33:54,156 INFO CLAW: Solution 1 computed for time t=0.500000\n"
       ]
      },
      {
       "output_type": "stream",
       "stream": "stdout",
       "text": [
        "2014-12-04 18:33:54,163 INFO CLAW: Solution 2 computed for time t=1.000000\n"
       ]
      },
      {
       "output_type": "stream",
       "stream": "stdout",
       "text": [
        "2014-12-04 18:33:55,046 INFO CLAW: Solution 0 computed for time t=0.000000\n"
       ]
      },
      {
       "output_type": "stream",
       "stream": "stdout",
       "text": [
        "2014-12-04 18:33:55,053 INFO CLAW: Solution 1 computed for time t=0.500000\n"
       ]
      },
      {
       "output_type": "stream",
       "stream": "stdout",
       "text": [
        "2014-12-04 18:33:55,060 INFO CLAW: Solution 2 computed for time t=1.000000\n"
       ]
      },
      {
       "output_type": "stream",
       "stream": "stdout",
       "text": [
        "2014-12-04 18:33:55,968 INFO CLAW: Solution 0 computed for time t=0.000000\n"
       ]
      },
      {
       "output_type": "stream",
       "stream": "stdout",
       "text": [
        "2014-12-04 18:33:55,976 INFO CLAW: Solution 1 computed for time t=0.500000\n"
       ]
      },
      {
       "output_type": "stream",
       "stream": "stdout",
       "text": [
        "2014-12-04 18:33:55,984 INFO CLAW: Solution 2 computed for time t=1.000000\n"
       ]
      },
      {
       "output_type": "stream",
       "stream": "stdout",
       "text": [
        "2014-12-04 18:33:56,884 INFO CLAW: Solution 0 computed for time t=0.000000\n"
       ]
      },
      {
       "output_type": "stream",
       "stream": "stdout",
       "text": [
        "2014-12-04 18:33:56,891 INFO CLAW: Solution 1 computed for time t=0.500000\n"
       ]
      },
      {
       "output_type": "stream",
       "stream": "stdout",
       "text": [
        "2014-12-04 18:33:56,899 INFO CLAW: Solution 2 computed for time t=1.000000\n"
       ]
      },
      {
       "output_type": "stream",
       "stream": "stdout",
       "text": [
        "2014-12-04 18:33:57,809 INFO CLAW: Solution 0 computed for time t=0.000000\n"
       ]
      },
      {
       "output_type": "stream",
       "stream": "stdout",
       "text": [
        "2014-12-04 18:33:57,816 INFO CLAW: Solution 1 computed for time t=0.500000\n"
       ]
      },
      {
       "output_type": "stream",
       "stream": "stdout",
       "text": [
        "2014-12-04 18:33:57,823 INFO CLAW: Solution 2 computed for time t=1.000000\n"
       ]
      },
      {
       "output_type": "stream",
       "stream": "stdout",
       "text": [
        "2014-12-04 18:33:58,766 INFO CLAW: Solution 0 computed for time t=0.000000\n"
       ]
      },
      {
       "output_type": "stream",
       "stream": "stdout",
       "text": [
        "2014-12-04 18:33:58,774 INFO CLAW: Solution 1 computed for time t=0.500000\n"
       ]
      },
      {
       "output_type": "stream",
       "stream": "stdout",
       "text": [
        "2014-12-04 18:33:58,784 INFO CLAW: Solution 2 computed for time t=1.000000\n"
       ]
      },
      {
       "output_type": "stream",
       "stream": "stdout",
       "text": [
        "2014-12-04 18:33:59,797 INFO CLAW: Solution 0 computed for time t=0.000000\n"
       ]
      },
      {
       "output_type": "stream",
       "stream": "stdout",
       "text": [
        "2014-12-04 18:33:59,804 INFO CLAW: Solution 1 computed for time t=0.500000\n"
       ]
      },
      {
       "output_type": "stream",
       "stream": "stdout",
       "text": [
        "2014-12-04 18:33:59,812 INFO CLAW: Solution 2 computed for time t=1.000000\n"
       ]
      },
      {
       "output_type": "stream",
       "stream": "stdout",
       "text": [
        "2014-12-04 18:34:00,748 INFO CLAW: Solution 0 computed for time t=0.000000\n"
       ]
      },
      {
       "output_type": "stream",
       "stream": "stdout",
       "text": [
        "2014-12-04 18:34:00,755 INFO CLAW: Solution 1 computed for time t=0.500000\n"
       ]
      },
      {
       "output_type": "stream",
       "stream": "stdout",
       "text": [
        "2014-12-04 18:34:00,762 INFO CLAW: Solution 2 computed for time t=1.000000\n"
       ]
      },
      {
       "output_type": "stream",
       "stream": "stdout",
       "text": [
        "2014-12-04 18:34:01,673 INFO CLAW: Solution 0 computed for time t=0.000000\n"
       ]
      },
      {
       "output_type": "stream",
       "stream": "stdout",
       "text": [
        "2014-12-04 18:34:01,680 INFO CLAW: Solution 1 computed for time t=0.500000\n"
       ]
      },
      {
       "output_type": "stream",
       "stream": "stdout",
       "text": [
        "2014-12-04 18:34:01,688 INFO CLAW: Solution 2 computed for time t=1.000000\n"
       ]
      },
      {
       "output_type": "stream",
       "stream": "stdout",
       "text": [
        "2014-12-04 18:34:02,580 INFO CLAW: Solution 0 computed for time t=0.000000\n"
       ]
      },
      {
       "output_type": "stream",
       "stream": "stdout",
       "text": [
        "2014-12-04 18:34:02,587 INFO CLAW: Solution 1 computed for time t=0.500000\n"
       ]
      },
      {
       "output_type": "stream",
       "stream": "stdout",
       "text": [
        "2014-12-04 18:34:02,594 INFO CLAW: Solution 2 computed for time t=1.000000\n"
       ]
      },
      {
       "output_type": "stream",
       "stream": "stdout",
       "text": [
        "2014-12-04 18:34:03,504 INFO CLAW: Solution 0 computed for time t=0.000000\n"
       ]
      },
      {
       "output_type": "stream",
       "stream": "stdout",
       "text": [
        "2014-12-04 18:34:03,511 INFO CLAW: Solution 1 computed for time t=0.500000\n"
       ]
      },
      {
       "output_type": "stream",
       "stream": "stdout",
       "text": [
        "2014-12-04 18:34:03,520 INFO CLAW: Solution 2 computed for time t=1.000000\n"
       ]
      },
      {
       "output_type": "stream",
       "stream": "stdout",
       "text": [
        "2014-12-04 18:34:04,415 INFO CLAW: Solution 0 computed for time t=0.000000\n"
       ]
      },
      {
       "output_type": "stream",
       "stream": "stdout",
       "text": [
        "2014-12-04 18:34:04,422 INFO CLAW: Solution 1 computed for time t=0.500000\n"
       ]
      },
      {
       "output_type": "stream",
       "stream": "stdout",
       "text": [
        "2014-12-04 18:34:04,430 INFO CLAW: Solution 2 computed for time t=1.000000\n"
       ]
      },
      {
       "output_type": "stream",
       "stream": "stdout",
       "text": [
        "2014-12-04 18:34:05,354 INFO CLAW: Solution 0 computed for time t=0.000000\n"
       ]
      },
      {
       "output_type": "stream",
       "stream": "stdout",
       "text": [
        "2014-12-04 18:34:05,361 INFO CLAW: Solution 1 computed for time t=0.500000\n"
       ]
      },
      {
       "output_type": "stream",
       "stream": "stdout",
       "text": [
        "2014-12-04 18:34:05,369 INFO CLAW: Solution 2 computed for time t=1.000000\n"
       ]
      },
      {
       "output_type": "stream",
       "stream": "stdout",
       "text": [
        "2014-12-04 18:34:06,224 INFO CLAW: Solution 0 computed for time t=0.000000\n"
       ]
      },
      {
       "output_type": "stream",
       "stream": "stdout",
       "text": [
        "2014-12-04 18:34:06,231 INFO CLAW: Solution 1 computed for time t=0.500000\n"
       ]
      },
      {
       "output_type": "stream",
       "stream": "stdout",
       "text": [
        "2014-12-04 18:34:06,242 INFO CLAW: Solution 2 computed for time t=1.000000\n"
       ]
      },
      {
       "output_type": "stream",
       "stream": "stdout",
       "text": [
        "2014-12-04 18:34:07,131 INFO CLAW: Solution 0 computed for time t=0.000000\n"
       ]
      },
      {
       "output_type": "stream",
       "stream": "stdout",
       "text": [
        "2014-12-04 18:34:07,138 INFO CLAW: Solution 1 computed for time t=0.500000\n"
       ]
      },
      {
       "output_type": "stream",
       "stream": "stdout",
       "text": [
        "2014-12-04 18:34:07,145 INFO CLAW: Solution 2 computed for time t=1.000000\n"
       ]
      },
      {
       "output_type": "stream",
       "stream": "stdout",
       "text": [
        "2014-12-04 18:34:08,011 INFO CLAW: Solution 0 computed for time t=0.000000\n"
       ]
      },
      {
       "output_type": "stream",
       "stream": "stdout",
       "text": [
        "2014-12-04 18:34:08,023 INFO CLAW: Solution 1 computed for time t=0.500000\n"
       ]
      },
      {
       "output_type": "stream",
       "stream": "stdout",
       "text": [
        "2014-12-04 18:34:08,030 INFO CLAW: Solution 2 computed for time t=1.000000\n"
       ]
      },
      {
       "output_type": "stream",
       "stream": "stdout",
       "text": [
        "2014-12-04 18:34:08,921 INFO CLAW: Solution 0 computed for time t=0.000000\n"
       ]
      },
      {
       "output_type": "stream",
       "stream": "stdout",
       "text": [
        "2014-12-04 18:34:08,929 INFO CLAW: Solution 1 computed for time t=0.500000\n"
       ]
      },
      {
       "output_type": "stream",
       "stream": "stdout",
       "text": [
        "2014-12-04 18:34:08,941 INFO CLAW: Solution 2 computed for time t=1.000000\n"
       ]
      },
      {
       "output_type": "stream",
       "stream": "stdout",
       "text": [
        "2014-12-04 18:34:09,848 INFO CLAW: Solution 0 computed for time t=0.000000\n"
       ]
      },
      {
       "output_type": "stream",
       "stream": "stdout",
       "text": [
        "2014-12-04 18:34:09,857 INFO CLAW: Solution 1 computed for time t=0.500000\n"
       ]
      },
      {
       "output_type": "stream",
       "stream": "stdout",
       "text": [
        "2014-12-04 18:34:09,868 INFO CLAW: Solution 2 computed for time t=1.000000\n"
       ]
      },
      {
       "output_type": "stream",
       "stream": "stdout",
       "text": [
        "2014-12-04 18:34:10,784 INFO CLAW: Solution 0 computed for time t=0.000000\n"
       ]
      },
      {
       "output_type": "stream",
       "stream": "stdout",
       "text": [
        "2014-12-04 18:34:10,792 INFO CLAW: Solution 1 computed for time t=0.500000\n"
       ]
      },
      {
       "output_type": "stream",
       "stream": "stdout",
       "text": [
        "2014-12-04 18:34:10,800 INFO CLAW: Solution 2 computed for time t=1.000000\n"
       ]
      },
      {
       "output_type": "stream",
       "stream": "stdout",
       "text": [
        "2014-12-04 18:34:11,721 INFO CLAW: Solution 0 computed for time t=0.000000\n"
       ]
      },
      {
       "output_type": "stream",
       "stream": "stdout",
       "text": [
        "2014-12-04 18:34:11,729 INFO CLAW: Solution 1 computed for time t=0.500000\n"
       ]
      },
      {
       "output_type": "stream",
       "stream": "stdout",
       "text": [
        "2014-12-04 18:34:11,736 INFO CLAW: Solution 2 computed for time t=1.000000\n"
       ]
      },
      {
       "output_type": "stream",
       "stream": "stdout",
       "text": [
        "2014-12-04 18:34:12,679 INFO CLAW: Solution 0 computed for time t=0.000000\n"
       ]
      },
      {
       "output_type": "stream",
       "stream": "stdout",
       "text": [
        "2014-12-04 18:34:12,687 INFO CLAW: Solution 1 computed for time t=0.500000\n"
       ]
      },
      {
       "output_type": "stream",
       "stream": "stdout",
       "text": [
        "2014-12-04 18:34:12,698 INFO CLAW: Solution 2 computed for time t=1.000000\n"
       ]
      },
      {
       "output_type": "stream",
       "stream": "stdout",
       "text": [
        "2014-12-04 18:34:13,709 INFO CLAW: Solution 0 computed for time t=0.000000\n"
       ]
      },
      {
       "output_type": "stream",
       "stream": "stdout",
       "text": [
        "2014-12-04 18:34:13,718 INFO CLAW: Solution 1 computed for time t=0.500000\n"
       ]
      },
      {
       "output_type": "stream",
       "stream": "stdout",
       "text": [
        "2014-12-04 18:34:13,726 INFO CLAW: Solution 2 computed for time t=1.000000\n"
       ]
      },
      {
       "output_type": "stream",
       "stream": "stdout",
       "text": [
        "2014-12-04 18:34:14,731 INFO CLAW: Solution 0 computed for time t=0.000000\n"
       ]
      },
      {
       "output_type": "stream",
       "stream": "stdout",
       "text": [
        "2014-12-04 18:34:14,743 INFO CLAW: Solution 1 computed for time t=0.500000\n"
       ]
      },
      {
       "output_type": "stream",
       "stream": "stdout",
       "text": [
        "2014-12-04 18:34:14,750 INFO CLAW: Solution 2 computed for time t=1.000000\n"
       ]
      },
      {
       "output_type": "stream",
       "stream": "stdout",
       "text": [
        "2014-12-04 18:34:15,666 INFO CLAW: Solution 0 computed for time t=0.000000\n"
       ]
      },
      {
       "output_type": "stream",
       "stream": "stdout",
       "text": [
        "2014-12-04 18:34:15,677 INFO CLAW: Solution 1 computed for time t=0.500000\n"
       ]
      },
      {
       "output_type": "stream",
       "stream": "stdout",
       "text": [
        "2014-12-04 18:34:15,683 INFO CLAW: Solution 2 computed for time t=1.000000\n"
       ]
      },
      {
       "output_type": "stream",
       "stream": "stdout",
       "text": [
        "2014-12-04 18:34:16,598 INFO CLAW: Solution 0 computed for time t=0.000000\n"
       ]
      },
      {
       "output_type": "stream",
       "stream": "stdout",
       "text": [
        "2014-12-04 18:34:16,606 INFO CLAW: Solution 1 computed for time t=0.500000\n"
       ]
      },
      {
       "output_type": "stream",
       "stream": "stdout",
       "text": [
        "2014-12-04 18:34:16,616 INFO CLAW: Solution 2 computed for time t=1.000000\n"
       ]
      },
      {
       "output_type": "stream",
       "stream": "stdout",
       "text": [
        "2014-12-04 18:34:17,516 INFO CLAW: Solution 0 computed for time t=0.000000\n"
       ]
      },
      {
       "output_type": "stream",
       "stream": "stdout",
       "text": [
        "2014-12-04 18:34:17,525 INFO CLAW: Solution 1 computed for time t=0.500000\n"
       ]
      },
      {
       "output_type": "stream",
       "stream": "stdout",
       "text": [
        "2014-12-04 18:34:17,532 INFO CLAW: Solution 2 computed for time t=1.000000\n"
       ]
      },
      {
       "output_type": "stream",
       "stream": "stdout",
       "text": [
        "2014-12-04 18:34:18,436 INFO CLAW: Solution 0 computed for time t=0.000000\n"
       ]
      },
      {
       "output_type": "stream",
       "stream": "stdout",
       "text": [
        "2014-12-04 18:34:18,444 INFO CLAW: Solution 1 computed for time t=0.500000\n"
       ]
      },
      {
       "output_type": "stream",
       "stream": "stdout",
       "text": [
        "2014-12-04 18:34:18,451 INFO CLAW: Solution 2 computed for time t=1.000000\n"
       ]
      },
      {
       "output_type": "stream",
       "stream": "stdout",
       "text": [
        "2014-12-04 18:34:19,364 INFO CLAW: Solution 0 computed for time t=0.000000\n"
       ]
      },
      {
       "output_type": "stream",
       "stream": "stdout",
       "text": [
        "2014-12-04 18:34:19,372 INFO CLAW: Solution 1 computed for time t=0.500000\n"
       ]
      },
      {
       "output_type": "stream",
       "stream": "stdout",
       "text": [
        "2014-12-04 18:34:19,382 INFO CLAW: Solution 2 computed for time t=1.000000\n"
       ]
      },
      {
       "output_type": "stream",
       "stream": "stdout",
       "text": [
        "2014-12-04 18:34:20,310 INFO CLAW: Solution 0 computed for time t=0.000000\n"
       ]
      },
      {
       "output_type": "stream",
       "stream": "stdout",
       "text": [
        "2014-12-04 18:34:20,322 INFO CLAW: Solution 1 computed for time t=0.500000\n"
       ]
      },
      {
       "output_type": "stream",
       "stream": "stdout",
       "text": [
        "2014-12-04 18:34:20,328 INFO CLAW: Solution 2 computed for time t=1.000000\n"
       ]
      },
      {
       "output_type": "stream",
       "stream": "stdout",
       "text": [
        "2014-12-04 18:34:21,286 INFO CLAW: Solution 0 computed for time t=0.000000\n"
       ]
      },
      {
       "output_type": "stream",
       "stream": "stdout",
       "text": [
        "2014-12-04 18:34:21,297 INFO CLAW: Solution 1 computed for time t=0.500000\n"
       ]
      },
      {
       "output_type": "stream",
       "stream": "stdout",
       "text": [
        "2014-12-04 18:34:21,304 INFO CLAW: Solution 2 computed for time t=1.000000\n"
       ]
      },
      {
       "output_type": "stream",
       "stream": "stdout",
       "text": [
        "2014-12-04 18:34:22,283 INFO CLAW: Solution 0 computed for time t=0.000000\n"
       ]
      },
      {
       "output_type": "stream",
       "stream": "stdout",
       "text": [
        "2014-12-04 18:34:22,295 INFO CLAW: Solution 1 computed for time t=0.500000\n"
       ]
      },
      {
       "output_type": "stream",
       "stream": "stdout",
       "text": [
        "2014-12-04 18:34:22,302 INFO CLAW: Solution 2 computed for time t=1.000000\n"
       ]
      },
      {
       "output_type": "stream",
       "stream": "stdout",
       "text": [
        "2014-12-04 18:34:23,232 INFO CLAW: Solution 0 computed for time t=0.000000\n"
       ]
      },
      {
       "output_type": "stream",
       "stream": "stdout",
       "text": [
        "2014-12-04 18:34:23,239 INFO CLAW: Solution 1 computed for time t=0.500000\n"
       ]
      },
      {
       "output_type": "stream",
       "stream": "stdout",
       "text": [
        "2014-12-04 18:34:23,246 INFO CLAW: Solution 2 computed for time t=1.000000\n"
       ]
      },
      {
       "output_type": "stream",
       "stream": "stdout",
       "text": [
        "2014-12-04 18:34:24,144 INFO CLAW: Solution 0 computed for time t=0.000000\n"
       ]
      },
      {
       "output_type": "stream",
       "stream": "stdout",
       "text": [
        "2014-12-04 18:34:24,151 INFO CLAW: Solution 1 computed for time t=0.500000\n"
       ]
      },
      {
       "output_type": "stream",
       "stream": "stdout",
       "text": [
        "2014-12-04 18:34:24,159 INFO CLAW: Solution 2 computed for time t=1.000000\n"
       ]
      },
      {
       "output_type": "stream",
       "stream": "stdout",
       "text": [
        "2014-12-04 18:34:25,056 INFO CLAW: Solution 0 computed for time t=0.000000\n"
       ]
      },
      {
       "output_type": "stream",
       "stream": "stdout",
       "text": [
        "2014-12-04 18:34:25,063 INFO CLAW: Solution 1 computed for time t=0.500000\n"
       ]
      },
      {
       "output_type": "stream",
       "stream": "stdout",
       "text": [
        "2014-12-04 18:34:25,071 INFO CLAW: Solution 2 computed for time t=1.000000\n"
       ]
      },
      {
       "output_type": "stream",
       "stream": "stdout",
       "text": [
        "2014-12-04 18:34:25,955 INFO CLAW: Solution 0 computed for time t=0.000000\n"
       ]
      },
      {
       "output_type": "stream",
       "stream": "stdout",
       "text": [
        "2014-12-04 18:34:25,962 INFO CLAW: Solution 1 computed for time t=0.500000\n"
       ]
      },
      {
       "output_type": "stream",
       "stream": "stdout",
       "text": [
        "2014-12-04 18:34:25,973 INFO CLAW: Solution 2 computed for time t=1.000000\n"
       ]
      },
      {
       "output_type": "stream",
       "stream": "stdout",
       "text": [
        "2014-12-04 18:34:26,902 INFO CLAW: Solution 0 computed for time t=0.000000\n"
       ]
      },
      {
       "output_type": "stream",
       "stream": "stdout",
       "text": [
        "2014-12-04 18:34:26,910 INFO CLAW: Solution 1 computed for time t=0.500000\n"
       ]
      },
      {
       "output_type": "stream",
       "stream": "stdout",
       "text": [
        "2014-12-04 18:34:26,920 INFO CLAW: Solution 2 computed for time t=1.000000\n"
       ]
      },
      {
       "output_type": "stream",
       "stream": "stdout",
       "text": [
        "2014-12-04 18:34:27,824 INFO CLAW: Solution 0 computed for time t=0.000000\n"
       ]
      },
      {
       "output_type": "stream",
       "stream": "stdout",
       "text": [
        "2014-12-04 18:34:27,834 INFO CLAW: Solution 1 computed for time t=0.500000\n"
       ]
      },
      {
       "output_type": "stream",
       "stream": "stdout",
       "text": [
        "2014-12-04 18:34:27,841 INFO CLAW: Solution 2 computed for time t=1.000000\n"
       ]
      },
      {
       "output_type": "stream",
       "stream": "stdout",
       "text": [
        "2014-12-04 18:34:28,746 INFO CLAW: Solution 0 computed for time t=0.000000\n"
       ]
      },
      {
       "output_type": "stream",
       "stream": "stdout",
       "text": [
        "2014-12-04 18:34:28,757 INFO CLAW: Solution 1 computed for time t=0.500000\n"
       ]
      },
      {
       "output_type": "stream",
       "stream": "stdout",
       "text": [
        "2014-12-04 18:34:28,769 INFO CLAW: Solution 2 computed for time t=1.000000\n"
       ]
      },
      {
       "output_type": "stream",
       "stream": "stdout",
       "text": [
        "2014-12-04 18:34:29,746 INFO CLAW: Solution 0 computed for time t=0.000000\n"
       ]
      },
      {
       "output_type": "stream",
       "stream": "stdout",
       "text": [
        "2014-12-04 18:34:29,763 INFO CLAW: Solution 1 computed for time t=0.500000\n"
       ]
      },
      {
       "output_type": "stream",
       "stream": "stdout",
       "text": [
        "2014-12-04 18:34:29,770 INFO CLAW: Solution 2 computed for time t=1.000000\n"
       ]
      },
      {
       "output_type": "stream",
       "stream": "stdout",
       "text": [
        "2014-12-04 18:34:30,708 INFO CLAW: Solution 0 computed for time t=0.000000\n"
       ]
      },
      {
       "output_type": "stream",
       "stream": "stdout",
       "text": [
        "2014-12-04 18:34:30,716 INFO CLAW: Solution 1 computed for time t=0.500000\n"
       ]
      },
      {
       "output_type": "stream",
       "stream": "stdout",
       "text": [
        "2014-12-04 18:34:30,723 INFO CLAW: Solution 2 computed for time t=1.000000\n"
       ]
      },
      {
       "output_type": "stream",
       "stream": "stdout",
       "text": [
        "2014-12-04 18:34:31,618 INFO CLAW: Solution 0 computed for time t=0.000000\n"
       ]
      },
      {
       "output_type": "stream",
       "stream": "stdout",
       "text": [
        "2014-12-04 18:34:31,626 INFO CLAW: Solution 1 computed for time t=0.500000\n"
       ]
      },
      {
       "output_type": "stream",
       "stream": "stdout",
       "text": [
        "2014-12-04 18:34:31,634 INFO CLAW: Solution 2 computed for time t=1.000000\n"
       ]
      },
      {
       "output_type": "stream",
       "stream": "stdout",
       "text": [
        "2014-12-04 18:34:32,509 INFO CLAW: Solution 0 computed for time t=0.000000\n"
       ]
      },
      {
       "output_type": "stream",
       "stream": "stdout",
       "text": [
        "2014-12-04 18:34:32,517 INFO CLAW: Solution 1 computed for time t=0.500000\n"
       ]
      },
      {
       "output_type": "stream",
       "stream": "stdout",
       "text": [
        "2014-12-04 18:34:32,524 INFO CLAW: Solution 2 computed for time t=1.000000\n"
       ]
      },
      {
       "output_type": "stream",
       "stream": "stdout",
       "text": [
        "2014-12-04 18:34:33,437 INFO CLAW: Solution 0 computed for time t=0.000000\n"
       ]
      },
      {
       "output_type": "stream",
       "stream": "stdout",
       "text": [
        "2014-12-04 18:34:33,445 INFO CLAW: Solution 1 computed for time t=0.500000\n"
       ]
      },
      {
       "output_type": "stream",
       "stream": "stdout",
       "text": [
        "2014-12-04 18:34:33,452 INFO CLAW: Solution 2 computed for time t=1.000000\n"
       ]
      },
      {
       "output_type": "stream",
       "stream": "stdout",
       "text": [
        "2014-12-04 18:34:34,374 INFO CLAW: Solution 0 computed for time t=0.000000\n"
       ]
      },
      {
       "output_type": "stream",
       "stream": "stdout",
       "text": [
        "2014-12-04 18:34:34,381 INFO CLAW: Solution 1 computed for time t=0.500000\n"
       ]
      },
      {
       "output_type": "stream",
       "stream": "stdout",
       "text": [
        "2014-12-04 18:34:34,389 INFO CLAW: Solution 2 computed for time t=1.000000\n"
       ]
      },
      {
       "output_type": "stream",
       "stream": "stdout",
       "text": [
        "2014-12-04 18:34:35,336 INFO CLAW: Solution 0 computed for time t=0.000000\n"
       ]
      },
      {
       "output_type": "stream",
       "stream": "stdout",
       "text": [
        "2014-12-04 18:34:35,343 INFO CLAW: Solution 1 computed for time t=0.500000\n"
       ]
      },
      {
       "output_type": "stream",
       "stream": "stdout",
       "text": [
        "2014-12-04 18:34:35,351 INFO CLAW: Solution 2 computed for time t=1.000000\n"
       ]
      },
      {
       "output_type": "stream",
       "stream": "stdout",
       "text": [
        "2014-12-04 18:34:36,373 INFO CLAW: Solution 0 computed for time t=0.000000\n"
       ]
      },
      {
       "output_type": "stream",
       "stream": "stdout",
       "text": [
        "2014-12-04 18:34:36,380 INFO CLAW: Solution 1 computed for time t=0.500000\n"
       ]
      },
      {
       "output_type": "stream",
       "stream": "stdout",
       "text": [
        "2014-12-04 18:34:36,388 INFO CLAW: Solution 2 computed for time t=1.000000\n"
       ]
      },
      {
       "output_type": "stream",
       "stream": "stdout",
       "text": [
        "2014-12-04 18:34:37,343 INFO CLAW: Solution 0 computed for time t=0.000000\n"
       ]
      },
      {
       "output_type": "stream",
       "stream": "stdout",
       "text": [
        "2014-12-04 18:34:37,351 INFO CLAW: Solution 1 computed for time t=0.500000\n"
       ]
      },
      {
       "output_type": "stream",
       "stream": "stdout",
       "text": [
        "2014-12-04 18:34:37,358 INFO CLAW: Solution 2 computed for time t=1.000000\n"
       ]
      },
      {
       "output_type": "stream",
       "stream": "stdout",
       "text": [
        "2014-12-04 18:34:38,249 INFO CLAW: Solution 0 computed for time t=0.000000\n"
       ]
      },
      {
       "output_type": "stream",
       "stream": "stdout",
       "text": [
        "2014-12-04 18:34:38,256 INFO CLAW: Solution 1 computed for time t=0.500000\n"
       ]
      },
      {
       "output_type": "stream",
       "stream": "stdout",
       "text": [
        "2014-12-04 18:34:38,267 INFO CLAW: Solution 2 computed for time t=1.000000\n"
       ]
      },
      {
       "output_type": "stream",
       "stream": "stdout",
       "text": [
        "2014-12-04 18:34:39,169 INFO CLAW: Solution 0 computed for time t=0.000000\n"
       ]
      },
      {
       "output_type": "stream",
       "stream": "stdout",
       "text": [
        "2014-12-04 18:34:39,181 INFO CLAW: Solution 1 computed for time t=0.500000\n"
       ]
      },
      {
       "output_type": "stream",
       "stream": "stdout",
       "text": [
        "2014-12-04 18:34:39,192 INFO CLAW: Solution 2 computed for time t=1.000000\n"
       ]
      },
      {
       "output_type": "stream",
       "stream": "stdout",
       "text": [
        "2014-12-04 18:34:40,096 INFO CLAW: Solution 0 computed for time t=0.000000\n"
       ]
      },
      {
       "output_type": "stream",
       "stream": "stdout",
       "text": [
        "2014-12-04 18:34:40,103 INFO CLAW: Solution 1 computed for time t=0.500000\n"
       ]
      },
      {
       "output_type": "stream",
       "stream": "stdout",
       "text": [
        "2014-12-04 18:34:40,111 INFO CLAW: Solution 2 computed for time t=1.000000\n"
       ]
      },
      {
       "output_type": "stream",
       "stream": "stdout",
       "text": [
        "2014-12-04 18:34:41,010 INFO CLAW: Solution 0 computed for time t=0.000000\n"
       ]
      },
      {
       "output_type": "stream",
       "stream": "stdout",
       "text": [
        "2014-12-04 18:34:41,017 INFO CLAW: Solution 1 computed for time t=0.500000\n"
       ]
      },
      {
       "output_type": "stream",
       "stream": "stdout",
       "text": [
        "2014-12-04 18:34:41,024 INFO CLAW: Solution 2 computed for time t=1.000000\n"
       ]
      },
      {
       "output_type": "stream",
       "stream": "stdout",
       "text": [
        "2014-12-04 18:34:41,914 INFO CLAW: Solution 0 computed for time t=0.000000\n"
       ]
      },
      {
       "output_type": "stream",
       "stream": "stdout",
       "text": [
        "2014-12-04 18:34:41,926 INFO CLAW: Solution 1 computed for time t=0.500000\n"
       ]
      },
      {
       "output_type": "stream",
       "stream": "stdout",
       "text": [
        "2014-12-04 18:34:41,937 INFO CLAW: Solution 2 computed for time t=1.000000\n"
       ]
      },
      {
       "output_type": "stream",
       "stream": "stdout",
       "text": [
        "2014-12-04 18:34:42,843 INFO CLAW: Solution 0 computed for time t=0.000000\n"
       ]
      },
      {
       "output_type": "stream",
       "stream": "stdout",
       "text": [
        "2014-12-04 18:34:42,850 INFO CLAW: Solution 1 computed for time t=0.500000\n"
       ]
      },
      {
       "output_type": "stream",
       "stream": "stdout",
       "text": [
        "2014-12-04 18:34:42,859 INFO CLAW: Solution 2 computed for time t=1.000000\n"
       ]
      },
      {
       "output_type": "stream",
       "stream": "stdout",
       "text": [
        "2014-12-04 18:34:43,750 INFO CLAW: Solution 0 computed for time t=0.000000\n"
       ]
      },
      {
       "output_type": "stream",
       "stream": "stdout",
       "text": [
        "2014-12-04 18:34:43,758 INFO CLAW: Solution 1 computed for time t=0.500000\n"
       ]
      },
      {
       "output_type": "stream",
       "stream": "stdout",
       "text": [
        "2014-12-04 18:34:43,765 INFO CLAW: Solution 2 computed for time t=1.000000\n"
       ]
      },
      {
       "output_type": "stream",
       "stream": "stdout",
       "text": [
        "2014-12-04 18:34:44,665 INFO CLAW: Solution 0 computed for time t=0.000000\n"
       ]
      },
      {
       "output_type": "stream",
       "stream": "stdout",
       "text": [
        "2014-12-04 18:34:44,676 INFO CLAW: Solution 1 computed for time t=0.500000\n"
       ]
      },
      {
       "output_type": "stream",
       "stream": "stdout",
       "text": [
        "2014-12-04 18:34:44,683 INFO CLAW: Solution 2 computed for time t=1.000000\n"
       ]
      },
      {
       "output_type": "stream",
       "stream": "stdout",
       "text": [
        "2014-12-04 18:34:45,617 INFO CLAW: Solution 0 computed for time t=0.000000\n"
       ]
      },
      {
       "output_type": "stream",
       "stream": "stdout",
       "text": [
        "2014-12-04 18:34:45,627 INFO CLAW: Solution 1 computed for time t=0.500000\n"
       ]
      },
      {
       "output_type": "stream",
       "stream": "stdout",
       "text": [
        "2014-12-04 18:34:45,634 INFO CLAW: Solution 2 computed for time t=1.000000\n"
       ]
      },
      {
       "output_type": "stream",
       "stream": "stdout",
       "text": [
        "2014-12-04 18:34:46,523 INFO CLAW: Solution 0 computed for time t=0.000000\n"
       ]
      },
      {
       "output_type": "stream",
       "stream": "stdout",
       "text": [
        "2014-12-04 18:34:46,530 INFO CLAW: Solution 1 computed for time t=0.500000\n"
       ]
      },
      {
       "output_type": "stream",
       "stream": "stdout",
       "text": [
        "2014-12-04 18:34:46,540 INFO CLAW: Solution 2 computed for time t=1.000000\n"
       ]
      },
      {
       "output_type": "stream",
       "stream": "stdout",
       "text": [
        "2014-12-04 18:34:47,460 INFO CLAW: Solution 0 computed for time t=0.000000\n"
       ]
      },
      {
       "output_type": "stream",
       "stream": "stdout",
       "text": [
        "2014-12-04 18:34:47,468 INFO CLAW: Solution 1 computed for time t=0.500000\n"
       ]
      },
      {
       "output_type": "stream",
       "stream": "stdout",
       "text": [
        "2014-12-04 18:34:47,476 INFO CLAW: Solution 2 computed for time t=1.000000\n"
       ]
      },
      {
       "output_type": "stream",
       "stream": "stdout",
       "text": [
        "2014-12-04 18:34:48,362 INFO CLAW: Solution 0 computed for time t=0.000000\n"
       ]
      },
      {
       "output_type": "stream",
       "stream": "stdout",
       "text": [
        "2014-12-04 18:34:48,369 INFO CLAW: Solution 1 computed for time t=0.500000\n"
       ]
      },
      {
       "output_type": "stream",
       "stream": "stdout",
       "text": [
        "2014-12-04 18:34:48,376 INFO CLAW: Solution 2 computed for time t=1.000000\n"
       ]
      },
      {
       "output_type": "stream",
       "stream": "stdout",
       "text": [
        "2014-12-04 18:34:49,284 INFO CLAW: Solution 0 computed for time t=0.000000\n"
       ]
      },
      {
       "output_type": "stream",
       "stream": "stdout",
       "text": [
        "2014-12-04 18:34:49,295 INFO CLAW: Solution 1 computed for time t=0.500000\n"
       ]
      },
      {
       "output_type": "stream",
       "stream": "stdout",
       "text": [
        "2014-12-04 18:34:49,305 INFO CLAW: Solution 2 computed for time t=1.000000\n"
       ]
      },
      {
       "output_type": "stream",
       "stream": "stdout",
       "text": [
        "2014-12-04 18:34:50,274 INFO CLAW: Solution 0 computed for time t=0.000000\n"
       ]
      },
      {
       "output_type": "stream",
       "stream": "stdout",
       "text": [
        "2014-12-04 18:34:50,281 INFO CLAW: Solution 1 computed for time t=0.500000\n"
       ]
      },
      {
       "output_type": "stream",
       "stream": "stdout",
       "text": [
        "2014-12-04 18:34:50,289 INFO CLAW: Solution 2 computed for time t=1.000000\n"
       ]
      },
      {
       "output_type": "stream",
       "stream": "stdout",
       "text": [
        "2014-12-04 18:34:51,322 INFO CLAW: Solution 0 computed for time t=0.000000\n"
       ]
      },
      {
       "output_type": "stream",
       "stream": "stdout",
       "text": [
        "2014-12-04 18:34:51,329 INFO CLAW: Solution 1 computed for time t=0.500000\n"
       ]
      },
      {
       "output_type": "stream",
       "stream": "stdout",
       "text": [
        "2014-12-04 18:34:51,337 INFO CLAW: Solution 2 computed for time t=1.000000\n"
       ]
      },
      {
       "output_type": "stream",
       "stream": "stdout",
       "text": [
        "2014-12-04 18:34:52,243 INFO CLAW: Solution 0 computed for time t=0.000000\n"
       ]
      },
      {
       "output_type": "stream",
       "stream": "stdout",
       "text": [
        "2014-12-04 18:34:52,252 INFO CLAW: Solution 1 computed for time t=0.500000\n"
       ]
      },
      {
       "output_type": "stream",
       "stream": "stdout",
       "text": [
        "2014-12-04 18:34:52,260 INFO CLAW: Solution 2 computed for time t=1.000000\n"
       ]
      },
      {
       "output_type": "stream",
       "stream": "stdout",
       "text": [
        "2014-12-04 18:34:53,177 INFO CLAW: Solution 0 computed for time t=0.000000\n"
       ]
      },
      {
       "output_type": "stream",
       "stream": "stdout",
       "text": [
        "2014-12-04 18:34:53,184 INFO CLAW: Solution 1 computed for time t=0.500000\n"
       ]
      },
      {
       "output_type": "stream",
       "stream": "stdout",
       "text": [
        "2014-12-04 18:34:53,192 INFO CLAW: Solution 2 computed for time t=1.000000\n"
       ]
      },
      {
       "output_type": "stream",
       "stream": "stdout",
       "text": [
        "2014-12-04 18:34:54,083 INFO CLAW: Solution 0 computed for time t=0.000000\n"
       ]
      },
      {
       "output_type": "stream",
       "stream": "stdout",
       "text": [
        "2014-12-04 18:34:54,090 INFO CLAW: Solution 1 computed for time t=0.500000\n"
       ]
      },
      {
       "output_type": "stream",
       "stream": "stdout",
       "text": [
        "2014-12-04 18:34:54,098 INFO CLAW: Solution 2 computed for time t=1.000000\n"
       ]
      },
      {
       "output_type": "stream",
       "stream": "stdout",
       "text": [
        "2014-12-04 18:34:55,004 INFO CLAW: Solution 0 computed for time t=0.000000\n"
       ]
      },
      {
       "output_type": "stream",
       "stream": "stdout",
       "text": [
        "2014-12-04 18:34:55,012 INFO CLAW: Solution 1 computed for time t=0.500000\n"
       ]
      },
      {
       "output_type": "stream",
       "stream": "stdout",
       "text": [
        "2014-12-04 18:34:55,020 INFO CLAW: Solution 2 computed for time t=1.000000\n"
       ]
      },
      {
       "output_type": "stream",
       "stream": "stdout",
       "text": [
        "2014-12-04 18:34:55,913 INFO CLAW: Solution 0 computed for time t=0.000000\n"
       ]
      },
      {
       "output_type": "stream",
       "stream": "stdout",
       "text": [
        "2014-12-04 18:34:55,921 INFO CLAW: Solution 1 computed for time t=0.500000\n"
       ]
      },
      {
       "output_type": "stream",
       "stream": "stdout",
       "text": [
        "2014-12-04 18:34:55,928 INFO CLAW: Solution 2 computed for time t=1.000000\n"
       ]
      },
      {
       "output_type": "stream",
       "stream": "stdout",
       "text": [
        "2014-12-04 18:34:56,815 INFO CLAW: Solution 0 computed for time t=0.000000\n"
       ]
      },
      {
       "output_type": "stream",
       "stream": "stdout",
       "text": [
        "2014-12-04 18:34:56,827 INFO CLAW: Solution 1 computed for time t=0.500000\n"
       ]
      },
      {
       "output_type": "stream",
       "stream": "stdout",
       "text": [
        "2014-12-04 18:34:56,837 INFO CLAW: Solution 2 computed for time t=1.000000\n"
       ]
      },
      {
       "output_type": "stream",
       "stream": "stdout",
       "text": [
        "2014-12-04 18:34:57,733 INFO CLAW: Solution 0 computed for time t=0.000000\n"
       ]
      },
      {
       "output_type": "stream",
       "stream": "stdout",
       "text": [
        "2014-12-04 18:34:57,742 INFO CLAW: Solution 1 computed for time t=0.500000\n"
       ]
      },
      {
       "output_type": "stream",
       "stream": "stdout",
       "text": [
        "2014-12-04 18:34:57,749 INFO CLAW: Solution 2 computed for time t=1.000000\n"
       ]
      },
      {
       "output_type": "stream",
       "stream": "stdout",
       "text": [
        "2014-12-04 18:34:58,660 INFO CLAW: Solution 0 computed for time t=0.000000\n"
       ]
      },
      {
       "output_type": "stream",
       "stream": "stdout",
       "text": [
        "2014-12-04 18:34:58,667 INFO CLAW: Solution 1 computed for time t=0.500000\n"
       ]
      },
      {
       "output_type": "stream",
       "stream": "stdout",
       "text": [
        "2014-12-04 18:34:58,678 INFO CLAW: Solution 2 computed for time t=1.000000\n"
       ]
      },
      {
       "output_type": "stream",
       "stream": "stdout",
       "text": [
        "2014-12-04 18:34:59,590 INFO CLAW: Solution 0 computed for time t=0.000000\n"
       ]
      },
      {
       "output_type": "stream",
       "stream": "stdout",
       "text": [
        "2014-12-04 18:34:59,597 INFO CLAW: Solution 1 computed for time t=0.500000\n"
       ]
      },
      {
       "output_type": "stream",
       "stream": "stdout",
       "text": [
        "2014-12-04 18:34:59,605 INFO CLAW: Solution 2 computed for time t=1.000000\n"
       ]
      },
      {
       "output_type": "stream",
       "stream": "stdout",
       "text": [
        "2014-12-04 18:35:00,513 INFO CLAW: Solution 0 computed for time t=0.000000\n"
       ]
      },
      {
       "output_type": "stream",
       "stream": "stdout",
       "text": [
        "2014-12-04 18:35:00,520 INFO CLAW: Solution 1 computed for time t=0.500000\n"
       ]
      },
      {
       "output_type": "stream",
       "stream": "stdout",
       "text": [
        "2014-12-04 18:35:00,528 INFO CLAW: Solution 2 computed for time t=1.000000\n"
       ]
      },
      {
       "output_type": "stream",
       "stream": "stdout",
       "text": [
        "2014-12-04 18:35:01,410 INFO CLAW: Solution 0 computed for time t=0.000000\n"
       ]
      },
      {
       "output_type": "stream",
       "stream": "stdout",
       "text": [
        "2014-12-04 18:35:01,417 INFO CLAW: Solution 1 computed for time t=0.500000\n"
       ]
      },
      {
       "output_type": "stream",
       "stream": "stdout",
       "text": [
        "2014-12-04 18:35:01,424 INFO CLAW: Solution 2 computed for time t=1.000000\n"
       ]
      },
      {
       "output_type": "stream",
       "stream": "stdout",
       "text": [
        "2014-12-04 18:35:02,345 INFO CLAW: Solution 0 computed for time t=0.000000\n"
       ]
      },
      {
       "output_type": "stream",
       "stream": "stdout",
       "text": [
        "2014-12-04 18:35:02,355 INFO CLAW: Solution 1 computed for time t=0.500000\n"
       ]
      },
      {
       "output_type": "stream",
       "stream": "stdout",
       "text": [
        "2014-12-04 18:35:02,364 INFO CLAW: Solution 2 computed for time t=1.000000\n"
       ]
      },
      {
       "output_type": "stream",
       "stream": "stdout",
       "text": [
        "2014-12-04 18:35:03,266 INFO CLAW: Solution 0 computed for time t=0.000000\n"
       ]
      },
      {
       "output_type": "stream",
       "stream": "stdout",
       "text": [
        "2014-12-04 18:35:03,273 INFO CLAW: Solution 1 computed for time t=0.500000\n"
       ]
      },
      {
       "output_type": "stream",
       "stream": "stdout",
       "text": [
        "2014-12-04 18:35:03,283 INFO CLAW: Solution 2 computed for time t=1.000000\n"
       ]
      },
      {
       "output_type": "stream",
       "stream": "stdout",
       "text": [
        "2014-12-04 18:35:04,290 INFO CLAW: Solution 0 computed for time t=0.000000\n"
       ]
      },
      {
       "output_type": "stream",
       "stream": "stdout",
       "text": [
        "2014-12-04 18:35:04,298 INFO CLAW: Solution 1 computed for time t=0.500000\n"
       ]
      },
      {
       "output_type": "stream",
       "stream": "stdout",
       "text": [
        "2014-12-04 18:35:04,305 INFO CLAW: Solution 2 computed for time t=1.000000\n"
       ]
      },
      {
       "output_type": "stream",
       "stream": "stdout",
       "text": [
        "2014-12-04 18:35:05,266 INFO CLAW: Solution 0 computed for time t=0.000000\n"
       ]
      },
      {
       "output_type": "stream",
       "stream": "stdout",
       "text": [
        "2014-12-04 18:35:05,273 INFO CLAW: Solution 1 computed for time t=0.500000\n"
       ]
      },
      {
       "output_type": "stream",
       "stream": "stdout",
       "text": [
        "2014-12-04 18:35:05,281 INFO CLAW: Solution 2 computed for time t=1.000000\n"
       ]
      },
      {
       "output_type": "stream",
       "stream": "stdout",
       "text": [
        "2014-12-04 18:35:06,261 INFO CLAW: Solution 0 computed for time t=0.000000\n"
       ]
      },
      {
       "output_type": "stream",
       "stream": "stdout",
       "text": [
        "2014-12-04 18:35:06,269 INFO CLAW: Solution 1 computed for time t=0.500000\n"
       ]
      },
      {
       "output_type": "stream",
       "stream": "stdout",
       "text": [
        "2014-12-04 18:35:06,279 INFO CLAW: Solution 2 computed for time t=1.000000\n"
       ]
      },
      {
       "output_type": "stream",
       "stream": "stdout",
       "text": [
        "2014-12-04 18:35:07,192 INFO CLAW: Solution 0 computed for time t=0.000000\n"
       ]
      },
      {
       "output_type": "stream",
       "stream": "stdout",
       "text": [
        "2014-12-04 18:35:07,200 INFO CLAW: Solution 1 computed for time t=0.500000\n"
       ]
      },
      {
       "output_type": "stream",
       "stream": "stdout",
       "text": [
        "2014-12-04 18:35:07,211 INFO CLAW: Solution 2 computed for time t=1.000000\n"
       ]
      },
      {
       "output_type": "stream",
       "stream": "stdout",
       "text": [
        "2014-12-04 18:35:08,147 INFO CLAW: Solution 0 computed for time t=0.000000\n"
       ]
      },
      {
       "output_type": "stream",
       "stream": "stdout",
       "text": [
        "2014-12-04 18:35:08,156 INFO CLAW: Solution 1 computed for time t=0.500000\n"
       ]
      },
      {
       "output_type": "stream",
       "stream": "stdout",
       "text": [
        "2014-12-04 18:35:08,168 INFO CLAW: Solution 2 computed for time t=1.000000\n"
       ]
      },
      {
       "output_type": "stream",
       "stream": "stdout",
       "text": [
        "2014-12-04 18:35:09,079 INFO CLAW: Solution 0 computed for time t=0.000000\n"
       ]
      },
      {
       "output_type": "stream",
       "stream": "stdout",
       "text": [
        "2014-12-04 18:35:09,087 INFO CLAW: Solution 1 computed for time t=0.500000\n"
       ]
      },
      {
       "output_type": "stream",
       "stream": "stdout",
       "text": [
        "2014-12-04 18:35:09,098 INFO CLAW: Solution 2 computed for time t=1.000000\n"
       ]
      },
      {
       "output_type": "stream",
       "stream": "stdout",
       "text": [
        "2014-12-04 18:35:10,043 INFO CLAW: Solution 0 computed for time t=0.000000\n"
       ]
      },
      {
       "output_type": "stream",
       "stream": "stdout",
       "text": [
        "2014-12-04 18:35:10,050 INFO CLAW: Solution 1 computed for time t=0.500000\n"
       ]
      },
      {
       "output_type": "stream",
       "stream": "stdout",
       "text": [
        "2014-12-04 18:35:10,058 INFO CLAW: Solution 2 computed for time t=1.000000\n"
       ]
      },
      {
       "output_type": "stream",
       "stream": "stdout",
       "text": [
        "2014-12-04 18:35:10,943 INFO CLAW: Solution 0 computed for time t=0.000000\n"
       ]
      },
      {
       "output_type": "stream",
       "stream": "stdout",
       "text": [
        "2014-12-04 18:35:10,950 INFO CLAW: Solution 1 computed for time t=0.500000\n"
       ]
      },
      {
       "output_type": "stream",
       "stream": "stdout",
       "text": [
        "2014-12-04 18:35:10,959 INFO CLAW: Solution 2 computed for time t=1.000000\n"
       ]
      },
      {
       "output_type": "stream",
       "stream": "stdout",
       "text": [
        "2014-12-04 18:35:11,872 INFO CLAW: Solution 0 computed for time t=0.000000\n"
       ]
      },
      {
       "output_type": "stream",
       "stream": "stdout",
       "text": [
        "2014-12-04 18:35:11,880 INFO CLAW: Solution 1 computed for time t=0.500000\n"
       ]
      },
      {
       "output_type": "stream",
       "stream": "stdout",
       "text": [
        "2014-12-04 18:35:11,887 INFO CLAW: Solution 2 computed for time t=1.000000\n"
       ]
      },
      {
       "output_type": "stream",
       "stream": "stdout",
       "text": [
        "2014-12-04 18:35:12,790 INFO CLAW: Solution 0 computed for time t=0.000000\n"
       ]
      },
      {
       "output_type": "stream",
       "stream": "stdout",
       "text": [
        "2014-12-04 18:35:12,797 INFO CLAW: Solution 1 computed for time t=0.500000\n"
       ]
      },
      {
       "output_type": "stream",
       "stream": "stdout",
       "text": [
        "2014-12-04 18:35:12,804 INFO CLAW: Solution 2 computed for time t=1.000000\n"
       ]
      },
      {
       "output_type": "stream",
       "stream": "stdout",
       "text": [
        "2014-12-04 18:35:13,709 INFO CLAW: Solution 0 computed for time t=0.000000\n"
       ]
      },
      {
       "output_type": "stream",
       "stream": "stdout",
       "text": [
        "2014-12-04 18:35:13,716 INFO CLAW: Solution 1 computed for time t=0.500000\n"
       ]
      },
      {
       "output_type": "stream",
       "stream": "stdout",
       "text": [
        "2014-12-04 18:35:13,724 INFO CLAW: Solution 2 computed for time t=1.000000\n"
       ]
      },
      {
       "output_type": "stream",
       "stream": "stdout",
       "text": [
        "2014-12-04 18:35:14,633 INFO CLAW: Solution 0 computed for time t=0.000000\n"
       ]
      },
      {
       "output_type": "stream",
       "stream": "stdout",
       "text": [
        "2014-12-04 18:35:14,640 INFO CLAW: Solution 1 computed for time t=0.500000\n"
       ]
      },
      {
       "output_type": "stream",
       "stream": "stdout",
       "text": [
        "2014-12-04 18:35:14,650 INFO CLAW: Solution 2 computed for time t=1.000000\n"
       ]
      },
      {
       "output_type": "stream",
       "stream": "stdout",
       "text": [
        "2014-12-04 18:35:15,561 INFO CLAW: Solution 0 computed for time t=0.000000\n"
       ]
      },
      {
       "output_type": "stream",
       "stream": "stdout",
       "text": [
        "2014-12-04 18:35:15,569 INFO CLAW: Solution 1 computed for time t=0.500000\n"
       ]
      },
      {
       "output_type": "stream",
       "stream": "stdout",
       "text": [
        "2014-12-04 18:35:15,576 INFO CLAW: Solution 2 computed for time t=1.000000\n"
       ]
      },
      {
       "output_type": "stream",
       "stream": "stdout",
       "text": [
        "2014-12-04 18:35:16,470 INFO CLAW: Solution 0 computed for time t=0.000000\n"
       ]
      },
      {
       "output_type": "stream",
       "stream": "stdout",
       "text": [
        "2014-12-04 18:35:16,478 INFO CLAW: Solution 1 computed for time t=0.500000\n"
       ]
      },
      {
       "output_type": "stream",
       "stream": "stdout",
       "text": [
        "2014-12-04 18:35:16,489 INFO CLAW: Solution 2 computed for time t=1.000000\n"
       ]
      },
      {
       "output_type": "stream",
       "stream": "stdout",
       "text": [
        "2014-12-04 18:35:17,432 INFO CLAW: Solution 0 computed for time t=0.000000\n"
       ]
      },
      {
       "output_type": "stream",
       "stream": "stdout",
       "text": [
        "2014-12-04 18:35:17,439 INFO CLAW: Solution 1 computed for time t=0.500000\n"
       ]
      },
      {
       "output_type": "stream",
       "stream": "stdout",
       "text": [
        "2014-12-04 18:35:17,447 INFO CLAW: Solution 2 computed for time t=1.000000\n"
       ]
      },
      {
       "output_type": "stream",
       "stream": "stdout",
       "text": [
        "2014-12-04 18:35:18,413 INFO CLAW: Solution 0 computed for time t=0.000000\n"
       ]
      },
      {
       "output_type": "stream",
       "stream": "stdout",
       "text": [
        "2014-12-04 18:35:18,423 INFO CLAW: Solution 1 computed for time t=0.500000\n"
       ]
      },
      {
       "output_type": "stream",
       "stream": "stdout",
       "text": [
        "2014-12-04 18:35:18,431 INFO CLAW: Solution 2 computed for time t=1.000000\n"
       ]
      },
      {
       "output_type": "stream",
       "stream": "stdout",
       "text": [
        "2014-12-04 18:35:19,397 INFO CLAW: Solution 0 computed for time t=0.000000\n"
       ]
      },
      {
       "output_type": "stream",
       "stream": "stdout",
       "text": [
        "2014-12-04 18:35:19,405 INFO CLAW: Solution 1 computed for time t=0.500000\n"
       ]
      },
      {
       "output_type": "stream",
       "stream": "stdout",
       "text": [
        "2014-12-04 18:35:19,417 INFO CLAW: Solution 2 computed for time t=1.000000\n"
       ]
      },
      {
       "output_type": "stream",
       "stream": "stdout",
       "text": [
        "2014-12-04 18:35:20,389 INFO CLAW: Solution 0 computed for time t=0.000000\n"
       ]
      },
      {
       "output_type": "stream",
       "stream": "stdout",
       "text": [
        "2014-12-04 18:35:20,401 INFO CLAW: Solution 1 computed for time t=0.500000\n"
       ]
      },
      {
       "output_type": "stream",
       "stream": "stdout",
       "text": [
        "2014-12-04 18:35:20,411 INFO CLAW: Solution 2 computed for time t=1.000000\n"
       ]
      },
      {
       "output_type": "stream",
       "stream": "stdout",
       "text": [
        "2014-12-04 18:35:21,363 INFO CLAW: Solution 0 computed for time t=0.000000\n"
       ]
      },
      {
       "output_type": "stream",
       "stream": "stdout",
       "text": [
        "2014-12-04 18:35:21,370 INFO CLAW: Solution 1 computed for time t=0.500000\n"
       ]
      },
      {
       "output_type": "stream",
       "stream": "stdout",
       "text": [
        "2014-12-04 18:35:21,378 INFO CLAW: Solution 2 computed for time t=1.000000\n"
       ]
      },
      {
       "output_type": "stream",
       "stream": "stdout",
       "text": [
        "2014-12-04 18:35:22,274 INFO CLAW: Solution 0 computed for time t=0.000000\n"
       ]
      },
      {
       "output_type": "stream",
       "stream": "stdout",
       "text": [
        "2014-12-04 18:35:22,281 INFO CLAW: Solution 1 computed for time t=0.500000\n"
       ]
      },
      {
       "output_type": "stream",
       "stream": "stdout",
       "text": [
        "2014-12-04 18:35:22,289 INFO CLAW: Solution 2 computed for time t=1.000000\n"
       ]
      },
      {
       "output_type": "stream",
       "stream": "stdout",
       "text": [
        "2014-12-04 18:35:23,190 INFO CLAW: Solution 0 computed for time t=0.000000\n"
       ]
      },
      {
       "output_type": "stream",
       "stream": "stdout",
       "text": [
        "2014-12-04 18:35:23,202 INFO CLAW: Solution 1 computed for time t=0.500000\n"
       ]
      },
      {
       "output_type": "stream",
       "stream": "stdout",
       "text": [
        "2014-12-04 18:35:23,211 INFO CLAW: Solution 2 computed for time t=1.000000\n"
       ]
      },
      {
       "output_type": "stream",
       "stream": "stdout",
       "text": [
        "2014-12-04 18:35:24,124 INFO CLAW: Solution 0 computed for time t=0.000000\n"
       ]
      },
      {
       "output_type": "stream",
       "stream": "stdout",
       "text": [
        "2014-12-04 18:35:24,133 INFO CLAW: Solution 1 computed for time t=0.500000\n"
       ]
      },
      {
       "output_type": "stream",
       "stream": "stdout",
       "text": [
        "2014-12-04 18:35:24,141 INFO CLAW: Solution 2 computed for time t=1.000000\n"
       ]
      },
      {
       "output_type": "stream",
       "stream": "stdout",
       "text": [
        "2014-12-04 18:35:25,061 INFO CLAW: Solution 0 computed for time t=0.000000\n"
       ]
      },
      {
       "output_type": "stream",
       "stream": "stdout",
       "text": [
        "2014-12-04 18:35:25,068 INFO CLAW: Solution 1 computed for time t=0.500000\n"
       ]
      },
      {
       "output_type": "stream",
       "stream": "stdout",
       "text": [
        "2014-12-04 18:35:25,077 INFO CLAW: Solution 2 computed for time t=1.000000\n"
       ]
      },
      {
       "output_type": "stream",
       "stream": "stdout",
       "text": [
        "2014-12-04 18:35:25,964 INFO CLAW: Solution 0 computed for time t=0.000000\n"
       ]
      },
      {
       "output_type": "stream",
       "stream": "stdout",
       "text": [
        "2014-12-04 18:35:25,972 INFO CLAW: Solution 1 computed for time t=0.500000\n"
       ]
      },
      {
       "output_type": "stream",
       "stream": "stdout",
       "text": [
        "2014-12-04 18:35:25,979 INFO CLAW: Solution 2 computed for time t=1.000000\n"
       ]
      },
      {
       "output_type": "stream",
       "stream": "stdout",
       "text": [
        "2014-12-04 18:35:26,971 INFO CLAW: Solution 0 computed for time t=0.000000\n"
       ]
      },
      {
       "output_type": "stream",
       "stream": "stdout",
       "text": [
        "2014-12-04 18:35:26,978 INFO CLAW: Solution 1 computed for time t=0.500000\n"
       ]
      },
      {
       "output_type": "stream",
       "stream": "stdout",
       "text": [
        "2014-12-04 18:35:26,985 INFO CLAW: Solution 2 computed for time t=1.000000\n"
       ]
      },
      {
       "output_type": "stream",
       "stream": "stdout",
       "text": [
        "2014-12-04 18:35:27,942 INFO CLAW: Solution 0 computed for time t=0.000000\n"
       ]
      },
      {
       "output_type": "stream",
       "stream": "stdout",
       "text": [
        "2014-12-04 18:35:27,949 INFO CLAW: Solution 1 computed for time t=0.500000\n"
       ]
      },
      {
       "output_type": "stream",
       "stream": "stdout",
       "text": [
        "2014-12-04 18:35:27,957 INFO CLAW: Solution 2 computed for time t=1.000000\n"
       ]
      },
      {
       "output_type": "stream",
       "stream": "stdout",
       "text": [
        "2014-12-04 18:35:28,981 INFO CLAW: Solution 0 computed for time t=0.000000\n"
       ]
      },
      {
       "output_type": "stream",
       "stream": "stdout",
       "text": [
        "2014-12-04 18:35:28,992 INFO CLAW: Solution 1 computed for time t=0.500000\n"
       ]
      },
      {
       "output_type": "stream",
       "stream": "stdout",
       "text": [
        "2014-12-04 18:35:29,004 INFO CLAW: Solution 2 computed for time t=1.000000\n"
       ]
      },
      {
       "output_type": "stream",
       "stream": "stdout",
       "text": [
        "2014-12-04 18:35:29,921 INFO CLAW: Solution 0 computed for time t=0.000000\n"
       ]
      },
      {
       "output_type": "stream",
       "stream": "stdout",
       "text": [
        "2014-12-04 18:35:29,929 INFO CLAW: Solution 1 computed for time t=0.500000\n"
       ]
      },
      {
       "output_type": "stream",
       "stream": "stdout",
       "text": [
        "2014-12-04 18:35:29,937 INFO CLAW: Solution 2 computed for time t=1.000000\n"
       ]
      },
      {
       "output_type": "stream",
       "stream": "stdout",
       "text": [
        "2014-12-04 18:35:30,890 INFO CLAW: Solution 0 computed for time t=0.000000\n"
       ]
      },
      {
       "output_type": "stream",
       "stream": "stdout",
       "text": [
        "2014-12-04 18:35:30,897 INFO CLAW: Solution 1 computed for time t=0.500000\n"
       ]
      },
      {
       "output_type": "stream",
       "stream": "stdout",
       "text": [
        "2014-12-04 18:35:30,904 INFO CLAW: Solution 2 computed for time t=1.000000\n"
       ]
      },
      {
       "output_type": "stream",
       "stream": "stdout",
       "text": [
        "2014-12-04 18:35:31,808 INFO CLAW: Solution 0 computed for time t=0.000000\n"
       ]
      },
      {
       "output_type": "stream",
       "stream": "stdout",
       "text": [
        "2014-12-04 18:35:31,819 INFO CLAW: Solution 1 computed for time t=0.500000\n"
       ]
      },
      {
       "output_type": "stream",
       "stream": "stdout",
       "text": [
        "2014-12-04 18:35:31,826 INFO CLAW: Solution 2 computed for time t=1.000000\n"
       ]
      },
      {
       "output_type": "stream",
       "stream": "stdout",
       "text": [
        "2014-12-04 18:35:32,756 INFO CLAW: Solution 0 computed for time t=0.000000\n"
       ]
      },
      {
       "output_type": "stream",
       "stream": "stdout",
       "text": [
        "2014-12-04 18:35:32,763 INFO CLAW: Solution 1 computed for time t=0.500000\n"
       ]
      },
      {
       "output_type": "stream",
       "stream": "stdout",
       "text": [
        "2014-12-04 18:35:32,771 INFO CLAW: Solution 2 computed for time t=1.000000\n"
       ]
      },
      {
       "output_type": "stream",
       "stream": "stdout",
       "text": [
        "2014-12-04 18:35:33,722 INFO CLAW: Solution 0 computed for time t=0.000000\n"
       ]
      },
      {
       "output_type": "stream",
       "stream": "stdout",
       "text": [
        "2014-12-04 18:35:33,729 INFO CLAW: Solution 1 computed for time t=0.500000\n"
       ]
      },
      {
       "output_type": "stream",
       "stream": "stdout",
       "text": [
        "2014-12-04 18:35:33,737 INFO CLAW: Solution 2 computed for time t=1.000000\n"
       ]
      },
      {
       "output_type": "stream",
       "stream": "stdout",
       "text": [
        "2014-12-04 18:35:34,675 INFO CLAW: Solution 0 computed for time t=0.000000\n"
       ]
      },
      {
       "output_type": "stream",
       "stream": "stdout",
       "text": [
        "2014-12-04 18:35:34,682 INFO CLAW: Solution 1 computed for time t=0.500000\n"
       ]
      },
      {
       "output_type": "stream",
       "stream": "stdout",
       "text": [
        "2014-12-04 18:35:34,691 INFO CLAW: Solution 2 computed for time t=1.000000\n"
       ]
      },
      {
       "output_type": "stream",
       "stream": "stdout",
       "text": [
        "2014-12-04 18:35:35,603 INFO CLAW: Solution 0 computed for time t=0.000000\n"
       ]
      },
      {
       "output_type": "stream",
       "stream": "stdout",
       "text": [
        "2014-12-04 18:35:35,614 INFO CLAW: Solution 1 computed for time t=0.500000\n"
       ]
      },
      {
       "output_type": "stream",
       "stream": "stdout",
       "text": [
        "2014-12-04 18:35:35,626 INFO CLAW: Solution 2 computed for time t=1.000000\n"
       ]
      },
      {
       "output_type": "stream",
       "stream": "stdout",
       "text": [
        "2014-12-04 18:35:36,557 INFO CLAW: Solution 0 computed for time t=0.000000\n"
       ]
      },
      {
       "output_type": "stream",
       "stream": "stdout",
       "text": [
        "2014-12-04 18:35:36,568 INFO CLAW: Solution 1 computed for time t=0.500000\n"
       ]
      },
      {
       "output_type": "stream",
       "stream": "stdout",
       "text": [
        "2014-12-04 18:35:36,574 INFO CLAW: Solution 2 computed for time t=1.000000\n"
       ]
      },
      {
       "output_type": "stream",
       "stream": "stdout",
       "text": [
        "2014-12-04 18:35:37,461 INFO CLAW: Solution 0 computed for time t=0.000000\n"
       ]
      },
      {
       "output_type": "stream",
       "stream": "stdout",
       "text": [
        "2014-12-04 18:35:37,471 INFO CLAW: Solution 1 computed for time t=0.500000\n"
       ]
      },
      {
       "output_type": "stream",
       "stream": "stdout",
       "text": [
        "2014-12-04 18:35:37,478 INFO CLAW: Solution 2 computed for time t=1.000000\n"
       ]
      },
      {
       "output_type": "stream",
       "stream": "stdout",
       "text": [
        "2014-12-04 18:35:38,361 INFO CLAW: Solution 0 computed for time t=0.000000\n"
       ]
      },
      {
       "output_type": "stream",
       "stream": "stdout",
       "text": [
        "2014-12-04 18:35:38,368 INFO CLAW: Solution 1 computed for time t=0.500000\n"
       ]
      },
      {
       "output_type": "stream",
       "stream": "stdout",
       "text": [
        "2014-12-04 18:35:38,377 INFO CLAW: Solution 2 computed for time t=1.000000\n"
       ]
      },
      {
       "output_type": "stream",
       "stream": "stdout",
       "text": [
        "2014-12-04 18:35:39,273 INFO CLAW: Solution 0 computed for time t=0.000000\n"
       ]
      },
      {
       "output_type": "stream",
       "stream": "stdout",
       "text": [
        "2014-12-04 18:35:39,280 INFO CLAW: Solution 1 computed for time t=0.500000\n"
       ]
      },
      {
       "output_type": "stream",
       "stream": "stdout",
       "text": [
        "2014-12-04 18:35:39,288 INFO CLAW: Solution 2 computed for time t=1.000000\n"
       ]
      },
      {
       "output_type": "stream",
       "stream": "stdout",
       "text": [
        "2014-12-04 18:35:40,208 INFO CLAW: Solution 0 computed for time t=0.000000\n"
       ]
      },
      {
       "output_type": "stream",
       "stream": "stdout",
       "text": [
        "2014-12-04 18:35:40,220 INFO CLAW: Solution 1 computed for time t=0.500000\n"
       ]
      },
      {
       "output_type": "stream",
       "stream": "stdout",
       "text": [
        "2014-12-04 18:35:40,231 INFO CLAW: Solution 2 computed for time t=1.000000\n"
       ]
      },
      {
       "output_type": "stream",
       "stream": "stdout",
       "text": [
        "2014-12-04 18:35:41,236 INFO CLAW: Solution 0 computed for time t=0.000000\n"
       ]
      },
      {
       "output_type": "stream",
       "stream": "stdout",
       "text": [
        "2014-12-04 18:35:41,248 INFO CLAW: Solution 1 computed for time t=0.500000\n"
       ]
      },
      {
       "output_type": "stream",
       "stream": "stdout",
       "text": [
        "2014-12-04 18:35:41,256 INFO CLAW: Solution 2 computed for time t=1.000000\n"
       ]
      },
      {
       "output_type": "stream",
       "stream": "stdout",
       "text": [
        "2014-12-04 18:35:42,258 INFO CLAW: Solution 0 computed for time t=0.000000\n"
       ]
      },
      {
       "output_type": "stream",
       "stream": "stdout",
       "text": [
        "2014-12-04 18:35:42,267 INFO CLAW: Solution 1 computed for time t=0.500000\n"
       ]
      },
      {
       "output_type": "stream",
       "stream": "stdout",
       "text": [
        "2014-12-04 18:35:42,274 INFO CLAW: Solution 2 computed for time t=1.000000\n"
       ]
      },
      {
       "output_type": "stream",
       "stream": "stdout",
       "text": [
        "2014-12-04 18:35:43,252 INFO CLAW: Solution 0 computed for time t=0.000000\n"
       ]
      },
      {
       "output_type": "stream",
       "stream": "stdout",
       "text": [
        "2014-12-04 18:35:43,259 INFO CLAW: Solution 1 computed for time t=0.500000\n"
       ]
      },
      {
       "output_type": "stream",
       "stream": "stdout",
       "text": [
        "2014-12-04 18:35:43,267 INFO CLAW: Solution 2 computed for time t=1.000000\n"
       ]
      },
      {
       "output_type": "stream",
       "stream": "stdout",
       "text": [
        "2014-12-04 18:35:44,174 INFO CLAW: Solution 0 computed for time t=0.000000\n"
       ]
      },
      {
       "output_type": "stream",
       "stream": "stdout",
       "text": [
        "2014-12-04 18:35:44,182 INFO CLAW: Solution 1 computed for time t=0.500000\n"
       ]
      },
      {
       "output_type": "stream",
       "stream": "stdout",
       "text": [
        "2014-12-04 18:35:44,191 INFO CLAW: Solution 2 computed for time t=1.000000\n"
       ]
      },
      {
       "output_type": "stream",
       "stream": "stdout",
       "text": [
        "2014-12-04 18:35:45,104 INFO CLAW: Solution 0 computed for time t=0.000000\n"
       ]
      },
      {
       "output_type": "stream",
       "stream": "stdout",
       "text": [
        "2014-12-04 18:35:45,114 INFO CLAW: Solution 1 computed for time t=0.500000\n"
       ]
      },
      {
       "output_type": "stream",
       "stream": "stdout",
       "text": [
        "2014-12-04 18:35:45,121 INFO CLAW: Solution 2 computed for time t=1.000000\n"
       ]
      },
      {
       "output_type": "stream",
       "stream": "stdout",
       "text": [
        "2014-12-04 18:35:46,044 INFO CLAW: Solution 0 computed for time t=0.000000\n"
       ]
      },
      {
       "output_type": "stream",
       "stream": "stdout",
       "text": [
        "2014-12-04 18:35:46,052 INFO CLAW: Solution 1 computed for time t=0.500000\n"
       ]
      },
      {
       "output_type": "stream",
       "stream": "stdout",
       "text": [
        "2014-12-04 18:35:46,061 INFO CLAW: Solution 2 computed for time t=1.000000\n"
       ]
      },
      {
       "output_type": "stream",
       "stream": "stdout",
       "text": [
        "2014-12-04 18:35:46,995 INFO CLAW: Solution 0 computed for time t=0.000000\n"
       ]
      },
      {
       "output_type": "stream",
       "stream": "stdout",
       "text": [
        "2014-12-04 18:35:47,006 INFO CLAW: Solution 1 computed for time t=0.500000\n"
       ]
      },
      {
       "output_type": "stream",
       "stream": "stdout",
       "text": [
        "2014-12-04 18:35:47,014 INFO CLAW: Solution 2 computed for time t=1.000000\n"
       ]
      },
      {
       "output_type": "stream",
       "stream": "stdout",
       "text": [
        "2014-12-04 18:35:47,915 INFO CLAW: Solution 0 computed for time t=0.000000\n"
       ]
      },
      {
       "output_type": "stream",
       "stream": "stdout",
       "text": [
        "2014-12-04 18:35:47,922 INFO CLAW: Solution 1 computed for time t=0.500000\n"
       ]
      },
      {
       "output_type": "stream",
       "stream": "stdout",
       "text": [
        "2014-12-04 18:35:47,931 INFO CLAW: Solution 2 computed for time t=1.000000\n"
       ]
      },
      {
       "output_type": "stream",
       "stream": "stdout",
       "text": [
        "2014-12-04 18:35:48,837 INFO CLAW: Solution 0 computed for time t=0.000000\n"
       ]
      },
      {
       "output_type": "stream",
       "stream": "stdout",
       "text": [
        "2014-12-04 18:35:48,844 INFO CLAW: Solution 1 computed for time t=0.500000\n"
       ]
      },
      {
       "output_type": "stream",
       "stream": "stdout",
       "text": [
        "2014-12-04 18:35:48,851 INFO CLAW: Solution 2 computed for time t=1.000000\n"
       ]
      },
      {
       "output_type": "stream",
       "stream": "stdout",
       "text": [
        "2014-12-04 18:35:49,759 INFO CLAW: Solution 0 computed for time t=0.000000\n"
       ]
      },
      {
       "output_type": "stream",
       "stream": "stdout",
       "text": [
        "2014-12-04 18:35:49,770 INFO CLAW: Solution 1 computed for time t=0.500000\n"
       ]
      },
      {
       "output_type": "stream",
       "stream": "stdout",
       "text": [
        "2014-12-04 18:35:49,781 INFO CLAW: Solution 2 computed for time t=1.000000\n"
       ]
      },
      {
       "output_type": "stream",
       "stream": "stdout",
       "text": [
        "2014-12-04 18:35:50,689 INFO CLAW: Solution 0 computed for time t=0.000000\n"
       ]
      },
      {
       "output_type": "stream",
       "stream": "stdout",
       "text": [
        "2014-12-04 18:35:50,696 INFO CLAW: Solution 1 computed for time t=0.500000\n"
       ]
      },
      {
       "output_type": "stream",
       "stream": "stdout",
       "text": [
        "2014-12-04 18:35:50,703 INFO CLAW: Solution 2 computed for time t=1.000000\n"
       ]
      },
      {
       "output_type": "stream",
       "stream": "stdout",
       "text": [
        "2014-12-04 18:35:51,606 INFO CLAW: Solution 0 computed for time t=0.000000\n"
       ]
      },
      {
       "output_type": "stream",
       "stream": "stdout",
       "text": [
        "2014-12-04 18:35:51,618 INFO CLAW: Solution 1 computed for time t=0.500000\n"
       ]
      },
      {
       "output_type": "stream",
       "stream": "stdout",
       "text": [
        "2014-12-04 18:35:51,626 INFO CLAW: Solution 2 computed for time t=1.000000\n"
       ]
      },
      {
       "output_type": "stream",
       "stream": "stdout",
       "text": [
        "2014-12-04 18:35:52,515 INFO CLAW: Solution 0 computed for time t=0.000000\n"
       ]
      },
      {
       "output_type": "stream",
       "stream": "stdout",
       "text": [
        "2014-12-04 18:35:52,522 INFO CLAW: Solution 1 computed for time t=0.500000\n"
       ]
      },
      {
       "output_type": "stream",
       "stream": "stdout",
       "text": [
        "2014-12-04 18:35:52,530 INFO CLAW: Solution 2 computed for time t=1.000000\n"
       ]
      },
      {
       "output_type": "stream",
       "stream": "stdout",
       "text": [
        "2014-12-04 18:35:53,412 INFO CLAW: Solution 0 computed for time t=0.000000\n"
       ]
      },
      {
       "output_type": "stream",
       "stream": "stdout",
       "text": [
        "2014-12-04 18:35:53,419 INFO CLAW: Solution 1 computed for time t=0.500000\n"
       ]
      },
      {
       "output_type": "stream",
       "stream": "stdout",
       "text": [
        "2014-12-04 18:35:53,427 INFO CLAW: Solution 2 computed for time t=1.000000\n"
       ]
      },
      {
       "output_type": "stream",
       "stream": "stdout",
       "text": [
        "2014-12-04 18:35:54,344 INFO CLAW: Solution 0 computed for time t=0.000000\n"
       ]
      },
      {
       "output_type": "stream",
       "stream": "stdout",
       "text": [
        "2014-12-04 18:35:54,352 INFO CLAW: Solution 1 computed for time t=0.500000\n"
       ]
      },
      {
       "output_type": "stream",
       "stream": "stdout",
       "text": [
        "2014-12-04 18:35:54,362 INFO CLAW: Solution 2 computed for time t=1.000000\n"
       ]
      },
      {
       "output_type": "stream",
       "stream": "stdout",
       "text": [
        "2014-12-04 18:35:55,307 INFO CLAW: Solution 0 computed for time t=0.000000\n"
       ]
      },
      {
       "output_type": "stream",
       "stream": "stdout",
       "text": [
        "2014-12-04 18:35:55,318 INFO CLAW: Solution 1 computed for time t=0.500000\n"
       ]
      },
      {
       "output_type": "stream",
       "stream": "stdout",
       "text": [
        "2014-12-04 18:35:55,328 INFO CLAW: Solution 2 computed for time t=1.000000\n"
       ]
      },
      {
       "output_type": "stream",
       "stream": "stdout",
       "text": [
        "2014-12-04 18:35:56,322 INFO CLAW: Solution 0 computed for time t=0.000000\n"
       ]
      },
      {
       "output_type": "stream",
       "stream": "stdout",
       "text": [
        "2014-12-04 18:35:56,331 INFO CLAW: Solution 1 computed for time t=0.500000\n"
       ]
      },
      {
       "output_type": "stream",
       "stream": "stdout",
       "text": [
        "2014-12-04 18:35:56,341 INFO CLAW: Solution 2 computed for time t=1.000000\n"
       ]
      },
      {
       "output_type": "stream",
       "stream": "stdout",
       "text": [
        "2014-12-04 18:35:57,314 INFO CLAW: Solution 0 computed for time t=0.000000\n"
       ]
      },
      {
       "output_type": "stream",
       "stream": "stdout",
       "text": [
        "2014-12-04 18:35:57,322 INFO CLAW: Solution 1 computed for time t=0.500000\n"
       ]
      },
      {
       "output_type": "stream",
       "stream": "stdout",
       "text": [
        "2014-12-04 18:35:57,333 INFO CLAW: Solution 2 computed for time t=1.000000\n"
       ]
      },
      {
       "output_type": "stream",
       "stream": "stdout",
       "text": [
        "2014-12-04 18:35:58,223 INFO CLAW: Solution 0 computed for time t=0.000000\n"
       ]
      },
      {
       "output_type": "stream",
       "stream": "stdout",
       "text": [
        "2014-12-04 18:35:58,232 INFO CLAW: Solution 1 computed for time t=0.500000\n"
       ]
      },
      {
       "output_type": "stream",
       "stream": "stdout",
       "text": [
        "2014-12-04 18:35:58,239 INFO CLAW: Solution 2 computed for time t=1.000000\n"
       ]
      },
      {
       "output_type": "stream",
       "stream": "stdout",
       "text": [
        "2014-12-04 18:35:59,159 INFO CLAW: Solution 0 computed for time t=0.000000\n"
       ]
      },
      {
       "output_type": "stream",
       "stream": "stdout",
       "text": [
        "2014-12-04 18:35:59,166 INFO CLAW: Solution 1 computed for time t=0.500000\n"
       ]
      },
      {
       "output_type": "stream",
       "stream": "stdout",
       "text": [
        "2014-12-04 18:35:59,173 INFO CLAW: Solution 2 computed for time t=1.000000\n"
       ]
      },
      {
       "output_type": "stream",
       "stream": "stdout",
       "text": [
        "2014-12-04 18:36:00,098 INFO CLAW: Solution 0 computed for time t=0.000000\n"
       ]
      },
      {
       "output_type": "stream",
       "stream": "stdout",
       "text": [
        "2014-12-04 18:36:00,105 INFO CLAW: Solution 1 computed for time t=0.500000\n"
       ]
      },
      {
       "output_type": "stream",
       "stream": "stdout",
       "text": [
        "2014-12-04 18:36:00,113 INFO CLAW: Solution 2 computed for time t=1.000000\n"
       ]
      },
      {
       "output_type": "stream",
       "stream": "stdout",
       "text": [
        "2014-12-04 18:36:01,008 INFO CLAW: Solution 0 computed for time t=0.000000\n"
       ]
      },
      {
       "output_type": "stream",
       "stream": "stdout",
       "text": [
        "2014-12-04 18:36:01,020 INFO CLAW: Solution 1 computed for time t=0.500000\n"
       ]
      },
      {
       "output_type": "stream",
       "stream": "stdout",
       "text": [
        "2014-12-04 18:36:01,031 INFO CLAW: Solution 2 computed for time t=1.000000\n"
       ]
      },
      {
       "output_type": "stream",
       "stream": "stdout",
       "text": [
        "2014-12-04 18:36:01,928 INFO CLAW: Solution 0 computed for time t=0.000000\n"
       ]
      },
      {
       "output_type": "stream",
       "stream": "stdout",
       "text": [
        "2014-12-04 18:36:01,938 INFO CLAW: Solution 1 computed for time t=0.500000\n"
       ]
      },
      {
       "output_type": "stream",
       "stream": "stdout",
       "text": [
        "2014-12-04 18:36:01,949 INFO CLAW: Solution 2 computed for time t=1.000000\n"
       ]
      },
      {
       "output_type": "stream",
       "stream": "stdout",
       "text": [
        "2014-12-04 18:36:02,868 INFO CLAW: Solution 0 computed for time t=0.000000\n"
       ]
      },
      {
       "output_type": "stream",
       "stream": "stdout",
       "text": [
        "2014-12-04 18:36:02,878 INFO CLAW: Solution 1 computed for time t=0.500000\n"
       ]
      },
      {
       "output_type": "stream",
       "stream": "stdout",
       "text": [
        "2014-12-04 18:36:02,887 INFO CLAW: Solution 2 computed for time t=1.000000\n"
       ]
      },
      {
       "output_type": "stream",
       "stream": "stdout",
       "text": [
        "2014-12-04 18:36:03,782 INFO CLAW: Solution 0 computed for time t=0.000000\n"
       ]
      },
      {
       "output_type": "stream",
       "stream": "stdout",
       "text": [
        "2014-12-04 18:36:03,789 INFO CLAW: Solution 1 computed for time t=0.500000\n"
       ]
      },
      {
       "output_type": "stream",
       "stream": "stdout",
       "text": [
        "2014-12-04 18:36:03,796 INFO CLAW: Solution 2 computed for time t=1.000000\n"
       ]
      },
      {
       "output_type": "stream",
       "stream": "stdout",
       "text": [
        "2014-12-04 18:36:04,706 INFO CLAW: Solution 0 computed for time t=0.000000\n"
       ]
      },
      {
       "output_type": "stream",
       "stream": "stdout",
       "text": [
        "2014-12-04 18:36:04,714 INFO CLAW: Solution 1 computed for time t=0.500000\n"
       ]
      },
      {
       "output_type": "stream",
       "stream": "stdout",
       "text": [
        "2014-12-04 18:36:04,722 INFO CLAW: Solution 2 computed for time t=1.000000\n"
       ]
      },
      {
       "output_type": "stream",
       "stream": "stdout",
       "text": [
        "2014-12-04 18:36:05,605 INFO CLAW: Solution 0 computed for time t=0.000000\n"
       ]
      },
      {
       "output_type": "stream",
       "stream": "stdout",
       "text": [
        "2014-12-04 18:36:05,613 INFO CLAW: Solution 1 computed for time t=0.500000\n"
       ]
      },
      {
       "output_type": "stream",
       "stream": "stdout",
       "text": [
        "2014-12-04 18:36:05,623 INFO CLAW: Solution 2 computed for time t=1.000000\n"
       ]
      },
      {
       "output_type": "stream",
       "stream": "stdout",
       "text": [
        "2014-12-04 18:36:06,497 INFO CLAW: Solution 0 computed for time t=0.000000\n"
       ]
      },
      {
       "output_type": "stream",
       "stream": "stdout",
       "text": [
        "2014-12-04 18:36:06,504 INFO CLAW: Solution 1 computed for time t=0.500000\n"
       ]
      },
      {
       "output_type": "stream",
       "stream": "stdout",
       "text": [
        "2014-12-04 18:36:06,512 INFO CLAW: Solution 2 computed for time t=1.000000\n"
       ]
      },
      {
       "output_type": "stream",
       "stream": "stdout",
       "text": [
        "2014-12-04 18:36:07,393 INFO CLAW: Solution 0 computed for time t=0.000000\n"
       ]
      },
      {
       "output_type": "stream",
       "stream": "stdout",
       "text": [
        "2014-12-04 18:36:07,401 INFO CLAW: Solution 1 computed for time t=0.500000\n"
       ]
      },
      {
       "output_type": "stream",
       "stream": "stdout",
       "text": [
        "2014-12-04 18:36:07,410 INFO CLAW: Solution 2 computed for time t=1.000000\n"
       ]
      },
      {
       "output_type": "stream",
       "stream": "stdout",
       "text": [
        "2014-12-04 18:36:08,321 INFO CLAW: Solution 0 computed for time t=0.000000\n"
       ]
      },
      {
       "output_type": "stream",
       "stream": "stdout",
       "text": [
        "2014-12-04 18:36:08,328 INFO CLAW: Solution 1 computed for time t=0.500000\n"
       ]
      },
      {
       "output_type": "stream",
       "stream": "stdout",
       "text": [
        "2014-12-04 18:36:08,338 INFO CLAW: Solution 2 computed for time t=1.000000\n"
       ]
      },
      {
       "output_type": "stream",
       "stream": "stdout",
       "text": [
        "2014-12-04 18:36:09,255 INFO CLAW: Solution 0 computed for time t=0.000000\n"
       ]
      },
      {
       "output_type": "stream",
       "stream": "stdout",
       "text": [
        "2014-12-04 18:36:09,263 INFO CLAW: Solution 1 computed for time t=0.500000\n"
       ]
      },
      {
       "output_type": "stream",
       "stream": "stdout",
       "text": [
        "2014-12-04 18:36:09,272 INFO CLAW: Solution 2 computed for time t=1.000000\n"
       ]
      },
      {
       "output_type": "stream",
       "stream": "stdout",
       "text": [
        "2014-12-04 18:36:10,287 INFO CLAW: Solution 0 computed for time t=0.000000\n"
       ]
      },
      {
       "output_type": "stream",
       "stream": "stdout",
       "text": [
        "2014-12-04 18:36:10,298 INFO CLAW: Solution 1 computed for time t=0.500000\n"
       ]
      },
      {
       "output_type": "stream",
       "stream": "stdout",
       "text": [
        "2014-12-04 18:36:10,310 INFO CLAW: Solution 2 computed for time t=1.000000\n"
       ]
      },
      {
       "output_type": "stream",
       "stream": "stdout",
       "text": [
        "2014-12-04 18:36:11,311 INFO CLAW: Solution 0 computed for time t=0.000000\n"
       ]
      },
      {
       "output_type": "stream",
       "stream": "stdout",
       "text": [
        "2014-12-04 18:36:11,318 INFO CLAW: Solution 1 computed for time t=0.500000\n"
       ]
      },
      {
       "output_type": "stream",
       "stream": "stdout",
       "text": [
        "2014-12-04 18:36:11,325 INFO CLAW: Solution 2 computed for time t=1.000000\n"
       ]
      },
      {
       "output_type": "stream",
       "stream": "stdout",
       "text": [
        "2014-12-04 18:36:12,266 INFO CLAW: Solution 0 computed for time t=0.000000\n"
       ]
      },
      {
       "output_type": "stream",
       "stream": "stdout",
       "text": [
        "2014-12-04 18:36:12,273 INFO CLAW: Solution 1 computed for time t=0.500000\n"
       ]
      },
      {
       "output_type": "stream",
       "stream": "stdout",
       "text": [
        "2014-12-04 18:36:12,281 INFO CLAW: Solution 2 computed for time t=1.000000\n"
       ]
      },
      {
       "output_type": "stream",
       "stream": "stdout",
       "text": [
        "2014-12-04 18:36:13,219 INFO CLAW: Solution 0 computed for time t=0.000000\n"
       ]
      },
      {
       "output_type": "stream",
       "stream": "stdout",
       "text": [
        "2014-12-04 18:36:13,227 INFO CLAW: Solution 1 computed for time t=0.500000\n"
       ]
      },
      {
       "output_type": "stream",
       "stream": "stdout",
       "text": [
        "2014-12-04 18:36:13,238 INFO CLAW: Solution 2 computed for time t=1.000000\n"
       ]
      },
      {
       "output_type": "stream",
       "stream": "stdout",
       "text": [
        "2014-12-04 18:36:14,145 INFO CLAW: Solution 0 computed for time t=0.000000\n"
       ]
      },
      {
       "output_type": "stream",
       "stream": "stdout",
       "text": [
        "2014-12-04 18:36:14,152 INFO CLAW: Solution 1 computed for time t=0.500000\n"
       ]
      },
      {
       "output_type": "stream",
       "stream": "stdout",
       "text": [
        "2014-12-04 18:36:14,161 INFO CLAW: Solution 2 computed for time t=1.000000\n"
       ]
      },
      {
       "output_type": "stream",
       "stream": "stdout",
       "text": [
        "2014-12-04 18:36:15,064 INFO CLAW: Solution 0 computed for time t=0.000000\n"
       ]
      },
      {
       "output_type": "stream",
       "stream": "stdout",
       "text": [
        "2014-12-04 18:36:15,071 INFO CLAW: Solution 1 computed for time t=0.500000\n"
       ]
      },
      {
       "output_type": "stream",
       "stream": "stdout",
       "text": [
        "2014-12-04 18:36:15,079 INFO CLAW: Solution 2 computed for time t=1.000000\n"
       ]
      },
      {
       "output_type": "stream",
       "stream": "stdout",
       "text": [
        "2014-12-04 18:36:15,952 INFO CLAW: Solution 0 computed for time t=0.000000\n"
       ]
      },
      {
       "output_type": "stream",
       "stream": "stdout",
       "text": [
        "2014-12-04 18:36:15,961 INFO CLAW: Solution 1 computed for time t=0.500000\n"
       ]
      },
      {
       "output_type": "stream",
       "stream": "stdout",
       "text": [
        "2014-12-04 18:36:15,969 INFO CLAW: Solution 2 computed for time t=1.000000\n"
       ]
      },
      {
       "output_type": "stream",
       "stream": "stdout",
       "text": [
        "2014-12-04 18:36:16,858 INFO CLAW: Solution 0 computed for time t=0.000000\n"
       ]
      },
      {
       "output_type": "stream",
       "stream": "stdout",
       "text": [
        "2014-12-04 18:36:16,867 INFO CLAW: Solution 1 computed for time t=0.500000\n"
       ]
      },
      {
       "output_type": "stream",
       "stream": "stdout",
       "text": [
        "2014-12-04 18:36:16,877 INFO CLAW: Solution 2 computed for time t=1.000000\n"
       ]
      },
      {
       "output_type": "stream",
       "stream": "stdout",
       "text": [
        "2014-12-04 18:36:17,777 INFO CLAW: Solution 0 computed for time t=0.000000\n"
       ]
      },
      {
       "output_type": "stream",
       "stream": "stdout",
       "text": [
        "2014-12-04 18:36:17,785 INFO CLAW: Solution 1 computed for time t=0.500000\n"
       ]
      },
      {
       "output_type": "stream",
       "stream": "stdout",
       "text": [
        "2014-12-04 18:36:17,794 INFO CLAW: Solution 2 computed for time t=1.000000\n"
       ]
      },
      {
       "output_type": "stream",
       "stream": "stdout",
       "text": [
        "2014-12-04 18:36:18,715 INFO CLAW: Solution 0 computed for time t=0.000000\n"
       ]
      },
      {
       "output_type": "stream",
       "stream": "stdout",
       "text": [
        "2014-12-04 18:36:18,723 INFO CLAW: Solution 1 computed for time t=0.500000\n"
       ]
      },
      {
       "output_type": "stream",
       "stream": "stdout",
       "text": [
        "2014-12-04 18:36:18,730 INFO CLAW: Solution 2 computed for time t=1.000000\n"
       ]
      },
      {
       "output_type": "stream",
       "stream": "stdout",
       "text": [
        "2014-12-04 18:36:19,624 INFO CLAW: Solution 0 computed for time t=0.000000\n"
       ]
      },
      {
       "output_type": "stream",
       "stream": "stdout",
       "text": [
        "2014-12-04 18:36:19,632 INFO CLAW: Solution 1 computed for time t=0.500000\n"
       ]
      },
      {
       "output_type": "stream",
       "stream": "stdout",
       "text": [
        "2014-12-04 18:36:19,642 INFO CLAW: Solution 2 computed for time t=1.000000\n"
       ]
      },
      {
       "output_type": "stream",
       "stream": "stdout",
       "text": [
        "2014-12-04 18:36:20,535 INFO CLAW: Solution 0 computed for time t=0.000000\n"
       ]
      },
      {
       "output_type": "stream",
       "stream": "stdout",
       "text": [
        "2014-12-04 18:36:20,542 INFO CLAW: Solution 1 computed for time t=0.500000\n"
       ]
      },
      {
       "output_type": "stream",
       "stream": "stdout",
       "text": [
        "2014-12-04 18:36:20,553 INFO CLAW: Solution 2 computed for time t=1.000000\n"
       ]
      },
      {
       "output_type": "stream",
       "stream": "stdout",
       "text": [
        "2014-12-04 18:36:21,491 INFO CLAW: Solution 0 computed for time t=0.000000\n"
       ]
      },
      {
       "output_type": "stream",
       "stream": "stdout",
       "text": [
        "2014-12-04 18:36:21,499 INFO CLAW: Solution 1 computed for time t=0.500000\n"
       ]
      },
      {
       "output_type": "stream",
       "stream": "stdout",
       "text": [
        "2014-12-04 18:36:21,509 INFO CLAW: Solution 2 computed for time t=1.000000\n"
       ]
      },
      {
       "output_type": "stream",
       "stream": "stdout",
       "text": [
        "2014-12-04 18:36:22,428 INFO CLAW: Solution 0 computed for time t=0.000000\n"
       ]
      },
      {
       "output_type": "stream",
       "stream": "stdout",
       "text": [
        "2014-12-04 18:36:22,438 INFO CLAW: Solution 1 computed for time t=0.500000\n"
       ]
      },
      {
       "output_type": "stream",
       "stream": "stdout",
       "text": [
        "2014-12-04 18:36:22,449 INFO CLAW: Solution 2 computed for time t=1.000000\n"
       ]
      },
      {
       "output_type": "stream",
       "stream": "stdout",
       "text": [
        "2014-12-04 18:36:23,479 INFO CLAW: Solution 0 computed for time t=0.000000\n"
       ]
      },
      {
       "output_type": "stream",
       "stream": "stdout",
       "text": [
        "2014-12-04 18:36:23,491 INFO CLAW: Solution 1 computed for time t=0.500000\n"
       ]
      },
      {
       "output_type": "stream",
       "stream": "stdout",
       "text": [
        "2014-12-04 18:36:23,498 INFO CLAW: Solution 2 computed for time t=1.000000\n"
       ]
      },
      {
       "output_type": "stream",
       "stream": "stdout",
       "text": [
        "2014-12-04 18:36:24,512 INFO CLAW: Solution 0 computed for time t=0.000000\n"
       ]
      },
      {
       "output_type": "stream",
       "stream": "stdout",
       "text": [
        "2014-12-04 18:36:24,520 INFO CLAW: Solution 1 computed for time t=0.500000\n"
       ]
      },
      {
       "output_type": "stream",
       "stream": "stdout",
       "text": [
        "2014-12-04 18:36:24,529 INFO CLAW: Solution 2 computed for time t=1.000000\n"
       ]
      },
      {
       "output_type": "stream",
       "stream": "stdout",
       "text": [
        "2014-12-04 18:36:25,521 INFO CLAW: Solution 0 computed for time t=0.000000\n"
       ]
      },
      {
       "output_type": "stream",
       "stream": "stdout",
       "text": [
        "2014-12-04 18:36:25,533 INFO CLAW: Solution 1 computed for time t=0.500000\n"
       ]
      },
      {
       "output_type": "stream",
       "stream": "stdout",
       "text": [
        "2014-12-04 18:36:25,541 INFO CLAW: Solution 2 computed for time t=1.000000\n"
       ]
      },
      {
       "output_type": "stream",
       "stream": "stdout",
       "text": [
        "2014-12-04 18:36:26,462 INFO CLAW: Solution 0 computed for time t=0.000000\n"
       ]
      },
      {
       "output_type": "stream",
       "stream": "stdout",
       "text": [
        "2014-12-04 18:36:26,470 INFO CLAW: Solution 1 computed for time t=0.500000\n"
       ]
      },
      {
       "output_type": "stream",
       "stream": "stdout",
       "text": [
        "2014-12-04 18:36:26,478 INFO CLAW: Solution 2 computed for time t=1.000000\n"
       ]
      },
      {
       "output_type": "stream",
       "stream": "stdout",
       "text": [
        "2014-12-04 18:36:27,376 INFO CLAW: Solution 0 computed for time t=0.000000\n"
       ]
      },
      {
       "output_type": "stream",
       "stream": "stdout",
       "text": [
        "2014-12-04 18:36:27,388 INFO CLAW: Solution 1 computed for time t=0.500000\n"
       ]
      },
      {
       "output_type": "stream",
       "stream": "stdout",
       "text": [
        "2014-12-04 18:36:27,401 INFO CLAW: Solution 2 computed for time t=1.000000\n"
       ]
      },
      {
       "output_type": "stream",
       "stream": "stdout",
       "text": [
        "2014-12-04 18:36:28,322 INFO CLAW: Solution 0 computed for time t=0.000000\n"
       ]
      },
      {
       "output_type": "stream",
       "stream": "stdout",
       "text": [
        "2014-12-04 18:36:28,329 INFO CLAW: Solution 1 computed for time t=0.500000\n"
       ]
      },
      {
       "output_type": "stream",
       "stream": "stdout",
       "text": [
        "2014-12-04 18:36:28,337 INFO CLAW: Solution 2 computed for time t=1.000000\n"
       ]
      },
      {
       "output_type": "stream",
       "stream": "stdout",
       "text": [
        "2014-12-04 18:36:29,252 INFO CLAW: Solution 0 computed for time t=0.000000\n"
       ]
      },
      {
       "output_type": "stream",
       "stream": "stdout",
       "text": [
        "2014-12-04 18:36:29,265 INFO CLAW: Solution 1 computed for time t=0.500000\n"
       ]
      },
      {
       "output_type": "stream",
       "stream": "stdout",
       "text": [
        "2014-12-04 18:36:29,277 INFO CLAW: Solution 2 computed for time t=1.000000\n"
       ]
      },
      {
       "output_type": "stream",
       "stream": "stdout",
       "text": [
        "2014-12-04 18:36:30,192 INFO CLAW: Solution 0 computed for time t=0.000000\n"
       ]
      },
      {
       "output_type": "stream",
       "stream": "stdout",
       "text": [
        "2014-12-04 18:36:30,204 INFO CLAW: Solution 1 computed for time t=0.500000\n"
       ]
      },
      {
       "output_type": "stream",
       "stream": "stdout",
       "text": [
        "2014-12-04 18:36:30,212 INFO CLAW: Solution 2 computed for time t=1.000000\n"
       ]
      },
      {
       "output_type": "stream",
       "stream": "stdout",
       "text": [
        "2014-12-04 18:36:31,126 INFO CLAW: Solution 0 computed for time t=0.000000\n"
       ]
      },
      {
       "output_type": "stream",
       "stream": "stdout",
       "text": [
        "2014-12-04 18:36:31,136 INFO CLAW: Solution 1 computed for time t=0.500000\n"
       ]
      },
      {
       "output_type": "stream",
       "stream": "stdout",
       "text": [
        "2014-12-04 18:36:31,144 INFO CLAW: Solution 2 computed for time t=1.000000\n"
       ]
      },
      {
       "output_type": "stream",
       "stream": "stdout",
       "text": [
        "2014-12-04 18:36:32,019 INFO CLAW: Solution 0 computed for time t=0.000000\n"
       ]
      },
      {
       "output_type": "stream",
       "stream": "stdout",
       "text": [
        "2014-12-04 18:36:32,032 INFO CLAW: Solution 1 computed for time t=0.500000\n"
       ]
      },
      {
       "output_type": "stream",
       "stream": "stdout",
       "text": [
        "2014-12-04 18:36:32,044 INFO CLAW: Solution 2 computed for time t=1.000000\n"
       ]
      },
      {
       "output_type": "stream",
       "stream": "stdout",
       "text": [
        "2014-12-04 18:36:32,951 INFO CLAW: Solution 0 computed for time t=0.000000\n"
       ]
      },
      {
       "output_type": "stream",
       "stream": "stdout",
       "text": [
        "2014-12-04 18:36:32,962 INFO CLAW: Solution 1 computed for time t=0.500000\n"
       ]
      },
      {
       "output_type": "stream",
       "stream": "stdout",
       "text": [
        "2014-12-04 18:36:32,970 INFO CLAW: Solution 2 computed for time t=1.000000\n"
       ]
      },
      {
       "output_type": "stream",
       "stream": "stdout",
       "text": [
        "2014-12-04 18:36:33,860 INFO CLAW: Solution 0 computed for time t=0.000000\n"
       ]
      },
      {
       "output_type": "stream",
       "stream": "stdout",
       "text": [
        "2014-12-04 18:36:33,868 INFO CLAW: Solution 1 computed for time t=0.500000\n"
       ]
      },
      {
       "output_type": "stream",
       "stream": "stdout",
       "text": [
        "2014-12-04 18:36:33,877 INFO CLAW: Solution 2 computed for time t=1.000000\n"
       ]
      },
      {
       "output_type": "stream",
       "stream": "stdout",
       "text": [
        "2014-12-04 18:36:34,754 INFO CLAW: Solution 0 computed for time t=0.000000\n"
       ]
      },
      {
       "output_type": "stream",
       "stream": "stdout",
       "text": [
        "2014-12-04 18:36:34,763 INFO CLAW: Solution 1 computed for time t=0.500000\n"
       ]
      },
      {
       "output_type": "stream",
       "stream": "stdout",
       "text": [
        "2014-12-04 18:36:34,771 INFO CLAW: Solution 2 computed for time t=1.000000\n"
       ]
      },
      {
       "output_type": "stream",
       "stream": "stdout",
       "text": [
        "2014-12-04 18:36:35,689 INFO CLAW: Solution 0 computed for time t=0.000000\n"
       ]
      },
      {
       "output_type": "stream",
       "stream": "stdout",
       "text": [
        "2014-12-04 18:36:35,697 INFO CLAW: Solution 1 computed for time t=0.500000\n"
       ]
      },
      {
       "output_type": "stream",
       "stream": "stdout",
       "text": [
        "2014-12-04 18:36:35,705 INFO CLAW: Solution 2 computed for time t=1.000000\n"
       ]
      },
      {
       "output_type": "stream",
       "stream": "stdout",
       "text": [
        "2014-12-04 18:36:36,617 INFO CLAW: Solution 0 computed for time t=0.000000\n"
       ]
      },
      {
       "output_type": "stream",
       "stream": "stdout",
       "text": [
        "2014-12-04 18:36:36,625 INFO CLAW: Solution 1 computed for time t=0.500000\n"
       ]
      },
      {
       "output_type": "stream",
       "stream": "stdout",
       "text": [
        "2014-12-04 18:36:36,636 INFO CLAW: Solution 2 computed for time t=1.000000\n"
       ]
      },
      {
       "output_type": "stream",
       "stream": "stdout",
       "text": [
        "2014-12-04 18:36:37,579 INFO CLAW: Solution 0 computed for time t=0.000000\n"
       ]
      },
      {
       "output_type": "stream",
       "stream": "stdout",
       "text": [
        "2014-12-04 18:36:37,591 INFO CLAW: Solution 1 computed for time t=0.500000\n"
       ]
      },
      {
       "output_type": "stream",
       "stream": "stdout",
       "text": [
        "2014-12-04 18:36:37,600 INFO CLAW: Solution 2 computed for time t=1.000000\n"
       ]
      },
      {
       "output_type": "stream",
       "stream": "stdout",
       "text": [
        "2014-12-04 18:36:38,575 INFO CLAW: Solution 0 computed for time t=0.000000\n"
       ]
      },
      {
       "output_type": "stream",
       "stream": "stdout",
       "text": [
        "2014-12-04 18:36:38,583 INFO CLAW: Solution 1 computed for time t=0.500000\n"
       ]
      },
      {
       "output_type": "stream",
       "stream": "stdout",
       "text": [
        "2014-12-04 18:36:38,590 INFO CLAW: Solution 2 computed for time t=1.000000\n"
       ]
      },
      {
       "output_type": "stream",
       "stream": "stdout",
       "text": [
        "2014-12-04 18:36:39,605 INFO CLAW: Solution 0 computed for time t=0.000000\n"
       ]
      },
      {
       "output_type": "stream",
       "stream": "stdout",
       "text": [
        "2014-12-04 18:36:39,613 INFO CLAW: Solution 1 computed for time t=0.500000\n"
       ]
      },
      {
       "output_type": "stream",
       "stream": "stdout",
       "text": [
        "2014-12-04 18:36:39,621 INFO CLAW: Solution 2 computed for time t=1.000000\n"
       ]
      },
      {
       "output_type": "stream",
       "stream": "stdout",
       "text": [
        "2014-12-04 18:36:40,485 INFO CLAW: Solution 0 computed for time t=0.000000\n"
       ]
      },
      {
       "output_type": "stream",
       "stream": "stdout",
       "text": [
        "2014-12-04 18:36:40,496 INFO CLAW: Solution 1 computed for time t=0.500000\n"
       ]
      },
      {
       "output_type": "stream",
       "stream": "stdout",
       "text": [
        "2014-12-04 18:36:40,505 INFO CLAW: Solution 2 computed for time t=1.000000\n"
       ]
      },
      {
       "output_type": "stream",
       "stream": "stdout",
       "text": [
        "2014-12-04 18:36:41,399 INFO CLAW: Solution 0 computed for time t=0.000000\n"
       ]
      },
      {
       "output_type": "stream",
       "stream": "stdout",
       "text": [
        "2014-12-04 18:36:41,411 INFO CLAW: Solution 1 computed for time t=0.500000\n"
       ]
      },
      {
       "output_type": "stream",
       "stream": "stdout",
       "text": [
        "2014-12-04 18:36:41,422 INFO CLAW: Solution 2 computed for time t=1.000000\n"
       ]
      },
      {
       "output_type": "stream",
       "stream": "stdout",
       "text": [
        "2014-12-04 18:36:42,349 INFO CLAW: Solution 0 computed for time t=0.000000\n"
       ]
      },
      {
       "output_type": "stream",
       "stream": "stdout",
       "text": [
        "2014-12-04 18:36:42,361 INFO CLAW: Solution 1 computed for time t=0.500000\n"
       ]
      },
      {
       "output_type": "stream",
       "stream": "stdout",
       "text": [
        "2014-12-04 18:36:42,372 INFO CLAW: Solution 2 computed for time t=1.000000\n"
       ]
      },
      {
       "output_type": "stream",
       "stream": "stdout",
       "text": [
        "2014-12-04 18:36:43,289 INFO CLAW: Solution 0 computed for time t=0.000000\n"
       ]
      },
      {
       "output_type": "stream",
       "stream": "stdout",
       "text": [
        "2014-12-04 18:36:43,298 INFO CLAW: Solution 1 computed for time t=0.500000\n"
       ]
      },
      {
       "output_type": "stream",
       "stream": "stdout",
       "text": [
        "2014-12-04 18:36:43,306 INFO CLAW: Solution 2 computed for time t=1.000000\n"
       ]
      },
      {
       "output_type": "stream",
       "stream": "stdout",
       "text": [
        "2014-12-04 18:36:44,192 INFO CLAW: Solution 0 computed for time t=0.000000\n"
       ]
      },
      {
       "output_type": "stream",
       "stream": "stdout",
       "text": [
        "2014-12-04 18:36:44,200 INFO CLAW: Solution 1 computed for time t=0.500000\n"
       ]
      },
      {
       "output_type": "stream",
       "stream": "stdout",
       "text": [
        "2014-12-04 18:36:44,210 INFO CLAW: Solution 2 computed for time t=1.000000\n"
       ]
      },
      {
       "output_type": "stream",
       "stream": "stdout",
       "text": [
        "2014-12-04 18:36:45,105 INFO CLAW: Solution 0 computed for time t=0.000000\n"
       ]
      },
      {
       "output_type": "stream",
       "stream": "stdout",
       "text": [
        "2014-12-04 18:36:45,112 INFO CLAW: Solution 1 computed for time t=0.500000\n"
       ]
      },
      {
       "output_type": "stream",
       "stream": "stdout",
       "text": [
        "2014-12-04 18:36:45,120 INFO CLAW: Solution 2 computed for time t=1.000000\n"
       ]
      },
      {
       "output_type": "stream",
       "stream": "stdout",
       "text": [
        "2014-12-04 18:36:45,994 INFO CLAW: Solution 0 computed for time t=0.000000\n"
       ]
      },
      {
       "output_type": "stream",
       "stream": "stdout",
       "text": [
        "2014-12-04 18:36:46,002 INFO CLAW: Solution 1 computed for time t=0.500000\n"
       ]
      },
      {
       "output_type": "stream",
       "stream": "stdout",
       "text": [
        "2014-12-04 18:36:46,010 INFO CLAW: Solution 2 computed for time t=1.000000\n"
       ]
      },
      {
       "output_type": "stream",
       "stream": "stdout",
       "text": [
        "2014-12-04 18:36:46,897 INFO CLAW: Solution 0 computed for time t=0.000000\n"
       ]
      },
      {
       "output_type": "stream",
       "stream": "stdout",
       "text": [
        "2014-12-04 18:36:46,904 INFO CLAW: Solution 1 computed for time t=0.500000\n"
       ]
      },
      {
       "output_type": "stream",
       "stream": "stdout",
       "text": [
        "2014-12-04 18:36:46,913 INFO CLAW: Solution 2 computed for time t=1.000000\n"
       ]
      },
      {
       "output_type": "stream",
       "stream": "stdout",
       "text": [
        "2014-12-04 18:36:47,824 INFO CLAW: Solution 0 computed for time t=0.000000\n"
       ]
      },
      {
       "output_type": "stream",
       "stream": "stdout",
       "text": [
        "2014-12-04 18:36:47,835 INFO CLAW: Solution 1 computed for time t=0.500000\n"
       ]
      },
      {
       "output_type": "stream",
       "stream": "stdout",
       "text": [
        "2014-12-04 18:36:47,846 INFO CLAW: Solution 2 computed for time t=1.000000\n"
       ]
      },
      {
       "output_type": "stream",
       "stream": "stdout",
       "text": [
        "2014-12-04 18:36:48,767 INFO CLAW: Solution 0 computed for time t=0.000000\n"
       ]
      },
      {
       "output_type": "stream",
       "stream": "stdout",
       "text": [
        "2014-12-04 18:36:48,776 INFO CLAW: Solution 1 computed for time t=0.500000\n"
       ]
      },
      {
       "output_type": "stream",
       "stream": "stdout",
       "text": [
        "2014-12-04 18:36:48,785 INFO CLAW: Solution 2 computed for time t=1.000000\n"
       ]
      },
      {
       "output_type": "stream",
       "stream": "stdout",
       "text": [
        "2014-12-04 18:36:49,647 INFO CLAW: Solution 0 computed for time t=0.000000\n"
       ]
      },
      {
       "output_type": "stream",
       "stream": "stdout",
       "text": [
        "2014-12-04 18:36:49,655 INFO CLAW: Solution 1 computed for time t=0.500000\n"
       ]
      },
      {
       "output_type": "stream",
       "stream": "stdout",
       "text": [
        "2014-12-04 18:36:49,663 INFO CLAW: Solution 2 computed for time t=1.000000\n"
       ]
      },
      {
       "output_type": "stream",
       "stream": "stdout",
       "text": [
        "2014-12-04 18:36:50,553 INFO CLAW: Solution 0 computed for time t=0.000000\n"
       ]
      },
      {
       "output_type": "stream",
       "stream": "stdout",
       "text": [
        "2014-12-04 18:36:50,562 INFO CLAW: Solution 1 computed for time t=0.500000\n"
       ]
      },
      {
       "output_type": "stream",
       "stream": "stdout",
       "text": [
        "2014-12-04 18:36:50,570 INFO CLAW: Solution 2 computed for time t=1.000000\n"
       ]
      },
      {
       "output_type": "stream",
       "stream": "stdout",
       "text": [
        "2014-12-04 18:36:51,451 INFO CLAW: Solution 0 computed for time t=0.000000\n"
       ]
      },
      {
       "output_type": "stream",
       "stream": "stdout",
       "text": [
        "2014-12-04 18:36:51,459 INFO CLAW: Solution 1 computed for time t=0.500000\n"
       ]
      },
      {
       "output_type": "stream",
       "stream": "stdout",
       "text": [
        "2014-12-04 18:36:51,466 INFO CLAW: Solution 2 computed for time t=1.000000\n"
       ]
      },
      {
       "output_type": "stream",
       "stream": "stdout",
       "text": [
        "2014-12-04 18:36:52,412 INFO CLAW: Solution 0 computed for time t=0.000000\n"
       ]
      },
      {
       "output_type": "stream",
       "stream": "stdout",
       "text": [
        "2014-12-04 18:36:52,420 INFO CLAW: Solution 1 computed for time t=0.500000\n"
       ]
      },
      {
       "output_type": "stream",
       "stream": "stdout",
       "text": [
        "2014-12-04 18:36:52,431 INFO CLAW: Solution 2 computed for time t=1.000000\n"
       ]
      },
      {
       "output_type": "stream",
       "stream": "stdout",
       "text": [
        "2014-12-04 18:36:53,413 INFO CLAW: Solution 0 computed for time t=0.000000\n"
       ]
      },
      {
       "output_type": "stream",
       "stream": "stdout",
       "text": [
        "2014-12-04 18:36:53,421 INFO CLAW: Solution 1 computed for time t=0.500000\n"
       ]
      },
      {
       "output_type": "stream",
       "stream": "stdout",
       "text": [
        "2014-12-04 18:36:53,429 INFO CLAW: Solution 2 computed for time t=1.000000\n"
       ]
      },
      {
       "output_type": "stream",
       "stream": "stdout",
       "text": [
        "2014-12-04 18:36:54,337 INFO CLAW: Solution 0 computed for time t=0.000000\n"
       ]
      },
      {
       "output_type": "stream",
       "stream": "stdout",
       "text": [
        "2014-12-04 18:36:54,348 INFO CLAW: Solution 1 computed for time t=0.500000\n"
       ]
      },
      {
       "output_type": "stream",
       "stream": "stdout",
       "text": [
        "2014-12-04 18:36:54,356 INFO CLAW: Solution 2 computed for time t=1.000000\n"
       ]
      },
      {
       "output_type": "stream",
       "stream": "stdout",
       "text": [
        "2014-12-04 18:36:55,238 INFO CLAW: Solution 0 computed for time t=0.000000\n"
       ]
      },
      {
       "output_type": "stream",
       "stream": "stdout",
       "text": [
        "2014-12-04 18:36:55,247 INFO CLAW: Solution 1 computed for time t=0.500000\n"
       ]
      },
      {
       "output_type": "stream",
       "stream": "stdout",
       "text": [
        "2014-12-04 18:36:55,255 INFO CLAW: Solution 2 computed for time t=1.000000\n"
       ]
      },
      {
       "output_type": "stream",
       "stream": "stdout",
       "text": [
        "2014-12-04 18:36:56,110 INFO CLAW: Solution 0 computed for time t=0.000000\n"
       ]
      },
      {
       "output_type": "stream",
       "stream": "stdout",
       "text": [
        "2014-12-04 18:36:56,118 INFO CLAW: Solution 1 computed for time t=0.500000\n"
       ]
      },
      {
       "output_type": "stream",
       "stream": "stdout",
       "text": [
        "2014-12-04 18:36:56,125 INFO CLAW: Solution 2 computed for time t=1.000000\n"
       ]
      },
      {
       "output_type": "stream",
       "stream": "stdout",
       "text": [
        "2014-12-04 18:36:57,047 INFO CLAW: Solution 0 computed for time t=0.000000\n"
       ]
      },
      {
       "output_type": "stream",
       "stream": "stdout",
       "text": [
        "2014-12-04 18:36:57,055 INFO CLAW: Solution 1 computed for time t=0.500000\n"
       ]
      },
      {
       "output_type": "stream",
       "stream": "stdout",
       "text": [
        "2014-12-04 18:36:57,063 INFO CLAW: Solution 2 computed for time t=1.000000\n"
       ]
      },
      {
       "output_type": "stream",
       "stream": "stdout",
       "text": [
        "2014-12-04 18:36:57,913 INFO CLAW: Solution 0 computed for time t=0.000000\n"
       ]
      },
      {
       "output_type": "stream",
       "stream": "stdout",
       "text": [
        "2014-12-04 18:36:57,924 INFO CLAW: Solution 1 computed for time t=0.500000\n"
       ]
      },
      {
       "output_type": "stream",
       "stream": "stdout",
       "text": [
        "2014-12-04 18:36:57,932 INFO CLAW: Solution 2 computed for time t=1.000000\n"
       ]
      },
      {
       "output_type": "stream",
       "stream": "stdout",
       "text": [
        "2014-12-04 18:36:58,830 INFO CLAW: Solution 0 computed for time t=0.000000\n"
       ]
      },
      {
       "output_type": "stream",
       "stream": "stdout",
       "text": [
        "2014-12-04 18:36:58,838 INFO CLAW: Solution 1 computed for time t=0.500000\n"
       ]
      },
      {
       "output_type": "stream",
       "stream": "stdout",
       "text": [
        "2014-12-04 18:36:58,847 INFO CLAW: Solution 2 computed for time t=1.000000\n"
       ]
      },
      {
       "output_type": "stream",
       "stream": "stdout",
       "text": [
        "2014-12-04 18:36:59,739 INFO CLAW: Solution 0 computed for time t=0.000000\n"
       ]
      },
      {
       "output_type": "stream",
       "stream": "stdout",
       "text": [
        "2014-12-04 18:36:59,752 INFO CLAW: Solution 1 computed for time t=0.500000\n"
       ]
      },
      {
       "output_type": "stream",
       "stream": "stdout",
       "text": [
        "2014-12-04 18:36:59,765 INFO CLAW: Solution 2 computed for time t=1.000000\n"
       ]
      },
      {
       "output_type": "stream",
       "stream": "stdout",
       "text": [
        "2014-12-04 18:37:00,647 INFO CLAW: Solution 0 computed for time t=0.000000\n"
       ]
      },
      {
       "output_type": "stream",
       "stream": "stdout",
       "text": [
        "2014-12-04 18:37:00,655 INFO CLAW: Solution 1 computed for time t=0.500000\n"
       ]
      },
      {
       "output_type": "stream",
       "stream": "stdout",
       "text": [
        "2014-12-04 18:37:00,663 INFO CLAW: Solution 2 computed for time t=1.000000\n"
       ]
      },
      {
       "output_type": "stream",
       "stream": "stdout",
       "text": [
        "2014-12-04 18:37:01,570 INFO CLAW: Solution 0 computed for time t=0.000000\n"
       ]
      },
      {
       "output_type": "stream",
       "stream": "stdout",
       "text": [
        "2014-12-04 18:37:01,578 INFO CLAW: Solution 1 computed for time t=0.500000\n"
       ]
      },
      {
       "output_type": "stream",
       "stream": "stdout",
       "text": [
        "2014-12-04 18:37:01,589 INFO CLAW: Solution 2 computed for time t=1.000000\n"
       ]
      },
      {
       "output_type": "stream",
       "stream": "stdout",
       "text": [
        "2014-12-04 18:37:02,524 INFO CLAW: Solution 0 computed for time t=0.000000\n"
       ]
      },
      {
       "output_type": "stream",
       "stream": "stdout",
       "text": [
        "2014-12-04 18:37:02,532 INFO CLAW: Solution 1 computed for time t=0.500000\n"
       ]
      },
      {
       "output_type": "stream",
       "stream": "stdout",
       "text": [
        "2014-12-04 18:37:02,540 INFO CLAW: Solution 2 computed for time t=1.000000\n"
       ]
      },
      {
       "output_type": "stream",
       "stream": "stdout",
       "text": [
        "2014-12-04 18:37:03,450 INFO CLAW: Solution 0 computed for time t=0.000000\n"
       ]
      },
      {
       "output_type": "stream",
       "stream": "stdout",
       "text": [
        "2014-12-04 18:37:03,458 INFO CLAW: Solution 1 computed for time t=0.500000\n"
       ]
      },
      {
       "output_type": "stream",
       "stream": "stdout",
       "text": [
        "2014-12-04 18:37:03,467 INFO CLAW: Solution 2 computed for time t=1.000000\n"
       ]
      },
      {
       "output_type": "stream",
       "stream": "stdout",
       "text": [
        "2014-12-04 18:37:04,368 INFO CLAW: Solution 0 computed for time t=0.000000\n"
       ]
      },
      {
       "output_type": "stream",
       "stream": "stdout",
       "text": [
        "2014-12-04 18:37:04,375 INFO CLAW: Solution 1 computed for time t=0.500000\n"
       ]
      },
      {
       "output_type": "stream",
       "stream": "stdout",
       "text": [
        "2014-12-04 18:37:04,384 INFO CLAW: Solution 2 computed for time t=1.000000\n"
       ]
      },
      {
       "output_type": "stream",
       "stream": "stdout",
       "text": [
        "2014-12-04 18:37:05,288 INFO CLAW: Solution 0 computed for time t=0.000000\n"
       ]
      },
      {
       "output_type": "stream",
       "stream": "stdout",
       "text": [
        "2014-12-04 18:37:05,298 INFO CLAW: Solution 1 computed for time t=0.500000\n"
       ]
      },
      {
       "output_type": "stream",
       "stream": "stdout",
       "text": [
        "2014-12-04 18:37:05,306 INFO CLAW: Solution 2 computed for time t=1.000000\n"
       ]
      },
      {
       "output_type": "stream",
       "stream": "stdout",
       "text": [
        "2014-12-04 18:37:06,221 INFO CLAW: Solution 0 computed for time t=0.000000\n"
       ]
      },
      {
       "output_type": "stream",
       "stream": "stdout",
       "text": [
        "2014-12-04 18:37:06,229 INFO CLAW: Solution 1 computed for time t=0.500000\n"
       ]
      },
      {
       "output_type": "stream",
       "stream": "stdout",
       "text": [
        "2014-12-04 18:37:06,236 INFO CLAW: Solution 2 computed for time t=1.000000\n"
       ]
      },
      {
       "output_type": "stream",
       "stream": "stdout",
       "text": [
        "2014-12-04 18:37:07,217 INFO CLAW: Solution 0 computed for time t=0.000000\n"
       ]
      },
      {
       "output_type": "stream",
       "stream": "stdout",
       "text": [
        "2014-12-04 18:37:07,226 INFO CLAW: Solution 1 computed for time t=0.500000\n"
       ]
      },
      {
       "output_type": "stream",
       "stream": "stdout",
       "text": [
        "2014-12-04 18:37:07,234 INFO CLAW: Solution 2 computed for time t=1.000000\n"
       ]
      },
      {
       "output_type": "stream",
       "stream": "stdout",
       "text": [
        "2014-12-04 18:37:08,131 INFO CLAW: Solution 0 computed for time t=0.000000\n"
       ]
      },
      {
       "output_type": "stream",
       "stream": "stdout",
       "text": [
        "2014-12-04 18:37:08,138 INFO CLAW: Solution 1 computed for time t=0.500000\n"
       ]
      },
      {
       "output_type": "stream",
       "stream": "stdout",
       "text": [
        "2014-12-04 18:37:08,147 INFO CLAW: Solution 2 computed for time t=1.000000\n"
       ]
      },
      {
       "output_type": "stream",
       "stream": "stdout",
       "text": [
        "2014-12-04 18:37:09,086 INFO CLAW: Solution 0 computed for time t=0.000000\n"
       ]
      },
      {
       "output_type": "stream",
       "stream": "stdout",
       "text": [
        "2014-12-04 18:37:09,098 INFO CLAW: Solution 1 computed for time t=0.500000\n"
       ]
      },
      {
       "output_type": "stream",
       "stream": "stdout",
       "text": [
        "2014-12-04 18:37:09,105 INFO CLAW: Solution 2 computed for time t=1.000000\n"
       ]
      },
      {
       "output_type": "stream",
       "stream": "stdout",
       "text": [
        "2014-12-04 18:37:10,014 INFO CLAW: Solution 0 computed for time t=0.000000\n"
       ]
      },
      {
       "output_type": "stream",
       "stream": "stdout",
       "text": [
        "2014-12-04 18:37:10,022 INFO CLAW: Solution 1 computed for time t=0.500000\n"
       ]
      },
      {
       "output_type": "stream",
       "stream": "stdout",
       "text": [
        "2014-12-04 18:37:10,031 INFO CLAW: Solution 2 computed for time t=1.000000\n"
       ]
      },
      {
       "output_type": "stream",
       "stream": "stdout",
       "text": [
        "2014-12-04 18:37:10,963 INFO CLAW: Solution 0 computed for time t=0.000000\n"
       ]
      },
      {
       "output_type": "stream",
       "stream": "stdout",
       "text": [
        "2014-12-04 18:37:10,974 INFO CLAW: Solution 1 computed for time t=0.500000\n"
       ]
      },
      {
       "output_type": "stream",
       "stream": "stdout",
       "text": [
        "2014-12-04 18:37:10,985 INFO CLAW: Solution 2 computed for time t=1.000000\n"
       ]
      },
      {
       "output_type": "stream",
       "stream": "stdout",
       "text": [
        "2014-12-04 18:37:11,890 INFO CLAW: Solution 0 computed for time t=0.000000\n"
       ]
      },
      {
       "output_type": "stream",
       "stream": "stdout",
       "text": [
        "2014-12-04 18:37:11,897 INFO CLAW: Solution 1 computed for time t=0.500000\n"
       ]
      },
      {
       "output_type": "stream",
       "stream": "stdout",
       "text": [
        "2014-12-04 18:37:11,905 INFO CLAW: Solution 2 computed for time t=1.000000\n"
       ]
      },
      {
       "output_type": "stream",
       "stream": "stdout",
       "text": [
        "2014-12-04 18:37:12,793 INFO CLAW: Solution 0 computed for time t=0.000000\n"
       ]
      },
      {
       "output_type": "stream",
       "stream": "stdout",
       "text": [
        "2014-12-04 18:37:12,801 INFO CLAW: Solution 1 computed for time t=0.500000\n"
       ]
      },
      {
       "output_type": "stream",
       "stream": "stdout",
       "text": [
        "2014-12-04 18:37:12,815 INFO CLAW: Solution 2 computed for time t=1.000000\n"
       ]
      },
      {
       "output_type": "stream",
       "stream": "stdout",
       "text": [
        "2014-12-04 18:37:13,740 INFO CLAW: Solution 0 computed for time t=0.000000\n"
       ]
      },
      {
       "output_type": "stream",
       "stream": "stdout",
       "text": [
        "2014-12-04 18:37:13,748 INFO CLAW: Solution 1 computed for time t=0.500000\n"
       ]
      },
      {
       "output_type": "stream",
       "stream": "stdout",
       "text": [
        "2014-12-04 18:37:13,757 INFO CLAW: Solution 2 computed for time t=1.000000\n"
       ]
      },
      {
       "output_type": "stream",
       "stream": "stdout",
       "text": [
        "2014-12-04 18:37:14,652 INFO CLAW: Solution 0 computed for time t=0.000000\n"
       ]
      },
      {
       "output_type": "stream",
       "stream": "stdout",
       "text": [
        "2014-12-04 18:37:14,661 INFO CLAW: Solution 1 computed for time t=0.500000\n"
       ]
      },
      {
       "output_type": "stream",
       "stream": "stdout",
       "text": [
        "2014-12-04 18:37:14,669 INFO CLAW: Solution 2 computed for time t=1.000000\n"
       ]
      },
      {
       "output_type": "stream",
       "stream": "stdout",
       "text": [
        "2014-12-04 18:37:15,643 INFO CLAW: Solution 0 computed for time t=0.000000\n"
       ]
      },
      {
       "output_type": "stream",
       "stream": "stdout",
       "text": [
        "2014-12-04 18:37:15,651 INFO CLAW: Solution 1 computed for time t=0.500000\n"
       ]
      },
      {
       "output_type": "stream",
       "stream": "stdout",
       "text": [
        "2014-12-04 18:37:15,659 INFO CLAW: Solution 2 computed for time t=1.000000\n"
       ]
      },
      {
       "output_type": "stream",
       "stream": "stdout",
       "text": [
        "2014-12-04 18:37:16,537 INFO CLAW: Solution 0 computed for time t=0.000000\n"
       ]
      },
      {
       "output_type": "stream",
       "stream": "stdout",
       "text": [
        "2014-12-04 18:37:16,548 INFO CLAW: Solution 1 computed for time t=0.500000\n"
       ]
      },
      {
       "output_type": "stream",
       "stream": "stdout",
       "text": [
        "2014-12-04 18:37:16,560 INFO CLAW: Solution 2 computed for time t=1.000000\n"
       ]
      },
      {
       "output_type": "stream",
       "stream": "stdout",
       "text": [
        "2014-12-04 18:37:17,494 INFO CLAW: Solution 0 computed for time t=0.000000\n"
       ]
      },
      {
       "output_type": "stream",
       "stream": "stdout",
       "text": [
        "2014-12-04 18:37:17,502 INFO CLAW: Solution 1 computed for time t=0.500000\n"
       ]
      },
      {
       "output_type": "stream",
       "stream": "stdout",
       "text": [
        "2014-12-04 18:37:17,510 INFO CLAW: Solution 2 computed for time t=1.000000\n"
       ]
      },
      {
       "output_type": "stream",
       "stream": "stdout",
       "text": [
        "2014-12-04 18:37:18,420 INFO CLAW: Solution 0 computed for time t=0.000000\n"
       ]
      },
      {
       "output_type": "stream",
       "stream": "stdout",
       "text": [
        "2014-12-04 18:37:18,428 INFO CLAW: Solution 1 computed for time t=0.500000\n"
       ]
      },
      {
       "output_type": "stream",
       "stream": "stdout",
       "text": [
        "2014-12-04 18:37:18,436 INFO CLAW: Solution 2 computed for time t=1.000000\n"
       ]
      },
      {
       "output_type": "stream",
       "stream": "stdout",
       "text": [
        "2014-12-04 18:37:19,335 INFO CLAW: Solution 0 computed for time t=0.000000\n"
       ]
      },
      {
       "output_type": "stream",
       "stream": "stdout",
       "text": [
        "2014-12-04 18:37:19,343 INFO CLAW: Solution 1 computed for time t=0.500000\n"
       ]
      },
      {
       "output_type": "stream",
       "stream": "stdout",
       "text": [
        "2014-12-04 18:37:19,351 INFO CLAW: Solution 2 computed for time t=1.000000\n"
       ]
      },
      {
       "output_type": "stream",
       "stream": "stdout",
       "text": [
        "2014-12-04 18:37:20,279 INFO CLAW: Solution 0 computed for time t=0.000000\n"
       ]
      },
      {
       "output_type": "stream",
       "stream": "stdout",
       "text": [
        "2014-12-04 18:37:20,287 INFO CLAW: Solution 1 computed for time t=0.500000\n"
       ]
      },
      {
       "output_type": "stream",
       "stream": "stdout",
       "text": [
        "2014-12-04 18:37:20,296 INFO CLAW: Solution 2 computed for time t=1.000000\n"
       ]
      },
      {
       "output_type": "stream",
       "stream": "stdout",
       "text": [
        "2014-12-04 18:37:21,284 INFO CLAW: Solution 0 computed for time t=0.000000\n"
       ]
      },
      {
       "output_type": "stream",
       "stream": "stdout",
       "text": [
        "2014-12-04 18:37:21,295 INFO CLAW: Solution 1 computed for time t=0.500000\n"
       ]
      },
      {
       "output_type": "stream",
       "stream": "stdout",
       "text": [
        "2014-12-04 18:37:21,306 INFO CLAW: Solution 2 computed for time t=1.000000\n"
       ]
      },
      {
       "output_type": "stream",
       "stream": "stdout",
       "text": [
        "2014-12-04 18:37:22,287 INFO CLAW: Solution 0 computed for time t=0.000000\n"
       ]
      },
      {
       "output_type": "stream",
       "stream": "stdout",
       "text": [
        "2014-12-04 18:37:22,295 INFO CLAW: Solution 1 computed for time t=0.500000\n"
       ]
      },
      {
       "output_type": "stream",
       "stream": "stdout",
       "text": [
        "2014-12-04 18:37:22,303 INFO CLAW: Solution 2 computed for time t=1.000000\n"
       ]
      },
      {
       "output_type": "stream",
       "stream": "stdout",
       "text": [
        "2014-12-04 18:37:23,223 INFO CLAW: Solution 0 computed for time t=0.000000\n"
       ]
      },
      {
       "output_type": "stream",
       "stream": "stdout",
       "text": [
        "2014-12-04 18:37:23,231 INFO CLAW: Solution 1 computed for time t=0.500000\n"
       ]
      },
      {
       "output_type": "stream",
       "stream": "stdout",
       "text": [
        "2014-12-04 18:37:23,238 INFO CLAW: Solution 2 computed for time t=1.000000\n"
       ]
      },
      {
       "output_type": "stream",
       "stream": "stdout",
       "text": [
        "2014-12-04 18:37:24,135 INFO CLAW: Solution 0 computed for time t=0.000000\n"
       ]
      },
      {
       "output_type": "stream",
       "stream": "stdout",
       "text": [
        "2014-12-04 18:37:24,143 INFO CLAW: Solution 1 computed for time t=0.500000\n"
       ]
      },
      {
       "output_type": "stream",
       "stream": "stdout",
       "text": [
        "2014-12-04 18:37:24,156 INFO CLAW: Solution 2 computed for time t=1.000000\n"
       ]
      },
      {
       "output_type": "stream",
       "stream": "stdout",
       "text": [
        "2014-12-04 18:37:25,080 INFO CLAW: Solution 0 computed for time t=0.000000\n"
       ]
      },
      {
       "output_type": "stream",
       "stream": "stdout",
       "text": [
        "2014-12-04 18:37:25,092 INFO CLAW: Solution 1 computed for time t=0.500000\n"
       ]
      },
      {
       "output_type": "stream",
       "stream": "stdout",
       "text": [
        "2014-12-04 18:37:25,099 INFO CLAW: Solution 2 computed for time t=1.000000\n"
       ]
      },
      {
       "output_type": "stream",
       "stream": "stdout",
       "text": [
        "2014-12-04 18:37:25,992 INFO CLAW: Solution 0 computed for time t=0.000000\n"
       ]
      },
      {
       "output_type": "stream",
       "stream": "stdout",
       "text": [
        "2014-12-04 18:37:26,000 INFO CLAW: Solution 1 computed for time t=0.500000\n"
       ]
      },
      {
       "output_type": "stream",
       "stream": "stdout",
       "text": [
        "2014-12-04 18:37:26,011 INFO CLAW: Solution 2 computed for time t=1.000000\n"
       ]
      },
      {
       "output_type": "stream",
       "stream": "stdout",
       "text": [
        "2014-12-04 18:37:26,947 INFO CLAW: Solution 0 computed for time t=0.000000\n"
       ]
      },
      {
       "output_type": "stream",
       "stream": "stdout",
       "text": [
        "2014-12-04 18:37:26,955 INFO CLAW: Solution 1 computed for time t=0.500000\n"
       ]
      },
      {
       "output_type": "stream",
       "stream": "stdout",
       "text": [
        "2014-12-04 18:37:26,965 INFO CLAW: Solution 2 computed for time t=1.000000\n"
       ]
      },
      {
       "output_type": "stream",
       "stream": "stdout",
       "text": [
        "2014-12-04 18:37:27,853 INFO CLAW: Solution 0 computed for time t=0.000000\n"
       ]
      },
      {
       "output_type": "stream",
       "stream": "stdout",
       "text": [
        "2014-12-04 18:37:27,860 INFO CLAW: Solution 1 computed for time t=0.500000\n"
       ]
      },
      {
       "output_type": "stream",
       "stream": "stdout",
       "text": [
        "2014-12-04 18:37:27,871 INFO CLAW: Solution 2 computed for time t=1.000000\n"
       ]
      },
      {
       "output_type": "stream",
       "stream": "stdout",
       "text": [
        "2014-12-04 18:37:28,825 INFO CLAW: Solution 0 computed for time t=0.000000\n"
       ]
      },
      {
       "output_type": "stream",
       "stream": "stdout",
       "text": [
        "2014-12-04 18:37:28,837 INFO CLAW: Solution 1 computed for time t=0.500000\n"
       ]
      },
      {
       "output_type": "stream",
       "stream": "stdout",
       "text": [
        "2014-12-04 18:37:28,845 INFO CLAW: Solution 2 computed for time t=1.000000\n"
       ]
      },
      {
       "output_type": "stream",
       "stream": "stdout",
       "text": [
        "2014-12-04 18:37:29,823 INFO CLAW: Solution 0 computed for time t=0.000000\n"
       ]
      },
      {
       "output_type": "stream",
       "stream": "stdout",
       "text": [
        "2014-12-04 18:37:29,831 INFO CLAW: Solution 1 computed for time t=0.500000\n"
       ]
      },
      {
       "output_type": "stream",
       "stream": "stdout",
       "text": [
        "2014-12-04 18:37:29,843 INFO CLAW: Solution 2 computed for time t=1.000000\n"
       ]
      },
      {
       "output_type": "stream",
       "stream": "stdout",
       "text": [
        "2014-12-04 18:37:30,852 INFO CLAW: Solution 0 computed for time t=0.000000\n"
       ]
      },
      {
       "output_type": "stream",
       "stream": "stdout",
       "text": [
        "2014-12-04 18:37:30,860 INFO CLAW: Solution 1 computed for time t=0.500000\n"
       ]
      },
      {
       "output_type": "stream",
       "stream": "stdout",
       "text": [
        "2014-12-04 18:37:30,870 INFO CLAW: Solution 2 computed for time t=1.000000\n"
       ]
      },
      {
       "output_type": "stream",
       "stream": "stdout",
       "text": [
        "2014-12-04 18:37:31,793 INFO CLAW: Solution 0 computed for time t=0.000000\n"
       ]
      },
      {
       "output_type": "stream",
       "stream": "stdout",
       "text": [
        "2014-12-04 18:37:31,801 INFO CLAW: Solution 1 computed for time t=0.500000\n"
       ]
      },
      {
       "output_type": "stream",
       "stream": "stdout",
       "text": [
        "2014-12-04 18:37:31,811 INFO CLAW: Solution 2 computed for time t=1.000000\n"
       ]
      },
      {
       "output_type": "stream",
       "stream": "stdout",
       "text": [
        "2014-12-04 18:37:32,757 INFO CLAW: Solution 0 computed for time t=0.000000\n"
       ]
      },
      {
       "output_type": "stream",
       "stream": "stdout",
       "text": [
        "2014-12-04 18:37:32,769 INFO CLAW: Solution 1 computed for time t=0.500000\n"
       ]
      },
      {
       "output_type": "stream",
       "stream": "stdout",
       "text": [
        "2014-12-04 18:37:32,783 INFO CLAW: Solution 2 computed for time t=1.000000\n"
       ]
      },
      {
       "output_type": "stream",
       "stream": "stdout",
       "text": [
        "2014-12-04 18:37:33,703 INFO CLAW: Solution 0 computed for time t=0.000000\n"
       ]
      },
      {
       "output_type": "stream",
       "stream": "stdout",
       "text": [
        "2014-12-04 18:37:33,713 INFO CLAW: Solution 1 computed for time t=0.500000\n"
       ]
      },
      {
       "output_type": "stream",
       "stream": "stdout",
       "text": [
        "2014-12-04 18:37:33,722 INFO CLAW: Solution 2 computed for time t=1.000000\n"
       ]
      },
      {
       "output_type": "stream",
       "stream": "stdout",
       "text": [
        "2014-12-04 18:37:34,634 INFO CLAW: Solution 0 computed for time t=0.000000\n"
       ]
      },
      {
       "output_type": "stream",
       "stream": "stdout",
       "text": [
        "2014-12-04 18:37:34,647 INFO CLAW: Solution 1 computed for time t=0.500000\n"
       ]
      },
      {
       "output_type": "stream",
       "stream": "stdout",
       "text": [
        "2014-12-04 18:37:34,655 INFO CLAW: Solution 2 computed for time t=1.000000\n"
       ]
      },
      {
       "output_type": "stream",
       "stream": "stdout",
       "text": [
        "2014-12-04 18:37:35,594 INFO CLAW: Solution 0 computed for time t=0.000000\n"
       ]
      },
      {
       "output_type": "stream",
       "stream": "stdout",
       "text": [
        "2014-12-04 18:37:35,602 INFO CLAW: Solution 1 computed for time t=0.500000\n"
       ]
      },
      {
       "output_type": "stream",
       "stream": "stdout",
       "text": [
        "2014-12-04 18:37:35,609 INFO CLAW: Solution 2 computed for time t=1.000000\n"
       ]
      },
      {
       "output_type": "stream",
       "stream": "stdout",
       "text": [
        "2014-12-04 18:37:36,534 INFO CLAW: Solution 0 computed for time t=0.000000\n"
       ]
      },
      {
       "output_type": "stream",
       "stream": "stdout",
       "text": [
        "2014-12-04 18:37:36,542 INFO CLAW: Solution 1 computed for time t=0.500000\n"
       ]
      },
      {
       "output_type": "stream",
       "stream": "stdout",
       "text": [
        "2014-12-04 18:37:36,554 INFO CLAW: Solution 2 computed for time t=1.000000\n"
       ]
      },
      {
       "output_type": "stream",
       "stream": "stdout",
       "text": [
        "2014-12-04 18:37:37,454 INFO CLAW: Solution 0 computed for time t=0.000000\n"
       ]
      },
      {
       "output_type": "stream",
       "stream": "stdout",
       "text": [
        "2014-12-04 18:37:37,464 INFO CLAW: Solution 1 computed for time t=0.500000\n"
       ]
      },
      {
       "output_type": "stream",
       "stream": "stdout",
       "text": [
        "2014-12-04 18:37:37,472 INFO CLAW: Solution 2 computed for time t=1.000000\n"
       ]
      },
      {
       "output_type": "stream",
       "stream": "stdout",
       "text": [
        "2014-12-04 18:37:38,375 INFO CLAW: Solution 0 computed for time t=0.000000\n"
       ]
      },
      {
       "output_type": "stream",
       "stream": "stdout",
       "text": [
        "2014-12-04 18:37:38,387 INFO CLAW: Solution 1 computed for time t=0.500000\n"
       ]
      },
      {
       "output_type": "stream",
       "stream": "stdout",
       "text": [
        "2014-12-04 18:37:38,395 INFO CLAW: Solution 2 computed for time t=1.000000\n"
       ]
      },
      {
       "output_type": "stream",
       "stream": "stdout",
       "text": [
        "2014-12-04 18:37:39,294 INFO CLAW: Solution 0 computed for time t=0.000000\n"
       ]
      },
      {
       "output_type": "stream",
       "stream": "stdout",
       "text": [
        "2014-12-04 18:37:39,302 INFO CLAW: Solution 1 computed for time t=0.500000\n"
       ]
      },
      {
       "output_type": "stream",
       "stream": "stdout",
       "text": [
        "2014-12-04 18:37:39,313 INFO CLAW: Solution 2 computed for time t=1.000000\n"
       ]
      },
      {
       "output_type": "stream",
       "stream": "stdout",
       "text": [
        "2014-12-04 18:37:40,215 INFO CLAW: Solution 0 computed for time t=0.000000\n"
       ]
      },
      {
       "output_type": "stream",
       "stream": "stdout",
       "text": [
        "2014-12-04 18:37:40,226 INFO CLAW: Solution 1 computed for time t=0.500000\n"
       ]
      },
      {
       "output_type": "stream",
       "stream": "stdout",
       "text": [
        "2014-12-04 18:37:40,234 INFO CLAW: Solution 2 computed for time t=1.000000\n"
       ]
      },
      {
       "output_type": "stream",
       "stream": "stdout",
       "text": [
        "2014-12-04 18:37:41,145 INFO CLAW: Solution 0 computed for time t=0.000000\n"
       ]
      },
      {
       "output_type": "stream",
       "stream": "stdout",
       "text": [
        "2014-12-04 18:37:41,153 INFO CLAW: Solution 1 computed for time t=0.500000\n"
       ]
      },
      {
       "output_type": "stream",
       "stream": "stdout",
       "text": [
        "2014-12-04 18:37:41,161 INFO CLAW: Solution 2 computed for time t=1.000000\n"
       ]
      },
      {
       "output_type": "stream",
       "stream": "stdout",
       "text": [
        "2014-12-04 18:37:42,078 INFO CLAW: Solution 0 computed for time t=0.000000\n"
       ]
      },
      {
       "output_type": "stream",
       "stream": "stdout",
       "text": [
        "2014-12-04 18:37:42,086 INFO CLAW: Solution 1 computed for time t=0.500000\n"
       ]
      },
      {
       "output_type": "stream",
       "stream": "stdout",
       "text": [
        "2014-12-04 18:37:42,095 INFO CLAW: Solution 2 computed for time t=1.000000\n"
       ]
      },
      {
       "output_type": "stream",
       "stream": "stdout",
       "text": [
        "2014-12-04 18:37:43,012 INFO CLAW: Solution 0 computed for time t=0.000000\n"
       ]
      },
      {
       "output_type": "stream",
       "stream": "stdout",
       "text": [
        "2014-12-04 18:37:43,020 INFO CLAW: Solution 1 computed for time t=0.500000\n"
       ]
      },
      {
       "output_type": "stream",
       "stream": "stdout",
       "text": [
        "2014-12-04 18:37:43,028 INFO CLAW: Solution 2 computed for time t=1.000000\n"
       ]
      },
      {
       "output_type": "stream",
       "stream": "stdout",
       "text": [
        "2014-12-04 18:37:43,996 INFO CLAW: Solution 0 computed for time t=0.000000\n"
       ]
      },
      {
       "output_type": "stream",
       "stream": "stdout",
       "text": [
        "2014-12-04 18:37:44,004 INFO CLAW: Solution 1 computed for time t=0.500000\n"
       ]
      },
      {
       "output_type": "stream",
       "stream": "stdout",
       "text": [
        "2014-12-04 18:37:44,016 INFO CLAW: Solution 2 computed for time t=1.000000\n"
       ]
      },
      {
       "output_type": "stream",
       "stream": "stdout",
       "text": [
        "2014-12-04 18:37:44,965 INFO CLAW: Solution 0 computed for time t=0.000000\n"
       ]
      },
      {
       "output_type": "stream",
       "stream": "stdout",
       "text": [
        "2014-12-04 18:37:44,973 INFO CLAW: Solution 1 computed for time t=0.500000\n"
       ]
      },
      {
       "output_type": "stream",
       "stream": "stdout",
       "text": [
        "2014-12-04 18:37:44,981 INFO CLAW: Solution 2 computed for time t=1.000000\n"
       ]
      },
      {
       "output_type": "stream",
       "stream": "stdout",
       "text": [
        "2014-12-04 18:37:45,904 INFO CLAW: Solution 0 computed for time t=0.000000\n"
       ]
      },
      {
       "output_type": "stream",
       "stream": "stdout",
       "text": [
        "2014-12-04 18:37:45,912 INFO CLAW: Solution 1 computed for time t=0.500000\n"
       ]
      },
      {
       "output_type": "stream",
       "stream": "stdout",
       "text": [
        "2014-12-04 18:37:45,923 INFO CLAW: Solution 2 computed for time t=1.000000\n"
       ]
      },
      {
       "output_type": "stream",
       "stream": "stdout",
       "text": [
        "2014-12-04 18:37:46,849 INFO CLAW: Solution 0 computed for time t=0.000000\n"
       ]
      },
      {
       "output_type": "stream",
       "stream": "stdout",
       "text": [
        "2014-12-04 18:37:46,861 INFO CLAW: Solution 1 computed for time t=0.500000\n"
       ]
      },
      {
       "output_type": "stream",
       "stream": "stdout",
       "text": [
        "2014-12-04 18:37:46,868 INFO CLAW: Solution 2 computed for time t=1.000000\n"
       ]
      },
      {
       "output_type": "stream",
       "stream": "stdout",
       "text": [
        "2014-12-04 18:37:47,767 INFO CLAW: Solution 0 computed for time t=0.000000\n"
       ]
      },
      {
       "output_type": "stream",
       "stream": "stdout",
       "text": [
        "2014-12-04 18:37:47,774 INFO CLAW: Solution 1 computed for time t=0.500000\n"
       ]
      },
      {
       "output_type": "stream",
       "stream": "stdout",
       "text": [
        "2014-12-04 18:37:47,783 INFO CLAW: Solution 2 computed for time t=1.000000\n"
       ]
      },
      {
       "output_type": "stream",
       "stream": "stdout",
       "text": [
        "2014-12-04 18:37:48,700 INFO CLAW: Solution 0 computed for time t=0.000000\n"
       ]
      },
      {
       "output_type": "stream",
       "stream": "stdout",
       "text": [
        "2014-12-04 18:37:48,712 INFO CLAW: Solution 1 computed for time t=0.500000\n"
       ]
      },
      {
       "output_type": "stream",
       "stream": "stdout",
       "text": [
        "2014-12-04 18:37:48,724 INFO CLAW: Solution 2 computed for time t=1.000000\n"
       ]
      },
      {
       "output_type": "stream",
       "stream": "stdout",
       "text": [
        "2014-12-04 18:37:49,645 INFO CLAW: Solution 0 computed for time t=0.000000\n"
       ]
      },
      {
       "output_type": "stream",
       "stream": "stdout",
       "text": [
        "2014-12-04 18:37:49,657 INFO CLAW: Solution 1 computed for time t=0.500000\n"
       ]
      },
      {
       "output_type": "stream",
       "stream": "stdout",
       "text": [
        "2014-12-04 18:37:49,664 INFO CLAW: Solution 2 computed for time t=1.000000\n"
       ]
      },
      {
       "output_type": "stream",
       "stream": "stdout",
       "text": [
        "2014-12-04 18:37:50,539 INFO CLAW: Solution 0 computed for time t=0.000000\n"
       ]
      },
      {
       "output_type": "stream",
       "stream": "stdout",
       "text": [
        "2014-12-04 18:37:50,547 INFO CLAW: Solution 1 computed for time t=0.500000\n"
       ]
      },
      {
       "output_type": "stream",
       "stream": "stdout",
       "text": [
        "2014-12-04 18:37:50,555 INFO CLAW: Solution 2 computed for time t=1.000000\n"
       ]
      },
      {
       "output_type": "stream",
       "stream": "stdout",
       "text": [
        "2014-12-04 18:37:51,475 INFO CLAW: Solution 0 computed for time t=0.000000\n"
       ]
      },
      {
       "output_type": "stream",
       "stream": "stdout",
       "text": [
        "2014-12-04 18:37:51,488 INFO CLAW: Solution 1 computed for time t=0.500000\n"
       ]
      },
      {
       "output_type": "stream",
       "stream": "stdout",
       "text": [
        "2014-12-04 18:37:51,503 INFO CLAW: Solution 2 computed for time t=1.000000\n"
       ]
      },
      {
       "output_type": "stream",
       "stream": "stdout",
       "text": [
        "2014-12-04 18:37:52,408 INFO CLAW: Solution 0 computed for time t=0.000000\n"
       ]
      },
      {
       "output_type": "stream",
       "stream": "stdout",
       "text": [
        "2014-12-04 18:37:52,419 INFO CLAW: Solution 1 computed for time t=0.500000\n"
       ]
      },
      {
       "output_type": "stream",
       "stream": "stdout",
       "text": [
        "2014-12-04 18:37:52,426 INFO CLAW: Solution 2 computed for time t=1.000000\n"
       ]
      },
      {
       "output_type": "stream",
       "stream": "stdout",
       "text": [
        "2014-12-04 18:37:53,301 INFO CLAW: Solution 0 computed for time t=0.000000\n"
       ]
      },
      {
       "output_type": "stream",
       "stream": "stdout",
       "text": [
        "2014-12-04 18:37:53,309 INFO CLAW: Solution 1 computed for time t=0.500000\n"
       ]
      },
      {
       "output_type": "stream",
       "stream": "stdout",
       "text": [
        "2014-12-04 18:37:53,317 INFO CLAW: Solution 2 computed for time t=1.000000\n"
       ]
      },
      {
       "output_type": "stream",
       "stream": "stdout",
       "text": [
        "2014-12-04 18:37:54,207 INFO CLAW: Solution 0 computed for time t=0.000000\n"
       ]
      },
      {
       "output_type": "stream",
       "stream": "stdout",
       "text": [
        "2014-12-04 18:37:54,214 INFO CLAW: Solution 1 computed for time t=0.500000\n"
       ]
      },
      {
       "output_type": "stream",
       "stream": "stdout",
       "text": [
        "2014-12-04 18:37:54,222 INFO CLAW: Solution 2 computed for time t=1.000000\n"
       ]
      },
      {
       "output_type": "stream",
       "stream": "stdout",
       "text": [
        "2014-12-04 18:37:55,114 INFO CLAW: Solution 0 computed for time t=0.000000\n"
       ]
      },
      {
       "output_type": "stream",
       "stream": "stdout",
       "text": [
        "2014-12-04 18:37:55,124 INFO CLAW: Solution 1 computed for time t=0.500000\n"
       ]
      },
      {
       "output_type": "stream",
       "stream": "stdout",
       "text": [
        "2014-12-04 18:37:55,133 INFO CLAW: Solution 2 computed for time t=1.000000\n"
       ]
      },
      {
       "output_type": "stream",
       "stream": "stdout",
       "text": [
        "2014-12-04 18:37:56,049 INFO CLAW: Solution 0 computed for time t=0.000000\n"
       ]
      },
      {
       "output_type": "stream",
       "stream": "stdout",
       "text": [
        "2014-12-04 18:37:56,057 INFO CLAW: Solution 1 computed for time t=0.500000\n"
       ]
      },
      {
       "output_type": "stream",
       "stream": "stdout",
       "text": [
        "2014-12-04 18:37:56,065 INFO CLAW: Solution 2 computed for time t=1.000000\n"
       ]
      },
      {
       "output_type": "stream",
       "stream": "stdout",
       "text": [
        "2014-12-04 18:37:57,018 INFO CLAW: Solution 0 computed for time t=0.000000\n"
       ]
      },
      {
       "output_type": "stream",
       "stream": "stdout",
       "text": [
        "2014-12-04 18:37:57,026 INFO CLAW: Solution 1 computed for time t=0.500000\n"
       ]
      },
      {
       "output_type": "stream",
       "stream": "stdout",
       "text": [
        "2014-12-04 18:37:57,033 INFO CLAW: Solution 2 computed for time t=1.000000\n"
       ]
      },
      {
       "output_type": "stream",
       "stream": "stdout",
       "text": [
        "2014-12-04 18:37:58,020 INFO CLAW: Solution 0 computed for time t=0.000000\n"
       ]
      },
      {
       "output_type": "stream",
       "stream": "stdout",
       "text": [
        "2014-12-04 18:37:58,031 INFO CLAW: Solution 1 computed for time t=0.500000\n"
       ]
      },
      {
       "output_type": "stream",
       "stream": "stdout",
       "text": [
        "2014-12-04 18:37:58,039 INFO CLAW: Solution 2 computed for time t=1.000000\n"
       ]
      },
      {
       "output_type": "stream",
       "stream": "stdout",
       "text": [
        "2014-12-04 18:37:59,033 INFO CLAW: Solution 0 computed for time t=0.000000\n"
       ]
      },
      {
       "output_type": "stream",
       "stream": "stdout",
       "text": [
        "2014-12-04 18:37:59,044 INFO CLAW: Solution 1 computed for time t=0.500000\n"
       ]
      },
      {
       "output_type": "stream",
       "stream": "stdout",
       "text": [
        "2014-12-04 18:37:59,052 INFO CLAW: Solution 2 computed for time t=1.000000\n"
       ]
      },
      {
       "output_type": "stream",
       "stream": "stdout",
       "text": [
        "2014-12-04 18:37:59,936 INFO CLAW: Solution 0 computed for time t=0.000000\n"
       ]
      },
      {
       "output_type": "stream",
       "stream": "stdout",
       "text": [
        "2014-12-04 18:37:59,944 INFO CLAW: Solution 1 computed for time t=0.500000\n"
       ]
      },
      {
       "output_type": "stream",
       "stream": "stdout",
       "text": [
        "2014-12-04 18:37:59,951 INFO CLAW: Solution 2 computed for time t=1.000000\n"
       ]
      },
      {
       "output_type": "stream",
       "stream": "stdout",
       "text": [
        "2014-12-04 18:38:00,860 INFO CLAW: Solution 0 computed for time t=0.000000\n"
       ]
      },
      {
       "output_type": "stream",
       "stream": "stdout",
       "text": [
        "2014-12-04 18:38:00,868 INFO CLAW: Solution 1 computed for time t=0.500000\n"
       ]
      },
      {
       "output_type": "stream",
       "stream": "stdout",
       "text": [
        "2014-12-04 18:38:00,879 INFO CLAW: Solution 2 computed for time t=1.000000\n"
       ]
      },
      {
       "output_type": "stream",
       "stream": "stdout",
       "text": [
        "2014-12-04 18:38:01,813 INFO CLAW: Solution 0 computed for time t=0.000000\n"
       ]
      },
      {
       "output_type": "stream",
       "stream": "stdout",
       "text": [
        "2014-12-04 18:38:01,825 INFO CLAW: Solution 1 computed for time t=0.500000\n"
       ]
      },
      {
       "output_type": "stream",
       "stream": "stdout",
       "text": [
        "2014-12-04 18:38:01,832 INFO CLAW: Solution 2 computed for time t=1.000000\n"
       ]
      },
      {
       "output_type": "stream",
       "stream": "stdout",
       "text": [
        "2014-12-04 18:38:02,760 INFO CLAW: Solution 0 computed for time t=0.000000\n"
       ]
      },
      {
       "output_type": "stream",
       "stream": "stdout",
       "text": [
        "2014-12-04 18:38:02,768 INFO CLAW: Solution 1 computed for time t=0.500000\n"
       ]
      },
      {
       "output_type": "stream",
       "stream": "stdout",
       "text": [
        "2014-12-04 18:38:02,777 INFO CLAW: Solution 2 computed for time t=1.000000\n"
       ]
      },
      {
       "output_type": "stream",
       "stream": "stdout",
       "text": [
        "2014-12-04 18:38:03,670 INFO CLAW: Solution 0 computed for time t=0.000000\n"
       ]
      },
      {
       "output_type": "stream",
       "stream": "stdout",
       "text": [
        "2014-12-04 18:38:03,678 INFO CLAW: Solution 1 computed for time t=0.500000\n"
       ]
      },
      {
       "output_type": "stream",
       "stream": "stdout",
       "text": [
        "2014-12-04 18:38:03,686 INFO CLAW: Solution 2 computed for time t=1.000000\n"
       ]
      },
      {
       "output_type": "stream",
       "stream": "stdout",
       "text": [
        "2014-12-04 18:38:04,584 INFO CLAW: Solution 0 computed for time t=0.000000\n"
       ]
      },
      {
       "output_type": "stream",
       "stream": "stdout",
       "text": [
        "2014-12-04 18:38:04,595 INFO CLAW: Solution 1 computed for time t=0.500000\n"
       ]
      },
      {
       "output_type": "stream",
       "stream": "stdout",
       "text": [
        "2014-12-04 18:38:04,603 INFO CLAW: Solution 2 computed for time t=1.000000\n"
       ]
      },
      {
       "output_type": "stream",
       "stream": "stdout",
       "text": [
        "2014-12-04 18:38:05,493 INFO CLAW: Solution 0 computed for time t=0.000000\n"
       ]
      },
      {
       "output_type": "stream",
       "stream": "stdout",
       "text": [
        "2014-12-04 18:38:05,505 INFO CLAW: Solution 1 computed for time t=0.500000\n"
       ]
      },
      {
       "output_type": "stream",
       "stream": "stdout",
       "text": [
        "2014-12-04 18:38:05,513 INFO CLAW: Solution 2 computed for time t=1.000000\n"
       ]
      },
      {
       "output_type": "stream",
       "stream": "stdout",
       "text": [
        "2014-12-04 18:38:06,435 INFO CLAW: Solution 0 computed for time t=0.000000\n"
       ]
      },
      {
       "output_type": "stream",
       "stream": "stdout",
       "text": [
        "2014-12-04 18:38:06,448 INFO CLAW: Solution 1 computed for time t=0.500000\n"
       ]
      },
      {
       "output_type": "stream",
       "stream": "stdout",
       "text": [
        "2014-12-04 18:38:06,460 INFO CLAW: Solution 2 computed for time t=1.000000\n"
       ]
      },
      {
       "output_type": "stream",
       "stream": "stdout",
       "text": [
        "2014-12-04 18:38:07,356 INFO CLAW: Solution 0 computed for time t=0.000000\n"
       ]
      },
      {
       "output_type": "stream",
       "stream": "stdout",
       "text": [
        "2014-12-04 18:38:07,364 INFO CLAW: Solution 1 computed for time t=0.500000\n"
       ]
      },
      {
       "output_type": "stream",
       "stream": "stdout",
       "text": [
        "2014-12-04 18:38:07,375 INFO CLAW: Solution 2 computed for time t=1.000000\n"
       ]
      },
      {
       "output_type": "stream",
       "stream": "stdout",
       "text": [
        "2014-12-04 18:38:08,290 INFO CLAW: Solution 0 computed for time t=0.000000\n"
       ]
      },
      {
       "output_type": "stream",
       "stream": "stdout",
       "text": [
        "2014-12-04 18:38:08,303 INFO CLAW: Solution 1 computed for time t=0.500000\n"
       ]
      },
      {
       "output_type": "stream",
       "stream": "stdout",
       "text": [
        "2014-12-04 18:38:08,315 INFO CLAW: Solution 2 computed for time t=1.000000\n"
       ]
      },
      {
       "output_type": "stream",
       "stream": "stdout",
       "text": [
        "2014-12-04 18:38:09,226 INFO CLAW: Solution 0 computed for time t=0.000000\n"
       ]
      },
      {
       "output_type": "stream",
       "stream": "stdout",
       "text": [
        "2014-12-04 18:38:09,233 INFO CLAW: Solution 1 computed for time t=0.500000\n"
       ]
      },
      {
       "output_type": "stream",
       "stream": "stdout",
       "text": [
        "2014-12-04 18:38:09,241 INFO CLAW: Solution 2 computed for time t=1.000000\n"
       ]
      },
      {
       "output_type": "stream",
       "stream": "stdout",
       "text": [
        "2014-12-04 18:38:10,153 INFO CLAW: Solution 0 computed for time t=0.000000\n"
       ]
      },
      {
       "output_type": "stream",
       "stream": "stdout",
       "text": [
        "2014-12-04 18:38:10,164 INFO CLAW: Solution 1 computed for time t=0.500000\n"
       ]
      },
      {
       "output_type": "stream",
       "stream": "stdout",
       "text": [
        "2014-12-04 18:38:10,172 INFO CLAW: Solution 2 computed for time t=1.000000\n"
       ]
      },
      {
       "output_type": "stream",
       "stream": "stdout",
       "text": [
        "2014-12-04 18:38:11,089 INFO CLAW: Solution 0 computed for time t=0.000000\n"
       ]
      },
      {
       "output_type": "stream",
       "stream": "stdout",
       "text": [
        "2014-12-04 18:38:11,098 INFO CLAW: Solution 1 computed for time t=0.500000\n"
       ]
      },
      {
       "output_type": "stream",
       "stream": "stdout",
       "text": [
        "2014-12-04 18:38:11,106 INFO CLAW: Solution 2 computed for time t=1.000000\n"
       ]
      },
      {
       "output_type": "stream",
       "stream": "stdout",
       "text": [
        "2014-12-04 18:38:12,113 INFO CLAW: Solution 0 computed for time t=0.000000\n"
       ]
      },
      {
       "output_type": "stream",
       "stream": "stdout",
       "text": [
        "2014-12-04 18:38:12,123 INFO CLAW: Solution 1 computed for time t=0.500000\n"
       ]
      },
      {
       "output_type": "stream",
       "stream": "stdout",
       "text": [
        "2014-12-04 18:38:12,131 INFO CLAW: Solution 2 computed for time t=1.000000\n"
       ]
      },
      {
       "output_type": "stream",
       "stream": "stdout",
       "text": [
        "2014-12-04 18:38:13,150 INFO CLAW: Solution 0 computed for time t=0.000000\n"
       ]
      },
      {
       "output_type": "stream",
       "stream": "stdout",
       "text": [
        "2014-12-04 18:38:13,163 INFO CLAW: Solution 1 computed for time t=0.500000\n"
       ]
      },
      {
       "output_type": "stream",
       "stream": "stdout",
       "text": [
        "2014-12-04 18:38:13,175 INFO CLAW: Solution 2 computed for time t=1.000000\n"
       ]
      },
      {
       "output_type": "stream",
       "stream": "stdout",
       "text": [
        "2014-12-04 18:38:14,163 INFO CLAW: Solution 0 computed for time t=0.000000\n"
       ]
      },
      {
       "output_type": "stream",
       "stream": "stdout",
       "text": [
        "2014-12-04 18:38:14,171 INFO CLAW: Solution 1 computed for time t=0.500000\n"
       ]
      },
      {
       "output_type": "stream",
       "stream": "stdout",
       "text": [
        "2014-12-04 18:38:14,180 INFO CLAW: Solution 2 computed for time t=1.000000\n"
       ]
      },
      {
       "output_type": "stream",
       "stream": "stdout",
       "text": [
        "2014-12-04 18:38:15,103 INFO CLAW: Solution 0 computed for time t=0.000000\n"
       ]
      },
      {
       "output_type": "stream",
       "stream": "stdout",
       "text": [
        "2014-12-04 18:38:15,111 INFO CLAW: Solution 1 computed for time t=0.500000\n"
       ]
      },
      {
       "output_type": "stream",
       "stream": "stdout",
       "text": [
        "2014-12-04 18:38:15,119 INFO CLAW: Solution 2 computed for time t=1.000000\n"
       ]
      },
      {
       "output_type": "stream",
       "stream": "stdout",
       "text": [
        "2014-12-04 18:38:16,023 INFO CLAW: Solution 0 computed for time t=0.000000\n"
       ]
      },
      {
       "output_type": "stream",
       "stream": "stdout",
       "text": [
        "2014-12-04 18:38:16,035 INFO CLAW: Solution 1 computed for time t=0.500000\n"
       ]
      },
      {
       "output_type": "stream",
       "stream": "stdout",
       "text": [
        "2014-12-04 18:38:16,042 INFO CLAW: Solution 2 computed for time t=1.000000\n"
       ]
      },
      {
       "output_type": "stream",
       "stream": "stdout",
       "text": [
        "2014-12-04 18:38:16,960 INFO CLAW: Solution 0 computed for time t=0.000000\n"
       ]
      },
      {
       "output_type": "stream",
       "stream": "stdout",
       "text": [
        "2014-12-04 18:38:16,968 INFO CLAW: Solution 1 computed for time t=0.500000\n"
       ]
      },
      {
       "output_type": "stream",
       "stream": "stdout",
       "text": [
        "2014-12-04 18:38:16,976 INFO CLAW: Solution 2 computed for time t=1.000000\n"
       ]
      },
      {
       "output_type": "stream",
       "stream": "stdout",
       "text": [
        "2014-12-04 18:38:17,871 INFO CLAW: Solution 0 computed for time t=0.000000\n"
       ]
      },
      {
       "output_type": "stream",
       "stream": "stdout",
       "text": [
        "2014-12-04 18:38:17,882 INFO CLAW: Solution 1 computed for time t=0.500000\n"
       ]
      },
      {
       "output_type": "stream",
       "stream": "stdout",
       "text": [
        "2014-12-04 18:38:17,890 INFO CLAW: Solution 2 computed for time t=1.000000\n"
       ]
      },
      {
       "output_type": "stream",
       "stream": "stdout",
       "text": [
        "2014-12-04 18:38:18,792 INFO CLAW: Solution 0 computed for time t=0.000000\n"
       ]
      },
      {
       "output_type": "stream",
       "stream": "stdout",
       "text": [
        "2014-12-04 18:38:18,800 INFO CLAW: Solution 1 computed for time t=0.500000\n"
       ]
      },
      {
       "output_type": "stream",
       "stream": "stdout",
       "text": [
        "2014-12-04 18:38:18,809 INFO CLAW: Solution 2 computed for time t=1.000000\n"
       ]
      },
      {
       "output_type": "stream",
       "stream": "stdout",
       "text": [
        "2014-12-04 18:38:19,719 INFO CLAW: Solution 0 computed for time t=0.000000\n"
       ]
      },
      {
       "output_type": "stream",
       "stream": "stdout",
       "text": [
        "2014-12-04 18:38:19,731 INFO CLAW: Solution 1 computed for time t=0.500000\n"
       ]
      },
      {
       "output_type": "stream",
       "stream": "stdout",
       "text": [
        "2014-12-04 18:38:19,740 INFO CLAW: Solution 2 computed for time t=1.000000\n"
       ]
      },
      {
       "output_type": "stream",
       "stream": "stdout",
       "text": [
        "2014-12-04 18:38:20,631 INFO CLAW: Solution 0 computed for time t=0.000000\n"
       ]
      },
      {
       "output_type": "stream",
       "stream": "stdout",
       "text": [
        "2014-12-04 18:38:20,643 INFO CLAW: Solution 1 computed for time t=0.500000\n"
       ]
      },
      {
       "output_type": "stream",
       "stream": "stdout",
       "text": [
        "2014-12-04 18:38:20,651 INFO CLAW: Solution 2 computed for time t=1.000000\n"
       ]
      },
      {
       "output_type": "stream",
       "stream": "stdout",
       "text": [
        "2014-12-04 18:38:21,554 INFO CLAW: Solution 0 computed for time t=0.000000\n"
       ]
      },
      {
       "output_type": "stream",
       "stream": "stdout",
       "text": [
        "2014-12-04 18:38:21,566 INFO CLAW: Solution 1 computed for time t=0.500000\n"
       ]
      },
      {
       "output_type": "stream",
       "stream": "stdout",
       "text": [
        "2014-12-04 18:38:21,573 INFO CLAW: Solution 2 computed for time t=1.000000\n"
       ]
      },
      {
       "output_type": "stream",
       "stream": "stdout",
       "text": [
        "2014-12-04 18:38:22,451 INFO CLAW: Solution 0 computed for time t=0.000000\n"
       ]
      },
      {
       "output_type": "stream",
       "stream": "stdout",
       "text": [
        "2014-12-04 18:38:22,459 INFO CLAW: Solution 1 computed for time t=0.500000\n"
       ]
      },
      {
       "output_type": "stream",
       "stream": "stdout",
       "text": [
        "2014-12-04 18:38:22,471 INFO CLAW: Solution 2 computed for time t=1.000000\n"
       ]
      },
      {
       "output_type": "stream",
       "stream": "stdout",
       "text": [
        "2014-12-04 18:38:23,378 INFO CLAW: Solution 0 computed for time t=0.000000\n"
       ]
      },
      {
       "output_type": "stream",
       "stream": "stdout",
       "text": [
        "2014-12-04 18:38:23,386 INFO CLAW: Solution 1 computed for time t=0.500000\n"
       ]
      },
      {
       "output_type": "stream",
       "stream": "stdout",
       "text": [
        "2014-12-04 18:38:23,397 INFO CLAW: Solution 2 computed for time t=1.000000\n"
       ]
      },
      {
       "output_type": "stream",
       "stream": "stdout",
       "text": [
        "2014-12-04 18:38:24,308 INFO CLAW: Solution 0 computed for time t=0.000000\n"
       ]
      },
      {
       "output_type": "stream",
       "stream": "stdout",
       "text": [
        "2014-12-04 18:38:24,316 INFO CLAW: Solution 1 computed for time t=0.500000\n"
       ]
      },
      {
       "output_type": "stream",
       "stream": "stdout",
       "text": [
        "2014-12-04 18:38:24,324 INFO CLAW: Solution 2 computed for time t=1.000000\n"
       ]
      },
      {
       "output_type": "stream",
       "stream": "stdout",
       "text": [
        "2014-12-04 18:38:25,225 INFO CLAW: Solution 0 computed for time t=0.000000\n"
       ]
      },
      {
       "output_type": "stream",
       "stream": "stdout",
       "text": [
        "2014-12-04 18:38:25,237 INFO CLAW: Solution 1 computed for time t=0.500000\n"
       ]
      },
      {
       "output_type": "stream",
       "stream": "stdout",
       "text": [
        "2014-12-04 18:38:25,245 INFO CLAW: Solution 2 computed for time t=1.000000\n"
       ]
      },
      {
       "output_type": "stream",
       "stream": "stdout",
       "text": [
        "2014-12-04 18:38:26,181 INFO CLAW: Solution 0 computed for time t=0.000000\n"
       ]
      },
      {
       "output_type": "stream",
       "stream": "stdout",
       "text": [
        "2014-12-04 18:38:26,192 INFO CLAW: Solution 1 computed for time t=0.500000\n"
       ]
      },
      {
       "output_type": "stream",
       "stream": "stdout",
       "text": [
        "2014-12-04 18:38:26,199 INFO CLAW: Solution 2 computed for time t=1.000000\n"
       ]
      },
      {
       "output_type": "stream",
       "stream": "stdout",
       "text": [
        "2014-12-04 18:38:27,158 INFO CLAW: Solution 0 computed for time t=0.000000\n"
       ]
      },
      {
       "output_type": "stream",
       "stream": "stdout",
       "text": [
        "2014-12-04 18:38:27,167 INFO CLAW: Solution 1 computed for time t=0.500000\n"
       ]
      },
      {
       "output_type": "stream",
       "stream": "stdout",
       "text": [
        "2014-12-04 18:38:27,174 INFO CLAW: Solution 2 computed for time t=1.000000\n"
       ]
      },
      {
       "output_type": "stream",
       "stream": "stdout",
       "text": [
        "2014-12-04 18:38:28,164 INFO CLAW: Solution 0 computed for time t=0.000000\n"
       ]
      },
      {
       "output_type": "stream",
       "stream": "stdout",
       "text": [
        "2014-12-04 18:38:28,172 INFO CLAW: Solution 1 computed for time t=0.500000\n"
       ]
      },
      {
       "output_type": "stream",
       "stream": "stdout",
       "text": [
        "2014-12-04 18:38:28,180 INFO CLAW: Solution 2 computed for time t=1.000000\n"
       ]
      },
      {
       "output_type": "stream",
       "stream": "stdout",
       "text": [
        "2014-12-04 18:38:29,088 INFO CLAW: Solution 0 computed for time t=0.000000\n"
       ]
      },
      {
       "output_type": "stream",
       "stream": "stdout",
       "text": [
        "2014-12-04 18:38:29,096 INFO CLAW: Solution 1 computed for time t=0.500000\n"
       ]
      },
      {
       "output_type": "stream",
       "stream": "stdout",
       "text": [
        "2014-12-04 18:38:29,106 INFO CLAW: Solution 2 computed for time t=1.000000\n"
       ]
      },
      {
       "output_type": "stream",
       "stream": "stdout",
       "text": [
        "2014-12-04 18:38:30,101 INFO CLAW: Solution 0 computed for time t=0.000000\n"
       ]
      },
      {
       "output_type": "stream",
       "stream": "stdout",
       "text": [
        "2014-12-04 18:38:30,111 INFO CLAW: Solution 1 computed for time t=0.500000\n"
       ]
      },
      {
       "output_type": "stream",
       "stream": "stdout",
       "text": [
        "2014-12-04 18:38:30,123 INFO CLAW: Solution 2 computed for time t=1.000000\n"
       ]
      },
      {
       "output_type": "stream",
       "stream": "stdout",
       "text": [
        "2014-12-04 18:38:31,071 INFO CLAW: Solution 0 computed for time t=0.000000\n"
       ]
      },
      {
       "output_type": "stream",
       "stream": "stdout",
       "text": [
        "2014-12-04 18:38:31,078 INFO CLAW: Solution 1 computed for time t=0.500000\n"
       ]
      },
      {
       "output_type": "stream",
       "stream": "stdout",
       "text": [
        "2014-12-04 18:38:31,086 INFO CLAW: Solution 2 computed for time t=1.000000\n"
       ]
      },
      {
       "output_type": "stream",
       "stream": "stdout",
       "text": [
        "2014-12-04 18:38:31,998 INFO CLAW: Solution 0 computed for time t=0.000000\n"
       ]
      },
      {
       "output_type": "stream",
       "stream": "stdout",
       "text": [
        "2014-12-04 18:38:32,006 INFO CLAW: Solution 1 computed for time t=0.500000\n"
       ]
      },
      {
       "output_type": "stream",
       "stream": "stdout",
       "text": [
        "2014-12-04 18:38:32,014 INFO CLAW: Solution 2 computed for time t=1.000000\n"
       ]
      },
      {
       "output_type": "stream",
       "stream": "stdout",
       "text": [
        "2014-12-04 18:38:32,900 INFO CLAW: Solution 0 computed for time t=0.000000\n"
       ]
      },
      {
       "output_type": "stream",
       "stream": "stdout",
       "text": [
        "2014-12-04 18:38:32,908 INFO CLAW: Solution 1 computed for time t=0.500000\n"
       ]
      },
      {
       "output_type": "stream",
       "stream": "stdout",
       "text": [
        "2014-12-04 18:38:32,916 INFO CLAW: Solution 2 computed for time t=1.000000\n"
       ]
      },
      {
       "output_type": "stream",
       "stream": "stdout",
       "text": [
        "2014-12-04 18:38:33,808 INFO CLAW: Solution 0 computed for time t=0.000000\n"
       ]
      },
      {
       "output_type": "stream",
       "stream": "stdout",
       "text": [
        "2014-12-04 18:38:33,816 INFO CLAW: Solution 1 computed for time t=0.500000\n"
       ]
      },
      {
       "output_type": "stream",
       "stream": "stdout",
       "text": [
        "2014-12-04 18:38:33,828 INFO CLAW: Solution 2 computed for time t=1.000000\n"
       ]
      },
      {
       "output_type": "stream",
       "stream": "stdout",
       "text": [
        "2014-12-04 18:38:34,718 INFO CLAW: Solution 0 computed for time t=0.000000\n"
       ]
      },
      {
       "output_type": "stream",
       "stream": "stdout",
       "text": [
        "2014-12-04 18:38:34,728 INFO CLAW: Solution 1 computed for time t=0.500000\n"
       ]
      },
      {
       "output_type": "stream",
       "stream": "stdout",
       "text": [
        "2014-12-04 18:38:34,736 INFO CLAW: Solution 2 computed for time t=1.000000\n"
       ]
      },
      {
       "output_type": "stream",
       "stream": "stdout",
       "text": [
        "2014-12-04 18:38:35,652 INFO CLAW: Solution 0 computed for time t=0.000000\n"
       ]
      },
      {
       "output_type": "stream",
       "stream": "stdout",
       "text": [
        "2014-12-04 18:38:35,660 INFO CLAW: Solution 1 computed for time t=0.500000\n"
       ]
      },
      {
       "output_type": "stream",
       "stream": "stdout",
       "text": [
        "2014-12-04 18:38:35,668 INFO CLAW: Solution 2 computed for time t=1.000000\n"
       ]
      },
      {
       "output_type": "stream",
       "stream": "stdout",
       "text": [
        "2014-12-04 18:38:36,555 INFO CLAW: Solution 0 computed for time t=0.000000\n"
       ]
      },
      {
       "output_type": "stream",
       "stream": "stdout",
       "text": [
        "2014-12-04 18:38:36,563 INFO CLAW: Solution 1 computed for time t=0.500000\n"
       ]
      },
      {
       "output_type": "stream",
       "stream": "stdout",
       "text": [
        "2014-12-04 18:38:36,570 INFO CLAW: Solution 2 computed for time t=1.000000\n"
       ]
      },
      {
       "output_type": "stream",
       "stream": "stdout",
       "text": [
        "2014-12-04 18:38:37,457 INFO CLAW: Solution 0 computed for time t=0.000000\n"
       ]
      },
      {
       "output_type": "stream",
       "stream": "stdout",
       "text": [
        "2014-12-04 18:38:37,465 INFO CLAW: Solution 1 computed for time t=0.500000\n"
       ]
      },
      {
       "output_type": "stream",
       "stream": "stdout",
       "text": [
        "2014-12-04 18:38:37,472 INFO CLAW: Solution 2 computed for time t=1.000000\n"
       ]
      },
      {
       "output_type": "stream",
       "stream": "stdout",
       "text": [
        "2014-12-04 18:38:38,372 INFO CLAW: Solution 0 computed for time t=0.000000\n"
       ]
      },
      {
       "output_type": "stream",
       "stream": "stdout",
       "text": [
        "2014-12-04 18:38:38,380 INFO CLAW: Solution 1 computed for time t=0.500000\n"
       ]
      },
      {
       "output_type": "stream",
       "stream": "stdout",
       "text": [
        "2014-12-04 18:38:38,387 INFO CLAW: Solution 2 computed for time t=1.000000\n"
       ]
      },
      {
       "output_type": "stream",
       "stream": "stdout",
       "text": [
        "2014-12-04 18:38:39,302 INFO CLAW: Solution 0 computed for time t=0.000000\n"
       ]
      },
      {
       "output_type": "stream",
       "stream": "stdout",
       "text": [
        "2014-12-04 18:38:39,310 INFO CLAW: Solution 1 computed for time t=0.500000\n"
       ]
      },
      {
       "output_type": "stream",
       "stream": "stdout",
       "text": [
        "2014-12-04 18:38:39,318 INFO CLAW: Solution 2 computed for time t=1.000000\n"
       ]
      },
      {
       "output_type": "stream",
       "stream": "stdout",
       "text": [
        "2014-12-04 18:38:40,249 INFO CLAW: Solution 0 computed for time t=0.000000\n"
       ]
      },
      {
       "output_type": "stream",
       "stream": "stdout",
       "text": [
        "2014-12-04 18:38:40,257 INFO CLAW: Solution 1 computed for time t=0.500000\n"
       ]
      },
      {
       "output_type": "stream",
       "stream": "stdout",
       "text": [
        "2014-12-04 18:38:40,269 INFO CLAW: Solution 2 computed for time t=1.000000\n"
       ]
      },
      {
       "output_type": "stream",
       "stream": "stdout",
       "text": [
        "2014-12-04 18:38:41,242 INFO CLAW: Solution 0 computed for time t=0.000000\n"
       ]
      },
      {
       "output_type": "stream",
       "stream": "stdout",
       "text": [
        "2014-12-04 18:38:41,255 INFO CLAW: Solution 1 computed for time t=0.500000\n"
       ]
      },
      {
       "output_type": "stream",
       "stream": "stdout",
       "text": [
        "2014-12-04 18:38:41,266 INFO CLAW: Solution 2 computed for time t=1.000000\n"
       ]
      },
      {
       "output_type": "stream",
       "stream": "stdout",
       "text": [
        "2014-12-04 18:38:42,272 INFO CLAW: Solution 0 computed for time t=0.000000\n"
       ]
      },
      {
       "output_type": "stream",
       "stream": "stdout",
       "text": [
        "2014-12-04 18:38:42,281 INFO CLAW: Solution 1 computed for time t=0.500000\n"
       ]
      },
      {
       "output_type": "stream",
       "stream": "stdout",
       "text": [
        "2014-12-04 18:38:42,289 INFO CLAW: Solution 2 computed for time t=1.000000\n"
       ]
      },
      {
       "output_type": "stream",
       "stream": "stdout",
       "text": [
        "2014-12-04 18:38:43,253 INFO CLAW: Solution 0 computed for time t=0.000000\n"
       ]
      },
      {
       "output_type": "stream",
       "stream": "stdout",
       "text": [
        "2014-12-04 18:38:43,260 INFO CLAW: Solution 1 computed for time t=0.500000\n"
       ]
      },
      {
       "output_type": "stream",
       "stream": "stdout",
       "text": [
        "2014-12-04 18:38:43,270 INFO CLAW: Solution 2 computed for time t=1.000000\n"
       ]
      },
      {
       "output_type": "stream",
       "stream": "stdout",
       "text": [
        "2014-12-04 18:38:44,183 INFO CLAW: Solution 0 computed for time t=0.000000\n"
       ]
      },
      {
       "output_type": "stream",
       "stream": "stdout",
       "text": [
        "2014-12-04 18:38:44,191 INFO CLAW: Solution 1 computed for time t=0.500000\n"
       ]
      },
      {
       "output_type": "stream",
       "stream": "stdout",
       "text": [
        "2014-12-04 18:38:44,199 INFO CLAW: Solution 2 computed for time t=1.000000\n"
       ]
      },
      {
       "output_type": "stream",
       "stream": "stdout",
       "text": [
        "2014-12-04 18:38:45,128 INFO CLAW: Solution 0 computed for time t=0.000000\n"
       ]
      },
      {
       "output_type": "stream",
       "stream": "stdout",
       "text": [
        "2014-12-04 18:38:45,141 INFO CLAW: Solution 1 computed for time t=0.500000\n"
       ]
      },
      {
       "output_type": "stream",
       "stream": "stdout",
       "text": [
        "2014-12-04 18:38:45,152 INFO CLAW: Solution 2 computed for time t=1.000000\n"
       ]
      },
      {
       "output_type": "stream",
       "stream": "stdout",
       "text": [
        "2014-12-04 18:38:46,084 INFO CLAW: Solution 0 computed for time t=0.000000\n"
       ]
      },
      {
       "output_type": "stream",
       "stream": "stdout",
       "text": [
        "2014-12-04 18:38:46,096 INFO CLAW: Solution 1 computed for time t=0.500000\n"
       ]
      },
      {
       "output_type": "stream",
       "stream": "stdout",
       "text": [
        "2014-12-04 18:38:46,108 INFO CLAW: Solution 2 computed for time t=1.000000\n"
       ]
      },
      {
       "output_type": "stream",
       "stream": "stdout",
       "text": [
        "2014-12-04 18:38:47,018 INFO CLAW: Solution 0 computed for time t=0.000000\n"
       ]
      },
      {
       "output_type": "stream",
       "stream": "stdout",
       "text": [
        "2014-12-04 18:38:47,026 INFO CLAW: Solution 1 computed for time t=0.500000\n"
       ]
      },
      {
       "output_type": "stream",
       "stream": "stdout",
       "text": [
        "2014-12-04 18:38:47,035 INFO CLAW: Solution 2 computed for time t=1.000000\n"
       ]
      },
      {
       "output_type": "stream",
       "stream": "stdout",
       "text": [
        "2014-12-04 18:38:47,950 INFO CLAW: Solution 0 computed for time t=0.000000\n"
       ]
      },
      {
       "output_type": "stream",
       "stream": "stdout",
       "text": [
        "2014-12-04 18:38:47,958 INFO CLAW: Solution 1 computed for time t=0.500000\n"
       ]
      },
      {
       "output_type": "stream",
       "stream": "stdout",
       "text": [
        "2014-12-04 18:38:47,966 INFO CLAW: Solution 2 computed for time t=1.000000\n"
       ]
      },
      {
       "output_type": "stream",
       "stream": "stdout",
       "text": [
        "2014-12-04 18:38:48,876 INFO CLAW: Solution 0 computed for time t=0.000000\n"
       ]
      },
      {
       "output_type": "stream",
       "stream": "stdout",
       "text": [
        "2014-12-04 18:38:48,885 INFO CLAW: Solution 1 computed for time t=0.500000\n"
       ]
      },
      {
       "output_type": "stream",
       "stream": "stdout",
       "text": [
        "2014-12-04 18:38:48,894 INFO CLAW: Solution 2 computed for time t=1.000000\n"
       ]
      },
      {
       "output_type": "stream",
       "stream": "stdout",
       "text": [
        "2014-12-04 18:38:49,817 INFO CLAW: Solution 0 computed for time t=0.000000\n"
       ]
      },
      {
       "output_type": "stream",
       "stream": "stdout",
       "text": [
        "2014-12-04 18:38:49,825 INFO CLAW: Solution 1 computed for time t=0.500000\n"
       ]
      },
      {
       "output_type": "stream",
       "stream": "stdout",
       "text": [
        "2014-12-04 18:38:49,832 INFO CLAW: Solution 2 computed for time t=1.000000\n"
       ]
      },
      {
       "output_type": "stream",
       "stream": "stdout",
       "text": [
        "2014-12-04 18:38:50,737 INFO CLAW: Solution 0 computed for time t=0.000000\n"
       ]
      },
      {
       "output_type": "stream",
       "stream": "stdout",
       "text": [
        "2014-12-04 18:38:50,745 INFO CLAW: Solution 1 computed for time t=0.500000\n"
       ]
      },
      {
       "output_type": "stream",
       "stream": "stdout",
       "text": [
        "2014-12-04 18:38:50,753 INFO CLAW: Solution 2 computed for time t=1.000000\n"
       ]
      },
      {
       "output_type": "stream",
       "stream": "stdout",
       "text": [
        "2014-12-04 18:38:51,677 INFO CLAW: Solution 0 computed for time t=0.000000\n"
       ]
      },
      {
       "output_type": "stream",
       "stream": "stdout",
       "text": [
        "2014-12-04 18:38:51,686 INFO CLAW: Solution 1 computed for time t=0.500000\n"
       ]
      },
      {
       "output_type": "stream",
       "stream": "stdout",
       "text": [
        "2014-12-04 18:38:51,693 INFO CLAW: Solution 2 computed for time t=1.000000\n"
       ]
      },
      {
       "output_type": "stream",
       "stream": "stdout",
       "text": [
        "2014-12-04 18:38:52,567 INFO CLAW: Solution 0 computed for time t=0.000000\n"
       ]
      },
      {
       "output_type": "stream",
       "stream": "stdout",
       "text": [
        "2014-12-04 18:38:52,575 INFO CLAW: Solution 1 computed for time t=0.500000\n"
       ]
      },
      {
       "output_type": "stream",
       "stream": "stdout",
       "text": [
        "2014-12-04 18:38:52,582 INFO CLAW: Solution 2 computed for time t=1.000000\n"
       ]
      },
      {
       "output_type": "stream",
       "stream": "stdout",
       "text": [
        "2014-12-04 18:38:53,512 INFO CLAW: Solution 0 computed for time t=0.000000\n"
       ]
      },
      {
       "output_type": "stream",
       "stream": "stdout",
       "text": [
        "2014-12-04 18:38:53,521 INFO CLAW: Solution 1 computed for time t=0.500000\n"
       ]
      },
      {
       "output_type": "stream",
       "stream": "stdout",
       "text": [
        "2014-12-04 18:38:53,529 INFO CLAW: Solution 2 computed for time t=1.000000\n"
       ]
      },
      {
       "output_type": "stream",
       "stream": "stdout",
       "text": [
        "2014-12-04 18:38:54,413 INFO CLAW: Solution 0 computed for time t=0.000000\n"
       ]
      },
      {
       "output_type": "stream",
       "stream": "stdout",
       "text": [
        "2014-12-04 18:38:54,421 INFO CLAW: Solution 1 computed for time t=0.500000\n"
       ]
      },
      {
       "output_type": "stream",
       "stream": "stdout",
       "text": [
        "2014-12-04 18:38:54,433 INFO CLAW: Solution 2 computed for time t=1.000000\n"
       ]
      },
      {
       "output_type": "stream",
       "stream": "stdout",
       "text": [
        "2014-12-04 18:38:55,396 INFO CLAW: Solution 0 computed for time t=0.000000\n"
       ]
      },
      {
       "output_type": "stream",
       "stream": "stdout",
       "text": [
        "2014-12-04 18:38:55,408 INFO CLAW: Solution 1 computed for time t=0.500000\n"
       ]
      },
      {
       "output_type": "stream",
       "stream": "stdout",
       "text": [
        "2014-12-04 18:38:55,415 INFO CLAW: Solution 2 computed for time t=1.000000\n"
       ]
      },
      {
       "output_type": "stream",
       "stream": "stdout",
       "text": [
        "2014-12-04 18:38:56,368 INFO CLAW: Solution 0 computed for time t=0.000000\n"
       ]
      },
      {
       "output_type": "stream",
       "stream": "stdout",
       "text": [
        "2014-12-04 18:38:56,378 INFO CLAW: Solution 1 computed for time t=0.500000\n"
       ]
      },
      {
       "output_type": "stream",
       "stream": "stdout",
       "text": [
        "2014-12-04 18:38:56,386 INFO CLAW: Solution 2 computed for time t=1.000000\n"
       ]
      },
      {
       "output_type": "stream",
       "stream": "stdout",
       "text": [
        "2014-12-04 18:38:57,377 INFO CLAW: Solution 0 computed for time t=0.000000\n"
       ]
      },
      {
       "output_type": "stream",
       "stream": "stdout",
       "text": [
        "2014-12-04 18:38:57,386 INFO CLAW: Solution 1 computed for time t=0.500000\n"
       ]
      },
      {
       "output_type": "stream",
       "stream": "stdout",
       "text": [
        "2014-12-04 18:38:57,394 INFO CLAW: Solution 2 computed for time t=1.000000\n"
       ]
      },
      {
       "output_type": "stream",
       "stream": "stdout",
       "text": [
        "2014-12-04 18:38:58,287 INFO CLAW: Solution 0 computed for time t=0.000000\n"
       ]
      },
      {
       "output_type": "stream",
       "stream": "stdout",
       "text": [
        "2014-12-04 18:38:58,297 INFO CLAW: Solution 1 computed for time t=0.500000\n"
       ]
      },
      {
       "output_type": "stream",
       "stream": "stdout",
       "text": [
        "2014-12-04 18:38:58,308 INFO CLAW: Solution 2 computed for time t=1.000000\n"
       ]
      },
      {
       "output_type": "stream",
       "stream": "stdout",
       "text": [
        "2014-12-04 18:38:59,249 INFO CLAW: Solution 0 computed for time t=0.000000\n"
       ]
      },
      {
       "output_type": "stream",
       "stream": "stdout",
       "text": [
        "2014-12-04 18:38:59,260 INFO CLAW: Solution 1 computed for time t=0.500000\n"
       ]
      },
      {
       "output_type": "stream",
       "stream": "stdout",
       "text": [
        "2014-12-04 18:38:59,269 INFO CLAW: Solution 2 computed for time t=1.000000\n"
       ]
      },
      {
       "output_type": "stream",
       "stream": "stdout",
       "text": [
        "2014-12-04 18:39:00,163 INFO CLAW: Solution 0 computed for time t=0.000000\n"
       ]
      },
      {
       "output_type": "stream",
       "stream": "stdout",
       "text": [
        "2014-12-04 18:39:00,171 INFO CLAW: Solution 1 computed for time t=0.500000\n"
       ]
      },
      {
       "output_type": "stream",
       "stream": "stdout",
       "text": [
        "2014-12-04 18:39:00,179 INFO CLAW: Solution 2 computed for time t=1.000000\n"
       ]
      },
      {
       "output_type": "stream",
       "stream": "stdout",
       "text": [
        "2014-12-04 18:39:01,063 INFO CLAW: Solution 0 computed for time t=0.000000\n"
       ]
      },
      {
       "output_type": "stream",
       "stream": "stdout",
       "text": [
        "2014-12-04 18:39:01,072 INFO CLAW: Solution 1 computed for time t=0.500000\n"
       ]
      },
      {
       "output_type": "stream",
       "stream": "stdout",
       "text": [
        "2014-12-04 18:39:01,080 INFO CLAW: Solution 2 computed for time t=1.000000\n"
       ]
      },
      {
       "output_type": "stream",
       "stream": "stdout",
       "text": [
        "2014-12-04 18:39:01,970 INFO CLAW: Solution 0 computed for time t=0.000000\n"
       ]
      },
      {
       "output_type": "stream",
       "stream": "stdout",
       "text": [
        "2014-12-04 18:39:01,978 INFO CLAW: Solution 1 computed for time t=0.500000\n"
       ]
      },
      {
       "output_type": "stream",
       "stream": "stdout",
       "text": [
        "2014-12-04 18:39:01,988 INFO CLAW: Solution 2 computed for time t=1.000000\n"
       ]
      },
      {
       "output_type": "stream",
       "stream": "stdout",
       "text": [
        "2014-12-04 18:39:02,931 INFO CLAW: Solution 0 computed for time t=0.000000\n"
       ]
      },
      {
       "output_type": "stream",
       "stream": "stdout",
       "text": [
        "2014-12-04 18:39:02,939 INFO CLAW: Solution 1 computed for time t=0.500000\n"
       ]
      },
      {
       "output_type": "stream",
       "stream": "stdout",
       "text": [
        "2014-12-04 18:39:02,947 INFO CLAW: Solution 2 computed for time t=1.000000\n"
       ]
      },
      {
       "output_type": "stream",
       "stream": "stdout",
       "text": [
        "2014-12-04 18:39:03,910 INFO CLAW: Solution 0 computed for time t=0.000000\n"
       ]
      },
      {
       "output_type": "stream",
       "stream": "stdout",
       "text": [
        "2014-12-04 18:39:03,918 INFO CLAW: Solution 1 computed for time t=0.500000\n"
       ]
      },
      {
       "output_type": "stream",
       "stream": "stdout",
       "text": [
        "2014-12-04 18:39:03,926 INFO CLAW: Solution 2 computed for time t=1.000000\n"
       ]
      },
      {
       "output_type": "stream",
       "stream": "stdout",
       "text": [
        "2014-12-04 18:39:04,925 INFO CLAW: Solution 0 computed for time t=0.000000\n"
       ]
      },
      {
       "output_type": "stream",
       "stream": "stdout",
       "text": [
        "2014-12-04 18:39:04,932 INFO CLAW: Solution 1 computed for time t=0.500000\n"
       ]
      },
      {
       "output_type": "stream",
       "stream": "stdout",
       "text": [
        "2014-12-04 18:39:04,940 INFO CLAW: Solution 2 computed for time t=1.000000\n"
       ]
      },
      {
       "output_type": "stream",
       "stream": "stdout",
       "text": [
        "2014-12-04 18:39:05,979 INFO CLAW: Solution 0 computed for time t=0.000000\n"
       ]
      },
      {
       "output_type": "stream",
       "stream": "stdout",
       "text": [
        "2014-12-04 18:39:05,987 INFO CLAW: Solution 1 computed for time t=0.500000\n"
       ]
      },
      {
       "output_type": "stream",
       "stream": "stdout",
       "text": [
        "2014-12-04 18:39:05,995 INFO CLAW: Solution 2 computed for time t=1.000000\n"
       ]
      },
      {
       "output_type": "stream",
       "stream": "stdout",
       "text": [
        "2014-12-04 18:39:07,033 INFO CLAW: Solution 0 computed for time t=0.000000\n"
       ]
      },
      {
       "output_type": "stream",
       "stream": "stdout",
       "text": [
        "2014-12-04 18:39:07,048 INFO CLAW: Solution 1 computed for time t=0.500000\n"
       ]
      },
      {
       "output_type": "stream",
       "stream": "stdout",
       "text": [
        "2014-12-04 18:39:07,062 INFO CLAW: Solution 2 computed for time t=1.000000\n"
       ]
      },
      {
       "output_type": "stream",
       "stream": "stdout",
       "text": [
        "2014-12-04 18:39:08,427 INFO CLAW: Solution 0 computed for time t=0.000000\n"
       ]
      },
      {
       "output_type": "stream",
       "stream": "stdout",
       "text": [
        "2014-12-04 18:39:08,443 INFO CLAW: Solution 1 computed for time t=0.500000\n"
       ]
      },
      {
       "output_type": "stream",
       "stream": "stdout",
       "text": [
        "2014-12-04 18:39:08,457 INFO CLAW: Solution 2 computed for time t=1.000000\n"
       ]
      },
      {
       "output_type": "stream",
       "stream": "stdout",
       "text": [
        "2014-12-04 18:39:09,523 INFO CLAW: Solution 0 computed for time t=0.000000\n"
       ]
      },
      {
       "output_type": "stream",
       "stream": "stdout",
       "text": [
        "2014-12-04 18:39:09,531 INFO CLAW: Solution 1 computed for time t=0.500000\n"
       ]
      },
      {
       "output_type": "stream",
       "stream": "stdout",
       "text": [
        "2014-12-04 18:39:09,542 INFO CLAW: Solution 2 computed for time t=1.000000\n"
       ]
      },
      {
       "output_type": "stream",
       "stream": "stdout",
       "text": [
        "2014-12-04 18:39:10,451 INFO CLAW: Solution 0 computed for time t=0.000000\n"
       ]
      },
      {
       "output_type": "stream",
       "stream": "stdout",
       "text": [
        "2014-12-04 18:39:10,459 INFO CLAW: Solution 1 computed for time t=0.500000\n"
       ]
      },
      {
       "output_type": "stream",
       "stream": "stdout",
       "text": [
        "2014-12-04 18:39:10,467 INFO CLAW: Solution 2 computed for time t=1.000000\n"
       ]
      },
      {
       "output_type": "stream",
       "stream": "stdout",
       "text": [
        "2014-12-04 18:39:11,511 INFO CLAW: Solution 0 computed for time t=0.000000\n"
       ]
      },
      {
       "output_type": "stream",
       "stream": "stdout",
       "text": [
        "2014-12-04 18:39:11,522 INFO CLAW: Solution 1 computed for time t=0.500000\n"
       ]
      },
      {
       "output_type": "stream",
       "stream": "stdout",
       "text": [
        "2014-12-04 18:39:11,535 INFO CLAW: Solution 2 computed for time t=1.000000\n"
       ]
      },
      {
       "output_type": "stream",
       "stream": "stdout",
       "text": [
        "2014-12-04 18:39:12,469 INFO CLAW: Solution 0 computed for time t=0.000000\n"
       ]
      },
      {
       "output_type": "stream",
       "stream": "stdout",
       "text": [
        "2014-12-04 18:39:12,480 INFO CLAW: Solution 1 computed for time t=0.500000\n"
       ]
      },
      {
       "output_type": "stream",
       "stream": "stdout",
       "text": [
        "2014-12-04 18:39:12,488 INFO CLAW: Solution 2 computed for time t=1.000000\n"
       ]
      },
      {
       "output_type": "stream",
       "stream": "stdout",
       "text": [
        "2014-12-04 18:39:13,381 INFO CLAW: Solution 0 computed for time t=0.000000\n"
       ]
      },
      {
       "output_type": "stream",
       "stream": "stdout",
       "text": [
        "2014-12-04 18:39:13,393 INFO CLAW: Solution 1 computed for time t=0.500000\n"
       ]
      },
      {
       "output_type": "stream",
       "stream": "stdout",
       "text": [
        "2014-12-04 18:39:13,400 INFO CLAW: Solution 2 computed for time t=1.000000\n"
       ]
      },
      {
       "output_type": "stream",
       "stream": "stdout",
       "text": [
        "2014-12-04 18:39:14,314 INFO CLAW: Solution 0 computed for time t=0.000000\n"
       ]
      },
      {
       "output_type": "stream",
       "stream": "stdout",
       "text": [
        "2014-12-04 18:39:14,322 INFO CLAW: Solution 1 computed for time t=0.500000\n"
       ]
      },
      {
       "output_type": "stream",
       "stream": "stdout",
       "text": [
        "2014-12-04 18:39:14,333 INFO CLAW: Solution 2 computed for time t=1.000000\n"
       ]
      },
      {
       "output_type": "stream",
       "stream": "stdout",
       "text": [
        "2014-12-04 18:39:15,327 INFO CLAW: Solution 0 computed for time t=0.000000\n"
       ]
      },
      {
       "output_type": "stream",
       "stream": "stdout",
       "text": [
        "2014-12-04 18:39:15,335 INFO CLAW: Solution 1 computed for time t=0.500000\n"
       ]
      },
      {
       "output_type": "stream",
       "stream": "stdout",
       "text": [
        "2014-12-04 18:39:15,343 INFO CLAW: Solution 2 computed for time t=1.000000\n"
       ]
      },
      {
       "output_type": "stream",
       "stream": "stdout",
       "text": [
        "2014-12-04 18:39:16,214 INFO CLAW: Solution 0 computed for time t=0.000000\n"
       ]
      },
      {
       "output_type": "stream",
       "stream": "stdout",
       "text": [
        "2014-12-04 18:39:16,222 INFO CLAW: Solution 1 computed for time t=0.500000\n"
       ]
      },
      {
       "output_type": "stream",
       "stream": "stdout",
       "text": [
        "2014-12-04 18:39:16,230 INFO CLAW: Solution 2 computed for time t=1.000000\n"
       ]
      },
      {
       "output_type": "stream",
       "stream": "stdout",
       "text": [
        "2014-12-04 18:39:17,171 INFO CLAW: Solution 0 computed for time t=0.000000\n"
       ]
      },
      {
       "output_type": "stream",
       "stream": "stdout",
       "text": [
        "2014-12-04 18:39:17,179 INFO CLAW: Solution 1 computed for time t=0.500000\n"
       ]
      },
      {
       "output_type": "stream",
       "stream": "stdout",
       "text": [
        "2014-12-04 18:39:17,191 INFO CLAW: Solution 2 computed for time t=1.000000\n"
       ]
      },
      {
       "output_type": "stream",
       "stream": "stdout",
       "text": [
        "2014-12-04 18:39:18,148 INFO CLAW: Solution 0 computed for time t=0.000000\n"
       ]
      },
      {
       "output_type": "stream",
       "stream": "stdout",
       "text": [
        "2014-12-04 18:39:18,156 INFO CLAW: Solution 1 computed for time t=0.500000\n"
       ]
      },
      {
       "output_type": "stream",
       "stream": "stdout",
       "text": [
        "2014-12-04 18:39:18,164 INFO CLAW: Solution 2 computed for time t=1.000000\n"
       ]
      },
      {
       "output_type": "stream",
       "stream": "stdout",
       "text": [
        "2014-12-04 18:39:19,170 INFO CLAW: Solution 0 computed for time t=0.000000\n"
       ]
      },
      {
       "output_type": "stream",
       "stream": "stdout",
       "text": [
        "2014-12-04 18:39:19,180 INFO CLAW: Solution 1 computed for time t=0.500000\n"
       ]
      },
      {
       "output_type": "stream",
       "stream": "stdout",
       "text": [
        "2014-12-04 18:39:19,190 INFO CLAW: Solution 2 computed for time t=1.000000\n"
       ]
      },
      {
       "output_type": "stream",
       "stream": "stdout",
       "text": [
        "2014-12-04 18:39:20,203 INFO CLAW: Solution 0 computed for time t=0.000000\n"
       ]
      },
      {
       "output_type": "stream",
       "stream": "stdout",
       "text": [
        "2014-12-04 18:39:20,215 INFO CLAW: Solution 1 computed for time t=0.500000\n"
       ]
      },
      {
       "output_type": "stream",
       "stream": "stdout",
       "text": [
        "2014-12-04 18:39:20,228 INFO CLAW: Solution 2 computed for time t=1.000000\n"
       ]
      },
      {
       "output_type": "stream",
       "stream": "stdout",
       "text": [
        "2014-12-04 18:39:21,174 INFO CLAW: Solution 0 computed for time t=0.000000\n"
       ]
      },
      {
       "output_type": "stream",
       "stream": "stdout",
       "text": [
        "2014-12-04 18:39:21,182 INFO CLAW: Solution 1 computed for time t=0.500000\n"
       ]
      },
      {
       "output_type": "stream",
       "stream": "stdout",
       "text": [
        "2014-12-04 18:39:21,190 INFO CLAW: Solution 2 computed for time t=1.000000\n"
       ]
      },
      {
       "output_type": "stream",
       "stream": "stdout",
       "text": [
        "2014-12-04 18:39:22,070 INFO CLAW: Solution 0 computed for time t=0.000000\n"
       ]
      },
      {
       "output_type": "stream",
       "stream": "stdout",
       "text": [
        "2014-12-04 18:39:22,079 INFO CLAW: Solution 1 computed for time t=0.500000\n"
       ]
      },
      {
       "output_type": "stream",
       "stream": "stdout",
       "text": [
        "2014-12-04 18:39:22,088 INFO CLAW: Solution 2 computed for time t=1.000000\n"
       ]
      },
      {
       "output_type": "stream",
       "stream": "stdout",
       "text": [
        "2014-12-04 18:39:23,024 INFO CLAW: Solution 0 computed for time t=0.000000\n"
       ]
      },
      {
       "output_type": "stream",
       "stream": "stdout",
       "text": [
        "2014-12-04 18:39:23,032 INFO CLAW: Solution 1 computed for time t=0.500000\n"
       ]
      },
      {
       "output_type": "stream",
       "stream": "stdout",
       "text": [
        "2014-12-04 18:39:23,040 INFO CLAW: Solution 2 computed for time t=1.000000\n"
       ]
      },
      {
       "output_type": "stream",
       "stream": "stdout",
       "text": [
        "2014-12-04 18:39:23,949 INFO CLAW: Solution 0 computed for time t=0.000000\n"
       ]
      },
      {
       "output_type": "stream",
       "stream": "stdout",
       "text": [
        "2014-12-04 18:39:23,957 INFO CLAW: Solution 1 computed for time t=0.500000\n"
       ]
      },
      {
       "output_type": "stream",
       "stream": "stdout",
       "text": [
        "2014-12-04 18:39:23,971 INFO CLAW: Solution 2 computed for time t=1.000000\n"
       ]
      },
      {
       "output_type": "stream",
       "stream": "stdout",
       "text": [
        "2014-12-04 18:39:24,936 INFO CLAW: Solution 0 computed for time t=0.000000\n"
       ]
      },
      {
       "output_type": "stream",
       "stream": "stdout",
       "text": [
        "2014-12-04 18:39:24,944 INFO CLAW: Solution 1 computed for time t=0.500000\n"
       ]
      },
      {
       "output_type": "stream",
       "stream": "stdout",
       "text": [
        "2014-12-04 18:39:24,952 INFO CLAW: Solution 2 computed for time t=1.000000\n"
       ]
      },
      {
       "output_type": "stream",
       "stream": "stdout",
       "text": [
        "2014-12-04 18:39:25,899 INFO CLAW: Solution 0 computed for time t=0.000000\n"
       ]
      },
      {
       "output_type": "stream",
       "stream": "stdout",
       "text": [
        "2014-12-04 18:39:25,906 INFO CLAW: Solution 1 computed for time t=0.500000\n"
       ]
      },
      {
       "output_type": "stream",
       "stream": "stdout",
       "text": [
        "2014-12-04 18:39:25,917 INFO CLAW: Solution 2 computed for time t=1.000000\n"
       ]
      },
      {
       "output_type": "stream",
       "stream": "stdout",
       "text": [
        "2014-12-04 18:39:26,837 INFO CLAW: Solution 0 computed for time t=0.000000\n"
       ]
      },
      {
       "output_type": "stream",
       "stream": "stdout",
       "text": [
        "2014-12-04 18:39:26,845 INFO CLAW: Solution 1 computed for time t=0.500000\n"
       ]
      },
      {
       "output_type": "stream",
       "stream": "stdout",
       "text": [
        "2014-12-04 18:39:26,854 INFO CLAW: Solution 2 computed for time t=1.000000\n"
       ]
      },
      {
       "output_type": "stream",
       "stream": "stdout",
       "text": [
        "2014-12-04 18:39:27,785 INFO CLAW: Solution 0 computed for time t=0.000000\n"
       ]
      },
      {
       "output_type": "stream",
       "stream": "stdout",
       "text": [
        "2014-12-04 18:39:27,797 INFO CLAW: Solution 1 computed for time t=0.500000\n"
       ]
      },
      {
       "output_type": "stream",
       "stream": "stdout",
       "text": [
        "2014-12-04 18:39:27,804 INFO CLAW: Solution 2 computed for time t=1.000000\n"
       ]
      },
      {
       "output_type": "stream",
       "stream": "stdout",
       "text": [
        "2014-12-04 18:39:28,723 INFO CLAW: Solution 0 computed for time t=0.000000\n"
       ]
      },
      {
       "output_type": "stream",
       "stream": "stdout",
       "text": [
        "2014-12-04 18:39:28,735 INFO CLAW: Solution 1 computed for time t=0.500000\n"
       ]
      },
      {
       "output_type": "stream",
       "stream": "stdout",
       "text": [
        "2014-12-04 18:39:28,742 INFO CLAW: Solution 2 computed for time t=1.000000\n"
       ]
      },
      {
       "output_type": "stream",
       "stream": "stdout",
       "text": [
        "2014-12-04 18:39:29,662 INFO CLAW: Solution 0 computed for time t=0.000000\n"
       ]
      },
      {
       "output_type": "stream",
       "stream": "stdout",
       "text": [
        "2014-12-04 18:39:29,674 INFO CLAW: Solution 1 computed for time t=0.500000\n"
       ]
      },
      {
       "output_type": "stream",
       "stream": "stdout",
       "text": [
        "2014-12-04 18:39:29,682 INFO CLAW: Solution 2 computed for time t=1.000000\n"
       ]
      },
      {
       "output_type": "stream",
       "stream": "stdout",
       "text": [
        "2014-12-04 18:39:30,569 INFO CLAW: Solution 0 computed for time t=0.000000\n"
       ]
      },
      {
       "output_type": "stream",
       "stream": "stdout",
       "text": [
        "2014-12-04 18:39:30,580 INFO CLAW: Solution 1 computed for time t=0.500000\n"
       ]
      },
      {
       "output_type": "stream",
       "stream": "stdout",
       "text": [
        "2014-12-04 18:39:30,588 INFO CLAW: Solution 2 computed for time t=1.000000\n"
       ]
      },
      {
       "output_type": "stream",
       "stream": "stdout",
       "text": [
        "2014-12-04 18:39:31,513 INFO CLAW: Solution 0 computed for time t=0.000000\n"
       ]
      },
      {
       "output_type": "stream",
       "stream": "stdout",
       "text": [
        "2014-12-04 18:39:31,525 INFO CLAW: Solution 1 computed for time t=0.500000\n"
       ]
      },
      {
       "output_type": "stream",
       "stream": "stdout",
       "text": [
        "2014-12-04 18:39:31,533 INFO CLAW: Solution 2 computed for time t=1.000000\n"
       ]
      },
      {
       "output_type": "stream",
       "stream": "stdout",
       "text": [
        "2014-12-04 18:39:32,495 INFO CLAW: Solution 0 computed for time t=0.000000\n"
       ]
      },
      {
       "output_type": "stream",
       "stream": "stdout",
       "text": [
        "2014-12-04 18:39:32,507 INFO CLAW: Solution 1 computed for time t=0.500000\n"
       ]
      },
      {
       "output_type": "stream",
       "stream": "stdout",
       "text": [
        "2014-12-04 18:39:32,515 INFO CLAW: Solution 2 computed for time t=1.000000\n"
       ]
      },
      {
       "output_type": "stream",
       "stream": "stdout",
       "text": [
        "2014-12-04 18:39:33,521 INFO CLAW: Solution 0 computed for time t=0.000000\n"
       ]
      },
      {
       "output_type": "stream",
       "stream": "stdout",
       "text": [
        "2014-12-04 18:39:33,534 INFO CLAW: Solution 1 computed for time t=0.500000\n"
       ]
      },
      {
       "output_type": "stream",
       "stream": "stdout",
       "text": [
        "2014-12-04 18:39:33,542 INFO CLAW: Solution 2 computed for time t=1.000000\n"
       ]
      },
      {
       "output_type": "stream",
       "stream": "stdout",
       "text": [
        "2014-12-04 18:39:34,535 INFO CLAW: Solution 0 computed for time t=0.000000\n"
       ]
      },
      {
       "output_type": "stream",
       "stream": "stdout",
       "text": [
        "2014-12-04 18:39:34,547 INFO CLAW: Solution 1 computed for time t=0.500000\n"
       ]
      },
      {
       "output_type": "stream",
       "stream": "stdout",
       "text": [
        "2014-12-04 18:39:34,555 INFO CLAW: Solution 2 computed for time t=1.000000\n"
       ]
      },
      {
       "output_type": "stream",
       "stream": "stdout",
       "text": [
        "2014-12-04 18:39:35,453 INFO CLAW: Solution 0 computed for time t=0.000000\n"
       ]
      },
      {
       "output_type": "stream",
       "stream": "stdout",
       "text": [
        "2014-12-04 18:39:35,461 INFO CLAW: Solution 1 computed for time t=0.500000\n"
       ]
      },
      {
       "output_type": "stream",
       "stream": "stdout",
       "text": [
        "2014-12-04 18:39:35,469 INFO CLAW: Solution 2 computed for time t=1.000000\n"
       ]
      },
      {
       "output_type": "stream",
       "stream": "stdout",
       "text": [
        "2014-12-04 18:39:36,372 INFO CLAW: Solution 0 computed for time t=0.000000\n"
       ]
      },
      {
       "output_type": "stream",
       "stream": "stdout",
       "text": [
        "2014-12-04 18:39:36,380 INFO CLAW: Solution 1 computed for time t=0.500000\n"
       ]
      },
      {
       "output_type": "stream",
       "stream": "stdout",
       "text": [
        "2014-12-04 18:39:36,391 INFO CLAW: Solution 2 computed for time t=1.000000\n"
       ]
      },
      {
       "output_type": "stream",
       "stream": "stdout",
       "text": [
        "2014-12-04 18:39:37,308 INFO CLAW: Solution 0 computed for time t=0.000000\n"
       ]
      },
      {
       "output_type": "stream",
       "stream": "stdout",
       "text": [
        "2014-12-04 18:39:37,320 INFO CLAW: Solution 1 computed for time t=0.500000\n"
       ]
      },
      {
       "output_type": "stream",
       "stream": "stdout",
       "text": [
        "2014-12-04 18:39:37,332 INFO CLAW: Solution 2 computed for time t=1.000000\n"
       ]
      },
      {
       "output_type": "stream",
       "stream": "stdout",
       "text": [
        "2014-12-04 18:39:38,258 INFO CLAW: Solution 0 computed for time t=0.000000\n"
       ]
      },
      {
       "output_type": "stream",
       "stream": "stdout",
       "text": [
        "2014-12-04 18:39:38,266 INFO CLAW: Solution 1 computed for time t=0.500000\n"
       ]
      },
      {
       "output_type": "stream",
       "stream": "stdout",
       "text": [
        "2014-12-04 18:39:38,276 INFO CLAW: Solution 2 computed for time t=1.000000\n"
       ]
      },
      {
       "output_type": "stream",
       "stream": "stdout",
       "text": [
        "2014-12-04 18:39:39,177 INFO CLAW: Solution 0 computed for time t=0.000000\n"
       ]
      },
      {
       "output_type": "stream",
       "stream": "stdout",
       "text": [
        "2014-12-04 18:39:39,185 INFO CLAW: Solution 1 computed for time t=0.500000\n"
       ]
      },
      {
       "output_type": "stream",
       "stream": "stdout",
       "text": [
        "2014-12-04 18:39:39,194 INFO CLAW: Solution 2 computed for time t=1.000000\n"
       ]
      },
      {
       "output_type": "stream",
       "stream": "stdout",
       "text": [
        "2014-12-04 18:39:40,095 INFO CLAW: Solution 0 computed for time t=0.000000\n"
       ]
      },
      {
       "output_type": "stream",
       "stream": "stdout",
       "text": [
        "2014-12-04 18:39:40,104 INFO CLAW: Solution 1 computed for time t=0.500000\n"
       ]
      },
      {
       "output_type": "stream",
       "stream": "stdout",
       "text": [
        "2014-12-04 18:39:40,112 INFO CLAW: Solution 2 computed for time t=1.000000\n"
       ]
      },
      {
       "output_type": "stream",
       "stream": "stdout",
       "text": [
        "2014-12-04 18:39:41,037 INFO CLAW: Solution 0 computed for time t=0.000000\n"
       ]
      },
      {
       "output_type": "stream",
       "stream": "stdout",
       "text": [
        "2014-12-04 18:39:41,049 INFO CLAW: Solution 1 computed for time t=0.500000\n"
       ]
      },
      {
       "output_type": "stream",
       "stream": "stdout",
       "text": [
        "2014-12-04 18:39:41,056 INFO CLAW: Solution 2 computed for time t=1.000000\n"
       ]
      },
      {
       "output_type": "stream",
       "stream": "stdout",
       "text": [
        "2014-12-04 18:39:41,986 INFO CLAW: Solution 0 computed for time t=0.000000\n"
       ]
      },
      {
       "output_type": "stream",
       "stream": "stdout",
       "text": [
        "2014-12-04 18:39:41,998 INFO CLAW: Solution 1 computed for time t=0.500000\n"
       ]
      },
      {
       "output_type": "stream",
       "stream": "stdout",
       "text": [
        "2014-12-04 18:39:42,006 INFO CLAW: Solution 2 computed for time t=1.000000\n"
       ]
      },
      {
       "output_type": "stream",
       "stream": "stdout",
       "text": [
        "2014-12-04 18:39:42,950 INFO CLAW: Solution 0 computed for time t=0.000000\n"
       ]
      },
      {
       "output_type": "stream",
       "stream": "stdout",
       "text": [
        "2014-12-04 18:39:42,962 INFO CLAW: Solution 1 computed for time t=0.500000\n"
       ]
      },
      {
       "output_type": "stream",
       "stream": "stdout",
       "text": [
        "2014-12-04 18:39:42,974 INFO CLAW: Solution 2 computed for time t=1.000000\n"
       ]
      },
      {
       "output_type": "stream",
       "stream": "stdout",
       "text": [
        "2014-12-04 18:39:43,894 INFO CLAW: Solution 0 computed for time t=0.000000\n"
       ]
      },
      {
       "output_type": "stream",
       "stream": "stdout",
       "text": [
        "2014-12-04 18:39:43,902 INFO CLAW: Solution 1 computed for time t=0.500000\n"
       ]
      },
      {
       "output_type": "stream",
       "stream": "stdout",
       "text": [
        "2014-12-04 18:39:43,913 INFO CLAW: Solution 2 computed for time t=1.000000\n"
       ]
      },
      {
       "output_type": "stream",
       "stream": "stdout",
       "text": [
        "2014-12-04 18:39:44,829 INFO CLAW: Solution 0 computed for time t=0.000000\n"
       ]
      },
      {
       "output_type": "stream",
       "stream": "stdout",
       "text": [
        "2014-12-04 18:39:44,841 INFO CLAW: Solution 1 computed for time t=0.500000\n"
       ]
      },
      {
       "output_type": "stream",
       "stream": "stdout",
       "text": [
        "2014-12-04 18:39:44,848 INFO CLAW: Solution 2 computed for time t=1.000000\n"
       ]
      },
      {
       "output_type": "stream",
       "stream": "stdout",
       "text": [
        "2014-12-04 18:39:45,757 INFO CLAW: Solution 0 computed for time t=0.000000\n"
       ]
      },
      {
       "output_type": "stream",
       "stream": "stdout",
       "text": [
        "2014-12-04 18:39:45,765 INFO CLAW: Solution 1 computed for time t=0.500000\n"
       ]
      },
      {
       "output_type": "stream",
       "stream": "stdout",
       "text": [
        "2014-12-04 18:39:45,773 INFO CLAW: Solution 2 computed for time t=1.000000\n"
       ]
      },
      {
       "output_type": "stream",
       "stream": "stdout",
       "text": [
        "2014-12-04 18:39:46,703 INFO CLAW: Solution 0 computed for time t=0.000000\n"
       ]
      },
      {
       "output_type": "stream",
       "stream": "stdout",
       "text": [
        "2014-12-04 18:39:46,711 INFO CLAW: Solution 1 computed for time t=0.500000\n"
       ]
      },
      {
       "output_type": "stream",
       "stream": "stdout",
       "text": [
        "2014-12-04 18:39:46,720 INFO CLAW: Solution 2 computed for time t=1.000000\n"
       ]
      },
      {
       "output_type": "stream",
       "stream": "stdout",
       "text": [
        "2014-12-04 18:39:47,726 INFO CLAW: Solution 0 computed for time t=0.000000\n"
       ]
      },
      {
       "output_type": "stream",
       "stream": "stdout",
       "text": [
        "2014-12-04 18:39:47,734 INFO CLAW: Solution 1 computed for time t=0.500000\n"
       ]
      },
      {
       "output_type": "stream",
       "stream": "stdout",
       "text": [
        "2014-12-04 18:39:47,741 INFO CLAW: Solution 2 computed for time t=1.000000\n"
       ]
      },
      {
       "output_type": "stream",
       "stream": "stdout",
       "text": [
        "2014-12-04 18:39:48,738 INFO CLAW: Solution 0 computed for time t=0.000000\n"
       ]
      },
      {
       "output_type": "stream",
       "stream": "stdout",
       "text": [
        "2014-12-04 18:39:48,750 INFO CLAW: Solution 1 computed for time t=0.500000\n"
       ]
      },
      {
       "output_type": "stream",
       "stream": "stdout",
       "text": [
        "2014-12-04 18:39:48,757 INFO CLAW: Solution 2 computed for time t=1.000000\n"
       ]
      },
      {
       "output_type": "stream",
       "stream": "stdout",
       "text": [
        "2014-12-04 18:39:49,715 INFO CLAW: Solution 0 computed for time t=0.000000\n"
       ]
      },
      {
       "output_type": "stream",
       "stream": "stdout",
       "text": [
        "2014-12-04 18:39:49,722 INFO CLAW: Solution 1 computed for time t=0.500000\n"
       ]
      },
      {
       "output_type": "stream",
       "stream": "stdout",
       "text": [
        "2014-12-04 18:39:49,730 INFO CLAW: Solution 2 computed for time t=1.000000\n"
       ]
      },
      {
       "output_type": "stream",
       "stream": "stdout",
       "text": [
        "2014-12-04 18:39:50,635 INFO CLAW: Solution 0 computed for time t=0.000000\n"
       ]
      },
      {
       "output_type": "stream",
       "stream": "stdout",
       "text": [
        "2014-12-04 18:39:50,644 INFO CLAW: Solution 1 computed for time t=0.500000\n"
       ]
      },
      {
       "output_type": "stream",
       "stream": "stdout",
       "text": [
        "2014-12-04 18:39:50,652 INFO CLAW: Solution 2 computed for time t=1.000000\n"
       ]
      },
      {
       "output_type": "stream",
       "stream": "stdout",
       "text": [
        "2014-12-04 18:39:51,533 INFO CLAW: Solution 0 computed for time t=0.000000\n"
       ]
      },
      {
       "output_type": "stream",
       "stream": "stdout",
       "text": [
        "2014-12-04 18:39:51,545 INFO CLAW: Solution 1 computed for time t=0.500000\n"
       ]
      },
      {
       "output_type": "stream",
       "stream": "stdout",
       "text": [
        "2014-12-04 18:39:51,552 INFO CLAW: Solution 2 computed for time t=1.000000\n"
       ]
      },
      {
       "output_type": "stream",
       "stream": "stdout",
       "text": [
        "2014-12-04 18:39:52,453 INFO CLAW: Solution 0 computed for time t=0.000000\n"
       ]
      },
      {
       "output_type": "stream",
       "stream": "stdout",
       "text": [
        "2014-12-04 18:39:52,461 INFO CLAW: Solution 1 computed for time t=0.500000\n"
       ]
      },
      {
       "output_type": "stream",
       "stream": "stdout",
       "text": [
        "2014-12-04 18:39:52,469 INFO CLAW: Solution 2 computed for time t=1.000000\n"
       ]
      },
      {
       "output_type": "stream",
       "stream": "stdout",
       "text": [
        "2014-12-04 18:39:53,391 INFO CLAW: Solution 0 computed for time t=0.000000\n"
       ]
      },
      {
       "output_type": "stream",
       "stream": "stdout",
       "text": [
        "2014-12-04 18:39:53,399 INFO CLAW: Solution 1 computed for time t=0.500000\n"
       ]
      },
      {
       "output_type": "stream",
       "stream": "stdout",
       "text": [
        "2014-12-04 18:39:53,407 INFO CLAW: Solution 2 computed for time t=1.000000\n"
       ]
      },
      {
       "output_type": "stream",
       "stream": "stdout",
       "text": [
        "2014-12-04 18:39:54,305 INFO CLAW: Solution 0 computed for time t=0.000000\n"
       ]
      },
      {
       "output_type": "stream",
       "stream": "stdout",
       "text": [
        "2014-12-04 18:39:54,317 INFO CLAW: Solution 1 computed for time t=0.500000\n"
       ]
      },
      {
       "output_type": "stream",
       "stream": "stdout",
       "text": [
        "2014-12-04 18:39:54,324 INFO CLAW: Solution 2 computed for time t=1.000000\n"
       ]
      },
      {
       "output_type": "stream",
       "stream": "stdout",
       "text": [
        "2014-12-04 18:39:55,267 INFO CLAW: Solution 0 computed for time t=0.000000\n"
       ]
      },
      {
       "output_type": "stream",
       "stream": "stdout",
       "text": [
        "2014-12-04 18:39:55,275 INFO CLAW: Solution 1 computed for time t=0.500000\n"
       ]
      },
      {
       "output_type": "stream",
       "stream": "stdout",
       "text": [
        "2014-12-04 18:39:55,283 INFO CLAW: Solution 2 computed for time t=1.000000\n"
       ]
      },
      {
       "output_type": "stream",
       "stream": "stdout",
       "text": [
        "2014-12-04 18:39:56,215 INFO CLAW: Solution 0 computed for time t=0.000000\n"
       ]
      },
      {
       "output_type": "stream",
       "stream": "stdout",
       "text": [
        "2014-12-04 18:39:56,226 INFO CLAW: Solution 1 computed for time t=0.500000\n"
       ]
      },
      {
       "output_type": "stream",
       "stream": "stdout",
       "text": [
        "2014-12-04 18:39:56,237 INFO CLAW: Solution 2 computed for time t=1.000000\n"
       ]
      },
      {
       "output_type": "stream",
       "stream": "stdout",
       "text": [
        "2014-12-04 18:39:57,129 INFO CLAW: Solution 0 computed for time t=0.000000\n"
       ]
      },
      {
       "output_type": "stream",
       "stream": "stdout",
       "text": [
        "2014-12-04 18:39:57,142 INFO CLAW: Solution 1 computed for time t=0.500000\n"
       ]
      },
      {
       "output_type": "stream",
       "stream": "stdout",
       "text": [
        "2014-12-04 18:39:57,152 INFO CLAW: Solution 2 computed for time t=1.000000\n"
       ]
      },
      {
       "output_type": "stream",
       "stream": "stdout",
       "text": [
        "2014-12-04 18:39:58,063 INFO CLAW: Solution 0 computed for time t=0.000000\n"
       ]
      },
      {
       "output_type": "stream",
       "stream": "stdout",
       "text": [
        "2014-12-04 18:39:58,070 INFO CLAW: Solution 1 computed for time t=0.500000\n"
       ]
      },
      {
       "output_type": "stream",
       "stream": "stdout",
       "text": [
        "2014-12-04 18:39:58,077 INFO CLAW: Solution 2 computed for time t=1.000000\n"
       ]
      },
      {
       "output_type": "stream",
       "stream": "stdout",
       "text": [
        "2014-12-04 18:39:58,976 INFO CLAW: Solution 0 computed for time t=0.000000\n"
       ]
      },
      {
       "output_type": "stream",
       "stream": "stdout",
       "text": [
        "2014-12-04 18:39:58,987 INFO CLAW: Solution 1 computed for time t=0.500000\n"
       ]
      },
      {
       "output_type": "stream",
       "stream": "stdout",
       "text": [
        "2014-12-04 18:39:58,994 INFO CLAW: Solution 2 computed for time t=1.000000\n"
       ]
      },
      {
       "output_type": "stream",
       "stream": "stdout",
       "text": [
        "2014-12-04 18:39:59,916 INFO CLAW: Solution 0 computed for time t=0.000000\n"
       ]
      },
      {
       "output_type": "stream",
       "stream": "stdout",
       "text": [
        "2014-12-04 18:39:59,923 INFO CLAW: Solution 1 computed for time t=0.500000\n"
       ]
      },
      {
       "output_type": "stream",
       "stream": "stdout",
       "text": [
        "2014-12-04 18:39:59,932 INFO CLAW: Solution 2 computed for time t=1.000000\n"
       ]
      },
      {
       "output_type": "stream",
       "stream": "stdout",
       "text": [
        "2014-12-04 18:40:00,827 INFO CLAW: Solution 0 computed for time t=0.000000\n"
       ]
      },
      {
       "output_type": "stream",
       "stream": "stdout",
       "text": [
        "2014-12-04 18:40:00,837 INFO CLAW: Solution 1 computed for time t=0.500000\n"
       ]
      },
      {
       "output_type": "stream",
       "stream": "stdout",
       "text": [
        "2014-12-04 18:40:00,847 INFO CLAW: Solution 2 computed for time t=1.000000\n"
       ]
      },
      {
       "output_type": "stream",
       "stream": "stdout",
       "text": [
        "2014-12-04 18:40:01,801 INFO CLAW: Solution 0 computed for time t=0.000000\n"
       ]
      },
      {
       "output_type": "stream",
       "stream": "stdout",
       "text": [
        "2014-12-04 18:40:01,811 INFO CLAW: Solution 1 computed for time t=0.500000\n"
       ]
      },
      {
       "output_type": "stream",
       "stream": "stdout",
       "text": [
        "2014-12-04 18:40:01,819 INFO CLAW: Solution 2 computed for time t=1.000000\n"
       ]
      },
      {
       "output_type": "stream",
       "stream": "stdout",
       "text": [
        "2014-12-04 18:40:02,824 INFO CLAW: Solution 0 computed for time t=0.000000\n"
       ]
      },
      {
       "output_type": "stream",
       "stream": "stdout",
       "text": [
        "2014-12-04 18:40:02,832 INFO CLAW: Solution 1 computed for time t=0.500000\n"
       ]
      },
      {
       "output_type": "stream",
       "stream": "stdout",
       "text": [
        "2014-12-04 18:40:02,840 INFO CLAW: Solution 2 computed for time t=1.000000\n"
       ]
      },
      {
       "output_type": "stream",
       "stream": "stdout",
       "text": [
        "2014-12-04 18:40:03,859 INFO CLAW: Solution 0 computed for time t=0.000000\n"
       ]
      },
      {
       "output_type": "stream",
       "stream": "stdout",
       "text": [
        "2014-12-04 18:40:03,866 INFO CLAW: Solution 1 computed for time t=0.500000\n"
       ]
      },
      {
       "output_type": "stream",
       "stream": "stdout",
       "text": [
        "2014-12-04 18:40:03,873 INFO CLAW: Solution 2 computed for time t=1.000000\n"
       ]
      },
      {
       "output_type": "stream",
       "stream": "stdout",
       "text": [
        "2014-12-04 18:40:04,773 INFO CLAW: Solution 0 computed for time t=0.000000\n"
       ]
      },
      {
       "output_type": "stream",
       "stream": "stdout",
       "text": [
        "2014-12-04 18:40:04,780 INFO CLAW: Solution 1 computed for time t=0.500000\n"
       ]
      },
      {
       "output_type": "stream",
       "stream": "stdout",
       "text": [
        "2014-12-04 18:40:04,789 INFO CLAW: Solution 2 computed for time t=1.000000\n"
       ]
      },
      {
       "output_type": "stream",
       "stream": "stdout",
       "text": [
        "2014-12-04 18:40:05,674 INFO CLAW: Solution 0 computed for time t=0.000000\n"
       ]
      },
      {
       "output_type": "stream",
       "stream": "stdout",
       "text": [
        "2014-12-04 18:40:05,682 INFO CLAW: Solution 1 computed for time t=0.500000\n"
       ]
      },
      {
       "output_type": "stream",
       "stream": "stdout",
       "text": [
        "2014-12-04 18:40:05,689 INFO CLAW: Solution 2 computed for time t=1.000000\n"
       ]
      },
      {
       "output_type": "stream",
       "stream": "stdout",
       "text": [
        "2014-12-04 18:40:06,593 INFO CLAW: Solution 0 computed for time t=0.000000\n"
       ]
      },
      {
       "output_type": "stream",
       "stream": "stdout",
       "text": [
        "2014-12-04 18:40:06,605 INFO CLAW: Solution 1 computed for time t=0.500000\n"
       ]
      },
      {
       "output_type": "stream",
       "stream": "stdout",
       "text": [
        "2014-12-04 18:40:06,615 INFO CLAW: Solution 2 computed for time t=1.000000\n"
       ]
      },
      {
       "output_type": "stream",
       "stream": "stdout",
       "text": [
        "2014-12-04 18:40:07,541 INFO CLAW: Solution 0 computed for time t=0.000000\n"
       ]
      },
      {
       "output_type": "stream",
       "stream": "stdout",
       "text": [
        "2014-12-04 18:40:07,552 INFO CLAW: Solution 1 computed for time t=0.500000\n"
       ]
      },
      {
       "output_type": "stream",
       "stream": "stdout",
       "text": [
        "2014-12-04 18:40:07,562 INFO CLAW: Solution 2 computed for time t=1.000000\n"
       ]
      },
      {
       "output_type": "stream",
       "stream": "stdout",
       "text": [
        "2014-12-04 18:40:08,483 INFO CLAW: Solution 0 computed for time t=0.000000\n"
       ]
      },
      {
       "output_type": "stream",
       "stream": "stdout",
       "text": [
        "2014-12-04 18:40:08,491 INFO CLAW: Solution 1 computed for time t=0.500000\n"
       ]
      },
      {
       "output_type": "stream",
       "stream": "stdout",
       "text": [
        "2014-12-04 18:40:08,499 INFO CLAW: Solution 2 computed for time t=1.000000\n"
       ]
      },
      {
       "output_type": "stream",
       "stream": "stdout",
       "text": [
        "2014-12-04 18:40:09,411 INFO CLAW: Solution 0 computed for time t=0.000000\n"
       ]
      },
      {
       "output_type": "stream",
       "stream": "stdout",
       "text": [
        "2014-12-04 18:40:09,421 INFO CLAW: Solution 1 computed for time t=0.500000\n"
       ]
      },
      {
       "output_type": "stream",
       "stream": "stdout",
       "text": [
        "2014-12-04 18:40:09,430 INFO CLAW: Solution 2 computed for time t=1.000000\n"
       ]
      },
      {
       "output_type": "stream",
       "stream": "stdout",
       "text": [
        "2014-12-04 18:40:10,371 INFO CLAW: Solution 0 computed for time t=0.000000\n"
       ]
      },
      {
       "output_type": "stream",
       "stream": "stdout",
       "text": [
        "2014-12-04 18:40:10,381 INFO CLAW: Solution 1 computed for time t=0.500000\n"
       ]
      },
      {
       "output_type": "stream",
       "stream": "stdout",
       "text": [
        "2014-12-04 18:40:10,390 INFO CLAW: Solution 2 computed for time t=1.000000\n"
       ]
      },
      {
       "output_type": "stream",
       "stream": "stdout",
       "text": [
        "2014-12-04 18:40:11,317 INFO CLAW: Solution 0 computed for time t=0.000000\n"
       ]
      },
      {
       "output_type": "stream",
       "stream": "stdout",
       "text": [
        "2014-12-04 18:40:11,328 INFO CLAW: Solution 1 computed for time t=0.500000\n"
       ]
      },
      {
       "output_type": "stream",
       "stream": "stdout",
       "text": [
        "2014-12-04 18:40:11,335 INFO CLAW: Solution 2 computed for time t=1.000000\n"
       ]
      },
      {
       "output_type": "stream",
       "stream": "stdout",
       "text": [
        "2014-12-04 18:40:12,240 INFO CLAW: Solution 0 computed for time t=0.000000\n"
       ]
      },
      {
       "output_type": "stream",
       "stream": "stdout",
       "text": [
        "2014-12-04 18:40:12,247 INFO CLAW: Solution 1 computed for time t=0.500000\n"
       ]
      },
      {
       "output_type": "stream",
       "stream": "stdout",
       "text": [
        "2014-12-04 18:40:12,254 INFO CLAW: Solution 2 computed for time t=1.000000\n"
       ]
      },
      {
       "output_type": "stream",
       "stream": "stdout",
       "text": [
        "2014-12-04 18:40:13,164 INFO CLAW: Solution 0 computed for time t=0.000000\n"
       ]
      },
      {
       "output_type": "stream",
       "stream": "stdout",
       "text": [
        "2014-12-04 18:40:13,171 INFO CLAW: Solution 1 computed for time t=0.500000\n"
       ]
      },
      {
       "output_type": "stream",
       "stream": "stdout",
       "text": [
        "2014-12-04 18:40:13,179 INFO CLAW: Solution 2 computed for time t=1.000000\n"
       ]
      },
      {
       "output_type": "stream",
       "stream": "stdout",
       "text": [
        "2014-12-04 18:40:14,096 INFO CLAW: Solution 0 computed for time t=0.000000\n"
       ]
      },
      {
       "output_type": "stream",
       "stream": "stdout",
       "text": [
        "2014-12-04 18:40:14,103 INFO CLAW: Solution 1 computed for time t=0.500000\n"
       ]
      },
      {
       "output_type": "stream",
       "stream": "stdout",
       "text": [
        "2014-12-04 18:40:14,111 INFO CLAW: Solution 2 computed for time t=1.000000\n"
       ]
      },
      {
       "output_type": "stream",
       "stream": "stdout",
       "text": [
        "2014-12-04 18:40:15,020 INFO CLAW: Solution 0 computed for time t=0.000000\n"
       ]
      },
      {
       "output_type": "stream",
       "stream": "stdout",
       "text": [
        "2014-12-04 18:40:15,027 INFO CLAW: Solution 1 computed for time t=0.500000\n"
       ]
      },
      {
       "output_type": "stream",
       "stream": "stdout",
       "text": [
        "2014-12-04 18:40:15,035 INFO CLAW: Solution 2 computed for time t=1.000000\n"
       ]
      },
      {
       "output_type": "stream",
       "stream": "stdout",
       "text": [
        "2014-12-04 18:40:15,955 INFO CLAW: Solution 0 computed for time t=0.000000\n"
       ]
      },
      {
       "output_type": "stream",
       "stream": "stdout",
       "text": [
        "2014-12-04 18:40:15,965 INFO CLAW: Solution 1 computed for time t=0.500000\n"
       ]
      },
      {
       "output_type": "stream",
       "stream": "stdout",
       "text": [
        "2014-12-04 18:40:15,973 INFO CLAW: Solution 2 computed for time t=1.000000\n"
       ]
      },
      {
       "output_type": "stream",
       "stream": "stdout",
       "text": [
        "2014-12-04 18:40:16,955 INFO CLAW: Solution 0 computed for time t=0.000000\n"
       ]
      },
      {
       "output_type": "stream",
       "stream": "stdout",
       "text": [
        "2014-12-04 18:40:16,964 INFO CLAW: Solution 1 computed for time t=0.500000\n"
       ]
      },
      {
       "output_type": "stream",
       "stream": "stdout",
       "text": [
        "2014-12-04 18:40:16,971 INFO CLAW: Solution 2 computed for time t=1.000000\n"
       ]
      },
      {
       "output_type": "stream",
       "stream": "stdout",
       "text": [
        "2014-12-04 18:40:17,917 INFO CLAW: Solution 0 computed for time t=0.000000\n"
       ]
      },
      {
       "output_type": "stream",
       "stream": "stdout",
       "text": [
        "2014-12-04 18:40:17,927 INFO CLAW: Solution 1 computed for time t=0.500000\n"
       ]
      },
      {
       "output_type": "stream",
       "stream": "stdout",
       "text": [
        "2014-12-04 18:40:17,938 INFO CLAW: Solution 2 computed for time t=1.000000\n"
       ]
      },
      {
       "output_type": "stream",
       "stream": "stdout",
       "text": [
        "2014-12-04 18:40:18,924 INFO CLAW: Solution 0 computed for time t=0.000000\n"
       ]
      },
      {
       "output_type": "stream",
       "stream": "stdout",
       "text": [
        "2014-12-04 18:40:18,931 INFO CLAW: Solution 1 computed for time t=0.500000\n"
       ]
      },
      {
       "output_type": "stream",
       "stream": "stdout",
       "text": [
        "2014-12-04 18:40:18,938 INFO CLAW: Solution 2 computed for time t=1.000000\n"
       ]
      },
      {
       "output_type": "stream",
       "stream": "stdout",
       "text": [
        "2014-12-04 18:40:19,840 INFO CLAW: Solution 0 computed for time t=0.000000\n"
       ]
      },
      {
       "output_type": "stream",
       "stream": "stdout",
       "text": [
        "2014-12-04 18:40:19,848 INFO CLAW: Solution 1 computed for time t=0.500000\n"
       ]
      },
      {
       "output_type": "stream",
       "stream": "stdout",
       "text": [
        "2014-12-04 18:40:19,855 INFO CLAW: Solution 2 computed for time t=1.000000\n"
       ]
      },
      {
       "output_type": "stream",
       "stream": "stdout",
       "text": [
        "2014-12-04 18:40:20,730 INFO CLAW: Solution 0 computed for time t=0.000000\n"
       ]
      },
      {
       "output_type": "stream",
       "stream": "stdout",
       "text": [
        "2014-12-04 18:40:20,738 INFO CLAW: Solution 1 computed for time t=0.500000\n"
       ]
      },
      {
       "output_type": "stream",
       "stream": "stdout",
       "text": [
        "2014-12-04 18:40:20,748 INFO CLAW: Solution 2 computed for time t=1.000000\n"
       ]
      },
      {
       "output_type": "stream",
       "stream": "stdout",
       "text": [
        "2014-12-04 18:40:21,678 INFO CLAW: Solution 0 computed for time t=0.000000\n"
       ]
      },
      {
       "output_type": "stream",
       "stream": "stdout",
       "text": [
        "2014-12-04 18:40:21,685 INFO CLAW: Solution 1 computed for time t=0.500000\n"
       ]
      },
      {
       "output_type": "stream",
       "stream": "stdout",
       "text": [
        "2014-12-04 18:40:21,692 INFO CLAW: Solution 2 computed for time t=1.000000\n"
       ]
      },
      {
       "output_type": "stream",
       "stream": "stdout",
       "text": [
        "2014-12-04 18:40:22,591 INFO CLAW: Solution 0 computed for time t=0.000000\n"
       ]
      },
      {
       "output_type": "stream",
       "stream": "stdout",
       "text": [
        "2014-12-04 18:40:22,598 INFO CLAW: Solution 1 computed for time t=0.500000\n"
       ]
      },
      {
       "output_type": "stream",
       "stream": "stdout",
       "text": [
        "2014-12-04 18:40:22,608 INFO CLAW: Solution 2 computed for time t=1.000000\n"
       ]
      },
      {
       "output_type": "stream",
       "stream": "stdout",
       "text": [
        "2014-12-04 18:40:23,502 INFO CLAW: Solution 0 computed for time t=0.000000\n"
       ]
      },
      {
       "output_type": "stream",
       "stream": "stdout",
       "text": [
        "2014-12-04 18:40:23,514 INFO CLAW: Solution 1 computed for time t=0.500000\n"
       ]
      },
      {
       "output_type": "stream",
       "stream": "stdout",
       "text": [
        "2014-12-04 18:40:23,526 INFO CLAW: Solution 2 computed for time t=1.000000\n"
       ]
      },
      {
       "output_type": "stream",
       "stream": "stdout",
       "text": [
        "2014-12-04 18:40:24,465 INFO CLAW: Solution 0 computed for time t=0.000000\n"
       ]
      },
      {
       "output_type": "stream",
       "stream": "stdout",
       "text": [
        "2014-12-04 18:40:24,473 INFO CLAW: Solution 1 computed for time t=0.500000\n"
       ]
      },
      {
       "output_type": "stream",
       "stream": "stdout",
       "text": [
        "2014-12-04 18:40:24,480 INFO CLAW: Solution 2 computed for time t=1.000000\n"
       ]
      },
      {
       "output_type": "stream",
       "stream": "stdout",
       "text": [
        "2014-12-04 18:40:25,396 INFO CLAW: Solution 0 computed for time t=0.000000\n"
       ]
      },
      {
       "output_type": "stream",
       "stream": "stdout",
       "text": [
        "2014-12-04 18:40:25,408 INFO CLAW: Solution 1 computed for time t=0.500000\n"
       ]
      },
      {
       "output_type": "stream",
       "stream": "stdout",
       "text": [
        "2014-12-04 18:40:25,418 INFO CLAW: Solution 2 computed for time t=1.000000\n"
       ]
      },
      {
       "output_type": "stream",
       "stream": "stdout",
       "text": [
        "2014-12-04 18:40:26,360 INFO CLAW: Solution 0 computed for time t=0.000000\n"
       ]
      },
      {
       "output_type": "stream",
       "stream": "stdout",
       "text": [
        "2014-12-04 18:40:26,367 INFO CLAW: Solution 1 computed for time t=0.500000\n"
       ]
      },
      {
       "output_type": "stream",
       "stream": "stdout",
       "text": [
        "2014-12-04 18:40:26,374 INFO CLAW: Solution 2 computed for time t=1.000000\n"
       ]
      },
      {
       "output_type": "stream",
       "stream": "stdout",
       "text": [
        "2014-12-04 18:40:27,306 INFO CLAW: Solution 0 computed for time t=0.000000\n"
       ]
      },
      {
       "output_type": "stream",
       "stream": "stdout",
       "text": [
        "2014-12-04 18:40:27,314 INFO CLAW: Solution 1 computed for time t=0.500000\n"
       ]
      },
      {
       "output_type": "stream",
       "stream": "stdout",
       "text": [
        "2014-12-04 18:40:27,321 INFO CLAW: Solution 2 computed for time t=1.000000\n"
       ]
      },
      {
       "output_type": "stream",
       "stream": "stdout",
       "text": [
        "2014-12-04 18:40:28,223 INFO CLAW: Solution 0 computed for time t=0.000000\n"
       ]
      },
      {
       "output_type": "stream",
       "stream": "stdout",
       "text": [
        "2014-12-04 18:40:28,231 INFO CLAW: Solution 1 computed for time t=0.500000\n"
       ]
      },
      {
       "output_type": "stream",
       "stream": "stdout",
       "text": [
        "2014-12-04 18:40:28,238 INFO CLAW: Solution 2 computed for time t=1.000000\n"
       ]
      },
      {
       "output_type": "stream",
       "stream": "stdout",
       "text": [
        "2014-12-04 18:40:29,184 INFO CLAW: Solution 0 computed for time t=0.000000\n"
       ]
      },
      {
       "output_type": "stream",
       "stream": "stdout",
       "text": [
        "2014-12-04 18:40:29,196 INFO CLAW: Solution 1 computed for time t=0.500000\n"
       ]
      },
      {
       "output_type": "stream",
       "stream": "stdout",
       "text": [
        "2014-12-04 18:40:29,204 INFO CLAW: Solution 2 computed for time t=1.000000\n"
       ]
      },
      {
       "output_type": "stream",
       "stream": "stdout",
       "text": [
        "2014-12-04 18:40:30,140 INFO CLAW: Solution 0 computed for time t=0.000000\n"
       ]
      },
      {
       "output_type": "stream",
       "stream": "stdout",
       "text": [
        "2014-12-04 18:40:30,147 INFO CLAW: Solution 1 computed for time t=0.500000\n"
       ]
      },
      {
       "output_type": "stream",
       "stream": "stdout",
       "text": [
        "2014-12-04 18:40:30,156 INFO CLAW: Solution 2 computed for time t=1.000000\n"
       ]
      },
      {
       "output_type": "stream",
       "stream": "stdout",
       "text": [
        "2014-12-04 18:40:31,176 INFO CLAW: Solution 0 computed for time t=0.000000\n"
       ]
      },
      {
       "output_type": "stream",
       "stream": "stdout",
       "text": [
        "2014-12-04 18:40:31,184 INFO CLAW: Solution 1 computed for time t=0.500000\n"
       ]
      },
      {
       "output_type": "stream",
       "stream": "stdout",
       "text": [
        "2014-12-04 18:40:31,191 INFO CLAW: Solution 2 computed for time t=1.000000\n"
       ]
      },
      {
       "output_type": "stream",
       "stream": "stdout",
       "text": [
        "2014-12-04 18:40:32,234 INFO CLAW: Solution 0 computed for time t=0.000000\n"
       ]
      },
      {
       "output_type": "stream",
       "stream": "stdout",
       "text": [
        "2014-12-04 18:40:32,244 INFO CLAW: Solution 1 computed for time t=0.500000\n"
       ]
      },
      {
       "output_type": "stream",
       "stream": "stdout",
       "text": [
        "2014-12-04 18:40:32,254 INFO CLAW: Solution 2 computed for time t=1.000000\n"
       ]
      },
      {
       "output_type": "stream",
       "stream": "stdout",
       "text": [
        "2014-12-04 18:40:33,284 INFO CLAW: Solution 0 computed for time t=0.000000\n"
       ]
      },
      {
       "output_type": "stream",
       "stream": "stdout",
       "text": [
        "2014-12-04 18:40:33,292 INFO CLAW: Solution 1 computed for time t=0.500000\n"
       ]
      },
      {
       "output_type": "stream",
       "stream": "stdout",
       "text": [
        "2014-12-04 18:40:33,299 INFO CLAW: Solution 2 computed for time t=1.000000\n"
       ]
      },
      {
       "output_type": "stream",
       "stream": "stdout",
       "text": [
        "2014-12-04 18:40:34,229 INFO CLAW: Solution 0 computed for time t=0.000000\n"
       ]
      },
      {
       "output_type": "stream",
       "stream": "stdout",
       "text": [
        "2014-12-04 18:40:34,237 INFO CLAW: Solution 1 computed for time t=0.500000\n"
       ]
      },
      {
       "output_type": "stream",
       "stream": "stdout",
       "text": [
        "2014-12-04 18:40:34,244 INFO CLAW: Solution 2 computed for time t=1.000000\n"
       ]
      },
      {
       "output_type": "stream",
       "stream": "stdout",
       "text": [
        "2014-12-04 18:40:35,180 INFO CLAW: Solution 0 computed for time t=0.000000\n"
       ]
      },
      {
       "output_type": "stream",
       "stream": "stdout",
       "text": [
        "2014-12-04 18:40:35,188 INFO CLAW: Solution 1 computed for time t=0.500000\n"
       ]
      },
      {
       "output_type": "stream",
       "stream": "stdout",
       "text": [
        "2014-12-04 18:40:35,197 INFO CLAW: Solution 2 computed for time t=1.000000\n"
       ]
      },
      {
       "output_type": "stream",
       "stream": "stdout",
       "text": [
        "2014-12-04 18:40:36,117 INFO CLAW: Solution 0 computed for time t=0.000000\n"
       ]
      },
      {
       "output_type": "stream",
       "stream": "stdout",
       "text": [
        "2014-12-04 18:40:36,129 INFO CLAW: Solution 1 computed for time t=0.500000\n"
       ]
      },
      {
       "output_type": "stream",
       "stream": "stdout",
       "text": [
        "2014-12-04 18:40:36,140 INFO CLAW: Solution 2 computed for time t=1.000000\n"
       ]
      },
      {
       "output_type": "stream",
       "stream": "stdout",
       "text": [
        "2014-12-04 18:40:37,114 INFO CLAW: Solution 0 computed for time t=0.000000\n"
       ]
      },
      {
       "output_type": "stream",
       "stream": "stdout",
       "text": [
        "2014-12-04 18:40:37,121 INFO CLAW: Solution 1 computed for time t=0.500000\n"
       ]
      },
      {
       "output_type": "stream",
       "stream": "stdout",
       "text": [
        "2014-12-04 18:40:37,129 INFO CLAW: Solution 2 computed for time t=1.000000\n"
       ]
      },
      {
       "output_type": "stream",
       "stream": "stdout",
       "text": [
        "2014-12-04 18:40:38,051 INFO CLAW: Solution 0 computed for time t=0.000000\n"
       ]
      },
      {
       "output_type": "stream",
       "stream": "stdout",
       "text": [
        "2014-12-04 18:40:38,061 INFO CLAW: Solution 1 computed for time t=0.500000\n"
       ]
      },
      {
       "output_type": "stream",
       "stream": "stdout",
       "text": [
        "2014-12-04 18:40:38,072 INFO CLAW: Solution 2 computed for time t=1.000000\n"
       ]
      },
      {
       "output_type": "stream",
       "stream": "stdout",
       "text": [
        "2014-12-04 18:40:39,018 INFO CLAW: Solution 0 computed for time t=0.000000\n"
       ]
      },
      {
       "output_type": "stream",
       "stream": "stdout",
       "text": [
        "2014-12-04 18:40:39,026 INFO CLAW: Solution 1 computed for time t=0.500000\n"
       ]
      },
      {
       "output_type": "stream",
       "stream": "stdout",
       "text": [
        "2014-12-04 18:40:39,035 INFO CLAW: Solution 2 computed for time t=1.000000\n"
       ]
      },
      {
       "output_type": "stream",
       "stream": "stdout",
       "text": [
        "2014-12-04 18:40:39,945 INFO CLAW: Solution 0 computed for time t=0.000000\n"
       ]
      },
      {
       "output_type": "stream",
       "stream": "stdout",
       "text": [
        "2014-12-04 18:40:39,952 INFO CLAW: Solution 1 computed for time t=0.500000\n"
       ]
      },
      {
       "output_type": "stream",
       "stream": "stdout",
       "text": [
        "2014-12-04 18:40:39,959 INFO CLAW: Solution 2 computed for time t=1.000000\n"
       ]
      },
      {
       "output_type": "stream",
       "stream": "stdout",
       "text": [
        "2014-12-04 18:40:40,873 INFO CLAW: Solution 0 computed for time t=0.000000\n"
       ]
      },
      {
       "output_type": "stream",
       "stream": "stdout",
       "text": [
        "2014-12-04 18:40:40,884 INFO CLAW: Solution 1 computed for time t=0.500000\n"
       ]
      },
      {
       "output_type": "stream",
       "stream": "stdout",
       "text": [
        "2014-12-04 18:40:40,894 INFO CLAW: Solution 2 computed for time t=1.000000\n"
       ]
      },
      {
       "output_type": "stream",
       "stream": "stdout",
       "text": [
        "2014-12-04 18:40:41,789 INFO CLAW: Solution 0 computed for time t=0.000000\n"
       ]
      },
      {
       "output_type": "stream",
       "stream": "stdout",
       "text": [
        "2014-12-04 18:40:41,797 INFO CLAW: Solution 1 computed for time t=0.500000\n"
       ]
      },
      {
       "output_type": "stream",
       "stream": "stdout",
       "text": [
        "2014-12-04 18:40:41,803 INFO CLAW: Solution 2 computed for time t=1.000000\n"
       ]
      },
      {
       "output_type": "stream",
       "stream": "stdout",
       "text": [
        "2014-12-04 18:40:42,693 INFO CLAW: Solution 0 computed for time t=0.000000\n"
       ]
      },
      {
       "output_type": "stream",
       "stream": "stdout",
       "text": [
        "2014-12-04 18:40:42,704 INFO CLAW: Solution 1 computed for time t=0.500000\n"
       ]
      },
      {
       "output_type": "stream",
       "stream": "stdout",
       "text": [
        "2014-12-04 18:40:42,711 INFO CLAW: Solution 2 computed for time t=1.000000\n"
       ]
      },
      {
       "output_type": "stream",
       "stream": "stdout",
       "text": [
        "2014-12-04 18:40:43,600 INFO CLAW: Solution 0 computed for time t=0.000000\n"
       ]
      },
      {
       "output_type": "stream",
       "stream": "stdout",
       "text": [
        "2014-12-04 18:40:43,607 INFO CLAW: Solution 1 computed for time t=0.500000\n"
       ]
      },
      {
       "output_type": "stream",
       "stream": "stdout",
       "text": [
        "2014-12-04 18:40:43,616 INFO CLAW: Solution 2 computed for time t=1.000000\n"
       ]
      },
      {
       "output_type": "stream",
       "stream": "stdout",
       "text": [
        "2014-12-04 18:40:44,527 INFO CLAW: Solution 0 computed for time t=0.000000\n"
       ]
      },
      {
       "output_type": "stream",
       "stream": "stdout",
       "text": [
        "2014-12-04 18:40:44,535 INFO CLAW: Solution 1 computed for time t=0.500000\n"
       ]
      },
      {
       "output_type": "stream",
       "stream": "stdout",
       "text": [
        "2014-12-04 18:40:44,542 INFO CLAW: Solution 2 computed for time t=1.000000\n"
       ]
      },
      {
       "output_type": "stream",
       "stream": "stdout",
       "text": [
        "2014-12-04 18:40:45,443 INFO CLAW: Solution 0 computed for time t=0.000000\n"
       ]
      },
      {
       "output_type": "stream",
       "stream": "stdout",
       "text": [
        "2014-12-04 18:40:45,450 INFO CLAW: Solution 1 computed for time t=0.500000\n"
       ]
      },
      {
       "output_type": "stream",
       "stream": "stdout",
       "text": [
        "2014-12-04 18:40:45,458 INFO CLAW: Solution 2 computed for time t=1.000000\n"
       ]
      },
      {
       "output_type": "stream",
       "stream": "stdout",
       "text": [
        "2014-12-04 18:40:46,445 INFO CLAW: Solution 0 computed for time t=0.000000\n"
       ]
      },
      {
       "output_type": "stream",
       "stream": "stdout",
       "text": [
        "2014-12-04 18:40:46,453 INFO CLAW: Solution 1 computed for time t=0.500000\n"
       ]
      },
      {
       "output_type": "stream",
       "stream": "stdout",
       "text": [
        "2014-12-04 18:40:46,460 INFO CLAW: Solution 2 computed for time t=1.000000\n"
       ]
      },
      {
       "output_type": "stream",
       "stream": "stdout",
       "text": [
        "2014-12-04 18:40:47,528 INFO CLAW: Solution 0 computed for time t=0.000000\n"
       ]
      },
      {
       "output_type": "stream",
       "stream": "stdout",
       "text": [
        "2014-12-04 18:40:47,540 INFO CLAW: Solution 1 computed for time t=0.500000\n"
       ]
      },
      {
       "output_type": "stream",
       "stream": "stdout",
       "text": [
        "2014-12-04 18:40:47,551 INFO CLAW: Solution 2 computed for time t=1.000000\n"
       ]
      },
      {
       "output_type": "stream",
       "stream": "stdout",
       "text": [
        "2014-12-04 18:40:48,506 INFO CLAW: Solution 0 computed for time t=0.000000\n"
       ]
      },
      {
       "output_type": "stream",
       "stream": "stdout",
       "text": [
        "2014-12-04 18:40:48,514 INFO CLAW: Solution 1 computed for time t=0.500000\n"
       ]
      },
      {
       "output_type": "stream",
       "stream": "stdout",
       "text": [
        "2014-12-04 18:40:48,525 INFO CLAW: Solution 2 computed for time t=1.000000\n"
       ]
      },
      {
       "output_type": "stream",
       "stream": "stdout",
       "text": [
        "2014-12-04 18:40:49,508 INFO CLAW: Solution 0 computed for time t=0.000000\n"
       ]
      },
      {
       "output_type": "stream",
       "stream": "stdout",
       "text": [
        "2014-12-04 18:40:49,519 INFO CLAW: Solution 1 computed for time t=0.500000\n"
       ]
      },
      {
       "output_type": "stream",
       "stream": "stdout",
       "text": [
        "2014-12-04 18:40:49,526 INFO CLAW: Solution 2 computed for time t=1.000000\n"
       ]
      },
      {
       "output_type": "stream",
       "stream": "stdout",
       "text": [
        "2014-12-04 18:40:50,474 INFO CLAW: Solution 0 computed for time t=0.000000\n"
       ]
      },
      {
       "output_type": "stream",
       "stream": "stdout",
       "text": [
        "2014-12-04 18:40:50,482 INFO CLAW: Solution 1 computed for time t=0.500000\n"
       ]
      },
      {
       "output_type": "stream",
       "stream": "stdout",
       "text": [
        "2014-12-04 18:40:50,489 INFO CLAW: Solution 2 computed for time t=1.000000\n"
       ]
      },
      {
       "output_type": "stream",
       "stream": "stdout",
       "text": [
        "2014-12-04 18:40:51,409 INFO CLAW: Solution 0 computed for time t=0.000000\n"
       ]
      },
      {
       "output_type": "stream",
       "stream": "stdout",
       "text": [
        "2014-12-04 18:40:51,417 INFO CLAW: Solution 1 computed for time t=0.500000\n"
       ]
      },
      {
       "output_type": "stream",
       "stream": "stdout",
       "text": [
        "2014-12-04 18:40:51,426 INFO CLAW: Solution 2 computed for time t=1.000000\n"
       ]
      },
      {
       "output_type": "stream",
       "stream": "stdout",
       "text": [
        "2014-12-04 18:40:52,351 INFO CLAW: Solution 0 computed for time t=0.000000\n"
       ]
      },
      {
       "output_type": "stream",
       "stream": "stdout",
       "text": [
        "2014-12-04 18:40:52,358 INFO CLAW: Solution 1 computed for time t=0.500000\n"
       ]
      },
      {
       "output_type": "stream",
       "stream": "stdout",
       "text": [
        "2014-12-04 18:40:52,367 INFO CLAW: Solution 2 computed for time t=1.000000\n"
       ]
      },
      {
       "output_type": "stream",
       "stream": "stdout",
       "text": [
        "2014-12-04 18:40:53,279 INFO CLAW: Solution 0 computed for time t=0.000000\n"
       ]
      },
      {
       "output_type": "stream",
       "stream": "stdout",
       "text": [
        "2014-12-04 18:40:53,287 INFO CLAW: Solution 1 computed for time t=0.500000\n"
       ]
      },
      {
       "output_type": "stream",
       "stream": "stdout",
       "text": [
        "2014-12-04 18:40:53,294 INFO CLAW: Solution 2 computed for time t=1.000000\n"
       ]
      },
      {
       "output_type": "stream",
       "stream": "stdout",
       "text": [
        "2014-12-04 18:40:54,208 INFO CLAW: Solution 0 computed for time t=0.000000\n"
       ]
      },
      {
       "output_type": "stream",
       "stream": "stdout",
       "text": [
        "2014-12-04 18:40:54,215 INFO CLAW: Solution 1 computed for time t=0.500000\n"
       ]
      },
      {
       "output_type": "stream",
       "stream": "stdout",
       "text": [
        "2014-12-04 18:40:54,223 INFO CLAW: Solution 2 computed for time t=1.000000\n"
       ]
      },
      {
       "output_type": "stream",
       "stream": "stdout",
       "text": [
        "2014-12-04 18:40:55,125 INFO CLAW: Solution 0 computed for time t=0.000000\n"
       ]
      },
      {
       "output_type": "stream",
       "stream": "stdout",
       "text": [
        "2014-12-04 18:40:55,133 INFO CLAW: Solution 1 computed for time t=0.500000\n"
       ]
      },
      {
       "output_type": "stream",
       "stream": "stdout",
       "text": [
        "2014-12-04 18:40:55,140 INFO CLAW: Solution 2 computed for time t=1.000000\n"
       ]
      },
      {
       "output_type": "stream",
       "stream": "stdout",
       "text": [
        "2014-12-04 18:40:56,090 INFO CLAW: Solution 0 computed for time t=0.000000\n"
       ]
      },
      {
       "output_type": "stream",
       "stream": "stdout",
       "text": [
        "2014-12-04 18:40:56,097 INFO CLAW: Solution 1 computed for time t=0.500000\n"
       ]
      },
      {
       "output_type": "stream",
       "stream": "stdout",
       "text": [
        "2014-12-04 18:40:56,107 INFO CLAW: Solution 2 computed for time t=1.000000\n"
       ]
      },
      {
       "output_type": "stream",
       "stream": "stdout",
       "text": [
        "2014-12-04 18:40:57,022 INFO CLAW: Solution 0 computed for time t=0.000000\n"
       ]
      },
      {
       "output_type": "stream",
       "stream": "stdout",
       "text": [
        "2014-12-04 18:40:57,031 INFO CLAW: Solution 1 computed for time t=0.500000\n"
       ]
      },
      {
       "output_type": "stream",
       "stream": "stdout",
       "text": [
        "2014-12-04 18:40:57,038 INFO CLAW: Solution 2 computed for time t=1.000000\n"
       ]
      },
      {
       "output_type": "stream",
       "stream": "stdout",
       "text": [
        "2014-12-04 18:40:57,946 INFO CLAW: Solution 0 computed for time t=0.000000\n"
       ]
      },
      {
       "output_type": "stream",
       "stream": "stdout",
       "text": [
        "2014-12-04 18:40:57,953 INFO CLAW: Solution 1 computed for time t=0.500000\n"
       ]
      },
      {
       "output_type": "stream",
       "stream": "stdout",
       "text": [
        "2014-12-04 18:40:57,960 INFO CLAW: Solution 2 computed for time t=1.000000\n"
       ]
      },
      {
       "output_type": "stream",
       "stream": "stdout",
       "text": [
        "2014-12-04 18:40:58,852 INFO CLAW: Solution 0 computed for time t=0.000000\n"
       ]
      },
      {
       "output_type": "stream",
       "stream": "stdout",
       "text": [
        "2014-12-04 18:40:58,859 INFO CLAW: Solution 1 computed for time t=0.500000\n"
       ]
      },
      {
       "output_type": "stream",
       "stream": "stdout",
       "text": [
        "2014-12-04 18:40:58,871 INFO CLAW: Solution 2 computed for time t=1.000000\n"
       ]
      },
      {
       "output_type": "stream",
       "stream": "stdout",
       "text": [
        "2014-12-04 18:40:59,827 INFO CLAW: Solution 0 computed for time t=0.000000\n"
       ]
      },
      {
       "output_type": "stream",
       "stream": "stdout",
       "text": [
        "2014-12-04 18:40:59,834 INFO CLAW: Solution 1 computed for time t=0.500000\n"
       ]
      },
      {
       "output_type": "stream",
       "stream": "stdout",
       "text": [
        "2014-12-04 18:40:59,843 INFO CLAW: Solution 2 computed for time t=1.000000\n"
       ]
      },
      {
       "output_type": "stream",
       "stream": "stdout",
       "text": [
        "2014-12-04 18:41:00,865 INFO CLAW: Solution 0 computed for time t=0.000000\n"
       ]
      },
      {
       "output_type": "stream",
       "stream": "stdout",
       "text": [
        "2014-12-04 18:41:00,874 INFO CLAW: Solution 1 computed for time t=0.500000\n"
       ]
      },
      {
       "output_type": "stream",
       "stream": "stdout",
       "text": [
        "2014-12-04 18:41:00,882 INFO CLAW: Solution 2 computed for time t=1.000000\n"
       ]
      },
      {
       "output_type": "stream",
       "stream": "stdout",
       "text": [
        "2014-12-04 18:41:01,857 INFO CLAW: Solution 0 computed for time t=0.000000\n"
       ]
      },
      {
       "output_type": "stream",
       "stream": "stdout",
       "text": [
        "2014-12-04 18:41:01,868 INFO CLAW: Solution 1 computed for time t=0.500000\n"
       ]
      },
      {
       "output_type": "stream",
       "stream": "stdout",
       "text": [
        "2014-12-04 18:41:01,875 INFO CLAW: Solution 2 computed for time t=1.000000\n"
       ]
      },
      {
       "output_type": "stream",
       "stream": "stdout",
       "text": [
        "2014-12-04 18:41:02,800 INFO CLAW: Solution 0 computed for time t=0.000000\n"
       ]
      },
      {
       "output_type": "stream",
       "stream": "stdout",
       "text": [
        "2014-12-04 18:41:02,808 INFO CLAW: Solution 1 computed for time t=0.500000\n"
       ]
      },
      {
       "output_type": "stream",
       "stream": "stdout",
       "text": [
        "2014-12-04 18:41:02,815 INFO CLAW: Solution 2 computed for time t=1.000000\n"
       ]
      },
      {
       "output_type": "stream",
       "stream": "stdout",
       "text": [
        "2014-12-04 18:41:03,961 INFO CLAW: Solution 0 computed for time t=0.000000\n"
       ]
      },
      {
       "output_type": "stream",
       "stream": "stdout",
       "text": [
        "2014-12-04 18:41:03,969 INFO CLAW: Solution 1 computed for time t=0.500000\n"
       ]
      },
      {
       "output_type": "stream",
       "stream": "stdout",
       "text": [
        "2014-12-04 18:41:03,977 INFO CLAW: Solution 2 computed for time t=1.000000\n"
       ]
      },
      {
       "output_type": "stream",
       "stream": "stdout",
       "text": [
        "2014-12-04 18:41:04,892 INFO CLAW: Solution 0 computed for time t=0.000000\n"
       ]
      },
      {
       "output_type": "stream",
       "stream": "stdout",
       "text": [
        "2014-12-04 18:41:04,899 INFO CLAW: Solution 1 computed for time t=0.500000\n"
       ]
      },
      {
       "output_type": "stream",
       "stream": "stdout",
       "text": [
        "2014-12-04 18:41:04,907 INFO CLAW: Solution 2 computed for time t=1.000000\n"
       ]
      },
      {
       "output_type": "stream",
       "stream": "stdout",
       "text": [
        "2014-12-04 18:41:05,836 INFO CLAW: Solution 0 computed for time t=0.000000\n"
       ]
      },
      {
       "output_type": "stream",
       "stream": "stdout",
       "text": [
        "2014-12-04 18:41:05,847 INFO CLAW: Solution 1 computed for time t=0.500000\n"
       ]
      },
      {
       "output_type": "stream",
       "stream": "stdout",
       "text": [
        "2014-12-04 18:41:05,855 INFO CLAW: Solution 2 computed for time t=1.000000\n"
       ]
      },
      {
       "output_type": "stream",
       "stream": "stdout",
       "text": [
        "2014-12-04 18:41:06,764 INFO CLAW: Solution 0 computed for time t=0.000000\n"
       ]
      },
      {
       "output_type": "stream",
       "stream": "stdout",
       "text": [
        "2014-12-04 18:41:06,771 INFO CLAW: Solution 1 computed for time t=0.500000\n"
       ]
      },
      {
       "output_type": "stream",
       "stream": "stdout",
       "text": [
        "2014-12-04 18:41:06,780 INFO CLAW: Solution 2 computed for time t=1.000000\n"
       ]
      },
      {
       "output_type": "stream",
       "stream": "stdout",
       "text": [
        "2014-12-04 18:41:07,690 INFO CLAW: Solution 0 computed for time t=0.000000\n"
       ]
      },
      {
       "output_type": "stream",
       "stream": "stdout",
       "text": [
        "2014-12-04 18:41:07,701 INFO CLAW: Solution 1 computed for time t=0.500000\n"
       ]
      },
      {
       "output_type": "stream",
       "stream": "stdout",
       "text": [
        "2014-12-04 18:41:07,708 INFO CLAW: Solution 2 computed for time t=1.000000\n"
       ]
      },
      {
       "output_type": "stream",
       "stream": "stdout",
       "text": [
        "2014-12-04 18:41:08,973 INFO CLAW: Solution 0 computed for time t=0.000000\n"
       ]
      },
      {
       "output_type": "stream",
       "stream": "stdout",
       "text": [
        "2014-12-04 18:41:08,984 INFO CLAW: Solution 1 computed for time t=0.500000\n"
       ]
      },
      {
       "output_type": "stream",
       "stream": "stdout",
       "text": [
        "2014-12-04 18:41:08,994 INFO CLAW: Solution 2 computed for time t=1.000000\n"
       ]
      },
      {
       "output_type": "stream",
       "stream": "stdout",
       "text": [
        "2014-12-04 18:41:09,909 INFO CLAW: Solution 0 computed for time t=0.000000\n"
       ]
      },
      {
       "output_type": "stream",
       "stream": "stdout",
       "text": [
        "2014-12-04 18:41:09,916 INFO CLAW: Solution 1 computed for time t=0.500000\n"
       ]
      },
      {
       "output_type": "stream",
       "stream": "stdout",
       "text": [
        "2014-12-04 18:41:09,924 INFO CLAW: Solution 2 computed for time t=1.000000\n"
       ]
      },
      {
       "output_type": "stream",
       "stream": "stdout",
       "text": [
        "2014-12-04 18:41:10,972 INFO CLAW: Solution 0 computed for time t=0.000000\n"
       ]
      },
      {
       "output_type": "stream",
       "stream": "stdout",
       "text": [
        "2014-12-04 18:41:10,980 INFO CLAW: Solution 1 computed for time t=0.500000\n"
       ]
      },
      {
       "output_type": "stream",
       "stream": "stdout",
       "text": [
        "2014-12-04 18:41:10,990 INFO CLAW: Solution 2 computed for time t=1.000000\n"
       ]
      },
      {
       "output_type": "stream",
       "stream": "stdout",
       "text": [
        "2014-12-04 18:41:11,891 INFO CLAW: Solution 0 computed for time t=0.000000\n"
       ]
      },
      {
       "output_type": "stream",
       "stream": "stdout",
       "text": [
        "2014-12-04 18:41:11,898 INFO CLAW: Solution 1 computed for time t=0.500000\n"
       ]
      },
      {
       "output_type": "stream",
       "stream": "stdout",
       "text": [
        "2014-12-04 18:41:11,906 INFO CLAW: Solution 2 computed for time t=1.000000\n"
       ]
      },
      {
       "output_type": "stream",
       "stream": "stdout",
       "text": [
        "2014-12-04 18:41:12,824 INFO CLAW: Solution 0 computed for time t=0.000000\n"
       ]
      },
      {
       "output_type": "stream",
       "stream": "stdout",
       "text": [
        "2014-12-04 18:41:12,832 INFO CLAW: Solution 1 computed for time t=0.500000\n"
       ]
      },
      {
       "output_type": "stream",
       "stream": "stdout",
       "text": [
        "2014-12-04 18:41:12,840 INFO CLAW: Solution 2 computed for time t=1.000000\n"
       ]
      },
      {
       "output_type": "stream",
       "stream": "stdout",
       "text": [
        "2014-12-04 18:41:13,762 INFO CLAW: Solution 0 computed for time t=0.000000\n"
       ]
      },
      {
       "output_type": "stream",
       "stream": "stdout",
       "text": [
        "2014-12-04 18:41:13,771 INFO CLAW: Solution 1 computed for time t=0.500000\n"
       ]
      },
      {
       "output_type": "stream",
       "stream": "stdout",
       "text": [
        "2014-12-04 18:41:13,779 INFO CLAW: Solution 2 computed for time t=1.000000\n"
       ]
      },
      {
       "output_type": "stream",
       "stream": "stdout",
       "text": [
        "2014-12-04 18:41:14,744 INFO CLAW: Solution 0 computed for time t=0.000000\n"
       ]
      },
      {
       "output_type": "stream",
       "stream": "stdout",
       "text": [
        "2014-12-04 18:41:14,753 INFO CLAW: Solution 1 computed for time t=0.500000\n"
       ]
      },
      {
       "output_type": "stream",
       "stream": "stdout",
       "text": [
        "2014-12-04 18:41:14,761 INFO CLAW: Solution 2 computed for time t=1.000000\n"
       ]
      },
      {
       "output_type": "stream",
       "stream": "stdout",
       "text": [
        "2014-12-04 18:41:15,767 INFO CLAW: Solution 0 computed for time t=0.000000\n"
       ]
      },
      {
       "output_type": "stream",
       "stream": "stdout",
       "text": [
        "2014-12-04 18:41:15,779 INFO CLAW: Solution 1 computed for time t=0.500000\n"
       ]
      },
      {
       "output_type": "stream",
       "stream": "stdout",
       "text": [
        "2014-12-04 18:41:15,789 INFO CLAW: Solution 2 computed for time t=1.000000\n"
       ]
      },
      {
       "output_type": "stream",
       "stream": "stdout",
       "text": [
        "2014-12-04 18:41:16,804 INFO CLAW: Solution 0 computed for time t=0.000000\n"
       ]
      },
      {
       "output_type": "stream",
       "stream": "stdout",
       "text": [
        "2014-12-04 18:41:16,812 INFO CLAW: Solution 1 computed for time t=0.500000\n"
       ]
      },
      {
       "output_type": "stream",
       "stream": "stdout",
       "text": [
        "2014-12-04 18:41:16,819 INFO CLAW: Solution 2 computed for time t=1.000000\n"
       ]
      },
      {
       "output_type": "stream",
       "stream": "stdout",
       "text": [
        "2014-12-04 18:41:17,792 INFO CLAW: Solution 0 computed for time t=0.000000\n"
       ]
      },
      {
       "output_type": "stream",
       "stream": "stdout",
       "text": [
        "2014-12-04 18:41:17,803 INFO CLAW: Solution 1 computed for time t=0.500000\n"
       ]
      },
      {
       "output_type": "stream",
       "stream": "stdout",
       "text": [
        "2014-12-04 18:41:17,811 INFO CLAW: Solution 2 computed for time t=1.000000\n"
       ]
      },
      {
       "output_type": "stream",
       "stream": "stdout",
       "text": [
        "2014-12-04 18:41:18,742 INFO CLAW: Solution 0 computed for time t=0.000000\n"
       ]
      },
      {
       "output_type": "stream",
       "stream": "stdout",
       "text": [
        "2014-12-04 18:41:18,752 INFO CLAW: Solution 1 computed for time t=0.500000\n"
       ]
      },
      {
       "output_type": "stream",
       "stream": "stdout",
       "text": [
        "2014-12-04 18:41:18,759 INFO CLAW: Solution 2 computed for time t=1.000000\n"
       ]
      },
      {
       "output_type": "stream",
       "stream": "stdout",
       "text": [
        "2014-12-04 18:41:19,660 INFO CLAW: Solution 0 computed for time t=0.000000\n"
       ]
      },
      {
       "output_type": "stream",
       "stream": "stdout",
       "text": [
        "2014-12-04 18:41:19,667 INFO CLAW: Solution 1 computed for time t=0.500000\n"
       ]
      },
      {
       "output_type": "stream",
       "stream": "stdout",
       "text": [
        "2014-12-04 18:41:19,676 INFO CLAW: Solution 2 computed for time t=1.000000\n"
       ]
      },
      {
       "output_type": "stream",
       "stream": "stdout",
       "text": [
        "2014-12-04 18:41:20,598 INFO CLAW: Solution 0 computed for time t=0.000000\n"
       ]
      },
      {
       "output_type": "stream",
       "stream": "stdout",
       "text": [
        "2014-12-04 18:41:20,606 INFO CLAW: Solution 1 computed for time t=0.500000\n"
       ]
      },
      {
       "output_type": "stream",
       "stream": "stdout",
       "text": [
        "2014-12-04 18:41:20,614 INFO CLAW: Solution 2 computed for time t=1.000000\n"
       ]
      },
      {
       "output_type": "stream",
       "stream": "stdout",
       "text": [
        "2014-12-04 18:41:21,501 INFO CLAW: Solution 0 computed for time t=0.000000\n"
       ]
      },
      {
       "output_type": "stream",
       "stream": "stdout",
       "text": [
        "2014-12-04 18:41:21,509 INFO CLAW: Solution 1 computed for time t=0.500000\n"
       ]
      },
      {
       "output_type": "stream",
       "stream": "stdout",
       "text": [
        "2014-12-04 18:41:21,516 INFO CLAW: Solution 2 computed for time t=1.000000\n"
       ]
      },
      {
       "output_type": "stream",
       "stream": "stdout",
       "text": [
        "2014-12-04 18:41:22,474 INFO CLAW: Solution 0 computed for time t=0.000000\n"
       ]
      },
      {
       "output_type": "stream",
       "stream": "stdout",
       "text": [
        "2014-12-04 18:41:22,481 INFO CLAW: Solution 1 computed for time t=0.500000\n"
       ]
      },
      {
       "output_type": "stream",
       "stream": "stdout",
       "text": [
        "2014-12-04 18:41:22,488 INFO CLAW: Solution 2 computed for time t=1.000000\n"
       ]
      },
      {
       "output_type": "stream",
       "stream": "stdout",
       "text": [
        "2014-12-04 18:41:23,397 INFO CLAW: Solution 0 computed for time t=0.000000\n"
       ]
      },
      {
       "output_type": "stream",
       "stream": "stdout",
       "text": [
        "2014-12-04 18:41:23,408 INFO CLAW: Solution 1 computed for time t=0.500000\n"
       ]
      },
      {
       "output_type": "stream",
       "stream": "stdout",
       "text": [
        "2014-12-04 18:41:23,415 INFO CLAW: Solution 2 computed for time t=1.000000\n"
       ]
      },
      {
       "output_type": "stream",
       "stream": "stdout",
       "text": [
        "2014-12-04 18:41:24,354 INFO CLAW: Solution 0 computed for time t=0.000000\n"
       ]
      },
      {
       "output_type": "stream",
       "stream": "stdout",
       "text": [
        "2014-12-04 18:41:24,365 INFO CLAW: Solution 1 computed for time t=0.500000\n"
       ]
      },
      {
       "output_type": "stream",
       "stream": "stdout",
       "text": [
        "2014-12-04 18:41:24,372 INFO CLAW: Solution 2 computed for time t=1.000000\n"
       ]
      },
      {
       "output_type": "stream",
       "stream": "stdout",
       "text": [
        "2014-12-04 18:41:25,269 INFO CLAW: Solution 0 computed for time t=0.000000\n"
       ]
      },
      {
       "output_type": "stream",
       "stream": "stdout",
       "text": [
        "2014-12-04 18:41:25,276 INFO CLAW: Solution 1 computed for time t=0.500000\n"
       ]
      },
      {
       "output_type": "stream",
       "stream": "stdout",
       "text": [
        "2014-12-04 18:41:25,284 INFO CLAW: Solution 2 computed for time t=1.000000\n"
       ]
      },
      {
       "output_type": "stream",
       "stream": "stdout",
       "text": [
        "2014-12-04 18:41:26,214 INFO CLAW: Solution 0 computed for time t=0.000000\n"
       ]
      },
      {
       "output_type": "stream",
       "stream": "stdout",
       "text": [
        "2014-12-04 18:41:26,221 INFO CLAW: Solution 1 computed for time t=0.500000\n"
       ]
      },
      {
       "output_type": "stream",
       "stream": "stdout",
       "text": [
        "2014-12-04 18:41:26,228 INFO CLAW: Solution 2 computed for time t=1.000000\n"
       ]
      },
      {
       "output_type": "stream",
       "stream": "stdout",
       "text": [
        "2014-12-04 18:41:27,130 INFO CLAW: Solution 0 computed for time t=0.000000\n"
       ]
      },
      {
       "output_type": "stream",
       "stream": "stdout",
       "text": [
        "2014-12-04 18:41:27,138 INFO CLAW: Solution 1 computed for time t=0.500000\n"
       ]
      },
      {
       "output_type": "stream",
       "stream": "stdout",
       "text": [
        "2014-12-04 18:41:27,148 INFO CLAW: Solution 2 computed for time t=1.000000\n"
       ]
      },
      {
       "output_type": "stream",
       "stream": "stdout",
       "text": [
        "2014-12-04 18:41:28,080 INFO CLAW: Solution 0 computed for time t=0.000000\n"
       ]
      },
      {
       "output_type": "stream",
       "stream": "stdout",
       "text": [
        "2014-12-04 18:41:28,087 INFO CLAW: Solution 1 computed for time t=0.500000\n"
       ]
      },
      {
       "output_type": "stream",
       "stream": "stdout",
       "text": [
        "2014-12-04 18:41:28,094 INFO CLAW: Solution 2 computed for time t=1.000000\n"
       ]
      },
      {
       "output_type": "stream",
       "stream": "stdout",
       "text": [
        "2014-12-04 18:41:29,010 INFO CLAW: Solution 0 computed for time t=0.000000\n"
       ]
      },
      {
       "output_type": "stream",
       "stream": "stdout",
       "text": [
        "2014-12-04 18:41:29,017 INFO CLAW: Solution 1 computed for time t=0.500000\n"
       ]
      },
      {
       "output_type": "stream",
       "stream": "stdout",
       "text": [
        "2014-12-04 18:41:29,027 INFO CLAW: Solution 2 computed for time t=1.000000\n"
       ]
      },
      {
       "output_type": "stream",
       "stream": "stdout",
       "text": [
        "2014-12-04 18:41:30,059 INFO CLAW: Solution 0 computed for time t=0.000000\n"
       ]
      },
      {
       "output_type": "stream",
       "stream": "stdout",
       "text": [
        "2014-12-04 18:41:30,066 INFO CLAW: Solution 1 computed for time t=0.500000\n"
       ]
      },
      {
       "output_type": "stream",
       "stream": "stdout",
       "text": [
        "2014-12-04 18:41:30,074 INFO CLAW: Solution 2 computed for time t=1.000000\n"
       ]
      },
      {
       "output_type": "stream",
       "stream": "stdout",
       "text": [
        "2014-12-04 18:41:31,104 INFO CLAW: Solution 0 computed for time t=0.000000\n"
       ]
      },
      {
       "output_type": "stream",
       "stream": "stdout",
       "text": [
        "2014-12-04 18:41:31,112 INFO CLAW: Solution 1 computed for time t=0.500000\n"
       ]
      },
      {
       "output_type": "stream",
       "stream": "stdout",
       "text": [
        "2014-12-04 18:41:31,120 INFO CLAW: Solution 2 computed for time t=1.000000\n"
       ]
      },
      {
       "output_type": "stream",
       "stream": "stdout",
       "text": [
        "2014-12-04 18:41:32,054 INFO CLAW: Solution 0 computed for time t=0.000000\n"
       ]
      },
      {
       "output_type": "stream",
       "stream": "stdout",
       "text": [
        "2014-12-04 18:41:32,065 INFO CLAW: Solution 1 computed for time t=0.500000\n"
       ]
      },
      {
       "output_type": "stream",
       "stream": "stdout",
       "text": [
        "2014-12-04 18:41:32,076 INFO CLAW: Solution 2 computed for time t=1.000000\n"
       ]
      },
      {
       "output_type": "stream",
       "stream": "stdout",
       "text": [
        "2014-12-04 18:41:33,012 INFO CLAW: Solution 0 computed for time t=0.000000\n"
       ]
      },
      {
       "output_type": "stream",
       "stream": "stdout",
       "text": [
        "2014-12-04 18:41:33,020 INFO CLAW: Solution 1 computed for time t=0.500000\n"
       ]
      },
      {
       "output_type": "stream",
       "stream": "stdout",
       "text": [
        "2014-12-04 18:41:33,031 INFO CLAW: Solution 2 computed for time t=1.000000\n"
       ]
      },
      {
       "output_type": "stream",
       "stream": "stdout",
       "text": [
        "2014-12-04 18:41:33,947 INFO CLAW: Solution 0 computed for time t=0.000000\n"
       ]
      },
      {
       "output_type": "stream",
       "stream": "stdout",
       "text": [
        "2014-12-04 18:41:33,954 INFO CLAW: Solution 1 computed for time t=0.500000\n"
       ]
      },
      {
       "output_type": "stream",
       "stream": "stdout",
       "text": [
        "2014-12-04 18:41:33,961 INFO CLAW: Solution 2 computed for time t=1.000000\n"
       ]
      },
      {
       "output_type": "stream",
       "stream": "stdout",
       "text": [
        "2014-12-04 18:41:34,912 INFO CLAW: Solution 0 computed for time t=0.000000\n"
       ]
      },
      {
       "output_type": "stream",
       "stream": "stdout",
       "text": [
        "2014-12-04 18:41:34,920 INFO CLAW: Solution 1 computed for time t=0.500000\n"
       ]
      },
      {
       "output_type": "stream",
       "stream": "stdout",
       "text": [
        "2014-12-04 18:41:34,928 INFO CLAW: Solution 2 computed for time t=1.000000\n"
       ]
      },
      {
       "output_type": "stream",
       "stream": "stdout",
       "text": [
        "2014-12-04 18:41:35,868 INFO CLAW: Solution 0 computed for time t=0.000000\n"
       ]
      },
      {
       "output_type": "stream",
       "stream": "stdout",
       "text": [
        "2014-12-04 18:41:35,877 INFO CLAW: Solution 1 computed for time t=0.500000\n"
       ]
      },
      {
       "output_type": "stream",
       "stream": "stdout",
       "text": [
        "2014-12-04 18:41:35,884 INFO CLAW: Solution 2 computed for time t=1.000000\n"
       ]
      },
      {
       "output_type": "stream",
       "stream": "stdout",
       "text": [
        "2014-12-04 18:41:36,810 INFO CLAW: Solution 0 computed for time t=0.000000\n"
       ]
      },
      {
       "output_type": "stream",
       "stream": "stdout",
       "text": [
        "2014-12-04 18:41:36,818 INFO CLAW: Solution 1 computed for time t=0.500000\n"
       ]
      },
      {
       "output_type": "stream",
       "stream": "stdout",
       "text": [
        "2014-12-04 18:41:36,826 INFO CLAW: Solution 2 computed for time t=1.000000\n"
       ]
      },
      {
       "output_type": "stream",
       "stream": "stdout",
       "text": [
        "2014-12-04 18:41:37,742 INFO CLAW: Solution 0 computed for time t=0.000000\n"
       ]
      },
      {
       "output_type": "stream",
       "stream": "stdout",
       "text": [
        "2014-12-04 18:41:37,750 INFO CLAW: Solution 1 computed for time t=0.500000\n"
       ]
      },
      {
       "output_type": "stream",
       "stream": "stdout",
       "text": [
        "2014-12-04 18:41:37,761 INFO CLAW: Solution 2 computed for time t=1.000000\n"
       ]
      },
      {
       "output_type": "stream",
       "stream": "stdout",
       "text": [
        "2014-12-04 18:41:38,651 INFO CLAW: Solution 0 computed for time t=0.000000\n"
       ]
      },
      {
       "output_type": "stream",
       "stream": "stdout",
       "text": [
        "2014-12-04 18:41:38,658 INFO CLAW: Solution 1 computed for time t=0.500000\n"
       ]
      },
      {
       "output_type": "stream",
       "stream": "stdout",
       "text": [
        "2014-12-04 18:41:38,665 INFO CLAW: Solution 2 computed for time t=1.000000\n"
       ]
      },
      {
       "output_type": "stream",
       "stream": "stdout",
       "text": [
        "2014-12-04 18:41:39,555 INFO CLAW: Solution 0 computed for time t=0.000000\n"
       ]
      },
      {
       "output_type": "stream",
       "stream": "stdout",
       "text": [
        "2014-12-04 18:41:39,563 INFO CLAW: Solution 1 computed for time t=0.500000\n"
       ]
      },
      {
       "output_type": "stream",
       "stream": "stdout",
       "text": [
        "2014-12-04 18:41:39,573 INFO CLAW: Solution 2 computed for time t=1.000000\n"
       ]
      },
      {
       "output_type": "stream",
       "stream": "stdout",
       "text": [
        "2014-12-04 18:41:40,513 INFO CLAW: Solution 0 computed for time t=0.000000\n"
       ]
      },
      {
       "output_type": "stream",
       "stream": "stdout",
       "text": [
        "2014-12-04 18:41:40,521 INFO CLAW: Solution 1 computed for time t=0.500000\n"
       ]
      },
      {
       "output_type": "stream",
       "stream": "stdout",
       "text": [
        "2014-12-04 18:41:40,529 INFO CLAW: Solution 2 computed for time t=1.000000\n"
       ]
      },
      {
       "output_type": "stream",
       "stream": "stdout",
       "text": [
        "2014-12-04 18:41:41,450 INFO CLAW: Solution 0 computed for time t=0.000000\n"
       ]
      },
      {
       "output_type": "stream",
       "stream": "stdout",
       "text": [
        "2014-12-04 18:41:41,458 INFO CLAW: Solution 1 computed for time t=0.500000\n"
       ]
      },
      {
       "output_type": "stream",
       "stream": "stdout",
       "text": [
        "2014-12-04 18:41:41,466 INFO CLAW: Solution 2 computed for time t=1.000000\n"
       ]
      },
      {
       "output_type": "stream",
       "stream": "stdout",
       "text": [
        "2014-12-04 18:41:42,389 INFO CLAW: Solution 0 computed for time t=0.000000\n"
       ]
      },
      {
       "output_type": "stream",
       "stream": "stdout",
       "text": [
        "2014-12-04 18:41:42,396 INFO CLAW: Solution 1 computed for time t=0.500000\n"
       ]
      },
      {
       "output_type": "stream",
       "stream": "stdout",
       "text": [
        "2014-12-04 18:41:42,404 INFO CLAW: Solution 2 computed for time t=1.000000\n"
       ]
      },
      {
       "output_type": "stream",
       "stream": "stdout",
       "text": [
        "2014-12-04 18:41:43,333 INFO CLAW: Solution 0 computed for time t=0.000000\n"
       ]
      },
      {
       "output_type": "stream",
       "stream": "stdout",
       "text": [
        "2014-12-04 18:41:43,341 INFO CLAW: Solution 1 computed for time t=0.500000\n"
       ]
      },
      {
       "output_type": "stream",
       "stream": "stdout",
       "text": [
        "2014-12-04 18:41:43,349 INFO CLAW: Solution 2 computed for time t=1.000000\n"
       ]
      },
      {
       "output_type": "stream",
       "stream": "stdout",
       "text": [
        "2014-12-04 18:41:44,323 INFO CLAW: Solution 0 computed for time t=0.000000\n"
       ]
      },
      {
       "output_type": "stream",
       "stream": "stdout",
       "text": [
        "2014-12-04 18:41:44,331 INFO CLAW: Solution 1 computed for time t=0.500000\n"
       ]
      },
      {
       "output_type": "stream",
       "stream": "stdout",
       "text": [
        "2014-12-04 18:41:44,340 INFO CLAW: Solution 2 computed for time t=1.000000\n"
       ]
      },
      {
       "output_type": "stream",
       "stream": "stdout",
       "text": [
        "2014-12-04 18:41:45,369 INFO CLAW: Solution 0 computed for time t=0.000000\n"
       ]
      },
      {
       "output_type": "stream",
       "stream": "stdout",
       "text": [
        "2014-12-04 18:41:45,377 INFO CLAW: Solution 1 computed for time t=0.500000\n"
       ]
      },
      {
       "output_type": "stream",
       "stream": "stdout",
       "text": [
        "2014-12-04 18:41:45,387 INFO CLAW: Solution 2 computed for time t=1.000000\n"
       ]
      },
      {
       "output_type": "stream",
       "stream": "stdout",
       "text": [
        "2014-12-04 18:41:46,402 INFO CLAW: Solution 0 computed for time t=0.000000\n"
       ]
      },
      {
       "output_type": "stream",
       "stream": "stdout",
       "text": [
        "2014-12-04 18:41:46,410 INFO CLAW: Solution 1 computed for time t=0.500000\n"
       ]
      },
      {
       "output_type": "stream",
       "stream": "stdout",
       "text": [
        "2014-12-04 18:41:46,417 INFO CLAW: Solution 2 computed for time t=1.000000\n"
       ]
      },
      {
       "output_type": "stream",
       "stream": "stdout",
       "text": [
        "2014-12-04 18:41:47,332 INFO CLAW: Solution 0 computed for time t=0.000000\n"
       ]
      },
      {
       "output_type": "stream",
       "stream": "stdout",
       "text": [
        "2014-12-04 18:41:47,343 INFO CLAW: Solution 1 computed for time t=0.500000\n"
       ]
      },
      {
       "output_type": "stream",
       "stream": "stdout",
       "text": [
        "2014-12-04 18:41:47,354 INFO CLAW: Solution 2 computed for time t=1.000000\n"
       ]
      },
      {
       "output_type": "stream",
       "stream": "stdout",
       "text": [
        "2014-12-04 18:41:48,284 INFO CLAW: Solution 0 computed for time t=0.000000\n"
       ]
      },
      {
       "output_type": "stream",
       "stream": "stdout",
       "text": [
        "2014-12-04 18:41:48,296 INFO CLAW: Solution 1 computed for time t=0.500000\n"
       ]
      },
      {
       "output_type": "stream",
       "stream": "stdout",
       "text": [
        "2014-12-04 18:41:48,306 INFO CLAW: Solution 2 computed for time t=1.000000\n"
       ]
      },
      {
       "output_type": "stream",
       "stream": "stdout",
       "text": [
        "2014-12-04 18:41:49,234 INFO CLAW: Solution 0 computed for time t=0.000000\n"
       ]
      },
      {
       "output_type": "stream",
       "stream": "stdout",
       "text": [
        "2014-12-04 18:41:49,241 INFO CLAW: Solution 1 computed for time t=0.500000\n"
       ]
      },
      {
       "output_type": "stream",
       "stream": "stdout",
       "text": [
        "2014-12-04 18:41:49,249 INFO CLAW: Solution 2 computed for time t=1.000000\n"
       ]
      },
      {
       "output_type": "stream",
       "stream": "stdout",
       "text": [
        "2014-12-04 18:41:50,196 INFO CLAW: Solution 0 computed for time t=0.000000\n"
       ]
      },
      {
       "output_type": "stream",
       "stream": "stdout",
       "text": [
        "2014-12-04 18:41:50,204 INFO CLAW: Solution 1 computed for time t=0.500000\n"
       ]
      },
      {
       "output_type": "stream",
       "stream": "stdout",
       "text": [
        "2014-12-04 18:41:50,211 INFO CLAW: Solution 2 computed for time t=1.000000\n"
       ]
      },
      {
       "output_type": "stream",
       "stream": "stdout",
       "text": [
        "2014-12-04 18:41:51,080 INFO CLAW: Solution 0 computed for time t=0.000000\n"
       ]
      },
      {
       "output_type": "stream",
       "stream": "stdout",
       "text": [
        "2014-12-04 18:41:51,087 INFO CLAW: Solution 1 computed for time t=0.500000\n"
       ]
      },
      {
       "output_type": "stream",
       "stream": "stdout",
       "text": [
        "2014-12-04 18:41:51,095 INFO CLAW: Solution 2 computed for time t=1.000000\n"
       ]
      },
      {
       "output_type": "stream",
       "stream": "stdout",
       "text": [
        "2014-12-04 18:41:51,978 INFO CLAW: Solution 0 computed for time t=0.000000\n"
       ]
      },
      {
       "output_type": "stream",
       "stream": "stdout",
       "text": [
        "2014-12-04 18:41:51,985 INFO CLAW: Solution 1 computed for time t=0.500000\n"
       ]
      },
      {
       "output_type": "stream",
       "stream": "stdout",
       "text": [
        "2014-12-04 18:41:51,994 INFO CLAW: Solution 2 computed for time t=1.000000\n"
       ]
      },
      {
       "output_type": "stream",
       "stream": "stdout",
       "text": [
        "2014-12-04 18:41:52,900 INFO CLAW: Solution 0 computed for time t=0.000000\n"
       ]
      },
      {
       "output_type": "stream",
       "stream": "stdout",
       "text": [
        "2014-12-04 18:41:52,907 INFO CLAW: Solution 1 computed for time t=0.500000\n"
       ]
      },
      {
       "output_type": "stream",
       "stream": "stdout",
       "text": [
        "2014-12-04 18:41:52,915 INFO CLAW: Solution 2 computed for time t=1.000000\n"
       ]
      },
      {
       "output_type": "stream",
       "stream": "stdout",
       "text": [
        "2014-12-04 18:41:53,822 INFO CLAW: Solution 0 computed for time t=0.000000\n"
       ]
      },
      {
       "output_type": "stream",
       "stream": "stdout",
       "text": [
        "2014-12-04 18:41:53,829 INFO CLAW: Solution 1 computed for time t=0.500000\n"
       ]
      },
      {
       "output_type": "stream",
       "stream": "stdout",
       "text": [
        "2014-12-04 18:41:53,837 INFO CLAW: Solution 2 computed for time t=1.000000\n"
       ]
      },
      {
       "output_type": "stream",
       "stream": "stdout",
       "text": [
        "2014-12-04 18:41:54,735 INFO CLAW: Solution 0 computed for time t=0.000000\n"
       ]
      },
      {
       "output_type": "stream",
       "stream": "stdout",
       "text": [
        "2014-12-04 18:41:54,745 INFO CLAW: Solution 1 computed for time t=0.500000\n"
       ]
      },
      {
       "output_type": "stream",
       "stream": "stdout",
       "text": [
        "2014-12-04 18:41:54,752 INFO CLAW: Solution 2 computed for time t=1.000000\n"
       ]
      },
      {
       "output_type": "stream",
       "stream": "stdout",
       "text": [
        "2014-12-04 18:41:55,661 INFO CLAW: Solution 0 computed for time t=0.000000\n"
       ]
      },
      {
       "output_type": "stream",
       "stream": "stdout",
       "text": [
        "2014-12-04 18:41:55,668 INFO CLAW: Solution 1 computed for time t=0.500000\n"
       ]
      },
      {
       "output_type": "stream",
       "stream": "stdout",
       "text": [
        "2014-12-04 18:41:55,677 INFO CLAW: Solution 2 computed for time t=1.000000\n"
       ]
      },
      {
       "output_type": "stream",
       "stream": "stdout",
       "text": [
        "2014-12-04 18:41:56,607 INFO CLAW: Solution 0 computed for time t=0.000000\n"
       ]
      },
      {
       "output_type": "stream",
       "stream": "stdout",
       "text": [
        "2014-12-04 18:41:56,614 INFO CLAW: Solution 1 computed for time t=0.500000\n"
       ]
      },
      {
       "output_type": "stream",
       "stream": "stdout",
       "text": [
        "2014-12-04 18:41:56,623 INFO CLAW: Solution 2 computed for time t=1.000000\n"
       ]
      },
      {
       "output_type": "stream",
       "stream": "stdout",
       "text": [
        "2014-12-04 18:41:57,534 INFO CLAW: Solution 0 computed for time t=0.000000\n"
       ]
      },
      {
       "output_type": "stream",
       "stream": "stdout",
       "text": [
        "2014-12-04 18:41:57,541 INFO CLAW: Solution 1 computed for time t=0.500000\n"
       ]
      },
      {
       "output_type": "stream",
       "stream": "stdout",
       "text": [
        "2014-12-04 18:41:57,548 INFO CLAW: Solution 2 computed for time t=1.000000\n"
       ]
      },
      {
       "output_type": "stream",
       "stream": "stdout",
       "text": [
        "2014-12-04 18:41:58,512 INFO CLAW: Solution 0 computed for time t=0.000000\n"
       ]
      },
      {
       "output_type": "stream",
       "stream": "stdout",
       "text": [
        "2014-12-04 18:41:58,519 INFO CLAW: Solution 1 computed for time t=0.500000\n"
       ]
      },
      {
       "output_type": "stream",
       "stream": "stdout",
       "text": [
        "2014-12-04 18:41:58,526 INFO CLAW: Solution 2 computed for time t=1.000000\n"
       ]
      },
      {
       "output_type": "stream",
       "stream": "stdout",
       "text": [
        "2014-12-04 18:41:59,517 INFO CLAW: Solution 0 computed for time t=0.000000\n"
       ]
      },
      {
       "output_type": "stream",
       "stream": "stdout",
       "text": [
        "2014-12-04 18:41:59,527 INFO CLAW: Solution 1 computed for time t=0.500000\n"
       ]
      },
      {
       "output_type": "stream",
       "stream": "stdout",
       "text": [
        "2014-12-04 18:41:59,535 INFO CLAW: Solution 2 computed for time t=1.000000\n"
       ]
      },
      {
       "output_type": "stream",
       "stream": "stdout",
       "text": [
        "2014-12-04 18:42:00,569 INFO CLAW: Solution 0 computed for time t=0.000000\n"
       ]
      },
      {
       "output_type": "stream",
       "stream": "stdout",
       "text": [
        "2014-12-04 18:42:00,576 INFO CLAW: Solution 1 computed for time t=0.500000\n"
       ]
      },
      {
       "output_type": "stream",
       "stream": "stdout",
       "text": [
        "2014-12-04 18:42:00,584 INFO CLAW: Solution 2 computed for time t=1.000000\n"
       ]
      },
      {
       "output_type": "stream",
       "stream": "stdout",
       "text": [
        "2014-12-04 18:42:01,485 INFO CLAW: Solution 0 computed for time t=0.000000\n"
       ]
      },
      {
       "output_type": "stream",
       "stream": "stdout",
       "text": [
        "2014-12-04 18:42:01,496 INFO CLAW: Solution 1 computed for time t=0.500000\n"
       ]
      },
      {
       "output_type": "stream",
       "stream": "stdout",
       "text": [
        "2014-12-04 18:42:01,507 INFO CLAW: Solution 2 computed for time t=1.000000\n"
       ]
      },
      {
       "output_type": "stream",
       "stream": "stdout",
       "text": [
        "2014-12-04 18:42:02,408 INFO CLAW: Solution 0 computed for time t=0.000000\n"
       ]
      },
      {
       "output_type": "stream",
       "stream": "stdout",
       "text": [
        "2014-12-04 18:42:02,417 INFO CLAW: Solution 1 computed for time t=0.500000\n"
       ]
      },
      {
       "output_type": "stream",
       "stream": "stdout",
       "text": [
        "2014-12-04 18:42:02,425 INFO CLAW: Solution 2 computed for time t=1.000000\n"
       ]
      },
      {
       "output_type": "stream",
       "stream": "stdout",
       "text": [
        "2014-12-04 18:42:03,345 INFO CLAW: Solution 0 computed for time t=0.000000\n"
       ]
      },
      {
       "output_type": "stream",
       "stream": "stdout",
       "text": [
        "2014-12-04 18:42:03,352 INFO CLAW: Solution 1 computed for time t=0.500000\n"
       ]
      },
      {
       "output_type": "stream",
       "stream": "stdout",
       "text": [
        "2014-12-04 18:42:03,362 INFO CLAW: Solution 2 computed for time t=1.000000\n"
       ]
      },
      {
       "output_type": "stream",
       "stream": "stdout",
       "text": [
        "2014-12-04 18:42:04,287 INFO CLAW: Solution 0 computed for time t=0.000000\n"
       ]
      },
      {
       "output_type": "stream",
       "stream": "stdout",
       "text": [
        "2014-12-04 18:42:04,294 INFO CLAW: Solution 1 computed for time t=0.500000\n"
       ]
      },
      {
       "output_type": "stream",
       "stream": "stdout",
       "text": [
        "2014-12-04 18:42:04,305 INFO CLAW: Solution 2 computed for time t=1.000000\n"
       ]
      },
      {
       "output_type": "stream",
       "stream": "stdout",
       "text": [
        "2014-12-04 18:42:05,253 INFO CLAW: Solution 0 computed for time t=0.000000\n"
       ]
      },
      {
       "output_type": "stream",
       "stream": "stdout",
       "text": [
        "2014-12-04 18:42:05,260 INFO CLAW: Solution 1 computed for time t=0.500000\n"
       ]
      },
      {
       "output_type": "stream",
       "stream": "stdout",
       "text": [
        "2014-12-04 18:42:05,267 INFO CLAW: Solution 2 computed for time t=1.000000\n"
       ]
      },
      {
       "output_type": "stream",
       "stream": "stdout",
       "text": [
        "2014-12-04 18:42:06,177 INFO CLAW: Solution 0 computed for time t=0.000000\n"
       ]
      },
      {
       "output_type": "stream",
       "stream": "stdout",
       "text": [
        "2014-12-04 18:42:06,184 INFO CLAW: Solution 1 computed for time t=0.500000\n"
       ]
      },
      {
       "output_type": "stream",
       "stream": "stdout",
       "text": [
        "2014-12-04 18:42:06,193 INFO CLAW: Solution 2 computed for time t=1.000000\n"
       ]
      },
      {
       "output_type": "stream",
       "stream": "stdout",
       "text": [
        "2014-12-04 18:42:07,117 INFO CLAW: Solution 0 computed for time t=0.000000\n"
       ]
      },
      {
       "output_type": "stream",
       "stream": "stdout",
       "text": [
        "2014-12-04 18:42:07,124 INFO CLAW: Solution 1 computed for time t=0.500000\n"
       ]
      },
      {
       "output_type": "stream",
       "stream": "stdout",
       "text": [
        "2014-12-04 18:42:07,132 INFO CLAW: Solution 2 computed for time t=1.000000\n"
       ]
      },
      {
       "output_type": "stream",
       "stream": "stdout",
       "text": [
        "2014-12-04 18:42:08,047 INFO CLAW: Solution 0 computed for time t=0.000000\n"
       ]
      },
      {
       "output_type": "stream",
       "stream": "stdout",
       "text": [
        "2014-12-04 18:42:08,055 INFO CLAW: Solution 1 computed for time t=0.500000\n"
       ]
      },
      {
       "output_type": "stream",
       "stream": "stdout",
       "text": [
        "2014-12-04 18:42:08,062 INFO CLAW: Solution 2 computed for time t=1.000000\n"
       ]
      },
      {
       "output_type": "stream",
       "stream": "stdout",
       "text": [
        "2014-12-04 18:42:09,019 INFO CLAW: Solution 0 computed for time t=0.000000\n"
       ]
      },
      {
       "output_type": "stream",
       "stream": "stdout",
       "text": [
        "2014-12-04 18:42:09,027 INFO CLAW: Solution 1 computed for time t=0.500000\n"
       ]
      },
      {
       "output_type": "stream",
       "stream": "stdout",
       "text": [
        "2014-12-04 18:42:09,034 INFO CLAW: Solution 2 computed for time t=1.000000\n"
       ]
      },
      {
       "output_type": "stream",
       "stream": "stdout",
       "text": [
        "2014-12-04 18:42:09,943 INFO CLAW: Solution 0 computed for time t=0.000000\n"
       ]
      },
      {
       "output_type": "stream",
       "stream": "stdout",
       "text": [
        "2014-12-04 18:42:09,952 INFO CLAW: Solution 1 computed for time t=0.500000\n"
       ]
      },
      {
       "output_type": "stream",
       "stream": "stdout",
       "text": [
        "2014-12-04 18:42:09,962 INFO CLAW: Solution 2 computed for time t=1.000000\n"
       ]
      },
      {
       "output_type": "stream",
       "stream": "stdout",
       "text": [
        "2014-12-04 18:42:10,890 INFO CLAW: Solution 0 computed for time t=0.000000\n"
       ]
      },
      {
       "output_type": "stream",
       "stream": "stdout",
       "text": [
        "2014-12-04 18:42:10,901 INFO CLAW: Solution 1 computed for time t=0.500000\n"
       ]
      },
      {
       "output_type": "stream",
       "stream": "stdout",
       "text": [
        "2014-12-04 18:42:10,908 INFO CLAW: Solution 2 computed for time t=1.000000\n"
       ]
      },
      {
       "output_type": "stream",
       "stream": "stdout",
       "text": [
        "2014-12-04 18:42:11,868 INFO CLAW: Solution 0 computed for time t=0.000000\n"
       ]
      },
      {
       "output_type": "stream",
       "stream": "stdout",
       "text": [
        "2014-12-04 18:42:11,879 INFO CLAW: Solution 1 computed for time t=0.500000\n"
       ]
      },
      {
       "output_type": "stream",
       "stream": "stdout",
       "text": [
        "2014-12-04 18:42:11,886 INFO CLAW: Solution 2 computed for time t=1.000000\n"
       ]
      },
      {
       "output_type": "stream",
       "stream": "stdout",
       "text": [
        "2014-12-04 18:42:12,826 INFO CLAW: Solution 0 computed for time t=0.000000\n"
       ]
      },
      {
       "output_type": "stream",
       "stream": "stdout",
       "text": [
        "2014-12-04 18:42:12,833 INFO CLAW: Solution 1 computed for time t=0.500000\n"
       ]
      },
      {
       "output_type": "stream",
       "stream": "stdout",
       "text": [
        "2014-12-04 18:42:12,840 INFO CLAW: Solution 2 computed for time t=1.000000\n"
       ]
      },
      {
       "output_type": "stream",
       "stream": "stdout",
       "text": [
        "2014-12-04 18:42:13,821 INFO CLAW: Solution 0 computed for time t=0.000000\n"
       ]
      },
      {
       "output_type": "stream",
       "stream": "stdout",
       "text": [
        "2014-12-04 18:42:13,829 INFO CLAW: Solution 1 computed for time t=0.500000\n"
       ]
      },
      {
       "output_type": "stream",
       "stream": "stdout",
       "text": [
        "2014-12-04 18:42:13,837 INFO CLAW: Solution 2 computed for time t=1.000000\n"
       ]
      },
      {
       "output_type": "stream",
       "stream": "stdout",
       "text": [
        "2014-12-04 18:42:14,856 INFO CLAW: Solution 0 computed for time t=0.000000\n"
       ]
      },
      {
       "output_type": "stream",
       "stream": "stdout",
       "text": [
        "2014-12-04 18:42:14,867 INFO CLAW: Solution 1 computed for time t=0.500000\n"
       ]
      },
      {
       "output_type": "stream",
       "stream": "stdout",
       "text": [
        "2014-12-04 18:42:14,873 INFO CLAW: Solution 2 computed for time t=1.000000\n"
       ]
      },
      {
       "output_type": "stream",
       "stream": "stdout",
       "text": [
        "2014-12-04 18:42:15,778 INFO CLAW: Solution 0 computed for time t=0.000000\n"
       ]
      },
      {
       "output_type": "stream",
       "stream": "stdout",
       "text": [
        "2014-12-04 18:42:15,790 INFO CLAW: Solution 1 computed for time t=0.500000\n"
       ]
      },
      {
       "output_type": "stream",
       "stream": "stdout",
       "text": [
        "2014-12-04 18:42:15,797 INFO CLAW: Solution 2 computed for time t=1.000000\n"
       ]
      },
      {
       "output_type": "stream",
       "stream": "stdout",
       "text": [
        "2014-12-04 18:42:16,727 INFO CLAW: Solution 0 computed for time t=0.000000\n"
       ]
      },
      {
       "output_type": "stream",
       "stream": "stdout",
       "text": [
        "2014-12-04 18:42:16,735 INFO CLAW: Solution 1 computed for time t=0.500000\n"
       ]
      },
      {
       "output_type": "stream",
       "stream": "stdout",
       "text": [
        "2014-12-04 18:42:16,743 INFO CLAW: Solution 2 computed for time t=1.000000\n"
       ]
      },
      {
       "output_type": "stream",
       "stream": "stdout",
       "text": [
        "2014-12-04 18:42:17,689 INFO CLAW: Solution 0 computed for time t=0.000000\n"
       ]
      },
      {
       "output_type": "stream",
       "stream": "stdout",
       "text": [
        "2014-12-04 18:42:17,697 INFO CLAW: Solution 1 computed for time t=0.500000\n"
       ]
      },
      {
       "output_type": "stream",
       "stream": "stdout",
       "text": [
        "2014-12-04 18:42:17,706 INFO CLAW: Solution 2 computed for time t=1.000000\n"
       ]
      },
      {
       "output_type": "stream",
       "stream": "stdout",
       "text": [
        "2014-12-04 18:42:18,673 INFO CLAW: Solution 0 computed for time t=0.000000\n"
       ]
      },
      {
       "output_type": "stream",
       "stream": "stdout",
       "text": [
        "2014-12-04 18:42:18,684 INFO CLAW: Solution 1 computed for time t=0.500000\n"
       ]
      },
      {
       "output_type": "stream",
       "stream": "stdout",
       "text": [
        "2014-12-04 18:42:18,692 INFO CLAW: Solution 2 computed for time t=1.000000\n"
       ]
      },
      {
       "output_type": "stream",
       "stream": "stdout",
       "text": [
        "2014-12-04 18:42:19,601 INFO CLAW: Solution 0 computed for time t=0.000000\n"
       ]
      },
      {
       "output_type": "stream",
       "stream": "stdout",
       "text": [
        "2014-12-04 18:42:19,609 INFO CLAW: Solution 1 computed for time t=0.500000\n"
       ]
      },
      {
       "output_type": "stream",
       "stream": "stdout",
       "text": [
        "2014-12-04 18:42:19,616 INFO CLAW: Solution 2 computed for time t=1.000000\n"
       ]
      },
      {
       "output_type": "stream",
       "stream": "stdout",
       "text": [
        "2014-12-04 18:42:20,545 INFO CLAW: Solution 0 computed for time t=0.000000\n"
       ]
      },
      {
       "output_type": "stream",
       "stream": "stdout",
       "text": [
        "2014-12-04 18:42:20,553 INFO CLAW: Solution 1 computed for time t=0.500000\n"
       ]
      },
      {
       "output_type": "stream",
       "stream": "stdout",
       "text": [
        "2014-12-04 18:42:20,561 INFO CLAW: Solution 2 computed for time t=1.000000\n"
       ]
      },
      {
       "output_type": "stream",
       "stream": "stdout",
       "text": [
        "2014-12-04 18:42:21,560 INFO CLAW: Solution 0 computed for time t=0.000000\n"
       ]
      },
      {
       "output_type": "stream",
       "stream": "stdout",
       "text": [
        "2014-12-04 18:42:21,568 INFO CLAW: Solution 1 computed for time t=0.500000\n"
       ]
      },
      {
       "output_type": "stream",
       "stream": "stdout",
       "text": [
        "2014-12-04 18:42:21,579 INFO CLAW: Solution 2 computed for time t=1.000000\n"
       ]
      },
      {
       "output_type": "stream",
       "stream": "stdout",
       "text": [
        "2014-12-04 18:42:22,583 INFO CLAW: Solution 0 computed for time t=0.000000\n"
       ]
      },
      {
       "output_type": "stream",
       "stream": "stdout",
       "text": [
        "2014-12-04 18:42:22,595 INFO CLAW: Solution 1 computed for time t=0.500000\n"
       ]
      },
      {
       "output_type": "stream",
       "stream": "stdout",
       "text": [
        "2014-12-04 18:42:22,603 INFO CLAW: Solution 2 computed for time t=1.000000\n"
       ]
      },
      {
       "output_type": "stream",
       "stream": "stdout",
       "text": [
        "2014-12-04 18:42:23,557 INFO CLAW: Solution 0 computed for time t=0.000000\n"
       ]
      },
      {
       "output_type": "stream",
       "stream": "stdout",
       "text": [
        "2014-12-04 18:42:23,568 INFO CLAW: Solution 1 computed for time t=0.500000\n"
       ]
      },
      {
       "output_type": "stream",
       "stream": "stdout",
       "text": [
        "2014-12-04 18:42:23,576 INFO CLAW: Solution 2 computed for time t=1.000000\n"
       ]
      },
      {
       "output_type": "stream",
       "stream": "stdout",
       "text": [
        "2014-12-04 18:42:24,486 INFO CLAW: Solution 0 computed for time t=0.000000\n"
       ]
      },
      {
       "output_type": "stream",
       "stream": "stdout",
       "text": [
        "2014-12-04 18:42:24,494 INFO CLAW: Solution 1 computed for time t=0.500000\n"
       ]
      },
      {
       "output_type": "stream",
       "stream": "stdout",
       "text": [
        "2014-12-04 18:42:24,501 INFO CLAW: Solution 2 computed for time t=1.000000\n"
       ]
      },
      {
       "output_type": "stream",
       "stream": "stdout",
       "text": [
        "2014-12-04 18:42:25,433 INFO CLAW: Solution 0 computed for time t=0.000000\n"
       ]
      },
      {
       "output_type": "stream",
       "stream": "stdout",
       "text": [
        "2014-12-04 18:42:25,441 INFO CLAW: Solution 1 computed for time t=0.500000\n"
       ]
      },
      {
       "output_type": "stream",
       "stream": "stdout",
       "text": [
        "2014-12-04 18:42:25,449 INFO CLAW: Solution 2 computed for time t=1.000000\n"
       ]
      },
      {
       "output_type": "stream",
       "stream": "stdout",
       "text": [
        "2014-12-04 18:42:26,358 INFO CLAW: Solution 0 computed for time t=0.000000\n"
       ]
      },
      {
       "output_type": "stream",
       "stream": "stdout",
       "text": [
        "2014-12-04 18:42:26,366 INFO CLAW: Solution 1 computed for time t=0.500000\n"
       ]
      },
      {
       "output_type": "stream",
       "stream": "stdout",
       "text": [
        "2014-12-04 18:42:26,373 INFO CLAW: Solution 2 computed for time t=1.000000\n"
       ]
      },
      {
       "output_type": "stream",
       "stream": "stdout",
       "text": [
        "2014-12-04 18:42:27,289 INFO CLAW: Solution 0 computed for time t=0.000000\n"
       ]
      },
      {
       "output_type": "stream",
       "stream": "stdout",
       "text": [
        "2014-12-04 18:42:27,296 INFO CLAW: Solution 1 computed for time t=0.500000\n"
       ]
      },
      {
       "output_type": "stream",
       "stream": "stdout",
       "text": [
        "2014-12-04 18:42:27,304 INFO CLAW: Solution 2 computed for time t=1.000000\n"
       ]
      },
      {
       "output_type": "stream",
       "stream": "stdout",
       "text": [
        "2014-12-04 18:42:28,196 INFO CLAW: Solution 0 computed for time t=0.000000\n"
       ]
      },
      {
       "output_type": "stream",
       "stream": "stdout",
       "text": [
        "2014-12-04 18:42:28,204 INFO CLAW: Solution 1 computed for time t=0.500000\n"
       ]
      },
      {
       "output_type": "stream",
       "stream": "stdout",
       "text": [
        "2014-12-04 18:42:28,214 INFO CLAW: Solution 2 computed for time t=1.000000\n"
       ]
      },
      {
       "output_type": "stream",
       "stream": "stdout",
       "text": [
        "2014-12-04 18:42:29,133 INFO CLAW: Solution 0 computed for time t=0.000000\n"
       ]
      },
      {
       "output_type": "stream",
       "stream": "stdout",
       "text": [
        "2014-12-04 18:42:29,141 INFO CLAW: Solution 1 computed for time t=0.500000\n"
       ]
      },
      {
       "output_type": "stream",
       "stream": "stdout",
       "text": [
        "2014-12-04 18:42:29,149 INFO CLAW: Solution 2 computed for time t=1.000000\n"
       ]
      },
      {
       "output_type": "stream",
       "stream": "stdout",
       "text": [
        "2014-12-04 18:42:30,117 INFO CLAW: Solution 0 computed for time t=0.000000\n"
       ]
      },
      {
       "output_type": "stream",
       "stream": "stdout",
       "text": [
        "2014-12-04 18:42:30,125 INFO CLAW: Solution 1 computed for time t=0.500000\n"
       ]
      },
      {
       "output_type": "stream",
       "stream": "stdout",
       "text": [
        "2014-12-04 18:42:30,135 INFO CLAW: Solution 2 computed for time t=1.000000\n"
       ]
      },
      {
       "output_type": "stream",
       "stream": "stdout",
       "text": [
        "2014-12-04 18:42:31,032 INFO CLAW: Solution 0 computed for time t=0.000000\n"
       ]
      },
      {
       "output_type": "stream",
       "stream": "stdout",
       "text": [
        "2014-12-04 18:42:31,039 INFO CLAW: Solution 1 computed for time t=0.500000\n"
       ]
      },
      {
       "output_type": "stream",
       "stream": "stdout",
       "text": [
        "2014-12-04 18:42:31,048 INFO CLAW: Solution 2 computed for time t=1.000000\n"
       ]
      },
      {
       "output_type": "stream",
       "stream": "stdout",
       "text": [
        "2014-12-04 18:42:31,988 INFO CLAW: Solution 0 computed for time t=0.000000\n"
       ]
      },
      {
       "output_type": "stream",
       "stream": "stdout",
       "text": [
        "2014-12-04 18:42:31,996 INFO CLAW: Solution 1 computed for time t=0.500000\n"
       ]
      },
      {
       "output_type": "stream",
       "stream": "stdout",
       "text": [
        "2014-12-04 18:42:32,003 INFO CLAW: Solution 2 computed for time t=1.000000\n"
       ]
      },
      {
       "output_type": "stream",
       "stream": "stdout",
       "text": [
        "2014-12-04 18:42:32,930 INFO CLAW: Solution 0 computed for time t=0.000000\n"
       ]
      },
      {
       "output_type": "stream",
       "stream": "stdout",
       "text": [
        "2014-12-04 18:42:32,937 INFO CLAW: Solution 1 computed for time t=0.500000\n"
       ]
      },
      {
       "output_type": "stream",
       "stream": "stdout",
       "text": [
        "2014-12-04 18:42:32,945 INFO CLAW: Solution 2 computed for time t=1.000000\n"
       ]
      },
      {
       "output_type": "stream",
       "stream": "stdout",
       "text": [
        "2014-12-04 18:42:33,848 INFO CLAW: Solution 0 computed for time t=0.000000\n"
       ]
      },
      {
       "output_type": "stream",
       "stream": "stdout",
       "text": [
        "2014-12-04 18:42:33,856 INFO CLAW: Solution 1 computed for time t=0.500000\n"
       ]
      },
      {
       "output_type": "stream",
       "stream": "stdout",
       "text": [
        "2014-12-04 18:42:33,865 INFO CLAW: Solution 2 computed for time t=1.000000\n"
       ]
      },
      {
       "output_type": "stream",
       "stream": "stdout",
       "text": [
        "2014-12-04 18:42:34,778 INFO CLAW: Solution 0 computed for time t=0.000000\n"
       ]
      },
      {
       "output_type": "stream",
       "stream": "stdout",
       "text": [
        "2014-12-04 18:42:34,786 INFO CLAW: Solution 1 computed for time t=0.500000\n"
       ]
      },
      {
       "output_type": "stream",
       "stream": "stdout",
       "text": [
        "2014-12-04 18:42:34,794 INFO CLAW: Solution 2 computed for time t=1.000000\n"
       ]
      },
      {
       "output_type": "stream",
       "stream": "stdout",
       "text": [
        "2014-12-04 18:42:35,803 INFO CLAW: Solution 0 computed for time t=0.000000\n"
       ]
      },
      {
       "output_type": "stream",
       "stream": "stdout",
       "text": [
        "2014-12-04 18:42:35,810 INFO CLAW: Solution 1 computed for time t=0.500000\n"
       ]
      },
      {
       "output_type": "stream",
       "stream": "stdout",
       "text": [
        "2014-12-04 18:42:35,817 INFO CLAW: Solution 2 computed for time t=1.000000\n"
       ]
      },
      {
       "output_type": "stream",
       "stream": "stdout",
       "text": [
        "2014-12-04 18:42:36,787 INFO CLAW: Solution 0 computed for time t=0.000000\n"
       ]
      },
      {
       "output_type": "stream",
       "stream": "stdout",
       "text": [
        "2014-12-04 18:42:36,795 INFO CLAW: Solution 1 computed for time t=0.500000\n"
       ]
      },
      {
       "output_type": "stream",
       "stream": "stdout",
       "text": [
        "2014-12-04 18:42:36,804 INFO CLAW: Solution 2 computed for time t=1.000000\n"
       ]
      },
      {
       "output_type": "stream",
       "stream": "stdout",
       "text": [
        "2014-12-04 18:42:37,798 INFO CLAW: Solution 0 computed for time t=0.000000\n"
       ]
      },
      {
       "output_type": "stream",
       "stream": "stdout",
       "text": [
        "2014-12-04 18:42:37,809 INFO CLAW: Solution 1 computed for time t=0.500000\n"
       ]
      },
      {
       "output_type": "stream",
       "stream": "stdout",
       "text": [
        "2014-12-04 18:42:37,821 INFO CLAW: Solution 2 computed for time t=1.000000\n"
       ]
      },
      {
       "output_type": "stream",
       "stream": "stdout",
       "text": [
        "2014-12-04 18:42:38,751 INFO CLAW: Solution 0 computed for time t=0.000000\n"
       ]
      },
      {
       "output_type": "stream",
       "stream": "stdout",
       "text": [
        "2014-12-04 18:42:38,759 INFO CLAW: Solution 1 computed for time t=0.500000\n"
       ]
      },
      {
       "output_type": "stream",
       "stream": "stdout",
       "text": [
        "2014-12-04 18:42:38,767 INFO CLAW: Solution 2 computed for time t=1.000000\n"
       ]
      },
      {
       "output_type": "stream",
       "stream": "stdout",
       "text": [
        "2014-12-04 18:42:39,717 INFO CLAW: Solution 0 computed for time t=0.000000\n"
       ]
      },
      {
       "output_type": "stream",
       "stream": "stdout",
       "text": [
        "2014-12-04 18:42:39,724 INFO CLAW: Solution 1 computed for time t=0.500000\n"
       ]
      },
      {
       "output_type": "stream",
       "stream": "stdout",
       "text": [
        "2014-12-04 18:42:39,732 INFO CLAW: Solution 2 computed for time t=1.000000\n"
       ]
      },
      {
       "output_type": "stream",
       "stream": "stdout",
       "text": [
        "2014-12-04 18:42:40,678 INFO CLAW: Solution 0 computed for time t=0.000000\n"
       ]
      },
      {
       "output_type": "stream",
       "stream": "stdout",
       "text": [
        "2014-12-04 18:42:40,689 INFO CLAW: Solution 1 computed for time t=0.500000\n"
       ]
      },
      {
       "output_type": "stream",
       "stream": "stdout",
       "text": [
        "2014-12-04 18:42:40,697 INFO CLAW: Solution 2 computed for time t=1.000000\n"
       ]
      },
      {
       "output_type": "stream",
       "stream": "stdout",
       "text": [
        "2014-12-04 18:42:41,577 INFO CLAW: Solution 0 computed for time t=0.000000\n"
       ]
      },
      {
       "output_type": "stream",
       "stream": "stdout",
       "text": [
        "2014-12-04 18:42:41,585 INFO CLAW: Solution 1 computed for time t=0.500000\n"
       ]
      },
      {
       "output_type": "stream",
       "stream": "stdout",
       "text": [
        "2014-12-04 18:42:41,591 INFO CLAW: Solution 2 computed for time t=1.000000\n"
       ]
      },
      {
       "output_type": "stream",
       "stream": "stdout",
       "text": [
        "2014-12-04 18:42:42,494 INFO CLAW: Solution 0 computed for time t=0.000000\n"
       ]
      },
      {
       "output_type": "stream",
       "stream": "stdout",
       "text": [
        "2014-12-04 18:42:42,501 INFO CLAW: Solution 1 computed for time t=0.500000\n"
       ]
      },
      {
       "output_type": "stream",
       "stream": "stdout",
       "text": [
        "2014-12-04 18:42:42,510 INFO CLAW: Solution 2 computed for time t=1.000000\n"
       ]
      },
      {
       "output_type": "stream",
       "stream": "stdout",
       "text": [
        "2014-12-04 18:42:43,438 INFO CLAW: Solution 0 computed for time t=0.000000\n"
       ]
      },
      {
       "output_type": "stream",
       "stream": "stdout",
       "text": [
        "2014-12-04 18:42:43,446 INFO CLAW: Solution 1 computed for time t=0.500000\n"
       ]
      },
      {
       "output_type": "stream",
       "stream": "stdout",
       "text": [
        "2014-12-04 18:42:43,453 INFO CLAW: Solution 2 computed for time t=1.000000\n"
       ]
      },
      {
       "output_type": "stream",
       "stream": "stdout",
       "text": [
        "2014-12-04 18:42:44,361 INFO CLAW: Solution 0 computed for time t=0.000000\n"
       ]
      },
      {
       "output_type": "stream",
       "stream": "stdout",
       "text": [
        "2014-12-04 18:42:44,368 INFO CLAW: Solution 1 computed for time t=0.500000\n"
       ]
      },
      {
       "output_type": "stream",
       "stream": "stdout",
       "text": [
        "2014-12-04 18:42:44,376 INFO CLAW: Solution 2 computed for time t=1.000000\n"
       ]
      },
      {
       "output_type": "stream",
       "stream": "stdout",
       "text": [
        "2014-12-04 18:42:45,292 INFO CLAW: Solution 0 computed for time t=0.000000\n"
       ]
      },
      {
       "output_type": "stream",
       "stream": "stdout",
       "text": [
        "2014-12-04 18:42:45,300 INFO CLAW: Solution 1 computed for time t=0.500000\n"
       ]
      },
      {
       "output_type": "stream",
       "stream": "stdout",
       "text": [
        "2014-12-04 18:42:45,307 INFO CLAW: Solution 2 computed for time t=1.000000\n"
       ]
      },
      {
       "output_type": "stream",
       "stream": "stdout",
       "text": [
        "2014-12-04 18:42:46,200 INFO CLAW: Solution 0 computed for time t=0.000000\n"
       ]
      },
      {
       "output_type": "stream",
       "stream": "stdout",
       "text": [
        "2014-12-04 18:42:46,209 INFO CLAW: Solution 1 computed for time t=0.500000\n"
       ]
      },
      {
       "output_type": "stream",
       "stream": "stdout",
       "text": [
        "2014-12-04 18:42:46,217 INFO CLAW: Solution 2 computed for time t=1.000000\n"
       ]
      },
      {
       "output_type": "stream",
       "stream": "stdout",
       "text": [
        "2014-12-04 18:42:47,136 INFO CLAW: Solution 0 computed for time t=0.000000\n"
       ]
      },
      {
       "output_type": "stream",
       "stream": "stdout",
       "text": [
        "2014-12-04 18:42:47,144 INFO CLAW: Solution 1 computed for time t=0.500000\n"
       ]
      },
      {
       "output_type": "stream",
       "stream": "stdout",
       "text": [
        "2014-12-04 18:42:47,151 INFO CLAW: Solution 2 computed for time t=1.000000\n"
       ]
      },
      {
       "output_type": "stream",
       "stream": "stdout",
       "text": [
        "2014-12-04 18:42:48,049 INFO CLAW: Solution 0 computed for time t=0.000000\n"
       ]
      },
      {
       "output_type": "stream",
       "stream": "stdout",
       "text": [
        "2014-12-04 18:42:48,057 INFO CLAW: Solution 1 computed for time t=0.500000\n"
       ]
      },
      {
       "output_type": "stream",
       "stream": "stdout",
       "text": [
        "2014-12-04 18:42:48,065 INFO CLAW: Solution 2 computed for time t=1.000000\n"
       ]
      },
      {
       "output_type": "stream",
       "stream": "stdout",
       "text": [
        "2014-12-04 18:42:48,956 INFO CLAW: Solution 0 computed for time t=0.000000\n"
       ]
      },
      {
       "output_type": "stream",
       "stream": "stdout",
       "text": [
        "2014-12-04 18:42:48,964 INFO CLAW: Solution 1 computed for time t=0.500000\n"
       ]
      },
      {
       "output_type": "stream",
       "stream": "stdout",
       "text": [
        "2014-12-04 18:42:48,972 INFO CLAW: Solution 2 computed for time t=1.000000\n"
       ]
      },
      {
       "output_type": "stream",
       "stream": "stdout",
       "text": [
        "2014-12-04 18:42:49,944 INFO CLAW: Solution 0 computed for time t=0.000000\n"
       ]
      },
      {
       "output_type": "stream",
       "stream": "stdout",
       "text": [
        "2014-12-04 18:42:49,956 INFO CLAW: Solution 1 computed for time t=0.500000\n"
       ]
      },
      {
       "output_type": "stream",
       "stream": "stdout",
       "text": [
        "2014-12-04 18:42:49,963 INFO CLAW: Solution 2 computed for time t=1.000000\n"
       ]
      },
      {
       "output_type": "stream",
       "stream": "stdout",
       "text": [
        "2014-12-04 18:42:50,925 INFO CLAW: Solution 0 computed for time t=0.000000\n"
       ]
      },
      {
       "output_type": "stream",
       "stream": "stdout",
       "text": [
        "2014-12-04 18:42:50,932 INFO CLAW: Solution 1 computed for time t=0.500000\n"
       ]
      },
      {
       "output_type": "stream",
       "stream": "stdout",
       "text": [
        "2014-12-04 18:42:50,941 INFO CLAW: Solution 2 computed for time t=1.000000\n"
       ]
      },
      {
       "output_type": "stream",
       "stream": "stdout",
       "text": [
        "2014-12-04 18:42:51,928 INFO CLAW: Solution 0 computed for time t=0.000000\n"
       ]
      },
      {
       "output_type": "stream",
       "stream": "stdout",
       "text": [
        "2014-12-04 18:42:51,940 INFO CLAW: Solution 1 computed for time t=0.500000\n"
       ]
      },
      {
       "output_type": "stream",
       "stream": "stdout",
       "text": [
        "2014-12-04 18:42:51,950 INFO CLAW: Solution 2 computed for time t=1.000000\n"
       ]
      },
      {
       "output_type": "stream",
       "stream": "stdout",
       "text": [
        "2014-12-04 18:42:52,863 INFO CLAW: Solution 0 computed for time t=0.000000\n"
       ]
      },
      {
       "output_type": "stream",
       "stream": "stdout",
       "text": [
        "2014-12-04 18:42:52,873 INFO CLAW: Solution 1 computed for time t=0.500000\n"
       ]
      },
      {
       "output_type": "stream",
       "stream": "stdout",
       "text": [
        "2014-12-04 18:42:52,884 INFO CLAW: Solution 2 computed for time t=1.000000\n"
       ]
      },
      {
       "output_type": "stream",
       "stream": "stdout",
       "text": [
        "2014-12-04 18:42:53,803 INFO CLAW: Solution 0 computed for time t=0.000000\n"
       ]
      },
      {
       "output_type": "stream",
       "stream": "stdout",
       "text": [
        "2014-12-04 18:42:53,815 INFO CLAW: Solution 1 computed for time t=0.500000\n"
       ]
      },
      {
       "output_type": "stream",
       "stream": "stdout",
       "text": [
        "2014-12-04 18:42:53,822 INFO CLAW: Solution 2 computed for time t=1.000000\n"
       ]
      },
      {
       "output_type": "stream",
       "stream": "stdout",
       "text": [
        "2014-12-04 18:42:54,765 INFO CLAW: Solution 0 computed for time t=0.000000\n"
       ]
      },
      {
       "output_type": "stream",
       "stream": "stdout",
       "text": [
        "2014-12-04 18:42:54,776 INFO CLAW: Solution 1 computed for time t=0.500000\n"
       ]
      },
      {
       "output_type": "stream",
       "stream": "stdout",
       "text": [
        "2014-12-04 18:42:54,783 INFO CLAW: Solution 2 computed for time t=1.000000\n"
       ]
      },
      {
       "output_type": "stream",
       "stream": "stdout",
       "text": [
        "2014-12-04 18:42:55,722 INFO CLAW: Solution 0 computed for time t=0.000000\n"
       ]
      },
      {
       "output_type": "stream",
       "stream": "stdout",
       "text": [
        "2014-12-04 18:42:55,731 INFO CLAW: Solution 1 computed for time t=0.500000\n"
       ]
      },
      {
       "output_type": "stream",
       "stream": "stdout",
       "text": [
        "2014-12-04 18:42:55,738 INFO CLAW: Solution 2 computed for time t=1.000000\n"
       ]
      },
      {
       "output_type": "stream",
       "stream": "stdout",
       "text": [
        "2014-12-04 18:42:56,662 INFO CLAW: Solution 0 computed for time t=0.000000\n"
       ]
      },
      {
       "output_type": "stream",
       "stream": "stdout",
       "text": [
        "2014-12-04 18:42:56,670 INFO CLAW: Solution 1 computed for time t=0.500000\n"
       ]
      },
      {
       "output_type": "stream",
       "stream": "stdout",
       "text": [
        "2014-12-04 18:42:56,681 INFO CLAW: Solution 2 computed for time t=1.000000\n"
       ]
      },
      {
       "output_type": "stream",
       "stream": "stdout",
       "text": [
        "2014-12-04 18:42:57,621 INFO CLAW: Solution 0 computed for time t=0.000000\n"
       ]
      },
      {
       "output_type": "stream",
       "stream": "stdout",
       "text": [
        "2014-12-04 18:42:57,628 INFO CLAW: Solution 1 computed for time t=0.500000\n"
       ]
      },
      {
       "output_type": "stream",
       "stream": "stdout",
       "text": [
        "2014-12-04 18:42:57,637 INFO CLAW: Solution 2 computed for time t=1.000000\n"
       ]
      },
      {
       "output_type": "stream",
       "stream": "stdout",
       "text": [
        "2014-12-04 18:42:58,582 INFO CLAW: Solution 0 computed for time t=0.000000\n"
       ]
      },
      {
       "output_type": "stream",
       "stream": "stdout",
       "text": [
        "2014-12-04 18:42:58,590 INFO CLAW: Solution 1 computed for time t=0.500000\n"
       ]
      },
      {
       "output_type": "stream",
       "stream": "stdout",
       "text": [
        "2014-12-04 18:42:58,598 INFO CLAW: Solution 2 computed for time t=1.000000\n"
       ]
      },
      {
       "output_type": "stream",
       "stream": "stdout",
       "text": [
        "2014-12-04 18:42:59,488 INFO CLAW: Solution 0 computed for time t=0.000000\n"
       ]
      },
      {
       "output_type": "stream",
       "stream": "stdout",
       "text": [
        "2014-12-04 18:42:59,495 INFO CLAW: Solution 1 computed for time t=0.500000\n"
       ]
      },
      {
       "output_type": "stream",
       "stream": "stdout",
       "text": [
        "2014-12-04 18:42:59,503 INFO CLAW: Solution 2 computed for time t=1.000000\n"
       ]
      },
      {
       "output_type": "stream",
       "stream": "stdout",
       "text": [
        "2014-12-04 18:43:00,430 INFO CLAW: Solution 0 computed for time t=0.000000\n"
       ]
      },
      {
       "output_type": "stream",
       "stream": "stdout",
       "text": [
        "2014-12-04 18:43:00,437 INFO CLAW: Solution 1 computed for time t=0.500000\n"
       ]
      },
      {
       "output_type": "stream",
       "stream": "stdout",
       "text": [
        "2014-12-04 18:43:00,445 INFO CLAW: Solution 2 computed for time t=1.000000\n"
       ]
      },
      {
       "output_type": "stream",
       "stream": "stdout",
       "text": [
        "2014-12-04 18:43:01,392 INFO CLAW: Solution 0 computed for time t=0.000000\n"
       ]
      },
      {
       "output_type": "stream",
       "stream": "stdout",
       "text": [
        "2014-12-04 18:43:01,399 INFO CLAW: Solution 1 computed for time t=0.500000\n"
       ]
      },
      {
       "output_type": "stream",
       "stream": "stdout",
       "text": [
        "2014-12-04 18:43:01,406 INFO CLAW: Solution 2 computed for time t=1.000000\n"
       ]
      },
      {
       "output_type": "stream",
       "stream": "stdout",
       "text": [
        "2014-12-04 18:43:02,323 INFO CLAW: Solution 0 computed for time t=0.000000\n"
       ]
      },
      {
       "output_type": "stream",
       "stream": "stdout",
       "text": [
        "2014-12-04 18:43:02,331 INFO CLAW: Solution 1 computed for time t=0.500000\n"
       ]
      },
      {
       "output_type": "stream",
       "stream": "stdout",
       "text": [
        "2014-12-04 18:43:02,338 INFO CLAW: Solution 2 computed for time t=1.000000\n"
       ]
      },
      {
       "output_type": "stream",
       "stream": "stdout",
       "text": [
        "2014-12-04 18:43:03,281 INFO CLAW: Solution 0 computed for time t=0.000000\n"
       ]
      },
      {
       "output_type": "stream",
       "stream": "stdout",
       "text": [
        "2014-12-04 18:43:03,290 INFO CLAW: Solution 1 computed for time t=0.500000\n"
       ]
      },
      {
       "output_type": "stream",
       "stream": "stdout",
       "text": [
        "2014-12-04 18:43:03,299 INFO CLAW: Solution 2 computed for time t=1.000000\n"
       ]
      },
      {
       "output_type": "stream",
       "stream": "stdout",
       "text": [
        "2014-12-04 18:43:04,277 INFO CLAW: Solution 0 computed for time t=0.000000\n"
       ]
      },
      {
       "output_type": "stream",
       "stream": "stdout",
       "text": [
        "2014-12-04 18:43:04,289 INFO CLAW: Solution 1 computed for time t=0.500000\n"
       ]
      },
      {
       "output_type": "stream",
       "stream": "stdout",
       "text": [
        "2014-12-04 18:43:04,296 INFO CLAW: Solution 2 computed for time t=1.000000\n"
       ]
      },
      {
       "output_type": "stream",
       "stream": "stdout",
       "text": [
        "2014-12-04 18:43:05,281 INFO CLAW: Solution 0 computed for time t=0.000000\n"
       ]
      },
      {
       "output_type": "stream",
       "stream": "stdout",
       "text": [
        "2014-12-04 18:43:05,289 INFO CLAW: Solution 1 computed for time t=0.500000\n"
       ]
      },
      {
       "output_type": "stream",
       "stream": "stdout",
       "text": [
        "2014-12-04 18:43:05,296 INFO CLAW: Solution 2 computed for time t=1.000000\n"
       ]
      },
      {
       "output_type": "stream",
       "stream": "stdout",
       "text": [
        "2014-12-04 18:43:06,266 INFO CLAW: Solution 0 computed for time t=0.000000\n"
       ]
      },
      {
       "output_type": "stream",
       "stream": "stdout",
       "text": [
        "2014-12-04 18:43:06,274 INFO CLAW: Solution 1 computed for time t=0.500000\n"
       ]
      },
      {
       "output_type": "stream",
       "stream": "stdout",
       "text": [
        "2014-12-04 18:43:06,282 INFO CLAW: Solution 2 computed for time t=1.000000\n"
       ]
      },
      {
       "output_type": "stream",
       "stream": "stdout",
       "text": [
        "2014-12-04 18:43:07,229 INFO CLAW: Solution 0 computed for time t=0.000000\n"
       ]
      },
      {
       "output_type": "stream",
       "stream": "stdout",
       "text": [
        "2014-12-04 18:43:07,236 INFO CLAW: Solution 1 computed for time t=0.500000\n"
       ]
      },
      {
       "output_type": "stream",
       "stream": "stdout",
       "text": [
        "2014-12-04 18:43:07,243 INFO CLAW: Solution 2 computed for time t=1.000000\n"
       ]
      },
      {
       "output_type": "stream",
       "stream": "stdout",
       "text": [
        "2014-12-04 18:43:08,214 INFO CLAW: Solution 0 computed for time t=0.000000\n"
       ]
      },
      {
       "output_type": "stream",
       "stream": "stdout",
       "text": [
        "2014-12-04 18:43:08,223 INFO CLAW: Solution 1 computed for time t=0.500000\n"
       ]
      },
      {
       "output_type": "stream",
       "stream": "stdout",
       "text": [
        "2014-12-04 18:43:08,230 INFO CLAW: Solution 2 computed for time t=1.000000\n"
       ]
      },
      {
       "output_type": "stream",
       "stream": "stdout",
       "text": [
        "2014-12-04 18:43:09,476 INFO CLAW: Solution 0 computed for time t=0.000000\n"
       ]
      },
      {
       "output_type": "stream",
       "stream": "stdout",
       "text": [
        "2014-12-04 18:43:09,489 INFO CLAW: Solution 1 computed for time t=0.500000\n"
       ]
      },
      {
       "output_type": "stream",
       "stream": "stdout",
       "text": [
        "2014-12-04 18:43:09,501 INFO CLAW: Solution 2 computed for time t=1.000000\n"
       ]
      },
      {
       "output_type": "stream",
       "stream": "stdout",
       "text": [
        "2014-12-04 18:43:10,614 INFO CLAW: Solution 0 computed for time t=0.000000\n"
       ]
      },
      {
       "output_type": "stream",
       "stream": "stdout",
       "text": [
        "2014-12-04 18:43:10,622 INFO CLAW: Solution 1 computed for time t=0.500000\n"
       ]
      },
      {
       "output_type": "stream",
       "stream": "stdout",
       "text": [
        "2014-12-04 18:43:10,632 INFO CLAW: Solution 2 computed for time t=1.000000\n"
       ]
      },
      {
       "output_type": "stream",
       "stream": "stdout",
       "text": [
        "2014-12-04 18:43:11,566 INFO CLAW: Solution 0 computed for time t=0.000000\n"
       ]
      },
      {
       "output_type": "stream",
       "stream": "stdout",
       "text": [
        "2014-12-04 18:43:11,578 INFO CLAW: Solution 1 computed for time t=0.500000\n"
       ]
      },
      {
       "output_type": "stream",
       "stream": "stdout",
       "text": [
        "2014-12-04 18:43:11,588 INFO CLAW: Solution 2 computed for time t=1.000000\n"
       ]
      },
      {
       "output_type": "stream",
       "stream": "stdout",
       "text": [
        "2014-12-04 18:43:12,527 INFO CLAW: Solution 0 computed for time t=0.000000\n"
       ]
      },
      {
       "output_type": "stream",
       "stream": "stdout",
       "text": [
        "2014-12-04 18:43:12,535 INFO CLAW: Solution 1 computed for time t=0.500000\n"
       ]
      },
      {
       "output_type": "stream",
       "stream": "stdout",
       "text": [
        "2014-12-04 18:43:12,542 INFO CLAW: Solution 2 computed for time t=1.000000\n"
       ]
      },
      {
       "output_type": "stream",
       "stream": "stdout",
       "text": [
        "2014-12-04 18:43:13,440 INFO CLAW: Solution 0 computed for time t=0.000000\n"
       ]
      },
      {
       "output_type": "stream",
       "stream": "stdout",
       "text": [
        "2014-12-04 18:43:13,447 INFO CLAW: Solution 1 computed for time t=0.500000\n"
       ]
      },
      {
       "output_type": "stream",
       "stream": "stdout",
       "text": [
        "2014-12-04 18:43:13,455 INFO CLAW: Solution 2 computed for time t=1.000000\n"
       ]
      },
      {
       "output_type": "stream",
       "stream": "stdout",
       "text": [
        "2014-12-04 18:43:14,405 INFO CLAW: Solution 0 computed for time t=0.000000\n"
       ]
      },
      {
       "output_type": "stream",
       "stream": "stdout",
       "text": [
        "2014-12-04 18:43:14,413 INFO CLAW: Solution 1 computed for time t=0.500000\n"
       ]
      },
      {
       "output_type": "stream",
       "stream": "stdout",
       "text": [
        "2014-12-04 18:43:14,420 INFO CLAW: Solution 2 computed for time t=1.000000\n"
       ]
      },
      {
       "output_type": "stream",
       "stream": "stdout",
       "text": [
        "2014-12-04 18:43:15,344 INFO CLAW: Solution 0 computed for time t=0.000000\n"
       ]
      },
      {
       "output_type": "stream",
       "stream": "stdout",
       "text": [
        "2014-12-04 18:43:15,351 INFO CLAW: Solution 1 computed for time t=0.500000\n"
       ]
      },
      {
       "output_type": "stream",
       "stream": "stdout",
       "text": [
        "2014-12-04 18:43:15,359 INFO CLAW: Solution 2 computed for time t=1.000000\n"
       ]
      },
      {
       "output_type": "stream",
       "stream": "stdout",
       "text": [
        "2014-12-04 18:43:16,298 INFO CLAW: Solution 0 computed for time t=0.000000\n"
       ]
      },
      {
       "output_type": "stream",
       "stream": "stdout",
       "text": [
        "2014-12-04 18:43:16,309 INFO CLAW: Solution 1 computed for time t=0.500000\n"
       ]
      },
      {
       "output_type": "stream",
       "stream": "stdout",
       "text": [
        "2014-12-04 18:43:16,316 INFO CLAW: Solution 2 computed for time t=1.000000\n"
       ]
      },
      {
       "output_type": "stream",
       "stream": "stdout",
       "text": [
        "2014-12-04 18:43:17,224 INFO CLAW: Solution 0 computed for time t=0.000000\n"
       ]
      },
      {
       "output_type": "stream",
       "stream": "stdout",
       "text": [
        "2014-12-04 18:43:17,231 INFO CLAW: Solution 1 computed for time t=0.500000\n"
       ]
      },
      {
       "output_type": "stream",
       "stream": "stdout",
       "text": [
        "2014-12-04 18:43:17,238 INFO CLAW: Solution 2 computed for time t=1.000000\n"
       ]
      },
      {
       "output_type": "stream",
       "stream": "stdout",
       "text": [
        "2014-12-04 18:43:18,214 INFO CLAW: Solution 0 computed for time t=0.000000\n"
       ]
      },
      {
       "output_type": "stream",
       "stream": "stdout",
       "text": [
        "2014-12-04 18:43:18,221 INFO CLAW: Solution 1 computed for time t=0.500000\n"
       ]
      },
      {
       "output_type": "stream",
       "stream": "stdout",
       "text": [
        "2014-12-04 18:43:18,229 INFO CLAW: Solution 2 computed for time t=1.000000\n"
       ]
      },
      {
       "output_type": "stream",
       "stream": "stdout",
       "text": [
        "2014-12-04 18:43:19,243 INFO CLAW: Solution 0 computed for time t=0.000000\n"
       ]
      },
      {
       "output_type": "stream",
       "stream": "stdout",
       "text": [
        "2014-12-04 18:43:19,250 INFO CLAW: Solution 1 computed for time t=0.500000\n"
       ]
      },
      {
       "output_type": "stream",
       "stream": "stdout",
       "text": [
        "2014-12-04 18:43:19,259 INFO CLAW: Solution 2 computed for time t=1.000000\n"
       ]
      },
      {
       "output_type": "stream",
       "stream": "stdout",
       "text": [
        "2014-12-04 18:43:20,265 INFO CLAW: Solution 0 computed for time t=0.000000\n"
       ]
      },
      {
       "output_type": "stream",
       "stream": "stdout",
       "text": [
        "2014-12-04 18:43:20,274 INFO CLAW: Solution 1 computed for time t=0.500000\n"
       ]
      },
      {
       "output_type": "stream",
       "stream": "stdout",
       "text": [
        "2014-12-04 18:43:20,283 INFO CLAW: Solution 2 computed for time t=1.000000\n"
       ]
      },
      {
       "output_type": "stream",
       "stream": "stdout",
       "text": [
        "2014-12-04 18:43:21,273 INFO CLAW: Solution 0 computed for time t=0.000000\n"
       ]
      },
      {
       "output_type": "stream",
       "stream": "stdout",
       "text": [
        "2014-12-04 18:43:21,282 INFO CLAW: Solution 1 computed for time t=0.500000\n"
       ]
      },
      {
       "output_type": "stream",
       "stream": "stdout",
       "text": [
        "2014-12-04 18:43:21,289 INFO CLAW: Solution 2 computed for time t=1.000000\n"
       ]
      },
      {
       "output_type": "stream",
       "stream": "stdout",
       "text": [
        "2014-12-04 18:43:22,219 INFO CLAW: Solution 0 computed for time t=0.000000\n"
       ]
      },
      {
       "output_type": "stream",
       "stream": "stdout",
       "text": [
        "2014-12-04 18:43:22,226 INFO CLAW: Solution 1 computed for time t=0.500000\n"
       ]
      },
      {
       "output_type": "stream",
       "stream": "stdout",
       "text": [
        "2014-12-04 18:43:22,235 INFO CLAW: Solution 2 computed for time t=1.000000\n"
       ]
      },
      {
       "output_type": "stream",
       "stream": "stdout",
       "text": [
        "2014-12-04 18:43:23,136 INFO CLAW: Solution 0 computed for time t=0.000000\n"
       ]
      },
      {
       "output_type": "stream",
       "stream": "stdout",
       "text": [
        "2014-12-04 18:43:23,143 INFO CLAW: Solution 1 computed for time t=0.500000\n"
       ]
      },
      {
       "output_type": "stream",
       "stream": "stdout",
       "text": [
        "2014-12-04 18:43:23,151 INFO CLAW: Solution 2 computed for time t=1.000000\n"
       ]
      },
      {
       "output_type": "stream",
       "stream": "stdout",
       "text": [
        "2014-12-04 18:43:24,077 INFO CLAW: Solution 0 computed for time t=0.000000\n"
       ]
      },
      {
       "output_type": "stream",
       "stream": "stdout",
       "text": [
        "2014-12-04 18:43:24,086 INFO CLAW: Solution 1 computed for time t=0.500000\n"
       ]
      },
      {
       "output_type": "stream",
       "stream": "stdout",
       "text": [
        "2014-12-04 18:43:24,092 INFO CLAW: Solution 2 computed for time t=1.000000\n"
       ]
      },
      {
       "output_type": "stream",
       "stream": "stdout",
       "text": [
        "2014-12-04 18:43:25,013 INFO CLAW: Solution 0 computed for time t=0.000000\n"
       ]
      },
      {
       "output_type": "stream",
       "stream": "stdout",
       "text": [
        "2014-12-04 18:43:25,020 INFO CLAW: Solution 1 computed for time t=0.500000\n"
       ]
      },
      {
       "output_type": "stream",
       "stream": "stdout",
       "text": [
        "2014-12-04 18:43:25,029 INFO CLAW: Solution 2 computed for time t=1.000000\n"
       ]
      },
      {
       "output_type": "stream",
       "stream": "stdout",
       "text": [
        "2014-12-04 18:43:25,931 INFO CLAW: Solution 0 computed for time t=0.000000\n"
       ]
      },
      {
       "output_type": "stream",
       "stream": "stdout",
       "text": [
        "2014-12-04 18:43:25,940 INFO CLAW: Solution 1 computed for time t=0.500000\n"
       ]
      },
      {
       "output_type": "stream",
       "stream": "stdout",
       "text": [
        "2014-12-04 18:43:25,948 INFO CLAW: Solution 2 computed for time t=1.000000\n"
       ]
      },
      {
       "output_type": "stream",
       "stream": "stdout",
       "text": [
        "2014-12-04 18:43:26,841 INFO CLAW: Solution 0 computed for time t=0.000000\n"
       ]
      },
      {
       "output_type": "stream",
       "stream": "stdout",
       "text": [
        "2014-12-04 18:43:26,852 INFO CLAW: Solution 1 computed for time t=0.500000\n"
       ]
      },
      {
       "output_type": "stream",
       "stream": "stdout",
       "text": [
        "2014-12-04 18:43:26,859 INFO CLAW: Solution 2 computed for time t=1.000000\n"
       ]
      },
      {
       "output_type": "stream",
       "stream": "stdout",
       "text": [
        "2014-12-04 18:43:27,807 INFO CLAW: Solution 0 computed for time t=0.000000\n"
       ]
      },
      {
       "output_type": "stream",
       "stream": "stdout",
       "text": [
        "2014-12-04 18:43:27,814 INFO CLAW: Solution 1 computed for time t=0.500000\n"
       ]
      },
      {
       "output_type": "stream",
       "stream": "stdout",
       "text": [
        "2014-12-04 18:43:27,821 INFO CLAW: Solution 2 computed for time t=1.000000\n"
       ]
      },
      {
       "output_type": "stream",
       "stream": "stdout",
       "text": [
        "2014-12-04 18:43:28,714 INFO CLAW: Solution 0 computed for time t=0.000000\n"
       ]
      },
      {
       "output_type": "stream",
       "stream": "stdout",
       "text": [
        "2014-12-04 18:43:28,725 INFO CLAW: Solution 1 computed for time t=0.500000\n"
       ]
      },
      {
       "output_type": "stream",
       "stream": "stdout",
       "text": [
        "2014-12-04 18:43:28,733 INFO CLAW: Solution 2 computed for time t=1.000000\n"
       ]
      },
      {
       "output_type": "stream",
       "stream": "stdout",
       "text": [
        "2014-12-04 18:43:29,656 INFO CLAW: Solution 0 computed for time t=0.000000\n"
       ]
      },
      {
       "output_type": "stream",
       "stream": "stdout",
       "text": [
        "2014-12-04 18:43:29,668 INFO CLAW: Solution 1 computed for time t=0.500000\n"
       ]
      },
      {
       "output_type": "stream",
       "stream": "stdout",
       "text": [
        "2014-12-04 18:43:29,674 INFO CLAW: Solution 2 computed for time t=1.000000\n"
       ]
      },
      {
       "output_type": "stream",
       "stream": "stdout",
       "text": [
        "2014-12-04 18:43:30,574 INFO CLAW: Solution 0 computed for time t=0.000000\n"
       ]
      },
      {
       "output_type": "stream",
       "stream": "stdout",
       "text": [
        "2014-12-04 18:43:30,585 INFO CLAW: Solution 1 computed for time t=0.500000\n"
       ]
      },
      {
       "output_type": "stream",
       "stream": "stdout",
       "text": [
        "2014-12-04 18:43:30,592 INFO CLAW: Solution 2 computed for time t=1.000000\n"
       ]
      },
      {
       "output_type": "stream",
       "stream": "stdout",
       "text": [
        "2014-12-04 18:43:31,527 INFO CLAW: Solution 0 computed for time t=0.000000\n"
       ]
      },
      {
       "output_type": "stream",
       "stream": "stdout",
       "text": [
        "2014-12-04 18:43:31,535 INFO CLAW: Solution 1 computed for time t=0.500000\n"
       ]
      },
      {
       "output_type": "stream",
       "stream": "stdout",
       "text": [
        "2014-12-04 18:43:31,542 INFO CLAW: Solution 2 computed for time t=1.000000\n"
       ]
      },
      {
       "output_type": "stream",
       "stream": "stdout",
       "text": [
        "2014-12-04 18:43:32,457 INFO CLAW: Solution 0 computed for time t=0.000000\n"
       ]
      },
      {
       "output_type": "stream",
       "stream": "stdout",
       "text": [
        "2014-12-04 18:43:32,464 INFO CLAW: Solution 1 computed for time t=0.500000\n"
       ]
      },
      {
       "output_type": "stream",
       "stream": "stdout",
       "text": [
        "2014-12-04 18:43:32,473 INFO CLAW: Solution 2 computed for time t=1.000000\n"
       ]
      },
      {
       "output_type": "stream",
       "stream": "stdout",
       "text": [
        "2014-12-04 18:43:33,442 INFO CLAW: Solution 0 computed for time t=0.000000\n"
       ]
      },
      {
       "output_type": "stream",
       "stream": "stdout",
       "text": [
        "2014-12-04 18:43:33,450 INFO CLAW: Solution 1 computed for time t=0.500000\n"
       ]
      },
      {
       "output_type": "stream",
       "stream": "stdout",
       "text": [
        "2014-12-04 18:43:33,459 INFO CLAW: Solution 2 computed for time t=1.000000\n"
       ]
      },
      {
       "output_type": "stream",
       "stream": "stdout",
       "text": [
        "2014-12-04 18:43:34,469 INFO CLAW: Solution 0 computed for time t=0.000000\n"
       ]
      },
      {
       "output_type": "stream",
       "stream": "stdout",
       "text": [
        "2014-12-04 18:43:34,477 INFO CLAW: Solution 1 computed for time t=0.500000\n"
       ]
      },
      {
       "output_type": "stream",
       "stream": "stdout",
       "text": [
        "2014-12-04 18:43:34,488 INFO CLAW: Solution 2 computed for time t=1.000000\n"
       ]
      }
     ],
     "prompt_number": 17
    },
    {
     "cell_type": "code",
     "collapsed": false,
     "input": [
      "a= np.linspace(0,10)\n",
      "b= np.copy(a)\n",
      "b[5] =-4\n",
      "print a\n",
      "print b\n",
      "print a.size\n",
      "print b.size"
     ],
     "language": "python",
     "metadata": {},
     "outputs": [
      {
       "output_type": "stream",
       "stream": "stdout",
       "text": [
        "[  0.           0.20408163   0.40816327   0.6122449    0.81632653\n",
        "   1.02040816   1.2244898    1.42857143   1.63265306   1.83673469\n",
        "   2.04081633   2.24489796   2.44897959   2.65306122   2.85714286\n",
        "   3.06122449   3.26530612   3.46938776   3.67346939   3.87755102\n",
        "   4.08163265   4.28571429   4.48979592   4.69387755   4.89795918\n",
        "   5.10204082   5.30612245   5.51020408   5.71428571   5.91836735\n",
        "   6.12244898   6.32653061   6.53061224   6.73469388   6.93877551\n",
        "   7.14285714   7.34693878   7.55102041   7.75510204   7.95918367\n",
        "   8.16326531   8.36734694   8.57142857   8.7755102    8.97959184\n",
        "   9.18367347   9.3877551    9.59183673   9.79591837  10.        ]\n",
        "[  0.           0.20408163   0.40816327   0.6122449    0.81632653  -4.\n",
        "   1.2244898    1.42857143   1.63265306   1.83673469   2.04081633\n",
        "   2.24489796   2.44897959   2.65306122   2.85714286   3.06122449\n",
        "   3.26530612   3.46938776   3.67346939   3.87755102   4.08163265\n",
        "   4.28571429   4.48979592   4.69387755   4.89795918   5.10204082\n",
        "   5.30612245   5.51020408   5.71428571   5.91836735   6.12244898\n",
        "   6.32653061   6.53061224   6.73469388   6.93877551   7.14285714\n",
        "   7.34693878   7.55102041   7.75510204   7.95918367   8.16326531\n",
        "   8.36734694   8.57142857   8.7755102    8.97959184   9.18367347\n",
        "   9.3877551    9.59183673   9.79591837  10.        ]\n",
        "50\n",
        "50\n"
       ]
      }
     ],
     "prompt_number": 7
    },
    {
     "cell_type": "code",
     "collapsed": false,
     "input": [
      "print out\n",
      "p_var_sol= out.x\n",
      "p_sol= p0\n",
      "p_sol[p_var_i]= p_var_sol\n",
      "print 'starting solution: ' + str(p_start)\n",
      "print 'final solution:' + str(p_sol)\n",
      "penalty= reg_param*(np.linalg.norm(p_var_sol-np.mean(p_var_sol),ord=penalty_order))\n",
      "#penalty= reg_param*(np.linalg.norm(p_sol-np.mean(p_sol),ord=penalty_order))\n",
      "sum_sq= out.fun-penalty\n",
      "print 'penalty: ' + str(penalty)\n",
      "print 'penalty norm order: ' + str(penalty_order)\n",
      "print 'sum squares: ' + str(sum_sq)\n",
      "print 'sum squares/penalty: ' + str(sum_sq/penalty)\n",
      "print 'time: '+ str(t1-t0) + ' sec'\n",
      "print 'time: '+ str((t1-t0)/60.) + ' min'\n",
      "prolif_sol= [proliferation_profile(p=p_sol,x_max=x_max)(x_i) for x_i in x]\n",
      "plt.plot(x,prolif_sol)\n",
      "plt.title('proliferation profile')\n",
      "plt.xlabel('crypt villus axis (cell number)')\n",
      "plt.ylabel('proliferation rate (1/Tmax)')\n",
      "plt.text(0.7*x_max,0.9*np.max(prolif_sol),'Tmax = '+str(np.max(actual_out_times))+' min')\n",
      "\n",
      "output_path= '../figures/proliferation_profiles/'\n",
      "save_path= output_path+sample_type+'/'\n",
      "save_fig= True\n",
      "if save_fig:\n",
      "    try:\n",
      "        os.makedirs(save_path)\n",
      "    except OSError as exc: # Python >2.5\n",
      "        if exc.errno == errno.EEXIST and os.path.isdir(save_path):\n",
      "            pass\n",
      "        else: raise\n",
      "    plt.savefig(save_path+'estimated-proliferation-profile-'+sample_type+'.pdf')\n",
      "plt.show()"
     ],
     "language": "python",
     "metadata": {},
     "outputs": [
      {
       "output_type": "stream",
       "stream": "stdout",
       "text": [
        "  status: 0\n",
        "    nfev: 710\n",
        " success: True\n",
        "     fun: 0.34604776355993433\n",
        "       x: array([ 0.53423166,  1.28784418,  0.40077595,  0.2582413 ])\n",
        " message: 'Optimization terminated successfully.'\n",
        "     nit: 425\n",
        "starting solution: [-0.35713032  0.00420331  0.30305314  0.          0.          0.          0.\n",
        "  0.          0.          0.          0.          0.          0.          0.\n",
        "  0.          0.          0.          0.          0.          0.        ]\n",
        "final solution:[ 0.53423166  1.28784418  0.40077595  0.2582413   0.          0.          0.\n",
        "  0.          0.          0.          0.          0.          0.          0.\n",
        "  0.          0.          0.          0.          0.          0.        ]\n",
        "penalty: 0.0238551938219\n",
        "penalty norm order: 2\n",
        "sum squares: 0.322192569738\n",
        "sum squares/penalty: 13.5061811756\n",
        "time: 671.803247929 sec\n",
        "time: 11.1967207988 min\n"
       ]
      },
      {
       "metadata": {},
       "output_type": "display_data",
       "png": "[encoded data removed]",
       "text": [
        "<matplotlib.figure.Figure at 0x10861f250>"
       ]
      }
     ],
     "prompt_number": 18
    },
    {
     "cell_type": "code",
     "collapsed": false,
     "input": [
      "#run and plot given solution\n",
      "p_sim= p_sol #from single loop.\n",
      "\n",
      "results= construct_and_run_sim(p=p_sim,nx=100,actual_out_times=actual_out_times)\n",
      "l_model= results[0]\n",
      "x_model= results[2]\n",
      "plt.plot(x_model,l_model)\n",
      "plt.show()"
     ],
     "language": "python",
     "metadata": {},
     "outputs": [
      {
       "output_type": "stream",
       "stream": "stdout",
       "text": [
        "2014-12-04 18:08:56,864 INFO CLAW: Solution 0 computed for time t=0.000000\n"
       ]
      },
      {
       "output_type": "stream",
       "stream": "stdout",
       "text": [
        "2014-12-04 18:08:56,873 INFO CLAW: Solution 1 computed for time t=0.500000\n"
       ]
      },
      {
       "output_type": "stream",
       "stream": "stdout",
       "text": [
        "2014-12-04 18:08:56,880 INFO CLAW: Solution 2 computed for time t=1.000000\n"
       ]
      },
      {
       "metadata": {},
       "output_type": "display_data",
       "png": "[encoded data removed]",
       "text": [
        "<matplotlib.figure.Figure at 0x1085a28d0>"
       ]
      }
     ],
     "prompt_number": 9
    },
    {
     "cell_type": "code",
     "collapsed": false,
     "input": [
      "#script for contour plots/characteristics\n",
      "%run data_analysis_functions.ipynb\n",
      "%run extra_plotting_functions.ipynb\n",
      "\n",
      "#----DATA---\n",
      "#times and format\n",
      "#script for contour plots\n",
      "#times and format\n",
      "precision_time=4\n",
      "time_format= '%0'+('%1d' % precision_time)+'d'\n",
      "output_path='../figures/2d_plots/'\n",
      "#BRDU\n",
      "data_dir='../data-working/TXT_BrdU/'\n",
      "sample_type='BrdU'\n",
      "k=3\n",
      "s=10\n",
      "#actual_times= np.array([60.,120.,360.,600.,840.,1080.])\n",
      "#actual_times= np.array([120.,360.,600.,840.,1080.])\n",
      "actual_times= actual_out_times\n",
      "x_min=0.\n",
      "x_max=100.\n",
      "x_grid_all_times= np.tile(np.arange(x_min,x_max),(actual_times.size,1))\n",
      "x_grid_all_times= np.transpose(x_grid_all_times)\n",
      "levels= np.linspace(0.0,0.9,20)\n",
      "\n",
      "label_data_at_x_data= np.zeros(x_grid_all_times.shape)\n",
      "label_data_at_x_data_smoothed= np.zeros(x_grid_all_times.shape)\n",
      "#get PRE-SMOOTHED PROFILES!\n",
      "for i in range(0,actual_times.size):\n",
      "    current_time= actual_times[i]\n",
      "    file_current= get_data_file(data_dir,time_format%current_time)\n",
      "    data_result= process_and_fit_label_data_file(data_dir=data_dir,file_to_fit=file_current,sample_type=sample_type,k=k,s=s,x_max=100,do_plot=True)\n",
      "    #pre-smoothed\n",
      "    label_f_current= data_result[-1]\n",
      "    label_data_at_x_data_smoothed[:,i]= label_f_current(x_grid_all_times[:,i])\n",
      "    #pre-smoothed\n",
      "    label_f_current= data_result[-1]\n",
      "    label_data_at_x_data_smoothed[:,i]= label_f_current(x_grid_all_times[:,i])\n",
      "    #raw\n",
      "    label_data_at_x_data[:,i]= np.append(data_result[0],np.zeros(x_max-data_result[0].size))\n",
      "levels= np.linspace(0.0,0.9,20)\n",
      "plot_contours(label_data_at_x_data=label_data_at_x_data,x_grid_all_times=x_grid_all_times,actual_times=actual_times,levels=levels,data_type='raw',output_path='../figures/2d_plots/',run_data_functions=False)\n",
      "contours_out= plot_contours(label_data_at_x_data=label_data_at_x_data_smoothed,x_grid_all_times=x_grid_all_times,actual_times=actual_times,levels=levels,data_type='pre-smoothed',output_path='../figures/2d_plots/',run_data_functions=False)\n",
      "#contours_out= plot_contours(label_data_at_x_data=label_data_at_x_data,x_grid_all_times=x_grid_all_times,actual_times=actual_times,levels=levels,data_type='pre-smoothed',output_path='../figures/2d_plots/',run_data_functions=False)\n",
      "plt.close()#bit of a temporary hack!"
     ],
     "language": "python",
     "metadata": {},
     "outputs": [
      {
       "output_type": "stream",
       "stream": "stderr",
       "text": [
        "/Users/user/anaconda/lib/python2.7/site-packages/matplotlib/axes.py:4747: UserWarning: No labeled objects found. Use label='...' kwarg on individual plots.\n",
        "  warnings.warn(\"No labeled objects found. \"\n"
       ]
      },
      {
       "metadata": {},
       "output_type": "display_data",
       "png": "[encoded data removed]",
       "text": [
        "<matplotlib.figure.Figure at 0x108fd4850>"
       ]
      },
      {
       "metadata": {},
       "output_type": "display_data",
       "png": "[encoded data removed]",
       "text": [
        "<matplotlib.figure.Figure at 0x1093e19d0>"
       ]
      }
     ],
     "prompt_number": 33
    },
    {
     "cell_type": "code",
     "collapsed": false,
     "input": [
      "#p_sol= np.array() #USE SOL FROM OTHER SOURCES IF AVAIL. HERE TO CHECK."
     ],
     "language": "python",
     "metadata": {},
     "outputs": []
    },
    {
     "cell_type": "code",
     "collapsed": false,
     "input": [
      "#----MODEL---\n",
      "#run and plot given solution\n",
      "p_sim= p_sol #from single loop.\n",
      "results= construct_and_run_sim(p=p_sim,nx=100,actual_out_times=actual_out_times)\n",
      "l_model= results[0]\n",
      "x_model= results[2]\n",
      "\n",
      "plt.plot(x_model,l_model)\n",
      "plt.show()\n",
      "\n",
      "#HERE.\n",
      "l_model= results[0]\n",
      "x_model= results[2]\n",
      "levels= np.linspace(0,0.9,20)\n",
      "contours_out= plot_contours(label_data_at_x_data=l_model,x_grid_all_times=x_model,actual_times=actual_times,levels=levels,data_type='sim',output_path='../figures/2d_plots/',run_data_functions=False)\n",
      "plt.close()"
     ],
     "language": "python",
     "metadata": {},
     "outputs": [
      {
       "output_type": "stream",
       "stream": "stdout",
       "text": [
        "2014-12-02 11:57:39,475 INFO CLAW: Solution 0 computed for time t=0.000000\n"
       ]
      },
      {
       "output_type": "stream",
       "stream": "stdout",
       "text": [
        "2014-12-02 11:57:39,493 INFO CLAW: Solution 1 computed for time t=0.500000\n"
       ]
      },
      {
       "output_type": "stream",
       "stream": "stdout",
       "text": [
        "2014-12-02 11:57:39,509 INFO CLAW: Solution 2 computed for time t=1.000000\n"
       ]
      },
      {
       "metadata": {},
       "output_type": "display_data",
       "png": "[encoded data removed]",
       "text": [
        "<matplotlib.figure.Figure at 0x1095408d0>"
       ]
      },
      {
       "metadata": {},
       "output_type": "display_data",
       "png": "[encoded data removed]",
       "text": [
        "<matplotlib.figure.Figure at 0x1095b7f50>"
       ]
      }
     ],
     "prompt_number": 34
    },
    {
     "cell_type": "code",
     "collapsed": false,
     "input": [
      "#residuals\n",
      "#%run extra_plotting_functions.ipynb\n",
      "\n",
      "#levels= np.linspace(-0.3,0.5,20)\n",
      "\n",
      "label_resid_at_x= get_residuals_at_grid(labels_model=l_model,x_centres_model=x_model,label_data_at_x_data=label_data_at_x_data,x_grid_all_times=x_grid_all_times,flatten_residual=False)\n",
      "label_resid_percent_at_x= 100*np.where(label_data_at_x_data>0,np.divide(label_resid_at_x,label_data_at_x_data), 0)\n",
      "\n",
      "levels= np.linspace(np.min(label_resid_at_x),np.max(label_resid_at_x),20)\n",
      "contours_out= plot_contours(label_data_at_x_data=label_resid_at_x,x_grid_all_times=x_grid_all_times,actual_times=actual_times,levels=levels,data_type='residual',output_path='../figures/2d_plots/',run_data_functions=False)\n",
      "plt.close()\n",
      "\n",
      "levels= np.linspace(0,np.max(np.abs(label_resid_at_x)),20)\n",
      "contours_out= plot_contours(label_data_at_x_data=np.abs(label_resid_at_x),x_grid_all_times=x_grid_all_times,actual_times=actual_times,levels=levels,data_type='residual abs',output_path='../figures/2d_plots/',run_data_functions=False)\n",
      "plt.close()\n",
      "\n",
      "levels= np.linspace(-70,70,20)\n",
      "contours_out= plot_contours(label_data_at_x_data=label_resid_percent_at_x,x_grid_all_times=x_grid_all_times,actual_times=actual_times,levels=levels,data_type='residual percent',output_path='../figures/2d_plots/',run_data_functions=False)\n",
      "plt.close()\n",
      "\n",
      "label_resid_at_x= get_residuals_at_grid(labels_model=l_model,x_centres_model=x_model,label_data_at_x_data=label_data_at_x_data_smoothed,x_grid_all_times=x_grid_all_times,flatten_residual=False)\n",
      "levels= np.linspace(np.min(label_resid_at_x),np.max(label_resid_at_x),20)\n",
      "contours_out= plot_contours(label_data_at_x_data=label_resid_at_x,x_grid_all_times=x_grid_all_times,actual_times=actual_times,levels=levels,data_type='residual smooth',output_path='../figures/2d_plots/',run_data_functions=False)\n",
      "plt.close"
     ],
     "language": "python",
     "metadata": {},
     "outputs": [
      {
       "output_type": "stream",
       "stream": "stderr",
       "text": [
        "-c:7: RuntimeWarning: divide by zero encountered in divide\n"
       ]
      },
      {
       "metadata": {},
       "output_type": "display_data",
       "png": "[encoded data removed]",
       "text": [
        "<matplotlib.figure.Figure at 0x109215650>"
       ]
      },
      {
       "metadata": {},
       "output_type": "display_data",
       "png": "[encoded data removed]",
       "text": [
        "<matplotlib.figure.Figure at 0x10948fcd0>"
       ]
      },
      {
       "metadata": {},
       "output_type": "display_data",
       "png": "[encoded data removed]",
       "text": [
        "<matplotlib.figure.Figure at 0x108960110>"
       ]
      },
      {
       "metadata": {},
       "output_type": "display_data",
       "png": "[encoded data removed]",
       "text": [
        "<matplotlib.figure.Figure at 0x10988d1d0>"
       ]
      },
      {
       "metadata": {},
       "output_type": "pyout",
       "prompt_number": 30,
       "text": [
        "<function matplotlib.pyplot.close>"
       ]
      }
     ],
     "prompt_number": 30
    },
    {
     "cell_type": "markdown",
     "metadata": {},
     "source": [
      "##Sampling approach [OLD]"
     ]
    },
    {
     "cell_type": "code",
     "collapsed": false,
     "input": [
      "import numpy as np\n",
      "import emcee"
     ],
     "language": "python",
     "metadata": {},
     "outputs": [],
     "prompt_number": 2
    },
    {
     "cell_type": "markdown",
     "metadata": {},
     "source": [
      "####based on http://users.obs.carnegiescience.edu/cburns/ipynbs/Emcee.html"
     ]
    },
    {
     "cell_type": "code",
     "collapsed": false,
     "input": [
      "def lnprior(p):\n",
      "    # The parameters are stored as a vector of values, so unpack them?\n",
      "    \n",
      "    #CAREFUL OF SIGMA\n",
      "    \n",
      "    # We're using only uniform priors\n",
      "    if np.logical_or((p<-10).any(),(p>10).any()):\n",
      "        return -np.inf\n",
      "    return 0 #prior up to constant -> log up to constant"
     ],
     "language": "python",
     "metadata": {},
     "outputs": [],
     "prompt_number": 34
    },
    {
     "cell_type": "code",
     "collapsed": false,
     "input": [
      "#get initial condition\n",
      "files_in_dir= os.listdir(data_dir)\n",
      "files_in_dir.sort() #assumes files have same name format!!\n",
      "\n",
      "start= actual_out_times[0]\n",
      "time_format= '%0'+('%1d' % precision_time)+'d'\n",
      "file_ic= get_data_file(data_dir,time_format%start)\n",
      "\n",
      "density_results= process_and_fit_label_data_file(data_dir=data_dir,file_to_fit=file_ic,\n",
      "                                                 sample_type=sample_type,x_max=x_max,\n",
      "                                                 do_plot=False)\n",
      "initial_profile_f= density_results[-1]\n",
      "\n",
      "#---\n",
      "#data for comparison. \n",
      "x_data_to_fit= np.tile(np.arange(x_min,x_max),(actual_out_times.size-1,1))\n",
      "x_data_to_fit= np.transpose(x_data_to_fit)\n",
      "label_data_at_x_data= np.zeros(x_data_to_fit.shape)\n",
      "\n",
      "for i in range(0,actual_out_times.size-1):\n",
      "    current_time= actual_out_times[i+1]\n",
      "    file_current= get_data_file(data_dir,time_format%current_time)\n",
      "    print file_current\n",
      "    data_result= process_and_fit_label_data_file(data_dir=data_dir,file_to_fit=file_current,sample_type=sample_type,k=k,s=s,x_max=100,do_plot=False)\n",
      "    #careful here - data grid concept needs to be tidied up.\n",
      "    label_data_at_x_data[:,i]= np.append(data_result[0],np.zeros(x_max-data_result[0].size))\n",
      "\n",
      "#convert between experimental times and simulation times \n",
      "norm_out_times= (actual_out_times-min(actual_out_times))/(max(actual_out_times)-min(actual_out_times))"
     ],
     "language": "python",
     "metadata": {},
     "outputs": [
      {
       "output_type": "stream",
       "stream": "stdout",
       "text": [
        "BrdU_01_0360min.txt\n",
        "BrdU_01_0600min.txt\n"
       ]
      }
     ],
     "prompt_number": 33
    },
    {
     "cell_type": "code",
     "collapsed": false,
     "input": [
      "def lnlike(p_var, x, y, z):\n",
      "    \"\"\"\n",
      "    Key function here.\n",
      "    ---\n",
      "    TODOS\n",
      "    -plan how to pass data/info\n",
      "    \"\"\"\n",
      "    #---\n",
      "    #function for one sim.\n",
      "    def model(p_var):\n",
      "        \"\"\"\n",
      "        simulation model\n",
      "        -\n",
      "        \"\"\"\n",
      "        p= p0\n",
      "        p[p_var_i]= p_var[p_var_i]\n",
      "        velocity_f= velocity_from_integrated_proliferation(proliferation_profile(p=p,x_max=x_max))\n",
      "        controller= setup(nx=nx,initial_profile_f=initial_profile_f,velocity_f=velocity_f,norm_out_times=norm_out_times)\n",
      "        #controller.verbosity= 0\n",
      "        controller.run()\n",
      "\n",
      "        #extract (all) simulation results\n",
      "        output_shape= [np.size(controller.frames[0].state.q[0,:],axis=0),np.size(controller.frames,axis=0)]\n",
      "        #print output_shape\n",
      "        labels= np.zeros(output_shape)\n",
      "        x_centres= np.zeros(output_shape)\n",
      "        velocity= np.zeros(output_shape)\n",
      "        for i in range(0,np.size(controller.out_times,axis=0)):\n",
      "            labels[:,i]= controller.frames[i].state.q[0,:]\n",
      "            #don't actually vary with time!\n",
      "            x_centres[:,i]= controller.frames[0].state.grid.c_centers[0]\n",
      "            velocity[:,i]= controller.frames[0].state.aux[0,:]\n",
      "\n",
      "        return labels, velocity, x_centres\n",
      "    #---\n",
      "    #residuals function\n",
      "    def residuals(p_var_current,flatten_residual=True):#,p0=np.array([1.0,2.0,0.01,0.01,0.01]))#,p_fixed_i=[]):#,x_data_to_fit=x_data_to_fit,label_data_to_fit=label_data_to_fit,times_to_fit=[]):\n",
      "        \"\"\"\n",
      "        residuals between model solutions and data\n",
      "        -\n",
      "        \"\"\"\n",
      "        #get solutions at all times > t0. #use e.g. structured arrays??\n",
      "        results= model(p_var=p_var_current)\n",
      "        labels_model= results[0][:,1:]\n",
      "        x_centres_model= results[2][:,1:]\n",
      "\n",
      "        #data grid. TODO - do better. Note: don't include initial condition so one index smaller.\n",
      "        #use e.g. structured arrays?? For now - collect all but only compare subset. Inefficient.\n",
      "        label_model_at_x_data_current= np.zeros(x_data_to_fit.shape[0])\n",
      "        residual_at_x_data= np.zeros(x_data_to_fit.shape)\n",
      "        #times_to_fit_i\n",
      "        for i in np.subtract(times_to_fit_i,1):\n",
      "            label_model_at_x_data_current= np.interp(x_data_to_fit[:,i],x_centres_model[:,i],labels_model[:,i])\n",
      "            residual_at_x_data[:,i]= label_data_at_x_data[:,i]-label_model_at_x_data_current\n",
      "\n",
      "        if flatten_residual:\n",
      "            return np.ravel(residual_at_x_data) #ravel flattens into single vector\n",
      "        else:\n",
      "            return residual_at_x_data\n",
      "    #---\n",
      "    p_var0= p0[p_var_i]\n",
      "    sum_square_penalised= lambda p_var: (1/np.float(len(times_to_fit_i)))*np.linalg.norm(residuals(p_var_current=p_var))\\\n",
      "        +reg_param*(np.linalg.norm(p_var-np.mean(p_var),ord=penalty_order))\n",
      "    \n",
      "    # the log-likelihood is pretty much sum of squared residuals\n",
      "    denom = np.power(sigma,2)\n",
      "    lp = -0.5*sum(power((z - model),2)/denom + log(denom) + log(2*pi))\n",
      "    return lp"
     ],
     "language": "python",
     "metadata": {},
     "outputs": [],
     "prompt_number": 32
    },
    {
     "cell_type": "code",
     "collapsed": false,
     "input": [
      "def lnprob(p, x, y, z):\n",
      "    lp = lnprior(p)\n",
      "    if not np.isfinite(lp):\n",
      "        return -np.inf\n",
      "    return lp + lnlike(p, x, y, z)"
     ],
     "language": "python",
     "metadata": {},
     "outputs": []
    },
    {
     "cell_type": "code",
     "collapsed": false,
     "input": [
      "def sample_sim(data_dir='../data-working/TXT_BrdU/',sample_type='BrdU',\n",
      "                          actual_out_times= np.array([60.,120.,360.,600.,1080.,1920.]),times_to_fit_i=[5],precision_time=4,\n",
      "                          p0=np.array([1.0,2.0,0.01,0.01,0.01]),p_var_i=[],reg_param= 0.1,penalty_order=1,x_min=0.,x_max=100.,k=3,s=15,nx=100):\n",
      "    \"\"\"\n",
      "    sampling solution to inverse problem\n",
      "    -\n",
      "    notes\n",
      "    a key difficulty is choosing proper comparison grid\n",
      "    also, systematic regularisation - dependence on number of parameters etc? determining reg. parameter\n",
      "    -\n",
      "    structure\n",
      "    initial condition\n",
      "    data for fitting\n",
      "    model definition\n",
      "    residuals function\n",
      "    likelihood\n",
      "    prior\n",
      "    posterior\n",
      "    \n",
      "    \n",
      "    \"\"\"\n",
      "    #---\n",
      "    #get initial condition\n",
      "    files_in_dir= os.listdir(data_dir)\n",
      "    files_in_dir.sort() #assumes files have same name format!!\n",
      "\n",
      "    start= actual_out_times[0]\n",
      "    time_format= '%0'+('%1d' % precision_time)+'d'\n",
      "    file_ic= get_data_file(data_dir,time_format%start)\n",
      "    \n",
      "    density_results= process_and_fit_label_data_file(data_dir=data_dir,file_to_fit=file_ic,\n",
      "                                                     sample_type=sample_type,x_max=x_max,\n",
      "                                                     do_plot=False)\n",
      "    initial_profile_f= density_results[-1]\n",
      "    \n",
      "    #---\n",
      "    #data for comparison. NOTE - get \n",
      "    #TODO - use times_to_fit_i?\n",
      "    x_data_to_fit= np.tile(np.arange(x_min,x_max),(actual_out_times.size-1,1))\n",
      "    x_data_to_fit= np.transpose(x_data_to_fit)\n",
      "    label_data_at_x_data= np.zeros(x_data_to_fit.shape)\n",
      "\n",
      "    for i in range(0,actual_out_times.size-1):\n",
      "        current_time= actual_out_times[i+1]\n",
      "        file_current= get_data_file(data_dir,time_format%current_time)\n",
      "        print file_current\n",
      "        data_result= process_and_fit_label_data_file(data_dir=data_dir,file_to_fit=file_current,sample_type=sample_type,k=k,s=s,x_max=100,do_plot=False)\n",
      "        #careful here - data grid concept needs to be tidied up.\n",
      "        label_data_at_x_data[:,i]= np.append(data_result[0],np.zeros(x_max-data_result[0].size))\n",
      "    \n",
      "    #convert between experimental times and simulation times \n",
      "    norm_out_times= (actual_out_times-min(actual_out_times))/(max(actual_out_times)-min(actual_out_times))\n",
      "    \n",
      "    #---\n",
      "    #function for one sim.\n",
      "    def model(p_var):\n",
      "        \"\"\"\n",
      "        simulation model\n",
      "        -\n",
      "        notes:\n",
      "        output formats for each quantity are -\n",
      "        [column of results at time 1|column of results at time 2|...etc...]\n",
      "        uses arguments from outer function - bad practice?\n",
      "        bit of a hack with 'global' vs. local arguments.\n",
      "        \"\"\"\n",
      "        #HACK!\n",
      "        #try_count= 0\n",
      "        #while try_count<5:\n",
      "        #    try:\n",
      "                #code with possible error\n",
      "                #set up and run simulation \n",
      "        #        velocity_f= velocity_from_integrated_proliferation(proliferation_profile(p=p,x_max=x_max))\n",
      "        #        controller= setup(nx=nx,initial_profile_f=initial_profile_f,velocity_f=velocity_f,norm_out_times=norm_out_times)\n",
      "        #        #controller.verbosity= 0\n",
      "        #        controller.run()\n",
      "        #    except:\n",
      "        #        print 'adding noise/making positive to try avoid numerical difficulties'\n",
      "        #        print p\n",
      "                #print p_current\n",
      "                #p= p+np.random.normal(0,0.1,p.size)\n",
      "        #        p= np.abs(p+np.random.normal(0,0.1,p.size))\n",
      "        #        try_count= try_count+1\n",
      "        #        continue\n",
      "        #    else:\n",
      "        #         #the rest of the code\n",
      "        #         break\n",
      "        p= np.copy(p0) #careful of python 'labels/tags' vs 'containers'.\n",
      "        p[p_var_i]= p_var[p_var_i]\n",
      "        #print 'test p0 changing:' \n",
      "        #print p==p0\n",
      "        #print p[p_fixed_i]== p0[p_fixed_i]\n",
      "        #print 'here'\n",
      "        velocity_f= velocity_from_integrated_proliferation(proliferation_profile(p=p,x_max=x_max))\n",
      "        controller= setup(nx=nx,initial_profile_f=initial_profile_f,velocity_f=velocity_f,norm_out_times=norm_out_times)\n",
      "        #controller.verbosity= 0\n",
      "        controller.run()\n",
      "\n",
      "        #extract (all) simulation results\n",
      "        output_shape= [np.size(controller.frames[0].state.q[0,:],axis=0),np.size(controller.frames,axis=0)]\n",
      "        #print output_shape\n",
      "        labels= np.zeros(output_shape)\n",
      "        x_centres= np.zeros(output_shape)\n",
      "        velocity= np.zeros(output_shape)\n",
      "        for i in range(0,np.size(controller.out_times,axis=0)):\n",
      "            labels[:,i]= controller.frames[i].state.q[0,:]\n",
      "            #don't actually vary with time!\n",
      "            x_centres[:,i]= controller.frames[0].state.grid.c_centers[0]\n",
      "            velocity[:,i]= controller.frames[0].state.aux[0,:]\n",
      "\n",
      "        return labels, velocity, x_centres\n",
      "\n",
      "    #---\n",
      "    #residuals function\n",
      "    def residuals(p_var_current,flatten_residual=True):#,p0=np.array([1.0,2.0,0.01,0.01,0.01]))#,p_fixed_i=[]):#,x_data_to_fit=x_data_to_fit,label_data_to_fit=label_data_to_fit,times_to_fit=[]):\n",
      "        \"\"\"\n",
      "        residuals between model solutions and data\n",
      "        -\n",
      "        notes\n",
      "        data and model results are matrices/arrays!\n",
      "        in 'column vector' storage format?\n",
      "        -\n",
      "        Plan\n",
      "        general outline\n",
      "        -at a given time\n",
      "        [vectorised]\n",
      "        --at a set of data comparison x points\n",
      "        ---get data values\n",
      "        ---get solution values (via interp.)\n",
      "        ---compute residual and store as column vector in residual matrix\n",
      "        -(in another function) square values and sum to get a single scalar\n",
      "        approach\n",
      "        -test cell to consider a vector of data values and test sim and calc residual\n",
      "        \"\"\"\n",
      "        #get solutions at all times > t0. #use e.g. structured arrays??\n",
      "        results= model(p_var=p_var_current)\n",
      "        labels_model= results[0][:,1:]\n",
      "        x_centres_model= results[2][:,1:]\n",
      "\n",
      "        #data grid. TODO - do better. Note: don't include initial condition so one index smaller.\n",
      "        #use e.g. structured arrays?? For now - collect all but only compare subset. Inefficient.\n",
      "        label_model_at_x_data_current= np.zeros(x_data_to_fit.shape[0])\n",
      "        residual_at_x_data= np.zeros(x_data_to_fit.shape)\n",
      "        #times_to_fit_i\n",
      "        for i in np.subtract(times_to_fit_i,1):\n",
      "            #TODO - assert i>0\n",
      "            \n",
      "            #current_time= actual_out_times[i+1]\n",
      "            #file_current= get_data_file(data_dir,time_format%current_time)\n",
      "            #print file_current\n",
      "            #data_result= process_and_fit_label_data_file(data_dir=data_dir,file_to_fit=file_current,sample_type=sample_type,k=k,s=s,x_max=100,do_plot=False)\n",
      "            #careful here - data grid concept needs to be tidied up.\n",
      "            #label_data_at_x_data= np.append(data_result[0],np.zeros(x_max-data_result[0].size))\n",
      "            label_model_at_x_data_current= np.interp(x_data_to_fit[:,i],x_centres_model[:,i],labels_model[:,i])\n",
      "            residual_at_x_data[:,i]= label_data_at_x_data[:,i]-label_model_at_x_data_current\n",
      "            #temp\n",
      "            #plt.plot(residual_at_x_data[:,i])\n",
      "\n",
      "        #temp\n",
      "        #plt.show()\n",
      "        if flatten_residual:\n",
      "            return np.ravel(residual_at_x_data) #ravel flattens into single vector\n",
      "        else:\n",
      "            return residual_at_x_data\n",
      "    #---\n",
      "    #Optimisation\n",
      "    #currently only one step.\n",
      "    import scipy.optimize as sciopt\n",
      "    flatten_residual= True\n",
      "    \n",
      "    #plsq= sciopt.leastsq(residuals,p0,args=(flatten_residual))\n",
      "    #pest= plsq[0]\n",
      "    #bounds= [(-10,10) for i in range(p.size)]\n",
      "    #max_iter= 10\n",
      "    #max_fev= 20\n",
      "    #note - use centered parameters in penalty. CAREFUL OF FIXED PARAMETERS!!!\n",
      "    p_var0= np.copy(p0[p_var_i])\n",
      "    sum_square_penalised= lambda p_var: (1/np.float(len(times_to_fit_i)))*np.linalg.norm(residuals(p_var_current=p_var))\\\n",
      "        +reg_param*(np.linalg.norm(p_var-np.mean(p_var),ord=penalty_order))\n",
      "    #out= sciopt.minimize(sum_sq,p0,bounds=bounds,method=),method='Nelder-Mead'\n",
      "    #out= sciopt.minimize(sum_square_penalised,p0,method='Nelder-Mead',options=dict({'maxiter':10,'maxfev':20}))\n",
      "    out= sciopt.minimize(sum_square_penalised,p_var0,method='Nelder-Mead')\n",
      "    #pest= out.x\n",
      "    return out"
     ],
     "language": "python",
     "metadata": {},
     "outputs": []
    },
    {
     "cell_type": "code",
     "collapsed": false,
     "input": [
      "#find start - here as maximum likelihood\n",
      "#import scipy.optimize as opt\n",
      "#nll = lambda *args: -lnlike(*args)\n",
      "#result = opt.minimize(nll, [alpha_true, beta_x_true, beta_y_true, eps_true],\n",
      "#                      args=(x_true, y_true, z_obs))\n",
      "#print result['x']\n",
      "#\n",
      "#===SEE ABOVE==="
     ],
     "language": "python",
     "metadata": {},
     "outputs": [],
     "prompt_number": 31
    },
    {
     "cell_type": "code",
     "collapsed": false,
     "input": [],
     "language": "python",
     "metadata": {},
     "outputs": [],
     "prompt_number": 35
    },
    {
     "cell_type": "code",
     "collapsed": false,
     "input": [
      "#start walkers from maximum likelihood/optimised solution\n",
      "n_walker,n_dim = 50,4\n",
      "p0 = [result['x']+1.e-4*random.randn(n_dim) for i in range(n_walker)]"
     ],
     "language": "python",
     "metadata": {},
     "outputs": [
      {
       "ename": "NameError",
       "evalue": "name 'result' is not defined",
       "output_type": "pyerr",
       "traceback": [
        "\u001b[0;31m---------------------------------------------------------------------------\u001b[0m\n\u001b[0;31mNameError\u001b[0m                                 Traceback (most recent call last)",
        "\u001b[0;32m<ipython-input-36-4fce58c35cae>\u001b[0m in \u001b[0;36m<module>\u001b[0;34m()\u001b[0m\n\u001b[1;32m      1\u001b[0m \u001b[0;31m#start walkers from maximum likelihood/optimised solution\u001b[0m\u001b[0;34m\u001b[0m\u001b[0;34m\u001b[0m\u001b[0m\n\u001b[1;32m      2\u001b[0m \u001b[0mn_walker\u001b[0m\u001b[0;34m,\u001b[0m\u001b[0mn_dim\u001b[0m \u001b[0;34m=\u001b[0m \u001b[0;36m50\u001b[0m\u001b[0;34m,\u001b[0m\u001b[0;36m4\u001b[0m\u001b[0;34m\u001b[0m\u001b[0m\n\u001b[0;32m----> 3\u001b[0;31m \u001b[0mp0\u001b[0m \u001b[0;34m=\u001b[0m \u001b[0;34m[\u001b[0m\u001b[0mresult\u001b[0m\u001b[0;34m[\u001b[0m\u001b[0;34m'x'\u001b[0m\u001b[0;34m]\u001b[0m\u001b[0;34m+\u001b[0m\u001b[0;36m1.e-4\u001b[0m\u001b[0;34m*\u001b[0m\u001b[0mrandom\u001b[0m\u001b[0;34m.\u001b[0m\u001b[0mrandn\u001b[0m\u001b[0;34m(\u001b[0m\u001b[0mn_dim\u001b[0m\u001b[0;34m)\u001b[0m \u001b[0;32mfor\u001b[0m \u001b[0mi\u001b[0m \u001b[0;32min\u001b[0m \u001b[0mrange\u001b[0m\u001b[0;34m(\u001b[0m\u001b[0mn_walker\u001b[0m\u001b[0;34m)\u001b[0m\u001b[0;34m]\u001b[0m\u001b[0;34m\u001b[0m\u001b[0m\n\u001b[0m",
        "\u001b[0;31mNameError\u001b[0m: name 'result' is not defined"
       ]
      }
     ],
     "prompt_number": 36
    },
    {
     "cell_type": "code",
     "collapsed": false,
     "input": [
      "#create sampler\n",
      "sampler = emcee.EnsembleSampler(n_walker,n_dim,lnprob,args=(x_true,y_true,z_obs))"
     ],
     "language": "python",
     "metadata": {},
     "outputs": [
      {
       "ename": "NameError",
       "evalue": "name 'x_true' is not defined",
       "output_type": "pyerr",
       "traceback": [
        "\u001b[0;31m---------------------------------------------------------------------------\u001b[0m\n\u001b[0;31mNameError\u001b[0m                                 Traceback (most recent call last)",
        "\u001b[0;32m<ipython-input-13-9f012bc16d93>\u001b[0m in \u001b[0;36m<module>\u001b[0;34m()\u001b[0m\n\u001b[1;32m      1\u001b[0m \u001b[0;31m#create sampler\u001b[0m\u001b[0;34m\u001b[0m\u001b[0;34m\u001b[0m\u001b[0m\n\u001b[0;32m----> 2\u001b[0;31m \u001b[0msampler\u001b[0m \u001b[0;34m=\u001b[0m \u001b[0memcee\u001b[0m\u001b[0;34m.\u001b[0m\u001b[0mEnsembleSampler\u001b[0m\u001b[0;34m(\u001b[0m\u001b[0mNwalker\u001b[0m\u001b[0;34m,\u001b[0m\u001b[0mNdim\u001b[0m\u001b[0;34m,\u001b[0m\u001b[0mlnprob\u001b[0m\u001b[0;34m,\u001b[0m\u001b[0margs\u001b[0m\u001b[0;34m=\u001b[0m\u001b[0;34m(\u001b[0m\u001b[0mx_true\u001b[0m\u001b[0;34m,\u001b[0m\u001b[0my_true\u001b[0m\u001b[0;34m,\u001b[0m\u001b[0mz_obs\u001b[0m\u001b[0;34m)\u001b[0m\u001b[0;34m)\u001b[0m\u001b[0;34m\u001b[0m\u001b[0m\n\u001b[0m",
        "\u001b[0;31mNameError\u001b[0m: name 'x_true' is not defined"
       ]
      }
     ],
     "prompt_number": 13
    },
    {
     "cell_type": "code",
     "collapsed": false,
     "input": [
      "#burn\n",
      "pos,prob,state = sampler.run_mcmc(p0, 500)"
     ],
     "language": "python",
     "metadata": {},
     "outputs": [
      {
       "ename": "NameError",
       "evalue": "name 'sampler' is not defined",
       "output_type": "pyerr",
       "traceback": [
        "\u001b[0;31m---------------------------------------------------------------------------\u001b[0m\n\u001b[0;31mNameError\u001b[0m                                 Traceback (most recent call last)",
        "\u001b[0;32m<ipython-input-14-8105eda4654e>\u001b[0m in \u001b[0;36m<module>\u001b[0;34m()\u001b[0m\n\u001b[1;32m      1\u001b[0m \u001b[0;31m#burn\u001b[0m\u001b[0;34m\u001b[0m\u001b[0;34m\u001b[0m\u001b[0m\n\u001b[0;32m----> 2\u001b[0;31m \u001b[0mpos\u001b[0m\u001b[0;34m,\u001b[0m\u001b[0mprob\u001b[0m\u001b[0;34m,\u001b[0m\u001b[0mstate\u001b[0m \u001b[0;34m=\u001b[0m \u001b[0msampler\u001b[0m\u001b[0;34m.\u001b[0m\u001b[0mrun_mcmc\u001b[0m\u001b[0;34m(\u001b[0m\u001b[0mp0\u001b[0m\u001b[0;34m,\u001b[0m \u001b[0;36m500\u001b[0m\u001b[0;34m)\u001b[0m\u001b[0;34m\u001b[0m\u001b[0m\n\u001b[0m",
        "\u001b[0;31mNameError\u001b[0m: name 'sampler' is not defined"
       ]
      }
     ],
     "prompt_number": 14
    },
    {
     "cell_type": "code",
     "collapsed": false,
     "input": [
      "#post-burn\n",
      "sampler.reset()\n",
      "pos,prob,state = sampler.run_mcmc(pos, 1000)"
     ],
     "language": "python",
     "metadata": {},
     "outputs": [
      {
       "ename": "NameError",
       "evalue": "name 'sampler' is not defined",
       "output_type": "pyerr",
       "traceback": [
        "\u001b[0;31m---------------------------------------------------------------------------\u001b[0m\n\u001b[0;31mNameError\u001b[0m                                 Traceback (most recent call last)",
        "\u001b[0;32m<ipython-input-11-32a4a205944d>\u001b[0m in \u001b[0;36m<module>\u001b[0;34m()\u001b[0m\n\u001b[1;32m      1\u001b[0m \u001b[0;31m#post-burn\u001b[0m\u001b[0;34m\u001b[0m\u001b[0;34m\u001b[0m\u001b[0m\n\u001b[0;32m----> 2\u001b[0;31m \u001b[0msampler\u001b[0m\u001b[0;34m.\u001b[0m\u001b[0mreset\u001b[0m\u001b[0;34m(\u001b[0m\u001b[0;34m)\u001b[0m\u001b[0;34m\u001b[0m\u001b[0m\n\u001b[0m\u001b[1;32m      3\u001b[0m \u001b[0mpos\u001b[0m\u001b[0;34m,\u001b[0m\u001b[0mprob\u001b[0m\u001b[0;34m,\u001b[0m\u001b[0mstate\u001b[0m \u001b[0;34m=\u001b[0m \u001b[0msampler\u001b[0m\u001b[0;34m.\u001b[0m\u001b[0mrun_mcmc\u001b[0m\u001b[0;34m(\u001b[0m\u001b[0mpos\u001b[0m\u001b[0;34m,\u001b[0m \u001b[0;36m1000\u001b[0m\u001b[0;34m)\u001b[0m\u001b[0;34m\u001b[0m\u001b[0m\n",
        "\u001b[0;31mNameError\u001b[0m: name 'sampler' is not defined"
       ]
      }
     ],
     "prompt_number": 11
    },
    {
     "cell_type": "code",
     "collapsed": false,
     "input": [
      "import triangle\n",
      "tmp = triangle.corner(sampler.flatchain, labels=['alpha','betax','betay','eps'], \n",
      "                      truths=[alpha_true, beta_x_true, beta_y_true, eps_true])"
     ],
     "language": "python",
     "metadata": {},
     "outputs": [
      {
       "ename": "NameError",
       "evalue": "name 'sampler' is not defined",
       "output_type": "pyerr",
       "traceback": [
        "\u001b[0;31m---------------------------------------------------------------------------\u001b[0m\n\u001b[0;31mNameError\u001b[0m                                 Traceback (most recent call last)",
        "\u001b[0;32m<ipython-input-12-8df4f4200951>\u001b[0m in \u001b[0;36m<module>\u001b[0;34m()\u001b[0m\n\u001b[1;32m      1\u001b[0m \u001b[0;32mimport\u001b[0m \u001b[0mtriangle\u001b[0m\u001b[0;34m\u001b[0m\u001b[0m\n\u001b[0;32m----> 2\u001b[0;31m tmp = triangle.corner(sampler.flatchain, labels=['alpha','betax','betay','eps'], \n\u001b[0m\u001b[1;32m      3\u001b[0m                       truths=[alpha_true, beta_x_true, beta_y_true, eps_true])\n",
        "\u001b[0;31mNameError\u001b[0m: name 'sampler' is not defined"
       ]
      }
     ],
     "prompt_number": 12
    },
    {
     "cell_type": "code",
     "collapsed": false,
     "input": [],
     "language": "python",
     "metadata": {},
     "outputs": []
    }
   ],
   "metadata": {}
  }
 ]
}