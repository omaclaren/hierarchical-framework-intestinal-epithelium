{
 "metadata": {
  "name": "",
  "signature": "sha256:6c2b94f4c6c325b8c0c7c7ec1c0cdec78d4a7aafdf1b1ee1e875980b6b800dd8"
 },
 "nbformat": 3,
 "nbformat_minor": 0,
 "worksheets": [
  {
   "cells": [
    {
     "cell_type": "markdown",
     "metadata": {},
     "source": [
      "Author: OJM  \n",
      "Copied over to git 241014 based on notebook created 230714 which was a copy of notebook created 110714.\n",
      "Minimal/non-verbose? \n",
      "\n",
      "##Question - is this out of date? Superseeded by py files? Will start new/branch I think.\n",
      "\n",
      "Based on following notebooks: \n",
      "\n",
      "+ Data Analysis Crypt Villus 100814  \n",
      "+ PDE PyClaw Crypt Villus 080714"
     ]
    },
    {
     "cell_type": "code",
     "collapsed": false,
     "input": [
      "import numpy as np\n",
      "import scipy as sp\n",
      "import matplotlib as mpl\n",
      "import matplotlib.pyplot as plt\n",
      "import os\n",
      "%matplotlib inline\n",
      "%load_ext autoreload\n",
      "%autoreload 2"
     ],
     "language": "python",
     "metadata": {},
     "outputs": [],
     "prompt_number": 3
    },
    {
     "cell_type": "markdown",
     "metadata": {},
     "source": [
      "### Data analysis functions"
     ]
    },
    {
     "cell_type": "code",
     "collapsed": false,
     "input": [
      "import data_analysis as da\n",
      "#da.process_and_fit_all_data()"
     ],
     "language": "python",
     "metadata": {},
     "outputs": [],
     "prompt_number": 10
    },
    {
     "cell_type": "markdown",
     "metadata": {},
     "source": [
      "###Simulation functions - PyClaw"
     ]
    },
    {
     "cell_type": "code",
     "collapsed": false,
     "input": [
      "import sims"
     ],
     "language": "python",
     "metadata": {},
     "outputs": [],
     "prompt_number": 1
    },
    {
     "cell_type": "code",
     "collapsed": false,
     "input": [
      "v= sims.velocity_piecewise()\n",
      "x= np.arange(0.0,1.1,0.1) #NOTE TO SELF - END NEEDS TO BE +ONE STEP\n",
      "plt.plot(x,v(x))\n",
      "plt.ylim(0,1)\n",
      "\n",
      "v2= sims.velocity_piecewise(xl_2=0.3)\n",
      "plt.plot(x,v2(x))\n",
      "plt.ylim(0,1)"
     ],
     "language": "python",
     "metadata": {},
     "outputs": [
      {
       "ename": "TypeError",
       "evalue": "velocity_piecewise() got an unexpected keyword argument 'xl_2'",
       "output_type": "pyerr",
       "traceback": [
        "\u001b[0;31m---------------------------------------------------------------------------\u001b[0m\n\u001b[0;31mTypeError\u001b[0m                                 Traceback (most recent call last)",
        "\u001b[0;32m<ipython-input-4-d99888e0814b>\u001b[0m in \u001b[0;36m<module>\u001b[0;34m()\u001b[0m\n\u001b[1;32m      4\u001b[0m \u001b[0mplt\u001b[0m\u001b[0;34m.\u001b[0m\u001b[0mylim\u001b[0m\u001b[0;34m(\u001b[0m\u001b[0;36m0\u001b[0m\u001b[0;34m,\u001b[0m\u001b[0;36m1\u001b[0m\u001b[0;34m)\u001b[0m\u001b[0;34m\u001b[0m\u001b[0m\n\u001b[1;32m      5\u001b[0m \u001b[0;34m\u001b[0m\u001b[0m\n\u001b[0;32m----> 6\u001b[0;31m \u001b[0mv2\u001b[0m\u001b[0;34m=\u001b[0m \u001b[0msims\u001b[0m\u001b[0;34m.\u001b[0m\u001b[0mvelocity_piecewise\u001b[0m\u001b[0;34m(\u001b[0m\u001b[0mxl_2\u001b[0m\u001b[0;34m=\u001b[0m\u001b[0;36m0.3\u001b[0m\u001b[0;34m)\u001b[0m\u001b[0;34m\u001b[0m\u001b[0m\n\u001b[0m\u001b[1;32m      7\u001b[0m \u001b[0mplt\u001b[0m\u001b[0;34m.\u001b[0m\u001b[0mplot\u001b[0m\u001b[0;34m(\u001b[0m\u001b[0mx\u001b[0m\u001b[0;34m,\u001b[0m\u001b[0mv2\u001b[0m\u001b[0;34m(\u001b[0m\u001b[0mx\u001b[0m\u001b[0;34m)\u001b[0m\u001b[0;34m)\u001b[0m\u001b[0;34m\u001b[0m\u001b[0m\n\u001b[1;32m      8\u001b[0m \u001b[0mplt\u001b[0m\u001b[0;34m.\u001b[0m\u001b[0mylim\u001b[0m\u001b[0;34m(\u001b[0m\u001b[0;36m0\u001b[0m\u001b[0;34m,\u001b[0m\u001b[0;36m1\u001b[0m\u001b[0;34m)\u001b[0m\u001b[0;34m\u001b[0m\u001b[0m\n",
        "\u001b[0;31mTypeError\u001b[0m: velocity_piecewise() got an unexpected keyword argument 'xl_2'"
       ]
      },
      {
       "metadata": {},
       "output_type": "display_data",
       "png": "[encoded data removed]",
       "text": [
        "<matplotlib.figure.Figure at 0x1063af350>"
       ]
      }
     ],
     "prompt_number": 4
    },
    {
     "cell_type": "code",
     "collapsed": false,
     "input": [
      "import sims\n",
      "asim= sims.run_sim()\n",
      "#sims.run_sim.func_doc"
     ],
     "language": "python",
     "metadata": {},
     "outputs": [
      {
       "output_type": "stream",
       "stream": "stdout",
       "text": [
        "['BrdU_01_0010min.txt', 'BrdU_01_0020min.txt', 'BrdU_01_0030min.txt', 'BrdU_01_0045min.txt', 'BrdU_01_0060min.txt', 'BrdU_01_0120min.txt', 'BrdU_01_0360min.txt', 'BrdU_01_0600min.txt', 'BrdU_01_1920min.txt', 'BrdU_01_3360min.txt', 'BrdU_01_4320min.txt', 'BrdU_01_4800min.txt']\n",
        "BrdU_01_0060min.txt\n",
        "plot labelled fraction and original data"
       ]
      },
      {
       "output_type": "stream",
       "stream": "stdout",
       "text": [
        "\n",
        "raw and interpolated (normalised)"
       ]
      },
      {
       "output_type": "stream",
       "stream": "stdout",
       "text": [
        "\n",
        "2014-08-04 15:36:20,990 INFO CLAW: Solution 0 computed for time t=0.000000\n"
       ]
      },
      {
       "output_type": "stream",
       "stream": "stdout",
       "text": [
        "2014-08-04 15:36:20,998 INFO CLAW: Solution 1 computed for time t=0.032258\n"
       ]
      },
      {
       "output_type": "stream",
       "stream": "stdout",
       "text": [
        "2014-08-04 15:36:21,019 INFO CLAW: Solution 2 computed for time t=0.161290\n"
       ]
      },
      {
       "output_type": "stream",
       "stream": "stdout",
       "text": [
        "2014-08-04 15:36:21,039 INFO CLAW: Solution 3 computed for time t=0.290323\n"
       ]
      },
      {
       "output_type": "stream",
       "stream": "stdout",
       "text": [
        "2014-08-04 15:36:21,146 INFO CLAW: Solution 4 computed for time t=1.000000\n"
       ]
      }
     ],
     "prompt_number": 12
    },
    {
     "cell_type": "code",
     "collapsed": false,
     "input": [
      "#bsims= sims.opt_sim()"
     ],
     "language": "python",
     "metadata": {},
     "outputs": [],
     "prompt_number": 14
    },
    {
     "cell_type": "code",
     "collapsed": false,
     "input": [
      "for i in range(0,2):\n",
      "    print i"
     ],
     "language": "python",
     "metadata": {},
     "outputs": [
      {
       "output_type": "stream",
       "stream": "stdout",
       "text": [
        "0\n",
        "1\n"
       ]
      }
     ],
     "prompt_number": 18
    },
    {
     "cell_type": "code",
     "collapsed": false,
     "input": [
      "import numpy as np\n",
      "actual_times= np.array([60.,120.,360.,600.,1920.])\n",
      "actual_times.size"
     ],
     "language": "python",
     "metadata": {},
     "outputs": [
      {
       "metadata": {},
       "output_type": "pyout",
       "prompt_number": 28,
       "text": [
        "5"
       ]
      }
     ],
     "prompt_number": 28
    },
    {
     "cell_type": "code",
     "collapsed": false,
     "input": [
      "\"\"\"\n",
      "takes a directory, set of times and \n",
      "finds start file corresponding to first time in set\n",
      "gets initial profile fit\n",
      "uses as IC\n",
      "\n",
      "solves repeatedly using optimisation loop...TODO.\n",
      "returns best parameter set and simulation results at desired times in np arrays\n",
      "\"\"\"\n",
      "\n",
      "#set parameters and options\n",
      "#BrdU\n",
      "data_dir= './data-working/TXT_BrdU/'\n",
      "keyword='BrdU_Sim'\n",
      "actual_times= np.array([60.,120.,360.,600.,1920.])\n",
      "prec_time=4\n",
      "\n",
      "#-files\n",
      "files_in_dir= os.listdir(data_dir)\n",
      "files_in_dir.sort()\n",
      "print files_in_dir\n",
      "\n",
      "#start= actual_times[0]\n",
      "#time_format= '%0'+('%1d' % prec_time)+'d'\n",
      "#file0= get_ic_file('./data-working/TXT_BrdU/',time_format%start)\n",
      "#print file0\n",
      "\n",
      "#get initial profiles (and save to ouput file?) TODO: STOP OUTPUTTING PIC!\n",
      "xs_all, finterpe_norm_all, lsample_all, ylerr_all, yrerr_all= [], [], [], [], []\n",
      "time_format= '%0'+('%1d' % prec_time)+'d'\n",
      "for i in range(0,actual_times.size):\n",
      "    current= actual_times[i]\n",
      "    filec= sims.get_ic_file(data_dir,time_format%current) #use ic function. might be good to change name.\n",
      "    print filec\t\t\n",
      "    xs, finterpe_norm, lsample, ylerr, yrerr= da.process_and_fit_data_file(dir_fit= data_dir,time_to_fit = filec,key_fit=keyword,s=15)\n",
      "    #add to lists\n",
      "    xs_all.append(xs)\n",
      "    finterpe_norm_all.append(finterpe_norm)\n",
      "    lsample_all.append(lsample)\n",
      "    ylerr_all.append(ylerr)\n",
      "    yrerr_all.append(yrerr)\n",
      "    \n",
      "#convert between experimental times and simulation times\n",
      "out_times= (actual_times-min(actual_times))/(max(actual_times)-min(actual_times))\n",
      "print out_times\n",
      "\n",
      "def model(vscale_1= 1.5,vscale_2= 1.5,xl_1= 0.01,xl_2= 0.2,x=np.arange(0,2)): #form: y(p,x), p are parameters.\n",
      "    \n",
      "    #specify velocity function\n",
      "    print xl_2\n",
      "    v_function= sims.velocity_piecewise(vscale_1=vscale_1,vscale_2=vscale_2,xl_1=xl_1,xl_2=xl_2)\n",
      "    #set up simulation\n",
      "    controller= sims.setup(initial_profile_f=finterpe_norm_all[0],vel=v_function,out_times=out_times)\n",
      "    #run simulation\n",
      "    controller.run()\n",
      "    \n",
      "    #extract (all) simulation results\n",
      "    output_shape= [np.size(controller.frames[0].state.q[0,:],axis=0),np.size(controller.frames,axis=0)]\n",
      "    #print output_shape\n",
      "    l= np.zeros(output_shape)\n",
      "    xc= np.zeros(output_shape)\n",
      "    v= np.zeros(output_shape)\n",
      "    for i in range(0,np.size(controller.out_times,axis=0)):\n",
      "        l[:,i]= controller.frames[i].state.q[0,:]\n",
      "        #don't actually vary with time!\n",
      "        xc[:,i]= controller.frames[0].state.grid.c_centers[0]\n",
      "        v[:,i]= controller.frames[0].state.aux[0,:]\n",
      "    #print 'below'\n",
      "    #print np.interp(x, xc[:,1], l[:,1])\n",
      "    #print 'above'\n",
      "    return np.interp(x, xc[:,3], l[:,3]) #evaluated at x, according to an interp.\n",
      "\n",
      "    \n",
      "def residuals(pvar,xs,fdata): #form res(pvar,x,ydata), where pvar are the variable parameters.\n",
      "    #TODO - x,t\t\t\n",
      "    vscale_1= 1.5\n",
      "    xl_1= 0.01\n",
      "    xl_2= pvar[0]\n",
      "    vscale_2= pvar[1]\n",
      "    #xl_1= 0.01\n",
      "    if (xl_2 >= xl_1) and (xl_2 <= 1) and (xl_1 >= 0) and (vscale_2 >=0): #TEMP HACK. TODO.\n",
      "        #TODO - NEED DATA AT EACH TIME POINT!!! CURRENTLY INITIAL PROFILE!!\n",
      "        #err= 100.0*(fdata(xs)-model(xl_1=xl_1,xl_2=xl_2,x=xs) + np.random.normal(0.0,0.001))\n",
      "        err= 1.0*(fdata(xs)-model(vscale_2= vscale_2,xl_2=xl_2,x=xs))\n",
      "        print err\n",
      "        print np.sum(err**2)\n",
      "        print xl_2\n",
      "    else:\n",
      "        err = np.inf\n",
      "    return err\n",
      "\n",
      "import scipy.optimize as sciopt\n",
      "p0= np.array([0.01,0.01])\n",
      "plsq= sciopt.leastsq(residuals,p0,args= (xs_all[3],finterpe_norm_all[3]))\n",
      "print plsq[0]\n",
      "\n",
      "#return l, v, xc\n"
     ],
     "language": "python",
     "metadata": {},
     "outputs": [
      {
       "output_type": "stream",
       "stream": "stdout",
       "text": [
        "['BrdU_01_0010min.txt', 'BrdU_01_0020min.txt', 'BrdU_01_0030min.txt', 'BrdU_01_0045min.txt', 'BrdU_01_0060min.txt', 'BrdU_01_0120min.txt', 'BrdU_01_0360min.txt', 'BrdU_01_0600min.txt', 'BrdU_01_1920min.txt', 'BrdU_01_3360min.txt', 'BrdU_01_4320min.txt', 'BrdU_01_4800min.txt']\n",
        "BrdU_01_0060min.txt\n",
        "plot labelled fraction and original data"
       ]
      },
      {
       "output_type": "stream",
       "stream": "stdout",
       "text": [
        "\n",
        "raw and interpolated (normalised)"
       ]
      },
      {
       "output_type": "stream",
       "stream": "stdout",
       "text": [
        "\n",
        "BrdU_01_0120min.txt\n",
        "plot labelled fraction and original data"
       ]
      },
      {
       "output_type": "stream",
       "stream": "stdout",
       "text": [
        "\n",
        "raw and interpolated (normalised)"
       ]
      },
      {
       "output_type": "stream",
       "stream": "stdout",
       "text": [
        "\n",
        "BrdU_01_0360min.txt\n",
        "plot labelled fraction and original data"
       ]
      },
      {
       "output_type": "stream",
       "stream": "stdout",
       "text": [
        "\n",
        "raw and interpolated (normalised)"
       ]
      },
      {
       "output_type": "stream",
       "stream": "stdout",
       "text": [
        "\n",
        "BrdU_01_0600min.txt\n",
        "plot labelled fraction and original data"
       ]
      },
      {
       "output_type": "stream",
       "stream": "stdout",
       "text": [
        "\n",
        "raw and interpolated (normalised)"
       ]
      },
      {
       "output_type": "stream",
       "stream": "stdout",
       "text": [
        "\n",
        "BrdU_01_1920min.txt\n",
        "plot labelled fraction and original data"
       ]
      },
      {
       "output_type": "stream",
       "stream": "stdout",
       "text": [
        "\n",
        "raw and interpolated (normalised)"
       ]
      },
      {
       "output_type": "stream",
       "stream": "stdout",
       "text": [
        "\n",
        "[ 0.          0.03225806  0.16129032  0.29032258  1.        ]\n",
        "0.01"
       ]
      },
      {
       "output_type": "stream",
       "stream": "stdout",
       "text": [
        "\n",
        "2014-08-04 19:22:57,730 INFO CLAW: Solution 0 computed for time t=0.000000\n"
       ]
      },
      {
       "output_type": "stream",
       "stream": "stdout",
       "text": [
        "2014-08-04 19:22:57,734 INFO CLAW: Solution 1 computed for time t=0.032258\n"
       ]
      },
      {
       "output_type": "stream",
       "stream": "stdout",
       "text": [
        "2014-08-04 19:22:57,738 INFO CLAW: Solution 2 computed for time t=0.161290\n"
       ]
      },
      {
       "output_type": "stream",
       "stream": "stdout",
       "text": [
        "2014-08-04 19:22:57,742 INFO CLAW: Solution 3 computed for time t=0.290323\n"
       ]
      },
      {
       "output_type": "stream",
       "stream": "stdout",
       "text": [
        "2014-08-04 19:22:57,748 INFO CLAW: Solution 4 computed for time t=1.000000\n"
       ]
      },
      {
       "output_type": "stream",
       "stream": "stdout",
       "text": [
        "[ -1.53667663e-03   4.13484895e-02   5.67189197e-02   4.36374513e-02\n",
        "   1.43853662e-02  -1.96350297e-02  -4.62721511e-02  -5.66162367e-02\n",
        "  -4.82814072e-02  -2.07614825e-02   2.79865403e-02   1.12706342e-01\n",
        "   2.38630459e-01   3.84848907e-01   5.17938106e-01   6.10594591e-01\n",
        "   6.55801607e-01   6.95086150e-01   7.17678886e-01   6.95246475e-01\n",
        "   6.46733292e-01   5.83104260e-01   5.05016871e-01   4.15221258e-01\n",
        "   3.20213430e-01   2.29365972e-01   1.52663262e-01   9.74469095e-02\n",
        "   6.24701143e-02   5.44877852e-02   1.69457350e-02   4.78073932e-05\n",
        "   5.59716324e-03   2.13572896e-05  -4.35061072e-06  -2.86802295e-06\n",
        "  -1.83048290e-06  -1.07059113e-06  -5.85456756e-07  -3.09943609e-07\n",
        "  -1.49063996e-07  -2.37846380e-08   8.03379795e-08   1.66837578e-07\n",
        "   2.37364991e-07   2.92616493e-07   3.32453934e-07   3.60708041e-07\n",
        "   3.78388894e-07   3.86417488e-07   3.83367125e-07   3.72246211e-07\n",
        "   3.55515340e-07   3.31830326e-07   3.01523092e-07   2.66214228e-07\n",
        "   2.26987497e-07   1.84525855e-07   1.39280158e-07   9.21402508e-08\n",
        "   4.42397129e-08  -3.73454045e-09  -5.08020112e-08  -9.57446788e-08\n",
        "  -1.37840729e-07  -1.76210113e-07  -2.09955296e-07  -2.36876950e-07\n",
        "  -2.56877900e-07  -2.69204718e-07  -2.71613377e-07  -2.64895805e-07\n",
        "  -2.46602126e-07  -2.16470066e-07  -1.74296612e-07  -1.18290840e-07\n",
        "  -4.71835892e-08   3.75694394e-08   1.36140463e-07   2.48993011e-07\n",
        "   3.85169747e-07]\n",
        "4.16767291173\n",
        "0.01\n",
        "0.01\n",
        "2014-08-04 19:22:57,756 INFO CLAW: Solution 0 computed for time t=0.000000\n"
       ]
      },
      {
       "output_type": "stream",
       "stream": "stdout",
       "text": [
        "2014-08-04 19:22:57,760 INFO CLAW: Solution 1 computed for time t=0.032258\n"
       ]
      },
      {
       "output_type": "stream",
       "stream": "stdout",
       "text": [
        "2014-08-04 19:22:57,765 INFO CLAW: Solution 2 computed for time t=0.161290\n"
       ]
      },
      {
       "output_type": "stream",
       "stream": "stdout",
       "text": [
        "2014-08-04 19:22:57,769 INFO CLAW: Solution 3 computed for time t=0.290323\n"
       ]
      },
      {
       "output_type": "stream",
       "stream": "stdout",
       "text": [
        "2014-08-04 19:22:57,774 INFO CLAW: Solution 4 computed for time t=1.000000\n"
       ]
      },
      {
       "output_type": "stream",
       "stream": "stdout",
       "text": [
        "[ -1.53667663e-03   4.13484895e-02   5.67189197e-02   4.36374513e-02\n",
        "   1.43853662e-02  -1.96350297e-02  -4.62721511e-02  -5.66162367e-02\n",
        "  -4.82814072e-02  -2.07614825e-02   2.79865403e-02   1.12706342e-01\n",
        "   2.38630459e-01   3.84848907e-01   5.17938106e-01   6.10594591e-01\n",
        "   6.55801607e-01   6.95086150e-01   7.17678886e-01   6.95246475e-01\n",
        "   6.46733292e-01   5.83104260e-01   5.05016871e-01   4.15221258e-01\n",
        "   3.20213430e-01   2.29365972e-01   1.52663262e-01   9.74469095e-02\n",
        "   6.24701143e-02   5.44877852e-02   1.69457350e-02   4.78073932e-05\n",
        "   5.59716324e-03   2.13572896e-05  -4.35061072e-06  -2.86802295e-06\n",
        "  -1.83048290e-06  -1.07059113e-06  -5.85456756e-07  -3.09943609e-07\n",
        "  -1.49063996e-07  -2.37846380e-08   8.03379795e-08   1.66837578e-07\n",
        "   2.37364991e-07   2.92616493e-07   3.32453934e-07   3.60708041e-07\n",
        "   3.78388894e-07   3.86417488e-07   3.83367125e-07   3.72246211e-07\n",
        "   3.55515340e-07   3.31830326e-07   3.01523092e-07   2.66214228e-07\n",
        "   2.26987497e-07   1.84525855e-07   1.39280158e-07   9.21402508e-08\n",
        "   4.42397129e-08  -3.73454045e-09  -5.08020112e-08  -9.57446788e-08\n",
        "  -1.37840729e-07  -1.76210113e-07  -2.09955296e-07  -2.36876950e-07\n",
        "  -2.56877900e-07  -2.69204718e-07  -2.71613377e-07  -2.64895805e-07\n",
        "  -2.46602126e-07  -2.16470066e-07  -1.74296612e-07  -1.18290840e-07\n",
        "  -4.71835892e-08   3.75694394e-08   1.36140463e-07   2.48993011e-07\n",
        "   3.85169747e-07]\n",
        "4.16767291173\n",
        "0.01\n",
        "0.01\n",
        "2014-08-04 19:22:57,781 INFO CLAW: Solution 0 computed for time t=0.000000\n"
       ]
      },
      {
       "output_type": "stream",
       "stream": "stdout",
       "text": [
        "2014-08-04 19:22:57,786 INFO CLAW: Solution 1 computed for time t=0.032258\n"
       ]
      },
      {
       "output_type": "stream",
       "stream": "stdout",
       "text": [
        "2014-08-04 19:22:57,791 INFO CLAW: Solution 2 computed for time t=0.161290\n"
       ]
      },
      {
       "output_type": "stream",
       "stream": "stdout",
       "text": [
        "2014-08-04 19:22:57,796 INFO CLAW: Solution 3 computed for time t=0.290323\n"
       ]
      },
      {
       "output_type": "stream",
       "stream": "stdout",
       "text": [
        "2014-08-04 19:22:57,802 INFO CLAW: Solution 4 computed for time t=1.000000\n"
       ]
      },
      {
       "output_type": "stream",
       "stream": "stdout",
       "text": [
        "[ -1.53667663e-03   4.13484895e-02   5.67189197e-02   4.36374513e-02\n",
        "   1.43853662e-02  -1.96350297e-02  -4.62721511e-02  -5.66162367e-02\n",
        "  -4.82814072e-02  -2.07614825e-02   2.79865403e-02   1.12706342e-01\n",
        "   2.38630459e-01   3.84848907e-01   5.17938106e-01   6.10594591e-01\n",
        "   6.55801607e-01   6.95086150e-01   7.17678886e-01   6.95246475e-01\n",
        "   6.46733292e-01   5.83104260e-01   5.05016871e-01   4.15221258e-01\n",
        "   3.20213430e-01   2.29365972e-01   1.52663262e-01   9.74469095e-02\n",
        "   6.24701143e-02   5.44877852e-02   1.69457350e-02   4.78073932e-05\n",
        "   5.59716324e-03   2.13572896e-05  -4.35061072e-06  -2.86802295e-06\n",
        "  -1.83048290e-06  -1.07059113e-06  -5.85456756e-07  -3.09943609e-07\n",
        "  -1.49063996e-07  -2.37846380e-08   8.03379795e-08   1.66837578e-07\n",
        "   2.37364991e-07   2.92616493e-07   3.32453934e-07   3.60708041e-07\n",
        "   3.78388894e-07   3.86417488e-07   3.83367125e-07   3.72246211e-07\n",
        "   3.55515340e-07   3.31830326e-07   3.01523092e-07   2.66214228e-07\n",
        "   2.26987497e-07   1.84525855e-07   1.39280158e-07   9.21402508e-08\n",
        "   4.42397129e-08  -3.73454045e-09  -5.08020112e-08  -9.57446788e-08\n",
        "  -1.37840729e-07  -1.76210113e-07  -2.09955296e-07  -2.36876950e-07\n",
        "  -2.56877900e-07  -2.69204718e-07  -2.71613377e-07  -2.64895805e-07\n",
        "  -2.46602126e-07  -2.16470066e-07  -1.74296612e-07  -1.18290840e-07\n",
        "  -4.71835892e-08   3.75694394e-08   1.36140463e-07   2.48993011e-07\n",
        "   3.85169747e-07]\n",
        "4.16767291173\n",
        "0.01\n",
        "0.010000000149\n",
        "2014-08-04 19:22:57,814 INFO CLAW: Solution 0 computed for time t=0.000000\n"
       ]
      },
      {
       "output_type": "stream",
       "stream": "stdout",
       "text": [
        "2014-08-04 19:22:57,818 INFO CLAW: Solution 1 computed for time t=0.032258\n"
       ]
      },
      {
       "output_type": "stream",
       "stream": "stdout",
       "text": [
        "2014-08-04 19:22:57,822 INFO CLAW: Solution 2 computed for time t=0.161290\n"
       ]
      },
      {
       "output_type": "stream",
       "stream": "stdout",
       "text": [
        "2014-08-04 19:22:57,826 INFO CLAW: Solution 3 computed for time t=0.290323\n"
       ]
      },
      {
       "output_type": "stream",
       "stream": "stdout",
       "text": [
        "2014-08-04 19:22:57,831 INFO CLAW: Solution 4 computed for time t=1.000000\n"
       ]
      },
      {
       "output_type": "stream",
       "stream": "stdout",
       "text": [
        "[ -1.53667663e-03   4.13484895e-02   5.67189197e-02   4.36374513e-02\n",
        "   1.43853662e-02  -1.96350297e-02  -4.62721511e-02  -5.66162367e-02\n",
        "  -4.82814072e-02  -2.07614825e-02   2.79865403e-02   1.12706342e-01\n",
        "   2.38630459e-01   3.84848907e-01   5.17938106e-01   6.10594591e-01\n",
        "   6.55801607e-01   6.95086150e-01   7.17678886e-01   6.95246475e-01\n",
        "   6.46733292e-01   5.83104260e-01   5.05016871e-01   4.15221258e-01\n",
        "   3.20213430e-01   2.29365972e-01   1.52663262e-01   9.74469095e-02\n",
        "   6.24701143e-02   5.44877852e-02   1.69457350e-02   4.78073932e-05\n",
        "   5.59716324e-03   2.13572896e-05  -4.35061072e-06  -2.86802295e-06\n",
        "  -1.83048290e-06  -1.07059113e-06  -5.85456756e-07  -3.09943609e-07\n",
        "  -1.49063996e-07  -2.37846380e-08   8.03379795e-08   1.66837578e-07\n",
        "   2.37364991e-07   2.92616493e-07   3.32453934e-07   3.60708041e-07\n",
        "   3.78388894e-07   3.86417488e-07   3.83367125e-07   3.72246211e-07\n",
        "   3.55515340e-07   3.31830326e-07   3.01523092e-07   2.66214228e-07\n",
        "   2.26987497e-07   1.84525855e-07   1.39280158e-07   9.21402508e-08\n",
        "   4.42397129e-08  -3.73454045e-09  -5.08020112e-08  -9.57446787e-08\n",
        "  -1.37840729e-07  -1.76210113e-07  -2.09955296e-07  -2.36876950e-07\n",
        "  -2.56877900e-07  -2.69204718e-07  -2.71613377e-07  -2.64895805e-07\n",
        "  -2.46602126e-07  -2.16470066e-07  -1.74296612e-07  -1.18290840e-07\n",
        "  -4.71835892e-08   3.75694394e-08   1.36140463e-07   2.48993011e-07\n",
        "   3.85169747e-07]\n",
        "4.16767291171\n",
        "0.010000000149\n",
        "0.01\n",
        "2014-08-04 19:22:57,841 INFO CLAW: Solution 0 computed for time t=0.000000\n"
       ]
      },
      {
       "output_type": "stream",
       "stream": "stdout",
       "text": [
        "2014-08-04 19:22:57,847 INFO CLAW: Solution 1 computed for time t=0.032258\n"
       ]
      },
      {
       "output_type": "stream",
       "stream": "stdout",
       "text": [
        "2014-08-04 19:22:57,852 INFO CLAW: Solution 2 computed for time t=0.161290\n"
       ]
      },
      {
       "output_type": "stream",
       "stream": "stdout",
       "text": [
        "2014-08-04 19:22:57,858 INFO CLAW: Solution 3 computed for time t=0.290323\n"
       ]
      },
      {
       "output_type": "stream",
       "stream": "stdout",
       "text": [
        "2014-08-04 19:22:57,865 INFO CLAW: Solution 4 computed for time t=1.000000\n"
       ]
      },
      {
       "output_type": "stream",
       "stream": "stdout",
       "text": [
        "[ -1.53667663e-03   4.13484895e-02   5.67189197e-02   4.36374513e-02\n",
        "   1.43853662e-02  -1.96350297e-02  -4.62721511e-02  -5.66162367e-02\n",
        "  -4.82814072e-02  -2.07614825e-02   2.79865403e-02   1.12706342e-01\n",
        "   2.38630459e-01   3.84848907e-01   5.17938106e-01   6.10594591e-01\n",
        "   6.55801607e-01   6.95086150e-01   7.17678886e-01   6.95246475e-01\n",
        "   6.46733292e-01   5.83104260e-01   5.05016871e-01   4.15221258e-01\n",
        "   3.20213430e-01   2.29365972e-01   1.52663262e-01   9.74469095e-02\n",
        "   6.24701143e-02   5.44877852e-02   1.69457350e-02   4.78073932e-05\n",
        "   5.59716324e-03   2.13572896e-05  -4.35061072e-06  -2.86802295e-06\n",
        "  -1.83048290e-06  -1.07059113e-06  -5.85456756e-07  -3.09943609e-07\n",
        "  -1.49063996e-07  -2.37846380e-08   8.03379795e-08   1.66837578e-07\n",
        "   2.37364991e-07   2.92616493e-07   3.32453934e-07   3.60708041e-07\n",
        "   3.78388894e-07   3.86417488e-07   3.83367125e-07   3.72246211e-07\n",
        "   3.55515340e-07   3.31830326e-07   3.01523092e-07   2.66214228e-07\n",
        "   2.26987497e-07   1.84525855e-07   1.39280158e-07   9.21402508e-08\n",
        "   4.42397129e-08  -3.73454045e-09  -5.08020112e-08  -9.57446788e-08\n",
        "  -1.37840729e-07  -1.76210113e-07  -2.09955296e-07  -2.36876950e-07\n",
        "  -2.56877900e-07  -2.69204718e-07  -2.71613377e-07  -2.64895805e-07\n",
        "  -2.46602126e-07  -2.16470066e-07  -1.74296612e-07  -1.18290840e-07\n",
        "  -4.71835892e-08   3.75694394e-08   1.36140463e-07   2.48993011e-07\n",
        "   3.85169747e-07]\n",
        "4.16767291173\n",
        "0.01\n",
        "0.128515198556\n",
        "2014-08-04 19:22:57,873 INFO CLAW: Solution 0 computed for time t=0.000000\n"
       ]
      },
      {
       "output_type": "stream",
       "stream": "stdout",
       "text": [
        "2014-08-04 19:22:57,877 INFO CLAW: Solution 1 computed for time t=0.032258\n"
       ]
      },
      {
       "output_type": "stream",
       "stream": "stdout",
       "text": [
        "2014-08-04 19:22:57,882 INFO CLAW: Solution 2 computed for time t=0.161290\n"
       ]
      },
      {
       "output_type": "stream",
       "stream": "stdout",
       "text": [
        "2014-08-04 19:22:57,886 INFO CLAW: Solution 3 computed for time t=0.290323\n"
       ]
      },
      {
       "output_type": "stream",
       "stream": "stdout",
       "text": [
        "2014-08-04 19:22:57,892 INFO CLAW: Solution 4 computed for time t=1.000000\n"
       ]
      },
      {
       "output_type": "stream",
       "stream": "stdout",
       "text": [
        "[ -1.53667663e-03   4.13618439e-02   5.68490297e-02   4.40884677e-02\n",
        "   1.51716978e-02  -1.86585350e-02  -4.52978885e-02  -5.58521444e-02\n",
        "  -4.78937182e-02  -2.08640121e-02   2.69593163e-02   1.10279709e-01\n",
        "   2.34995938e-01   3.80922892e-01   5.14743730e-01   6.08496068e-01\n",
        "   6.54346877e-01   6.93533993e-01   7.16757851e-01   6.95131767e-01\n",
        "   6.46728457e-01   5.83103981e-01   5.05016779e-01   4.15221212e-01\n",
        "   3.20213408e-01   2.29365965e-01   1.52663265e-01   9.74469218e-02\n",
        "   6.24701328e-02   5.44878066e-02   1.69457554e-02   4.78238669e-05\n",
        "   5.59717505e-03   2.13645348e-05  -4.34749482e-06  -2.86802188e-06\n",
        "  -1.83362915e-06  -1.07595147e-06  -5.91891941e-07  -3.16683880e-07\n",
        "  -1.55358855e-07  -2.92720902e-08   7.56695444e-08   1.62920740e-07\n",
        "   2.34134979e-07   2.90012935e-07   3.30418313e-07   3.59193111e-07\n",
        "   3.77351021e-07   3.85815853e-07   3.83154825e-07   3.72343990e-07\n",
        "   3.55977026e-07   3.32597314e-07   3.02538691e-07   2.67446901e-07\n",
        "   2.28404167e-07   1.86093328e-07   1.40962283e-07   9.38994886e-08\n",
        "   4.60407825e-08  -1.93132484e-09  -4.90362360e-08  -9.40549691e-08\n",
        "  -1.36266050e-07  -1.74790155e-07  -2.08730266e-07  -2.35893330e-07\n",
        "  -2.56176596e-07  -2.68832876e-07  -2.71553356e-07  -2.65223395e-07\n",
        "  -2.47425738e-07  -2.17770765e-07  -1.76105048e-07  -1.20637843e-07\n",
        "  -5.00952606e-08   3.40740453e-08   1.32047196e-07   2.44293037e-07\n",
        "   3.80176046e-07]\n",
        "4.15077495124\n",
        "0.128515198556\n",
        "0.128515200471\n",
        "2014-08-04 19:22:57,901 INFO CLAW: Solution 0 computed for time t=0.000000\n"
       ]
      },
      {
       "output_type": "stream",
       "stream": "stdout",
       "text": [
        "2014-08-04 19:22:57,907 INFO CLAW: Solution 1 computed for time t=0.032258\n"
       ]
      },
      {
       "output_type": "stream",
       "stream": "stdout",
       "text": [
        "2014-08-04 19:22:57,912 INFO CLAW: Solution 2 computed for time t=0.161290\n"
       ]
      },
      {
       "output_type": "stream",
       "stream": "stdout",
       "text": [
        "2014-08-04 19:22:57,918 INFO CLAW: Solution 3 computed for time t=0.290323\n"
       ]
      },
      {
       "output_type": "stream",
       "stream": "stdout",
       "text": [
        "2014-08-04 19:22:57,925 INFO CLAW: Solution 4 computed for time t=1.000000\n"
       ]
      },
      {
       "output_type": "stream",
       "stream": "stdout",
       "text": [
        "[ -1.53667663e-03   4.13618439e-02   5.68490297e-02   4.40884677e-02\n",
        "   1.51716978e-02  -1.86585350e-02  -4.52978885e-02  -5.58521444e-02\n",
        "  -4.78937182e-02  -2.08640121e-02   2.69593163e-02   1.10279709e-01\n",
        "   2.34995938e-01   3.80922892e-01   5.14743730e-01   6.08496068e-01\n",
        "   6.54346877e-01   6.93533993e-01   7.16757851e-01   6.95131767e-01\n",
        "   6.46728457e-01   5.83103981e-01   5.05016779e-01   4.15221212e-01\n",
        "   3.20213408e-01   2.29365965e-01   1.52663265e-01   9.74469218e-02\n",
        "   6.24701328e-02   5.44878066e-02   1.69457554e-02   4.78238669e-05\n",
        "   5.59717505e-03   2.13645348e-05  -4.34749482e-06  -2.86802188e-06\n",
        "  -1.83362915e-06  -1.07595147e-06  -5.91891942e-07  -3.16683880e-07\n",
        "  -1.55358855e-07  -2.92720903e-08   7.56695443e-08   1.62920740e-07\n",
        "   2.34134979e-07   2.90012935e-07   3.30418312e-07   3.59193111e-07\n",
        "   3.77351021e-07   3.85815853e-07   3.83154825e-07   3.72343990e-07\n",
        "   3.55977026e-07   3.32597314e-07   3.02538691e-07   2.67446901e-07\n",
        "   2.28404167e-07   1.86093328e-07   1.40962283e-07   9.38994886e-08\n",
        "   4.60407826e-08  -1.93132481e-09  -4.90362360e-08  -9.40549691e-08\n",
        "  -1.36266050e-07  -1.74790155e-07  -2.08730266e-07  -2.35893330e-07\n",
        "  -2.56176596e-07  -2.68832876e-07  -2.71553356e-07  -2.65223395e-07\n",
        "  -2.47425738e-07  -2.17770765e-07  -1.76105048e-07  -1.20637843e-07\n",
        "  -5.00952607e-08   3.40740453e-08   1.32047196e-07   2.44293037e-07\n",
        "   3.80176046e-07]\n",
        "4.15077495097\n",
        "0.128515200471\n",
        "0.128515198556\n",
        "2014-08-04 19:22:57,933 INFO CLAW: Solution 0 computed for time t=0.000000\n"
       ]
      },
      {
       "output_type": "stream",
       "stream": "stdout",
       "text": [
        "2014-08-04 19:22:57,938 INFO CLAW: Solution 1 computed for time t=0.032258\n"
       ]
      },
      {
       "output_type": "stream",
       "stream": "stdout",
       "text": [
        "2014-08-04 19:22:57,942 INFO CLAW: Solution 2 computed for time t=0.161290\n"
       ]
      },
      {
       "output_type": "stream",
       "stream": "stdout",
       "text": [
        "2014-08-04 19:22:57,946 INFO CLAW: Solution 3 computed for time t=0.290323\n"
       ]
      },
      {
       "output_type": "stream",
       "stream": "stdout",
       "text": [
        "2014-08-04 19:22:57,952 INFO CLAW: Solution 4 computed for time t=1.000000\n"
       ]
      },
      {
       "output_type": "stream",
       "stream": "stdout",
       "text": [
        "[ -1.53667663e-03   4.13618439e-02   5.68490297e-02   4.40884677e-02\n",
        "   1.51716978e-02  -1.86585350e-02  -4.52978885e-02  -5.58521444e-02\n",
        "  -4.78937182e-02  -2.08640121e-02   2.69593163e-02   1.10279709e-01\n",
        "   2.34995938e-01   3.80922892e-01   5.14743730e-01   6.08496068e-01\n",
        "   6.54346877e-01   6.93533993e-01   7.16757851e-01   6.95131767e-01\n",
        "   6.46728457e-01   5.83103981e-01   5.05016779e-01   4.15221212e-01\n",
        "   3.20213408e-01   2.29365965e-01   1.52663265e-01   9.74469218e-02\n",
        "   6.24701328e-02   5.44878066e-02   1.69457554e-02   4.78238669e-05\n",
        "   5.59717505e-03   2.13645348e-05  -4.34749482e-06  -2.86802188e-06\n",
        "  -1.83362915e-06  -1.07595147e-06  -5.91891942e-07  -3.16683880e-07\n",
        "  -1.55358855e-07  -2.92720902e-08   7.56695443e-08   1.62920740e-07\n",
        "   2.34134979e-07   2.90012935e-07   3.30418312e-07   3.59193111e-07\n",
        "   3.77351021e-07   3.85815853e-07   3.83154825e-07   3.72343990e-07\n",
        "   3.55977026e-07   3.32597314e-07   3.02538691e-07   2.67446901e-07\n",
        "   2.28404167e-07   1.86093328e-07   1.40962283e-07   9.38994886e-08\n",
        "   4.60407826e-08  -1.93132481e-09  -4.90362360e-08  -9.40549691e-08\n",
        "  -1.36266050e-07  -1.74790155e-07  -2.08730266e-07  -2.35893330e-07\n",
        "  -2.56176596e-07  -2.68832876e-07  -2.71553356e-07  -2.65223395e-07\n",
        "  -2.47425738e-07  -2.17770765e-07  -1.76105048e-07  -1.20637843e-07\n",
        "  -5.00952606e-08   3.40740453e-08   1.32047196e-07   2.44293037e-07\n",
        "   3.80176046e-07]\n",
        "4.15077495099\n",
        "0.128515198556\n",
        "0.296558878421\n",
        "2014-08-04 19:22:57,961 INFO CLAW: Solution 0 computed for time t=0.000000\n"
       ]
      },
      {
       "output_type": "stream",
       "stream": "stdout",
       "text": [
        "2014-08-04 19:22:57,967 INFO CLAW: Solution 1 computed for time t=0.032258\n"
       ]
      },
      {
       "output_type": "stream",
       "stream": "stdout",
       "text": [
        "2014-08-04 19:22:57,973 INFO CLAW: Solution 2 computed for time t=0.161290\n"
       ]
      },
      {
       "output_type": "stream",
       "stream": "stdout",
       "text": [
        "2014-08-04 19:22:57,978 INFO CLAW: Solution 3 computed for time t=0.290323\n"
       ]
      },
      {
       "output_type": "stream",
       "stream": "stdout",
       "text": [
        "2014-08-04 19:22:57,985 INFO CLAW: Solution 4 computed for time t=1.000000\n"
       ]
      },
      {
       "output_type": "stream",
       "stream": "stdout",
       "text": [
        "[ -1.53667663e-03   4.13798230e-02   5.70237386e-02   4.46936565e-02\n",
        "   1.62283063e-02  -1.73434570e-02  -4.39818985e-02  -5.48141705e-02\n",
        "  -4.73600121e-02  -2.09843618e-02   2.56167429e-02   1.06968527e-01\n",
        "   2.29342178e-01   3.73839325e-01   5.08153391e-01   6.03607717e-01\n",
        "   6.50633386e-01   6.89183159e-01   7.13893399e-01   6.94709482e-01\n",
        "   6.46707829e-01   5.83102803e-01   5.05016398e-01   4.15221010e-01\n",
        "   3.20213306e-01   2.29365930e-01   1.52663276e-01   9.74469766e-02\n",
        "   6.24702176e-02   5.44879058e-02   1.69458520e-02   4.79026453e-05\n",
        "   5.59723210e-03   2.14000831e-05  -4.33166079e-06  -2.86704938e-06\n",
        "  -1.84728514e-06  -1.10035654e-06  -6.21669377e-07  -3.48241398e-07\n",
        "  -1.85083561e-07  -5.52739619e-08   5.35222910e-08   1.44318209e-07\n",
        "   2.18771437e-07   2.77603344e-07   3.20686573e-07   3.51916476e-07\n",
        "   3.72323917e-07   3.82846142e-07   3.82037850e-07   3.72710422e-07\n",
        "   3.58005589e-07   3.36086889e-07   3.07202184e-07   2.73139470e-07\n",
        "   2.34970802e-07   1.93378770e-07   1.48797513e-07   1.02109065e-07\n",
        "   5.44600348e-08   6.51798641e-09  -4.07489965e-08  -8.61091378e-08\n",
        "  -1.28843604e-07  -1.68076681e-07  -2.02913830e-07  -2.31191484e-07\n",
        "  -2.52780808e-07  -2.66963328e-07  -2.71211390e-07  -2.66591300e-07\n",
        "  -2.51108075e-07  -2.23681908e-07  -1.84380248e-07  -1.31423956e-07\n",
        "  -6.35161577e-08   1.79273894e-08   1.13106571e-07   2.22514879e-07\n",
        "   3.56660339e-07]\n",
        "4.11355410861\n",
        "0.296558878421\n",
        "0.296558882841\n",
        "2014-08-04 19:22:57,992 INFO CLAW: Solution 0 computed for time t=0.000000\n"
       ]
      },
      {
       "output_type": "stream",
       "stream": "stdout",
       "text": [
        "2014-08-04 19:22:57,997 INFO CLAW: Solution 1 computed for time t=0.032258\n"
       ]
      },
      {
       "output_type": "stream",
       "stream": "stdout",
       "text": [
        "2014-08-04 19:22:58,001 INFO CLAW: Solution 2 computed for time t=0.161290\n"
       ]
      },
      {
       "output_type": "stream",
       "stream": "stdout",
       "text": [
        "2014-08-04 19:22:58,006 INFO CLAW: Solution 3 computed for time t=0.290323\n"
       ]
      },
      {
       "output_type": "stream",
       "stream": "stdout",
       "text": [
        "2014-08-04 19:22:58,011 INFO CLAW: Solution 4 computed for time t=1.000000\n"
       ]
      },
      {
       "output_type": "stream",
       "stream": "stdout",
       "text": [
        "[ -1.53667663e-03   4.13798230e-02   5.70237386e-02   4.46936565e-02\n",
        "   1.62283063e-02  -1.73434570e-02  -4.39818985e-02  -5.48141705e-02\n",
        "  -4.73600121e-02  -2.09843618e-02   2.56167429e-02   1.06968527e-01\n",
        "   2.29342178e-01   3.73839325e-01   5.08153391e-01   6.03607717e-01\n",
        "   6.50633386e-01   6.89183159e-01   7.13893399e-01   6.94709482e-01\n",
        "   6.46707829e-01   5.83102803e-01   5.05016398e-01   4.15221010e-01\n",
        "   3.20213306e-01   2.29365930e-01   1.52663276e-01   9.74469766e-02\n",
        "   6.24702176e-02   5.44879058e-02   1.69458520e-02   4.79026453e-05\n",
        "   5.59723210e-03   2.14000831e-05  -4.33166079e-06  -2.86704938e-06\n",
        "  -1.84728514e-06  -1.10035654e-06  -6.21669378e-07  -3.48241399e-07\n",
        "  -1.85083562e-07  -5.52739624e-08   5.35222905e-08   1.44318209e-07\n",
        "   2.18771436e-07   2.77603343e-07   3.20686573e-07   3.51916476e-07\n",
        "   3.72323917e-07   3.82846142e-07   3.82037850e-07   3.72710422e-07\n",
        "   3.58005589e-07   3.36086889e-07   3.07202184e-07   2.73139470e-07\n",
        "   2.34970802e-07   1.93378770e-07   1.48797514e-07   1.02109065e-07\n",
        "   5.44600349e-08   6.51798657e-09  -4.07489963e-08  -8.61091376e-08\n",
        "  -1.28843604e-07  -1.68076681e-07  -2.02913830e-07  -2.31191484e-07\n",
        "  -2.52780808e-07  -2.66963328e-07  -2.71211390e-07  -2.66591300e-07\n",
        "  -2.51108075e-07  -2.23681908e-07  -1.84380248e-07  -1.31423956e-07\n",
        "  -6.35161579e-08   1.79273891e-08   1.13106571e-07   2.22514879e-07\n",
        "   3.56660339e-07]\n",
        "4.11355410861\n",
        "0.296558882841\n",
        "0.296558878421\n",
        "2014-08-04 19:22:58,020 INFO CLAW: Solution 0 computed for time t=0.000000\n"
       ]
      },
      {
       "output_type": "stream",
       "stream": "stdout",
       "text": [
        "2014-08-04 19:22:58,026 INFO CLAW: Solution 1 computed for time t=0.032258\n"
       ]
      },
      {
       "output_type": "stream",
       "stream": "stdout",
       "text": [
        "2014-08-04 19:22:58,031 INFO CLAW: Solution 2 computed for time t=0.161290\n"
       ]
      },
      {
       "output_type": "stream",
       "stream": "stdout",
       "text": [
        "2014-08-04 19:22:58,037 INFO CLAW: Solution 3 computed for time t=0.290323\n"
       ]
      },
      {
       "output_type": "stream",
       "stream": "stdout",
       "text": [
        "2014-08-04 19:22:58,044 INFO CLAW: Solution 4 computed for time t=1.000000\n"
       ]
      },
      {
       "output_type": "stream",
       "stream": "stdout",
       "text": [
        "[ -1.53667663e-03   4.13798230e-02   5.70237386e-02   4.46936565e-02\n",
        "   1.62283064e-02  -1.73434570e-02  -4.39818984e-02  -5.48141705e-02\n",
        "  -4.73600121e-02  -2.09843618e-02   2.56167429e-02   1.06968527e-01\n",
        "   2.29342178e-01   3.73839325e-01   5.08153391e-01   6.03607717e-01\n",
        "   6.50633386e-01   6.89183159e-01   7.13893399e-01   6.94709482e-01\n",
        "   6.46707829e-01   5.83102803e-01   5.05016398e-01   4.15221010e-01\n",
        "   3.20213306e-01   2.29365930e-01   1.52663276e-01   9.74469766e-02\n",
        "   6.24702176e-02   5.44879058e-02   1.69458520e-02   4.79026453e-05\n",
        "   5.59723210e-03   2.14000831e-05  -4.33166079e-06  -2.86704938e-06\n",
        "  -1.84728514e-06  -1.10035654e-06  -6.21669378e-07  -3.48241399e-07\n",
        "  -1.85083562e-07  -5.52739623e-08   5.35222905e-08   1.44318209e-07\n",
        "   2.18771436e-07   2.77603343e-07   3.20686573e-07   3.51916476e-07\n",
        "   3.72323917e-07   3.82846142e-07   3.82037850e-07   3.72710422e-07\n",
        "   3.58005589e-07   3.36086889e-07   3.07202184e-07   2.73139470e-07\n",
        "   2.34970802e-07   1.93378770e-07   1.48797514e-07   1.02109065e-07\n",
        "   5.44600349e-08   6.51798656e-09  -4.07489963e-08  -8.61091376e-08\n",
        "  -1.28843604e-07  -1.68076681e-07  -2.02913830e-07  -2.31191484e-07\n",
        "  -2.52780808e-07  -2.66963328e-07  -2.71211390e-07  -2.66591300e-07\n",
        "  -2.51108075e-07  -2.23681908e-07  -1.84380248e-07  -1.31423956e-07\n",
        "  -6.35161579e-08   1.79273891e-08   1.13106571e-07   2.22514879e-07\n",
        "   3.56660339e-07]\n",
        "4.1135541078\n",
        "0.296558878421\n",
        "0.296558478969\n",
        "2014-08-04 19:22:58,053 INFO CLAW: Solution 0 computed for time t=0.000000\n"
       ]
      },
      {
       "output_type": "stream",
       "stream": "stdout",
       "text": [
        "2014-08-04 19:22:58,058 INFO CLAW: Solution 1 computed for time t=0.032258\n"
       ]
      },
      {
       "output_type": "stream",
       "stream": "stdout",
       "text": [
        "2014-08-04 19:22:58,063 INFO CLAW: Solution 2 computed for time t=0.161290\n"
       ]
      },
      {
       "output_type": "stream",
       "stream": "stdout",
       "text": [
        "2014-08-04 19:22:58,067 INFO CLAW: Solution 3 computed for time t=0.290323\n"
       ]
      },
      {
       "output_type": "stream",
       "stream": "stdout",
       "text": [
        "2014-08-04 19:22:58,074 INFO CLAW: Solution 4 computed for time t=1.000000\n"
       ]
      },
      {
       "output_type": "stream",
       "stream": "stdout",
       "text": [
        "[ -1.53667663e-03   4.14290834e-02   5.74997055e-02   4.63398953e-02\n",
        "   1.91110796e-02  -1.37382832e-02  -4.03512382e-02  -5.19161282e-02\n",
        "  -4.58274842e-02  -2.12119902e-02   2.21706311e-02   9.83954267e-02\n",
        "   2.15186217e-01   3.56539254e-01   4.92327295e-01   5.92025335e-01\n",
        "   6.42376123e-01   6.79814227e-01   7.07151345e-01   6.93483427e-01\n",
        "   6.46637437e-01   5.83099399e-01   5.05015557e-01   4.15220570e-01\n",
        "   3.20213079e-01   2.29365844e-01   1.52663283e-01   9.74470670e-02\n",
        "   6.24703712e-02   5.44880922e-02   1.69460409e-02   4.80614590e-05\n",
        "   5.59734975e-03   2.14759880e-05  -4.29490695e-06  -2.86126437e-06\n",
        "  -1.86834204e-06  -1.14378192e-06  -6.77082774e-07  -4.08649855e-07\n",
        "  -2.43264631e-07  -1.06659063e-07   9.62157005e-09   1.07347240e-07\n",
        "   1.88131992e-07   2.52736595e-07   3.01052082e-07   3.37079008e-07\n",
        "   3.61882489e-07   3.76426576e-07   3.79295509e-07   3.72992393e-07\n",
        "   3.61303145e-07   3.42309640e-07   3.15732380e-07   2.83704946e-07\n",
        "   2.47273670e-07   2.07121404e-07   1.63656288e-07   1.17748358e-07\n",
        "   7.05647673e-08   2.27691665e-08  -2.47427720e-08  -7.06917799e-08\n",
        "  -1.14361697e-07  -1.54885574e-07  -1.91373968e-07  -2.21720386e-07\n",
        "  -2.45746330e-07  -2.62771819e-07  -2.70217393e-07  -2.68538989e-07\n",
        "  -2.57377178e-07  -2.34216869e-07  -1.99397280e-07  -1.51214740e-07\n",
        "  -8.83263273e-08  -1.20849877e-08   7.77519805e-08   1.81724339e-07\n",
        "   3.11059766e-07]\n",
        "4.02758621337\n",
        "0.296558478969\n",
        "0.296558483388\n",
        "2014-08-04 19:22:58,082 INFO CLAW: Solution 0 computed for time t=0.000000\n"
       ]
      },
      {
       "output_type": "stream",
       "stream": "stdout",
       "text": [
        "2014-08-04 19:22:58,088 INFO CLAW: Solution 1 computed for time t=0.032258\n"
       ]
      },
      {
       "output_type": "stream",
       "stream": "stdout",
       "text": [
        "2014-08-04 19:22:58,094 INFO CLAW: Solution 2 computed for time t=0.161290\n"
       ]
      },
      {
       "output_type": "stream",
       "stream": "stdout",
       "text": [
        "2014-08-04 19:22:58,100 INFO CLAW: Solution 3 computed for time t=0.290323\n"
       ]
      },
      {
       "output_type": "stream",
       "stream": "stdout",
       "text": [
        "2014-08-04 19:22:58,107 INFO CLAW: Solution 4 computed for time t=1.000000\n"
       ]
      },
      {
       "output_type": "stream",
       "stream": "stdout",
       "text": [
        "[ -1.53667663e-03   4.14290834e-02   5.74997055e-02   4.63398953e-02\n",
        "   1.91110796e-02  -1.37382832e-02  -4.03512382e-02  -5.19161282e-02\n",
        "  -4.58274842e-02  -2.12119902e-02   2.21706311e-02   9.83954267e-02\n",
        "   2.15186217e-01   3.56539254e-01   4.92327295e-01   5.92025335e-01\n",
        "   6.42376123e-01   6.79814227e-01   7.07151345e-01   6.93483427e-01\n",
        "   6.46637437e-01   5.83099399e-01   5.05015557e-01   4.15220570e-01\n",
        "   3.20213079e-01   2.29365844e-01   1.52663283e-01   9.74470670e-02\n",
        "   6.24703712e-02   5.44880922e-02   1.69460409e-02   4.80614590e-05\n",
        "   5.59734975e-03   2.14759880e-05  -4.29490695e-06  -2.86126437e-06\n",
        "  -1.86834204e-06  -1.14378192e-06  -6.77082775e-07  -4.08649857e-07\n",
        "  -2.43264633e-07  -1.06659065e-07   9.62156893e-09   1.07347239e-07\n",
        "   1.88131991e-07   2.52736595e-07   3.01052081e-07   3.37079007e-07\n",
        "   3.61882489e-07   3.76426576e-07   3.79295509e-07   3.72992393e-07\n",
        "   3.61303145e-07   3.42309641e-07   3.15732380e-07   2.83704946e-07\n",
        "   2.47273671e-07   2.07121405e-07   1.63656289e-07   1.17748359e-07\n",
        "   7.05647677e-08   2.27691669e-08  -2.47427716e-08  -7.06917795e-08\n",
        "  -1.14361696e-07  -1.54885573e-07  -1.91373968e-07  -2.21720386e-07\n",
        "  -2.45746329e-07  -2.62771818e-07  -2.70217393e-07  -2.68538989e-07\n",
        "  -2.57377178e-07  -2.34216869e-07  -1.99397280e-07  -1.51214741e-07\n",
        "  -8.83263279e-08  -1.20849884e-08   7.77519796e-08   1.81724338e-07\n",
        "   3.11059765e-07]\n",
        "4.02758621337\n",
        "0.296558483388\n",
        "0.296558478969\n",
        "2014-08-04 19:22:58,116 INFO CLAW: Solution 0 computed for time t=0.000000\n"
       ]
      },
      {
       "output_type": "stream",
       "stream": "stdout",
       "text": [
        "2014-08-04 19:22:58,121 INFO CLAW: Solution 1 computed for time t=0.032258\n"
       ]
      },
      {
       "output_type": "stream",
       "stream": "stdout",
       "text": [
        "2014-08-04 19:22:58,126 INFO CLAW: Solution 2 computed for time t=0.161290\n"
       ]
      },
      {
       "output_type": "stream",
       "stream": "stdout",
       "text": [
        "2014-08-04 19:22:58,130 INFO CLAW: Solution 3 computed for time t=0.290323\n"
       ]
      },
      {
       "output_type": "stream",
       "stream": "stdout",
       "text": [
        "2014-08-04 19:22:58,135 INFO CLAW: Solution 4 computed for time t=1.000000\n"
       ]
      },
      {
       "output_type": "stream",
       "stream": "stdout",
       "text": [
        "[ -1.53667663e-03   4.14290834e-02   5.74997055e-02   4.63398953e-02\n",
        "   1.91110796e-02  -1.37382831e-02  -4.03512381e-02  -5.19161282e-02\n",
        "  -4.58274841e-02  -2.12119902e-02   2.21706310e-02   9.83954265e-02\n",
        "   2.15186216e-01   3.56539253e-01   4.92327294e-01   5.92025335e-01\n",
        "   6.42376122e-01   6.79814227e-01   7.07151345e-01   6.93483426e-01\n",
        "   6.46637437e-01   5.83099399e-01   5.05015557e-01   4.15220570e-01\n",
        "   3.20213079e-01   2.29365844e-01   1.52663283e-01   9.74470670e-02\n",
        "   6.24703712e-02   5.44880922e-02   1.69460409e-02   4.80614590e-05\n",
        "   5.59734975e-03   2.14759880e-05  -4.29490695e-06  -2.86126437e-06\n",
        "  -1.86834204e-06  -1.14378192e-06  -6.77082775e-07  -4.08649857e-07\n",
        "  -2.43264632e-07  -1.06659065e-07   9.62156896e-09   1.07347239e-07\n",
        "   1.88131991e-07   2.52736595e-07   3.01052081e-07   3.37079007e-07\n",
        "   3.61882489e-07   3.76426576e-07   3.79295509e-07   3.72992393e-07\n",
        "   3.61303145e-07   3.42309641e-07   3.15732380e-07   2.83704946e-07\n",
        "   2.47273671e-07   2.07121405e-07   1.63656289e-07   1.17748359e-07\n",
        "   7.05647677e-08   2.27691669e-08  -2.47427716e-08  -7.06917795e-08\n",
        "  -1.14361696e-07  -1.54885573e-07  -1.91373968e-07  -2.21720386e-07\n",
        "  -2.45746329e-07  -2.62771818e-07  -2.70217393e-07  -2.68538989e-07\n",
        "  -2.57377178e-07  -2.34216869e-07  -1.99397280e-07  -1.51214741e-07\n",
        "  -8.83263279e-08  -1.20849884e-08   7.77519796e-08   1.81724338e-07\n",
        "   3.11059765e-07]\n",
        "4.02758621127\n",
        "0.296558478969\n",
        "0.296556728453\n",
        "2014-08-04 19:22:58,142 INFO CLAW: Solution 0 computed for time t=0.000000\n"
       ]
      },
      {
       "output_type": "stream",
       "stream": "stdout",
       "text": [
        "2014-08-04 19:22:58,146 INFO CLAW: Solution 1 computed for time t=0.032258\n"
       ]
      },
      {
       "output_type": "stream",
       "stream": "stdout",
       "text": [
        "2014-08-04 19:22:58,150 INFO CLAW: Solution 2 computed for time t=0.161290\n"
       ]
      },
      {
       "output_type": "stream",
       "stream": "stdout",
       "text": [
        "2014-08-04 19:22:58,154 INFO CLAW: Solution 3 computed for time t=0.290323\n"
       ]
      },
      {
       "output_type": "stream",
       "stream": "stdout",
       "text": [
        "2014-08-04 19:22:58,162 INFO CLAW: Solution 4 computed for time t=1.000000\n"
       ]
      },
      {
       "output_type": "stream",
       "stream": "stdout",
       "text": [
        "[ -1.53667663e-03   4.15241286e-02   5.84067783e-02   4.94668813e-02\n",
        "   2.46212103e-02  -6.77687962e-03  -3.32458634e-02  -4.61033402e-02\n",
        "  -4.25703692e-02  -2.12425655e-02   1.64405429e-02   8.33677688e-02\n",
        "   1.89465614e-01   3.23440833e-01   4.60400176e-01   5.67514005e-01\n",
        "   6.25712036e-01   6.61755585e-01   6.91460380e-01   6.89315398e-01\n",
        "   6.46319143e-01   5.83085827e-01   5.05013505e-01   4.15219529e-01\n",
        "   3.20212519e-01   2.29365592e-01   1.52663247e-01   9.74471879e-02\n",
        "   6.24706310e-02   5.44884340e-02   1.69464160e-02   4.83987187e-05\n",
        "   5.59761022e-03   2.16537938e-05  -4.19626597e-06  -2.83496586e-06\n",
        "  -1.89120646e-06  -1.21384512e-06  -7.77133449e-07  -5.24089291e-07\n",
        "  -3.60140509e-07  -2.12447469e-07  -8.13917674e-08   3.03311360e-08\n",
        "   1.23911093e-07   2.00174629e-07   2.59053436e-07   3.04764289e-07\n",
        "   3.38444321e-07   3.61116154e-07   3.71463545e-07   3.71895414e-07\n",
        "   3.65637297e-07   3.52530901e-07   3.30724126e-07   3.02889278e-07\n",
        "   2.70073035e-07   2.32956357e-07   1.91898290e-07   1.47746800e-07\n",
        "   1.01708434e-07   5.44887616e-08   6.79830102e-09  -4.00538770e-08\n",
        "  -8.52870442e-08  -1.28063691e-07  -1.67505501e-07  -2.01618936e-07\n",
        "  -2.30133254e-07  -2.52326376e-07  -2.66505335e-07  -2.70345135e-07\n",
        "  -2.66644643e-07  -2.51718286e-07  -2.25448001e-07  -1.86396161e-07\n",
        "  -1.33147200e-07  -6.69321227e-08   1.25719082e-08   1.05990916e-07\n",
        "   2.21937010e-07]\n",
        "3.8585128255\n",
        "0.296556728453\n",
        "0.296556732872\n",
        "2014-08-04 19:22:58,170 INFO CLAW: Solution 0 computed for time t=0.000000\n"
       ]
      },
      {
       "output_type": "stream",
       "stream": "stdout",
       "text": [
        "2014-08-04 19:22:58,176 INFO CLAW: Solution 1 computed for time t=0.032258\n"
       ]
      },
      {
       "output_type": "stream",
       "stream": "stdout",
       "text": [
        "2014-08-04 19:22:58,184 INFO CLAW: Solution 2 computed for time t=0.161290\n"
       ]
      },
      {
       "output_type": "stream",
       "stream": "stdout",
       "text": [
        "2014-08-04 19:22:58,191 INFO CLAW: Solution 3 computed for time t=0.290323\n"
       ]
      },
      {
       "output_type": "stream",
       "stream": "stdout",
       "text": [
        "2014-08-04 19:22:58,202 INFO CLAW: Solution 4 computed for time t=1.000000\n"
       ]
      },
      {
       "output_type": "stream",
       "stream": "stdout",
       "text": [
        "[ -1.53667663e-03   4.15241286e-02   5.84067783e-02   4.94668813e-02\n",
        "   2.46212103e-02  -6.77687962e-03  -3.32458634e-02  -4.61033402e-02\n",
        "  -4.25703692e-02  -2.12425655e-02   1.64405429e-02   8.33677688e-02\n",
        "   1.89465614e-01   3.23440833e-01   4.60400176e-01   5.67514005e-01\n",
        "   6.25712036e-01   6.61755585e-01   6.91460380e-01   6.89315398e-01\n",
        "   6.46319143e-01   5.83085827e-01   5.05013505e-01   4.15219529e-01\n",
        "   3.20212519e-01   2.29365592e-01   1.52663247e-01   9.74471879e-02\n",
        "   6.24706310e-02   5.44884340e-02   1.69464160e-02   4.83987188e-05\n",
        "   5.59761022e-03   2.16537938e-05  -4.19626597e-06  -2.83496585e-06\n",
        "  -1.89120646e-06  -1.21384512e-06  -7.77133451e-07  -5.24089295e-07\n",
        "  -3.60140512e-07  -2.12447472e-07  -8.13917701e-08   3.03311338e-08\n",
        "   1.23911091e-07   2.00174628e-07   2.59053435e-07   3.04764288e-07\n",
        "   3.38444320e-07   3.61116154e-07   3.71463545e-07   3.71895413e-07\n",
        "   3.65637298e-07   3.52530901e-07   3.30724126e-07   3.02889279e-07\n",
        "   2.70073036e-07   2.32956358e-07   1.91898290e-07   1.47746801e-07\n",
        "   1.01708435e-07   5.44887625e-08   6.79830192e-09  -4.00538761e-08\n",
        "  -8.52870434e-08  -1.28063691e-07  -1.67505501e-07  -2.01618936e-07\n",
        "  -2.30133254e-07  -2.52326376e-07  -2.66505335e-07  -2.70345135e-07\n",
        "  -2.66644643e-07  -2.51718287e-07  -2.25448001e-07  -1.86396162e-07\n",
        "  -1.33147201e-07  -6.69321242e-08   1.25719064e-08   1.05990914e-07\n",
        "   2.21937008e-07]\n",
        "3.8585128255\n",
        "0.296556732872\n",
        "0.296556728453\n",
        "2014-08-04 19:22:58,209 INFO CLAW: Solution 0 computed for time t=0.000000\n"
       ]
      },
      {
       "output_type": "stream",
       "stream": "stdout",
       "text": [
        "2014-08-04 19:22:58,214 INFO CLAW: Solution 1 computed for time t=0.032258\n"
       ]
      },
      {
       "output_type": "stream",
       "stream": "stdout",
       "text": [
        "2014-08-04 19:22:58,218 INFO CLAW: Solution 2 computed for time t=0.161290\n"
       ]
      },
      {
       "output_type": "stream",
       "stream": "stdout",
       "text": [
        "2014-08-04 19:22:58,223 INFO CLAW: Solution 3 computed for time t=0.290323\n"
       ]
      },
      {
       "output_type": "stream",
       "stream": "stdout",
       "text": [
        "2014-08-04 19:22:58,231 INFO CLAW: Solution 4 computed for time t=1.000000\n"
       ]
      },
      {
       "output_type": "stream",
       "stream": "stdout",
       "text": [
        "[ -1.53667663e-03   4.15241286e-02   5.84067783e-02   4.94668814e-02\n",
        "   2.46212104e-02  -6.77687943e-03  -3.32458632e-02  -4.61033400e-02\n",
        "  -4.25703691e-02  -2.12425655e-02   1.64405427e-02   8.33677684e-02\n",
        "   1.89465613e-01   3.23440832e-01   4.60400175e-01   5.67514004e-01\n",
        "   6.25712036e-01   6.61755584e-01   6.91460379e-01   6.89315397e-01\n",
        "   6.46319143e-01   5.83085827e-01   5.05013505e-01   4.15219529e-01\n",
        "   3.20212519e-01   2.29365592e-01   1.52663247e-01   9.74471879e-02\n",
        "   6.24706310e-02   5.44884340e-02   1.69464160e-02   4.83987188e-05\n",
        "   5.59761022e-03   2.16537938e-05  -4.19626597e-06  -2.83496585e-06\n",
        "  -1.89120646e-06  -1.21384512e-06  -7.77133451e-07  -5.24089294e-07\n",
        "  -3.60140512e-07  -2.12447472e-07  -8.13917700e-08   3.03311338e-08\n",
        "   1.23911091e-07   2.00174628e-07   2.59053435e-07   3.04764288e-07\n",
        "   3.38444320e-07   3.61116154e-07   3.71463545e-07   3.71895413e-07\n",
        "   3.65637298e-07   3.52530901e-07   3.30724126e-07   3.02889279e-07\n",
        "   2.70073036e-07   2.32956358e-07   1.91898290e-07   1.47746801e-07\n",
        "   1.01708435e-07   5.44887625e-08   6.79830189e-09  -4.00538761e-08\n",
        "  -8.52870434e-08  -1.28063691e-07  -1.67505501e-07  -2.01618936e-07\n",
        "  -2.30133254e-07  -2.52326376e-07  -2.66505335e-07  -2.70345135e-07\n",
        "  -2.66644643e-07  -2.51718287e-07  -2.25448001e-07  -1.86396162e-07\n",
        "  -1.33147201e-07  -6.69321242e-08   1.25719065e-08   1.05990914e-07\n",
        "   2.21937008e-07]\n",
        "3.85851282085\n",
        "0.296556728453\n",
        "0.296551573025\n",
        "2014-08-04 19:22:58,238 INFO CLAW: Solution 0 computed for time t=0.000000\n"
       ]
      },
      {
       "output_type": "stream",
       "stream": "stdout",
       "text": [
        "2014-08-04 19:22:58,243 INFO CLAW: Solution 1 computed for time t=0.032258\n"
       ]
      },
      {
       "output_type": "stream",
       "stream": "stdout",
       "text": [
        "2014-08-04 19:22:58,249 INFO CLAW: Solution 2 computed for time t=0.161290\n"
       ]
      },
      {
       "output_type": "stream",
       "stream": "stdout",
       "text": [
        "2014-08-04 19:22:58,255 INFO CLAW: Solution 3 computed for time t=0.290323\n"
       ]
      },
      {
       "output_type": "stream",
       "stream": "stdout",
       "text": [
        "2014-08-04 19:22:58,268 INFO CLAW: Solution 4 computed for time t=1.000000\n"
       ]
      },
      {
       "output_type": "stream",
       "stream": "stdout",
       "text": [
        "[ -1.53667663e-03   4.17885442e-02   6.01663907e-02   5.54696650e-02\n",
        "   3.52087288e-02   6.60036567e-03  -1.94459070e-02  -3.43550465e-02\n",
        "  -3.54720796e-02  -1.95890111e-02   9.97401431e-03   6.07385747e-02\n",
        "   1.46621818e-01   2.62489172e-01   3.95720307e-01   5.14444756e-01\n",
        "   5.88470759e-01   6.28692968e-01   6.56498461e-01   6.70356411e-01\n",
        "   6.42067186e-01   5.82619664e-01   5.04985872e-01   4.15216227e-01\n",
        "   3.20210851e-01   2.29364695e-01   1.52662908e-01   9.74471873e-02\n",
        "   6.24709233e-02   5.44889831e-02   1.69471060e-02   4.91126711e-05\n",
        "   5.59821540e-03   2.21052256e-05  -3.90124794e-06  -2.69242296e-06\n",
        "  -1.86831659e-06  -1.27679108e-06  -9.29586890e-07  -7.27885869e-07\n",
        "  -5.86972293e-07  -4.31671829e-07  -2.75036899e-07  -1.35663328e-07\n",
        "  -1.59971890e-08   8.40678211e-08   1.64488268e-07   2.29937028e-07\n",
        "   2.81709658e-07   3.20957595e-07   3.46341329e-07   3.61284801e-07\n",
        "   3.65729571e-07   3.63373190e-07   3.53051842e-07   3.34027802e-07\n",
        "   3.08867939e-07   2.78376133e-07   2.42747112e-07   2.02798747e-07\n",
        "   1.59814336e-07   1.14511646e-07   6.75709011e-08   1.97876622e-08\n",
        "  -2.75314360e-08  -7.36390036e-08  -1.17732871e-07  -1.58040956e-07\n",
        "  -1.94126007e-07  -2.25152529e-07  -2.50334755e-07  -2.66397226e-07\n",
        "  -2.73192219e-07  -2.73512401e-07  -2.63469793e-07  -2.41011527e-07\n",
        "  -2.05559728e-07  -1.57970431e-07  -9.77967652e-08  -2.42629741e-08\n",
        "   7.05253794e-08]\n",
        "3.5245314029\n",
        "0.296551573025\n",
        "0.296551577444\n",
        "2014-08-04 19:22:58,276 INFO CLAW: Solution 0 computed for time t=0.000000\n"
       ]
      },
      {
       "output_type": "stream",
       "stream": "stdout",
       "text": [
        "2014-08-04 19:22:58,281 INFO CLAW: Solution 1 computed for time t=0.032258\n"
       ]
      },
      {
       "output_type": "stream",
       "stream": "stdout",
       "text": [
        "2014-08-04 19:22:58,286 INFO CLAW: Solution 2 computed for time t=0.161290\n"
       ]
      },
      {
       "output_type": "stream",
       "stream": "stdout",
       "text": [
        "2014-08-04 19:22:58,292 INFO CLAW: Solution 3 computed for time t=0.290323\n"
       ]
      },
      {
       "output_type": "stream",
       "stream": "stdout",
       "text": [
        "2014-08-04 19:22:58,305 INFO CLAW: Solution 4 computed for time t=1.000000\n"
       ]
      },
      {
       "output_type": "stream",
       "stream": "stdout",
       "text": [
        "[ -1.53667663e-03   4.17885442e-02   6.01663907e-02   5.54696650e-02\n",
        "   3.52087288e-02   6.60036568e-03  -1.94459070e-02  -3.43550465e-02\n",
        "  -3.54720796e-02  -1.95890111e-02   9.97401434e-03   6.07385747e-02\n",
        "   1.46621818e-01   2.62489172e-01   3.95720307e-01   5.14444756e-01\n",
        "   5.88470759e-01   6.28692968e-01   6.56498461e-01   6.70356411e-01\n",
        "   6.42067186e-01   5.82619664e-01   5.04985872e-01   4.15216227e-01\n",
        "   3.20210851e-01   2.29364695e-01   1.52662908e-01   9.74471873e-02\n",
        "   6.24709233e-02   5.44889831e-02   1.69471060e-02   4.91126712e-05\n",
        "   5.59821540e-03   2.21052256e-05  -3.90124793e-06  -2.69242296e-06\n",
        "  -1.86831659e-06  -1.27679108e-06  -9.29586893e-07  -7.27885875e-07\n",
        "  -5.86972300e-07  -4.31671836e-07  -2.75036905e-07  -1.35663333e-07\n",
        "  -1.59971935e-08   8.40678172e-08   1.64488265e-07   2.29937025e-07\n",
        "   2.81709656e-07   3.20957594e-07   3.46341328e-07   3.61284800e-07\n",
        "   3.65729570e-07   3.63373190e-07   3.53051843e-07   3.34027803e-07\n",
        "   3.08867940e-07   2.78376134e-07   2.42747113e-07   2.02798749e-07\n",
        "   1.59814338e-07   1.14511647e-07   6.75709029e-08   1.97876640e-08\n",
        "  -2.75314342e-08  -7.36390019e-08  -1.17732870e-07  -1.58040954e-07\n",
        "  -1.94126006e-07  -2.25152528e-07  -2.50334754e-07  -2.66397225e-07\n",
        "  -2.73192219e-07  -2.73512402e-07  -2.63469793e-07  -2.41011529e-07\n",
        "  -2.05559730e-07  -1.57970433e-07  -9.77967683e-08  -2.42629777e-08\n",
        "   7.05253752e-08]\n",
        "3.52453140274\n",
        "0.296551577444\n",
        "0.296551573025\n",
        "2014-08-04 19:22:58,312 INFO CLAW: Solution 0 computed for time t=0.000000\n"
       ]
      },
      {
       "output_type": "stream",
       "stream": "stdout",
       "text": [
        "2014-08-04 19:22:58,318 INFO CLAW: Solution 1 computed for time t=0.032258\n"
       ]
      },
      {
       "output_type": "stream",
       "stream": "stdout",
       "text": [
        "2014-08-04 19:22:58,325 INFO CLAW: Solution 2 computed for time t=0.161290\n"
       ]
      },
      {
       "output_type": "stream",
       "stream": "stdout",
       "text": [
        "2014-08-04 19:22:58,332 INFO CLAW: Solution 3 computed for time t=0.290323\n"
       ]
      },
      {
       "output_type": "stream",
       "stream": "stdout",
       "text": [
        "2014-08-04 19:22:58,345 INFO CLAW: Solution 4 computed for time t=1.000000\n"
       ]
      },
      {
       "output_type": "stream",
       "stream": "stdout",
       "text": [
        "[ -1.53667663e-03   4.17885442e-02   6.01663908e-02   5.54696652e-02\n",
        "   3.52087291e-02   6.60036606e-03  -1.94459066e-02  -3.43550462e-02\n",
        "  -3.54720794e-02  -1.95890110e-02   9.97401419e-03   6.07385741e-02\n",
        "   1.46621817e-01   2.62489170e-01   3.95720305e-01   5.14444755e-01\n",
        "   5.88470757e-01   6.28692967e-01   6.56498460e-01   6.70356410e-01\n",
        "   6.42067186e-01   5.82619664e-01   5.04985872e-01   4.15216227e-01\n",
        "   3.20210851e-01   2.29364695e-01   1.52662908e-01   9.74471873e-02\n",
        "   6.24709233e-02   5.44889831e-02   1.69471060e-02   4.91126712e-05\n",
        "   5.59821540e-03   2.21052256e-05  -3.90124793e-06  -2.69242296e-06\n",
        "  -1.86831659e-06  -1.27679108e-06  -9.29586893e-07  -7.27885875e-07\n",
        "  -5.86972299e-07  -4.31671835e-07  -2.75036905e-07  -1.35663333e-07\n",
        "  -1.59971934e-08   8.40678173e-08   1.64488265e-07   2.29937025e-07\n",
        "   2.81709656e-07   3.20957594e-07   3.46341328e-07   3.61284800e-07\n",
        "   3.65729570e-07   3.63373190e-07   3.53051843e-07   3.34027803e-07\n",
        "   3.08867940e-07   2.78376134e-07   2.42747113e-07   2.02798749e-07\n",
        "   1.59814337e-07   1.14511647e-07   6.75709029e-08   1.97876640e-08\n",
        "  -2.75314342e-08  -7.36390020e-08  -1.17732870e-07  -1.58040954e-07\n",
        "  -1.94126006e-07  -2.25152528e-07  -2.50334754e-07  -2.66397225e-07\n",
        "  -2.73192219e-07  -2.73512402e-07  -2.63469793e-07  -2.41011529e-07\n",
        "  -2.05559730e-07  -1.57970433e-07  -9.77967682e-08  -2.42629776e-08\n",
        "   7.05253753e-08]\n",
        "3.52453139294\n",
        "0.296551573025\n",
        "0.897220252395\n",
        "2014-08-04 19:22:58,354 INFO CLAW: Solution 0 computed for time t=0.000000\n"
       ]
      },
      {
       "output_type": "stream",
       "stream": "stdout",
       "text": [
        "2014-08-04 19:22:58,362 INFO CLAW: Solution 1 computed for time t=0.032258\n"
       ]
      },
      {
       "output_type": "stream",
       "stream": "stdout",
       "text": [
        "2014-08-04 19:22:58,373 INFO CLAW: Solution 2 computed for time t=0.161290\n"
       ]
      },
      {
       "output_type": "stream",
       "stream": "stdout",
       "text": [
        "2014-08-04 19:22:58,386 INFO CLAW: Solution 3 computed for time t=0.290323\n"
       ]
      },
      {
       "output_type": "stream",
       "stream": "stdout",
       "text": [
        "2014-08-04 19:22:58,436 INFO CLAW: Solution 4 computed for time t=1.000000\n"
       ]
      },
      {
       "output_type": "stream",
       "stream": "stdout",
       "text": [
        "[ -1.53667663e-03   4.22927239e-02   6.35733972e-02   6.61784570e-02\n",
        "   5.45145656e-02   3.17202545e-02   7.09002333e-03  -1.02640837e-02\n",
        "  -1.87839782e-02  -1.32168870e-02   7.60565272e-03   3.81065956e-02\n",
        "   9.02423045e-02   1.68700640e-01   2.71605884e-01   3.92809713e-01\n",
        "   4.97070313e-01   5.57636883e-01   5.89514316e-01   6.08883471e-01\n",
        "   6.06675515e-01   5.68959826e-01   5.01249337e-01   4.14511385e-01\n",
        "   3.20101817e-01   2.29346084e-01   1.52658989e-01   9.74459388e-02\n",
        "   6.24705791e-02   5.44892203e-02   1.69479535e-02   5.05688476e-05\n",
        "   5.60009961e-03   2.40469051e-05  -2.17496458e-06  -1.31475053e-06\n",
        "  -8.93391653e-07  -7.19241584e-07  -7.43070126e-07  -8.70272817e-07\n",
        "  -1.00612810e-06  -1.09270896e-06  -1.11808792e-06  -1.06300144e-06\n",
        "  -9.37513862e-07  -7.70364438e-07  -6.03247474e-07  -4.48461928e-07\n",
        "  -3.07249650e-07  -1.80221210e-07  -6.98729489e-08   2.76701186e-08\n",
        "   1.13229728e-07   1.87542635e-07   2.50049633e-07   3.02454010e-07\n",
        "   3.45004259e-07   3.77148693e-07   3.99297230e-07   4.15375665e-07\n",
        "   4.27535977e-07   4.31618158e-07   4.25798804e-07   4.11969424e-07\n",
        "   3.92734001e-07   3.67561303e-07   3.36495185e-07   2.99649950e-07\n",
        "   2.57723600e-07   2.11055553e-07   1.59782230e-07   1.04370140e-07\n",
        "   4.56868432e-08  -1.59979559e-08  -8.06345382e-08  -1.47986784e-07\n",
        "  -2.17208714e-07  -2.87941187e-07  -3.59398260e-07  -4.29816783e-07\n",
        "  -4.95709894e-07]\n",
        "2.86725669556\n",
        "0.897220252395\n",
        "0.897220265764\n",
        "2014-08-04 19:22:58,444 INFO CLAW: Solution 0 computed for time t=0.000000\n"
       ]
      },
      {
       "output_type": "stream",
       "stream": "stdout",
       "text": [
        "2014-08-04 19:22:58,450 INFO CLAW: Solution 1 computed for time t=0.032258\n"
       ]
      },
      {
       "output_type": "stream",
       "stream": "stdout",
       "text": [
        "2014-08-04 19:22:58,458 INFO CLAW: Solution 2 computed for time t=0.161290\n"
       ]
      },
      {
       "output_type": "stream",
       "stream": "stdout",
       "text": [
        "2014-08-04 19:22:58,467 INFO CLAW: Solution 3 computed for time t=0.290323\n"
       ]
      },
      {
       "output_type": "stream",
       "stream": "stdout",
       "text": [
        "2014-08-04 19:22:58,505 INFO CLAW: Solution 4 computed for time t=1.000000\n"
       ]
      },
      {
       "output_type": "stream",
       "stream": "stdout",
       "text": [
        "[ -1.53667663e-03   4.22927239e-02   6.35733972e-02   6.61784570e-02\n",
        "   5.45145656e-02   3.17202545e-02   7.09002333e-03  -1.02640837e-02\n",
        "  -1.87839782e-02  -1.32168870e-02   7.60565272e-03   3.81065956e-02\n",
        "   9.02423045e-02   1.68700640e-01   2.71605884e-01   3.92809713e-01\n",
        "   4.97070313e-01   5.57636883e-01   5.89514316e-01   6.08883471e-01\n",
        "   6.06675515e-01   5.68959826e-01   5.01249337e-01   4.14511385e-01\n",
        "   3.20101817e-01   2.29346084e-01   1.52658989e-01   9.74459388e-02\n",
        "   6.24705791e-02   5.44892203e-02   1.69479535e-02   5.05688476e-05\n",
        "   5.60009961e-03   2.40469051e-05  -2.17496458e-06  -1.31475053e-06\n",
        "  -8.93391653e-07  -7.19241584e-07  -7.43070126e-07  -8.70272817e-07\n",
        "  -1.00612810e-06  -1.09270896e-06  -1.11808792e-06  -1.06300144e-06\n",
        "  -9.37513862e-07  -7.70364438e-07  -6.03247474e-07  -4.48461928e-07\n",
        "  -3.07249650e-07  -1.80221210e-07  -6.98729489e-08   2.76701186e-08\n",
        "   1.13229728e-07   1.87542635e-07   2.50049633e-07   3.02454010e-07\n",
        "   3.45004259e-07   3.77148693e-07   3.99297230e-07   4.15375665e-07\n",
        "   4.27535977e-07   4.31618158e-07   4.25798804e-07   4.11969424e-07\n",
        "   3.92734001e-07   3.67561303e-07   3.36495185e-07   2.99649950e-07\n",
        "   2.57723600e-07   2.11055553e-07   1.59782230e-07   1.04370140e-07\n",
        "   4.56868432e-08  -1.59979560e-08  -8.06345380e-08  -1.47986783e-07\n",
        "  -2.17208712e-07  -2.87941185e-07  -3.59398258e-07  -4.29816781e-07\n",
        "  -4.95709894e-07]\n",
        "2.86725669555\n",
        "0.897220265764\n",
        "0.897220252395\n",
        "2014-08-04 19:22:58,511 INFO CLAW: Solution 0 computed for time t=0.000000\n"
       ]
      },
      {
       "output_type": "stream",
       "stream": "stdout",
       "text": [
        "2014-08-04 19:22:58,517 INFO CLAW: Solution 1 computed for time t=0.032258\n"
       ]
      },
      {
       "output_type": "stream",
       "stream": "stdout",
       "text": [
        "2014-08-04 19:22:58,525 INFO CLAW: Solution 2 computed for time t=0.161290\n"
       ]
      },
      {
       "output_type": "stream",
       "stream": "stdout",
       "text": [
        "2014-08-04 19:22:58,535 INFO CLAW: Solution 3 computed for time t=0.290323\n"
       ]
      },
      {
       "output_type": "stream",
       "stream": "stdout",
       "text": [
        "2014-08-04 19:22:58,571 INFO CLAW: Solution 4 computed for time t=1.000000\n"
       ]
      },
      {
       "output_type": "stream",
       "stream": "stdout",
       "text": [
        "[ -1.53667663e-03   4.22927239e-02   6.35733973e-02   6.61784573e-02\n",
        "   5.45145662e-02   3.17202552e-02   7.09002413e-03  -1.02640829e-02\n",
        "  -1.87839776e-02  -1.32168867e-02   7.60565271e-03   3.81065952e-02\n",
        "   9.02423032e-02   1.68700638e-01   2.71605880e-01   3.92809709e-01\n",
        "   4.97070310e-01   5.57636881e-01   5.89514314e-01   6.08883469e-01\n",
        "   6.06675514e-01   5.68959826e-01   5.01249336e-01   4.14511385e-01\n",
        "   3.20101817e-01   2.29346084e-01   1.52658989e-01   9.74459388e-02\n",
        "   6.24705791e-02   5.44892203e-02   1.69479535e-02   5.05688477e-05\n",
        "   5.60009961e-03   2.40469051e-05  -2.17496453e-06  -1.31475048e-06\n",
        "  -8.93391614e-07  -7.19241554e-07  -7.43070106e-07  -8.70272808e-07\n",
        "  -1.00612810e-06  -1.09270896e-06  -1.11808792e-06  -1.06300145e-06\n",
        "  -9.37513882e-07  -7.70364460e-07  -6.03247495e-07  -4.48461946e-07\n",
        "  -3.07249666e-07  -1.80221225e-07  -6.98729620e-08   2.76701073e-08\n",
        "   1.13229718e-07   1.87542627e-07   2.50049627e-07   3.02454005e-07\n",
        "   3.45004256e-07   3.77148691e-07   3.99297229e-07   4.15375665e-07\n",
        "   4.27535978e-07   4.31618161e-07   4.25798807e-07   4.11969429e-07\n",
        "   3.92734007e-07   3.67561309e-07   3.36495192e-07   2.99649957e-07\n",
        "   2.57723608e-07   2.11055561e-07   1.59782239e-07   1.04370148e-07\n",
        "   4.56868519e-08  -1.59979473e-08  -8.06345300e-08  -1.47986776e-07\n",
        "  -2.17208707e-07  -2.87941181e-07  -3.59398255e-07  -4.29816779e-07\n",
        "  -4.95709893e-07]\n",
        "2.86725667554\n",
        "0.897220252395\n",
        "0.918866719915\n",
        "2014-08-04 19:22:58,577 INFO CLAW: Solution 0 computed for time t=0.000000\n"
       ]
      },
      {
       "output_type": "stream",
       "stream": "stdout",
       "text": [
        "2014-08-04 19:22:58,584 INFO CLAW: Solution 1 computed for time t=0.032258\n"
       ]
      },
      {
       "output_type": "stream",
       "stream": "stdout",
       "text": [
        "2014-08-04 19:22:58,601 INFO CLAW: Solution 2 computed for time t=0.161290\n"
       ]
      },
      {
       "output_type": "stream",
       "stream": "stdout",
       "text": [
        "2014-08-04 19:22:58,617 INFO CLAW: Solution 3 computed for time t=0.290323\n"
       ]
      },
      {
       "output_type": "stream",
       "stream": "stdout",
       "text": [
        "2014-08-04 19:22:58,686 INFO CLAW: Solution 4 computed for time t=1.000000\n"
       ]
      },
      {
       "output_type": "stream",
       "stream": "stdout",
       "text": [
        "[ -1.53667663e-03   4.31382446e-02   6.95434270e-02   8.40749814e-02\n",
        "   8.72438727e-02   7.77816443e-02   5.91052370e-02   4.08783187e-02\n",
        "   2.58552347e-02   1.40179359e-02   1.50272625e-02   2.88972920e-02\n",
        "   4.70847517e-02   7.35410599e-02   1.14979932e-01   1.74592831e-01\n",
        "   2.54182114e-01   3.45420885e-01   4.22691474e-01   4.61511853e-01\n",
        "   4.68915368e-01   4.58629133e-01   4.28994056e-01   3.76019676e-01\n",
        "   3.02757962e-01   2.22417590e-01   1.50275406e-01   9.67560226e-02\n",
        "   6.22980410e-02   5.44430701e-02   1.69363383e-02   4.78505363e-05\n",
        "   5.59990110e-03   2.49014687e-05  -5.17488982e-07   9.91248033e-07\n",
        "   1.84788546e-06   2.15072938e-06   1.95135942e-06   1.39159344e-06\n",
        "   7.06203878e-07   9.72992988e-08  -4.06249466e-07  -8.03196614e-07\n",
        "  -1.08827691e-06  -1.26548686e-06  -1.35485347e-06  -1.39833974e-06\n",
        "  -1.41049579e-06  -1.37654619e-06  -1.27489981e-06  -1.11950454e-06\n",
        "  -9.32043137e-07  -7.47380925e-07  -5.78269171e-07  -4.22210761e-07\n",
        "  -2.78339877e-07  -1.46599085e-07  -2.77593858e-08   7.83606099e-08\n",
        "   1.73384662e-07   2.57834927e-07   3.31884543e-07   3.94622657e-07\n",
        "   4.46844672e-07   4.87985082e-07   5.18078317e-07   5.37329907e-07\n",
        "   5.49318955e-07   5.55517279e-07   5.53568596e-07   5.39626445e-07\n",
        "   5.13686506e-07   4.77691348e-07   4.33069834e-07   3.79795455e-07\n",
        "   3.16780747e-07   2.43961781e-07   1.61630191e-07   6.98007021e-08\n",
        "  -3.29545436e-08]\n",
        "1.5973223715\n",
        "0.918866719915\n",
        "0.918866733607\n",
        "2014-08-04 19:22:58,693 INFO CLAW: Solution 0 computed for time t=0.000000\n"
       ]
      },
      {
       "output_type": "stream",
       "stream": "stdout",
       "text": [
        "2014-08-04 19:22:58,700 INFO CLAW: Solution 1 computed for time t=0.032258\n"
       ]
      },
      {
       "output_type": "stream",
       "stream": "stdout",
       "text": [
        "2014-08-04 19:22:58,716 INFO CLAW: Solution 2 computed for time t=0.161290\n"
       ]
      },
      {
       "output_type": "stream",
       "stream": "stdout",
       "text": [
        "2014-08-04 19:22:58,735 INFO CLAW: Solution 3 computed for time t=0.290323\n"
       ]
      },
      {
       "output_type": "stream",
       "stream": "stdout",
       "text": [
        "2014-08-04 19:22:58,819 INFO CLAW: Solution 4 computed for time t=1.000000\n"
       ]
      },
      {
       "output_type": "stream",
       "stream": "stdout",
       "text": [
        "[ -1.53667663e-03   4.31382446e-02   6.95434270e-02   8.40749814e-02\n",
        "   8.72438727e-02   7.77816443e-02   5.91052370e-02   4.08783187e-02\n",
        "   2.58552347e-02   1.40179359e-02   1.50272625e-02   2.88972920e-02\n",
        "   4.70847517e-02   7.35410599e-02   1.14979932e-01   1.74592831e-01\n",
        "   2.54182114e-01   3.45420885e-01   4.22691474e-01   4.61511853e-01\n",
        "   4.68915368e-01   4.58629133e-01   4.28994056e-01   3.76019676e-01\n",
        "   3.02757962e-01   2.22417590e-01   1.50275406e-01   9.67560226e-02\n",
        "   6.22980410e-02   5.44430701e-02   1.69363383e-02   4.78505362e-05\n",
        "   5.59990110e-03   2.49014687e-05  -5.17488983e-07   9.91248032e-07\n",
        "   1.84788546e-06   2.15072938e-06   1.95135943e-06   1.39159344e-06\n",
        "   7.06203878e-07   9.72992989e-08  -4.06249466e-07  -8.03196615e-07\n",
        "  -1.08827691e-06  -1.26548686e-06  -1.35485347e-06  -1.39833974e-06\n",
        "  -1.41049579e-06  -1.37654619e-06  -1.27489981e-06  -1.11950454e-06\n",
        "  -9.32043137e-07  -7.47380925e-07  -5.78269171e-07  -4.22210761e-07\n",
        "  -2.78339877e-07  -1.46599085e-07  -2.77593858e-08   7.83606099e-08\n",
        "   1.73384662e-07   2.57834927e-07   3.31884543e-07   3.94622657e-07\n",
        "   4.46844672e-07   4.87985082e-07   5.18078317e-07   5.37329907e-07\n",
        "   5.49318955e-07   5.55517279e-07   5.53568596e-07   5.39626445e-07\n",
        "   5.13686506e-07   4.77691348e-07   4.33069834e-07   3.79795455e-07\n",
        "   3.16780748e-07   2.43961782e-07   1.61630193e-07   6.98007049e-08\n",
        "  -3.29545394e-08]\n",
        "1.59732237142\n",
        "0.918866733607\n",
        "0.918866719915\n",
        "2014-08-04 19:22:58,826 INFO CLAW: Solution 0 computed for time t=0.000000\n"
       ]
      },
      {
       "output_type": "stream",
       "stream": "stdout",
       "text": [
        "2014-08-04 19:22:58,834 INFO CLAW: Solution 1 computed for time t=0.032258\n"
       ]
      },
      {
       "output_type": "stream",
       "stream": "stdout",
       "text": [
        "2014-08-04 19:22:58,851 INFO CLAW: Solution 2 computed for time t=0.161290\n"
       ]
      },
      {
       "output_type": "stream",
       "stream": "stdout",
       "text": [
        "2014-08-04 19:22:58,868 INFO CLAW: Solution 3 computed for time t=0.290323\n"
       ]
      },
      {
       "output_type": "stream",
       "stream": "stdout",
       "text": [
        "2014-08-04 19:22:58,943 INFO CLAW: Solution 4 computed for time t=1.000000\n"
       ]
      },
      {
       "output_type": "stream",
       "stream": "stdout",
       "text": [
        "[ -1.53667663e-03   4.31382446e-02   6.95434272e-02   8.40749818e-02\n",
        "   8.72438736e-02   7.77816456e-02   5.91052385e-02   4.08783202e-02\n",
        "   2.58552362e-02   1.40179370e-02   1.50272630e-02   2.88972921e-02\n",
        "   4.70847513e-02   7.35410584e-02   1.14979929e-01   1.74592826e-01\n",
        "   2.54182107e-01   3.45420877e-01   4.22691467e-01   4.61511848e-01\n",
        "   4.68915363e-01   4.58629129e-01   4.28994053e-01   3.76019673e-01\n",
        "   3.02757960e-01   2.22417590e-01   1.50275406e-01   9.67560225e-02\n",
        "   6.22980410e-02   5.44430701e-02   1.69363383e-02   4.78505357e-05\n",
        "   5.59990110e-03   2.49014687e-05  -5.17488989e-07   9.91248041e-07\n",
        "   1.84788549e-06   2.15072944e-06   1.95135951e-06   1.39159355e-06\n",
        "   7.06203976e-07   9.72993836e-08  -4.06249396e-07  -8.03196563e-07\n",
        "  -1.08827688e-06  -1.26548685e-06  -1.35485347e-06  -1.39833974e-06\n",
        "  -1.41049579e-06  -1.37654621e-06  -1.27489984e-06  -1.11950458e-06\n",
        "  -9.32043180e-07  -7.47380966e-07  -5.78269209e-07  -4.22210796e-07\n",
        "  -2.78339909e-07  -1.46599113e-07  -2.77594108e-08   7.83605878e-08\n",
        "   1.73384643e-07   2.57834911e-07   3.31884529e-07   3.94622646e-07\n",
        "   4.46844664e-07   4.87985076e-07   5.18078314e-07   5.37329906e-07\n",
        "   5.49318955e-07   5.55517280e-07   5.53568599e-07   5.39626450e-07\n",
        "   5.13686514e-07   4.77691357e-07   4.33069845e-07   3.79795467e-07\n",
        "   3.16780761e-07   2.43961796e-07   1.61630206e-07   6.98007183e-08\n",
        "  -3.29545261e-08]\n",
        "1.59732233555\n",
        "0.918866719915\n",
        "0.932642618523\n",
        "2014-08-04 19:22:58,950 INFO CLAW: Solution 0 computed for time t=0.000000\n"
       ]
      },
      {
       "output_type": "stream",
       "stream": "stdout",
       "text": [
        "2014-08-04 19:22:58,958 INFO CLAW: Solution 1 computed for time t=0.032258\n"
       ]
      },
      {
       "output_type": "stream",
       "stream": "stdout",
       "text": [
        "2014-08-04 19:22:58,979 INFO CLAW: Solution 2 computed for time t=0.161290\n"
       ]
      },
      {
       "output_type": "stream",
       "stream": "stdout",
       "text": [
        "2014-08-04 19:22:58,999 INFO CLAW: Solution 3 computed for time t=0.290323\n"
       ]
      },
      {
       "output_type": "stream",
       "stream": "stdout",
       "text": [
        "2014-08-04 19:22:59,082 INFO CLAW: Solution 4 computed for time t=1.000000\n"
       ]
      },
      {
       "output_type": "stream",
       "stream": "stdout",
       "text": [
        "[ -1.53667663e-03   4.31846716e-02   6.98546227e-02   8.49750101e-02\n",
        "   8.88878515e-02   8.01953865e-02   6.19484809e-02   4.37739293e-02\n",
        "   2.86310597e-02   1.61543574e-02   1.59851886e-02   2.90061124e-02\n",
        "   4.63810852e-02   7.10347855e-02   1.09777028e-01   1.66136415e-01\n",
        "   2.42302573e-01   3.31073793e-01   4.10192530e-01   4.52061250e-01\n",
        "   4.60466555e-01   4.50325239e-01   4.21658499e-01   3.70695269e-01\n",
        "   2.99613338e-01   2.20846955e-01   1.49610050e-01   9.65201758e-02\n",
        "   6.22267671e-02   5.44216747e-02   1.69305904e-02   4.64460621e-05\n",
        "   5.59957650e-03   2.48066379e-05  -5.38255647e-07   9.98598394e-07\n",
        "   1.89542416e-06   2.25440213e-06   2.10968582e-06   1.58818665e-06\n",
        "   8.92062088e-07   2.57566633e-07  -2.73716861e-07  -7.02601173e-07\n",
        "  -1.02164586e-06  -1.22993305e-06  -1.34124511e-06  -1.39604381e-06\n",
        "  -1.41880795e-06  -1.40436292e-06  -1.32709683e-06  -1.19295756e-06\n",
        "  -1.01480544e-06  -8.24263238e-07  -6.48739711e-07  -4.86846890e-07\n",
        "  -3.37190081e-07  -1.99687109e-07  -7.51697406e-08   3.64728278e-08\n",
        "   1.36791656e-07   2.26250694e-07   3.05078323e-07   3.72599239e-07\n",
        "   4.29810545e-07   4.76071576e-07   5.11021091e-07   5.34077662e-07\n",
        "   5.48386956e-07   5.56268147e-07   5.57692289e-07   5.48656462e-07\n",
        "   5.27413516e-07   4.94816445e-07   4.52400904e-07   4.01146407e-07\n",
        "   3.40771527e-07   2.70823803e-07   1.90972444e-07   1.01405889e-07\n",
        "   3.74447695e-10]\n",
        "1.53144440399\n",
        "0.932642618523\n",
        "0.932642632421\n",
        "2014-08-04 19:22:59,090 INFO CLAW: Solution 0 computed for time t=0.000000\n"
       ]
      },
      {
       "output_type": "stream",
       "stream": "stdout",
       "text": [
        "2014-08-04 19:22:59,098 INFO CLAW: Solution 1 computed for time t=0.032258\n"
       ]
      },
      {
       "output_type": "stream",
       "stream": "stdout",
       "text": [
        "2014-08-04 19:22:59,116 INFO CLAW: Solution 2 computed for time t=0.161290\n"
       ]
      },
      {
       "output_type": "stream",
       "stream": "stdout",
       "text": [
        "2014-08-04 19:22:59,134 INFO CLAW: Solution 3 computed for time t=0.290323\n"
       ]
      },
      {
       "output_type": "stream",
       "stream": "stdout",
       "text": [
        "2014-08-04 19:22:59,224 INFO CLAW: Solution 4 computed for time t=1.000000\n"
       ]
      },
      {
       "output_type": "stream",
       "stream": "stdout",
       "text": [
        "[ -1.53667663e-03   4.31846716e-02   6.98546227e-02   8.49750101e-02\n",
        "   8.88878515e-02   8.01953865e-02   6.19484809e-02   4.37739294e-02\n",
        "   2.86310597e-02   1.61543574e-02   1.59851886e-02   2.90061124e-02\n",
        "   4.63810852e-02   7.10347855e-02   1.09777028e-01   1.66136415e-01\n",
        "   2.42302573e-01   3.31073793e-01   4.10192530e-01   4.52061250e-01\n",
        "   4.60466555e-01   4.50325239e-01   4.21658499e-01   3.70695269e-01\n",
        "   2.99613338e-01   2.20846955e-01   1.49610050e-01   9.65201758e-02\n",
        "   6.22267671e-02   5.44216747e-02   1.69305904e-02   4.64460620e-05\n",
        "   5.59957650e-03   2.48066379e-05  -5.38255649e-07   9.98598392e-07\n",
        "   1.89542416e-06   2.25440213e-06   2.10968582e-06   1.58818665e-06\n",
        "   8.92062089e-07   2.57566634e-07  -2.73716861e-07  -7.02601173e-07\n",
        "  -1.02164586e-06  -1.22993305e-06  -1.34124511e-06  -1.39604380e-06\n",
        "  -1.41880795e-06  -1.40436292e-06  -1.32709683e-06  -1.19295756e-06\n",
        "  -1.01480544e-06  -8.24263238e-07  -6.48739711e-07  -4.86846891e-07\n",
        "  -3.37190081e-07  -1.99687109e-07  -7.51697407e-08   3.64728276e-08\n",
        "   1.36791656e-07   2.26250694e-07   3.05078323e-07   3.72599239e-07\n",
        "   4.29810545e-07   4.76071576e-07   5.11021091e-07   5.34077662e-07\n",
        "   5.48386956e-07   5.56268147e-07   5.57692289e-07   5.48656462e-07\n",
        "   5.27413516e-07   4.94816445e-07   4.52400904e-07   4.01146407e-07\n",
        "   3.40771527e-07   2.70823804e-07   1.90972446e-07   1.01405891e-07\n",
        "   3.74450467e-10]\n",
        "1.53144440375\n",
        "0.932642632421\n",
        "0.932642618523\n",
        "2014-08-04 19:22:59,232 INFO CLAW: Solution 0 computed for time t=0.000000\n"
       ]
      },
      {
       "output_type": "stream",
       "stream": "stdout",
       "text": [
        "2014-08-04 19:22:59,240 INFO CLAW: Solution 1 computed for time t=0.032258\n"
       ]
      },
      {
       "output_type": "stream",
       "stream": "stdout",
       "text": [
        "2014-08-04 19:22:59,260 INFO CLAW: Solution 2 computed for time t=0.161290\n"
       ]
      },
      {
       "output_type": "stream",
       "stream": "stdout",
       "text": [
        "2014-08-04 19:22:59,281 INFO CLAW: Solution 3 computed for time t=0.290323\n"
       ]
      },
      {
       "output_type": "stream",
       "stream": "stdout",
       "text": [
        "2014-08-04 19:22:59,379 INFO CLAW: Solution 4 computed for time t=1.000000\n"
       ]
      },
      {
       "output_type": "stream",
       "stream": "stdout",
       "text": [
        "[ -1.53667663e-03   4.31846716e-02   6.98546228e-02   8.49750106e-02\n",
        "   8.88878524e-02   8.01953879e-02   6.19484825e-02   4.37739310e-02\n",
        "   2.86310612e-02   1.61543586e-02   1.59851892e-02   2.90061125e-02\n",
        "   4.63810848e-02   7.10347841e-02   1.09777025e-01   1.66136410e-01\n",
        "   2.42302567e-01   3.31073785e-01   4.10192523e-01   4.52061244e-01\n",
        "   4.60466551e-01   4.50325234e-01   4.21658494e-01   3.70695266e-01\n",
        "   2.99613336e-01   2.20846954e-01   1.49610050e-01   9.65201757e-02\n",
        "   6.22267670e-02   5.44216746e-02   1.69305904e-02   4.64460612e-05\n",
        "   5.59957650e-03   2.48066378e-05  -5.38255661e-07   9.98598397e-07\n",
        "   1.89542419e-06   2.25440218e-06   2.10968590e-06   1.58818675e-06\n",
        "   8.92062194e-07   2.57566725e-07  -2.73716784e-07  -7.02601113e-07\n",
        "  -1.02164582e-06  -1.22993303e-06  -1.34124510e-06  -1.39604380e-06\n",
        "  -1.41880796e-06  -1.40436294e-06  -1.32709685e-06  -1.19295759e-06\n",
        "  -1.01480549e-06  -8.24263281e-07  -6.48739751e-07  -4.86846927e-07\n",
        "  -3.37190115e-07  -1.99687140e-07  -7.51697679e-08   3.64728036e-08\n",
        "   1.36791635e-07   2.26250675e-07   3.05078308e-07   3.72599226e-07\n",
        "   4.29810535e-07   4.76071568e-07   5.11021086e-07   5.34077660e-07\n",
        "   5.48386956e-07   5.56268147e-07   5.57692291e-07   5.48656467e-07\n",
        "   5.27413523e-07   4.94816454e-07   4.52400914e-07   4.01146418e-07\n",
        "   3.40771540e-07   2.70823818e-07   1.90972460e-07   1.01405905e-07\n",
        "   3.74464458e-10]\n",
        "1.53144436733\n",
        "0.932642618523\n",
        "0.940630033119\n",
        "2014-08-04 19:22:59,388 INFO CLAW: Solution 0 computed for time t=0.000000\n"
       ]
      },
      {
       "output_type": "stream",
       "stream": "stdout",
       "text": [
        "2014-08-04 19:22:59,396 INFO CLAW: Solution 1 computed for time t=0.032258\n"
       ]
      },
      {
       "output_type": "stream",
       "stream": "stdout",
       "text": [
        "2014-08-04 19:22:59,415 INFO CLAW: Solution 2 computed for time t=0.161290\n"
       ]
      },
      {
       "output_type": "stream",
       "stream": "stdout",
       "text": [
        "2014-08-04 19:22:59,434 INFO CLAW: Solution 3 computed for time t=0.290323\n"
       ]
      },
      {
       "output_type": "stream",
       "stream": "stdout",
       "text": [
        "2014-08-04 19:22:59,528 INFO CLAW: Solution 4 computed for time t=1.000000\n"
       ]
      },
      {
       "output_type": "stream",
       "stream": "stdout",
       "text": [
        "[ -1.53667663e-03   4.31940423e-02   6.99169660e-02   8.51545929e-02\n",
        "   8.92157588e-02   8.06779378e-02   6.25180567e-02   4.43542473e-02\n",
        "   2.91908542e-02   1.65871718e-02   1.61850627e-02   2.90358606e-02\n",
        "   4.62569994e-02   7.05645688e-02   1.08778519e-01   1.64490397e-01\n",
        "   2.39967016e-01   3.28202715e-01   4.07636047e-01   4.50125592e-01\n",
        "   4.58757242e-01   4.48653529e-01   4.20164321e-01   3.69584714e-01\n",
        "   2.98937818e-01   2.20498935e-01   1.49457561e-01   9.64640449e-02\n",
        "   6.22090964e-02   5.44161942e-02   1.69290754e-02   4.60702071e-05\n",
        "   5.59949055e-03   2.47814153e-05  -5.44473553e-07   9.98717840e-07\n",
        "   1.90295334e-06   2.27297330e-06   2.13957845e-06   1.62707313e-06\n",
        "   9.30452978e-07   2.90708166e-07  -2.46057568e-07  -6.81177991e-07\n",
        "  -1.00695076e-06  -1.22154578e-06  -1.33753875e-06  -1.39496032e-06\n",
        "  -1.41961983e-06  -1.40875618e-06  -1.33641063e-06  -1.20682217e-06\n",
        "  -1.03143229e-06  -8.40090143e-07  -6.63186111e-07  -5.00102419e-07\n",
        "  -3.49289329e-07  -2.10635159e-07  -8.49803855e-08   2.77706644e-08\n",
        "   1.29156753e-07   2.19631657e-07   2.99428789e-07   3.67906969e-07\n",
        "   4.26102201e-07   4.73371032e-07   5.09295517e-07   5.33161097e-07\n",
        "   5.48020440e-07   5.56230586e-07   5.58212680e-07   5.50127017e-07\n",
        "   5.29880912e-07   4.98063755e-07   4.56144720e-07   4.05274935e-07\n",
        "   3.45359733e-07   2.76027496e-07   1.96922646e-07   1.08077012e-07\n",
        "   7.81441069e-09]\n",
        "1.51832918285\n",
        "0.940630033119\n",
        "0.940630047135\n",
        "2014-08-04 19:22:59,536 INFO CLAW: Solution 0 computed for time t=0.000000\n"
       ]
      },
      {
       "output_type": "stream",
       "stream": "stdout",
       "text": [
        "2014-08-04 19:22:59,546 INFO CLAW: Solution 1 computed for time t=0.032258\n"
       ]
      },
      {
       "output_type": "stream",
       "stream": "stdout",
       "text": [
        "2014-08-04 19:22:59,566 INFO CLAW: Solution 2 computed for time t=0.161290\n"
       ]
      },
      {
       "output_type": "stream",
       "stream": "stdout",
       "text": [
        "2014-08-04 19:22:59,588 INFO CLAW: Solution 3 computed for time t=0.290323\n"
       ]
      },
      {
       "output_type": "stream",
       "stream": "stdout",
       "text": [
        "2014-08-04 19:22:59,676 INFO CLAW: Solution 4 computed for time t=1.000000\n"
       ]
      },
      {
       "output_type": "stream",
       "stream": "stdout",
       "text": [
        "[ -1.53667663e-03   4.31940423e-02   6.99169661e-02   8.51545929e-02\n",
        "   8.92157588e-02   8.06779378e-02   6.25180567e-02   4.43542473e-02\n",
        "   2.91908542e-02   1.65871718e-02   1.61850627e-02   2.90358606e-02\n",
        "   4.62569994e-02   7.05645688e-02   1.08778519e-01   1.64490397e-01\n",
        "   2.39967016e-01   3.28202715e-01   4.07636047e-01   4.50125592e-01\n",
        "   4.58757242e-01   4.48653529e-01   4.20164321e-01   3.69584714e-01\n",
        "   2.98937818e-01   2.20498935e-01   1.49457561e-01   9.64640449e-02\n",
        "   6.22090964e-02   5.44161942e-02   1.69290754e-02   4.60702070e-05\n",
        "   5.59949055e-03   2.47814153e-05  -5.44473555e-07   9.98717839e-07\n",
        "   1.90295333e-06   2.27297330e-06   2.13957845e-06   1.62707313e-06\n",
        "   9.30452979e-07   2.90708166e-07  -2.46057568e-07  -6.81177991e-07\n",
        "  -1.00695076e-06  -1.22154578e-06  -1.33753875e-06  -1.39496032e-06\n",
        "  -1.41961983e-06  -1.40875618e-06  -1.33641063e-06  -1.20682217e-06\n",
        "  -1.03143229e-06  -8.40090143e-07  -6.63186111e-07  -5.00102419e-07\n",
        "  -3.49289329e-07  -2.10635159e-07  -8.49803856e-08   2.77706644e-08\n",
        "   1.29156753e-07   2.19631657e-07   2.99428789e-07   3.67906969e-07\n",
        "   4.26102201e-07   4.73371032e-07   5.09295517e-07   5.33161097e-07\n",
        "   5.48020440e-07   5.56230586e-07   5.58212680e-07   5.50127017e-07\n",
        "   5.29880913e-07   4.98063756e-07   4.56144720e-07   4.05274935e-07\n",
        "   3.45359733e-07   2.76027496e-07   1.96922647e-07   1.08077014e-07\n",
        "   7.81441319e-09]\n",
        "1.51832918268\n",
        "0.940630047135\n",
        "0.940630033119\n",
        "2014-08-04 19:22:59,685 INFO CLAW: Solution 0 computed for time t=0.000000\n"
       ]
      },
      {
       "output_type": "stream",
       "stream": "stdout",
       "text": [
        "2014-08-04 19:22:59,695 INFO CLAW: Solution 1 computed for time t=0.032258\n"
       ]
      },
      {
       "output_type": "stream",
       "stream": "stdout",
       "text": [
        "2014-08-04 19:22:59,712 INFO CLAW: Solution 2 computed for time t=0.161290\n"
       ]
      },
      {
       "output_type": "stream",
       "stream": "stdout",
       "text": [
        "2014-08-04 19:22:59,730 INFO CLAW: Solution 3 computed for time t=0.290323\n"
       ]
      },
      {
       "output_type": "stream",
       "stream": "stdout",
       "text": [
        "2014-08-04 19:22:59,818 INFO CLAW: Solution 4 computed for time t=1.000000\n"
       ]
      },
      {
       "output_type": "stream",
       "stream": "stdout",
       "text": [
        "[ -1.53667663e-03   4.31940423e-02   6.99169662e-02   8.51545934e-02\n",
        "   8.92157597e-02   8.06779392e-02   6.25180583e-02   4.43542489e-02\n",
        "   2.91908557e-02   1.65871730e-02   1.61850633e-02   2.90358607e-02\n",
        "   4.62569990e-02   7.05645674e-02   1.08778516e-01   1.64490392e-01\n",
        "   2.39967010e-01   3.28202707e-01   4.07636040e-01   4.50125586e-01\n",
        "   4.58757237e-01   4.48653525e-01   4.20164317e-01   3.69584711e-01\n",
        "   2.98937816e-01   2.20498934e-01   1.49457560e-01   9.64640448e-02\n",
        "   6.22090964e-02   5.44161942e-02   1.69290753e-02   4.60702061e-05\n",
        "   5.59949055e-03   2.47814153e-05  -5.44473568e-07   9.98717843e-07\n",
        "   1.90295336e-06   2.27297335e-06   2.13957853e-06   1.62707324e-06\n",
        "   9.30453085e-07   2.90708259e-07  -2.46057489e-07  -6.81177929e-07\n",
        "  -1.00695072e-06  -1.22154575e-06  -1.33753874e-06  -1.39496032e-06\n",
        "  -1.41961984e-06  -1.40875619e-06  -1.33641065e-06  -1.20682221e-06\n",
        "  -1.03143233e-06  -8.40090187e-07  -6.63186151e-07  -5.00102456e-07\n",
        "  -3.49289363e-07  -2.10635190e-07  -8.49804133e-08   2.77706399e-08\n",
        "   1.29156732e-07   2.19631638e-07   2.99428773e-07   3.67906956e-07\n",
        "   4.26102191e-07   4.73371024e-07   5.09295512e-07   5.33161095e-07\n",
        "   5.48020439e-07   5.56230586e-07   5.58212681e-07   5.50127021e-07\n",
        "   5.29880919e-07   4.98063764e-07   4.56144730e-07   4.05274946e-07\n",
        "   3.45359745e-07   2.76027510e-07   1.96922662e-07   1.08077029e-07\n",
        "   7.81442778e-09]\n",
        "1.51832914616\n",
        "0.940630033119\n",
        "0.95106152903\n",
        "2014-08-04 19:22:59,824 INFO CLAW: Solution 0 computed for time t=0.000000\n"
       ]
      },
      {
       "output_type": "stream",
       "stream": "stdout",
       "text": [
        "2014-08-04 19:22:59,833 INFO CLAW: Solution 1 computed for time t=0.032258\n"
       ]
      },
      {
       "output_type": "stream",
       "stream": "stdout",
       "text": [
        "2014-08-04 19:22:59,853 INFO CLAW: Solution 2 computed for time t=0.161290\n"
       ]
      },
      {
       "output_type": "stream",
       "stream": "stdout",
       "text": [
        "2014-08-04 19:22:59,872 INFO CLAW: Solution 3 computed for time t=0.290323\n"
       ]
      },
      {
       "output_type": "stream",
       "stream": "stdout",
       "text": [
        "2014-08-04 19:22:59,964 INFO CLAW: Solution 4 computed for time t=1.000000\n"
       ]
      },
      {
       "output_type": "stream",
       "stream": "stdout",
       "text": [
        "[ -1.53667663e-03   4.32121351e-02   7.00383965e-02   8.55055277e-02\n",
        "   8.98569793e-02   8.16210779e-02   6.36354730e-02   4.54964066e-02\n",
        "   3.02904936e-02   1.74529429e-02   1.65917770e-02   2.90896991e-02\n",
        "   4.60034905e-02   6.96359988e-02   1.06825042e-01   1.61284719e-01\n",
        "   2.35431533e-01   3.22596611e-01   4.02566033e-01   4.46293297e-01\n",
        "   4.55409599e-01   4.45355945e-01   4.17175078e-01   3.67340124e-01\n",
        "   2.97566936e-01   2.19792817e-01   1.49148995e-01   9.63509881e-02\n",
        "   6.21737188e-02   5.44052800e-02   1.69260727e-02   4.53267950e-05\n",
        "   5.59931938e-03   2.47306767e-05  -5.56575971e-07   9.99670821e-07\n",
        "   1.91748478e-06   2.30818174e-06   2.19622206e-06   1.70133582e-06\n",
        "   1.00612693e-06   3.56849678e-07  -1.90270919e-07  -6.37396041e-07\n",
        "  -9.76504477e-07  -1.20402757e-06  -1.32992050e-06  -1.39309643e-06\n",
        "  -1.42139905e-06  -1.41697923e-06  -1.35369423e-06  -1.23275548e-06\n",
        "  -1.06329727e-06  -8.71358715e-07  -6.91893290e-07  -5.26505970e-07\n",
        "  -3.73429596e-07  -2.32512170e-07  -1.04616596e-07   1.03276008e-08\n",
        "   1.13832519e-07   2.06318304e-07   2.88012087e-07   3.58341297e-07\n",
        "   4.18452171e-07   4.67729070e-07   5.05655025e-07   5.31247155e-07\n",
        "   5.47336838e-07   5.56240119e-07   5.59137601e-07   5.52723232e-07\n",
        "   5.34352819e-07   5.04104185e-07   4.63301440e-07   4.13255457e-07\n",
        "   3.54220778e-07   2.85843084e-07   2.07828577e-07   1.20113048e-07\n",
        "   2.16997573e-08]\n",
        "1.49264994076\n",
        "0.95106152903\n",
        "0.951061543202\n",
        "2014-08-04 19:22:59,972 INFO CLAW: Solution 0 computed for time t=0.000000\n"
       ]
      },
      {
       "output_type": "stream",
       "stream": "stdout",
       "text": [
        "2014-08-04 19:22:59,981 INFO CLAW: Solution 1 computed for time t=0.032258\n"
       ]
      },
      {
       "output_type": "stream",
       "stream": "stdout",
       "text": [
        "2014-08-04 19:23:00,002 INFO CLAW: Solution 2 computed for time t=0.161290\n"
       ]
      },
      {
       "output_type": "stream",
       "stream": "stdout",
       "text": [
        "2014-08-04 19:23:00,022 INFO CLAW: Solution 3 computed for time t=0.290323\n"
       ]
      },
      {
       "output_type": "stream",
       "stream": "stdout",
       "text": [
        "2014-08-04 19:23:00,114 INFO CLAW: Solution 4 computed for time t=1.000000\n"
       ]
      },
      {
       "output_type": "stream",
       "stream": "stdout",
       "text": [
        "[ -1.53667663e-03   4.32121351e-02   7.00383965e-02   8.55055277e-02\n",
        "   8.98569793e-02   8.16210779e-02   6.36354730e-02   4.54964066e-02\n",
        "   3.02904936e-02   1.74529429e-02   1.65917770e-02   2.90896991e-02\n",
        "   4.60034905e-02   6.96359989e-02   1.06825042e-01   1.61284719e-01\n",
        "   2.35431533e-01   3.22596611e-01   4.02566033e-01   4.46293297e-01\n",
        "   4.55409599e-01   4.45355945e-01   4.17175078e-01   3.67340124e-01\n",
        "   2.97566936e-01   2.19792817e-01   1.49148995e-01   9.63509881e-02\n",
        "   6.21737188e-02   5.44052800e-02   1.69260727e-02   4.53267950e-05\n",
        "   5.59931938e-03   2.47306767e-05  -5.56575971e-07   9.99670821e-07\n",
        "   1.91748478e-06   2.30818174e-06   2.19622206e-06   1.70133582e-06\n",
        "   1.00612693e-06   3.56849678e-07  -1.90270919e-07  -6.37396041e-07\n",
        "  -9.76504477e-07  -1.20402757e-06  -1.32992050e-06  -1.39309643e-06\n",
        "  -1.42139905e-06  -1.41697923e-06  -1.35369423e-06  -1.23275548e-06\n",
        "  -1.06329727e-06  -8.71358716e-07  -6.91893290e-07  -5.26505970e-07\n",
        "  -3.73429596e-07  -2.32512170e-07  -1.04616596e-07   1.03276008e-08\n",
        "   1.13832519e-07   2.06318304e-07   2.88012087e-07   3.58341297e-07\n",
        "   4.18452171e-07   4.67729070e-07   5.05655024e-07   5.31247155e-07\n",
        "   5.47336838e-07   5.56240119e-07   5.59137601e-07   5.52723232e-07\n",
        "   5.34352819e-07   5.04104185e-07   4.63301440e-07   4.13255457e-07\n",
        "   3.54220778e-07   2.85843084e-07   2.07828577e-07   1.20113049e-07\n",
        "   2.16997598e-08]\n",
        "1.49264994073\n",
        "0.951061543202\n",
        "0.95106152903\n",
        "2014-08-04 19:23:00,122 INFO CLAW: Solution 0 computed for time t=0.000000\n"
       ]
      },
      {
       "output_type": "stream",
       "stream": "stdout",
       "text": [
        "2014-08-04 19:23:00,132 INFO CLAW: Solution 1 computed for time t=0.032258\n"
       ]
      },
      {
       "output_type": "stream",
       "stream": "stdout",
       "text": [
        "2014-08-04 19:23:00,152 INFO CLAW: Solution 2 computed for time t=0.161290\n"
       ]
      },
      {
       "output_type": "stream",
       "stream": "stdout",
       "text": [
        "2014-08-04 19:23:00,172 INFO CLAW: Solution 3 computed for time t=0.290323\n"
       ]
      },
      {
       "output_type": "stream",
       "stream": "stdout",
       "text": [
        "2014-08-04 19:23:00,259 INFO CLAW: Solution 4 computed for time t=1.000000\n"
       ]
      },
      {
       "output_type": "stream",
       "stream": "stdout",
       "text": [
        "[ -1.53667663e-03   4.32121352e-02   7.00383967e-02   8.55055283e-02\n",
        "   8.98569803e-02   8.16210792e-02   6.36354746e-02   4.54964082e-02\n",
        "   3.02904951e-02   1.74529442e-02   1.65917776e-02   2.90896992e-02\n",
        "   4.60034902e-02   6.96359975e-02   1.06825040e-01   1.61284715e-01\n",
        "   2.35431527e-01   3.22596603e-01   4.02566025e-01   4.46293292e-01\n",
        "   4.55409594e-01   4.45355940e-01   4.17175074e-01   3.67340121e-01\n",
        "   2.97566934e-01   2.19792816e-01   1.49148994e-01   9.63509879e-02\n",
        "   6.21737187e-02   5.44052799e-02   1.69260727e-02   4.53267939e-05\n",
        "   5.59931938e-03   2.47306767e-05  -5.56575988e-07   9.99670823e-07\n",
        "   1.91748480e-06   2.30818179e-06   2.19622214e-06   1.70133593e-06\n",
        "   1.00612704e-06   3.56849773e-07  -1.90270838e-07  -6.37395976e-07\n",
        "  -9.76504432e-07  -1.20402754e-06  -1.32992049e-06  -1.39309642e-06\n",
        "  -1.42139905e-06  -1.41697924e-06  -1.35369425e-06  -1.23275551e-06\n",
        "  -1.06329731e-06  -8.71358760e-07  -6.91893331e-07  -5.26506008e-07\n",
        "  -3.73429631e-07  -2.32512201e-07  -1.04616624e-07   1.03275755e-08\n",
        "   1.13832497e-07   2.06318285e-07   2.88012070e-07   3.58341283e-07\n",
        "   4.18452160e-07   4.67729062e-07   5.05655019e-07   5.31247152e-07\n",
        "   5.47336837e-07   5.56240119e-07   5.59137602e-07   5.52723235e-07\n",
        "   5.34352825e-07   5.04104193e-07   4.63301450e-07   4.13255468e-07\n",
        "   3.54220791e-07   2.85843098e-07   2.07828592e-07   1.20113064e-07\n",
        "   2.16997750e-08]\n",
        "1.492649904\n",
        "0.95106152903\n",
        "0.955908538253\n",
        "2014-08-04 19:23:00,267 INFO CLAW: Solution 0 computed for time t=0.000000\n"
       ]
      },
      {
       "output_type": "stream",
       "stream": "stdout",
       "text": [
        "2014-08-04 19:23:00,275 INFO CLAW: Solution 1 computed for time t=0.032258\n"
       ]
      },
      {
       "output_type": "stream",
       "stream": "stdout",
       "text": [
        "2014-08-04 19:23:00,297 INFO CLAW: Solution 2 computed for time t=0.161290\n"
       ]
      },
      {
       "output_type": "stream",
       "stream": "stdout",
       "text": [
        "2014-08-04 19:23:00,319 INFO CLAW: Solution 3 computed for time t=0.290323\n"
       ]
      },
      {
       "output_type": "stream",
       "stream": "stdout",
       "text": [
        "2014-08-04 19:23:00,474 INFO CLAW: Solution 4 computed for time t=1.000000\n"
       ]
      },
      {
       "output_type": "stream",
       "stream": "stdout",
       "text": [
        "[ -1.53667663e-03   4.32479463e-02   7.02771132e-02   8.61929322e-02\n",
        "   9.11124438e-02   8.34721682e-02   6.58315506e-02   4.77438358e-02\n",
        "   3.24662691e-02   1.91785123e-02   1.74177437e-02   2.92186638e-02\n",
        "   4.55712257e-02   6.79274458e-02   1.03145649e-01   1.55166782e-01\n",
        "   2.26705504e-01   3.11582676e-01   3.92391206e-01   4.38605718e-01\n",
        "   4.48759206e-01   4.38822193e-01   4.11194656e-01   3.62764888e-01\n",
        "   2.94706092e-01   2.18281111e-01   1.48469093e-01   9.60933841e-02\n",
        "   6.20899782e-02   5.43785810e-02   1.69184864e-02   4.34020812e-05\n",
        "   5.59887553e-03   2.45996620e-05  -5.89665984e-07   9.96712139e-07\n",
        "   1.93842558e-06   2.36866399e-06   2.29999583e-06   1.84310999e-06\n",
        "   1.16048489e-06   4.91154943e-07  -7.62317551e-08  -5.46343936e-07\n",
        "  -9.11474947e-07  -1.16491931e-06  -1.31128505e-06  -1.38742313e-06\n",
        "  -1.42225906e-06  -1.42845871e-06  -1.38281493e-06  -1.27993351e-06\n",
        "  -1.12490282e-06  -9.35256883e-07  -7.49730226e-07  -5.79626833e-07\n",
        "  -4.22081036e-07  -2.76728660e-07  -1.44431875e-07  -2.51631657e-08\n",
        "   8.25371746e-08   1.79017954e-07   2.64473311e-07   3.38430434e-07\n",
        "   4.02254690e-07   4.55435704e-07   4.97339392e-07   5.26511709e-07\n",
        "   5.45324810e-07   5.55783302e-07   5.59938218e-07   5.56382059e-07\n",
        "   5.41780589e-07   5.15095904e-07   4.76894597e-07   4.28512061e-07\n",
        "   3.71010401e-07   3.04410963e-07   2.28175861e-07   1.42021678e-07\n",
        "   4.43701711e-08]\n",
        "1.44246804926\n",
        "0.955908538253\n",
        "0.955908552497\n",
        "2014-08-04 19:23:00,481 INFO CLAW: Solution 0 computed for time t=0.000000\n"
       ]
      },
      {
       "output_type": "stream",
       "stream": "stdout",
       "text": [
        "2014-08-04 19:23:00,490 INFO CLAW: Solution 1 computed for time t=0.032258\n"
       ]
      },
      {
       "output_type": "stream",
       "stream": "stdout",
       "text": [
        "2014-08-04 19:23:00,511 INFO CLAW: Solution 2 computed for time t=0.161290\n"
       ]
      },
      {
       "output_type": "stream",
       "stream": "stdout",
       "text": [
        "2014-08-04 19:23:00,530 INFO CLAW: Solution 3 computed for time t=0.290323\n"
       ]
      },
      {
       "output_type": "stream",
       "stream": "stdout",
       "text": [
        "2014-08-04 19:23:00,623 INFO CLAW: Solution 4 computed for time t=1.000000\n"
       ]
      },
      {
       "output_type": "stream",
       "stream": "stdout",
       "text": [
        "[ -1.53667663e-03   4.32479463e-02   7.02771132e-02   8.61929322e-02\n",
        "   9.11124438e-02   8.34721682e-02   6.58315506e-02   4.77438358e-02\n",
        "   3.24662691e-02   1.91785123e-02   1.74177437e-02   2.92186638e-02\n",
        "   4.55712257e-02   6.79274458e-02   1.03145649e-01   1.55166782e-01\n",
        "   2.26705504e-01   3.11582676e-01   3.92391206e-01   4.38605718e-01\n",
        "   4.48759206e-01   4.38822193e-01   4.11194656e-01   3.62764888e-01\n",
        "   2.94706092e-01   2.18281111e-01   1.48469093e-01   9.60933841e-02\n",
        "   6.20899782e-02   5.43785810e-02   1.69184864e-02   4.34020810e-05\n",
        "   5.59887553e-03   2.45996620e-05  -5.89665987e-07   9.96712137e-07\n",
        "   1.93842558e-06   2.36866399e-06   2.29999583e-06   1.84310999e-06\n",
        "   1.16048489e-06   4.91154944e-07  -7.62317547e-08  -5.46343936e-07\n",
        "  -9.11474947e-07  -1.16491931e-06  -1.31128505e-06  -1.38742313e-06\n",
        "  -1.42225906e-06  -1.42845871e-06  -1.38281493e-06  -1.27993351e-06\n",
        "  -1.12490282e-06  -9.35256884e-07  -7.49730227e-07  -5.79626834e-07\n",
        "  -4.22081036e-07  -2.76728660e-07  -1.44431875e-07  -2.51631658e-08\n",
        "   8.25371744e-08   1.79017954e-07   2.64473311e-07   3.38430434e-07\n",
        "   4.02254690e-07   4.55435704e-07   4.97339392e-07   5.26511709e-07\n",
        "   5.45324810e-07   5.55783302e-07   5.59938218e-07   5.56382059e-07\n",
        "   5.41780589e-07   5.15095904e-07   4.76894597e-07   4.28512061e-07\n",
        "   3.71010401e-07   3.04410963e-07   2.28175861e-07   1.42021678e-07\n",
        "   4.43701719e-08]\n",
        "1.44246804898\n",
        "0.955908552497\n",
        "0.955908538253\n",
        "2014-08-04 19:23:00,630 INFO CLAW: Solution 0 computed for time t=0.000000\n"
       ]
      },
      {
       "output_type": "stream",
       "stream": "stdout",
       "text": [
        "2014-08-04 19:23:00,638 INFO CLAW: Solution 1 computed for time t=0.032258\n"
       ]
      },
      {
       "output_type": "stream",
       "stream": "stdout",
       "text": [
        "2014-08-04 19:23:00,658 INFO CLAW: Solution 2 computed for time t=0.161290\n"
       ]
      },
      {
       "output_type": "stream",
       "stream": "stdout",
       "text": [
        "2014-08-04 19:23:00,679 INFO CLAW: Solution 3 computed for time t=0.290323\n"
       ]
      },
      {
       "output_type": "stream",
       "stream": "stdout",
       "text": [
        "2014-08-04 19:23:00,766 INFO CLAW: Solution 4 computed for time t=1.000000\n"
       ]
      },
      {
       "output_type": "stream",
       "stream": "stdout",
       "text": [
        "[ -1.53667663e-03   4.32479463e-02   7.02771134e-02   8.61929327e-02\n",
        "   9.11124447e-02   8.34721696e-02   6.58315522e-02   4.77438375e-02\n",
        "   3.24662707e-02   1.91785136e-02   1.74177444e-02   2.92186639e-02\n",
        "   4.55712254e-02   6.79274445e-02   1.03145646e-01   1.55166777e-01\n",
        "   2.26705498e-01   3.11582668e-01   3.92391198e-01   4.38605713e-01\n",
        "   4.48759201e-01   4.38822188e-01   4.11194652e-01   3.62764885e-01\n",
        "   2.94706089e-01   2.18281110e-01   1.48469093e-01   9.60933839e-02\n",
        "   6.20899782e-02   5.43785810e-02   1.69184864e-02   4.34020795e-05\n",
        "   5.59887553e-03   2.45996619e-05  -5.89666013e-07   9.96712136e-07\n",
        "   1.93842559e-06   2.36866403e-06   2.29999591e-06   1.84311009e-06\n",
        "   1.16048501e-06   4.91155045e-07  -7.62316676e-08  -5.46343866e-07\n",
        "  -9.11474895e-07  -1.16491927e-06  -1.31128503e-06  -1.38742312e-06\n",
        "  -1.42225906e-06  -1.42845871e-06  -1.38281495e-06  -1.27993355e-06\n",
        "  -1.12490286e-06  -9.35256931e-07  -7.49730270e-07  -5.79626874e-07\n",
        "  -4.22081073e-07  -2.76728694e-07  -1.44431906e-07  -2.51631929e-08\n",
        "   8.25371505e-08   1.79017933e-07   2.64473293e-07   3.38430419e-07\n",
        "   4.02254677e-07   4.55435695e-07   4.97339385e-07   5.26511705e-07\n",
        "   5.45324808e-07   5.55783302e-07   5.59938219e-07   5.56382061e-07\n",
        "   5.41780594e-07   5.15095912e-07   4.76894606e-07   4.28512072e-07\n",
        "   3.71010413e-07   3.04410977e-07   2.28175876e-07   1.42021694e-07\n",
        "   4.43701876e-08]\n",
        "1.44246801189\n",
        "0.955908538253\n",
        "0.962996549687\n",
        "2014-08-04 19:23:00,774 INFO CLAW: Solution 0 computed for time t=0.000000\n"
       ]
      },
      {
       "output_type": "stream",
       "stream": "stdout",
       "text": [
        "2014-08-04 19:23:00,784 INFO CLAW: Solution 1 computed for time t=0.032258\n"
       ]
      },
      {
       "output_type": "stream",
       "stream": "stdout",
       "text": [
        "2014-08-04 19:23:00,804 INFO CLAW: Solution 2 computed for time t=0.161290\n"
       ]
      },
      {
       "output_type": "stream",
       "stream": "stdout",
       "text": [
        "2014-08-04 19:23:00,824 INFO CLAW: Solution 3 computed for time t=0.290323\n"
       ]
      },
      {
       "output_type": "stream",
       "stream": "stdout",
       "text": [
        "2014-08-04 19:23:00,910 INFO CLAW: Solution 4 computed for time t=1.000000\n"
       ]
      },
      {
       "output_type": "stream",
       "stream": "stdout",
       "text": [
        "[ -1.53667663e-03   4.32552980e-02   7.03255223e-02   8.63314936e-02\n",
        "   9.13652990e-02   8.38459955e-02   6.62752097e-02   4.81969915e-02\n",
        "   3.29082657e-02   1.95282304e-02   1.75884912e-02   2.92501021e-02\n",
        "   4.54978202e-02   6.76089543e-02   1.02437441e-01   1.53966260e-01\n",
        "   2.24970764e-01   3.09361529e-01   3.90308345e-01   4.37020297e-01\n",
        "   4.47395179e-01   4.37498978e-01   4.09982753e-01   3.61822846e-01\n",
        "   2.94101572e-01   2.17951815e-01   1.48315762e-01   9.60329327e-02\n",
        "   6.20694491e-02   5.43717923e-02   1.69164892e-02   4.28819777e-05\n",
        "   5.59875541e-03   2.45645340e-05  -5.99127233e-07   9.94730619e-07\n",
        "   1.94115191e-06   2.37926497e-06   2.31976031e-06   1.87108757e-06\n",
        "   1.19250752e-06   5.18984633e-07  -5.26371338e-08  -5.27354744e-07\n",
        "  -8.97557928e-07  -1.15610291e-06  -1.30674712e-06  -1.38573050e-06\n",
        "  -1.42194754e-06  -1.42999603e-06  -1.38777407e-06  -1.28877994e-06\n",
        "  -1.13709435e-06  -9.48577155e-07  -7.61685917e-07  -5.90540250e-07\n",
        "  -4.32074936e-07  -2.85828401e-07  -1.52645472e-07  -3.25057494e-08\n",
        "   7.60397868e-08   1.73329558e-07   2.59554631e-07   3.34255661e-07\n",
        "   3.98828709e-07   4.52780805e-07   4.95464309e-07   5.25352190e-07\n",
        "   5.44734237e-07   5.55552755e-07   5.59927097e-07   5.56889549e-07\n",
        "   5.43064184e-07   5.17167497e-07   4.79565831e-07   4.31534913e-07\n",
        "   3.74303755e-07   3.08054092e-07   2.32161927e-07   1.46453153e-07\n",
        "   4.92391493e-08]\n",
        "1.43239281769\n",
        "0.962996549687\n",
        "0.962996564037\n",
        "2014-08-04 19:23:00,917 INFO CLAW: Solution 0 computed for time t=0.000000\n"
       ]
      },
      {
       "output_type": "stream",
       "stream": "stdout",
       "text": [
        "2014-08-04 19:23:00,927 INFO CLAW: Solution 1 computed for time t=0.032258\n"
       ]
      },
      {
       "output_type": "stream",
       "stream": "stdout",
       "text": [
        "2014-08-04 19:23:00,947 INFO CLAW: Solution 2 computed for time t=0.161290\n"
       ]
      },
      {
       "output_type": "stream",
       "stream": "stdout",
       "text": [
        "2014-08-04 19:23:00,967 INFO CLAW: Solution 3 computed for time t=0.290323\n"
       ]
      },
      {
       "output_type": "stream",
       "stream": "stdout",
       "text": [
        "2014-08-04 19:23:01,057 INFO CLAW: Solution 4 computed for time t=1.000000\n"
       ]
      },
      {
       "output_type": "stream",
       "stream": "stdout",
       "text": [
        "[ -1.53667663e-03   4.32552980e-02   7.03255223e-02   8.63314936e-02\n",
        "   9.13652990e-02   8.38459955e-02   6.62752097e-02   4.81969916e-02\n",
        "   3.29082657e-02   1.95282304e-02   1.75884912e-02   2.92501021e-02\n",
        "   4.54978202e-02   6.76089543e-02   1.02437441e-01   1.53966260e-01\n",
        "   2.24970764e-01   3.09361529e-01   3.90308345e-01   4.37020297e-01\n",
        "   4.47395179e-01   4.37498978e-01   4.09982753e-01   3.61822846e-01\n",
        "   2.94101572e-01   2.17951815e-01   1.48315762e-01   9.60329327e-02\n",
        "   6.20694491e-02   5.43717923e-02   1.69164892e-02   4.28819775e-05\n",
        "   5.59875541e-03   2.45645340e-05  -5.99127236e-07   9.94730617e-07\n",
        "   1.94115191e-06   2.37926497e-06   2.31976031e-06   1.87108757e-06\n",
        "   1.19250752e-06   5.18984634e-07  -5.26371336e-08  -5.27354744e-07\n",
        "  -8.97557928e-07  -1.15610291e-06  -1.30674712e-06  -1.38573050e-06\n",
        "  -1.42194754e-06  -1.42999603e-06  -1.38777407e-06  -1.28877994e-06\n",
        "  -1.13709435e-06  -9.48577156e-07  -7.61685918e-07  -5.90540250e-07\n",
        "  -4.32074936e-07  -2.85828401e-07  -1.52645472e-07  -3.25057495e-08\n",
        "   7.60397867e-08   1.73329558e-07   2.59554630e-07   3.34255661e-07\n",
        "   3.98828709e-07   4.52780805e-07   4.95464309e-07   5.25352190e-07\n",
        "   5.44734237e-07   5.55552755e-07   5.59927097e-07   5.56889549e-07\n",
        "   5.43064184e-07   5.17167497e-07   4.79565831e-07   4.31534913e-07\n",
        "   3.74303755e-07   3.08054092e-07   2.32161927e-07   1.46453154e-07\n",
        "   4.92391503e-08]\n",
        "1.43239281749\n",
        "0.962996564037\n",
        "0.962996549687\n",
        "2014-08-04 19:23:01,064 INFO CLAW: Solution 0 computed for time t=0.000000\n"
       ]
      },
      {
       "output_type": "stream",
       "stream": "stdout",
       "text": [
        "2014-08-04 19:23:01,073 INFO CLAW: Solution 1 computed for time t=0.032258\n"
       ]
      },
      {
       "output_type": "stream",
       "stream": "stdout",
       "text": [
        "2014-08-04 19:23:01,092 INFO CLAW: Solution 2 computed for time t=0.161290\n"
       ]
      },
      {
       "output_type": "stream",
       "stream": "stdout",
       "text": [
        "2014-08-04 19:23:01,112 INFO CLAW: Solution 3 computed for time t=0.290323\n"
       ]
      },
      {
       "output_type": "stream",
       "stream": "stdout",
       "text": [
        "2014-08-04 19:23:01,189 INFO CLAW: Solution 4 computed for time t=1.000000\n"
       ]
      },
      {
       "output_type": "stream",
       "stream": "stdout",
       "text": [
        "[ -1.53667663e-03   4.32552980e-02   7.03255225e-02   8.63314941e-02\n",
        "   9.13652999e-02   8.38459969e-02   6.62752113e-02   4.81969932e-02\n",
        "   3.29082674e-02   1.95282318e-02   1.75884918e-02   2.92501022e-02\n",
        "   4.54978199e-02   6.76089531e-02   1.02437438e-01   1.53966256e-01\n",
        "   2.24970758e-01   3.09361521e-01   3.90308337e-01   4.37020291e-01\n",
        "   4.47395174e-01   4.37498973e-01   4.09982748e-01   3.61822842e-01\n",
        "   2.94101570e-01   2.17951814e-01   1.48315761e-01   9.60329325e-02\n",
        "   6.20694490e-02   5.43717923e-02   1.69164892e-02   4.28819759e-05\n",
        "   5.59875541e-03   2.45645339e-05  -5.99127264e-07   9.94730615e-07\n",
        "   1.94115193e-06   2.37926501e-06   2.31976038e-06   1.87108767e-06\n",
        "   1.19250763e-06   5.18984737e-07  -5.26370453e-08  -5.27354672e-07\n",
        "  -8.97557875e-07  -1.15610288e-06  -1.30674711e-06  -1.38573049e-06\n",
        "  -1.42194755e-06  -1.42999604e-06  -1.38777409e-06  -1.28877997e-06\n",
        "  -1.13709439e-06  -9.48577204e-07  -7.61685962e-07  -5.90540291e-07\n",
        "  -4.32074973e-07  -2.85828435e-07  -1.52645502e-07  -3.25057768e-08\n",
        "   7.60397625e-08   1.73329537e-07   2.59554612e-07   3.34255645e-07\n",
        "   3.98828696e-07   4.52780795e-07   4.95464302e-07   5.25352186e-07\n",
        "   5.44734235e-07   5.55552755e-07   5.59927097e-07   5.56889552e-07\n",
        "   5.43064189e-07   5.17167504e-07   4.79565841e-07   4.31534924e-07\n",
        "   3.74303767e-07   3.08054105e-07   2.32161942e-07   1.46453169e-07\n",
        "   4.92391661e-08]\n",
        "1.43239278032\n",
        "0.962996549687\n",
        "0.973421759175\n",
        "2014-08-04 19:23:01,196 INFO CLAW: Solution 0 computed for time t=0.000000\n"
       ]
      },
      {
       "output_type": "stream",
       "stream": "stdout",
       "text": [
        "2014-08-04 19:23:01,205 INFO CLAW: Solution 1 computed for time t=0.032258\n"
       ]
      },
      {
       "output_type": "stream",
       "stream": "stdout",
       "text": [
        "2014-08-04 19:23:01,223 INFO CLAW: Solution 2 computed for time t=0.161290\n"
       ]
      },
      {
       "output_type": "stream",
       "stream": "stdout",
       "text": [
        "2014-08-04 19:23:01,243 INFO CLAW: Solution 3 computed for time t=0.290323\n"
       ]
      },
      {
       "output_type": "stream",
       "stream": "stdout",
       "text": [
        "2014-08-04 19:23:01,321 INFO CLAW: Solution 4 computed for time t=1.000000\n"
       ]
      },
      {
       "output_type": "stream",
       "stream": "stdout",
       "text": [
        "[ -1.53667663e-03   4.32695340e-02   7.04200694e-02   8.66030640e-02\n",
        "   9.18612266e-02   8.45785479e-02   6.71475232e-02   4.90909210e-02\n",
        "   3.37773682e-02   2.02274117e-02   1.79351032e-02   2.93090200e-02\n",
        "   4.53430279e-02   6.69726141e-02   1.01041012e-01   1.51613904e-01\n",
        "   2.21583682e-01   3.05022537e-01   3.86184186e-01   4.33878460e-01\n",
        "   4.44720758e-01   4.34890682e-01   4.07562998e-01   3.59924398e-01\n",
        "   2.92879548e-01   2.17286989e-01   1.48007394e-01   9.59120828e-02\n",
        "   6.20287145e-02   5.43584112e-02   1.69125780e-02   4.18681767e-05\n",
        "   5.59852074e-03   2.44952688e-05  -6.17632812e-07   9.91724472e-07\n",
        "   1.94701627e-06   2.39977880e-06   2.35752545e-06   1.92450360e-06\n",
        "   1.25464503e-06   5.74295211e-07  -5.35410267e-09  -4.88941647e-07\n",
        "  -8.69119047e-07  -1.13790301e-06  -1.29737161e-06  -1.38244493e-06\n",
        "  -1.42170997e-06  -1.43316137e-06  -1.39722451e-06  -1.30546562e-06\n",
        "  -1.16014379e-06  -9.74460171e-07  -7.85399061e-07  -6.12252062e-07\n",
        "  -4.51988281e-07  -3.03980769e-07  -1.69050153e-07  -4.71885842e-08\n",
        "   6.30347413e-08   1.61932389e-07   2.49676459e-07   3.25828808e-07\n",
        "   3.91860449e-07   4.47327140e-07   4.91569123e-07   5.22934763e-07\n",
        "   5.43538025e-07   5.55165354e-07   5.60000252e-07   5.57855202e-07\n",
        "   5.45417394e-07   5.20990669e-07   4.84595507e-07   4.37349657e-07\n",
        "   3.80712485e-07   3.15135717e-07   2.39960073e-07   1.54861442e-07\n",
        "   5.87692744e-08]\n",
        "1.4126161513\n",
        "0.973421759175\n",
        "0.97342177368\n",
        "2014-08-04 19:23:01,328 INFO CLAW: Solution 0 computed for time t=0.000000\n"
       ]
      },
      {
       "output_type": "stream",
       "stream": "stdout",
       "text": [
        "2014-08-04 19:23:01,336 INFO CLAW: Solution 1 computed for time t=0.032258\n"
       ]
      },
      {
       "output_type": "stream",
       "stream": "stdout",
       "text": [
        "2014-08-04 19:23:01,356 INFO CLAW: Solution 2 computed for time t=0.161290\n"
       ]
      },
      {
       "output_type": "stream",
       "stream": "stdout",
       "text": [
        "2014-08-04 19:23:01,377 INFO CLAW: Solution 3 computed for time t=0.290323\n"
       ]
      },
      {
       "output_type": "stream",
       "stream": "stdout",
       "text": [
        "2014-08-04 19:23:01,455 INFO CLAW: Solution 4 computed for time t=1.000000\n"
       ]
      },
      {
       "output_type": "stream",
       "stream": "stdout",
       "text": [
        "[ -1.53667663e-03   4.32695340e-02   7.04200694e-02   8.66030640e-02\n",
        "   9.18612266e-02   8.45785479e-02   6.71475232e-02   4.90909210e-02\n",
        "   3.37773682e-02   2.02274117e-02   1.79351032e-02   2.93090200e-02\n",
        "   4.53430279e-02   6.69726141e-02   1.01041012e-01   1.51613904e-01\n",
        "   2.21583682e-01   3.05022537e-01   3.86184186e-01   4.33878460e-01\n",
        "   4.44720758e-01   4.34890682e-01   4.07562998e-01   3.59924398e-01\n",
        "   2.92879548e-01   2.17286989e-01   1.48007394e-01   9.59120828e-02\n",
        "   6.20287145e-02   5.43584112e-02   1.69125780e-02   4.18681767e-05\n",
        "   5.59852074e-03   2.44952688e-05  -6.17632814e-07   9.91724471e-07\n",
        "   1.94701627e-06   2.39977880e-06   2.35752545e-06   1.92450360e-06\n",
        "   1.25464503e-06   5.74295212e-07  -5.35410251e-09  -4.88941647e-07\n",
        "  -8.69119047e-07  -1.13790301e-06  -1.29737161e-06  -1.38244493e-06\n",
        "  -1.42170997e-06  -1.43316137e-06  -1.39722451e-06  -1.30546562e-06\n",
        "  -1.16014379e-06  -9.74460171e-07  -7.85399061e-07  -6.12252062e-07\n",
        "  -4.51988281e-07  -3.03980770e-07  -1.69050153e-07  -4.71885842e-08\n",
        "   6.30347412e-08   1.61932389e-07   2.49676459e-07   3.25828808e-07\n",
        "   3.91860449e-07   4.47327140e-07   4.91569123e-07   5.22934763e-07\n",
        "   5.43538025e-07   5.55165354e-07   5.60000252e-07   5.57855202e-07\n",
        "   5.45417394e-07   5.20990669e-07   4.84595507e-07   4.37349657e-07\n",
        "   3.80712485e-07   3.15135717e-07   2.39960073e-07   1.54861442e-07\n",
        "   5.87692754e-08]\n",
        "1.41261615121\n",
        "0.97342177368\n",
        "0.973421759175\n",
        "2014-08-04 19:23:01,462 INFO CLAW: Solution 0 computed for time t=0.000000\n"
       ]
      },
      {
       "output_type": "stream",
       "stream": "stdout",
       "text": [
        "2014-08-04 19:23:01,471 INFO CLAW: Solution 1 computed for time t=0.032258\n"
       ]
      },
      {
       "output_type": "stream",
       "stream": "stdout",
       "text": [
        "2014-08-04 19:23:01,490 INFO CLAW: Solution 2 computed for time t=0.161290\n"
       ]
      },
      {
       "output_type": "stream",
       "stream": "stdout",
       "text": [
        "2014-08-04 19:23:01,509 INFO CLAW: Solution 3 computed for time t=0.290323\n"
       ]
      },
      {
       "output_type": "stream",
       "stream": "stdout",
       "text": [
        "2014-08-04 19:23:01,588 INFO CLAW: Solution 4 computed for time t=1.000000\n"
       ]
      },
      {
       "output_type": "stream",
       "stream": "stdout",
       "text": [
        "[ -1.53667663e-03   4.32695341e-02   7.04200696e-02   8.66030645e-02\n",
        "   9.18612275e-02   8.45785493e-02   6.71475248e-02   4.90909227e-02\n",
        "   3.37773698e-02   2.02274130e-02   1.79351038e-02   2.93090201e-02\n",
        "   4.53430276e-02   6.69726128e-02   1.01041010e-01   1.51613900e-01\n",
        "   2.21583675e-01   3.05022528e-01   3.86184178e-01   4.33878454e-01\n",
        "   4.44720753e-01   4.34890677e-01   4.07562993e-01   3.59924395e-01\n",
        "   2.92879546e-01   2.17286987e-01   1.48007394e-01   9.59120825e-02\n",
        "   6.20287145e-02   5.43584112e-02   1.69125780e-02   4.18681749e-05\n",
        "   5.59852074e-03   2.44952686e-05  -6.17632846e-07   9.91724469e-07\n",
        "   1.94701628e-06   2.39977883e-06   2.35752552e-06   1.92450370e-06\n",
        "   1.25464514e-06   5.74295317e-07  -5.35401204e-09  -4.88941573e-07\n",
        "  -8.69118992e-07  -1.13790297e-06  -1.29737159e-06  -1.38244492e-06\n",
        "  -1.42170997e-06  -1.43316138e-06  -1.39722453e-06  -1.30546565e-06\n",
        "  -1.16014383e-06  -9.74460219e-07  -7.85399106e-07  -6.12252103e-07\n",
        "  -4.51988319e-07  -3.03980804e-07  -1.69050185e-07  -4.71886123e-08\n",
        "   6.30347164e-08   1.61932367e-07   2.49676440e-07   3.25828792e-07\n",
        "   3.91860436e-07   4.47327129e-07   4.91569116e-07   5.22934759e-07\n",
        "   5.43538023e-07   5.55165354e-07   5.60000253e-07   5.57855204e-07\n",
        "   5.45417398e-07   5.20990676e-07   4.84595516e-07   4.37349668e-07\n",
        "   3.80712497e-07   3.15135730e-07   2.39960088e-07   1.54861458e-07\n",
        "   5.87692917e-08]\n",
        "1.41261611391\n",
        "0.973421759175\n",
        "0.982236699739\n",
        "2014-08-04 19:23:01,594 INFO CLAW: Solution 0 computed for time t=0.000000\n"
       ]
      },
      {
       "output_type": "stream",
       "stream": "stdout",
       "text": [
        "2014-08-04 19:23:01,605 INFO CLAW: Solution 1 computed for time t=0.032258\n"
       ]
      },
      {
       "output_type": "stream",
       "stream": "stdout",
       "text": [
        "2014-08-04 19:23:01,625 INFO CLAW: Solution 2 computed for time t=0.161290\n"
       ]
      },
      {
       "output_type": "stream",
       "stream": "stdout",
       "text": [
        "2014-08-04 19:23:01,645 INFO CLAW: Solution 3 computed for time t=0.290323\n"
       ]
      },
      {
       "output_type": "stream",
       "stream": "stdout",
       "text": [
        "2014-08-04 19:23:01,735 INFO CLAW: Solution 4 computed for time t=1.000000\n"
       ]
      },
      {
       "output_type": "stream",
       "stream": "stdout",
       "text": [
        "[ -1.53667663e-03   4.32973893e-02   7.06050360e-02   8.71340134e-02\n",
        "   9.28305271e-02   8.60122992e-02   6.88594244e-02   5.08489337e-02\n",
        "   3.54891685e-02   2.16208495e-02   1.86376233e-02   2.94329334e-02\n",
        "   4.50593168e-02   6.57676036e-02   9.83734558e-02   1.47093537e-01\n",
        "   2.15042476e-01   2.96540500e-01   3.77986582e-01   4.27614086e-01\n",
        "   4.39440288e-01   4.29744310e-01   4.02738768e-01   3.56084498e-01\n",
        "   2.90371626e-01   2.15903685e-01   1.47356488e-01   9.56528669e-02\n",
        "   6.19397599e-02   5.43287208e-02   1.69037544e-02   3.95451819e-05\n",
        "   5.59797774e-03   2.43348130e-05  -6.61225599e-07   9.84475175e-07\n",
        "   1.95551336e-06   2.43567804e-06   2.42667994e-06   2.02493019e-06\n",
        "   1.37719892e-06   6.85836097e-07   9.03751758e-08  -4.10273671e-07\n",
        "  -8.09920594e-07  -1.09913112e-06  -1.27663218e-06  -1.37473172e-06\n",
        "  -1.42066879e-06  -1.43770434e-06  -1.41318620e-06  -1.33540471e-06\n",
        "  -1.20312849e-06  -1.02581535e-06  -8.33037356e-07  -6.55739529e-07\n",
        "  -4.91885888e-07  -3.40410023e-07  -2.02046143e-07  -7.67938093e-08\n",
        "   3.67477974e-08   1.38834726e-07   2.29582781e-07   3.08572269e-07\n",
        "   3.77433228e-07   4.35854585e-07   4.83191751e-07   5.17573471e-07\n",
        "   5.40750715e-07   5.54194102e-07   5.59963457e-07   5.59139062e-07\n",
        "   5.49185076e-07   5.27654408e-07   4.93872953e-07   4.48463162e-07\n",
        "   3.93038279e-07   3.28660188e-07   2.54861416e-07   1.71066073e-07\n",
        "   7.62529607e-08]\n",
        "1.37399598314\n",
        "0.982236699739\n",
        "0.982236714376\n",
        "2014-08-04 19:23:01,743 INFO CLAW: Solution 0 computed for time t=0.000000\n"
       ]
      },
      {
       "output_type": "stream",
       "stream": "stdout",
       "text": [
        "2014-08-04 19:23:01,754 INFO CLAW: Solution 1 computed for time t=0.032258\n"
       ]
      },
      {
       "output_type": "stream",
       "stream": "stdout",
       "text": [
        "2014-08-04 19:23:01,776 INFO CLAW: Solution 2 computed for time t=0.161290\n"
       ]
      },
      {
       "output_type": "stream",
       "stream": "stdout",
       "text": [
        "2014-08-04 19:23:01,798 INFO CLAW: Solution 3 computed for time t=0.290323\n"
       ]
      },
      {
       "output_type": "stream",
       "stream": "stdout",
       "text": [
        "2014-08-04 19:23:01,888 INFO CLAW: Solution 4 computed for time t=1.000000\n"
       ]
      },
      {
       "output_type": "stream",
       "stream": "stdout",
       "text": [
        "[ -1.53667663e-03   4.32973893e-02   7.06050360e-02   8.71340134e-02\n",
        "   9.28305271e-02   8.60122992e-02   6.88594244e-02   5.08489337e-02\n",
        "   3.54891685e-02   2.16208495e-02   1.86376232e-02   2.94329335e-02\n",
        "   4.50593168e-02   6.57676037e-02   9.83734558e-02   1.47093537e-01\n",
        "   2.15042476e-01   2.96540500e-01   3.77986581e-01   4.27614086e-01\n",
        "   4.39440288e-01   4.29744310e-01   4.02738768e-01   3.56084498e-01\n",
        "   2.90371626e-01   2.15903685e-01   1.47356488e-01   9.56528669e-02\n",
        "   6.19397599e-02   5.43287208e-02   1.69037544e-02   3.95451816e-05\n",
        "   5.59797774e-03   2.43348130e-05  -6.61225606e-07   9.84475171e-07\n",
        "   1.95551335e-06   2.43567804e-06   2.42667994e-06   2.02493020e-06\n",
        "   1.37719893e-06   6.85836099e-07   9.03751767e-08  -4.10273671e-07\n",
        "  -8.09920594e-07  -1.09913112e-06  -1.27663218e-06  -1.37473172e-06\n",
        "  -1.42066879e-06  -1.43770434e-06  -1.41318620e-06  -1.33540471e-06\n",
        "  -1.20312849e-06  -1.02581536e-06  -8.33037357e-07  -6.55739529e-07\n",
        "  -4.91885888e-07  -3.40410023e-07  -2.02046144e-07  -7.67938095e-08\n",
        "   3.67477972e-08   1.38834726e-07   2.29582781e-07   3.08572269e-07\n",
        "   3.77433228e-07   4.35854585e-07   4.83191751e-07   5.17573471e-07\n",
        "   5.40750715e-07   5.54194102e-07   5.59963457e-07   5.59139061e-07\n",
        "   5.49185076e-07   5.27654408e-07   4.93872954e-07   4.48463162e-07\n",
        "   3.93038279e-07   3.28660189e-07   2.54861416e-07   1.71066073e-07\n",
        "   7.62529603e-08]\n",
        "1.37399598276\n",
        "0.982236714376\n",
        "0.982236699739\n",
        "2014-08-04 19:23:01,896 INFO CLAW: Solution 0 computed for time t=0.000000\n"
       ]
      },
      {
       "output_type": "stream",
       "stream": "stdout",
       "text": [
        "2014-08-04 19:23:01,908 INFO CLAW: Solution 1 computed for time t=0.032258\n"
       ]
      },
      {
       "output_type": "stream",
       "stream": "stdout",
       "text": [
        "2014-08-04 19:23:01,929 INFO CLAW: Solution 2 computed for time t=0.161290\n"
       ]
      },
      {
       "output_type": "stream",
       "stream": "stdout",
       "text": [
        "2014-08-04 19:23:01,950 INFO CLAW: Solution 3 computed for time t=0.290323\n"
       ]
      },
      {
       "output_type": "stream",
       "stream": "stdout",
       "text": [
        "2014-08-04 19:23:02,042 INFO CLAW: Solution 4 computed for time t=1.000000\n"
       ]
      },
      {
       "output_type": "stream",
       "stream": "stdout",
       "text": [
        "[ -1.53667663e-03   4.32973894e-02   7.06050361e-02   8.71340139e-02\n",
        "   9.28305280e-02   8.60123006e-02   6.88594261e-02   5.08489354e-02\n",
        "   3.54891702e-02   2.16208509e-02   1.86376240e-02   2.94329336e-02\n",
        "   4.50593165e-02   6.57676025e-02   9.83734532e-02   1.47093533e-01\n",
        "   2.15042469e-01   2.96540492e-01   3.77986573e-01   4.27614080e-01\n",
        "   4.39440282e-01   4.29744305e-01   4.02738763e-01   3.56084494e-01\n",
        "   2.90371623e-01   2.15903683e-01   1.47356487e-01   9.56528666e-02\n",
        "   6.19397598e-02   5.43287208e-02   1.69037544e-02   3.95451793e-05\n",
        "   5.59797774e-03   2.43348128e-05  -6.61225649e-07   9.84475165e-07\n",
        "   1.95551336e-06   2.43567807e-06   2.42668000e-06   2.02493029e-06\n",
        "   1.37719904e-06   6.85836209e-07   9.03752718e-08  -4.10273592e-07\n",
        "  -8.09920534e-07  -1.09913108e-06  -1.27663215e-06  -1.37473171e-06\n",
        "  -1.42066878e-06  -1.43770435e-06  -1.41318621e-06  -1.33540473e-06\n",
        "  -1.20312853e-06  -1.02581540e-06  -8.33037403e-07  -6.55739572e-07\n",
        "  -4.91885928e-07  -3.40410059e-07  -2.02046176e-07  -7.67938389e-08\n",
        "   3.67477710e-08   1.38834703e-07   2.29582761e-07   3.08572252e-07\n",
        "   3.77433213e-07   4.35854573e-07   4.83191742e-07   5.17573465e-07\n",
        "   5.40750712e-07   5.54194101e-07   5.59963457e-07   5.59139062e-07\n",
        "   5.49185080e-07   5.27654414e-07   4.93872962e-07   4.48463173e-07\n",
        "   3.93038291e-07   3.28660202e-07   2.54861431e-07   1.71066089e-07\n",
        "   7.62529769e-08]\n",
        "1.37399594522\n",
        "0.982236699739\n",
        "0.989771251283\n",
        "2014-08-04 19:23:02,050 INFO CLAW: Solution 0 computed for time t=0.000000\n"
       ]
      },
      {
       "output_type": "stream",
       "stream": "stdout",
       "text": [
        "2014-08-04 19:23:02,060 INFO CLAW: Solution 1 computed for time t=0.032258\n"
       ]
      },
      {
       "output_type": "stream",
       "stream": "stdout",
       "text": [
        "2014-08-04 19:23:02,081 INFO CLAW: Solution 2 computed for time t=0.161290\n"
       ]
      },
      {
       "output_type": "stream",
       "stream": "stdout",
       "text": [
        "2014-08-04 19:23:02,103 INFO CLAW: Solution 3 computed for time t=0.290323\n"
       ]
      },
      {
       "output_type": "stream",
       "stream": "stdout",
       "text": [
        "2014-08-04 19:23:02,196 INFO CLAW: Solution 4 computed for time t=1.000000\n"
       ]
      },
      {
       "output_type": "stream",
       "stream": "stdout",
       "text": [
        "[ -1.53667663e-03   4.33033184e-02   7.06434058e-02   8.72428098e-02\n",
        "   9.30287556e-02   8.63069919e-02   6.92101382e-02   5.12066400e-02\n",
        "   3.58429387e-02   2.19013985e-02   1.87797833e-02   2.94655468e-02\n",
        "   4.50209593e-02   6.55533018e-02   9.78672388e-02   1.46205158e-01\n",
        "   2.13727826e-01   2.94794273e-01   3.76287570e-01   4.26314486e-01\n",
        "   4.38337092e-01   4.28684168e-01   4.01759000e-01   3.55300769e-01\n",
        "   2.89846681e-01   2.15602989e-01   1.47208120e-01   9.55903054e-02\n",
        "   6.19168592e-02   5.43206357e-02   1.69012128e-02   3.88421252e-05\n",
        "   5.59780942e-03   2.42858711e-05  -6.74924527e-07   9.80980078e-07\n",
        "   1.95531069e-06   2.44119200e-06   2.43960077e-06   2.04518729e-06\n",
        "   1.40355490e-06   7.09383806e-07   1.10350780e-07  -3.93968594e-07\n",
        "  -7.97561757e-07  -1.09080007e-06  -1.27181707e-06  -1.37246856e-06\n",
        "  -1.41979248e-06  -1.43772280e-06  -1.41554165e-06  -1.34089235e-06\n",
        "  -1.21176540e-06  -1.03691043e-06  -8.43203339e-07  -6.64805687e-07\n",
        "  -5.00135488e-07  -3.47934065e-07  -2.08868917e-07  -8.29268783e-08\n",
        "   3.12861062e-08   1.34017022e-07   2.25378968e-07   3.04961772e-07\n",
        "   3.74416323e-07   4.33442312e-07   4.81388800e-07   5.16346211e-07\n",
        "   5.40016639e-07   5.53821196e-07   5.59782325e-07   5.59163442e-07\n",
        "   5.49719555e-07   5.28859738e-07   4.95736303e-07   4.50775092e-07\n",
        "   3.95564576e-07   3.31358639e-07   2.57825542e-07   1.74347448e-07\n",
        "   7.93831683e-08]\n",
        "1.36614107811\n",
        "0.989771251283\n",
        "0.989771266032\n",
        "2014-08-04 19:23:02,203 INFO CLAW: Solution 0 computed for time t=0.000000\n"
       ]
      },
      {
       "output_type": "stream",
       "stream": "stdout",
       "text": [
        "2014-08-04 19:23:02,213 INFO CLAW: Solution 1 computed for time t=0.032258\n"
       ]
      },
      {
       "output_type": "stream",
       "stream": "stdout",
       "text": [
        "2014-08-04 19:23:02,234 INFO CLAW: Solution 2 computed for time t=0.161290\n"
       ]
      },
      {
       "output_type": "stream",
       "stream": "stdout",
       "text": [
        "2014-08-04 19:23:02,257 INFO CLAW: Solution 3 computed for time t=0.290323\n"
       ]
      },
      {
       "output_type": "stream",
       "stream": "stdout",
       "text": [
        "2014-08-04 19:23:02,357 INFO CLAW: Solution 4 computed for time t=1.000000\n"
       ]
      },
      {
       "output_type": "stream",
       "stream": "stdout",
       "text": [
        "[ -1.53667663e-03   4.33033184e-02   7.06434058e-02   8.72428098e-02\n",
        "   9.30287556e-02   8.63069919e-02   6.92101382e-02   5.12066400e-02\n",
        "   3.58429387e-02   2.19013984e-02   1.87797833e-02   2.94655468e-02\n",
        "   4.50209593e-02   6.55533018e-02   9.78672388e-02   1.46205158e-01\n",
        "   2.13727826e-01   2.94794273e-01   3.76287570e-01   4.26314486e-01\n",
        "   4.38337092e-01   4.28684168e-01   4.01759000e-01   3.55300769e-01\n",
        "   2.89846681e-01   2.15602989e-01   1.47208120e-01   9.55903054e-02\n",
        "   6.19168591e-02   5.43206357e-02   1.69012128e-02   3.88421249e-05\n",
        "   5.59780942e-03   2.42858711e-05  -6.74924533e-07   9.80980075e-07\n",
        "   1.95531068e-06   2.44119200e-06   2.43960077e-06   2.04518729e-06\n",
        "   1.40355490e-06   7.09383807e-07   1.10350781e-07  -3.93968594e-07\n",
        "  -7.97561757e-07  -1.09080007e-06  -1.27181707e-06  -1.37246856e-06\n",
        "  -1.41979248e-06  -1.43772279e-06  -1.41554165e-06  -1.34089235e-06\n",
        "  -1.21176540e-06  -1.03691043e-06  -8.43203340e-07  -6.64805687e-07\n",
        "  -5.00135489e-07  -3.47934065e-07  -2.08868917e-07  -8.29268785e-08\n",
        "   3.12861060e-08   1.34017022e-07   2.25378968e-07   3.04961772e-07\n",
        "   3.74416323e-07   4.33442312e-07   4.81388800e-07   5.16346211e-07\n",
        "   5.40016639e-07   5.53821196e-07   5.59782325e-07   5.59163442e-07\n",
        "   5.49719554e-07   5.28859738e-07   4.95736303e-07   4.50775093e-07\n",
        "   3.95564576e-07   3.31358639e-07   2.57825542e-07   1.74347448e-07\n",
        "   7.93831681e-08]\n",
        "1.36614107781\n",
        "0.989771266032\n",
        "0.989771251283\n",
        "2014-08-04 19:23:02,364 INFO CLAW: Solution 0 computed for time t=0.000000\n"
       ]
      },
      {
       "output_type": "stream",
       "stream": "stdout",
       "text": [
        "2014-08-04 19:23:02,374 INFO CLAW: Solution 1 computed for time t=0.032258\n"
       ]
      },
      {
       "output_type": "stream",
       "stream": "stdout",
       "text": [
        "2014-08-04 19:23:02,395 INFO CLAW: Solution 2 computed for time t=0.161290\n"
       ]
      },
      {
       "output_type": "stream",
       "stream": "stdout",
       "text": [
        "2014-08-04 19:23:02,417 INFO CLAW: Solution 3 computed for time t=0.290323\n"
       ]
      },
      {
       "output_type": "stream",
       "stream": "stdout",
       "text": [
        "2014-08-04 19:23:02,513 INFO CLAW: Solution 4 computed for time t=1.000000\n"
       ]
      },
      {
       "output_type": "stream",
       "stream": "stdout",
       "text": [
        "[ -1.53667663e-03   4.33033184e-02   7.06434060e-02   8.72428103e-02\n",
        "   9.30287566e-02   8.63069933e-02   6.92101399e-02   5.12066417e-02\n",
        "   3.58429404e-02   2.19013998e-02   1.87797840e-02   2.94655469e-02\n",
        "   4.50209591e-02   6.55533007e-02   9.78672363e-02   1.46205153e-01\n",
        "   2.13727819e-01   2.94794265e-01   3.76287562e-01   4.26314480e-01\n",
        "   4.38337087e-01   4.28684163e-01   4.01758996e-01   3.55300765e-01\n",
        "   2.89846678e-01   2.15602988e-01   1.47208119e-01   9.55903051e-02\n",
        "   6.19168591e-02   5.43206357e-02   1.69012128e-02   3.88421225e-05\n",
        "   5.59780942e-03   2.42858709e-05  -6.74924579e-07   9.80980068e-07\n",
        "   1.95531069e-06   2.44119203e-06   2.43960083e-06   2.04518738e-06\n",
        "   1.40355502e-06   7.09383919e-07   1.10350877e-07  -3.93968514e-07\n",
        "  -7.97561696e-07  -1.09080003e-06  -1.27181705e-06  -1.37246855e-06\n",
        "  -1.41979248e-06  -1.43772280e-06  -1.41554167e-06  -1.34089238e-06\n",
        "  -1.21176544e-06  -1.03691048e-06  -8.43203388e-07  -6.64805731e-07\n",
        "  -5.00135529e-07  -3.47934101e-07  -2.08868950e-07  -8.29269082e-08\n",
        "   3.12860796e-08   1.34016999e-07   2.25378948e-07   3.04961755e-07\n",
        "   3.74416308e-07   4.33442300e-07   4.81388791e-07   5.16346205e-07\n",
        "   5.40016636e-07   5.53821195e-07   5.59782325e-07   5.59163443e-07\n",
        "   5.49719558e-07   5.28859744e-07   4.95736311e-07   4.50775103e-07\n",
        "   3.95564588e-07   3.31358652e-07   2.57825557e-07   1.74347464e-07\n",
        "   7.93831847e-08]\n",
        "1.36614104022\n",
        "0.989771251283\n",
        "0.990981957031\n",
        "2014-08-04 19:23:02,521 INFO CLAW: Solution 0 computed for time t=0.000000\n"
       ]
      },
      {
       "output_type": "stream",
       "stream": "stdout",
       "text": [
        "2014-08-04 19:23:02,531 INFO CLAW: Solution 1 computed for time t=0.032258\n"
       ]
      },
      {
       "output_type": "stream",
       "stream": "stdout",
       "text": [
        "2014-08-04 19:23:02,553 INFO CLAW: Solution 2 computed for time t=0.161290\n"
       ]
      },
      {
       "output_type": "stream",
       "stream": "stdout",
       "text": [
        "2014-08-04 19:23:02,573 INFO CLAW: Solution 3 computed for time t=0.290323\n"
       ]
      },
      {
       "output_type": "stream",
       "stream": "stdout",
       "text": [
        "2014-08-04 19:23:02,669 INFO CLAW: Solution 4 computed for time t=1.000000\n"
       ]
      },
      {
       "output_type": "stream",
       "stream": "stdout",
       "text": [
        "[ -1.53667663e-03   4.33044839e-02   7.06510033e-02   8.72644237e-02\n",
        "   9.30681599e-02   8.63655033e-02   6.92799155e-02   5.12779999e-02\n",
        "   3.59132595e-02   2.19577427e-02   1.88085279e-02   2.94718732e-02\n",
        "   4.50124597e-02   6.55093834e-02   9.77652037e-02   1.46027654e-01\n",
        "   2.13466508e-01   2.94448626e-01   3.75949092e-01   4.26054874e-01\n",
        "   4.38118135e-01   4.28473286e-01   4.01562624e-01   3.55142939e-01\n",
        "   2.89741021e-01   2.15542723e-01   1.47178580e-01   9.55779546e-02\n",
        "   6.19123811e-02   5.43190674e-02   1.69007236e-02   3.87076091e-05\n",
        "   5.59777725e-03   2.42764719e-05  -6.77539514e-07   9.80371244e-07\n",
        "   1.95536442e-06   2.44234169e-06   2.44216250e-06   2.04915471e-06\n",
        "   1.40867904e-06   7.14080143e-07   1.14346472e-07  -3.90688325e-07\n",
        "  -7.95064361e-07  -1.08911337e-06  -1.27084771e-06  -1.37202734e-06\n",
        "  -1.41964079e-06  -1.43776220e-06  -1.41603218e-06  -1.34198325e-06\n",
        "  -1.21345426e-06  -1.03906192e-06  -8.45217310e-07  -6.66614270e-07\n",
        "  -5.01785255e-07  -3.49440221e-07  -2.10235395e-07  -8.41557440e-08\n",
        "   3.01915156e-08   1.33051495e-07   2.24536196e-07   3.04236681e-07\n",
        "   3.73808444e-07   4.32954366e-07   4.81023148e-07   5.16097953e-07\n",
        "   5.39870298e-07   5.53750784e-07   5.59753407e-07   5.59176807e-07\n",
        "   5.49830050e-07   5.29096879e-07   4.96097192e-07   4.51224357e-07\n",
        "   3.96062328e-07   3.31895284e-07   2.58414246e-07   1.74996480e-07\n",
        "   8.00360501e-08]\n",
        "1.36457827807\n",
        "0.990981957031\n",
        "0.990981971798\n",
        "2014-08-04 19:23:02,678 INFO CLAW: Solution 0 computed for time t=0.000000\n"
       ]
      },
      {
       "output_type": "stream",
       "stream": "stdout",
       "text": [
        "2014-08-04 19:23:02,689 INFO CLAW: Solution 1 computed for time t=0.032258\n"
       ]
      },
      {
       "output_type": "stream",
       "stream": "stdout",
       "text": [
        "2014-08-04 19:23:02,708 INFO CLAW: Solution 2 computed for time t=0.161290\n"
       ]
      },
      {
       "output_type": "stream",
       "stream": "stdout",
       "text": [
        "2014-08-04 19:23:02,729 INFO CLAW: Solution 3 computed for time t=0.290323\n"
       ]
      },
      {
       "output_type": "stream",
       "stream": "stdout",
       "text": [
        "2014-08-04 19:23:02,821 INFO CLAW: Solution 4 computed for time t=1.000000\n"
       ]
      },
      {
       "output_type": "stream",
       "stream": "stdout",
       "text": [
        "[ -1.53667663e-03   4.33044839e-02   7.06510034e-02   8.72644237e-02\n",
        "   9.30681599e-02   8.63655033e-02   6.92799155e-02   5.12779999e-02\n",
        "   3.59132595e-02   2.19577427e-02   1.88085279e-02   2.94718732e-02\n",
        "   4.50124597e-02   6.55093834e-02   9.77652037e-02   1.46027654e-01\n",
        "   2.13466508e-01   2.94448625e-01   3.75949091e-01   4.26054874e-01\n",
        "   4.38118135e-01   4.28473286e-01   4.01562624e-01   3.55142939e-01\n",
        "   2.89741021e-01   2.15542723e-01   1.47178580e-01   9.55779546e-02\n",
        "   6.19123811e-02   5.43190674e-02   1.69007236e-02   3.87076088e-05\n",
        "   5.59777725e-03   2.42764719e-05  -6.77539519e-07   9.80371241e-07\n",
        "   1.95536442e-06   2.44234169e-06   2.44216250e-06   2.04915471e-06\n",
        "   1.40867904e-06   7.14080145e-07   1.14346473e-07  -3.90688325e-07\n",
        "  -7.95064361e-07  -1.08911337e-06  -1.27084771e-06  -1.37202734e-06\n",
        "  -1.41964079e-06  -1.43776220e-06  -1.41603218e-06  -1.34198325e-06\n",
        "  -1.21345426e-06  -1.03906192e-06  -8.45217311e-07  -6.66614270e-07\n",
        "  -5.01785255e-07  -3.49440221e-07  -2.10235396e-07  -8.41557441e-08\n",
        "   3.01915155e-08   1.33051495e-07   2.24536196e-07   3.04236681e-07\n",
        "   3.73808444e-07   4.32954366e-07   4.81023148e-07   5.16097953e-07\n",
        "   5.39870298e-07   5.53750784e-07   5.59753407e-07   5.59176807e-07\n",
        "   5.49830050e-07   5.29096879e-07   4.96097192e-07   4.51224357e-07\n",
        "   3.96062328e-07   3.31895284e-07   2.58414246e-07   1.74996480e-07\n",
        "   8.00360499e-08]\n",
        "1.36457827778\n",
        "0.990981971798\n",
        "0.990981957031\n",
        "2014-08-04 19:23:02,829 INFO CLAW: Solution 0 computed for time t=0.000000\n"
       ]
      },
      {
       "output_type": "stream",
       "stream": "stdout",
       "text": [
        "2014-08-04 19:23:02,840 INFO CLAW: Solution 1 computed for time t=0.032258\n"
       ]
      },
      {
       "output_type": "stream",
       "stream": "stdout",
       "text": [
        "2014-08-04 19:23:02,863 INFO CLAW: Solution 2 computed for time t=0.161290\n"
       ]
      },
      {
       "output_type": "stream",
       "stream": "stdout",
       "text": [
        "2014-08-04 19:23:02,885 INFO CLAW: Solution 3 computed for time t=0.290323\n"
       ]
      },
      {
       "output_type": "stream",
       "stream": "stdout",
       "text": [
        "2014-08-04 19:23:02,982 INFO CLAW: Solution 4 computed for time t=1.000000\n"
       ]
      },
      {
       "output_type": "stream",
       "stream": "stdout",
       "text": [
        "[ -1.53667663e-03   4.33044839e-02   7.06510035e-02   8.72644242e-02\n",
        "   9.30681609e-02   8.63655047e-02   6.92799172e-02   5.12780017e-02\n",
        "   3.59132612e-02   2.19577441e-02   1.88085286e-02   2.94718733e-02\n",
        "   4.50124594e-02   6.55093822e-02   9.77652011e-02   1.46027649e-01\n",
        "   2.13466502e-01   2.94448617e-01   3.75949083e-01   4.26054868e-01\n",
        "   4.38118130e-01   4.28473281e-01   4.01562619e-01   3.55142935e-01\n",
        "   2.89741019e-01   2.15542722e-01   1.47178579e-01   9.55779543e-02\n",
        "   6.19123810e-02   5.43190673e-02   1.69007236e-02   3.87076064e-05\n",
        "   5.59777725e-03   2.42764717e-05  -6.77539567e-07   9.80371234e-07\n",
        "   1.95536443e-06   2.44234172e-06   2.44216256e-06   2.04915480e-06\n",
        "   1.40867916e-06   7.14080256e-07   1.14346569e-07  -3.90688245e-07\n",
        "  -7.95064300e-07  -1.08911333e-06  -1.27084769e-06  -1.37202733e-06\n",
        "  -1.41964079e-06  -1.43776221e-06  -1.41603219e-06  -1.34198327e-06\n",
        "  -1.21345430e-06  -1.03906197e-06  -8.45217358e-07  -6.66614313e-07\n",
        "  -5.01785295e-07  -3.49440257e-07  -2.10235429e-07  -8.41557739e-08\n",
        "   3.01914890e-08   1.33051472e-07   2.24536175e-07   3.04236663e-07\n",
        "   3.73808429e-07   4.32954354e-07   4.81023139e-07   5.16097947e-07\n",
        "   5.39870295e-07   5.53750782e-07   5.59753407e-07   5.59176808e-07\n",
        "   5.49830053e-07   5.29096885e-07   4.96097201e-07   4.51224367e-07\n",
        "   3.96062340e-07   3.31895297e-07   2.58414260e-07   1.74996495e-07\n",
        "   8.00360665e-08]\n",
        "1.36457824018\n",
        "0.990981957031\n",
        "0.993298340388\n",
        "2014-08-04 19:23:02,990 INFO CLAW: Solution 0 computed for time t=0.000000\n"
       ]
      },
      {
       "output_type": "stream",
       "stream": "stdout",
       "text": [
        "2014-08-04 19:23:03,002 INFO CLAW: Solution 1 computed for time t=0.032258\n"
       ]
      },
      {
       "output_type": "stream",
       "stream": "stdout",
       "text": [
        "2014-08-04 19:23:03,023 INFO CLAW: Solution 2 computed for time t=0.161290\n"
       ]
      },
      {
       "output_type": "stream",
       "stream": "stdout",
       "text": [
        "2014-08-04 19:23:03,046 INFO CLAW: Solution 3 computed for time t=0.290323\n"
       ]
      },
      {
       "output_type": "stream",
       "stream": "stdout",
       "text": [
        "2014-08-04 19:23:03,140 INFO CLAW: Solution 4 computed for time t=1.000000\n"
       ]
      },
      {
       "output_type": "stream",
       "stream": "stdout",
       "text": [
        "[ -1.53667663e-03   4.33067998e-02   7.06661284e-02   8.73074872e-02\n",
        "   9.31466816e-02   8.64820689e-02   6.94190150e-02   5.14203581e-02\n",
        "   3.60534333e-02   2.20703759e-02   1.88661426e-02   2.94844493e-02\n",
        "   4.49951245e-02   6.54213161e-02   9.75613466e-02   1.45673682e-01\n",
        "   2.12945944e-01   2.93760686e-01   3.75273835e-01   4.25536518e-01\n",
        "   4.37681853e-01   4.28052887e-01   4.01170232e-01   3.54826995e-01\n",
        "   2.89529400e-01   2.15422073e-01   1.47119504e-01   9.55532915e-02\n",
        "   6.19034548e-02   5.43159459e-02   1.68997512e-02   3.84405676e-05\n",
        "   5.59771338e-03   2.42577855e-05  -6.82733026e-07   9.79192122e-07\n",
        "   1.95551457e-06   2.44464960e-06   2.44725083e-06   2.05701683e-06\n",
        "   1.41882834e-06   7.23451878e-07   1.22331631e-07  -3.84121096e-07\n",
        "  -7.90055704e-07  -1.08572581e-06  -1.26890087e-06  -1.37114633e-06\n",
        "  -1.41934763e-06  -1.43785540e-06  -1.41701417e-06  -1.34414893e-06\n",
        "  -1.21679810e-06  -1.04331790e-06  -8.49231467e-07  -6.70225001e-07\n",
        "  -5.05080903e-07  -3.52449900e-07  -2.12966545e-07  -8.66123478e-08\n",
        "   2.80029894e-08   1.31120814e-07   2.22850632e-07   3.02785575e-07\n",
        "   3.72590500e-07   4.31975219e-07   4.80288296e-07   5.15598756e-07\n",
        "   5.39576585e-07   5.53611078e-07   5.59698896e-07   5.59206603e-07\n",
        "   5.50050221e-07   5.29565693e-07   4.96809335e-07   4.52112873e-07\n",
        "   3.97051070e-07   3.32964019e-07   2.59586082e-07   1.76287097e-07\n",
        "   8.13570166e-08]\n",
        "1.36146365492\n",
        "0.993298340388\n",
        "0.99329835519\n",
        "2014-08-04 19:23:03,147 INFO CLAW: Solution 0 computed for time t=0.000000\n"
       ]
      },
      {
       "output_type": "stream",
       "stream": "stdout",
       "text": [
        "2014-08-04 19:23:03,158 INFO CLAW: Solution 1 computed for time t=0.032258\n"
       ]
      },
      {
       "output_type": "stream",
       "stream": "stdout",
       "text": [
        "2014-08-04 19:23:03,179 INFO CLAW: Solution 2 computed for time t=0.161290\n"
       ]
      },
      {
       "output_type": "stream",
       "stream": "stdout",
       "text": [
        "2014-08-04 19:23:03,217 INFO CLAW: Solution 3 computed for time t=0.290323\n"
       ]
      },
      {
       "output_type": "stream",
       "stream": "stdout",
       "text": [
        "2014-08-04 19:23:03,317 INFO CLAW: Solution 4 computed for time t=1.000000\n"
       ]
      },
      {
       "output_type": "stream",
       "stream": "stdout",
       "text": [
        "[ -1.53667663e-03   4.33067998e-02   7.06661284e-02   8.73074872e-02\n",
        "   9.31466816e-02   8.64820690e-02   6.94190150e-02   5.14203581e-02\n",
        "   3.60534333e-02   2.20703759e-02   1.88661426e-02   2.94844493e-02\n",
        "   4.49951245e-02   6.54213161e-02   9.75613466e-02   1.45673682e-01\n",
        "   2.12945944e-01   2.93760686e-01   3.75273835e-01   4.25536518e-01\n",
        "   4.37681853e-01   4.28052887e-01   4.01170232e-01   3.54826995e-01\n",
        "   2.89529400e-01   2.15422073e-01   1.47119504e-01   9.55532915e-02\n",
        "   6.19034548e-02   5.43159459e-02   1.68997512e-02   3.84405673e-05\n",
        "   5.59771338e-03   2.42577854e-05  -6.82733031e-07   9.79192120e-07\n",
        "   1.95551457e-06   2.44464960e-06   2.44725083e-06   2.05701683e-06\n",
        "   1.41882834e-06   7.23451879e-07   1.22331632e-07  -3.84121096e-07\n",
        "  -7.90055704e-07  -1.08572581e-06  -1.26890087e-06  -1.37114633e-06\n",
        "  -1.41934763e-06  -1.43785540e-06  -1.41701417e-06  -1.34414893e-06\n",
        "  -1.21679810e-06  -1.04331790e-06  -8.49231468e-07  -6.70225001e-07\n",
        "  -5.05080903e-07  -3.52449900e-07  -2.12966545e-07  -8.66123480e-08\n",
        "   2.80029893e-08   1.31120814e-07   2.22850632e-07   3.02785575e-07\n",
        "   3.72590500e-07   4.31975219e-07   4.80288296e-07   5.15598756e-07\n",
        "   5.39576585e-07   5.53611078e-07   5.59698896e-07   5.59206603e-07\n",
        "   5.50050221e-07   5.29565693e-07   4.96809335e-07   4.52112873e-07\n",
        "   3.97051071e-07   3.32964019e-07   2.59586082e-07   1.76287098e-07\n",
        "   8.13570165e-08]\n",
        "1.36146365465\n",
        "0.99329835519\n",
        "0.993298340388\n",
        "2014-08-04 19:23:03,325 INFO CLAW: Solution 0 computed for time t=0.000000\n"
       ]
      },
      {
       "output_type": "stream",
       "stream": "stdout",
       "text": [
        "2014-08-04 19:23:03,334 INFO CLAW: Solution 1 computed for time t=0.032258\n"
       ]
      },
      {
       "output_type": "stream",
       "stream": "stdout",
       "text": [
        "2014-08-04 19:23:03,356 INFO CLAW: Solution 2 computed for time t=0.161290\n"
       ]
      },
      {
       "output_type": "stream",
       "stream": "stdout",
       "text": [
        "2014-08-04 19:23:03,376 INFO CLAW: Solution 3 computed for time t=0.290323\n"
       ]
      },
      {
       "output_type": "stream",
       "stream": "stdout",
       "text": [
        "2014-08-04 19:23:03,474 INFO CLAW: Solution 4 computed for time t=1.000000\n"
       ]
      },
      {
       "output_type": "stream",
       "stream": "stdout",
       "text": [
        "[ -1.53667663e-03   4.33067999e-02   7.06661286e-02   8.73074878e-02\n",
        "   9.31466825e-02   8.64820703e-02   6.94190167e-02   5.14203598e-02\n",
        "   3.60534350e-02   2.20703773e-02   1.88661433e-02   2.94844494e-02\n",
        "   4.49951242e-02   6.54213149e-02   9.75613440e-02   1.45673678e-01\n",
        "   2.12945938e-01   2.93760677e-01   3.75273827e-01   4.25536512e-01\n",
        "   4.37681848e-01   4.28052882e-01   4.01170227e-01   3.54826991e-01\n",
        "   2.89529398e-01   2.15422072e-01   1.47119503e-01   9.55532912e-02\n",
        "   6.19034547e-02   5.43159459e-02   1.68997512e-02   3.84405648e-05\n",
        "   5.59771338e-03   2.42577853e-05  -6.82733080e-07   9.79192112e-07\n",
        "   1.95551458e-06   2.44464963e-06   2.44725089e-06   2.05701692e-06\n",
        "   1.41882846e-06   7.23451990e-07   1.22331728e-07  -3.84121015e-07\n",
        "  -7.90055643e-07  -1.08572576e-06  -1.26890085e-06  -1.37114632e-06\n",
        "  -1.41934763e-06  -1.43785540e-06  -1.41701418e-06  -1.34414895e-06\n",
        "  -1.21679814e-06  -1.04331795e-06  -8.49231516e-07  -6.70225045e-07\n",
        "  -5.05080943e-07  -3.52449937e-07  -2.12966578e-07  -8.66123779e-08\n",
        "   2.80029627e-08   1.31120790e-07   2.22850612e-07   3.02785557e-07\n",
        "   3.72590485e-07   4.31975207e-07   4.80288287e-07   5.15598750e-07\n",
        "   5.39576582e-07   5.53611076e-07   5.59698896e-07   5.59206604e-07\n",
        "   5.50050224e-07   5.29565699e-07   4.96809343e-07   4.52112883e-07\n",
        "   3.97051082e-07   3.32964032e-07   2.59586097e-07   1.76287113e-07\n",
        "   8.13570331e-08]\n",
        "1.36146361704\n",
        "0.993298340388\n",
        "0.997529197147\n",
        "2014-08-04 19:23:03,481 INFO CLAW: Solution 0 computed for time t=0.000000\n"
       ]
      },
      {
       "output_type": "stream",
       "stream": "stdout",
       "text": [
        "2014-08-04 19:23:03,492 INFO CLAW: Solution 1 computed for time t=0.032258\n"
       ]
      },
      {
       "output_type": "stream",
       "stream": "stdout",
       "text": [
        "2014-08-04 19:23:03,513 INFO CLAW: Solution 2 computed for time t=0.161290\n"
       ]
      },
      {
       "output_type": "stream",
       "stream": "stdout",
       "text": [
        "2014-08-04 19:23:03,534 INFO CLAW: Solution 3 computed for time t=0.290323\n"
       ]
      },
      {
       "output_type": "stream",
       "stream": "stdout",
       "text": [
        "2014-08-04 19:23:03,633 INFO CLAW: Solution 4 computed for time t=1.000000\n"
       ]
      },
      {
       "output_type": "stream",
       "stream": "stdout",
       "text": [
        "[ -1.53667663e-03   4.33112973e-02   7.06957941e-02   8.73923293e-02\n",
        "   9.33014999e-02   8.67115563e-02   6.96934865e-02   5.17023548e-02\n",
        "   3.63295152e-02   2.22958466e-02   1.89821038e-02   2.95076541e-02\n",
        "   4.49563453e-02   6.52406584e-02   9.71518676e-02   1.44970295e-01\n",
        "   2.11918079e-01   2.92408287e-01   3.73940772e-01   4.24510917e-01\n",
        "   4.36824467e-01   4.27223264e-01   4.00388215e-01   3.54194208e-01\n",
        "   2.89106643e-01   2.15182922e-01   1.47003726e-01   9.55056526e-02\n",
        "   6.18864990e-02   5.43101027e-02   1.68979572e-02   3.79540232e-05\n",
        "   5.59759769e-03   2.42237221e-05  -6.92206943e-07   9.77268084e-07\n",
        "   1.95617057e-06   2.44945483e-06   2.45737876e-06   2.07235277e-06\n",
        "   1.43839087e-06   7.41917327e-07   1.38177632e-07  -3.70981856e-07\n",
        "  -7.79979494e-07  -1.07890920e-06  -1.26503449e-06  -1.36949944e-06\n",
        "  -1.41892991e-06  -1.43821429e-06  -1.41906263e-06  -1.34842112e-06\n",
        "  -1.22327028e-06  -1.05146769e-06  -8.57133992e-07  -6.77366622e-07\n",
        "  -5.11622825e-07  -3.58431694e-07  -2.18398090e-07  -9.15001172e-08\n",
        "   2.36483824e-08   1.27280563e-07   2.19497191e-07   2.99891634e-07\n",
        "   3.70150344e-07   4.30003383e-07   4.78805201e-07   5.14599383e-07\n",
        "   5.39005585e-07   5.53365807e-07   5.59639134e-07   5.59305937e-07\n",
        "   5.50501851e-07   5.30478842e-07   4.98175662e-07   4.53822649e-07\n",
        "   3.98978421e-07   3.35070018e-07   2.61896872e-07   1.78820480e-07\n",
        "   8.40357057e-08]\n",
        "1.3553150314\n",
        "0.997529197147\n",
        "0.997529212012\n",
        "2014-08-04 19:23:03,640 INFO CLAW: Solution 0 computed for time t=0.000000\n"
       ]
      },
      {
       "output_type": "stream",
       "stream": "stdout",
       "text": [
        "2014-08-04 19:23:03,650 INFO CLAW: Solution 1 computed for time t=0.032258\n"
       ]
      },
      {
       "output_type": "stream",
       "stream": "stdout",
       "text": [
        "2014-08-04 19:23:03,671 INFO CLAW: Solution 2 computed for time t=0.161290\n"
       ]
      },
      {
       "output_type": "stream",
       "stream": "stdout",
       "text": [
        "2014-08-04 19:23:03,695 INFO CLAW: Solution 3 computed for time t=0.290323\n"
       ]
      },
      {
       "output_type": "stream",
       "stream": "stdout",
       "text": [
        "2014-08-04 19:23:03,809 INFO CLAW: Solution 4 computed for time t=1.000000\n"
       ]
      },
      {
       "output_type": "stream",
       "stream": "stdout",
       "text": [
        "[ -1.53667663e-03   4.33112973e-02   7.06957941e-02   8.73923293e-02\n",
        "   9.33014999e-02   8.67115563e-02   6.96934865e-02   5.17023548e-02\n",
        "   3.63295152e-02   2.22958466e-02   1.89821038e-02   2.95076541e-02\n",
        "   4.49563453e-02   6.52406584e-02   9.71518676e-02   1.44970295e-01\n",
        "   2.11918079e-01   2.92408287e-01   3.73940772e-01   4.24510917e-01\n",
        "   4.36824467e-01   4.27223264e-01   4.00388215e-01   3.54194208e-01\n",
        "   2.89106643e-01   2.15182922e-01   1.47003726e-01   9.55056526e-02\n",
        "   6.18864990e-02   5.43101027e-02   1.68979572e-02   3.79540232e-05\n",
        "   5.59759769e-03   2.42237221e-05  -6.92206943e-07   9.77268084e-07\n",
        "   1.95617057e-06   2.44945483e-06   2.45737876e-06   2.07235277e-06\n",
        "   1.43839087e-06   7.41917327e-07   1.38177632e-07  -3.70981856e-07\n",
        "  -7.79979494e-07  -1.07890920e-06  -1.26503449e-06  -1.36949944e-06\n",
        "  -1.41892991e-06  -1.43821429e-06  -1.41906263e-06  -1.34842112e-06\n",
        "  -1.22327028e-06  -1.05146769e-06  -8.57133992e-07  -6.77366622e-07\n",
        "  -5.11622825e-07  -3.58431694e-07  -2.18398090e-07  -9.15001172e-08\n",
        "   2.36483824e-08   1.27280563e-07   2.19497191e-07   2.99891634e-07\n",
        "   3.70150344e-07   4.30003383e-07   4.78805201e-07   5.14599383e-07\n",
        "   5.39005585e-07   5.53365807e-07   5.59639134e-07   5.59305937e-07\n",
        "   5.50501851e-07   5.30478842e-07   4.98175662e-07   4.53822649e-07\n",
        "   3.98978421e-07   3.35070018e-07   2.61896872e-07   1.78820480e-07\n",
        "   8.40357057e-08]\n",
        "1.3553150314\n",
        "0.997529212012\n",
        "0.997529197147\n",
        "2014-08-04 19:23:03,819 INFO CLAW: Solution 0 computed for time t=0.000000\n"
       ]
      },
      {
       "output_type": "stream",
       "stream": "stdout",
       "text": [
        "2014-08-04 19:23:03,831 INFO CLAW: Solution 1 computed for time t=0.032258\n"
       ]
      },
      {
       "output_type": "stream",
       "stream": "stdout",
       "text": [
        "2014-08-04 19:23:03,853 INFO CLAW: Solution 2 computed for time t=0.161290\n"
       ]
      },
      {
       "output_type": "stream",
       "stream": "stdout",
       "text": [
        "2014-08-04 19:23:03,873 INFO CLAW: Solution 3 computed for time t=0.290323\n"
       ]
      },
      {
       "output_type": "stream",
       "stream": "stdout",
       "text": [
        "2014-08-04 19:23:03,969 INFO CLAW: Solution 4 computed for time t=1.000000\n"
       ]
      },
      {
       "output_type": "stream",
       "stream": "stdout",
       "text": [
        "[ -1.53667663e-03   4.33112973e-02   7.06957943e-02   8.73923298e-02\n",
        "   9.33015009e-02   8.67115577e-02   6.96934882e-02   5.17023566e-02\n",
        "   3.63295169e-02   2.22958480e-02   1.89821045e-02   2.95076542e-02\n",
        "   4.49563451e-02   6.52406573e-02   9.71518651e-02   1.44970290e-01\n",
        "   2.11918073e-01   2.92408279e-01   3.73940764e-01   4.24510910e-01\n",
        "   4.36824462e-01   4.27223259e-01   4.00388211e-01   3.54194205e-01\n",
        "   2.89106640e-01   2.15182920e-01   1.47003726e-01   9.55056523e-02\n",
        "   6.18864989e-02   5.43101027e-02   1.68979572e-02   3.79540204e-05\n",
        "   5.59759769e-03   2.42237219e-05  -6.92206999e-07   9.77268074e-07\n",
        "   1.95617057e-06   2.44945486e-06   2.45737882e-06   2.07235286e-06\n",
        "   1.43839098e-06   7.41917441e-07   1.38177730e-07  -3.70981774e-07\n",
        "  -7.79979431e-07  -1.07890916e-06  -1.26503446e-06  -1.36949943e-06\n",
        "  -1.41892991e-06  -1.43821429e-06  -1.41906264e-06  -1.34842115e-06\n",
        "  -1.22327032e-06  -1.05146774e-06  -8.57134040e-07  -6.77366666e-07\n",
        "  -5.11622865e-07  -3.58431731e-07  -2.18398124e-07  -9.15001474e-08\n",
        "   2.36483555e-08   1.27280539e-07   2.19497170e-07   2.99891616e-07\n",
        "   3.70150329e-07   4.30003370e-07   4.78805192e-07   5.14599377e-07\n",
        "   5.39005581e-07   5.53365805e-07   5.59639134e-07   5.59305938e-07\n",
        "   5.50501853e-07   5.30478847e-07   4.98175670e-07   4.53822659e-07\n",
        "   3.98978432e-07   3.35070031e-07   2.61896887e-07   1.78820496e-07\n",
        "   8.40357223e-08]\n",
        "1.35531499351\n",
        "0.997529197147\n",
        "0.997529197147\n",
        "2014-08-04 19:23:03,977 INFO CLAW: Solution 0 computed for time t=0.000000\n"
       ]
      },
      {
       "output_type": "stream",
       "stream": "stdout",
       "text": [
        "2014-08-04 19:23:03,988 INFO CLAW: Solution 1 computed for time t=0.032258\n"
       ]
      },
      {
       "output_type": "stream",
       "stream": "stdout",
       "text": [
        "2014-08-04 19:23:04,012 INFO CLAW: Solution 2 computed for time t=0.161290\n"
       ]
      },
      {
       "output_type": "stream",
       "stream": "stdout",
       "text": [
        "2014-08-04 19:23:04,037 INFO CLAW: Solution 3 computed for time t=0.290323\n"
       ]
      },
      {
       "output_type": "stream",
       "stream": "stdout",
       "text": [
        "2014-08-04 19:23:04,130 INFO CLAW: Solution 4 computed for time t=1.000000\n"
       ]
      },
      {
       "output_type": "stream",
       "stream": "stdout",
       "text": [
        "[ -1.53667663e-03   4.33201537e-02   7.07545100e-02   8.75606136e-02\n",
        "   9.36087071e-02   8.71666796e-02   7.02387483e-02   5.22639841e-02\n",
        "   3.68778848e-02   2.27485299e-02   1.92173829e-02   2.95522052e-02\n",
        "   4.48756811e-02   6.48780004e-02   9.63362588e-02   1.43574518e-01\n",
        "   2.09883000e-01   2.89731207e-01   3.71284771e-01   4.22461299e-01\n",
        "   4.35120944e-01   4.25573595e-01   3.98822286e-01   3.52919324e-01\n",
        "   2.88252752e-01   2.14700096e-01   1.46770545e-01   9.54100988e-02\n",
        "   6.18526743e-02   5.42985071e-02   1.68944167e-02   3.69986994e-05\n",
        "   5.59737107e-03   2.41566458e-05  -7.10910092e-07   9.73734986e-07\n",
        "   1.95774686e-06   2.45895734e-06   2.47721671e-06   2.10234745e-06\n",
        "   1.47645643e-06   7.78937566e-07   1.69933221e-07  -3.44467407e-07\n",
        "  -7.59501681e-07  -1.06497404e-06  -1.25712300e-06  -1.36618920e-06\n",
        "  -1.41820098e-06  -1.43901201e-06  -1.42309694e-06  -1.35672448e-06\n",
        "  -1.23582821e-06  -1.06730767e-06  -8.72891143e-07  -6.91634779e-07\n",
        "  -5.24720181e-07  -3.70419956e-07  -2.29292706e-07  -1.01312133e-07\n",
        "   1.49009953e-08   1.19563157e-07   2.12753203e-07   2.94058810e-07\n",
        "   3.65210949e-07   4.25987494e-07   4.75764684e-07   5.12543809e-07\n",
        "   5.37836109e-07   5.52880548e-07   5.59554857e-07   5.59518527e-07\n",
        "   5.51371172e-07   5.32225354e-07   5.00798728e-07   4.57138149e-07\n",
        "   4.02756067e-07   3.39225343e-07   2.66459148e-07   1.83814061e-07\n",
        "   8.94024571e-08]\n",
        "1.34311175448\n",
        "0.997529197147\n",
        "0.997529212012\n",
        "2014-08-04 19:23:04,137 INFO CLAW: Solution 0 computed for time t=0.000000\n"
       ]
      },
      {
       "output_type": "stream",
       "stream": "stdout",
       "text": [
        "2014-08-04 19:23:04,148 INFO CLAW: Solution 1 computed for time t=0.032258\n"
       ]
      },
      {
       "output_type": "stream",
       "stream": "stdout",
       "text": [
        "2014-08-04 19:23:04,169 INFO CLAW: Solution 2 computed for time t=0.161290\n"
       ]
      },
      {
       "output_type": "stream",
       "stream": "stdout",
       "text": [
        "2014-08-04 19:23:04,191 INFO CLAW: Solution 3 computed for time t=0.290323\n"
       ]
      },
      {
       "output_type": "stream",
       "stream": "stdout",
       "text": [
        "2014-08-04 19:23:04,291 INFO CLAW: Solution 4 computed for time t=1.000000\n"
       ]
      },
      {
       "output_type": "stream",
       "stream": "stdout",
       "text": [
        "[ -1.53667663e-03   4.33201537e-02   7.07545100e-02   8.75606136e-02\n",
        "   9.36087071e-02   8.71666796e-02   7.02387483e-02   5.22639841e-02\n",
        "   3.68778848e-02   2.27485299e-02   1.92173829e-02   2.95522052e-02\n",
        "   4.48756811e-02   6.48780004e-02   9.63362588e-02   1.43574518e-01\n",
        "   2.09883000e-01   2.89731207e-01   3.71284771e-01   4.22461299e-01\n",
        "   4.35120944e-01   4.25573595e-01   3.98822286e-01   3.52919324e-01\n",
        "   2.88252752e-01   2.14700096e-01   1.46770545e-01   9.54100988e-02\n",
        "   6.18526743e-02   5.42985071e-02   1.68944167e-02   3.69986994e-05\n",
        "   5.59737107e-03   2.41566458e-05  -7.10910092e-07   9.73734986e-07\n",
        "   1.95774686e-06   2.45895734e-06   2.47721671e-06   2.10234745e-06\n",
        "   1.47645643e-06   7.78937566e-07   1.69933221e-07  -3.44467407e-07\n",
        "  -7.59501681e-07  -1.06497404e-06  -1.25712300e-06  -1.36618920e-06\n",
        "  -1.41820098e-06  -1.43901201e-06  -1.42309694e-06  -1.35672448e-06\n",
        "  -1.23582821e-06  -1.06730767e-06  -8.72891143e-07  -6.91634779e-07\n",
        "  -5.24720181e-07  -3.70419956e-07  -2.29292706e-07  -1.01312133e-07\n",
        "   1.49009953e-08   1.19563157e-07   2.12753203e-07   2.94058810e-07\n",
        "   3.65210949e-07   4.25987494e-07   4.75764684e-07   5.12543809e-07\n",
        "   5.37836109e-07   5.52880548e-07   5.59554857e-07   5.59518527e-07\n",
        "   5.51371172e-07   5.32225354e-07   5.00798728e-07   4.57138149e-07\n",
        "   4.02756067e-07   3.39225343e-07   2.66459148e-07   1.83814061e-07\n",
        "   8.94024571e-08]\n",
        "1.34311175448\n",
        "0.997529212012\n",
        "0.997529197147\n",
        "2014-08-04 19:23:04,301 INFO CLAW: Solution 0 computed for time t=0.000000\n"
       ]
      },
      {
       "output_type": "stream",
       "stream": "stdout",
       "text": [
        "2014-08-04 19:23:04,313 INFO CLAW: Solution 1 computed for time t=0.032258\n"
       ]
      },
      {
       "output_type": "stream",
       "stream": "stdout",
       "text": [
        "2014-08-04 19:23:04,333 INFO CLAW: Solution 2 computed for time t=0.161290\n"
       ]
      },
      {
       "output_type": "stream",
       "stream": "stdout",
       "text": [
        "2014-08-04 19:23:04,357 INFO CLAW: Solution 3 computed for time t=0.290323\n"
       ]
      },
      {
       "output_type": "stream",
       "stream": "stdout",
       "text": [
        "2014-08-04 19:23:04,463 INFO CLAW: Solution 4 computed for time t=1.000000\n"
       ]
      },
      {
       "output_type": "stream",
       "stream": "stdout",
       "text": [
        "[ -1.53667663e-03   4.33201537e-02   7.07545101e-02   8.75606141e-02\n",
        "   9.36087081e-02   8.71666810e-02   7.02387500e-02   5.22639859e-02\n",
        "   3.68778865e-02   2.27485313e-02   1.92173836e-02   2.95522054e-02\n",
        "   4.48756809e-02   6.48779993e-02   9.63362563e-02   1.43574514e-01\n",
        "   2.09882994e-01   2.89731198e-01   3.71284762e-01   4.22461292e-01\n",
        "   4.35120938e-01   4.25573590e-01   3.98822281e-01   3.52919320e-01\n",
        "   2.88252749e-01   2.14700094e-01   1.46770544e-01   9.54100985e-02\n",
        "   6.18526742e-02   5.42985071e-02   1.68944167e-02   3.69986963e-05\n",
        "   5.59737107e-03   2.41566456e-05  -7.10910153e-07   9.73734975e-07\n",
        "   1.95774687e-06   2.45895737e-06   2.47721677e-06   2.10234755e-06\n",
        "   1.47645655e-06   7.78937682e-07   1.69933321e-07  -3.44467324e-07\n",
        "  -7.59501617e-07  -1.06497399e-06  -1.25712297e-06  -1.36618919e-06\n",
        "  -1.41820097e-06  -1.43901202e-06  -1.42309695e-06  -1.35672451e-06\n",
        "  -1.23582825e-06  -1.06730772e-06  -8.72891193e-07  -6.91634823e-07\n",
        "  -5.24720222e-07  -3.70419994e-07  -2.29292740e-07  -1.01312164e-07\n",
        "   1.49009679e-08   1.19563133e-07   2.12753182e-07   2.94058792e-07\n",
        "   3.65210933e-07   4.25987481e-07   4.75764675e-07   5.12543802e-07\n",
        "   5.37836106e-07   5.52880546e-07   5.59554857e-07   5.59518528e-07\n",
        "   5.51371174e-07   5.32225359e-07   5.00798736e-07   4.57138160e-07\n",
        "   4.02756078e-07   3.39225356e-07   2.66459162e-07   1.83814077e-07\n",
        "   8.94024738e-08]\n",
        "1.34311171655\n",
        "0.997529197147\n",
        "0.997529197147\n",
        "2014-08-04 19:23:04,472 INFO CLAW: Solution 0 computed for time t=0.000000\n"
       ]
      },
      {
       "output_type": "stream",
       "stream": "stdout",
       "text": [
        "2014-08-04 19:23:04,483 INFO CLAW: Solution 1 computed for time t=0.032258\n"
       ]
      },
      {
       "output_type": "stream",
       "stream": "stdout",
       "text": [
        "2014-08-04 19:23:04,506 INFO CLAW: Solution 2 computed for time t=0.161290\n"
       ]
      },
      {
       "output_type": "stream",
       "stream": "stdout",
       "text": [
        "2014-08-04 19:23:04,530 INFO CLAW: Solution 3 computed for time t=0.290323\n"
       ]
      },
      {
       "output_type": "stream",
       "stream": "stdout",
       "text": [
        "2014-08-04 19:23:04,632 INFO CLAW: Solution 4 computed for time t=1.000000\n"
       ]
      },
      {
       "output_type": "stream",
       "stream": "stdout",
       "text": [
        "[ -1.53667663e-03   4.33376266e-02   7.08703307e-02   8.78924433e-02\n",
        "   9.42145088e-02   8.80646182e-02   7.13162597e-02   5.33752546e-02\n",
        "   3.79639606e-02   2.36500742e-02   1.96953106e-02   2.96424315e-02\n",
        "   4.47214823e-02   6.41776628e-02   9.47512297e-02   1.40850924e-01\n",
        "   2.05905924e-01   2.84478456e-01   3.65991849e-01   4.18352703e-01\n",
        "   4.31735308e-01   4.22308520e-01   3.95704778e-01   3.50355842e-01\n",
        "   2.86518078e-01   2.13709846e-01   1.46287733e-01   9.52102745e-02\n",
        "   6.17812120e-02   5.42738030e-02   1.68868125e-02   3.49324333e-05\n",
        "   5.59687890e-03   2.40109889e-05  -7.51962133e-07   9.65617155e-07\n",
        "   1.96016858e-06   2.47632469e-06   2.51472367e-06   2.15995384e-06\n",
        "   1.55054828e-06   8.53104755e-07   2.33737148e-07  -2.90874441e-07\n",
        "  -7.17668663e-07  -1.03607412e-06  -1.24037463e-06  -1.35889936e-06\n",
        "  -1.41639292e-06  -1.44015008e-06  -1.43032312e-06  -1.37219283e-06\n",
        "  -1.25969597e-06  -1.09794421e-06  -9.04404857e-07  -7.20183021e-07\n",
        "  -5.50925904e-07  -3.94430869e-07  -2.51142727e-07  -1.21021499e-07\n",
        "  -2.69929110e-09   1.04009783e-07   1.99139411e-07   2.82255302e-07\n",
        "   3.55167419e-07   4.17751641e-07   4.69442918e-07   5.08182943e-07\n",
        "   5.35277934e-07   5.51754865e-07   5.59313185e-07   5.59823906e-07\n",
        "   5.52859227e-07   5.35386481e-07   5.05703197e-07   4.63471518e-07\n",
        "   4.10074832e-07   3.47308375e-07   2.75333560e-07   1.93539000e-07\n",
        "   1.00030545e-07]\n",
        "1.31907187005\n",
        "0.997529197147\n",
        "0.997529212012\n",
        "2014-08-04 19:23:04,640 INFO CLAW: Solution 0 computed for time t=0.000000\n"
       ]
      },
      {
       "output_type": "stream",
       "stream": "stdout",
       "text": [
        "2014-08-04 19:23:04,651 INFO CLAW: Solution 1 computed for time t=0.032258\n"
       ]
      },
      {
       "output_type": "stream",
       "stream": "stdout",
       "text": [
        "2014-08-04 19:23:04,674 INFO CLAW: Solution 2 computed for time t=0.161290\n"
       ]
      },
      {
       "output_type": "stream",
       "stream": "stdout",
       "text": [
        "2014-08-04 19:23:04,696 INFO CLAW: Solution 3 computed for time t=0.290323\n"
       ]
      },
      {
       "output_type": "stream",
       "stream": "stdout",
       "text": [
        "2014-08-04 19:23:04,792 INFO CLAW: Solution 4 computed for time t=1.000000\n"
       ]
      },
      {
       "output_type": "stream",
       "stream": "stdout",
       "text": [
        "[ -1.53667663e-03   4.33376266e-02   7.08703307e-02   8.78924433e-02\n",
        "   9.42145088e-02   8.80646182e-02   7.13162597e-02   5.33752546e-02\n",
        "   3.79639606e-02   2.36500742e-02   1.96953106e-02   2.96424315e-02\n",
        "   4.47214823e-02   6.41776628e-02   9.47512297e-02   1.40850924e-01\n",
        "   2.05905924e-01   2.84478456e-01   3.65991849e-01   4.18352703e-01\n",
        "   4.31735308e-01   4.22308520e-01   3.95704778e-01   3.50355842e-01\n",
        "   2.86518078e-01   2.13709846e-01   1.46287733e-01   9.52102745e-02\n",
        "   6.17812120e-02   5.42738030e-02   1.68868125e-02   3.49324333e-05\n",
        "   5.59687890e-03   2.40109889e-05  -7.51962133e-07   9.65617155e-07\n",
        "   1.96016858e-06   2.47632469e-06   2.51472367e-06   2.15995384e-06\n",
        "   1.55054828e-06   8.53104755e-07   2.33737148e-07  -2.90874441e-07\n",
        "  -7.17668663e-07  -1.03607412e-06  -1.24037463e-06  -1.35889936e-06\n",
        "  -1.41639292e-06  -1.44015008e-06  -1.43032312e-06  -1.37219283e-06\n",
        "  -1.25969597e-06  -1.09794421e-06  -9.04404857e-07  -7.20183021e-07\n",
        "  -5.50925904e-07  -3.94430869e-07  -2.51142727e-07  -1.21021499e-07\n",
        "  -2.69929110e-09   1.04009783e-07   1.99139411e-07   2.82255302e-07\n",
        "   3.55167419e-07   4.17751641e-07   4.69442918e-07   5.08182943e-07\n",
        "   5.35277934e-07   5.51754865e-07   5.59313185e-07   5.59823906e-07\n",
        "   5.52859227e-07   5.35386481e-07   5.05703197e-07   4.63471518e-07\n",
        "   4.10074832e-07   3.47308375e-07   2.75333560e-07   1.93539000e-07\n",
        "   1.00030545e-07]\n",
        "1.31907187005\n",
        "0.997529212012\n",
        "0.997529197147\n",
        "2014-08-04 19:23:04,802 INFO CLAW: Solution 0 computed for time t=0.000000\n"
       ]
      },
      {
       "output_type": "stream",
       "stream": "stdout",
       "text": [
        "2014-08-04 19:23:04,815 INFO CLAW: Solution 1 computed for time t=0.032258\n"
       ]
      },
      {
       "output_type": "stream",
       "stream": "stdout",
       "text": [
        "2014-08-04 19:23:04,839 INFO CLAW: Solution 2 computed for time t=0.161290\n"
       ]
      },
      {
       "output_type": "stream",
       "stream": "stdout",
       "text": [
        "2014-08-04 19:23:04,863 INFO CLAW: Solution 3 computed for time t=0.290323\n"
       ]
      },
      {
       "output_type": "stream",
       "stream": "stdout",
       "text": [
        "2014-08-04 19:23:04,963 INFO CLAW: Solution 4 computed for time t=1.000000\n"
       ]
      },
      {
       "output_type": "stream",
       "stream": "stdout",
       "text": [
        "[ -1.53667663e-03   4.33376266e-02   7.08703309e-02   8.78924439e-02\n",
        "   9.42145098e-02   8.80646196e-02   7.13162614e-02   5.33752563e-02\n",
        "   3.79639624e-02   2.36500757e-02   1.96953113e-02   2.96424316e-02\n",
        "   4.47214821e-02   6.41776618e-02   9.47512272e-02   1.40850920e-01\n",
        "   2.05905918e-01   2.84478447e-01   3.65991840e-01   4.18352696e-01\n",
        "   4.31735302e-01   4.22308514e-01   3.95704773e-01   3.50355838e-01\n",
        "   2.86518075e-01   2.13709845e-01   1.46287732e-01   9.52102742e-02\n",
        "   6.17812119e-02   5.42738029e-02   1.68868124e-02   3.49324299e-05\n",
        "   5.59687889e-03   2.40109886e-05  -7.51962202e-07   9.65617141e-07\n",
        "   1.96016858e-06   2.47632471e-06   2.51472372e-06   2.15995393e-06\n",
        "   1.55054840e-06   8.53104873e-07   2.33737250e-07  -2.90874354e-07\n",
        "  -7.17668595e-07  -1.03607407e-06  -1.24037460e-06  -1.35889934e-06\n",
        "  -1.41639292e-06  -1.44015008e-06  -1.43032313e-06  -1.37219285e-06\n",
        "  -1.25969600e-06  -1.09794426e-06  -9.04404908e-07  -7.20183067e-07\n",
        "  -5.50925946e-07  -3.94430907e-07  -2.51142762e-07  -1.21021531e-07\n",
        "  -2.69931932e-09   1.04009758e-07   1.99139390e-07   2.82255283e-07\n",
        "   3.55167403e-07   4.17751627e-07   4.69442908e-07   5.08182936e-07\n",
        "   5.35277929e-07   5.51754863e-07   5.59313185e-07   5.59823906e-07\n",
        "   5.52859229e-07   5.35386485e-07   5.05703204e-07   4.63471528e-07\n",
        "   4.10074843e-07   3.47308387e-07   2.75333574e-07   1.93539016e-07\n",
        "   1.00030562e-07]\n",
        "1.31907183204\n",
        "0.997529197147\n",
        "0.997529197147\n",
        "2014-08-04 19:23:04,971 INFO CLAW: Solution 0 computed for time t=0.000000\n"
       ]
      },
      {
       "output_type": "stream",
       "stream": "stdout",
       "text": [
        "2014-08-04 19:23:04,980 INFO CLAW: Solution 1 computed for time t=0.032258\n"
       ]
      },
      {
       "output_type": "stream",
       "stream": "stdout",
       "text": [
        "2014-08-04 19:23:05,007 INFO CLAW: Solution 2 computed for time t=0.161290\n"
       ]
      },
      {
       "output_type": "stream",
       "stream": "stdout",
       "text": [
        "2014-08-04 19:23:05,033 INFO CLAW: Solution 3 computed for time t=0.290323\n"
       ]
      },
      {
       "output_type": "stream",
       "stream": "stdout",
       "text": [
        "2014-08-04 19:23:05,136 INFO CLAW: Solution 4 computed for time t=1.000000\n"
       ]
      },
      {
       "output_type": "stream",
       "stream": "stdout",
       "text": [
        "[ -1.53667663e-03   4.33716652e-02   7.10957887e-02   8.85378318e-02\n",
        "   9.53928637e-02   8.98130163e-02   7.34207472e-02   5.55509333e-02\n",
        "   4.00943235e-02   2.54395105e-02   2.06650842e-02   2.98384794e-02\n",
        "   4.44470445e-02   6.28702837e-02   9.17567634e-02   1.35665770e-01\n",
        "   1.98290103e-01   2.74328874e-01   3.55524103e-01   4.10138562e-01\n",
        "   4.25044381e-01   4.15902336e-01   3.89531930e-01   3.45186852e-01\n",
        "   2.82949384e-01   2.11633532e-01   1.45256028e-01   9.47747810e-02\n",
        "   6.16222883e-02   5.42179451e-02   1.68693395e-02   3.01164915e-05\n",
        "   5.59572115e-03   2.36678990e-05  -8.50038140e-07   9.45007031e-07\n",
        "   1.96264346e-06   2.50513471e-06   2.58124663e-06   2.26592410e-06\n",
        "   1.69068426e-06   1.00108443e-06   3.62177855e-07  -1.81771259e-07\n",
        "  -6.30803805e-07  -9.74228177e-07  -1.20299676e-06  -1.34133561e-06\n",
        "  -1.41168180e-06  -1.44144976e-06  -1.44147403e-06  -1.39861290e-06\n",
        "  -1.30256288e-06  -1.15504449e-06  -9.66838835e-07  -7.77332227e-07\n",
        "  -6.03372911e-07  -4.42563104e-07  -2.95050810e-07  -1.60744933e-07\n",
        "  -3.82879782e-08   7.24578779e-08   1.71436247e-07   2.58133862e-07\n",
        "   3.34477204e-07   4.00531442e-07   4.55892101e-07   4.98477797e-07\n",
        "   5.29250221e-07   5.48821070e-07   5.58525749e-07   5.60112608e-07\n",
        "   5.54930232e-07   5.40441458e-07   5.14167830e-07   4.74965308e-07\n",
        "   4.23756262e-07   3.62599039e-07   2.92131615e-07   2.11973017e-07\n",
        "   1.20762924e-07]\n",
        "1.27244087959\n",
        "0.997529197147\n",
        "0.997529212012\n",
        "2014-08-04 19:23:05,143 INFO CLAW: Solution 0 computed for time t=0.000000\n"
       ]
      },
      {
       "output_type": "stream",
       "stream": "stdout",
       "text": [
        "2014-08-04 19:23:05,151 INFO CLAW: Solution 1 computed for time t=0.032258\n"
       ]
      },
      {
       "output_type": "stream",
       "stream": "stdout",
       "text": [
        "2014-08-04 19:23:05,170 INFO CLAW: Solution 2 computed for time t=0.161290\n"
       ]
      },
      {
       "output_type": "stream",
       "stream": "stdout",
       "text": [
        "2014-08-04 19:23:05,189 INFO CLAW: Solution 3 computed for time t=0.290323\n"
       ]
      },
      {
       "output_type": "stream",
       "stream": "stdout",
       "text": [
        "2014-08-04 19:23:05,274 INFO CLAW: Solution 4 computed for time t=1.000000\n"
       ]
      },
      {
       "output_type": "stream",
       "stream": "stdout",
       "text": [
        "[ -1.53667663e-03   4.33716652e-02   7.10957887e-02   8.85378318e-02\n",
        "   9.53928637e-02   8.98130163e-02   7.34207472e-02   5.55509333e-02\n",
        "   4.00943235e-02   2.54395105e-02   2.06650842e-02   2.98384794e-02\n",
        "   4.44470445e-02   6.28702837e-02   9.17567634e-02   1.35665770e-01\n",
        "   1.98290103e-01   2.74328874e-01   3.55524103e-01   4.10138562e-01\n",
        "   4.25044381e-01   4.15902336e-01   3.89531930e-01   3.45186852e-01\n",
        "   2.82949384e-01   2.11633532e-01   1.45256028e-01   9.47747810e-02\n",
        "   6.16222883e-02   5.42179451e-02   1.68693395e-02   3.01164915e-05\n",
        "   5.59572115e-03   2.36678990e-05  -8.50038140e-07   9.45007031e-07\n",
        "   1.96264346e-06   2.50513471e-06   2.58124663e-06   2.26592410e-06\n",
        "   1.69068426e-06   1.00108443e-06   3.62177855e-07  -1.81771259e-07\n",
        "  -6.30803805e-07  -9.74228177e-07  -1.20299676e-06  -1.34133561e-06\n",
        "  -1.41168180e-06  -1.44144976e-06  -1.44147403e-06  -1.39861290e-06\n",
        "  -1.30256288e-06  -1.15504449e-06  -9.66838835e-07  -7.77332227e-07\n",
        "  -6.03372911e-07  -4.42563104e-07  -2.95050810e-07  -1.60744933e-07\n",
        "  -3.82879782e-08   7.24578779e-08   1.71436247e-07   2.58133862e-07\n",
        "   3.34477204e-07   4.00531442e-07   4.55892101e-07   4.98477797e-07\n",
        "   5.29250221e-07   5.48821070e-07   5.58525749e-07   5.60112608e-07\n",
        "   5.54930232e-07   5.40441458e-07   5.14167830e-07   4.74965308e-07\n",
        "   4.23756262e-07   3.62599039e-07   2.92131615e-07   2.11973017e-07\n",
        "   1.20762924e-07]\n",
        "1.27244087959\n",
        "0.997529212012\n",
        "0.997529197147\n",
        "2014-08-04 19:23:05,282 INFO CLAW: Solution 0 computed for time t=0.000000\n"
       ]
      },
      {
       "output_type": "stream",
       "stream": "stdout",
       "text": [
        "2014-08-04 19:23:05,294 INFO CLAW: Solution 1 computed for time t=0.032258\n"
       ]
      },
      {
       "output_type": "stream",
       "stream": "stdout",
       "text": [
        "2014-08-04 19:23:05,321 INFO CLAW: Solution 2 computed for time t=0.161290\n"
       ]
      },
      {
       "output_type": "stream",
       "stream": "stdout",
       "text": [
        "2014-08-04 19:23:05,341 INFO CLAW: Solution 3 computed for time t=0.290323\n"
       ]
      },
      {
       "output_type": "stream",
       "stream": "stdout",
       "text": [
        "2014-08-04 19:23:05,425 INFO CLAW: Solution 4 computed for time t=1.000000\n"
       ]
      },
      {
       "output_type": "stream",
       "stream": "stdout",
       "text": [
        "[ -1.53667663e-03   4.33716652e-02   7.10957889e-02   8.85378323e-02\n",
        "   9.53928647e-02   8.98130177e-02   7.34207489e-02   5.55509351e-02\n",
        "   4.00943252e-02   2.54395120e-02   2.06650850e-02   2.98384796e-02\n",
        "   4.44470443e-02   6.28702827e-02   9.17567610e-02   1.35665765e-01\n",
        "   1.98290097e-01   2.74328866e-01   3.55524094e-01   4.10138555e-01\n",
        "   4.25044375e-01   4.15902331e-01   3.89531925e-01   3.45186847e-01\n",
        "   2.82949381e-01   2.11633530e-01   1.45256027e-01   9.47747806e-02\n",
        "   6.16222882e-02   5.42179450e-02   1.68693395e-02   3.01164866e-05\n",
        "   5.59572114e-03   2.36678986e-05  -8.50038243e-07   9.45007008e-07\n",
        "   1.96264346e-06   2.50513473e-06   2.58124668e-06   2.26592418e-06\n",
        "   1.69068438e-06   1.00108455e-06   3.62177964e-07  -1.81771166e-07\n",
        "  -6.30803730e-07  -9.74228123e-07  -1.20299673e-06  -1.34133560e-06\n",
        "  -1.41168179e-06  -1.44144976e-06  -1.44147404e-06  -1.39861292e-06\n",
        "  -1.30256292e-06  -1.15504454e-06  -9.66838889e-07  -7.77332276e-07\n",
        "  -6.03372956e-07  -4.42563144e-07  -2.95050847e-07  -1.60744967e-07\n",
        "  -3.82880083e-08   7.24578511e-08   1.71436224e-07   2.58133841e-07\n",
        "   3.34477186e-07   4.00531427e-07   4.55892090e-07   4.98477788e-07\n",
        "   5.29250215e-07   5.48821067e-07   5.58525748e-07   5.60112608e-07\n",
        "   5.54930233e-07   5.40441461e-07   5.14167837e-07   4.74965317e-07\n",
        "   4.23756273e-07   3.62599051e-07   2.92131628e-07   2.11973032e-07\n",
        "   1.20762940e-07]\n",
        "1.27244084109\n",
        "0.997529197147\n",
        "0.997529197147\n",
        "2014-08-04 19:23:05,432 INFO CLAW: Solution 0 computed for time t=0.000000\n"
       ]
      },
      {
       "output_type": "stream",
       "stream": "stdout",
       "text": [
        "2014-08-04 19:23:05,442 INFO CLAW: Solution 1 computed for time t=0.032258\n"
       ]
      },
      {
       "output_type": "stream",
       "stream": "stdout",
       "text": [
        "2014-08-04 19:23:05,462 INFO CLAW: Solution 2 computed for time t=0.161290\n"
       ]
      },
      {
       "output_type": "stream",
       "stream": "stdout",
       "text": [
        "2014-08-04 19:23:05,482 INFO CLAW: Solution 3 computed for time t=0.290323\n"
       ]
      },
      {
       "output_type": "stream",
       "stream": "stdout",
       "text": [
        "2014-08-04 19:23:05,575 INFO CLAW: Solution 4 computed for time t=1.000000\n"
       ]
      },
      {
       "output_type": "stream",
       "stream": "stdout",
       "text": [
        "[ -1.53667663e-03   4.34374083e-02   7.15267785e-02   8.97641320e-02\n",
        "   9.76296494e-02   9.31440237e-02   7.74464967e-02   5.97197364e-02\n",
        "   4.42078157e-02   2.89427212e-02   2.26311359e-02   3.02947454e-02\n",
        "   4.40765363e-02   6.06794450e-02   8.65064126e-02   1.26332164e-01\n",
        "   1.84317678e-01   2.55537242e-01   3.34874290e-01   3.93711027e-01\n",
        "   4.11838175e-01   4.03499509e-01   3.77514232e-01   3.34831519e-01\n",
        "   2.75508003e-01   2.07111078e-01   1.42899490e-01   9.37259255e-02\n",
        "   6.12168160e-02   5.40680376e-02   1.68199346e-02   1.57832283e-05\n",
        "   5.59213143e-03   2.25981133e-05  -1.16091766e-06   8.68511740e-07\n",
        "   1.95460464e-06   2.53688058e-06   2.68083436e-06   2.44311068e-06\n",
        "   1.93968544e-06   1.29300500e-06   6.23413011e-07   4.19409990e-08\n",
        "  -4.47651689e-07  -8.37167570e-07  -1.11328902e-06  -1.29317591e-06\n",
        "  -1.39363255e-06  -1.43876979e-06  -1.45153738e-06  -1.43398514e-06\n",
        "  -1.36993728e-06  -1.25349818e-06  -1.08603747e-06  -8.92962628e-07\n",
        "  -7.08397426e-07  -5.38943055e-07  -3.83309569e-07  -2.41013267e-07\n",
        "  -1.10645352e-07   7.87622514e-09   1.14360516e-07   2.08109100e-07\n",
        "   2.91127561e-07   3.63731287e-07   4.25849651e-07   4.75595389e-07\n",
        "   5.13547365e-07   5.39654216e-07   5.54519829e-07   5.59150883e-07\n",
        "   5.56118601e-07   5.45940066e-07   5.25940031e-07   4.93362021e-07\n",
        "   4.47517145e-07   3.90090186e-07   3.22399321e-07   2.45074936e-07\n",
        "   1.56254584e-07]\n",
        "1.18458711324\n",
        "0.997529197147\n",
        "0.997529212012\n",
        "2014-08-04 19:23:05,582 INFO CLAW: Solution 0 computed for time t=0.000000\n"
       ]
      },
      {
       "output_type": "stream",
       "stream": "stdout",
       "text": [
        "2014-08-04 19:23:05,590 INFO CLAW: Solution 1 computed for time t=0.032258\n"
       ]
      },
      {
       "output_type": "stream",
       "stream": "stdout",
       "text": [
        "2014-08-04 19:23:05,609 INFO CLAW: Solution 2 computed for time t=0.161290\n"
       ]
      },
      {
       "output_type": "stream",
       "stream": "stdout",
       "text": [
        "2014-08-04 19:23:05,630 INFO CLAW: Solution 3 computed for time t=0.290323\n"
       ]
      },
      {
       "output_type": "stream",
       "stream": "stdout",
       "text": [
        "2014-08-04 19:23:05,734 INFO CLAW: Solution 4 computed for time t=1.000000\n"
       ]
      },
      {
       "output_type": "stream",
       "stream": "stdout",
       "text": [
        "[ -1.53667663e-03   4.34374083e-02   7.15267785e-02   8.97641320e-02\n",
        "   9.76296494e-02   9.31440237e-02   7.74464967e-02   5.97197364e-02\n",
        "   4.42078157e-02   2.89427212e-02   2.26311359e-02   3.02947454e-02\n",
        "   4.40765363e-02   6.06794450e-02   8.65064126e-02   1.26332164e-01\n",
        "   1.84317678e-01   2.55537242e-01   3.34874290e-01   3.93711027e-01\n",
        "   4.11838175e-01   4.03499509e-01   3.77514232e-01   3.34831519e-01\n",
        "   2.75508003e-01   2.07111078e-01   1.42899490e-01   9.37259255e-02\n",
        "   6.12168160e-02   5.40680376e-02   1.68199346e-02   1.57832283e-05\n",
        "   5.59213143e-03   2.25981133e-05  -1.16091766e-06   8.68511740e-07\n",
        "   1.95460464e-06   2.53688058e-06   2.68083436e-06   2.44311068e-06\n",
        "   1.93968544e-06   1.29300500e-06   6.23413011e-07   4.19409990e-08\n",
        "  -4.47651689e-07  -8.37167570e-07  -1.11328902e-06  -1.29317591e-06\n",
        "  -1.39363255e-06  -1.43876979e-06  -1.45153738e-06  -1.43398514e-06\n",
        "  -1.36993728e-06  -1.25349818e-06  -1.08603747e-06  -8.92962628e-07\n",
        "  -7.08397426e-07  -5.38943055e-07  -3.83309569e-07  -2.41013267e-07\n",
        "  -1.10645352e-07   7.87622514e-09   1.14360516e-07   2.08109100e-07\n",
        "   2.91127561e-07   3.63731287e-07   4.25849651e-07   4.75595389e-07\n",
        "   5.13547365e-07   5.39654216e-07   5.54519829e-07   5.59150883e-07\n",
        "   5.56118601e-07   5.45940066e-07   5.25940031e-07   4.93362021e-07\n",
        "   4.47517145e-07   3.90090186e-07   3.22399321e-07   2.45074936e-07\n",
        "   1.56254584e-07]\n",
        "1.18458711324\n",
        "0.997529212012\n",
        "0.997529197147\n",
        "2014-08-04 19:23:05,741 INFO CLAW: Solution 0 computed for time t=0.000000\n"
       ]
      },
      {
       "output_type": "stream",
       "stream": "stdout",
       "text": [
        "2014-08-04 19:23:05,751 INFO CLAW: Solution 1 computed for time t=0.032258\n"
       ]
      },
      {
       "output_type": "stream",
       "stream": "stdout",
       "text": [
        "2014-08-04 19:23:05,777 INFO CLAW: Solution 2 computed for time t=0.161290\n"
       ]
      },
      {
       "output_type": "stream",
       "stream": "stdout",
       "text": [
        "2014-08-04 19:23:05,803 INFO CLAW: Solution 3 computed for time t=0.290323\n"
       ]
      },
      {
       "output_type": "stream",
       "stream": "stdout",
       "text": [
        "2014-08-04 19:23:05,916 INFO CLAW: Solution 4 computed for time t=1.000000\n"
       ]
      },
      {
       "output_type": "stream",
       "stream": "stdout",
       "text": [
        "[ -1.53667663e-03   4.34374083e-02   7.15267787e-02   8.97641325e-02\n",
        "   9.76296504e-02   9.31440252e-02   7.74464985e-02   5.97197383e-02\n",
        "   4.42078175e-02   2.89427228e-02   2.26311368e-02   3.02947456e-02\n",
        "   4.40765362e-02   6.06794441e-02   8.65064103e-02   1.26332160e-01\n",
        "   1.84317672e-01   2.55537234e-01   3.34874281e-01   3.93711020e-01\n",
        "   4.11838169e-01   4.03499504e-01   3.77514226e-01   3.34831514e-01\n",
        "   2.75508000e-01   2.07111076e-01   1.42899489e-01   9.37259249e-02\n",
        "   6.12168158e-02   5.40680376e-02   1.68199345e-02   1.57832205e-05\n",
        "   5.59213143e-03   2.25981127e-05  -1.16091784e-06   8.68511695e-07\n",
        "   1.95460464e-06   2.53688059e-06   2.68083440e-06   2.44311075e-06\n",
        "   1.93968554e-06   1.29300513e-06   6.23413132e-07   4.19411028e-08\n",
        "  -4.47651603e-07  -8.37167504e-07  -1.11328897e-06  -1.29317589e-06\n",
        "  -1.39363254e-06  -1.43876979e-06  -1.45153738e-06  -1.43398515e-06\n",
        "  -1.36993730e-06  -1.25349822e-06  -1.08603752e-06  -8.92962681e-07\n",
        "  -7.08397474e-07  -5.38943099e-07  -3.83309610e-07  -2.41013304e-07\n",
        "  -1.10645385e-07   7.87619516e-09   1.14360490e-07   2.08109076e-07\n",
        "   2.91127540e-07   3.63731269e-07   4.25849636e-07   4.75595378e-07\n",
        "   5.13547357e-07   5.39654211e-07   5.54519826e-07   5.59150882e-07\n",
        "   5.56118601e-07   5.45940067e-07   5.25940035e-07   4.93362028e-07\n",
        "   4.47517155e-07   3.90090197e-07   3.22399334e-07   2.45074950e-07\n",
        "   1.56254600e-07]\n",
        "1.18458707463\n",
        "0.997529197147\n",
        "0.997529197147\n",
        "2014-08-04 19:23:05,933 INFO CLAW: Solution 0 computed for time t=0.000000\n"
       ]
      },
      {
       "output_type": "stream",
       "stream": "stdout",
       "text": [
        "2014-08-04 19:23:05,943 INFO CLAW: Solution 1 computed for time t=0.032258\n"
       ]
      },
      {
       "output_type": "stream",
       "stream": "stdout",
       "text": [
        "2014-08-04 19:23:05,962 INFO CLAW: Solution 2 computed for time t=0.161290\n"
       ]
      },
      {
       "output_type": "stream",
       "stream": "stdout",
       "text": [
        "2014-08-04 19:23:05,980 INFO CLAW: Solution 3 computed for time t=0.290323\n"
       ]
      },
      {
       "output_type": "stream",
       "stream": "stdout",
       "text": [
        "2014-08-04 19:23:06,075 INFO CLAW: Solution 4 computed for time t=1.000000\n"
       ]
      },
      {
       "output_type": "stream",
       "stream": "stdout",
       "text": [
        "[ -1.53667663e-03   4.35576574e-02   7.23090943e-02   9.19777751e-02\n",
        "   1.01664905e-01   9.91616375e-02   8.48320538e-02   6.74019982e-02\n",
        "   5.18437394e-02   3.56615683e-02   2.67073331e-02   3.14445500e-02\n",
        "   4.36601362e-02   5.74359280e-02   7.81660492e-02   1.10957305e-01\n",
        "   1.60682021e-01   2.23236247e-01   2.96168255e-01   3.60912787e-01\n",
        "   3.86136332e-01   3.80295142e-01   3.54827439e-01   3.14253426e-01\n",
        "   2.59677972e-01   1.96789359e-01   1.37113311e-01   9.09411904e-02\n",
        "   6.00481177e-02   5.36039597e-02   1.66553075e-02  -3.56850367e-05\n",
        "   5.57830051e-03   1.83642123e-05  -2.41688433e-06   5.22036999e-07\n",
        "   1.88928665e-06   2.54947472e-06   2.78537020e-06   2.67883457e-06\n",
        "   2.31396627e-06   1.78400260e-06   1.14521497e-06   5.03546663e-07\n",
        "  -5.49196451e-08  -5.21381022e-07  -8.83415129e-07  -1.14766875e-06\n",
        "  -1.31968225e-06  -1.41482322e-06  -1.45158596e-06  -1.46118720e-06\n",
        "  -1.44414087e-06  -1.38511791e-06  -1.27105292e-06  -1.10948987e-06\n",
        "  -9.18998203e-07  -7.31602359e-07  -5.60381283e-07  -4.03362675e-07\n",
        "  -2.58488632e-07  -1.25602162e-07  -5.00050446e-09   1.02303300e-07\n",
        "   1.98141107e-07   2.82886924e-07   3.56886614e-07   4.18942547e-07\n",
        "   4.69838593e-07   5.09035683e-07   5.36080138e-07   5.50348126e-07\n",
        "   5.53497251e-07   5.47626657e-07   5.34327383e-07   5.12263192e-07\n",
        "   4.78150924e-07   4.31063427e-07   3.71146361e-07   2.99442581e-07\n",
        "   2.15926597e-07]\n",
        "1.02881148562\n",
        "0.997529197147\n",
        "0.997529212012\n",
        "2014-08-04 19:23:06,086 INFO CLAW: Solution 0 computed for time t=0.000000\n"
       ]
      },
      {
       "output_type": "stream",
       "stream": "stdout",
       "text": [
        "2014-08-04 19:23:06,097 INFO CLAW: Solution 1 computed for time t=0.032258\n"
       ]
      },
      {
       "output_type": "stream",
       "stream": "stdout",
       "text": [
        "2014-08-04 19:23:06,120 INFO CLAW: Solution 2 computed for time t=0.161290\n"
       ]
      },
      {
       "output_type": "stream",
       "stream": "stdout",
       "text": [
        "2014-08-04 19:23:06,140 INFO CLAW: Solution 3 computed for time t=0.290323\n"
       ]
      },
      {
       "output_type": "stream",
       "stream": "stdout",
       "text": [
        "2014-08-04 19:23:06,242 INFO CLAW: Solution 4 computed for time t=1.000000\n"
       ]
      },
      {
       "output_type": "stream",
       "stream": "stdout",
       "text": [
        "[ -1.53667663e-03   4.35576574e-02   7.23090943e-02   9.19777751e-02\n",
        "   1.01664905e-01   9.91616375e-02   8.48320538e-02   6.74019982e-02\n",
        "   5.18437394e-02   3.56615683e-02   2.67073331e-02   3.14445500e-02\n",
        "   4.36601362e-02   5.74359280e-02   7.81660492e-02   1.10957305e-01\n",
        "   1.60682021e-01   2.23236247e-01   2.96168255e-01   3.60912787e-01\n",
        "   3.86136332e-01   3.80295142e-01   3.54827439e-01   3.14253426e-01\n",
        "   2.59677972e-01   1.96789359e-01   1.37113311e-01   9.09411904e-02\n",
        "   6.00481177e-02   5.36039597e-02   1.66553075e-02  -3.56850367e-05\n",
        "   5.57830051e-03   1.83642123e-05  -2.41688433e-06   5.22036999e-07\n",
        "   1.88928665e-06   2.54947472e-06   2.78537020e-06   2.67883457e-06\n",
        "   2.31396627e-06   1.78400260e-06   1.14521497e-06   5.03546663e-07\n",
        "  -5.49196451e-08  -5.21381022e-07  -8.83415129e-07  -1.14766875e-06\n",
        "  -1.31968225e-06  -1.41482322e-06  -1.45158596e-06  -1.46118720e-06\n",
        "  -1.44414087e-06  -1.38511791e-06  -1.27105292e-06  -1.10948987e-06\n",
        "  -9.18998203e-07  -7.31602359e-07  -5.60381283e-07  -4.03362675e-07\n",
        "  -2.58488632e-07  -1.25602162e-07  -5.00050446e-09   1.02303300e-07\n",
        "   1.98141107e-07   2.82886924e-07   3.56886614e-07   4.18942547e-07\n",
        "   4.69838593e-07   5.09035683e-07   5.36080138e-07   5.50348126e-07\n",
        "   5.53497251e-07   5.47626657e-07   5.34327383e-07   5.12263192e-07\n",
        "   4.78150924e-07   4.31063427e-07   3.71146361e-07   2.99442581e-07\n",
        "   2.15926597e-07]\n",
        "1.02881148562\n",
        "0.997529212012\n",
        "0.997529197147\n",
        "2014-08-04 19:23:06,249 INFO CLAW: Solution 0 computed for time t=0.000000\n"
       ]
      },
      {
       "output_type": "stream",
       "stream": "stdout",
       "text": [
        "2014-08-04 19:23:06,259 INFO CLAW: Solution 1 computed for time t=0.032258\n"
       ]
      },
      {
       "output_type": "stream",
       "stream": "stdout",
       "text": [
        "2014-08-04 19:23:06,282 INFO CLAW: Solution 2 computed for time t=0.161290\n"
       ]
      },
      {
       "output_type": "stream",
       "stream": "stdout",
       "text": [
        "2014-08-04 19:23:06,306 INFO CLAW: Solution 3 computed for time t=0.290323\n"
       ]
      },
      {
       "output_type": "stream",
       "stream": "stdout",
       "text": [
        "2014-08-04 19:23:06,410 INFO CLAW: Solution 4 computed for time t=1.000000\n"
       ]
      },
      {
       "output_type": "stream",
       "stream": "stdout",
       "text": [
        "[ -1.53667663e-03   4.35576575e-02   7.23090945e-02   9.19777757e-02\n",
        "   1.01664906e-01   9.91616390e-02   8.48320557e-02   6.74020002e-02\n",
        "   5.18437414e-02   3.56615700e-02   2.67073342e-02   3.14445503e-02\n",
        "   4.36601361e-02   5.74359273e-02   7.81660473e-02   1.10957302e-01\n",
        "   1.60682016e-01   2.23236239e-01   2.96168245e-01   3.60912778e-01\n",
        "   3.86136325e-01   3.80295136e-01   3.54827433e-01   3.14253420e-01\n",
        "   2.59677967e-01   1.96789356e-01   1.37113310e-01   9.09411895e-02\n",
        "   6.00481173e-02   5.36039596e-02   1.66553074e-02  -3.56850558e-05\n",
        "   5.57830050e-03   1.83642107e-05  -2.41688483e-06   5.22036858e-07\n",
        "   1.88928662e-06   2.54947472e-06   2.78537022e-06   2.67883461e-06\n",
        "   2.31396635e-06   1.78400272e-06   1.14521510e-06   5.03546789e-07\n",
        "  -5.49195362e-08  -5.21380932e-07  -8.83415059e-07  -1.14766871e-06\n",
        "  -1.31968223e-06  -1.41482320e-06  -1.45158596e-06  -1.46118720e-06\n",
        "  -1.44414088e-06  -1.38511793e-06  -1.27105296e-06  -1.10948992e-06\n",
        "  -9.18998259e-07  -7.31602411e-07  -5.60381331e-07  -4.03362719e-07\n",
        "  -2.58488672e-07  -1.25602198e-07  -5.00053741e-09   1.02303271e-07\n",
        "   1.98141081e-07   2.82886901e-07   3.56886594e-07   4.18942530e-07\n",
        "   4.69838579e-07   5.09035673e-07   5.36080131e-07   5.50348122e-07\n",
        "   5.53497249e-07   5.47626657e-07   5.34327384e-07   5.12263194e-07\n",
        "   4.78150929e-07   4.31063435e-07   3.71146372e-07   2.99442594e-07\n",
        "   2.15926612e-07]\n",
        "1.02881144686\n",
        "0.997529197147\n",
        "0.997529197147\n",
        "2014-08-04 19:23:06,418 INFO CLAW: Solution 0 computed for time t=0.000000\n"
       ]
      },
      {
       "output_type": "stream",
       "stream": "stdout",
       "text": [
        "2014-08-04 19:23:06,429 INFO CLAW: Solution 1 computed for time t=0.032258\n"
       ]
      },
      {
       "output_type": "stream",
       "stream": "stdout",
       "text": [
        "2014-08-04 19:23:06,455 INFO CLAW: Solution 2 computed for time t=0.161290\n"
       ]
      },
      {
       "output_type": "stream",
       "stream": "stdout",
       "text": [
        "2014-08-04 19:23:06,480 INFO CLAW: Solution 3 computed for time t=0.290323\n"
       ]
      },
      {
       "output_type": "stream",
       "stream": "stdout",
       "text": [
        "2014-08-04 19:23:06,598 INFO CLAW: Solution 4 computed for time t=1.000000\n"
       ]
      },
      {
       "output_type": "stream",
       "stream": "stdout",
       "text": [
        "[ -1.53667663e-03   4.37932987e-02   7.38133803e-02   9.61808576e-02\n",
        "   1.09312788e-01   1.10578155e-01   9.92603638e-02   8.25276822e-02\n",
        "   6.70640343e-02   4.97419673e-02   3.63574224e-02   3.51311957e-02\n",
        "   4.37792881e-02   5.35879789e-02   6.63098847e-02   8.71507978e-02\n",
        "   1.21829599e-01   1.68097792e-01   2.24071631e-01   2.86770971e-01\n",
        "   3.28091131e-01   3.31689535e-01   3.08769454e-01   2.69964182e-01\n",
        "   2.21560040e-01   1.68523113e-01   1.18930192e-01   8.07909371e-02\n",
        "   5.50694004e-02   5.13308366e-02   1.57220979e-02  -3.76387391e-04\n",
        "   5.47019696e-03  -1.82363392e-05  -1.40443462e-05  -2.95329818e-06\n",
        "   9.48670828e-07   2.31085536e-06   2.77704604e-06   2.83923736e-06\n",
        "   2.70805760e-06   2.44327337e-06   2.03991279e-06   1.51715384e-06\n",
        "   9.05705031e-07   3.10114793e-07  -1.95382022e-07  -6.18038171e-07\n",
        "  -9.53396620e-07  -1.19901023e-06  -1.34866880e-06  -1.42997003e-06\n",
        "  -1.46290897e-06  -1.46844713e-06  -1.45085199e-06  -1.39604019e-06\n",
        "  -1.29659352e-06  -1.15278025e-06  -9.71061531e-07  -7.80351712e-07\n",
        "  -6.05210837e-07  -4.43876375e-07  -2.95468964e-07  -1.60758909e-07\n",
        "  -3.80872870e-08   7.25282832e-08   1.71140955e-07   2.56579394e-07\n",
        "   3.30557757e-07   3.93371419e-07   4.44904883e-07   4.83848749e-07\n",
        "   5.09981477e-07   5.23380720e-07   5.24194779e-07   5.12894909e-07\n",
        "   4.90990242e-07   4.60498593e-07   4.20957099e-07   3.69735767e-07\n",
        "   3.03712340e-07]\n",
        "0.749299287535\n",
        "0.997529197147\n",
        "0.997529212012\n",
        "2014-08-04 19:23:06,605 INFO CLAW: Solution 0 computed for time t=0.000000\n"
       ]
      },
      {
       "output_type": "stream",
       "stream": "stdout",
       "text": [
        "2014-08-04 19:23:06,617 INFO CLAW: Solution 1 computed for time t=0.032258\n"
       ]
      },
      {
       "output_type": "stream",
       "stream": "stdout",
       "text": [
        "2014-08-04 19:23:06,643 INFO CLAW: Solution 2 computed for time t=0.161290\n"
       ]
      },
      {
       "output_type": "stream",
       "stream": "stdout",
       "text": [
        "2014-08-04 19:23:06,669 INFO CLAW: Solution 3 computed for time t=0.290323\n"
       ]
      },
      {
       "output_type": "stream",
       "stream": "stdout",
       "text": [
        "2014-08-04 19:23:06,784 INFO CLAW: Solution 4 computed for time t=1.000000\n"
       ]
      },
      {
       "output_type": "stream",
       "stream": "stdout",
       "text": [
        "[ -1.53667663e-03   4.37932987e-02   7.38133803e-02   9.61808576e-02\n",
        "   1.09312788e-01   1.10578155e-01   9.92603638e-02   8.25276822e-02\n",
        "   6.70640343e-02   4.97419673e-02   3.63574224e-02   3.51311957e-02\n",
        "   4.37792881e-02   5.35879789e-02   6.63098847e-02   8.71507978e-02\n",
        "   1.21829599e-01   1.68097792e-01   2.24071631e-01   2.86770971e-01\n",
        "   3.28091131e-01   3.31689535e-01   3.08769454e-01   2.69964182e-01\n",
        "   2.21560040e-01   1.68523113e-01   1.18930192e-01   8.07909371e-02\n",
        "   5.50694004e-02   5.13308366e-02   1.57220979e-02  -3.76387391e-04\n",
        "   5.47019696e-03  -1.82363392e-05  -1.40443462e-05  -2.95329818e-06\n",
        "   9.48670828e-07   2.31085536e-06   2.77704604e-06   2.83923736e-06\n",
        "   2.70805760e-06   2.44327337e-06   2.03991279e-06   1.51715384e-06\n",
        "   9.05705031e-07   3.10114793e-07  -1.95382022e-07  -6.18038171e-07\n",
        "  -9.53396620e-07  -1.19901023e-06  -1.34866880e-06  -1.42997003e-06\n",
        "  -1.46290897e-06  -1.46844713e-06  -1.45085199e-06  -1.39604019e-06\n",
        "  -1.29659352e-06  -1.15278025e-06  -9.71061531e-07  -7.80351712e-07\n",
        "  -6.05210837e-07  -4.43876375e-07  -2.95468964e-07  -1.60758909e-07\n",
        "  -3.80872870e-08   7.25282832e-08   1.71140955e-07   2.56579394e-07\n",
        "   3.30557757e-07   3.93371419e-07   4.44904883e-07   4.83848749e-07\n",
        "   5.09981477e-07   5.23380720e-07   5.24194779e-07   5.12894909e-07\n",
        "   4.90990242e-07   4.60498593e-07   4.20957099e-07   3.69735767e-07\n",
        "   3.03712340e-07]\n",
        "0.749299287535\n",
        "0.997529212012\n",
        "0.997529197147\n",
        "2014-08-04 19:23:06,792 INFO CLAW: Solution 0 computed for time t=0.000000\n"
       ]
      },
      {
       "output_type": "stream",
       "stream": "stdout",
       "text": [
        "2014-08-04 19:23:06,803 INFO CLAW: Solution 1 computed for time t=0.032258\n"
       ]
      },
      {
       "output_type": "stream",
       "stream": "stdout",
       "text": [
        "2014-08-04 19:23:06,829 INFO CLAW: Solution 2 computed for time t=0.161290\n"
       ]
      },
      {
       "output_type": "stream",
       "stream": "stdout",
       "text": [
        "2014-08-04 19:23:06,854 INFO CLAW: Solution 3 computed for time t=0.290323\n"
       ]
      },
      {
       "output_type": "stream",
       "stream": "stdout",
       "text": [
        "2014-08-04 19:23:06,966 INFO CLAW: Solution 4 computed for time t=1.000000\n"
       ]
      },
      {
       "output_type": "stream",
       "stream": "stdout",
       "text": [
        "[ -1.53667663e-03   4.37932987e-02   7.38133805e-02   9.61808582e-02\n",
        "   1.09312789e-01   1.10578156e-01   9.92603659e-02   8.25276844e-02\n",
        "   6.70640365e-02   4.97419694e-02   3.63574239e-02   3.51311964e-02\n",
        "   4.37792882e-02   5.35879785e-02   6.63098834e-02   8.71507949e-02\n",
        "   1.21829594e-01   1.68097785e-01   2.24071621e-01   2.86770959e-01\n",
        "   3.28091122e-01   3.31689527e-01   3.08769447e-01   2.69964176e-01\n",
        "   2.21560034e-01   1.68523108e-01   1.18930189e-01   8.07909351e-02\n",
        "   5.50693993e-02   5.13308361e-02   1.57220977e-02  -3.76387481e-04\n",
        "   5.47019693e-03  -1.82363501e-05  -1.40443498e-05  -2.95329929e-06\n",
        "   9.48670516e-07   2.31085527e-06   2.77704602e-06   2.83923736e-06\n",
        "   2.70805763e-06   2.44327343e-06   2.03991289e-06   1.51715397e-06\n",
        "   9.05705184e-07   3.10114931e-07  -1.95381902e-07  -6.18038072e-07\n",
        "  -9.53396544e-07  -1.19901017e-06  -1.34866877e-06  -1.42997002e-06\n",
        "  -1.46290897e-06  -1.46844714e-06  -1.45085199e-06  -1.39604022e-06\n",
        "  -1.29659356e-06  -1.15278031e-06  -9.71061595e-07  -7.80351773e-07\n",
        "  -6.05210892e-07  -4.43876427e-07  -2.95469012e-07  -1.60758952e-07\n",
        "  -3.80873263e-08   7.25282477e-08   1.71140924e-07   2.56579366e-07\n",
        "   3.30557732e-07   3.93371397e-07   4.44904864e-07   4.83848734e-07\n",
        "   5.09981465e-07   5.23380712e-07   5.24194775e-07   5.12894907e-07\n",
        "   4.90990242e-07   4.60498594e-07   4.20957101e-07   3.69735772e-07\n",
        "   3.03712349e-07]\n",
        "0.749299250291\n",
        "0.997529197147\n",
        "0.997529197147\n",
        "2014-08-04 19:23:06,973 INFO CLAW: Solution 0 computed for time t=0.000000\n"
       ]
      },
      {
       "output_type": "stream",
       "stream": "stdout",
       "text": [
        "2014-08-04 19:23:06,986 INFO CLAW: Solution 1 computed for time t=0.032258\n"
       ]
      },
      {
       "output_type": "stream",
       "stream": "stdout",
       "text": [
        "2014-08-04 19:23:07,015 INFO CLAW: Solution 2 computed for time t=0.161290\n"
       ]
      },
      {
       "output_type": "stream",
       "stream": "stdout",
       "text": [
        "2014-08-04 19:23:07,045 INFO CLAW: Solution 3 computed for time t=0.290323\n"
       ]
      },
      {
       "output_type": "stream",
       "stream": "stdout",
       "text": [
        "2014-08-04 19:23:07,189 INFO CLAW: Solution 4 computed for time t=1.000000\n"
       ]
      },
      {
       "output_type": "stream",
       "stream": "stdout",
       "text": [
        "[ -1.53667663e-03   4.42454851e-02   7.65962639e-02   1.03770360e-01\n",
        "   1.23058890e-01   1.31129689e-01   1.26373641e-01   1.11706519e-01\n",
        "   9.67965897e-02   7.91755175e-02   6.04611908e-02   4.86036817e-02\n",
        "   4.78518898e-02   5.20313195e-02   5.58829673e-02   6.08786811e-02\n",
        "   7.25156644e-02   9.13918473e-02   1.17426951e-01   1.48933292e-01\n",
        "   1.85282799e-01   2.12826396e-01   2.08960231e-01   1.77499935e-01\n",
        "   1.32973502e-01   8.91275269e-02   5.48757724e-02   3.48091734e-02\n",
        "   2.56529824e-02   3.41267622e-02   6.56280868e-03  -4.79867119e-03\n",
        "   3.55297153e-03  -8.48939293e-04  -3.48179640e-04  -1.26789640e-04\n",
        "  -4.06714292e-05  -1.22030987e-05  -2.23208987e-06   1.25509419e-06\n",
        "   2.34373157e-06   2.58516191e-06   2.57085831e-06   2.48631613e-06\n",
        "   2.33012988e-06   2.06359064e-06   1.67015431e-06   1.17889818e-06\n",
        "   6.27696416e-07   1.10238713e-07  -3.26420644e-07  -6.91246509e-07\n",
        "  -9.81678715e-07  -1.19662417e-06  -1.33299104e-06  -1.40693018e-06\n",
        "  -1.43597416e-06  -1.43612707e-06  -1.42033766e-06  -1.38283535e-06\n",
        "  -1.31346514e-06  -1.20709051e-06  -1.06368058e-06  -8.88725474e-07\n",
        "  -7.09433984e-07  -5.44957833e-07  -3.94854098e-07  -2.59521129e-07\n",
        "  -1.37017542e-07  -2.72247081e-08   6.97505644e-08   1.52899977e-07\n",
        "   2.22787315e-07   2.80030468e-07   3.24755559e-07   3.56553282e-07\n",
        "   3.75013497e-07   3.80363117e-07   3.72104065e-07   3.49743840e-07\n",
        "   3.12654019e-07]\n",
        "0.348992417361\n",
        "0.997529197147\n",
        "0.997529212012\n",
        "2014-08-04 19:23:07,196 INFO CLAW: Solution 0 computed for time t=0.000000\n"
       ]
      },
      {
       "output_type": "stream",
       "stream": "stdout",
       "text": [
        "2014-08-04 19:23:07,209 INFO CLAW: Solution 1 computed for time t=0.032258\n"
       ]
      },
      {
       "output_type": "stream",
       "stream": "stdout",
       "text": [
        "2014-08-04 19:23:07,239 INFO CLAW: Solution 2 computed for time t=0.161290\n"
       ]
      },
      {
       "output_type": "stream",
       "stream": "stdout",
       "text": [
        "2014-08-04 19:23:07,269 INFO CLAW: Solution 3 computed for time t=0.290323\n"
       ]
      },
      {
       "output_type": "stream",
       "stream": "stdout",
       "text": [
        "2014-08-04 19:23:07,408 INFO CLAW: Solution 4 computed for time t=1.000000\n"
       ]
      },
      {
       "output_type": "stream",
       "stream": "stdout",
       "text": [
        "[ -1.53667663e-03   4.42454851e-02   7.65962639e-02   1.03770360e-01\n",
        "   1.23058890e-01   1.31129689e-01   1.26373641e-01   1.11706519e-01\n",
        "   9.67965897e-02   7.91755175e-02   6.04611908e-02   4.86036817e-02\n",
        "   4.78518898e-02   5.20313195e-02   5.58829673e-02   6.08786811e-02\n",
        "   7.25156644e-02   9.13918473e-02   1.17426951e-01   1.48933292e-01\n",
        "   1.85282799e-01   2.12826396e-01   2.08960231e-01   1.77499935e-01\n",
        "   1.32973502e-01   8.91275269e-02   5.48757724e-02   3.48091734e-02\n",
        "   2.56529824e-02   3.41267622e-02   6.56280868e-03  -4.79867119e-03\n",
        "   3.55297153e-03  -8.48939293e-04  -3.48179640e-04  -1.26789640e-04\n",
        "  -4.06714292e-05  -1.22030987e-05  -2.23208987e-06   1.25509419e-06\n",
        "   2.34373157e-06   2.58516191e-06   2.57085831e-06   2.48631613e-06\n",
        "   2.33012988e-06   2.06359064e-06   1.67015431e-06   1.17889818e-06\n",
        "   6.27696416e-07   1.10238713e-07  -3.26420644e-07  -6.91246509e-07\n",
        "  -9.81678715e-07  -1.19662417e-06  -1.33299104e-06  -1.40693018e-06\n",
        "  -1.43597416e-06  -1.43612707e-06  -1.42033766e-06  -1.38283535e-06\n",
        "  -1.31346514e-06  -1.20709051e-06  -1.06368058e-06  -8.88725474e-07\n",
        "  -7.09433984e-07  -5.44957833e-07  -3.94854098e-07  -2.59521129e-07\n",
        "  -1.37017542e-07  -2.72247081e-08   6.97505644e-08   1.52899977e-07\n",
        "   2.22787315e-07   2.80030468e-07   3.24755559e-07   3.56553282e-07\n",
        "   3.75013497e-07   3.80363117e-07   3.72104065e-07   3.49743840e-07\n",
        "   3.12654019e-07]\n",
        "0.348992417361\n",
        "0.997529212012\n",
        "0.997529197147\n",
        "2014-08-04 19:23:07,416 INFO CLAW: Solution 0 computed for time t=0.000000\n"
       ]
      },
      {
       "output_type": "stream",
       "stream": "stdout",
       "text": [
        "2014-08-04 19:23:07,428 INFO CLAW: Solution 1 computed for time t=0.032258\n"
       ]
      },
      {
       "output_type": "stream",
       "stream": "stdout",
       "text": [
        "2014-08-04 19:23:07,458 INFO CLAW: Solution 2 computed for time t=0.161290\n"
       ]
      },
      {
       "output_type": "stream",
       "stream": "stdout",
       "text": [
        "2014-08-04 19:23:07,487 INFO CLAW: Solution 3 computed for time t=0.290323\n"
       ]
      },
      {
       "output_type": "stream",
       "stream": "stdout",
       "text": [
        "2014-08-04 19:23:07,621 INFO CLAW: Solution 4 computed for time t=1.000000\n"
       ]
      },
      {
       "output_type": "stream",
       "stream": "stdout",
       "text": [
        "[ -1.53667663e-03   4.42454851e-02   7.65962641e-02   1.03770361e-01\n",
        "   1.23058891e-01   1.31129691e-01   1.26373643e-01   1.11706522e-01\n",
        "   9.67965923e-02   7.91755202e-02   6.04611932e-02   4.86036833e-02\n",
        "   4.78518905e-02   5.20313195e-02   5.58829669e-02   6.08786796e-02\n",
        "   7.25156613e-02   9.13918421e-02   1.17426943e-01   1.48933282e-01\n",
        "   1.85282787e-01   2.12826384e-01   2.08960221e-01   1.77499926e-01\n",
        "   1.32973494e-01   8.91275189e-02   5.48757652e-02   3.48091675e-02\n",
        "   2.56529782e-02   3.41267595e-02   6.56280706e-03  -4.79867206e-03\n",
        "   3.55297111e-03  -8.48939489e-04  -3.48179726e-04  -1.26789674e-04\n",
        "  -4.06714415e-05  -1.22031032e-05  -2.23209150e-06   1.25509363e-06\n",
        "   2.34373139e-06   2.58516186e-06   2.57085830e-06   2.48631615e-06\n",
        "   2.33012993e-06   2.06359073e-06   1.67015445e-06   1.17889835e-06\n",
        "   6.27696597e-07   1.10238876e-07  -3.26420502e-07  -6.91246390e-07\n",
        "  -9.81678622e-07  -1.19662410e-06  -1.33299099e-06  -1.40693016e-06\n",
        "  -1.43597415e-06  -1.43612707e-06  -1.42033766e-06  -1.38283536e-06\n",
        "  -1.31346517e-06  -1.20709056e-06  -1.06368065e-06  -8.88725550e-07\n",
        "  -7.09434057e-07  -5.44957900e-07  -3.94854161e-07  -2.59521187e-07\n",
        "  -1.37017596e-07  -2.72247575e-08   6.97505193e-08   1.52899936e-07\n",
        "   2.22787278e-07   2.80030435e-07   3.24755529e-07   3.56553256e-07\n",
        "   3.75013475e-07   3.80363098e-07   3.72104051e-07   3.49743829e-07\n",
        "   3.12654012e-07]\n",
        "0.348992391915\n",
        "0.997529197147\n",
        "0.997529197147\n",
        "2014-08-04 19:23:07,628 INFO CLAW: Solution 0 computed for time t=0.000000\n"
       ]
      },
      {
       "output_type": "stream",
       "stream": "stdout",
       "text": [
        "2014-08-04 19:23:07,642 INFO CLAW: Solution 1 computed for time t=0.032258\n"
       ]
      },
      {
       "output_type": "stream",
       "stream": "stdout",
       "text": [
        "2014-08-04 19:23:07,676 INFO CLAW: Solution 2 computed for time t=0.161290\n"
       ]
      },
      {
       "output_type": "stream",
       "stream": "stdout",
       "text": [
        "2014-08-04 19:23:07,711 INFO CLAW: Solution 3 computed for time t=0.290323\n"
       ]
      },
      {
       "output_type": "stream",
       "stream": "stdout",
       "text": [
        "2014-08-04 19:23:07,872 INFO CLAW: Solution 4 computed for time t=1.000000\n"
       ]
      },
      {
       "output_type": "stream",
       "stream": "stdout",
       "text": [
        "[ -1.53667663e-03   4.47574827e-02   7.95907540e-02   1.11667119e-01\n",
        "   1.37240905e-01   1.52353171e-01   1.55035005e-01   1.44943566e-01\n",
        "   1.30755485e-01   1.14301259e-01   9.41030613e-02   7.43884805e-02\n",
        "   6.17579944e-02   5.63852732e-02   5.46552423e-02   5.14432207e-02\n",
        "   4.74651462e-02   4.44769782e-02   4.35543729e-02   4.45407414e-02\n",
        "   4.79074992e-02   5.06767293e-02   5.20952702e-02   4.47056485e-02\n",
        "   1.66136369e-02  -2.02680261e-02  -4.91009073e-02  -5.96921794e-02\n",
        "  -5.36678413e-02  -2.66826521e-02  -3.62846501e-02  -3.25475484e-02\n",
        "  -1.29369050e-02  -1.02279227e-02  -5.33700137e-03  -2.59890444e-03\n",
        "  -1.17164813e-03  -5.23708289e-04  -2.25675309e-04  -9.06546096e-05\n",
        "  -3.28884481e-05  -1.07507624e-05  -2.55104056e-06   6.83729304e-07\n",
        "   1.88160214e-06   2.25552818e-06   2.31387614e-06   2.28656306e-06\n",
        "   2.20802670e-06   2.04757620e-06   1.77226504e-06   1.40394080e-06\n",
        "   9.56678598e-07   4.70907129e-07   3.39900129e-08  -3.41464444e-07\n",
        "  -6.57850549e-07  -9.13539818e-07  -1.10389389e-06  -1.23133913e-06\n",
        "  -1.30805578e-06  -1.34376728e-06  -1.34929094e-06  -1.33647483e-06\n",
        "  -1.31501713e-06  -1.27860613e-06  -1.21865225e-06  -1.12624680e-06\n",
        "  -1.00595696e-06  -8.62334641e-07  -7.07967879e-07  -5.66778846e-07\n",
        "  -4.41790773e-07  -3.31349199e-07  -2.34995101e-07  -1.53132115e-07\n",
        "  -8.60531105e-08  -3.30728137e-08   5.71630002e-09   3.01653634e-08\n",
        "   4.08659802e-08]\n",
        "0.195704302629\n",
        "0.997529197147\n",
        "0.997529212012\n",
        "2014-08-04 19:23:07,881 INFO CLAW: Solution 0 computed for time t=0.000000\n"
       ]
      },
      {
       "output_type": "stream",
       "stream": "stdout",
       "text": [
        "2014-08-04 19:23:07,895 INFO CLAW: Solution 1 computed for time t=0.032258\n"
       ]
      },
      {
       "output_type": "stream",
       "stream": "stdout",
       "text": [
        "2014-08-04 19:23:07,927 INFO CLAW: Solution 2 computed for time t=0.161290\n"
       ]
      },
      {
       "output_type": "stream",
       "stream": "stdout",
       "text": [
        "2014-08-04 19:23:07,959 INFO CLAW: Solution 3 computed for time t=0.290323\n"
       ]
      },
      {
       "output_type": "stream",
       "stream": "stdout",
       "text": [
        "2014-08-04 19:23:08,124 INFO CLAW: Solution 4 computed for time t=1.000000\n"
       ]
      },
      {
       "output_type": "stream",
       "stream": "stdout",
       "text": [
        "[ -1.53667663e-03   4.47574827e-02   7.95907540e-02   1.11667119e-01\n",
        "   1.37240905e-01   1.52353171e-01   1.55035005e-01   1.44943566e-01\n",
        "   1.30755485e-01   1.14301259e-01   9.41030613e-02   7.43884805e-02\n",
        "   6.17579944e-02   5.63852732e-02   5.46552423e-02   5.14432207e-02\n",
        "   4.74651462e-02   4.44769782e-02   4.35543729e-02   4.45407414e-02\n",
        "   4.79074992e-02   5.06767293e-02   5.20952702e-02   4.47056485e-02\n",
        "   1.66136369e-02  -2.02680261e-02  -4.91009073e-02  -5.96921794e-02\n",
        "  -5.36678413e-02  -2.66826521e-02  -3.62846501e-02  -3.25475484e-02\n",
        "  -1.29369050e-02  -1.02279227e-02  -5.33700137e-03  -2.59890444e-03\n",
        "  -1.17164813e-03  -5.23708289e-04  -2.25675309e-04  -9.06546096e-05\n",
        "  -3.28884481e-05  -1.07507624e-05  -2.55104056e-06   6.83729304e-07\n",
        "   1.88160214e-06   2.25552818e-06   2.31387614e-06   2.28656306e-06\n",
        "   2.20802670e-06   2.04757620e-06   1.77226504e-06   1.40394080e-06\n",
        "   9.56678598e-07   4.70907129e-07   3.39900129e-08  -3.41464444e-07\n",
        "  -6.57850549e-07  -9.13539818e-07  -1.10389389e-06  -1.23133913e-06\n",
        "  -1.30805578e-06  -1.34376728e-06  -1.34929094e-06  -1.33647483e-06\n",
        "  -1.31501713e-06  -1.27860613e-06  -1.21865225e-06  -1.12624680e-06\n",
        "  -1.00595696e-06  -8.62334641e-07  -7.07967879e-07  -5.66778846e-07\n",
        "  -4.41790773e-07  -3.31349199e-07  -2.34995101e-07  -1.53132115e-07\n",
        "  -8.60531105e-08  -3.30728137e-08   5.71630002e-09   3.01653634e-08\n",
        "   4.08659802e-08]\n",
        "0.195704302629\n",
        "0.997529212012\n",
        "0.997529197147\n",
        "2014-08-04 19:23:08,132 INFO CLAW: Solution 0 computed for time t=0.000000\n"
       ]
      },
      {
       "output_type": "stream",
       "stream": "stdout",
       "text": [
        "2014-08-04 19:23:08,146 INFO CLAW: Solution 1 computed for time t=0.032258\n"
       ]
      },
      {
       "output_type": "stream",
       "stream": "stdout",
       "text": [
        "2014-08-04 19:23:08,179 INFO CLAW: Solution 2 computed for time t=0.161290\n"
       ]
      },
      {
       "output_type": "stream",
       "stream": "stdout",
       "text": [
        "2014-08-04 19:23:08,214 INFO CLAW: Solution 3 computed for time t=0.290323\n"
       ]
      },
      {
       "output_type": "stream",
       "stream": "stdout",
       "text": [
        "2014-08-04 19:23:08,377 INFO CLAW: Solution 4 computed for time t=1.000000\n"
       ]
      },
      {
       "output_type": "stream",
       "stream": "stdout",
       "text": [
        "[ -1.53667663e-03   4.47574827e-02   7.95907543e-02   1.11667120e-01\n",
        "   1.37240906e-01   1.52353173e-01   1.55035007e-01   1.44943569e-01\n",
        "   1.30755488e-01   1.14301262e-01   9.41030645e-02   7.43884833e-02\n",
        "   6.17579962e-02   5.63852740e-02   5.46552424e-02   5.14432205e-02\n",
        "   4.74651450e-02   4.44769755e-02   4.35543682e-02   4.45407343e-02\n",
        "   4.79074893e-02   5.06767165e-02   5.20952547e-02   4.47056338e-02\n",
        "   1.66136248e-02  -2.02680369e-02  -4.91009175e-02  -5.96921892e-02\n",
        "  -5.36678504e-02  -2.66826600e-02  -3.62846563e-02  -3.25475529e-02\n",
        "  -1.29369080e-02  -1.02279246e-02  -5.33700247e-03  -2.59890504e-03\n",
        "  -1.17164842e-03  -5.23708435e-04  -2.25675377e-04  -9.06546395e-05\n",
        "  -3.28884603e-05  -1.07507673e-05  -2.55104254e-06   6.83728537e-07\n",
        "   1.88160186e-06   2.25552810e-06   2.31387612e-06   2.28656307e-06\n",
        "   2.20802674e-06   2.04757628e-06   1.77226518e-06   1.40394098e-06\n",
        "   9.56678814e-07   4.70907346e-07   3.39902067e-08  -3.41464274e-07\n",
        "  -6.57850405e-07  -9.13539702e-07  -1.10389381e-06  -1.23133907e-06\n",
        "  -1.30805574e-06  -1.34376726e-06  -1.34929094e-06  -1.33647483e-06\n",
        "  -1.31501714e-06  -1.27860615e-06  -1.21865228e-06  -1.12624686e-06\n",
        "  -1.00595704e-06  -8.62334730e-07  -7.07967970e-07  -5.66778930e-07\n",
        "  -4.41790851e-07  -3.31349272e-07  -2.34995170e-07  -1.53132179e-07\n",
        "  -8.60531693e-08  -3.30728678e-08   5.71625048e-09   3.01653182e-08\n",
        "   4.08659387e-08]\n",
        "0.195704306112\n",
        "0.997529197147\n",
        "0.997529197147\n",
        "2014-08-04 19:23:08,384 INFO CLAW: Solution 0 computed for time t=0.000000\n"
       ]
      },
      {
       "output_type": "stream",
       "stream": "stdout",
       "text": [
        "2014-08-04 19:23:08,397 INFO CLAW: Solution 1 computed for time t=0.032258\n"
       ]
      },
      {
       "output_type": "stream",
       "stream": "stdout",
       "text": [
        "2014-08-04 19:23:08,432 INFO CLAW: Solution 2 computed for time t=0.161290\n"
       ]
      },
      {
       "output_type": "stream",
       "stream": "stdout",
       "text": [
        "2014-08-04 19:23:08,466 INFO CLAW: Solution 3 computed for time t=0.290323\n"
       ]
      },
      {
       "output_type": "stream",
       "stream": "stdout",
       "text": [
        "2014-08-04 19:23:08,625 INFO CLAW: Solution 4 computed for time t=1.000000\n"
       ]
      },
      {
       "output_type": "stream",
       "stream": "stdout",
       "text": [
        "[ -1.53667663e-03   4.47048836e-02   7.92905274e-02   1.10888136e-01\n",
        "   1.35848635e-01   1.50269885e-01   1.52218530e-01   1.41537726e-01\n",
        "   1.27261481e-01   1.10664142e-01   9.04479973e-02   7.12850402e-02\n",
        "   5.97778945e-02   5.55578563e-02   5.45193946e-02   5.17846203e-02\n",
        "   4.89257606e-02   4.76841957e-02   4.90879509e-02   5.28662290e-02\n",
        "   5.93751016e-02   6.55281735e-02   6.98649829e-02   6.09476261e-02\n",
        "   3.01238155e-02  -8.25206353e-03  -3.76705293e-02  -4.86676024e-02\n",
        "  -4.35077497e-02  -1.80557869e-02  -2.95482438e-02  -2.77198264e-02\n",
        "  -9.76577632e-03  -8.26678476e-03  -4.20636547e-03  -1.99282762e-03\n",
        "  -8.71702833e-04  -3.78844186e-04  -1.58608523e-04  -6.15221150e-05\n",
        "  -2.11283994e-05  -6.09106159e-06  -6.75185662e-07   1.40171658e-06\n",
        "   2.13278886e-06   2.32847958e-06   2.32837945e-06   2.27341335e-06\n",
        "   2.15300565e-06   1.93798691e-06   1.60752382e-06   1.18929014e-06\n",
        "   7.06459977e-07   2.31776494e-07  -1.78404848e-07  -5.26037494e-07\n",
        "  -8.12455506e-07  -1.03626648e-06  -1.19447959e-06  -1.29221575e-06\n",
        "  -1.34376596e-06  -1.36037877e-06  -1.35397269e-06  -1.33529149e-06\n",
        "  -1.30429582e-06  -1.25136797e-06  -1.17058784e-06  -1.05612652e-06\n",
        "  -9.15563103e-07  -7.58861500e-07  -6.07886579e-07  -4.73967681e-07\n",
        "  -3.55313719e-07  -2.50651492e-07  -1.59806348e-07  -8.33340499e-08\n",
        "  -2.15825564e-08   2.61471372e-08   5.98175697e-08   7.93432708e-08\n",
        "   8.50764210e-08]\n",
        "0.193938797562\n",
        "0.997529197147\n",
        "0.997529212012\n",
        "2014-08-04 19:23:08,632 INFO CLAW: Solution 0 computed for time t=0.000000\n"
       ]
      },
      {
       "output_type": "stream",
       "stream": "stdout",
       "text": [
        "2014-08-04 19:23:08,646 INFO CLAW: Solution 1 computed for time t=0.032258\n"
       ]
      },
      {
       "output_type": "stream",
       "stream": "stdout",
       "text": [
        "2014-08-04 19:23:08,680 INFO CLAW: Solution 2 computed for time t=0.161290\n"
       ]
      },
      {
       "output_type": "stream",
       "stream": "stdout",
       "text": [
        "2014-08-04 19:23:08,712 INFO CLAW: Solution 3 computed for time t=0.290323\n"
       ]
      },
      {
       "output_type": "stream",
       "stream": "stdout",
       "text": [
        "2014-08-04 19:23:08,875 INFO CLAW: Solution 4 computed for time t=1.000000\n"
       ]
      },
      {
       "output_type": "stream",
       "stream": "stdout",
       "text": [
        "[ -1.53667663e-03   4.47048836e-02   7.92905274e-02   1.10888136e-01\n",
        "   1.35848635e-01   1.50269885e-01   1.52218530e-01   1.41537726e-01\n",
        "   1.27261481e-01   1.10664142e-01   9.04479973e-02   7.12850402e-02\n",
        "   5.97778945e-02   5.55578563e-02   5.45193946e-02   5.17846203e-02\n",
        "   4.89257606e-02   4.76841957e-02   4.90879509e-02   5.28662290e-02\n",
        "   5.93751016e-02   6.55281735e-02   6.98649829e-02   6.09476261e-02\n",
        "   3.01238155e-02  -8.25206353e-03  -3.76705293e-02  -4.86676024e-02\n",
        "  -4.35077497e-02  -1.80557869e-02  -2.95482438e-02  -2.77198264e-02\n",
        "  -9.76577632e-03  -8.26678476e-03  -4.20636547e-03  -1.99282762e-03\n",
        "  -8.71702833e-04  -3.78844186e-04  -1.58608523e-04  -6.15221150e-05\n",
        "  -2.11283994e-05  -6.09106159e-06  -6.75185662e-07   1.40171658e-06\n",
        "   2.13278886e-06   2.32847958e-06   2.32837945e-06   2.27341335e-06\n",
        "   2.15300565e-06   1.93798691e-06   1.60752382e-06   1.18929014e-06\n",
        "   7.06459977e-07   2.31776494e-07  -1.78404848e-07  -5.26037494e-07\n",
        "  -8.12455506e-07  -1.03626648e-06  -1.19447959e-06  -1.29221575e-06\n",
        "  -1.34376596e-06  -1.36037877e-06  -1.35397269e-06  -1.33529149e-06\n",
        "  -1.30429582e-06  -1.25136797e-06  -1.17058784e-06  -1.05612652e-06\n",
        "  -9.15563103e-07  -7.58861500e-07  -6.07886579e-07  -4.73967681e-07\n",
        "  -3.55313719e-07  -2.50651492e-07  -1.59806348e-07  -8.33340499e-08\n",
        "  -2.15825564e-08   2.61471372e-08   5.98175697e-08   7.93432708e-08\n",
        "   8.50764210e-08]\n",
        "0.193938797562\n",
        "0.997529212012\n",
        "0.997529197147\n",
        "2014-08-04 19:23:08,884 INFO CLAW: Solution 0 computed for time t=0.000000\n"
       ]
      },
      {
       "output_type": "stream",
       "stream": "stdout",
       "text": [
        "2014-08-04 19:23:08,899 INFO CLAW: Solution 1 computed for time t=0.032258\n"
       ]
      },
      {
       "output_type": "stream",
       "stream": "stdout",
       "text": [
        "2014-08-04 19:23:08,930 INFO CLAW: Solution 2 computed for time t=0.161290\n"
       ]
      },
      {
       "output_type": "stream",
       "stream": "stdout",
       "text": [
        "2014-08-04 19:23:08,960 INFO CLAW: Solution 3 computed for time t=0.290323\n"
       ]
      },
      {
       "output_type": "stream",
       "stream": "stdout",
       "text": [
        "2014-08-04 19:23:09,129 INFO CLAW: Solution 4 computed for time t=1.000000\n"
       ]
      },
      {
       "output_type": "stream",
       "stream": "stdout",
       "text": [
        "[ -1.53667663e-03   4.47048836e-02   7.92905276e-02   1.10888136e-01\n",
        "   1.35848637e-01   1.50269887e-01   1.52218532e-01   1.41537729e-01\n",
        "   1.27261484e-01   1.10664145e-01   9.04480004e-02   7.12850429e-02\n",
        "   5.97778962e-02   5.55578570e-02   5.45193948e-02   5.17846200e-02\n",
        "   4.89257592e-02   4.76841928e-02   4.90879459e-02   5.28662215e-02\n",
        "   5.93750913e-02   6.55281602e-02   6.98649673e-02   6.09476122e-02\n",
        "   3.01238039e-02  -8.25207392e-03  -3.76705393e-02  -4.86676119e-02\n",
        "  -4.35077585e-02  -1.80557942e-02  -2.95482494e-02  -2.77198304e-02\n",
        "  -9.76577889e-03  -8.26678634e-03  -4.20636636e-03  -1.99282809e-03\n",
        "  -8.71703063e-04  -3.78844296e-04  -1.58608574e-04  -6.15221365e-05\n",
        "  -2.11284080e-05  -6.09106496e-06  -6.75187005e-07   1.40171607e-06\n",
        "   2.13278869e-06   2.32847953e-06   2.32837945e-06   2.27341336e-06\n",
        "   2.15300571e-06   1.93798702e-06   1.60752397e-06   1.18929034e-06\n",
        "   7.06460198e-07   2.31776697e-07  -1.78404669e-07  -5.26037340e-07\n",
        "  -8.12455379e-07  -1.03626638e-06  -1.19447951e-06  -1.29221570e-06\n",
        "  -1.34376594e-06  -1.36037876e-06  -1.35397269e-06  -1.33529149e-06\n",
        "  -1.30429584e-06  -1.25136800e-06  -1.17058789e-06  -1.05612659e-06\n",
        "  -9.15563187e-07  -7.58861592e-07  -6.07886664e-07  -4.73967760e-07\n",
        "  -3.55313793e-07  -2.50651561e-07  -1.59806412e-07  -8.33341090e-08\n",
        "  -2.15826109e-08   2.61470873e-08   5.98175241e-08   7.93432296e-08\n",
        "   8.50763848e-08]\n",
        "0.193938797213\n",
        "0.997529197147\n",
        "0.997529197147\n",
        "2014-08-04 19:23:09,136 INFO CLAW: Solution 0 computed for time t=0.000000\n"
       ]
      },
      {
       "output_type": "stream",
       "stream": "stdout",
       "text": [
        "2014-08-04 19:23:09,150 INFO CLAW: Solution 1 computed for time t=0.032258\n"
       ]
      },
      {
       "output_type": "stream",
       "stream": "stdout",
       "text": [
        "2014-08-04 19:23:09,182 INFO CLAW: Solution 2 computed for time t=0.161290\n"
       ]
      },
      {
       "output_type": "stream",
       "stream": "stdout",
       "text": [
        "2014-08-04 19:23:09,218 INFO CLAW: Solution 3 computed for time t=0.290323\n"
       ]
      },
      {
       "output_type": "stream",
       "stream": "stdout",
       "text": [
        "2014-08-04 19:23:09,380 INFO CLAW: Solution 4 computed for time t=1.000000\n"
       ]
      },
      {
       "output_type": "stream",
       "stream": "stdout",
       "text": [
        "[ -1.53667663e-03   4.47102815e-02   7.93213942e-02   1.10968275e-01\n",
        "   1.35991891e-01   1.50484230e-01   1.52508417e-01   1.41886897e-01\n",
        "   1.27619224e-01   1.11036836e-01   9.08204902e-02   7.15987923e-02\n",
        "   5.99740928e-02   5.56372174e-02   5.45322693e-02   5.17460050e-02\n",
        "   4.87679382e-02   4.73428772e-02   4.85033681e-02   5.19911531e-02\n",
        "   5.81738481e-02   6.39764117e-02   6.80384315e-02   5.93145119e-02\n",
        "   2.87643761e-02  -9.47114271e-03  -3.88353606e-02  -4.97877604e-02\n",
        "  -4.45311856e-02  -1.89150885e-02  -3.02111573e-02  -2.81889622e-02\n",
        "  -1.00699331e-02  -8.45270410e-03  -4.31229508e-03  -2.04892567e-03\n",
        "  -8.99110416e-04  -3.91928264e-04  -1.64599061e-04  -6.40951387e-05\n",
        "  -2.21551990e-05  -6.49378554e-06  -8.35911203e-07   1.34089713e-06\n",
        "   2.11199120e-06   2.32281118e-06   2.32741269e-06   2.27527787e-06\n",
        "   2.15970875e-06   1.95047018e-06   1.62560781e-06   1.21242179e-06\n",
        "   7.32306021e-07   2.55627154e-07  -1.57346508e-07  -5.07889893e-07\n",
        "  -7.97446913e-07  -1.02456650e-06  -1.18604805e-06  -1.28672478e-06\n",
        "  -1.34069377e-06  -1.35906073e-06  -1.35366998e-06  -1.33552208e-06\n",
        "  -1.30575558e-06  -1.25469794e-06  -1.17615975e-06  -1.06397186e-06\n",
        "  -9.25405378e-07  -7.69567415e-07  -6.17908246e-07  -4.83250681e-07\n",
        "  -3.63963860e-07  -2.58718202e-07  -1.67311817e-07  -9.02878375e-08\n",
        "  -2.79913475e-08   2.02735635e-08   5.44631792e-08   7.44866469e-08\n",
        "   8.08044646e-08]\n",
        "0.193920431876\n",
        "0.997529197147\n",
        "0.997529212012\n",
        "2014-08-04 19:23:09,390 INFO CLAW: Solution 0 computed for time t=0.000000\n"
       ]
      },
      {
       "output_type": "stream",
       "stream": "stdout",
       "text": [
        "2014-08-04 19:23:09,407 INFO CLAW: Solution 1 computed for time t=0.032258\n"
       ]
      },
      {
       "output_type": "stream",
       "stream": "stdout",
       "text": [
        "2014-08-04 19:23:09,439 INFO CLAW: Solution 2 computed for time t=0.161290\n"
       ]
      },
      {
       "output_type": "stream",
       "stream": "stdout",
       "text": [
        "2014-08-04 19:23:09,470 INFO CLAW: Solution 3 computed for time t=0.290323\n"
       ]
      },
      {
       "output_type": "stream",
       "stream": "stdout",
       "text": [
        "2014-08-04 19:23:09,607 INFO CLAW: Solution 4 computed for time t=1.000000\n"
       ]
      },
      {
       "output_type": "stream",
       "stream": "stdout",
       "text": [
        "[ -1.53667663e-03   4.47102815e-02   7.93213942e-02   1.10968275e-01\n",
        "   1.35991891e-01   1.50484230e-01   1.52508417e-01   1.41886897e-01\n",
        "   1.27619224e-01   1.11036836e-01   9.08204902e-02   7.15987923e-02\n",
        "   5.99740928e-02   5.56372174e-02   5.45322693e-02   5.17460050e-02\n",
        "   4.87679382e-02   4.73428772e-02   4.85033681e-02   5.19911531e-02\n",
        "   5.81738481e-02   6.39764117e-02   6.80384315e-02   5.93145119e-02\n",
        "   2.87643761e-02  -9.47114271e-03  -3.88353606e-02  -4.97877604e-02\n",
        "  -4.45311856e-02  -1.89150885e-02  -3.02111573e-02  -2.81889622e-02\n",
        "  -1.00699331e-02  -8.45270410e-03  -4.31229508e-03  -2.04892567e-03\n",
        "  -8.99110416e-04  -3.91928264e-04  -1.64599061e-04  -6.40951387e-05\n",
        "  -2.21551990e-05  -6.49378554e-06  -8.35911203e-07   1.34089713e-06\n",
        "   2.11199120e-06   2.32281118e-06   2.32741269e-06   2.27527787e-06\n",
        "   2.15970875e-06   1.95047018e-06   1.62560781e-06   1.21242179e-06\n",
        "   7.32306021e-07   2.55627154e-07  -1.57346508e-07  -5.07889893e-07\n",
        "  -7.97446913e-07  -1.02456650e-06  -1.18604805e-06  -1.28672478e-06\n",
        "  -1.34069377e-06  -1.35906073e-06  -1.35366998e-06  -1.33552208e-06\n",
        "  -1.30575558e-06  -1.25469794e-06  -1.17615975e-06  -1.06397186e-06\n",
        "  -9.25405378e-07  -7.69567415e-07  -6.17908246e-07  -4.83250681e-07\n",
        "  -3.63963860e-07  -2.58718202e-07  -1.67311817e-07  -9.02878375e-08\n",
        "  -2.79913475e-08   2.02735635e-08   5.44631792e-08   7.44866469e-08\n",
        "   8.08044646e-08]\n",
        "0.193920431876\n",
        "0.997529212012\n",
        "0.997529197147\n",
        "2014-08-04 19:23:09,614 INFO CLAW: Solution 0 computed for time t=0.000000\n"
       ]
      },
      {
       "output_type": "stream",
       "stream": "stdout",
       "text": [
        "2014-08-04 19:23:09,625 INFO CLAW: Solution 1 computed for time t=0.032258\n"
       ]
      },
      {
       "output_type": "stream",
       "stream": "stdout",
       "text": [
        "2014-08-04 19:23:09,655 INFO CLAW: Solution 2 computed for time t=0.161290\n"
       ]
      },
      {
       "output_type": "stream",
       "stream": "stdout",
       "text": [
        "2014-08-04 19:23:09,683 INFO CLAW: Solution 3 computed for time t=0.290323\n"
       ]
      },
      {
       "output_type": "stream",
       "stream": "stdout",
       "text": [
        "2014-08-04 19:23:09,822 INFO CLAW: Solution 4 computed for time t=1.000000\n"
       ]
      },
      {
       "output_type": "stream",
       "stream": "stdout",
       "text": [
        "[ -1.53667663e-03   4.47102815e-02   7.93213945e-02   1.10968275e-01\n",
        "   1.35991892e-01   1.50484232e-01   1.52508419e-01   1.41886900e-01\n",
        "   1.27619227e-01   1.11036840e-01   9.08204933e-02   7.15987950e-02\n",
        "   5.99740945e-02   5.56372180e-02   5.45322694e-02   5.17460047e-02\n",
        "   4.87679369e-02   4.73428743e-02   4.85033631e-02   5.19911457e-02\n",
        "   5.81738379e-02   6.39763985e-02   6.80384159e-02   5.93144979e-02\n",
        "   2.87643644e-02  -9.47115313e-03  -3.88353706e-02  -4.97877700e-02\n",
        "  -4.45311944e-02  -1.89150959e-02  -3.02111629e-02  -2.81889662e-02\n",
        "  -1.00699357e-02  -8.45270570e-03  -4.31229599e-03  -2.04892616e-03\n",
        "  -8.99110653e-04  -3.91928378e-04  -1.64599113e-04  -6.40951611e-05\n",
        "  -2.21552079e-05  -6.49378905e-06  -8.35912604e-07   1.34089660e-06\n",
        "   2.11199101e-06   2.32281113e-06   2.32741268e-06   2.27527788e-06\n",
        "   2.15970881e-06   1.95047029e-06   1.62560796e-06   1.21242198e-06\n",
        "   7.32306242e-07   2.55627359e-07  -1.57346327e-07  -5.07889737e-07\n",
        "  -7.97446784e-07  -1.02456640e-06  -1.18604798e-06  -1.28672473e-06\n",
        "  -1.34069374e-06  -1.35906071e-06  -1.35366998e-06  -1.33552208e-06\n",
        "  -1.30575559e-06  -1.25469797e-06  -1.17615980e-06  -1.06397193e-06\n",
        "  -9.25405461e-07  -7.69567507e-07  -6.17908332e-07  -4.83250760e-07\n",
        "  -3.63963934e-07  -2.58718271e-07  -1.67311881e-07  -9.02878971e-08\n",
        "  -2.79914024e-08   2.02735131e-08   5.44631333e-08   7.44866053e-08\n",
        "   8.08044279e-08]\n",
        "0.193920431912\n",
        "0.997529197147\n",
        "0.997529197147\n",
        "2014-08-04 19:23:09,828 INFO CLAW: Solution 0 computed for time t=0.000000\n"
       ]
      },
      {
       "output_type": "stream",
       "stream": "stdout",
       "text": [
        "2014-08-04 19:23:09,838 INFO CLAW: Solution 1 computed for time t=0.032258\n"
       ]
      },
      {
       "output_type": "stream",
       "stream": "stdout",
       "text": [
        "2014-08-04 19:23:09,866 INFO CLAW: Solution 2 computed for time t=0.161290\n"
       ]
      },
      {
       "output_type": "stream",
       "stream": "stdout",
       "text": [
        "2014-08-04 19:23:09,896 INFO CLAW: Solution 3 computed for time t=0.290323\n"
       ]
      },
      {
       "output_type": "stream",
       "stream": "stdout",
       "text": [
        "2014-08-04 19:23:10,033 INFO CLAW: Solution 4 computed for time t=1.000000\n"
       ]
      },
      {
       "output_type": "stream",
       "stream": "stdout",
       "text": [
        "[ -1.53667663e-03   4.47097302e-02   7.93182423e-02   1.10960092e-01\n",
        "   1.35977264e-01   1.50462344e-01   1.52478817e-01   1.41851232e-01\n",
        "   1.27582679e-01   1.10998766e-01   9.07824215e-02   7.15666912e-02\n",
        "   5.99539884e-02   5.56290606e-02   5.45309302e-02   5.17499073e-02\n",
        "   4.87839771e-02   4.73776106e-02   4.85628984e-02   5.20803110e-02\n",
        "   5.82962806e-02   6.41345585e-02   6.82249814e-02   5.94817111e-02\n",
        "   2.89034968e-02  -9.34649929e-03  -3.87163096e-02  -4.96732340e-02\n",
        "  -4.44264532e-02  -1.88270516e-02  -3.01431569e-02  -2.81407777e-02\n",
        "  -1.00386521e-02  -8.43356074e-03  -4.30137497e-03  -2.04313554e-03\n",
        "  -8.96277891e-04  -3.90574470e-04  -1.63978538e-04  -6.38283160e-05\n",
        "  -2.20485984e-05  -6.45193179e-06  -8.19191963e-07   1.34723074e-06\n",
        "   2.11416100e-06   2.32340576e-06   2.32751684e-06   2.27509393e-06\n",
        "   2.15903472e-06   1.94920842e-06   1.62377398e-06   1.21007003e-06\n",
        "   7.29665919e-07   2.53184373e-07  -1.59505018e-07  -5.09751797e-07\n",
        "  -7.98988760e-07  -1.02577063e-06  -1.18691815e-06  -1.28729349e-06\n",
        "  -1.34101341e-06  -1.35919876e-06  -1.35370221e-06  -1.33550009e-06\n",
        "  -1.30561037e-06  -1.25436397e-06  -1.17559787e-06  -1.06317732e-06\n",
        "  -9.24405852e-07  -7.68473847e-07  -6.16881647e-07  -4.82299917e-07\n",
        "  -3.63078075e-07  -2.57892115e-07  -1.66543078e-07  -8.95754552e-08\n",
        "  -2.73346474e-08   2.08755580e-08   5.50120799e-08   7.49846296e-08\n",
        "   8.12434757e-08]\n",
        "0.193920239748\n",
        "0.997529197147\n",
        "0.997529212012\n",
        "2014-08-04 19:23:10,039 INFO CLAW: Solution 0 computed for time t=0.000000\n"
       ]
      },
      {
       "output_type": "stream",
       "stream": "stdout",
       "text": [
        "2014-08-04 19:23:10,051 INFO CLAW: Solution 1 computed for time t=0.032258\n"
       ]
      },
      {
       "output_type": "stream",
       "stream": "stdout",
       "text": [
        "2014-08-04 19:23:10,089 INFO CLAW: Solution 2 computed for time t=0.161290\n"
       ]
      },
      {
       "output_type": "stream",
       "stream": "stdout",
       "text": [
        "2014-08-04 19:23:10,123 INFO CLAW: Solution 3 computed for time t=0.290323\n"
       ]
      },
      {
       "output_type": "stream",
       "stream": "stdout",
       "text": [
        "2014-08-04 19:23:10,289 INFO CLAW: Solution 4 computed for time t=1.000000\n"
       ]
      },
      {
       "output_type": "stream",
       "stream": "stdout",
       "text": [
        "[ -1.53667663e-03   4.47097302e-02   7.93182423e-02   1.10960092e-01\n",
        "   1.35977264e-01   1.50462344e-01   1.52478817e-01   1.41851232e-01\n",
        "   1.27582679e-01   1.10998766e-01   9.07824215e-02   7.15666912e-02\n",
        "   5.99539884e-02   5.56290606e-02   5.45309302e-02   5.17499073e-02\n",
        "   4.87839771e-02   4.73776106e-02   4.85628984e-02   5.20803110e-02\n",
        "   5.82962806e-02   6.41345585e-02   6.82249814e-02   5.94817111e-02\n",
        "   2.89034968e-02  -9.34649929e-03  -3.87163096e-02  -4.96732340e-02\n",
        "  -4.44264532e-02  -1.88270516e-02  -3.01431569e-02  -2.81407777e-02\n",
        "  -1.00386521e-02  -8.43356074e-03  -4.30137497e-03  -2.04313554e-03\n",
        "  -8.96277891e-04  -3.90574470e-04  -1.63978538e-04  -6.38283160e-05\n",
        "  -2.20485984e-05  -6.45193179e-06  -8.19191963e-07   1.34723074e-06\n",
        "   2.11416100e-06   2.32340576e-06   2.32751684e-06   2.27509393e-06\n",
        "   2.15903472e-06   1.94920842e-06   1.62377398e-06   1.21007003e-06\n",
        "   7.29665919e-07   2.53184373e-07  -1.59505018e-07  -5.09751797e-07\n",
        "  -7.98988760e-07  -1.02577063e-06  -1.18691815e-06  -1.28729349e-06\n",
        "  -1.34101341e-06  -1.35919876e-06  -1.35370221e-06  -1.33550009e-06\n",
        "  -1.30561037e-06  -1.25436397e-06  -1.17559787e-06  -1.06317732e-06\n",
        "  -9.24405852e-07  -7.68473847e-07  -6.16881647e-07  -4.82299917e-07\n",
        "  -3.63078075e-07  -2.57892115e-07  -1.66543078e-07  -8.95754552e-08\n",
        "  -2.73346474e-08   2.08755580e-08   5.50120799e-08   7.49846296e-08\n",
        "   8.12434757e-08]\n",
        "0.193920239748\n",
        "0.997529212012\n",
        "0.997529197147\n",
        "2014-08-04 19:23:10,297 INFO CLAW: Solution 0 computed for time t=0.000000\n"
       ]
      },
      {
       "output_type": "stream",
       "stream": "stdout",
       "text": [
        "2014-08-04 19:23:10,308 INFO CLAW: Solution 1 computed for time t=0.032258\n"
       ]
      },
      {
       "output_type": "stream",
       "stream": "stdout",
       "text": [
        "2014-08-04 19:23:10,341 INFO CLAW: Solution 2 computed for time t=0.161290\n"
       ]
      },
      {
       "output_type": "stream",
       "stream": "stdout",
       "text": [
        "2014-08-04 19:23:10,371 INFO CLAW: Solution 3 computed for time t=0.290323\n"
       ]
      },
      {
       "output_type": "stream",
       "stream": "stdout",
       "text": [
        "2014-08-04 19:23:10,521 INFO CLAW: Solution 4 computed for time t=1.000000\n"
       ]
      },
      {
       "output_type": "stream",
       "stream": "stdout",
       "text": [
        "[ -1.53667663e-03   4.47097302e-02   7.93182426e-02   1.10960093e-01\n",
        "   1.35977265e-01   1.50462346e-01   1.52478820e-01   1.41851235e-01\n",
        "   1.27582682e-01   1.10998769e-01   9.07824247e-02   7.15666939e-02\n",
        "   5.99539901e-02   5.56290613e-02   5.45309303e-02   5.17499070e-02\n",
        "   4.87839758e-02   4.73776077e-02   4.85628934e-02   5.20803035e-02\n",
        "   5.82962704e-02   6.41345452e-02   6.82249658e-02   5.94816971e-02\n",
        "   2.89034851e-02  -9.34650971e-03  -3.87163195e-02  -4.96732436e-02\n",
        "  -4.44264620e-02  -1.88270590e-02  -3.01431626e-02  -2.81407817e-02\n",
        "  -1.00386547e-02  -8.43356234e-03  -4.30137588e-03  -2.04313602e-03\n",
        "  -8.96278128e-04  -3.90574583e-04  -1.63978590e-04  -6.38283382e-05\n",
        "  -2.20486073e-05  -6.45193528e-06  -8.19193358e-07   1.34723021e-06\n",
        "   2.11416082e-06   2.32340571e-06   2.32751683e-06   2.27509394e-06\n",
        "   2.15903478e-06   1.94920853e-06   1.62377414e-06   1.21007023e-06\n",
        "   7.29666140e-07   2.53184577e-07  -1.59504838e-07  -5.09751642e-07\n",
        "  -7.98988631e-07  -1.02577053e-06  -1.18691808e-06  -1.28729344e-06\n",
        "  -1.34101338e-06  -1.35919875e-06  -1.35370221e-06  -1.33550010e-06\n",
        "  -1.30561038e-06  -1.25436400e-06  -1.17559792e-06  -1.06317739e-06\n",
        "  -9.24405936e-07  -7.68473939e-07  -6.16881733e-07  -4.82299996e-07\n",
        "  -3.63078149e-07  -2.57892184e-07  -1.66543143e-07  -8.95755147e-08\n",
        "  -2.73347023e-08   2.08755077e-08   5.50120340e-08   7.49845880e-08\n",
        "   8.12434390e-08]\n",
        "0.193920239744\n",
        "0.997529197147\n",
        "0.997529197147\n",
        "2014-08-04 19:23:10,528 INFO CLAW: Solution 0 computed for time t=0.000000\n"
       ]
      },
      {
       "output_type": "stream",
       "stream": "stdout",
       "text": [
        "2014-08-04 19:23:10,538 INFO CLAW: Solution 1 computed for time t=0.032258\n"
       ]
      },
      {
       "output_type": "stream",
       "stream": "stdout",
       "text": [
        "2014-08-04 19:23:10,566 INFO CLAW: Solution 2 computed for time t=0.161290\n"
       ]
      },
      {
       "output_type": "stream",
       "stream": "stdout",
       "text": [
        "2014-08-04 19:23:10,594 INFO CLAW: Solution 3 computed for time t=0.290323\n"
       ]
      },
      {
       "output_type": "stream",
       "stream": "stdout",
       "text": [
        "2014-08-04 19:23:10,738 INFO CLAW: Solution 4 computed for time t=1.000000\n"
       ]
      },
      {
       "output_type": "stream",
       "stream": "stdout",
       "text": [
        "[ -1.53667663e-03   4.47097859e-02   7.93185610e-02   1.10960919e-01\n",
        "   1.35978743e-01   1.50464557e-01   1.52481810e-01   1.41854838e-01\n",
        "   1.27586373e-01   1.11002615e-01   9.07862701e-02   7.15699361e-02\n",
        "   5.99560204e-02   5.56298847e-02   5.45310653e-02   5.17495123e-02\n",
        "   4.87823547e-02   4.73740977e-02   4.85568778e-02   5.20712946e-02\n",
        "   5.82838998e-02   6.41185667e-02   6.82061205e-02   5.94648099e-02\n",
        "   2.88894337e-02  -9.35909981e-03  -3.87283452e-02  -4.96848118e-02\n",
        "  -4.44370399e-02  -1.88359496e-02  -3.01500289e-02  -2.81456465e-02\n",
        "  -1.00418125e-02  -8.43549459e-03  -4.30247798e-03  -2.04372031e-03\n",
        "  -8.96563923e-04  -3.90711162e-04  -1.64041184e-04  -6.38552507e-05\n",
        "  -2.20593581e-05  -6.45615582e-06  -8.20879183e-07   1.34659165e-06\n",
        "   2.11394211e-06   2.32334583e-06   2.32750638e-06   2.27511260e-06\n",
        "   2.15910297e-06   1.94933610e-06   1.62395950e-06   1.21030791e-06\n",
        "   7.29932848e-07   2.53431286e-07  -1.59286859e-07  -5.09563637e-07\n",
        "  -7.98832967e-07  -1.02564899e-06  -1.18683027e-06  -1.28723607e-06\n",
        "  -1.34098115e-06  -1.35918484e-06  -1.35369897e-06  -1.33550234e-06\n",
        "  -1.30562509e-06  -1.25439779e-06  -1.17565475e-06  -1.06325772e-06\n",
        "  -9.24506962e-07  -7.68584412e-07  -6.16985416e-07  -4.82396018e-07\n",
        "  -3.63167607e-07  -2.57975612e-07  -1.66620778e-07  -8.96474570e-08\n",
        "  -2.74010198e-08   2.08147161e-08   5.49566052e-08   7.49343021e-08\n",
        "   8.11991182e-08]\n",
        "0.193920237784\n",
        "0.997529197147\n",
        "[ 0.9975292   2.05516206]\n"
       ]
      }
     ],
     "prompt_number": 21
    },
    {
     "cell_type": "code",
     "collapsed": false,
     "input": [
      "#BrdU\n",
      "data_dir= './data-working/TXT_BrdU/'\n",
      "keyword='BrdU_Sim'\n",
      "actual_times= np.array([60.,120.,360.,600.,1920.])\n",
      "\n",
      "#l_brdu, v_brdu, xc_brdu= run_sim(data_dir,keyword,actual_times,s=10,num_sims=2)"
     ],
     "language": "python",
     "metadata": {},
     "outputs": [],
     "prompt_number": 4
    },
    {
     "cell_type": "code",
     "collapsed": false,
     "input": [
      "#get initial profile (and save to ouput file?) TODO: STOP OUTPUTTING PIC!\n",
      "xi_all, finterpe_norm_all, lsample_all, ylerr_all, yrerr_all= [], [], [], [], []\n",
      "for i in range(0,actual_times.size):\n",
      "    xi, finterpe_norm, lsample, ylerr, yrerr= da.process_and_fit_data_file(dir_fit=data_dir,time_to_fit=file0,key_fit=keyword,s=s)\n",
      "    xi_all.append\n",
      "    finterpe_norm_all\n",
      "    lsample_all\n",
      "    ylerr_all\n",
      "    yrerr_all"
     ],
     "language": "python",
     "metadata": {},
     "outputs": [
      {
       "ename": "NameError",
       "evalue": "name 'file0' is not defined",
       "output_type": "pyerr",
       "traceback": [
        "\u001b[1;31m---------------------------------------------------------------------------\u001b[0m\n\u001b[1;31mNameError\u001b[0m                                 Traceback (most recent call last)",
        "\u001b[1;32m<ipython-input-5-5dceb147d580>\u001b[0m in \u001b[0;36m<module>\u001b[1;34m()\u001b[0m\n\u001b[0;32m      2\u001b[0m \u001b[0mxi_all\u001b[0m\u001b[1;33m,\u001b[0m \u001b[0mfinterpe_norm_all\u001b[0m\u001b[1;33m,\u001b[0m \u001b[0mlsample_all\u001b[0m\u001b[1;33m,\u001b[0m \u001b[0mylerr_all\u001b[0m\u001b[1;33m,\u001b[0m \u001b[0myrerr_all\u001b[0m\u001b[1;33m=\u001b[0m \u001b[1;33m[\u001b[0m\u001b[1;33m]\u001b[0m\u001b[1;33m,\u001b[0m \u001b[1;33m[\u001b[0m\u001b[1;33m]\u001b[0m\u001b[1;33m,\u001b[0m \u001b[1;33m[\u001b[0m\u001b[1;33m]\u001b[0m\u001b[1;33m,\u001b[0m \u001b[1;33m[\u001b[0m\u001b[1;33m]\u001b[0m\u001b[1;33m,\u001b[0m \u001b[1;33m[\u001b[0m\u001b[1;33m]\u001b[0m\u001b[1;33m\u001b[0m\u001b[0m\n\u001b[0;32m      3\u001b[0m \u001b[1;32mfor\u001b[0m \u001b[0mi\u001b[0m \u001b[1;32min\u001b[0m \u001b[0mrange\u001b[0m\u001b[1;33m(\u001b[0m\u001b[1;36m0\u001b[0m\u001b[1;33m,\u001b[0m\u001b[0mactual_times\u001b[0m\u001b[1;33m.\u001b[0m\u001b[0msize\u001b[0m\u001b[1;33m)\u001b[0m\u001b[1;33m:\u001b[0m\u001b[1;33m\u001b[0m\u001b[0m\n\u001b[1;32m----> 4\u001b[1;33m     \u001b[0mxi\u001b[0m\u001b[1;33m,\u001b[0m \u001b[0mfinterpe_norm\u001b[0m\u001b[1;33m,\u001b[0m \u001b[0mlsample\u001b[0m\u001b[1;33m,\u001b[0m \u001b[0mylerr\u001b[0m\u001b[1;33m,\u001b[0m \u001b[0myrerr\u001b[0m\u001b[1;33m=\u001b[0m \u001b[0mda\u001b[0m\u001b[1;33m.\u001b[0m\u001b[0mprocess_and_fit_data_file\u001b[0m\u001b[1;33m(\u001b[0m\u001b[0mdir_fit\u001b[0m\u001b[1;33m=\u001b[0m\u001b[0mdata_dir\u001b[0m\u001b[1;33m,\u001b[0m\u001b[0mtime_to_fit\u001b[0m\u001b[1;33m=\u001b[0m\u001b[0mfile0\u001b[0m\u001b[1;33m,\u001b[0m\u001b[0mkey_fit\u001b[0m\u001b[1;33m=\u001b[0m\u001b[0mkeyword\u001b[0m\u001b[1;33m,\u001b[0m\u001b[0ms\u001b[0m\u001b[1;33m=\u001b[0m\u001b[0ms\u001b[0m\u001b[1;33m)\u001b[0m\u001b[1;33m\u001b[0m\u001b[0m\n\u001b[0m\u001b[0;32m      5\u001b[0m     \u001b[0mxi_all\u001b[0m\u001b[1;33m.\u001b[0m\u001b[0mappend\u001b[0m\u001b[1;33m\u001b[0m\u001b[0m\n\u001b[0;32m      6\u001b[0m     \u001b[0mfinterpe_norm_all\u001b[0m\u001b[1;33m\u001b[0m\u001b[0m\n",
        "\u001b[1;31mNameError\u001b[0m: name 'file0' is not defined"
       ]
      }
     ],
     "prompt_number": 5
    },
    {
     "cell_type": "code",
     "collapsed": false,
     "input": [
      "d= np.arange(0,2)\n",
      "if (1 < 2) and (1 < 3):\n",
      "    print d"
     ],
     "language": "python",
     "metadata": {},
     "outputs": [
      {
       "output_type": "stream",
       "stream": "stdout",
       "text": [
        "[0 1]\n"
       ]
      }
     ],
     "prompt_number": 53
    },
    {
     "cell_type": "code",
     "collapsed": false,
     "input": [
      "import numpy as np\n",
      "a= np.array([0,1,2])\n",
      "np.sum(a**2)"
     ],
     "language": "python",
     "metadata": {},
     "outputs": [
      {
       "metadata": {},
       "output_type": "pyout",
       "prompt_number": 8,
       "text": [
        "5"
       ]
      }
     ],
     "prompt_number": 8
    },
    {
     "cell_type": "code",
     "collapsed": false,
     "input": [
      "import sims\n",
      "sims.opt_sim(data_dir= './data-working/TXT_BrdU/',keyword='BrdU_Sim',actual_times= np.array([60.,120.,360.,600.]),prec_time=4,s=15)"
     ],
     "language": "python",
     "metadata": {},
     "outputs": [
      {
       "output_type": "stream",
       "stream": "stdout",
       "text": [
        "['BrdU_01_0010min.txt', 'BrdU_01_0020min.txt', 'BrdU_01_0030min.txt', 'BrdU_01_0045min.txt', 'BrdU_01_0060min.txt', 'BrdU_01_0120min.txt', 'BrdU_01_0360min.txt', 'BrdU_01_0600min.txt', 'BrdU_01_1920min.txt', 'BrdU_01_3360min.txt', 'BrdU_01_4320min.txt', 'BrdU_01_4800min.txt']\n",
        "BrdU_01_0060min.txt\n",
        "plot labelled fraction and original data"
       ]
      },
      {
       "output_type": "stream",
       "stream": "stdout",
       "text": [
        "\n",
        "raw and interpolated (normalised)"
       ]
      },
      {
       "output_type": "stream",
       "stream": "stdout",
       "text": [
        "\n",
        "plot labelled fraction and original data"
       ]
      },
      {
       "output_type": "stream",
       "stream": "stdout",
       "text": [
        "\n",
        "raw and interpolated (normalised)"
       ]
      },
      {
       "output_type": "stream",
       "stream": "stdout",
       "text": [
        "\n",
        "plot labelled fraction and original data"
       ]
      },
      {
       "output_type": "stream",
       "stream": "stdout",
       "text": [
        "\n",
        "raw and interpolated (normalised)"
       ]
      },
      {
       "output_type": "stream",
       "stream": "stdout",
       "text": [
        "\n",
        "plot labelled fraction and original data"
       ]
      },
      {
       "output_type": "stream",
       "stream": "stdout",
       "text": [
        "\n",
        "raw and interpolated (normalised)"
       ]
      },
      {
       "output_type": "stream",
       "stream": "stdout",
       "text": [
        "\n",
        "plot labelled fraction and original data"
       ]
      },
      {
       "output_type": "stream",
       "stream": "stdout",
       "text": [
        "\n",
        "raw and interpolated (normalised)"
       ]
      },
      {
       "output_type": "stream",
       "stream": "stdout",
       "text": [
        "\n",
        "plot labelled fraction and original data"
       ]
      },
      {
       "output_type": "stream",
       "stream": "stdout",
       "text": [
        "\n",
        "raw and interpolated (normalised)"
       ]
      },
      {
       "output_type": "stream",
       "stream": "stdout",
       "text": [
        "\n",
        "plot labelled fraction and original data"
       ]
      },
      {
       "output_type": "stream",
       "stream": "stdout",
       "text": [
        "\n",
        "raw and interpolated (normalised)"
       ]
      },
      {
       "output_type": "stream",
       "stream": "stdout",
       "text": [
        "\n",
        "plot labelled fraction and original data"
       ]
      },
      {
       "output_type": "stream",
       "stream": "stdout",
       "text": [
        "\n",
        "raw and interpolated (normalised)"
       ]
      },
      {
       "output_type": "stream",
       "stream": "stdout",
       "text": [
        "\n",
        "plot labelled fraction and original data"
       ]
      },
      {
       "output_type": "stream",
       "stream": "stdout",
       "text": [
        "\n",
        "raw and interpolated (normalised)"
       ]
      },
      {
       "output_type": "stream",
       "stream": "stdout",
       "text": [
        "\n",
        "plot labelled fraction and original data"
       ]
      },
      {
       "output_type": "stream",
       "stream": "stdout",
       "text": [
        "\n",
        "raw and interpolated (normalised)"
       ]
      },
      {
       "output_type": "stream",
       "stream": "stdout",
       "text": [
        "\n",
        "plot labelled fraction and original data"
       ]
      },
      {
       "output_type": "stream",
       "stream": "stdout",
       "text": [
        "\n",
        "raw and interpolated (normalised)"
       ]
      },
      {
       "output_type": "stream",
       "stream": "stdout",
       "text": [
        "\n",
        "plot labelled fraction and original data"
       ]
      },
      {
       "output_type": "stream",
       "stream": "stdout",
       "text": [
        "\n",
        "raw and interpolated (normalised)"
       ]
      },
      {
       "ename": "NameError",
       "evalue": "global name 'xi' is not defined",
       "output_type": "pyerr",
       "traceback": [
        "\u001b[1;31m---------------------------------------------------------------------------\u001b[0m\n\u001b[1;31mNameError\u001b[0m                                 Traceback (most recent call last)",
        "\u001b[1;32m<ipython-input-11-60183cae5c50>\u001b[0m in \u001b[0;36m<module>\u001b[1;34m()\u001b[0m\n\u001b[0;32m      1\u001b[0m \u001b[1;32mimport\u001b[0m \u001b[0msims\u001b[0m\u001b[1;33m\u001b[0m\u001b[0m\n\u001b[1;32m----> 2\u001b[1;33m \u001b[0msims\u001b[0m\u001b[1;33m.\u001b[0m\u001b[0mopt_sim\u001b[0m\u001b[1;33m(\u001b[0m\u001b[0mdata_dir\u001b[0m\u001b[1;33m=\u001b[0m \u001b[1;34m'./data-working/TXT_BrdU/'\u001b[0m\u001b[1;33m,\u001b[0m\u001b[0mkeyword\u001b[0m\u001b[1;33m=\u001b[0m\u001b[1;34m'BrdU_Sim'\u001b[0m\u001b[1;33m,\u001b[0m\u001b[0mactual_times\u001b[0m\u001b[1;33m=\u001b[0m \u001b[0mnp\u001b[0m\u001b[1;33m.\u001b[0m\u001b[0marray\u001b[0m\u001b[1;33m(\u001b[0m\u001b[1;33m[\u001b[0m\u001b[1;36m60.\u001b[0m\u001b[1;33m,\u001b[0m\u001b[1;36m120.\u001b[0m\u001b[1;33m,\u001b[0m\u001b[1;36m360.\u001b[0m\u001b[1;33m,\u001b[0m\u001b[1;36m600.\u001b[0m\u001b[1;33m]\u001b[0m\u001b[1;33m)\u001b[0m\u001b[1;33m,\u001b[0m\u001b[0mprec_time\u001b[0m\u001b[1;33m=\u001b[0m\u001b[1;36m4\u001b[0m\u001b[1;33m,\u001b[0m\u001b[0ms\u001b[0m\u001b[1;33m=\u001b[0m\u001b[1;36m15\u001b[0m\u001b[1;33m)\u001b[0m\u001b[1;33m\u001b[0m\u001b[0m\n\u001b[0m",
        "\u001b[1;32m/scratch/maclaren/Dropbox/PythonWorkspaceDrop/IPython-Notebooks/00-Notebook-Crypt-Villus-Data-Processing-Model-Fitting/sims.pyc\u001b[0m in \u001b[0;36mopt_sim\u001b[1;34m(data_dir, keyword, actual_times, prec_time, s)\u001b[0m\n\u001b[0;32m    257\u001b[0m         \u001b[1;32mimport\u001b[0m \u001b[0mscipy\u001b[0m\u001b[1;33m.\u001b[0m\u001b[0moptimize\u001b[0m \u001b[1;32mas\u001b[0m \u001b[0msciopt\u001b[0m\u001b[1;33m\u001b[0m\u001b[0m\n\u001b[0;32m    258\u001b[0m         \u001b[0mp0\u001b[0m\u001b[1;33m=\u001b[0m \u001b[0mnp\u001b[0m\u001b[1;33m.\u001b[0m\u001b[0marray\u001b[0m\u001b[1;33m(\u001b[0m\u001b[1;33m[\u001b[0m\u001b[1;36m0.1\u001b[0m\u001b[1;33m,\u001b[0m\u001b[1;36m0.2\u001b[0m\u001b[1;33m]\u001b[0m\u001b[1;33m)\u001b[0m\u001b[1;33m\u001b[0m\u001b[0m\n\u001b[1;32m--> 259\u001b[1;33m         \u001b[0mplsq\u001b[0m\u001b[1;33m=\u001b[0m \u001b[0msciopt\u001b[0m\u001b[1;33m.\u001b[0m\u001b[0mleastsq\u001b[0m\u001b[1;33m(\u001b[0m\u001b[0mresiduals\u001b[0m\u001b[1;33m,\u001b[0m\u001b[0mp0\u001b[0m\u001b[1;33m,\u001b[0m\u001b[0margs\u001b[0m\u001b[1;33m=\u001b[0m \u001b[1;33m(\u001b[0m\u001b[0mxs\u001b[0m\u001b[1;33m[\u001b[0m\u001b[1;36m0\u001b[0m\u001b[1;33m]\u001b[0m\u001b[1;33m,\u001b[0m\u001b[0mfinterpe_norm\u001b[0m\u001b[1;33m[\u001b[0m\u001b[1;36m0\u001b[0m\u001b[1;33m]\u001b[0m\u001b[1;33m)\u001b[0m\u001b[1;33m)\u001b[0m\u001b[1;33m\u001b[0m\u001b[0m\n\u001b[0m\u001b[0;32m    260\u001b[0m         \u001b[1;32mprint\u001b[0m \u001b[0mplsq\u001b[0m\u001b[1;33m[\u001b[0m\u001b[1;36m0\u001b[0m\u001b[1;33m]\u001b[0m\u001b[1;33m\u001b[0m\u001b[0m\n\u001b[0;32m    261\u001b[0m \u001b[1;33m\u001b[0m\u001b[0m\n",
        "\u001b[1;31mNameError\u001b[0m: global name 'xi' is not defined"
       ]
      },
      {
       "output_type": "stream",
       "stream": "stdout",
       "text": [
        "\n"
       ]
      }
     ],
     "prompt_number": 11
    },
    {
     "cell_type": "code",
     "collapsed": false,
     "input": [
      "import data_analysis as da\n",
      "import numpy as np\n",
      "xs_all, finterpe_norm_all, lsample_all, ylerr_all, yrerr_all= da.process_and_fit_all_data(dir_fit=data_dir,key_fit='BrdU',s=10)"
     ],
     "language": "python",
     "metadata": {},
     "outputs": [
      {
       "output_type": "stream",
       "stream": "stdout",
       "text": [
        "plot labelled fraction and original data\n",
        "raw and interpolated (normalised)"
       ]
      },
      {
       "output_type": "stream",
       "stream": "stdout",
       "text": [
        "\n",
        "plot labelled fraction and original data"
       ]
      },
      {
       "output_type": "stream",
       "stream": "stdout",
       "text": [
        "\n",
        "raw and interpolated (normalised)"
       ]
      },
      {
       "output_type": "stream",
       "stream": "stdout",
       "text": [
        "\n",
        "plot labelled fraction and original data"
       ]
      },
      {
       "output_type": "stream",
       "stream": "stdout",
       "text": [
        "\n",
        "raw and interpolated (normalised)"
       ]
      },
      {
       "output_type": "stream",
       "stream": "stdout",
       "text": [
        "\n",
        "plot labelled fraction and original data"
       ]
      },
      {
       "output_type": "stream",
       "stream": "stdout",
       "text": [
        "\n",
        "raw and interpolated (normalised)"
       ]
      },
      {
       "output_type": "stream",
       "stream": "stdout",
       "text": [
        "\n",
        "plot labelled fraction and original data"
       ]
      },
      {
       "output_type": "stream",
       "stream": "stdout",
       "text": [
        "\n",
        "raw and interpolated (normalised)"
       ]
      },
      {
       "output_type": "stream",
       "stream": "stdout",
       "text": [
        "\n",
        "plot labelled fraction and original data"
       ]
      },
      {
       "output_type": "stream",
       "stream": "stdout",
       "text": [
        "\n",
        "raw and interpolated (normalised)"
       ]
      },
      {
       "output_type": "stream",
       "stream": "stdout",
       "text": [
        "\n",
        "plot labelled fraction and original data"
       ]
      },
      {
       "output_type": "stream",
       "stream": "stdout",
       "text": [
        "\n",
        "raw and interpolated (normalised)"
       ]
      },
      {
       "output_type": "stream",
       "stream": "stdout",
       "text": [
        "\n",
        "plot labelled fraction and original data"
       ]
      },
      {
       "output_type": "stream",
       "stream": "stdout",
       "text": [
        "\n",
        "raw and interpolated (normalised)"
       ]
      },
      {
       "output_type": "stream",
       "stream": "stdout",
       "text": [
        "\n",
        "plot labelled fraction and original data"
       ]
      },
      {
       "output_type": "stream",
       "stream": "stdout",
       "text": [
        "\n",
        "raw and interpolated (normalised)"
       ]
      },
      {
       "output_type": "stream",
       "stream": "stdout",
       "text": [
        "\n",
        "plot labelled fraction and original data"
       ]
      },
      {
       "output_type": "stream",
       "stream": "stdout",
       "text": [
        "\n",
        "raw and interpolated (normalised)"
       ]
      },
      {
       "output_type": "stream",
       "stream": "stdout",
       "text": [
        "\n",
        "plot labelled fraction and original data"
       ]
      },
      {
       "output_type": "stream",
       "stream": "stdout",
       "text": [
        "\n",
        "raw and interpolated (normalised)"
       ]
      },
      {
       "output_type": "stream",
       "stream": "stdout",
       "text": [
        "\n",
        "plot labelled fraction and original data"
       ]
      },
      {
       "output_type": "stream",
       "stream": "stdout",
       "text": [
        "\n",
        "raw and interpolated (normalised)"
       ]
      },
      {
       "output_type": "stream",
       "stream": "stdout",
       "text": [
        "\n"
       ]
      }
     ],
     "prompt_number": 9
    },
    {
     "cell_type": "code",
     "collapsed": false,
     "input": [
      "da.process_and_fit_data_file(dir_fit='./data-working/TXT_BrdU/',time_to_fit = 'BrdU_01_0010min.txt',key_fit='BrdU',k=3,s=6)"
     ],
     "language": "python",
     "metadata": {},
     "outputs": [
      {
       "output_type": "stream",
       "stream": "stdout",
       "text": [
        "plot labelled fraction and original data\n",
        "raw and interpolated (normalised)"
       ]
      },
      {
       "output_type": "stream",
       "stream": "stdout",
       "text": [
        "\n"
       ]
      },
      {
       "metadata": {},
       "output_type": "pyout",
       "prompt_number": 2,
       "text": [
        "(array([ 0.        ,  0.01351351,  0.02702703,  0.04054054,  0.05405405,\n",
        "        0.06756757,  0.08108108,  0.09459459,  0.10810811,  0.12162162,\n",
        "        0.13513514,  0.14864865,  0.16216216,  0.17567568,  0.18918919,\n",
        "        0.2027027 ,  0.21621622,  0.22972973,  0.24324324,  0.25675676,\n",
        "        0.27027027,  0.28378378,  0.2972973 ,  0.31081081,  0.32432432,\n",
        "        0.33783784,  0.35135135,  0.36486486,  0.37837838,  0.39189189,\n",
        "        0.40540541,  0.41891892,  0.43243243,  0.44594595,  0.45945946,\n",
        "        0.47297297,  0.48648649,  0.5       ,  0.51351351,  0.52702703,\n",
        "        0.54054054,  0.55405405,  0.56756757,  0.58108108,  0.59459459,\n",
        "        0.60810811,  0.62162162,  0.63513514,  0.64864865,  0.66216216,\n",
        "        0.67567568,  0.68918919,  0.7027027 ,  0.71621622,  0.72972973,\n",
        "        0.74324324,  0.75675676,  0.77027027,  0.78378378,  0.7972973 ,\n",
        "        0.81081081,  0.82432432,  0.83783784,  0.85135135,  0.86486486,\n",
        "        0.87837838,  0.89189189,  0.90540541,  0.91891892,  0.93243243,\n",
        "        0.94594595,  0.95945946,  0.97297297,  0.98648649]),\n",
        " <function data_analysis.<lambda>>,\n",
        " array([ 0.07317073,  0.04878049,  0.04878049,  0.24390244,  0.36585366,\n",
        "        0.53658537,  0.43902439,  0.41463415,  0.34146341,  0.46341463,\n",
        "        0.24390244,  0.29268293,  0.17073171,  0.09756098,  0.12195122,\n",
        "        0.07317073,  0.04878049,  0.02439024,  0.02439024,  0.04878049,\n",
        "        0.        ,  0.02439024,  0.        ,  0.        ,  0.        ,\n",
        "        0.        ,  0.        ,  0.        ,  0.        ,  0.        ,\n",
        "        0.        ,  0.        ,  0.        ,  0.        ,  0.        ,\n",
        "        0.        ,  0.        ,  0.        ,  0.        ,  0.        ,\n",
        "        0.        ,  0.        ,  0.        ,  0.        ,  0.        ,\n",
        "        0.        ,  0.        ,  0.        ,  0.        ,  0.        ,\n",
        "        0.        ,  0.        ,  0.        ,  0.        ,  0.        ,\n",
        "        0.        ,  0.        ,  0.        ,  0.        ,  0.        ,\n",
        "        0.        ,  0.        ,  0.        ,  0.        ,  0.        ,\n",
        "        0.        ,  0.        ,  0.        ,  0.        ,  0.        ,\n",
        "        0.        ,  0.        ,  0.        ,  0.        ]),\n",
        " array([ 0.07971219,  0.06593555,  0.06593555,  0.13144775,  0.14743636,\n",
        "        0.15263722,  0.15190514,  0.15080036,  0.14515039,  0.15263722,\n",
        "        0.13144775,  0.1392714 ,  0.11517568,  0.09082453,  0.10016328,\n",
        "        0.07971219,  0.06593555,  0.04721743,  0.04721743,  0.06593555,\n",
        "        0.        ,  0.04721743,  0.        ,  0.        ,  0.        ,\n",
        "        0.        ,  0.        ,  0.        ,  0.        ,  0.        ,\n",
        "        0.        ,  0.        ,  0.        ,  0.        ,  0.        ,\n",
        "        0.        ,  0.        ,  0.        ,  0.        ,  0.        ,\n",
        "        0.        ,  0.        ,  0.        ,  0.        ,  0.        ,\n",
        "        0.        ,  0.        ,  0.        ,  0.        ,  0.        ,\n",
        "        0.        ,  0.        ,  0.        ,  0.        ,  0.        ,\n",
        "        0.        ,  0.        ,  0.        ,  0.        ,  0.        ,\n",
        "        0.        ,  0.        ,  0.        ,  0.        ,  0.        ,\n",
        "        0.        ,  0.        ,  0.        ,  0.        ,  0.        ,\n",
        "        0.        ,  0.        ,  0.        ,  0.        ]),\n",
        " array([ 0.07971219,  0.06593555,  0.06593555,  0.13144775,  0.14743636,\n",
        "        0.15263722,  0.15190514,  0.15080036,  0.14515039,  0.15263722,\n",
        "        0.13144775,  0.1392714 ,  0.11517568,  0.09082453,  0.10016328,\n",
        "        0.07971219,  0.06593555,  0.04721743,  0.04721743,  0.06593555,\n",
        "        0.        ,  0.04721743,  0.        ,  0.        ,  0.        ,\n",
        "        0.        ,  0.        ,  0.        ,  0.        ,  0.        ,\n",
        "        0.        ,  0.        ,  0.        ,  0.        ,  0.        ,\n",
        "        0.        ,  0.        ,  0.        ,  0.        ,  0.        ,\n",
        "        0.        ,  0.        ,  0.        ,  0.        ,  0.        ,\n",
        "        0.        ,  0.        ,  0.        ,  0.        ,  0.        ,\n",
        "        0.        ,  0.        ,  0.        ,  0.        ,  0.        ,\n",
        "        0.        ,  0.        ,  0.        ,  0.        ,  0.        ,\n",
        "        0.        ,  0.        ,  0.        ,  0.        ,  0.        ,\n",
        "        0.        ,  0.        ,  0.        ,  0.        ,  0.        ,\n",
        "        0.        ,  0.        ,  0.        ,  0.        ]))"
       ]
      }
     ],
     "prompt_number": 2
    },
    {
     "cell_type": "code",
     "collapsed": false,
     "input": [
      "#p= opt_sim()\n",
      "#p[0]\n",
      "#v_function= velocity_piecewise(xl_2=p[0])\n",
      "#plt.plot(v_function)"
     ],
     "language": "python",
     "metadata": {},
     "outputs": [],
     "prompt_number": 12
    },
    {
     "cell_type": "code",
     "collapsed": false,
     "input": [
      "#x= np.arange(0,1.1,0.1)\n",
      "#k= np.arange(0,1.1,0.1)\n",
      "#j= np.arange(0,2.2,0.2)\n",
      "#j[k==x]"
     ],
     "language": "python",
     "metadata": {},
     "outputs": [],
     "prompt_number": 13
    },
    {
     "cell_type": "code",
     "collapsed": false,
     "input": [
      "#for n in range(0,1):\n",
      "    #print n"
     ],
     "language": "python",
     "metadata": {},
     "outputs": [],
     "prompt_number": 14
    },
    {
     "cell_type": "code",
     "collapsed": false,
     "input": [
      "#np.inf <1"
     ],
     "language": "python",
     "metadata": {},
     "outputs": [],
     "prompt_number": 11
    },
    {
     "cell_type": "code",
     "collapsed": false,
     "input": [
      "#range(0,4)"
     ],
     "language": "python",
     "metadata": {},
     "outputs": []
    },
    {
     "cell_type": "code",
     "collapsed": false,
     "input": [
      "#controller.frames"
     ],
     "language": "python",
     "metadata": {},
     "outputs": []
    },
    {
     "cell_type": "code",
     "collapsed": false,
     "input": [
      "#np.size(controller.frames,axis=0)\n",
      "#np.size(controller.frames[0].state.q[0,:],axis=0)"
     ],
     "language": "python",
     "metadata": {},
     "outputs": []
    },
    {
     "cell_type": "code",
     "collapsed": false,
     "input": [
      "#shp= [1,2]\n",
      "#np.zeros(shp)"
     ],
     "language": "python",
     "metadata": {},
     "outputs": []
    },
    {
     "cell_type": "code",
     "collapsed": false,
     "input": [
      "#a= l0[l[:,0]!=l0]\n",
      "#a.any()"
     ],
     "language": "python",
     "metadata": {},
     "outputs": []
    },
    {
     "cell_type": "markdown",
     "metadata": {},
     "source": [
      "###Simulation functions - FiPy"
     ]
    },
    {
     "cell_type": "code",
     "collapsed": false,
     "input": [
      "#later?"
     ],
     "language": "python",
     "metadata": {},
     "outputs": [],
     "prompt_number": 46
    },
    {
     "cell_type": "markdown",
     "metadata": {},
     "source": [
      "###Plotting functions"
     ]
    },
    {
     "cell_type": "code",
     "collapsed": false,
     "input": [
      "def plot_all_data():\n",
      "    #todo\n",
      "    a=1\n"
     ],
     "language": "python",
     "metadata": {},
     "outputs": []
    },
    {
     "cell_type": "code",
     "collapsed": false,
     "input": [
      "def plot_sims():\n",
      "    a=1\n",
      "    #todo"
     ],
     "language": "python",
     "metadata": {},
     "outputs": []
    },
    {
     "cell_type": "markdown",
     "metadata": {},
     "source": [
      "###Fitting functions"
     ]
    },
    {
     "cell_type": "code",
     "collapsed": false,
     "input": [
      "def residuals(p,x,ydata):\n",
      "    #TODO - x,t\n",
      "    err= ydata-model(p,x)\n",
      "    return err"
     ],
     "language": "python",
     "metadata": {},
     "outputs": []
    },
    {
     "cell_type": "code",
     "collapsed": false,
     "input": [
      "def fit():\n",
      "    import scipy.optimize as sciopt\n",
      "    #todo"
     ],
     "language": "python",
     "metadata": {},
     "outputs": []
    },
    {
     "cell_type": "markdown",
     "metadata": {},
     "source": [
      "###Scripting"
     ]
    },
    {
     "cell_type": "markdown",
     "metadata": {},
     "source": [
      "####data only"
     ]
    },
    {
     "cell_type": "code",
     "collapsed": false,
     "input": [
      "#BrdU\n",
      "data_dir= './data-working/TXT_BrdU/'\n",
      "keyword='BrdU'\n",
      "xs_all_brdu, finterpe_norm_all_brdu, lsample_all_brdu, ylerr_all_brdu, yrerr_all_brdu= da.process_and_fit_all_data(data_dir,keyword)"
     ],
     "language": "python",
     "metadata": {},
     "outputs": [
      {
       "output_type": "stream",
       "stream": "stdout",
       "text": [
        "plot labelled fraction and original data\n",
        "raw and interpolated (normalised)"
       ]
      },
      {
       "output_type": "stream",
       "stream": "stdout",
       "text": [
        "\n",
        "plot labelled fraction and original data"
       ]
      },
      {
       "output_type": "stream",
       "stream": "stdout",
       "text": [
        "\n",
        "raw and interpolated (normalised)"
       ]
      },
      {
       "output_type": "stream",
       "stream": "stdout",
       "text": [
        "\n",
        "plot labelled fraction and original data"
       ]
      },
      {
       "output_type": "stream",
       "stream": "stdout",
       "text": [
        "\n",
        "raw and interpolated (normalised)"
       ]
      },
      {
       "output_type": "stream",
       "stream": "stdout",
       "text": [
        "\n",
        "plot labelled fraction and original data"
       ]
      },
      {
       "output_type": "stream",
       "stream": "stdout",
       "text": [
        "\n",
        "raw and interpolated (normalised)"
       ]
      },
      {
       "output_type": "stream",
       "stream": "stdout",
       "text": [
        "\n",
        "plot labelled fraction and original data"
       ]
      },
      {
       "output_type": "stream",
       "stream": "stdout",
       "text": [
        "\n",
        "raw and interpolated (normalised)"
       ]
      },
      {
       "output_type": "stream",
       "stream": "stdout",
       "text": [
        "\n",
        "plot labelled fraction and original data"
       ]
      },
      {
       "output_type": "stream",
       "stream": "stdout",
       "text": [
        "\n",
        "raw and interpolated (normalised)"
       ]
      },
      {
       "output_type": "stream",
       "stream": "stdout",
       "text": [
        "\n",
        "plot labelled fraction and original data"
       ]
      },
      {
       "output_type": "stream",
       "stream": "stdout",
       "text": [
        "\n",
        "raw and interpolated (normalised)"
       ]
      },
      {
       "output_type": "stream",
       "stream": "stdout",
       "text": [
        "\n",
        "plot labelled fraction and original data"
       ]
      },
      {
       "output_type": "stream",
       "stream": "stdout",
       "text": [
        "\n",
        "raw and interpolated (normalised)"
       ]
      },
      {
       "output_type": "stream",
       "stream": "stdout",
       "text": [
        "\n",
        "plot labelled fraction and original data"
       ]
      },
      {
       "output_type": "stream",
       "stream": "stdout",
       "text": [
        "\n",
        "raw and interpolated (normalised)"
       ]
      },
      {
       "output_type": "stream",
       "stream": "stdout",
       "text": [
        "\n",
        "plot labelled fraction and original data"
       ]
      },
      {
       "output_type": "stream",
       "stream": "stdout",
       "text": [
        "\n",
        "raw and interpolated (normalised)"
       ]
      },
      {
       "output_type": "stream",
       "stream": "stdout",
       "text": [
        "\n",
        "plot labelled fraction and original data"
       ]
      },
      {
       "output_type": "stream",
       "stream": "stdout",
       "text": [
        "\n",
        "raw and interpolated (normalised)"
       ]
      },
      {
       "output_type": "stream",
       "stream": "stdout",
       "text": [
        "\n",
        "plot labelled fraction and original data"
       ]
      },
      {
       "output_type": "stream",
       "stream": "stdout",
       "text": [
        "\n",
        "raw and interpolated (normalised)"
       ]
      },
      {
       "output_type": "stream",
       "stream": "stdout",
       "text": [
        "\n"
       ]
      }
     ],
     "prompt_number": 25
    },
    {
     "cell_type": "code",
     "collapsed": false,
     "input": [
      "xs_all_brdu[1]"
     ],
     "language": "python",
     "metadata": {},
     "outputs": []
    },
    {
     "cell_type": "code",
     "collapsed": false,
     "input": [
      "#LPS\n",
      "data_dir= './data-working/TXT_LPS_01/'\n",
      "keyword='LPS_01'\n",
      "xs_all_lps, finterpe_norm_all_lps, lsample_all_lps, ylerr_all_lps, yrerr_all_lps= process_and_fit_all_data(data_dir,keyword)"
     ],
     "language": "python",
     "metadata": {},
     "outputs": []
    },
    {
     "cell_type": "code",
     "collapsed": false,
     "input": [
      "#AraC\n",
      "data_dir= './data-working/TXT_AraC_01_IdU/'\n",
      "keyword='AraC_01_IdU'\n",
      "xs_all_arac, finterpe_norm_all_arac, lsample_all_arac, ylerr_all_arac, yrerr_all_arac= process_and_fit_all_data(data_dir,keyword)"
     ],
     "language": "python",
     "metadata": {},
     "outputs": []
    },
    {
     "cell_type": "code",
     "collapsed": false,
     "input": [],
     "language": "python",
     "metadata": {},
     "outputs": []
    },
    {
     "cell_type": "code",
     "collapsed": false,
     "input": [],
     "language": "python",
     "metadata": {},
     "outputs": []
    },
    {
     "cell_type": "code",
     "collapsed": false,
     "input": [],
     "language": "python",
     "metadata": {},
     "outputs": []
    },
    {
     "cell_type": "markdown",
     "metadata": {},
     "source": [
      "####Sims"
     ]
    },
    {
     "cell_type": "code",
     "collapsed": false,
     "input": [
      "#BrdU\n",
      "data_dir= './data-working/TXT_BrdU/'\n",
      "keyword='BrdU_Sim'\n",
      "actual_times= np.array([60.,120.,360.,600.,1920.])\n",
      "\n",
      "l_brdu, v_brdu, xc_brdu= sims.run_sim(data_dir,keyword,actual_times,s=10,p=np.array([1.5,0.55,0.01,0.26]))"
     ],
     "language": "python",
     "metadata": {},
     "outputs": [
      {
       "output_type": "stream",
       "stream": "stdout",
       "text": [
        "['BrdU_01_0010min.txt', 'BrdU_01_0020min.txt', 'BrdU_01_0030min.txt', 'BrdU_01_0045min.txt', 'BrdU_01_0060min.txt', 'BrdU_01_0120min.txt', 'BrdU_01_0360min.txt', 'BrdU_01_0600min.txt', 'BrdU_01_1920min.txt', 'BrdU_01_3360min.txt', 'BrdU_01_4320min.txt', 'BrdU_01_4800min.txt']\n",
        "BrdU_01_0060min.txt\n",
        "plot labelled fraction and original data"
       ]
      },
      {
       "output_type": "stream",
       "stream": "stdout",
       "text": [
        "\n",
        "raw and interpolated (normalised)"
       ]
      },
      {
       "output_type": "stream",
       "stream": "stdout",
       "text": [
        "\n",
        "2014-08-04 20:06:33,746 INFO CLAW: Solution 0 computed for time t=0.000000\n"
       ]
      },
      {
       "output_type": "stream",
       "stream": "stdout",
       "text": [
        "2014-08-04 20:06:33,750 INFO CLAW: Solution 1 computed for time t=0.032258\n"
       ]
      },
      {
       "output_type": "stream",
       "stream": "stdout",
       "text": [
        "2014-08-04 20:06:33,757 INFO CLAW: Solution 2 computed for time t=0.161290\n"
       ]
      },
      {
       "output_type": "stream",
       "stream": "stdout",
       "text": [
        "2014-08-04 20:06:33,764 INFO CLAW: Solution 3 computed for time t=0.290323\n"
       ]
      },
      {
       "output_type": "stream",
       "stream": "stdout",
       "text": [
        "2014-08-04 20:06:33,781 INFO CLAW: Solution 4 computed for time t=1.000000\n"
       ]
      }
     ],
     "prompt_number": 59
    },
    {
     "cell_type": "code",
     "collapsed": false,
     "input": [
      "#LPS\n",
      "#data_dir= './data-working/TXT_LPS_01/'\n",
      "#keyword='LPS_01_Sim'\n",
      "#actual_times= np.array([60.,90.,120.,240.])\n",
      "\n",
      "#l_lps, v_lps, xc_lps= run_sim(data_dir,keyword,actual_times,s=2)"
     ],
     "language": "python",
     "metadata": {},
     "outputs": [
      {
       "ename": "NameError",
       "evalue": "name 'run_sim' is not defined",
       "output_type": "pyerr",
       "traceback": [
        "\u001b[1;31m---------------------------------------------------------------------------\u001b[0m\n\u001b[1;31mNameError\u001b[0m                                 Traceback (most recent call last)",
        "\u001b[1;32m<ipython-input-42-b3f19f6ec0dd>\u001b[0m in \u001b[0;36m<module>\u001b[1;34m()\u001b[0m\n\u001b[0;32m      4\u001b[0m \u001b[0mactual_times\u001b[0m\u001b[1;33m=\u001b[0m \u001b[0mnp\u001b[0m\u001b[1;33m.\u001b[0m\u001b[0marray\u001b[0m\u001b[1;33m(\u001b[0m\u001b[1;33m[\u001b[0m\u001b[1;36m60.\u001b[0m\u001b[1;33m,\u001b[0m\u001b[1;36m90.\u001b[0m\u001b[1;33m,\u001b[0m\u001b[1;36m120.\u001b[0m\u001b[1;33m,\u001b[0m\u001b[1;36m240.\u001b[0m\u001b[1;33m]\u001b[0m\u001b[1;33m)\u001b[0m\u001b[1;33m\u001b[0m\u001b[0m\n\u001b[0;32m      5\u001b[0m \u001b[1;33m\u001b[0m\u001b[0m\n\u001b[1;32m----> 6\u001b[1;33m \u001b[0ml_lps\u001b[0m\u001b[1;33m,\u001b[0m \u001b[0mv_lps\u001b[0m\u001b[1;33m,\u001b[0m \u001b[0mxc_lps\u001b[0m\u001b[1;33m=\u001b[0m \u001b[0mrun_sim\u001b[0m\u001b[1;33m(\u001b[0m\u001b[0mdata_dir\u001b[0m\u001b[1;33m,\u001b[0m\u001b[0mkeyword\u001b[0m\u001b[1;33m,\u001b[0m\u001b[0mactual_times\u001b[0m\u001b[1;33m,\u001b[0m\u001b[0ms\u001b[0m\u001b[1;33m=\u001b[0m\u001b[1;36m2\u001b[0m\u001b[1;33m)\u001b[0m\u001b[1;33m\u001b[0m\u001b[0m\n\u001b[0m",
        "\u001b[1;31mNameError\u001b[0m: name 'run_sim' is not defined"
       ]
      }
     ],
     "prompt_number": 42
    },
    {
     "cell_type": "code",
     "collapsed": false,
     "input": [],
     "language": "python",
     "metadata": {},
     "outputs": []
    },
    {
     "cell_type": "code",
     "collapsed": false,
     "input": [],
     "language": "python",
     "metadata": {},
     "outputs": []
    },
    {
     "cell_type": "markdown",
     "metadata": {},
     "source": [
      "####Plotting"
     ]
    },
    {
     "cell_type": "code",
     "collapsed": false,
     "input": [
      "#options -TEMP\n",
      "\n",
      "#some colours to use in plots\n",
      "colours_dark=['#1B2ACC','#ff69b4','#9400d3','#FF9933','#FF9933']\n",
      "colours_dark_two=['#FF0000','#ff69b4','#9400d3']\n",
      "colours_light= ['#089FFF', '#ffc0cb','#dda0dd','#FFCC99','#FFCC99']\n",
      "\n",
      "#sims\n",
      "#l0= l_brdu[:,0]\n",
      "#xc= xc_brdu\n",
      "#v= v_brdu\n",
      "key_fit= 'BrdU_Sim'"
     ],
     "language": "python",
     "metadata": {},
     "outputs": [],
     "prompt_number": 48
    },
    {
     "cell_type": "code",
     "collapsed": false,
     "input": [
      "import matplotlib.pyplot as plt\n",
      "%matplotlib inline"
     ],
     "language": "python",
     "metadata": {},
     "outputs": [],
     "prompt_number": 30
    },
    {
     "cell_type": "code",
     "collapsed": false,
     "input": [
      "xc_brdu.shape"
     ],
     "language": "python",
     "metadata": {},
     "outputs": [
      {
       "metadata": {},
       "output_type": "pyout",
       "prompt_number": 31,
       "text": [
        "(100, 5)"
       ]
      }
     ],
     "prompt_number": 31
    },
    {
     "cell_type": "code",
     "collapsed": false,
     "input": [
      "#plot labelled\n",
      "#CURRENTLY PLOTTING 'ONE SIM' STYLE BUT ACTUALLY ALL!!\n",
      "f1 = plt.figure()\n",
      "#todo - cell centres vs!!\n",
      "plt.plot(xc_brdu[:,0],l_brdu[:,0] , '-',color= '#FF0000', label='fitted initial profile')\n",
      "#p.plot(xc[:],l0[:]+0.1 , 'b-', label='TEST')\n",
      "plt.grid()\n",
      "plt.xlim(0.0,1.0)\n",
      "plt.ylim(0.0,1.0)\n",
      "\n",
      "plt.legend(loc='best')\n",
      "plt.xlabel('crypt-villus axis')\n",
      "plt.ylabel('labelled fraction')\n",
      "plt.title('Profile of labelled fraction of cells along crypt-villus axis')\n",
      "\n",
      "save_path= './figs/'+key_fit+'/'\n",
      "f1.savefig(save_path+'labelled-fraction-test.pdf')"
     ],
     "language": "python",
     "metadata": {},
     "outputs": [
      {
       "metadata": {},
       "output_type": "display_data",
       "png": "[encoded data removed]",
       "text": [
        "<matplotlib.figure.Figure at 0x6b2fed0>"
       ]
      }
     ],
     "prompt_number": 60
    },
    {
     "cell_type": "code",
     "collapsed": false,
     "input": [
      "plt.plot(xi,finterpe_norm(xi),'-',linewidth=1.5,color= 'r',label='fitted initial profile')\n",
      "plt.fill_between(xi,lsample-ylerr, lsample+yrerr,linestyle= '-',edgecolor='#1B2ACC', facecolor='#089FFF')\n",
      "\n",
      "plt.xlim(0.0,0.5)\n",
      "plt.ylim(0.0,1.0)\n",
      "\n",
      "plt.legend()\n",
      "plt.xlabel('crypt-villus axis (normalised)')\n",
      "plt.ylabel('labelled fraction')\n",
      "plt.title('Profile of labelled fraction of cells along crypt-villus axis')\n",
      "\n",
      "plt.savefig(save_path+'labelled-fraction-initial-profile.pdf')"
     ],
     "language": "python",
     "metadata": {},
     "outputs": [
      {
       "ename": "NameError",
       "evalue": "name 'xi' is not defined",
       "output_type": "pyerr",
       "traceback": [
        "\u001b[1;31m---------------------------------------------------------------------------\u001b[0m\n\u001b[1;31mNameError\u001b[0m                                 Traceback (most recent call last)",
        "\u001b[1;32m<ipython-input-33-dc810dcbc6a1>\u001b[0m in \u001b[0;36m<module>\u001b[1;34m()\u001b[0m\n\u001b[1;32m----> 1\u001b[1;33m \u001b[0mplt\u001b[0m\u001b[1;33m.\u001b[0m\u001b[0mplot\u001b[0m\u001b[1;33m(\u001b[0m\u001b[0mxi\u001b[0m\u001b[1;33m,\u001b[0m\u001b[0mfinterpe_norm\u001b[0m\u001b[1;33m(\u001b[0m\u001b[0mxi\u001b[0m\u001b[1;33m)\u001b[0m\u001b[1;33m,\u001b[0m\u001b[1;34m'-'\u001b[0m\u001b[1;33m,\u001b[0m\u001b[0mlinewidth\u001b[0m\u001b[1;33m=\u001b[0m\u001b[1;36m1.5\u001b[0m\u001b[1;33m,\u001b[0m\u001b[0mcolor\u001b[0m\u001b[1;33m=\u001b[0m \u001b[1;34m'r'\u001b[0m\u001b[1;33m,\u001b[0m\u001b[0mlabel\u001b[0m\u001b[1;33m=\u001b[0m\u001b[1;34m'fitted initial profile'\u001b[0m\u001b[1;33m)\u001b[0m\u001b[1;33m\u001b[0m\u001b[0m\n\u001b[0m\u001b[0;32m      2\u001b[0m \u001b[0mplt\u001b[0m\u001b[1;33m.\u001b[0m\u001b[0mfill_between\u001b[0m\u001b[1;33m(\u001b[0m\u001b[0mxi\u001b[0m\u001b[1;33m,\u001b[0m\u001b[0mlsample\u001b[0m\u001b[1;33m-\u001b[0m\u001b[0mylerr\u001b[0m\u001b[1;33m,\u001b[0m \u001b[0mlsample\u001b[0m\u001b[1;33m+\u001b[0m\u001b[0myrerr\u001b[0m\u001b[1;33m,\u001b[0m\u001b[0mlinestyle\u001b[0m\u001b[1;33m=\u001b[0m \u001b[1;34m'-'\u001b[0m\u001b[1;33m,\u001b[0m\u001b[0medgecolor\u001b[0m\u001b[1;33m=\u001b[0m\u001b[1;34m'#1B2ACC'\u001b[0m\u001b[1;33m,\u001b[0m \u001b[0mfacecolor\u001b[0m\u001b[1;33m=\u001b[0m\u001b[1;34m'#089FFF'\u001b[0m\u001b[1;33m)\u001b[0m\u001b[1;33m\u001b[0m\u001b[0m\n\u001b[0;32m      3\u001b[0m \u001b[1;33m\u001b[0m\u001b[0m\n\u001b[0;32m      4\u001b[0m \u001b[0mplt\u001b[0m\u001b[1;33m.\u001b[0m\u001b[0mxlim\u001b[0m\u001b[1;33m(\u001b[0m\u001b[1;36m0.0\u001b[0m\u001b[1;33m,\u001b[0m\u001b[1;36m0.5\u001b[0m\u001b[1;33m)\u001b[0m\u001b[1;33m\u001b[0m\u001b[0m\n\u001b[0;32m      5\u001b[0m \u001b[0mplt\u001b[0m\u001b[1;33m.\u001b[0m\u001b[0mylim\u001b[0m\u001b[1;33m(\u001b[0m\u001b[1;36m0.0\u001b[0m\u001b[1;33m,\u001b[0m\u001b[1;36m1.0\u001b[0m\u001b[1;33m)\u001b[0m\u001b[1;33m\u001b[0m\u001b[0m\n",
        "\u001b[1;31mNameError\u001b[0m: name 'xi' is not defined"
       ]
      }
     ],
     "prompt_number": 33
    },
    {
     "cell_type": "code",
     "collapsed": false,
     "input": [
      "#plot velocity\n",
      "f2 = plt.figure()\n",
      "plt.plot(xc_brdu[:,0],v_brdu[:,0] , color= colours_dark[0],linestyle='-',linewidth=2.5, label='velocity')\n",
      "plt.grid()\n",
      "#plt.legend(loc='best')\n",
      "plt.xlabel('crypt-villus axis')\n",
      "plt.ylabel('velocity')\n",
      "plt.title('Velocity profile along crypt-villus axis')\n",
      "plt.xlim(0.0,1.0)\n",
      "plt.ylim(0.0,2.0)\n",
      "\n",
      "f2.savefig(save_path+'velocity-profile.pdf')"
     ],
     "language": "python",
     "metadata": {},
     "outputs": [
      {
       "metadata": {},
       "output_type": "display_data",
       "png": "[encoded data removed]",
       "text": [
        "<matplotlib.figure.Figure at 0x54b15d0>"
       ]
      }
     ],
     "prompt_number": 61
    },
    {
     "cell_type": "code",
     "collapsed": false,
     "input": [
      "xc_brdu[:,0]\n",
      "#np.size(l_brdu[:,0])"
     ],
     "language": "python",
     "metadata": {},
     "outputs": []
    },
    {
     "cell_type": "code",
     "collapsed": false,
     "input": [
      "l_brdu[:,3]"
     ],
     "language": "python",
     "metadata": {},
     "outputs": [
      {
       "metadata": {},
       "output_type": "pyout",
       "prompt_number": 513,
       "text": [
        "array([  1.75887636e-01,   1.90110815e-01,   2.10291463e-01,\n",
        "         2.35165186e-01,   2.64493081e-01,   2.98206697e-01,\n",
        "         3.36138762e-01,   3.77961649e-01,   4.23272344e-01,\n",
        "         4.71796514e-01,   5.21913493e-01,   5.69025739e-01,\n",
        "         6.12450193e-01,   6.51965849e-01,   6.86838442e-01,\n",
        "         7.16003939e-01,   7.38546342e-01,   7.54145409e-01,\n",
        "         7.63304202e-01,   7.67343846e-01,   7.68154686e-01,\n",
        "         7.66401467e-01,   7.58887703e-01,   7.41539020e-01,\n",
        "         7.10267762e-01,   6.61627393e-01,   5.93454297e-01,\n",
        "         5.04918791e-01,   4.04592937e-01,   3.13339591e-01,\n",
        "         2.40349865e-01,   1.91337261e-01,   1.65181810e-01,\n",
        "         1.50504144e-01,   1.33918739e-01,   9.02940694e-02,\n",
        "         3.17607893e-02,   6.05001768e-03,   6.08842970e-04,\n",
        "         3.92709781e-05,   1.08492200e-05,   9.76422773e-06,\n",
        "         9.41793517e-06,   9.22551737e-06,   9.14660921e-06,\n",
        "         9.13480248e-06,   9.17483047e-06,   9.29256541e-06,\n",
        "         9.46245722e-06,   9.65557635e-06,   9.84703650e-06,\n",
        "         1.00158941e-05,   1.01550172e-05,   1.02614122e-05,\n",
        "         1.03349857e-05,   1.03774661e-05,   1.03944339e-05,\n",
        "         1.03960935e-05,   1.03839905e-05,   1.03511434e-05,\n",
        "         1.03019486e-05,   1.02176999e-05,   9.93906787e-06,\n",
        "         8.78829801e-06,   5.24702815e-06,   1.46690864e-06,\n",
        "         1.59367424e-07,   5.63691323e-09,   0.00000000e+00,\n",
        "         0.00000000e+00,   0.00000000e+00,   0.00000000e+00,\n",
        "         0.00000000e+00,   0.00000000e+00,   0.00000000e+00,\n",
        "         0.00000000e+00,   0.00000000e+00,   0.00000000e+00,\n",
        "         0.00000000e+00,   0.00000000e+00,   0.00000000e+00,\n",
        "         0.00000000e+00,   0.00000000e+00,   0.00000000e+00,\n",
        "         0.00000000e+00,   0.00000000e+00,   0.00000000e+00,\n",
        "         0.00000000e+00,   0.00000000e+00,   0.00000000e+00,\n",
        "         0.00000000e+00,   0.00000000e+00,   0.00000000e+00,\n",
        "         0.00000000e+00,   0.00000000e+00,   0.00000000e+00,\n",
        "         0.00000000e+00,   0.00000000e+00,   0.00000000e+00,\n",
        "         0.00000000e+00])"
       ]
      }
     ],
     "prompt_number": 513
    },
    {
     "cell_type": "code",
     "collapsed": false,
     "input": [
      "#plot all times on same\n",
      "f1 = plt.figure()\n",
      "#for i in range(0,controller.num_output_times):\n",
      "temp_to_plot= 4\n",
      "for i in range(0,temp_to_plot):\n",
      "    #soli= controller.frames[i]  \n",
      "    #li= soli.state.q[0,:]\n",
      "    #time_s= round(controller.out_times[i],2)\n",
      "    #time_s= controller.out_times[i]\n",
      "    time_a= actual_times[i]\n",
      "    time_a= np.rint(time_a)\n",
      "    plt.plot(xc_brdu[:,i],l_brdu[:,i], label=str(time_a))\n",
      "    #p.plot(xc[:],l0[:]+0.1 , 'b-', label='TEST')\n",
      "    \n",
      "plt.xlim(0.0,1.0)\n",
      "plt.ylim(0.0,1.0)\n",
      "plt.grid()\n",
      "plt.legend(loc='best',title='time (min)')\n",
      "plt.xlabel('crypt-villus axis')\n",
      "plt.ylabel('labelled fraction')\n",
      "plt.title('Evolution of profile of labelled fraction of cells along crypt-villus axis')\n",
      "\n",
      "f1.savefig(save_path+'labelled-fraction-simulations.pdf') #pdf!!"
     ],
     "language": "python",
     "metadata": {},
     "outputs": [
      {
       "metadata": {},
       "output_type": "display_data",
       "png": "[encoded data removed]",
       "text": [
        "<matplotlib.figure.Figure at 0x6b40890>"
       ]
      }
     ],
     "prompt_number": 62
    },
    {
     "cell_type": "code",
     "collapsed": false,
     "input": [
      "#plot all times on same\n",
      "f1 = plt.figure()\n",
      "#for i in range(0,controller.num_output_times):\n",
      "temp_to_plot= 5\n",
      "for i in range(0,temp_to_plot):\n",
      "    #soli= controller.frames[i]  \n",
      "    #li= soli.state.q[0,:]\n",
      "    #plot labelled\n",
      "    time_a= actual_times[i]\n",
      "    time_a= np.rint(time_a)\n",
      "    plt.plot(xc_brdu[:,i],l_brdu[:,i], label=str(time_a))\n",
      "    #p.plot(xc[:],l0[:]+0.1 , 'b-', label='TEST')\n",
      "    \n",
      "plt.xlim(0.0,1.0)\n",
      "plt.ylim(0.0,1.0)\n",
      "plt.grid()\n",
      "plt.legend(loc='best',title='time')\n",
      "plt.xlabel('crypt-villus axis')\n",
      "plt.ylabel('labelled fraction')\n",
      "plt.title('Evolution of profile of labelled fraction of cells along crypt-villus axis')\n",
      "plt.fill_between(xi,lsample-ylerr, lsample+yrerr,edgecolor='#1B2ACC', facecolor='#089FFF')\n",
      "\n",
      "f1.savefig(save_path+'labelled-fraction-simulations-data.pdf') #pdf!!"
     ],
     "language": "python",
     "metadata": {},
     "outputs": [
      {
       "ename": "NameError",
       "evalue": "name 'xi' is not defined",
       "output_type": "pyerr",
       "traceback": [
        "\u001b[1;31m---------------------------------------------------------------------------\u001b[0m\n\u001b[1;31mNameError\u001b[0m                                 Traceback (most recent call last)",
        "\u001b[1;32m<ipython-input-52-b1eaf9eda69b>\u001b[0m in \u001b[0;36m<module>\u001b[1;34m()\u001b[0m\n\u001b[0;32m     19\u001b[0m \u001b[0mplt\u001b[0m\u001b[1;33m.\u001b[0m\u001b[0mylabel\u001b[0m\u001b[1;33m(\u001b[0m\u001b[1;34m'labelled fraction'\u001b[0m\u001b[1;33m)\u001b[0m\u001b[1;33m\u001b[0m\u001b[0m\n\u001b[0;32m     20\u001b[0m \u001b[0mplt\u001b[0m\u001b[1;33m.\u001b[0m\u001b[0mtitle\u001b[0m\u001b[1;33m(\u001b[0m\u001b[1;34m'Evolution of profile of labelled fraction of cells along crypt-villus axis'\u001b[0m\u001b[1;33m)\u001b[0m\u001b[1;33m\u001b[0m\u001b[0m\n\u001b[1;32m---> 21\u001b[1;33m \u001b[0mplt\u001b[0m\u001b[1;33m.\u001b[0m\u001b[0mfill_between\u001b[0m\u001b[1;33m(\u001b[0m\u001b[0mxi\u001b[0m\u001b[1;33m,\u001b[0m\u001b[0mlsample\u001b[0m\u001b[1;33m-\u001b[0m\u001b[0mylerr\u001b[0m\u001b[1;33m,\u001b[0m \u001b[0mlsample\u001b[0m\u001b[1;33m+\u001b[0m\u001b[0myrerr\u001b[0m\u001b[1;33m,\u001b[0m\u001b[0medgecolor\u001b[0m\u001b[1;33m=\u001b[0m\u001b[1;34m'#1B2ACC'\u001b[0m\u001b[1;33m,\u001b[0m \u001b[0mfacecolor\u001b[0m\u001b[1;33m=\u001b[0m\u001b[1;34m'#089FFF'\u001b[0m\u001b[1;33m)\u001b[0m\u001b[1;33m\u001b[0m\u001b[0m\n\u001b[0m\u001b[0;32m     22\u001b[0m \u001b[1;33m\u001b[0m\u001b[0m\n\u001b[0;32m     23\u001b[0m \u001b[0mf1\u001b[0m\u001b[1;33m.\u001b[0m\u001b[0msavefig\u001b[0m\u001b[1;33m(\u001b[0m\u001b[0msave_path\u001b[0m\u001b[1;33m+\u001b[0m\u001b[1;34m'labelled-fraction-simulations-data.pdf'\u001b[0m\u001b[1;33m)\u001b[0m \u001b[1;31m#pdf!!\u001b[0m\u001b[1;33m\u001b[0m\u001b[0m\n",
        "\u001b[1;31mNameError\u001b[0m: name 'xi' is not defined"
       ]
      },
      {
       "metadata": {},
       "output_type": "display_data",
       "png": "[encoded data removed]",
       "text": [
        "<matplotlib.figure.Figure at 0x68292d0>"
       ]
      }
     ],
     "prompt_number": 52
    },
    {
     "cell_type": "code",
     "collapsed": false,
     "input": [
      "#plot all times on same, sim and data\n",
      "f1 = plt.figure()\n",
      "#xc = sol0.state.grid.c_centers[0]\n",
      "\n",
      "#for i in range(0,controller.num_output_times):\n",
      "temp_to_plot= 4\n",
      "for i in range(0,temp_to_plot):\n",
      "    samplei= i+4 #TEMP!\n",
      "    #soli= controller.frames[i]  \n",
      "    #li= soli.state.q[0,:]\n",
      "    #plot labelled    \n",
      "    time_a= actual_times[i]\n",
      "    time_a= np.rint(time_a)\n",
      "    ylerr_all_brdu\n",
      "    plt.plot(xc_brdu[:,i],l_brdu[:,i],label=str(time_a),linestyle='--',linewidth=2.5,color=colours_dark[i],zorder= temp_to_plot-i)\n",
      "    #\n",
      "    plt.fill_between(xs_all_brdu[samplei],lsample_all_brdu[samplei]-ylerr_all_brdu[samplei],lsample_all_brdu[samplei]+yrerr_all_brdu[samplei],edgecolor=colours_dark[i], facecolor=colours_light[i],zorder= temp_to_plot-i)\n",
      "    #plt.fill_between(xi_0600,lsample_0600-ylerr_0600, lsample_0600+yrerr_0600,edgecolor='#9400d3', facecolor='#dda0dd',zorder=1)\n",
      "    #plt.fill_between(xi_0360,lsample_0360-ylerr_0360, lsample_0360+yrerr_0360,edgecolor='#ff69b4', facecolor='#ffc0cb',zorder=1)\n",
      "    #plt.fill_between(xi,lsample-ylerr, lsample+yrerr,edgecolor='#1B2ACC', facecolor='#089FFF',zorder=1)\n",
      "    \n",
      "    #str(time_a)\n",
      "    #plt.plot(xc,li, label=time_lab,linestyle='--',linewidth=2.5,color=colours_dark[i],zorder= num_runs_to_plot-i)\n",
      "    #p.plot(xc[:],l0[:]+0.1 , 'b-', label='TEST')\n",
      "\n",
      "#plt.plot(xc_brdu[:,4],l_brdu[:,4],label=str(time_a),linestyle='--',linewidth=2.5,color=colours_dark[i],zorder= temp_to_plot-i)\n",
      "\n",
      "plt.xlim(0.0,0.5)\n",
      "plt.ylim(0.0,1.0)\n",
      "plt.grid()\n",
      "plt.legend(loc='best',title='predic. at time:')\n",
      "#handles, labels = plt.get_legend_handles_labels()\n",
      "plt.xlabel('crypt-villus axis')\n",
      "plt.ylabel('labelled fraction')\n",
      "plt.title('Evolution of profile of labelled fraction of cells along crypt-villus axis')\n",
      "\n",
      "\n",
      "#plt.plot(xc,finterpe_norm_0600(xc) , 'r-')\n",
      "#plt.fill_between(xi_0120,lsample_0120-ylerr_0120, lsample_0120+yrerr_0120,edgecolor='#ff69b4', facecolor='#ffc0cb')\n",
      "\n",
      "f1.savefig(save_path+'labelled-fraction-simulations-data-comp.pdf') #pdf!!"
     ],
     "language": "python",
     "metadata": {},
     "outputs": [
      {
       "metadata": {},
       "output_type": "display_data",
       "png": "[encoded data removed]",
       "text": [
        "<matplotlib.figure.Figure at 0x5202b90>"
       ]
      }
     ],
     "prompt_number": 63
    },
    {
     "cell_type": "code",
     "collapsed": false,
     "input": [
      "np.size(lsample_all_brdu[6])"
     ],
     "language": "python",
     "metadata": {},
     "outputs": [
      {
       "metadata": {},
       "output_type": "pyout",
       "prompt_number": 401,
       "text": [
        "65"
       ]
      }
     ],
     "prompt_number": 401
    },
    {
     "cell_type": "markdown",
     "metadata": {},
     "source": [
      "### OLD"
     ]
    },
    {
     "cell_type": "code",
     "collapsed": false,
     "input": [
      "#files_in_dir= os.listdir(data_dir)\n",
      "#file0= files_in_dir[0]\n",
      "#file0"
     ],
     "language": "python",
     "metadata": {},
     "outputs": [],
     "prompt_number": 48
    },
    {
     "cell_type": "code",
     "collapsed": false,
     "input": [
      "#initial profile\n",
      "import os\n",
      "data_dir= './data-working/TXT_BrdU/'\n",
      "keyword='BrdU_Sim'\n",
      "files_in_dir= os.listdir(data_dir)\n",
      "file0= files_in_dir[0]\n",
      "\n",
      "xi, finterpe_norm, lsample, ylerr, yrerr= process_and_fit_data_file(dir_fit=data_dir,time_to_fit=file0,key_fit=keyword,s=15)\n",
      "#\"./data/TXT_Poly_IC/Poly_IC_01_0149min.txt\"\n",
      "#\"./data/TXT_AraC_01/AraC_01_18hr_1hr(1).txt\""
     ],
     "language": "python",
     "metadata": {},
     "outputs": [
      {
       "output_type": "stream",
       "stream": "stdout",
       "text": [
        "plot labelled fraction and original data\n",
        "raw and interpolated (normalised)"
       ]
      },
      {
       "output_type": "stream",
       "stream": "stdout",
       "text": [
        "\n"
       ]
      },
      {
       "metadata": {},
       "output_type": "display_data",
       "png": "[encoded data removed]",
       "text": [
        "<matplotlib.figure.Figure at 0x36eadd0>"
       ]
      },
      {
       "metadata": {},
       "output_type": "display_data",
       "png": "[encoded data removed]",
       "text": [
        "<matplotlib.figure.Figure at 0x8ad1cd0>"
       ]
      }
     ],
     "prompt_number": 31
    },
    {
     "cell_type": "code",
     "collapsed": false,
     "input": [
      "#random check\n",
      "finterpe_norm(0.1)"
     ],
     "language": "python",
     "metadata": {},
     "outputs": [
      {
       "metadata": {},
       "output_type": "pyout",
       "prompt_number": 32,
       "text": [
        "0.74974742423987106"
       ]
      }
     ],
     "prompt_number": 32
    },
    {
     "cell_type": "markdown",
     "metadata": {},
     "source": [
      "sim"
     ]
    },
    {
     "cell_type": "code",
     "collapsed": false,
     "input": [
      "#actual and simulation/normalised times\n",
      "actual_times= np.array([200.,360.,600.,1920.])\n",
      "out_times= (actual_times-min(actual_times))/(max(actual_times)-min(actual_times))"
     ],
     "language": "python",
     "metadata": {},
     "outputs": [],
     "prompt_number": 33
    },
    {
     "cell_type": "code",
     "collapsed": false,
     "input": [
      "controller= setup(initial_profile_f=finterpe_norm,out_times=out_times)\n",
      "controller.run()"
     ],
     "language": "python",
     "metadata": {},
     "outputs": [
      {
       "output_type": "stream",
       "stream": "stdout",
       "text": [
        "2014-07-24 12:21:32,503 INFO CLAW: Solution 0 computed for time t=0.000000\n"
       ]
      },
      {
       "output_type": "stream",
       "stream": "stdout",
       "text": [
        "2014-07-24 12:21:32,521 INFO CLAW: Solution 1 computed for time t=0.093023\n"
       ]
      },
      {
       "output_type": "stream",
       "stream": "stdout",
       "text": [
        "2014-07-24 12:21:32,546 INFO CLAW: Solution 2 computed for time t=0.232558\n"
       ]
      },
      {
       "output_type": "stream",
       "stream": "stdout",
       "text": [
        "2014-07-24 12:21:32,674 INFO CLAW: Solution 3 computed for time t=1.000000\n"
       ]
      },
      {
       "metadata": {},
       "output_type": "pyout",
       "prompt_number": 34,
       "text": [
        "{'cflmax': 0.90000000000000013,\n",
        " 'dtmax': 0.0052941176470588233,\n",
        " 'dtmin': 0.0052941176470588224,\n",
        " 'numsteps': 190}"
       ]
      }
     ],
     "prompt_number": 34
    },
    {
     "cell_type": "code",
     "collapsed": false,
     "input": [
      "sol0= controller.frames[0]  \n",
      "l0= sol0.state.q[0,:]\n",
      "\n",
      "l0= controller.frames[0].state.q[0,:]\n",
      "l0"
     ],
     "language": "python",
     "metadata": {},
     "outputs": [
      {
       "metadata": {},
       "output_type": "pyout",
       "prompt_number": 162,
       "text": [
        "array([  1.69852909e-01,   2.20339772e-01,   2.86370315e-01,\n",
        "         3.65933598e-01,   4.53034739e-01,   5.38900892e-01,\n",
        "         6.15015601e-01,   6.75748848e-01,   7.18823785e-01,\n",
        "         7.43946108e-01,   7.50874589e-01,   7.37667518e-01,\n",
        "         6.99214149e-01,   6.29655008e-01,   5.31425729e-01,\n",
        "         4.16819334e-01,   3.05933552e-01,   2.16022807e-01,\n",
        "         1.53159752e-01,   1.13896528e-01,   7.09245889e-02,\n",
        "         1.80698599e-02,   9.63820017e-04,   5.51402810e-05,\n",
        "         2.15788258e-05,   1.52437186e-05,   1.16478592e-05,\n",
        "         9.53879334e-06,   8.30594156e-06,   7.62936245e-06,\n",
        "         7.33410879e-06,   7.32018265e-06,   7.52606018e-06,\n",
        "         7.90752139e-06,   8.42356061e-06,   9.02587674e-06,\n",
        "         9.65110822e-06,   1.02189223e-05,   1.06799231e-05,\n",
        "         1.10291441e-05,   1.12688161e-05,   1.14059037e-05,\n",
        "         1.14511253e-05,   1.14178892e-05,   1.13212610e-05,\n",
        "         1.11770510e-05,   1.10010780e-05,   1.08086379e-05,\n",
        "         1.06141821e-05,   1.04311804e-05,   0.00000000e+00,\n",
        "         0.00000000e+00,   0.00000000e+00,   0.00000000e+00,\n",
        "         0.00000000e+00,   0.00000000e+00,   0.00000000e+00,\n",
        "         0.00000000e+00,   0.00000000e+00,   0.00000000e+00,\n",
        "         0.00000000e+00,   0.00000000e+00,   0.00000000e+00,\n",
        "         0.00000000e+00,   0.00000000e+00,   0.00000000e+00,\n",
        "         0.00000000e+00,   0.00000000e+00,   0.00000000e+00,\n",
        "         0.00000000e+00,   0.00000000e+00,   0.00000000e+00,\n",
        "         0.00000000e+00,   0.00000000e+00,   0.00000000e+00,\n",
        "         0.00000000e+00,   0.00000000e+00,   0.00000000e+00,\n",
        "         0.00000000e+00,   0.00000000e+00,   0.00000000e+00,\n",
        "         0.00000000e+00,   0.00000000e+00,   0.00000000e+00,\n",
        "         0.00000000e+00,   0.00000000e+00,   0.00000000e+00,\n",
        "         0.00000000e+00,   0.00000000e+00,   0.00000000e+00,\n",
        "         0.00000000e+00,   0.00000000e+00,   0.00000000e+00,\n",
        "         0.00000000e+00,   0.00000000e+00,   0.00000000e+00,\n",
        "         0.00000000e+00,   0.00000000e+00,   0.00000000e+00,\n",
        "         0.00000000e+00])"
       ]
      }
     ],
     "prompt_number": 162
    },
    {
     "cell_type": "code",
     "collapsed": false,
     "input": [
      "v= sol0.state.aux[0,:]\n",
      "v\n",
      "\n",
      "v= controller.frames[0].state.aux[0,:]"
     ],
     "language": "python",
     "metadata": {},
     "outputs": [],
     "prompt_number": 163
    },
    {
     "cell_type": "code",
     "collapsed": false,
     "input": [
      "xc = sol0.state.grid.c_centers[0]\n",
      "xc\n",
      "\n",
      "xc= controller.frames[0].state.grid.c_centers[0]\n",
      "xc"
     ],
     "language": "python",
     "metadata": {},
     "outputs": [
      {
       "metadata": {},
       "output_type": "pyout",
       "prompt_number": 165,
       "text": [
        "array([ 0.005,  0.015,  0.025,  0.035,  0.045,  0.055,  0.065,  0.075,\n",
        "        0.085,  0.095,  0.105,  0.115,  0.125,  0.135,  0.145,  0.155,\n",
        "        0.165,  0.175,  0.185,  0.195,  0.205,  0.215,  0.225,  0.235,\n",
        "        0.245,  0.255,  0.265,  0.275,  0.285,  0.295,  0.305,  0.315,\n",
        "        0.325,  0.335,  0.345,  0.355,  0.365,  0.375,  0.385,  0.395,\n",
        "        0.405,  0.415,  0.425,  0.435,  0.445,  0.455,  0.465,  0.475,\n",
        "        0.485,  0.495,  0.505,  0.515,  0.525,  0.535,  0.545,  0.555,\n",
        "        0.565,  0.575,  0.585,  0.595,  0.605,  0.615,  0.625,  0.635,\n",
        "        0.645,  0.655,  0.665,  0.675,  0.685,  0.695,  0.705,  0.715,\n",
        "        0.725,  0.735,  0.745,  0.755,  0.765,  0.775,  0.785,  0.795,\n",
        "        0.805,  0.815,  0.825,  0.835,  0.845,  0.855,  0.865,  0.875,\n",
        "        0.885,  0.895,  0.905,  0.915,  0.925,  0.935,  0.945,  0.955,\n",
        "        0.965,  0.975,  0.985,  0.995])"
       ]
      }
     ],
     "prompt_number": 165
    },
    {
     "cell_type": "code",
     "collapsed": false,
     "input": [
      "import matplotlib.pyplot as plt\n",
      "%matplotlib inline"
     ],
     "language": "python",
     "metadata": {},
     "outputs": [],
     "prompt_number": 38
    },
    {
     "cell_type": "code",
     "collapsed": false,
     "input": [
      "#plot labelled\n",
      "f1 = plt.figure()\n",
      "#todo - cell centres vs!!\n",
      "plt.plot(xc[:],l0[:] , '-',color= '#FF0000', label='fitted initial profile')\n",
      "#p.plot(xc[:],l0[:]+0.1 , 'b-', label='TEST')\n",
      "plt.grid()\n",
      "plt.xlim(0.0,1.0)\n",
      "plt.ylim(0.0,1.0)\n",
      "\n",
      "plt.legend(loc='best')\n",
      "plt.xlabel('crypt-villus axis')\n",
      "plt.ylabel('labelled fraction')\n",
      "plt.title('Profile of labelled fraction of cells along crypt-villus axis')\n",
      "\n",
      "f1.savefig('labelled-fraction-test.pdf')"
     ],
     "language": "python",
     "metadata": {},
     "outputs": [
      {
       "metadata": {},
       "output_type": "display_data",
       "png": "[encoded data removed]",
       "text": [
        "<matplotlib.figure.Figure at 0x553d6d0>"
       ]
      }
     ],
     "prompt_number": 40
    },
    {
     "cell_type": "code",
     "collapsed": false,
     "input": [
      "plt.plot(xi,finterpe_norm(xi),'-',linewidth=1.5,color= 'r',label='fitted initial profile')\n",
      "plt.fill_between(xi,lsample-ylerr, lsample+yrerr,linestyle= '-',edgecolor='#1B2ACC', facecolor='#089FFF')\n",
      "\n",
      "plt.xlim(0.0,0.5)\n",
      "plt.ylim(0.0,1.0)\n",
      "\n",
      "plt.legend()\n",
      "plt.xlabel('crypt-villus axis (normalised)')\n",
      "plt.ylabel('labelled fraction')\n",
      "plt.title('Profile of labelled fraction of cells along crypt-villus axis')\n",
      "\n",
      "plt.savefig('labelled-fraction-initial-profile.pdf')"
     ],
     "language": "python",
     "metadata": {},
     "outputs": [
      {
       "metadata": {},
       "output_type": "display_data",
       "png": "[encoded data removed]",
       "text": [
        "<matplotlib.figure.Figure at 0x5247390>"
       ]
      }
     ],
     "prompt_number": 43
    },
    {
     "cell_type": "code",
     "collapsed": false,
     "input": [
      "#plot velocity\n",
      "f2 = plt.figure()\n",
      "plt.plot(xc[:],v[:] , color= colours_dark[0],linestyle='-',linewidth=2.5, label='velocity')\n",
      "plt.grid()\n",
      "#plt.legend(loc='best')\n",
      "plt.xlabel('crypt-villus axis')\n",
      "plt.ylabel('velocity')\n",
      "plt.title('Velocity profile along crypt-villus axis')\n",
      "plt.xlim(0.0,1.0)\n",
      "plt.ylim(0.0,2.0)\n",
      "\n",
      "f2.savefig('velocity-profile.pdf')"
     ],
     "language": "python",
     "metadata": {},
     "outputs": [
      {
       "ename": "NameError",
       "evalue": "name 'colours_dark' is not defined",
       "output_type": "pyerr",
       "traceback": [
        "\u001b[1;31m---------------------------------------------------------------------------\u001b[0m\n\u001b[1;31mNameError\u001b[0m                                 Traceback (most recent call last)",
        "\u001b[1;32m<ipython-input-44-bc3fdfbf02e4>\u001b[0m in \u001b[0;36m<module>\u001b[1;34m()\u001b[0m\n\u001b[0;32m      1\u001b[0m \u001b[1;31m#plot velocity\u001b[0m\u001b[1;33m\u001b[0m\u001b[1;33m\u001b[0m\u001b[0m\n\u001b[0;32m      2\u001b[0m \u001b[0mf2\u001b[0m \u001b[1;33m=\u001b[0m \u001b[0mplt\u001b[0m\u001b[1;33m.\u001b[0m\u001b[0mfigure\u001b[0m\u001b[1;33m(\u001b[0m\u001b[1;33m)\u001b[0m\u001b[1;33m\u001b[0m\u001b[0m\n\u001b[1;32m----> 3\u001b[1;33m \u001b[0mplt\u001b[0m\u001b[1;33m.\u001b[0m\u001b[0mplot\u001b[0m\u001b[1;33m(\u001b[0m\u001b[0mxc\u001b[0m\u001b[1;33m[\u001b[0m\u001b[1;33m:\u001b[0m\u001b[1;33m]\u001b[0m\u001b[1;33m,\u001b[0m\u001b[0mv\u001b[0m\u001b[1;33m[\u001b[0m\u001b[1;33m:\u001b[0m\u001b[1;33m]\u001b[0m \u001b[1;33m,\u001b[0m \u001b[0mcolor\u001b[0m\u001b[1;33m=\u001b[0m \u001b[0mcolours_dark\u001b[0m\u001b[1;33m[\u001b[0m\u001b[1;36m0\u001b[0m\u001b[1;33m]\u001b[0m\u001b[1;33m,\u001b[0m\u001b[0mlinestyle\u001b[0m\u001b[1;33m=\u001b[0m\u001b[1;34m'-'\u001b[0m\u001b[1;33m,\u001b[0m\u001b[0mlinewidth\u001b[0m\u001b[1;33m=\u001b[0m\u001b[1;36m2.5\u001b[0m\u001b[1;33m,\u001b[0m \u001b[0mlabel\u001b[0m\u001b[1;33m=\u001b[0m\u001b[1;34m'velocity'\u001b[0m\u001b[1;33m)\u001b[0m\u001b[1;33m\u001b[0m\u001b[0m\n\u001b[0m\u001b[0;32m      4\u001b[0m \u001b[0mplt\u001b[0m\u001b[1;33m.\u001b[0m\u001b[0mgrid\u001b[0m\u001b[1;33m(\u001b[0m\u001b[1;33m)\u001b[0m\u001b[1;33m\u001b[0m\u001b[0m\n\u001b[0;32m      5\u001b[0m \u001b[1;31m#plt.legend(loc='best')\u001b[0m\u001b[1;33m\u001b[0m\u001b[1;33m\u001b[0m\u001b[0m\n",
        "\u001b[1;31mNameError\u001b[0m: name 'colours_dark' is not defined"
       ]
      },
      {
       "metadata": {},
       "output_type": "display_data",
       "text": [
        "<matplotlib.figure.Figure at 0x5520210>"
       ]
      }
     ],
     "prompt_number": 44
    },
    {
     "cell_type": "code",
     "collapsed": false,
     "input": [
      "#plot all times on same\n",
      "f1 = plt.figure()\n",
      "xc = sol0.state.grid.c_centers[0]\n",
      "#for i in range(0,controller.num_output_times):\n",
      "for i in range(0,3):\n",
      "    soli= controller.frames[i]  \n",
      "    li= soli.state.q[0,:]\n",
      "    #plot labelled\n",
      "    #time_s= round(controller.out_times[i],2)\n",
      "    time_s= controller.out_times[i]\n",
      "    time_a= (max(actual_times)-min(actual_times))*time_s+min(actual_times)\n",
      "    time_a= np.rint(time_a)\n",
      "    plt.plot(xc,li, label=str(time_a))\n",
      "    #p.plot(xc[:],l0[:]+0.1 , 'b-', label='TEST')\n",
      "    \n",
      "plt.xlim(0.0,1.0)\n",
      "plt.ylim(0.0,1.0)\n",
      "plt.grid()\n",
      "plt.legend(loc='best',title='time')\n",
      "plt.xlabel('crypt-villus axis')\n",
      "plt.ylabel('labelled fraction')\n",
      "plt.title('Evolution of profile of labelled fraction of cells along crypt-villus axis')\n",
      "\n",
      "f1.savefig('labelled-fraction-simulations.pdf') #pdf!!"
     ],
     "language": "python",
     "metadata": {},
     "outputs": [
      {
       "metadata": {},
       "output_type": "display_data",
       "png": "[encoded data removed]",
       "text": [
        "<matplotlib.figure.Figure at 0x8f992d0>"
       ]
      }
     ],
     "prompt_number": 45
    },
    {
     "cell_type": "markdown",
     "metadata": {},
     "source": [
      "##TODO FROM HERE"
     ]
    },
    {
     "cell_type": "code",
     "collapsed": false,
     "input": [
      "#plot all times on same\n",
      "f1 = plt.figure()\n",
      "xc = sol0.state.grid.c_centers[0]\n",
      "#for i in range(0,controller.num_output_times):\n",
      "for i in range(0,3):\n",
      "    soli= controller.frames[i]  \n",
      "    li= soli.state.q[0,:]\n",
      "    #plot labelled\n",
      "    time= round(controller.out_times[i],2)\n",
      "    plt.plot(xc,li, label=str(time))\n",
      "    #p.plot(xc[:],l0[:]+0.1 , 'b-', label='TEST')\n",
      "    \n",
      "plt.xlim(0.0,1.0)\n",
      "plt.ylim(0.0,1.0)\n",
      "plt.grid()\n",
      "plt.legend(loc='best',title='time')\n",
      "plt.xlabel('crypt-villus axis')\n",
      "plt.ylabel('labelled fraction')\n",
      "plt.title('Evolution of profile of labelled fraction of cells along crypt-villus axis')\n",
      "plt.fill_between(xi,lsample-ylerr, lsample+yrerr,edgecolor='#1B2ACC', facecolor='#089FFF')\n",
      "\n",
      "f1.savefig('labelled-fraction-simulations-data.pdf') #pdf!!"
     ],
     "language": "python",
     "metadata": {},
     "outputs": [
      {
       "metadata": {},
       "output_type": "display_data",
       "png": "[encoded data removed]",
       "text": [
        "<matplotlib.figure.Figure at 0x5625310>"
       ]
      }
     ],
     "prompt_number": 47
    },
    {
     "cell_type": "markdown",
     "metadata": {},
     "source": [
      "Add more raw data"
     ]
    },
    {
     "cell_type": "code",
     "collapsed": false,
     "input": [
      "#later profiles\n",
      "#TODO\n",
      "#xi_0120, finterpe_norm_0120, lsample_0120, ylerr_0120, yrerr_0120= process_and_fit_data(\"./data-working/dataset-one-0120.txt\")\n",
      "#xi_0360, finterpe_norm_0360, lsample_0360, ylerr_0360, yrerr_0360= process_and_fit_data(\"./data-working/dataset-one-0360.txt\")\n",
      "#xi_0600, finterpe_norm_0600, lsample_0600, ylerr_0600, yrerr_0600= process_and_fit_data(\"./data-working/dataset-one-0600.txt\")\n",
      "#xi_1920, finterpe_norm_1920, lsample_1920, ylerr_1920, yrerr_1920= process_and_fit_data(\"./data-working/dataset-one-1920.txt\",k=3,s=10)"
     ],
     "language": "python",
     "metadata": {},
     "outputs": [],
     "prompt_number": 167
    },
    {
     "cell_type": "code",
     "collapsed": false,
     "input": [
      "#plot all times on same\n",
      "f1 = plt.figure()\n",
      "xc = sol0.state.grid.c_centers[0]\n",
      "#for i in range(0,controller.num_output_times):\n",
      "num_runs_to_plot= 3\n",
      "for i in range(0,num_runs_to_plot):\n",
      "    soli= controller.frames[i]  \n",
      "    li= soli.state.q[0,:]\n",
      "    #plot labelled\n",
      "    time_s= controller.out_times[i]\n",
      "    time_a= (max(actual_times)-min(actual_times))*time_s+min(actual_times)\n",
      "    time_lab= '%0.0f'%time_a\n",
      "    #str(time_a)\n",
      "    plt.plot(xc,li, label=time_lab,linestyle='--',linewidth=2.5,color=colours_dark[i],zorder= num_runs_to_plot-i)\n",
      "    #p.plot(xc[:],l0[:]+0.1 , 'b-', label='TEST')\n",
      "plt.xlim(0.0,0.5)\n",
      "plt.ylim(0.0,1.0)\n",
      "plt.grid()\n",
      "plt.legend(loc='best',title='predic. at time:')\n",
      "#handles, labels = plt.get_legend_handles_labels()\n",
      "plt.xlabel('crypt-villus axis')\n",
      "plt.ylabel('labelled fraction')\n",
      "plt.title('Evolution of profile of labelled fraction of cells along crypt-villus axis')\n",
      "\n",
      "#plt.fill_between(xi_1920,lsample_1920-ylerr_1920, lsample_1920+yrerr_1920,edgecolor=colours_dark[3], facecolor=colours_light[3])\n",
      "plt.fill_between(xi_0600,lsample_0600-ylerr_0600, lsample_0600+yrerr_0600,edgecolor='#9400d3', facecolor='#dda0dd',zorder=1)\n",
      "plt.fill_between(xi_0360,lsample_0360-ylerr_0360, lsample_0360+yrerr_0360,edgecolor='#ff69b4', facecolor='#ffc0cb',zorder=1)\n",
      "plt.fill_between(xi,lsample-ylerr, lsample+yrerr,edgecolor='#1B2ACC', facecolor='#089FFF',zorder=1)\n",
      "\n",
      "#plt.plot(xc,finterpe_norm_0600(xc) , 'r-')\n",
      "#plt.fill_between(xi_0120,lsample_0120-ylerr_0120, lsample_0120+yrerr_0120,edgecolor='#ff69b4', facecolor='#ffc0cb')\n",
      "\n",
      "f1.savefig('labelled-fraction-simulations-data-comp.pdf') #pdf!!"
     ],
     "language": "python",
     "metadata": {},
     "outputs": []
    },
    {
     "cell_type": "code",
     "collapsed": false,
     "input": [
      "#plot all times on same\n",
      "xc = sol0.state.grid.c_centers[0]\n",
      "\n",
      "f1 = plt.figure()\n",
      "plt.fill_between(xi_1920,lsample_1920-ylerr_1920, lsample_1920+yrerr_1920,edgecolor='#ff69b4', facecolor='#ffc0cb')\n",
      "plt.fill_between(xi_0600,lsample_0600-ylerr_0600, lsample_0600+yrerr_0600,edgecolor='#ff69b4', facecolor='#ffc0cb')\n",
      "plt.fill_between(xi_0360,lsample_0360-ylerr_0360, lsample_0360+yrerr_0360,edgecolor='#ff69b4', facecolor='#ffc0cb')\n",
      "plt.fill_between(xi,lsample-ylerr, lsample+yrerr,edgecolor='#1B2ACC', facecolor='#089FFF')\n",
      "\n",
      "#plt.plot(xc,finterpe_norm(xc) , 'b--',label='0020')\n",
      "#plt.plot(xc,finterpe_norm_1920(xc) , 'r--',label='1920')\n",
      "\n",
      "\n",
      "plt.xlim(0.0,1.0)\n",
      "plt.ylim(0.0,1.0)\n",
      "plt.grid()\n",
      "plt.legend(loc='best',title='time (min)')\n",
      "plt.xlabel('crypt-villus axis')\n",
      "plt.ylabel('labelled fraction')\n",
      "plt.title('Evolution of profile of labelled fraction of cells along crypt-villus axis')\n",
      "\n",
      "#plt.plot(xc,finterpe_norm_0600(xc) , 'r',label='0600')\n",
      "#plt.plot(xc,finterpe_norm(xc) , 'b',label='0200')\n",
      "\n",
      "f1.savefig('labelled-fraction-simulations-data-only-lines.pdf') #pdf!!\n",
      "\n",
      "#plot all times on same\n",
      "f2 = plt.figure()\n",
      "xc = sol0.state.grid.c_centers[0]\n",
      "\n",
      "plt.plot(xc,finterpe_norm(xc) , 'b-',label='0200')\n",
      "plt.plot(xc,finterpe_norm_0360(xc) , 'r-',label='0360',color='#089FFF')\n",
      "plt.plot(xc,finterpe_norm_0600(xc) , 'g-',label='0600',color='#089FFF')\n",
      "plt.plot(xc,finterpe_norm_1920(xc) , 'y-',label='1920')\n",
      "\n",
      "plt.xlim(0.0,1.0)\n",
      "plt.ylim(0.0,1.0)\n",
      "plt.grid()\n",
      "plt.legend(loc='best',title='time (min)')\n",
      "plt.xlabel('crypt-villus axis')\n",
      "plt.ylabel('labelled fraction')\n",
      "plt.title('Evolution of profile of labelled fraction of cells along crypt-villus axis')\n",
      "\n",
      "f2.savefig('labelled-fraction-simulations-data-only-fill.pdf') #pdf!!\n",
      "#plt.plot(xc,finterpe_norm_0600(xc) , 'r-')\n",
      "#plt.fill_between(xi_0120,lsample_0120-ylerr_0120, lsample_0120+yrerr_0120,edgecolor='#ff69b4', facecolor='#ffc0cb')"
     ],
     "language": "python",
     "metadata": {},
     "outputs": []
    },
    {
     "cell_type": "markdown",
     "metadata": {},
     "source": [
      "Scratch"
     ]
    },
    {
     "cell_type": "code",
     "collapsed": false,
     "input": [
      "time_to= '0020'\n",
      "time_to"
     ],
     "language": "python",
     "metadata": {},
     "outputs": []
    },
    {
     "cell_type": "code",
     "collapsed": false,
     "input": [
      "other= 'other'\n",
      "other"
     ],
     "language": "python",
     "metadata": {},
     "outputs": []
    },
    {
     "cell_type": "code",
     "collapsed": false,
     "input": [
      "''"
     ],
     "language": "python",
     "metadata": {},
     "outputs": []
    },
    {
     "cell_type": "code",
     "collapsed": false,
     "input": [
      "''.join([other,time_to])"
     ],
     "language": "python",
     "metadata": {},
     "outputs": []
    },
    {
     "cell_type": "code",
     "collapsed": false,
     "input": [
      "a= [200.,360.,600.,1920.]"
     ],
     "language": "python",
     "metadata": {},
     "outputs": []
    },
    {
     "cell_type": "code",
     "collapsed": false,
     "input": [
      "plt.plot(a)"
     ],
     "language": "python",
     "metadata": {},
     "outputs": [
      {
       "ename": "NameError",
       "evalue": "name 'a' is not defined",
       "output_type": "pyerr",
       "traceback": [
        "\u001b[1;31m---------------------------------------------------------------------------\u001b[0m\n\u001b[1;31mNameError\u001b[0m                                 Traceback (most recent call last)",
        "\u001b[1;32m<ipython-input-45-a4fc608a6a20>\u001b[0m in \u001b[0;36m<module>\u001b[1;34m()\u001b[0m\n\u001b[1;32m----> 1\u001b[1;33m \u001b[0mplt\u001b[0m\u001b[1;33m.\u001b[0m\u001b[0mplot\u001b[0m\u001b[1;33m(\u001b[0m\u001b[0ma\u001b[0m\u001b[1;33m)\u001b[0m\u001b[1;33m\u001b[0m\u001b[0m\n\u001b[0m",
        "\u001b[1;31mNameError\u001b[0m: name 'a' is not defined"
       ]
      }
     ],
     "prompt_number": 45
    },
    {
     "cell_type": "code",
     "collapsed": false,
     "input": [
      "2120./5."
     ],
     "language": "python",
     "metadata": {},
     "outputs": [
      {
       "metadata": {},
       "output_type": "pyout",
       "prompt_number": 46,
       "text": [
        "424.0"
       ]
      }
     ],
     "prompt_number": 46
    },
    {
     "cell_type": "code",
     "collapsed": false,
     "input": [
      "equi= np.arange(200.,1920.,(1920.-200.)/10.)\n",
      "actual= np.array([200.,360.,600.,1920.])\n",
      "print(equi)\n",
      "#print(actual)\n",
      "(1920.-200.)/10."
     ],
     "language": "python",
     "metadata": {},
     "outputs": [
      {
       "output_type": "stream",
       "stream": "stdout",
       "text": [
        "[  200.   372.   544.   716.   888.  1060.  1232.  1404.  1576.  1748.]\n"
       ]
      },
      {
       "metadata": {},
       "output_type": "pyout",
       "prompt_number": 47,
       "text": [
        "172.0"
       ]
      }
     ],
     "prompt_number": 47
    },
    {
     "cell_type": "code",
     "collapsed": false,
     "input": [
      "(actual-equi[0])/np.max(equi)"
     ],
     "language": "python",
     "metadata": {},
     "outputs": [
      {
       "metadata": {},
       "output_type": "pyout",
       "prompt_number": 48,
       "text": [
        "array([ 0.        ,  0.09153318,  0.22883295,  0.98398169])"
       ]
      }
     ],
     "prompt_number": 48
    },
    {
     "cell_type": "code",
     "collapsed": false,
     "input": [
      "actual_times= np.array([200.,360.,600.,1920.])\n",
      "out_times= (actual_times-min(actual_times))/(max(actual_times)-min(actual_times))"
     ],
     "language": "python",
     "metadata": {},
     "outputs": [],
     "prompt_number": 49
    },
    {
     "cell_type": "code",
     "collapsed": false,
     "input": [
      "print(out_times)"
     ],
     "language": "python",
     "metadata": {},
     "outputs": [
      {
       "output_type": "stream",
       "stream": "stdout",
       "text": [
        "[ 0.          0.09302326  0.23255814  1.        ]\n"
       ]
      }
     ],
     "prompt_number": 50
    },
    {
     "cell_type": "code",
     "collapsed": false,
     "input": [],
     "language": "python",
     "metadata": {},
     "outputs": [],
     "prompt_number": 50
    },
    {
     "cell_type": "code",
     "collapsed": false,
     "input": [],
     "language": "python",
     "metadata": {},
     "outputs": [],
     "prompt_number": 50
    },
    {
     "cell_type": "code",
     "collapsed": false,
     "input": [
      "#test string formatting\n",
      "start= 60.\n",
      "sf_time= 4\n",
      "#\"%0\"+sf_time+\"d\" %a\n",
      "#'%04d' %a\n",
      "tf= '%0'+('%1d' % sf_time)+'d' \n",
      "tf%start"
     ],
     "language": "python",
     "metadata": {},
     "outputs": [
      {
       "metadata": {},
       "output_type": "pyout",
       "prompt_number": 45,
       "text": [
        "'0060'"
       ]
      }
     ],
     "prompt_number": 45
    },
    {
     "cell_type": "code",
     "collapsed": false,
     "input": [],
     "language": "python",
     "metadata": {},
     "outputs": [],
     "prompt_number": 50
    },
    {
     "cell_type": "code",
     "collapsed": false,
     "input": [],
     "language": "python",
     "metadata": {},
     "outputs": [],
     "prompt_number": 50
    },
    {
     "cell_type": "code",
     "collapsed": false,
     "input": [
      "np.tile(np.array([[1,2,3]]),[3,1])"
     ],
     "language": "python",
     "metadata": {},
     "outputs": [
      {
       "metadata": {},
       "output_type": "pyout",
       "prompt_number": 51,
       "text": [
        "array([[1, 2, 3],\n",
        "       [1, 2, 3],\n",
        "       [1, 2, 3]])"
       ]
      }
     ],
     "prompt_number": 51
    },
    {
     "cell_type": "markdown",
     "metadata": {},
     "source": [
      "input and output"
     ]
    },
    {
     "cell_type": "code",
     "collapsed": false,
     "input": [
      "import os"
     ],
     "language": "python",
     "metadata": {},
     "outputs": [],
     "prompt_number": 58
    },
    {
     "cell_type": "code",
     "collapsed": false,
     "input": [
      "data_dir= './data-working/TXT_BrdU/'\n",
      "os.listdir(data_dir)"
     ],
     "language": "python",
     "metadata": {},
     "outputs": [
      {
       "metadata": {},
       "output_type": "pyout",
       "prompt_number": 68,
       "text": [
        "['BrdU_01_0060min.txt',\n",
        " 'BrdU_01_0120min.txt',\n",
        " 'BrdU_01_4320min.txt',\n",
        " 'BrdU_01_4800min.txt',\n",
        " 'BrdU_01_0600min.txt',\n",
        " 'BrdU_01_0020min.txt',\n",
        " 'BrdU_01_3360min.txt',\n",
        " 'BrdU_01_0045min.txt',\n",
        " 'BrdU_01_0030min.txt',\n",
        " 'BrdU_01_0360min.txt',\n",
        " 'BrdU_01_0010min.txt',\n",
        " 'BrdU_01_1920min.txt']"
       ]
      }
     ],
     "prompt_number": 68
    },
    {
     "cell_type": "code",
     "collapsed": false,
     "input": [
      "files_in_dir= os.listdir(data_dir)\n",
      "files_in_dir"
     ],
     "language": "python",
     "metadata": {},
     "outputs": [
      {
       "metadata": {},
       "output_type": "pyout",
       "prompt_number": 69,
       "text": [
        "['BrdU_01_0060min.txt',\n",
        " 'BrdU_01_0120min.txt',\n",
        " 'BrdU_01_4320min.txt',\n",
        " 'BrdU_01_4800min.txt',\n",
        " 'BrdU_01_0600min.txt',\n",
        " 'BrdU_01_0020min.txt',\n",
        " 'BrdU_01_3360min.txt',\n",
        " 'BrdU_01_0045min.txt',\n",
        " 'BrdU_01_0030min.txt',\n",
        " 'BrdU_01_0360min.txt',\n",
        " 'BrdU_01_0010min.txt',\n",
        " 'BrdU_01_1920min.txt']"
       ]
      }
     ],
     "prompt_number": 69
    },
    {
     "cell_type": "code",
     "collapsed": false,
     "input": [
      "for file in files_in_dir:\n",
      "    print file\n"
     ],
     "language": "python",
     "metadata": {},
     "outputs": [
      {
       "output_type": "stream",
       "stream": "stdout",
       "text": [
        "BrdU_01_0060min.txt\n",
        "BrdU_01_0120min.txt\n",
        "BrdU_01_4320min.txt\n",
        "BrdU_01_4800min.txt\n",
        "BrdU_01_0600min.txt\n",
        "BrdU_01_0020min.txt\n",
        "BrdU_01_3360min.txt\n",
        "BrdU_01_0045min.txt\n",
        "BrdU_01_0030min.txt\n",
        "BrdU_01_0360min.txt\n",
        "BrdU_01_0010min.txt\n",
        "BrdU_01_1920min.txt\n"
       ]
      }
     ],
     "prompt_number": 72
    },
    {
     "cell_type": "code",
     "collapsed": false,
     "input": [
      "data_dir= './data-working/TXT_BrdU/'\n",
      "files_in_dir= os.listdir(data_dir)\n",
      "for file in files_in_dir:\n",
      "    print file"
     ],
     "language": "python",
     "metadata": {},
     "outputs": [
      {
       "output_type": "stream",
       "stream": "stdout",
       "text": [
        "BrdU_01_0060min.txt\n",
        "BrdU_01_0120min.txt\n",
        "BrdU_01_4320min.txt\n",
        "BrdU_01_4800min.txt\n",
        "BrdU_01_0600min.txt\n",
        "BrdU_01_0020min.txt\n",
        "BrdU_01_3360min.txt\n",
        "BrdU_01_0045min.txt\n",
        "BrdU_01_0030min.txt\n",
        "BrdU_01_0360min.txt\n",
        "BrdU_01_0010min.txt\n",
        "BrdU_01_1920min.txt\n"
       ]
      }
     ],
     "prompt_number": 73
    },
    {
     "cell_type": "code",
     "collapsed": false,
     "input": [],
     "language": "python",
     "metadata": {},
     "outputs": []
    },
    {
     "cell_type": "code",
     "collapsed": false,
     "input": [],
     "language": "python",
     "metadata": {},
     "outputs": [],
     "prompt_number": 25
    },
    {
     "cell_type": "code",
     "collapsed": false,
     "input": [],
     "language": "python",
     "metadata": {},
     "outputs": []
    }
   ],
   "metadata": {}
  }
 ]
}