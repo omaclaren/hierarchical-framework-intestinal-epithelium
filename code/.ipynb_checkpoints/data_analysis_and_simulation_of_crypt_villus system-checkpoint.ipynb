{
 "metadata": {
  "name": "",
  "signature": "sha256:e37ee2aa6ee95f87ca2a5562ef7467edc3a7645248243a2aca1a385bf933a887"
 },
 "nbformat": 3,
 "nbformat_minor": 0,
 "worksheets": [
  {
   "cells": [
    {
     "cell_type": "markdown",
     "metadata": {},
     "source": [
      "#Working for data analysis and simulation of crypt villus experiments/models  \n",
      "Author: OJM  \n",
      "Copied over to git 241014 based on notebook created 230714 which was a copy of notebook created 110714.\n",
      "\n",
      "*New, clean version*"
     ]
    },
    {
     "cell_type": "code",
     "collapsed": false,
     "input": [
      "import numpy as np\n",
      "import scipy as sp\n",
      "import matplotlib as mpl\n",
      "import matplotlib.pyplot as plt\n",
      "import os\n",
      "%matplotlib inline\n",
      "%load_ext autoreload\n",
      "%autoreload 2"
     ],
     "language": "python",
     "metadata": {},
     "outputs": [],
     "prompt_number": 3
    },
    {
     "cell_type": "markdown",
     "metadata": {},
     "source": [
      "### Data analysis functions"
     ]
    },
    {
     "cell_type": "code",
     "collapsed": false,
     "input": [
      "import data_analysis as da"
     ],
     "language": "python",
     "metadata": {},
     "outputs": [],
     "prompt_number": 10
    },
    {
     "cell_type": "markdown",
     "metadata": {},
     "source": [
      "###Simulation functions - PyClaw"
     ]
    },
    {
     "cell_type": "code",
     "collapsed": false,
     "input": [
      "import sims"
     ],
     "language": "python",
     "metadata": {},
     "outputs": [],
     "prompt_number": 1
    },
    {
     "cell_type": "code",
     "collapsed": false,
     "input": [],
     "language": "python",
     "metadata": {},
     "outputs": []
    }
   ],
   "metadata": {}
  }
 ]
}