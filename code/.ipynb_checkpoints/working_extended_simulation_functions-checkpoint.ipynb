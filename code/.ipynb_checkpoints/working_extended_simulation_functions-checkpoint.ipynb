{
 "metadata": {
  "name": "",
  "signature": "sha256:908ca60f683ee0424a664284f2b39dfa1ea462aac1a664bca7eed3ae1e3d0fa8"
 },
 "nbformat": 3,
 "nbformat_minor": 0,
 "worksheets": [
  {
   "cells": [
    {
     "cell_type": "markdown",
     "metadata": {},
     "source": [
      "# Working for extended simulation functions  \n",
      "To solve FP equation.  \n",
      "Created 240615"
     ]
    },
    {
     "cell_type": "markdown",
     "metadata": {},
     "source": [
      "### Outline  \n",
      "\n",
      "- initial *probability distribution* (parameter?) is known (*not state* as in usual delta function IC)?\n",
      "- this is *transported* according to the governing PDE?\n",
      "- for advection only, the single-time probability distribution IC doesn't 'spread out' over "
     ]
    },
    {
     "cell_type": "code",
     "collapsed": false,
     "input": [
      "import numpy as np\n",
      "import numpy.linalg as la\n",
      "import scipy as sp\n",
      "from scipy import stats\n",
      "import scipy.interpolate as interpolate\n",
      "import scipy.special as special\n",
      "import matplotlib as mpl\n",
      "import matplotlib.pyplot as plt\n",
      "from matplotlib.ticker import MaxNLocator\n",
      "import os\n",
      "import errno\n",
      "import george\n",
      "from george import kernels\n",
      "import statsmodels.api as sm\n",
      "%matplotlib inline"
     ],
     "language": "python",
     "metadata": {},
     "outputs": [],
     "prompt_number": 1
    },
    {
     "cell_type": "code",
     "collapsed": false,
     "input": [
      "#import matplotlib.pyplot as plt\n",
      "#%matplotlib inline"
     ],
     "language": "python",
     "metadata": {},
     "outputs": [],
     "prompt_number": 2
    },
    {
     "cell_type": "code",
     "collapsed": false,
     "input": [
      "#want to change some gloabl plot font settings - save first. Make sure to only run once on clean set.\n",
      "rc_default = plt.rcParams.copy()"
     ],
     "language": "python",
     "metadata": {},
     "outputs": [],
     "prompt_number": 3
    },
    {
     "cell_type": "code",
     "collapsed": false,
     "input": [
      "rc_default"
     ],
     "language": "python",
     "metadata": {},
     "outputs": [
      {
       "metadata": {},
       "output_type": "pyout",
       "prompt_number": 4,
       "text": [
        "{'agg.path.chunksize': 0,\n",
        " 'animation.avconv_args': '',\n",
        " 'animation.avconv_path': 'avconv',\n",
        " 'animation.bitrate': -1,\n",
        " 'animation.codec': 'mpeg4',\n",
        " 'animation.convert_args': '',\n",
        " 'animation.convert_path': 'convert',\n",
        " 'animation.ffmpeg_args': '',\n",
        " 'animation.ffmpeg_path': 'ffmpeg',\n",
        " 'animation.frame_format': 'png',\n",
        " 'animation.mencoder_args': '',\n",
        " 'animation.mencoder_path': 'mencoder',\n",
        " 'animation.writer': 'ffmpeg',\n",
        " 'axes.axisbelow': False,\n",
        " 'axes.color_cycle': ['b', 'g', 'r', 'c', 'm', 'y', 'k'],\n",
        " 'axes.edgecolor': 'k',\n",
        " 'axes.facecolor': 'w',\n",
        " 'axes.formatter.limits': [-7, 7],\n",
        " 'axes.formatter.use_locale': False,\n",
        " 'axes.formatter.use_mathtext': False,\n",
        " 'axes.grid': False,\n",
        " 'axes.hold': True,\n",
        " 'axes.labelcolor': 'k',\n",
        " 'axes.labelsize': 'medium',\n",
        " 'axes.labelweight': 'normal',\n",
        " 'axes.linewidth': 1.0,\n",
        " 'axes.titlesize': 'large',\n",
        " 'axes.unicode_minus': True,\n",
        " 'axes.xmargin': 0,\n",
        " 'axes.ymargin': 0,\n",
        " 'axes3d.grid': True,\n",
        " 'backend': 'module://IPython.kernel.zmq.pylab.backend_inline',\n",
        " 'backend.qt4': 'PyQt4',\n",
        " 'backend_fallback': True,\n",
        " 'contour.negative_linestyle': 'dashed',\n",
        " 'datapath': '/Users/user/anaconda/lib/python2.7/site-packages/matplotlib/mpl-data',\n",
        " 'docstring.hardcopy': False,\n",
        " 'examples.directory': '',\n",
        " 'figure.autolayout': False,\n",
        " 'figure.dpi': 80,\n",
        " 'figure.edgecolor': (1, 1, 1, 0),\n",
        " 'figure.facecolor': (1, 1, 1, 0),\n",
        " 'figure.figsize': (6.0, 4.0),\n",
        " 'figure.frameon': True,\n",
        " 'figure.max_open_warning': 20,\n",
        " 'figure.subplot.bottom': 0.125,\n",
        " 'figure.subplot.hspace': 0.2,\n",
        " 'figure.subplot.left': 0.125,\n",
        " 'figure.subplot.right': 0.9,\n",
        " 'figure.subplot.top': 0.9,\n",
        " 'figure.subplot.wspace': 0.2,\n",
        " 'font.cursive': ['Apple Chancery',\n",
        "  'Textile',\n",
        "  'Zapf Chancery',\n",
        "  'Sand',\n",
        "  'cursive'],\n",
        " 'font.family': 'sans-serif',\n",
        " 'font.fantasy': ['Comic Sans MS',\n",
        "  'Chicago',\n",
        "  'Charcoal',\n",
        "  'ImpactWestern',\n",
        "  'fantasy'],\n",
        " 'font.monospace': ['Bitstream Vera Sans Mono',\n",
        "  'DejaVu Sans Mono',\n",
        "  'Andale Mono',\n",
        "  'Nimbus Mono L',\n",
        "  'Courier New',\n",
        "  'Courier',\n",
        "  'Fixed',\n",
        "  'Terminal',\n",
        "  'monospace'],\n",
        " 'font.sans-serif': ['Bitstream Vera Sans',\n",
        "  'DejaVu Sans',\n",
        "  'Lucida Grande',\n",
        "  'Verdana',\n",
        "  'Geneva',\n",
        "  'Lucid',\n",
        "  'Arial',\n",
        "  'Helvetica',\n",
        "  'Avant Garde',\n",
        "  'sans-serif'],\n",
        " 'font.serif': ['Bitstream Vera Serif',\n",
        "  'DejaVu Serif',\n",
        "  'New Century Schoolbook',\n",
        "  'Century Schoolbook L',\n",
        "  'Utopia',\n",
        "  'ITC Bookman',\n",
        "  'Bookman',\n",
        "  'Nimbus Roman No9 L',\n",
        "  'Times New Roman',\n",
        "  'Times',\n",
        "  'Palatino',\n",
        "  'Charter',\n",
        "  'serif'],\n",
        " 'font.size': 10,\n",
        " 'font.stretch': 'normal',\n",
        " 'font.style': 'normal',\n",
        " 'font.variant': 'normal',\n",
        " 'font.weight': 'normal',\n",
        " 'grid.alpha': 1.0,\n",
        " 'grid.color': 'k',\n",
        " 'grid.linestyle': ':',\n",
        " 'grid.linewidth': 0.5,\n",
        " 'image.aspect': 'equal',\n",
        " 'image.cmap': 'jet',\n",
        " 'image.interpolation': 'bilinear',\n",
        " 'image.lut': 256,\n",
        " 'image.origin': 'upper',\n",
        " 'image.resample': False,\n",
        " 'interactive': True,\n",
        " 'keymap.all_axes': 'a',\n",
        " 'keymap.back': ['left', 'c', 'backspace'],\n",
        " 'keymap.forward': ['right', 'v'],\n",
        " 'keymap.fullscreen': ('f', 'ctrl+f'),\n",
        " 'keymap.grid': 'g',\n",
        " 'keymap.home': ['h', 'r', 'home'],\n",
        " 'keymap.pan': 'p',\n",
        " 'keymap.quit': ('ctrl+w', 'cmd+w'),\n",
        " 'keymap.save': ('s', 'ctrl+s'),\n",
        " 'keymap.xscale': ['k', 'L'],\n",
        " 'keymap.yscale': 'l',\n",
        " 'keymap.zoom': 'o',\n",
        " 'legend.borderaxespad': 0.5,\n",
        " 'legend.borderpad': 0.4,\n",
        " 'legend.columnspacing': 2.0,\n",
        " 'legend.fancybox': False,\n",
        " 'legend.fontsize': 'large',\n",
        " 'legend.frameon': True,\n",
        " 'legend.handleheight': 0.7,\n",
        " 'legend.handlelength': 2.0,\n",
        " 'legend.handletextpad': 0.8,\n",
        " 'legend.isaxes': True,\n",
        " 'legend.labelspacing': 0.5,\n",
        " 'legend.loc': 'upper right',\n",
        " 'legend.markerscale': 1.0,\n",
        " 'legend.numpoints': 2,\n",
        " 'legend.scatterpoints': 3,\n",
        " 'legend.shadow': False,\n",
        " 'lines.antialiased': True,\n",
        " 'lines.color': 'b',\n",
        " 'lines.dash_capstyle': 'butt',\n",
        " 'lines.dash_joinstyle': 'round',\n",
        " 'lines.linestyle': '-',\n",
        " 'lines.linewidth': 1.0,\n",
        " 'lines.marker': 'None',\n",
        " 'lines.markeredgewidth': 0.5,\n",
        " 'lines.markersize': 6,\n",
        " 'lines.solid_capstyle': 'projecting',\n",
        " 'lines.solid_joinstyle': 'round',\n",
        " 'mathtext.bf': 'serif:bold',\n",
        " 'mathtext.cal': 'cursive',\n",
        " 'mathtext.default': 'it',\n",
        " 'mathtext.fallback_to_cm': True,\n",
        " 'mathtext.fontset': 'cm',\n",
        " 'mathtext.it': 'serif:italic',\n",
        " 'mathtext.rm': 'serif',\n",
        " 'mathtext.sf': 'sans\\\\-serif',\n",
        " 'mathtext.tt': 'monospace',\n",
        " 'patch.antialiased': True,\n",
        " 'patch.edgecolor': 'k',\n",
        " 'patch.facecolor': 'b',\n",
        " 'patch.linewidth': 1.0,\n",
        " 'path.effects': [],\n",
        " 'path.simplify': True,\n",
        " 'path.simplify_threshold': 0.1111111111111111,\n",
        " 'path.sketch': None,\n",
        " 'path.snap': True,\n",
        " 'pdf.compression': 6,\n",
        " 'pdf.fonttype': 3,\n",
        " 'pdf.inheritcolor': False,\n",
        " 'pdf.use14corefonts': False,\n",
        " 'pgf.debug': False,\n",
        " 'pgf.preamble': [''],\n",
        " 'pgf.rcfonts': True,\n",
        " 'pgf.texsystem': 'xelatex',\n",
        " 'plugins.directory': '.matplotlib_plugins',\n",
        " 'polaraxes.grid': True,\n",
        " 'ps.distiller.res': 6000,\n",
        " 'ps.fonttype': 3,\n",
        " 'ps.papersize': 'letter',\n",
        " 'ps.useafm': False,\n",
        " 'ps.usedistiller': False,\n",
        " 'savefig.bbox': None,\n",
        " 'savefig.directory': '~',\n",
        " 'savefig.dpi': 72,\n",
        " 'savefig.edgecolor': 'w',\n",
        " 'savefig.extension': 'png',\n",
        " 'savefig.facecolor': 'w',\n",
        " 'savefig.format': 'png',\n",
        " 'savefig.frameon': True,\n",
        " 'savefig.jpeg_quality': 95,\n",
        " 'savefig.orientation': 'portrait',\n",
        " 'savefig.pad_inches': 0.1,\n",
        " 'svg.embed_char_paths': True,\n",
        " 'svg.fonttype': 'path',\n",
        " 'svg.image_inline': True,\n",
        " 'svg.image_noscale': False,\n",
        " 'text.antialiased': True,\n",
        " 'text.color': 'k',\n",
        " 'text.dvipnghack': None,\n",
        " 'text.hinting': True,\n",
        " 'text.hinting_factor': 8,\n",
        " 'text.latex.preamble': [''],\n",
        " 'text.latex.preview': False,\n",
        " 'text.latex.unicode': False,\n",
        " 'text.usetex': False,\n",
        " 'timezone': 'UTC',\n",
        " 'tk.pythoninspect': False,\n",
        " 'tk.window_focus': False,\n",
        " 'toolbar': 'toolbar2',\n",
        " 'verbose.fileo': 'sys.stdout',\n",
        " 'verbose.level': 'silent',\n",
        " 'webagg.open_in_browser': True,\n",
        " 'webagg.port': 8988,\n",
        " 'webagg.port_retries': 50,\n",
        " 'xtick.color': 'k',\n",
        " 'xtick.direction': 'in',\n",
        " 'xtick.labelsize': 'medium',\n",
        " 'xtick.major.pad': 4,\n",
        " 'xtick.major.size': 4,\n",
        " 'xtick.major.width': 0.5,\n",
        " 'xtick.minor.pad': 4,\n",
        " 'xtick.minor.size': 2,\n",
        " 'xtick.minor.width': 0.5,\n",
        " 'ytick.color': 'k',\n",
        " 'ytick.direction': 'in',\n",
        " 'ytick.labelsize': 'medium',\n",
        " 'ytick.major.pad': 4,\n",
        " 'ytick.major.size': 4,\n",
        " 'ytick.major.width': 0.5,\n",
        " 'ytick.minor.pad': 4,\n",
        " 'ytick.minor.size': 2,\n",
        " 'ytick.minor.width': 0.5}"
       ]
      }
     ],
     "prompt_number": 4
    },
    {
     "cell_type": "code",
     "collapsed": false,
     "input": [
      "#---figure settings and labels----\n",
      "plt.rcParams['xtick.labelsize'] = 18\n",
      "plt.rcParams['ytick.labelsize'] = 18\n",
      "plt.rcParams['ytick.minor.width'] = 0.5\n",
      "plt.rcParams['axes.labelsize'] = 20\n",
      "plt.rcParams['axes.titlesize'] = 22\n",
      "plt.rcParams['figure.autolayout'] = 'True'\n",
      "mpl.use(\"pgf\")\n",
      "plt.rcParams['font.family']='serif'\n",
      "plt.rcParams['text.usetex'] = 'True'\n",
      "plt.rcParams['font.serif']= ['Computer Modern Roman'] #along with pgf, uses latex default\n",
      "#plt.rcParams['pgf.rcfonts'] = False\n",
      "plt.rcParams['pgf.preamble']= [\"\\\\usepackage{unicode-math}\"]  # unicode math setupr\n",
      "                             #r\"\\setmathfont{xits-math.otf}\",\n",
      "                             #r\"\\setmainfont{'Computer Modern Roman'}\", # serif font via preamble\n",
      "                             #]\n",
      "#plt.rcParams['image.cmap'] = 'Greys'"
     ],
     "language": "python",
     "metadata": {},
     "outputs": [],
     "prompt_number": 6
    },
    {
     "cell_type": "markdown",
     "metadata": {},
     "source": [
      "## Data and parameters"
     ]
    },
    {
     "cell_type": "code",
     "collapsed": false,
     "input": [
      "%run data_analysis_functions.ipynb"
     ],
     "language": "python",
     "metadata": {},
     "outputs": [],
     "prompt_number": 7
    },
    {
     "cell_type": "code",
     "collapsed": false,
     "input": [
      "%run simulation_functions.ipynb"
     ],
     "language": "python",
     "metadata": {},
     "outputs": [],
     "prompt_number": 8
    },
    {
     "cell_type": "code",
     "collapsed": false,
     "input": [
      "#data and parameters\n",
      "x_max= 100.\n",
      "x= np.linspace(0.,x_max,100)\n",
      "\n",
      "#p=np.array([1.5,0.5,0.4,0.3,0.6,0.7,0.0,0.0,-0.5,0.01,0.01])\n",
      "#p=np.random.uniform(low=-0.2,high=5.0,size=4)\n",
      "#p= np.append(p,np.zeros(16))\n",
      "\n",
      "p_per_hour= np.array([0.04,0.15,0.1,0.04,0.0])\n",
      "p_var_i= [0,1,2,3,4]\n",
      "p_per_hour= np.append(p_per_hour,np.zeros(15))\n",
      "\n",
      "print p_per_hour\n",
      "print 'num parameters: ' + str(p_per_hour.size)\n",
      "plt.plot(x,[proliferation_profile(p=p_per_hour,x_max=x_max)(x_i) for x_i in x])\n",
      "plt.show()\n",
      "\n",
      "k_prolif= proliferation_profile(p=p_per_hour,x_max=x_max)\n",
      "vel= [sp.integrate.quad(k_prolif,0,xs)[0] for xs in x]\n",
      "plt.plot(x,vel)\n",
      "plt.show()\n",
      "\n",
      "#-data to use\n",
      "data_dir='../data-working/TXT_BrdU/'\n",
      "sample_type='BrdU'\n",
      "actual_out_times= np.array([120.,360.,600.])#,1920.])\n",
      "\n",
      "#GLP2_01\n",
      "#Low\n",
      "#data_dir='../data-working/TXT_GLP2_01_Ileums/Low/'\n",
      "#sample_type='GLP2_01_Ileums_Low'\n",
      "#actual_times= np.array([1500.,2400.])\n",
      "#Med\n",
      "#data_dir='../data-working/TXT_GLP2_01_Ileums/Med/'\n",
      "#sample_type='GLP2_01_Ileums_Med'\n",
      "#actual_times= np.array([60.,1020.,2460.])\n",
      "#High\n",
      "#data_dir='../data-working/TXT_GLP2_01_Ileums/High/'\n",
      "#sample_type='GLP2_01_Ileums_High'\n",
      "#actual_times= np.array([1020.,2460.])\n",
      "\n",
      "#re-scale from per hour (from paper)\n",
      "time_scale_min= np.max(actual_out_times)-np.min(actual_out_times)\n",
      "p_non_dim = time_scale_min*p_per_hour/60.\n",
      "\n",
      "print p_non_dim\n",
      "print 'num parameters: ' + str(p_non_dim.size)\n",
      "plt.plot(x,[proliferation_profile(p=p_non_dim,x_max=x_max)(x_i) for x_i in x])\n",
      "plt.show()"
     ],
     "language": "python",
     "metadata": {},
     "outputs": [
      {
       "output_type": "stream",
       "stream": "stdout",
       "text": [
        "[ 0.04  0.15  0.1   0.04  0.    0.    0.    0.    0.    0.    0.    0.    0.\n",
        "  0.    0.    0.    0.    0.    0.    0.  ]\n",
        "num parameters: 20\n"
       ]
      },
      {
       "output_type": "stream",
       "stream": "stderr",
       "text": [
        "/Users/user/anaconda/lib/python2.7/site-packages/matplotlib/figure.py:1595: UserWarning: This figure includes Axes that are not compatible with tight_layout, so its results might be incorrect.\n",
        "  warnings.warn(\"This figure includes Axes that are not \"\n"
       ]
      },
      {
       "metadata": {},
       "output_type": "display_data",
       "png": "[encoded data removed]",
       "text": [
        "<matplotlib.figure.Figure at 0x1095bcdd0>"
       ]
      },
      {
       "output_type": "stream",
       "stream": "stderr",
       "text": [
        "/Users/user/anaconda/lib/python2.7/site-packages/scipy/integrate/quadpack.py:295: UserWarning: The maximum number of subdivisions (50) has been achieved.\n",
        "  If increasing the limit yields no improvement it is advised to analyze \n",
        "  the integrand in order to determine the difficulties.  If the position of a \n",
        "  local difficulty can be determined (singularity, discontinuity) one will \n",
        "  probably gain from splitting up the interval and calling the integrator \n",
        "  on the subranges.  Perhaps a special-purpose integrator should be used.\n",
        "  warnings.warn(msg)\n"
       ]
      },
      {
       "metadata": {},
       "output_type": "display_data",
       "png": "[encoded data removed]",
       "text": [
        "<matplotlib.figure.Figure at 0x109998410>"
       ]
      },
      {
       "output_type": "stream",
       "stream": "stdout",
       "text": [
        "[ 0.32  1.2   0.8   0.32  0.    0.    0.    0.    0.    0.    0.    0.    0.\n",
        "  0.    0.    0.    0.    0.    0.    0.  ]\n",
        "num parameters: 20\n"
       ]
      },
      {
       "metadata": {},
       "output_type": "display_data",
       "png": "[encoded data removed]",
       "text": [
        "<matplotlib.figure.Figure at 0x10936c4d0>"
       ]
      }
     ],
     "prompt_number": 9
    },
    {
     "cell_type": "code",
     "collapsed": false,
     "input": [
      "#test using proliferation function to create an array\n",
      "my = np.zeros(len(x))\n",
      "my = np.array([k_prolif(x[i]) for i in range(len(x))])\n",
      "print my\n",
      "print my.shape"
     ],
     "language": "python",
     "metadata": {},
     "outputs": [
      {
       "output_type": "stream",
       "stream": "stdout",
       "text": [
        "[ 0.04  0.04  0.04  0.04  0.04  0.04  0.15  0.15  0.15  0.15  0.15  0.1\n",
        "  0.1   0.1   0.1   0.1   0.04  0.04  0.04  0.04  0.04  0.    0.    0.    0.\n",
        "  0.    0.    0.    0.    0.    0.    0.    0.    0.    0.    0.    0.    0.\n",
        "  0.    0.    0.    0.    0.    0.    0.    0.    0.    0.    0.    0.    0.\n",
        "  0.    0.    0.    0.    0.    0.    0.    0.    0.    0.    0.    0.    0.\n",
        "  0.    0.    0.    0.    0.    0.    0.    0.    0.    0.    0.    0.    0.\n",
        "  0.    0.    0.    0.    0.    0.    0.    0.    0.    0.    0.    0.    0.\n",
        "  0.    0.    0.    0.    0.    0.    0.    0.    0.    0.  ]\n",
        "(100,)\n"
       ]
      }
     ],
     "prompt_number": 10
    },
    {
     "cell_type": "markdown",
     "metadata": {},
     "source": [
      "## FiPy version"
     ]
    },
    {
     "cell_type": "markdown",
     "metadata": {},
     "source": [
      "### Function version"
     ]
    },
    {
     "cell_type": "code",
     "collapsed": false,
     "input": [
      "%run extended_simulation_functions.ipynb"
     ],
     "language": "python",
     "metadata": {},
     "outputs": [],
     "prompt_number": 11
    },
    {
     "cell_type": "code",
     "collapsed": false,
     "input": [
      "end_time = 2.0\n",
      "proliferation_correction_factor = 0.8\n",
      "nx = 5000. #10000\n",
      "dt = .01\n",
      "x_max_fp = 100.\n",
      "Lfp, vfp, kfp, xfp = construct_and_run_fp_sim(k_prolif=k_prolif,time_scale_min=time_scale_min,x_max_fp = x_max_fp ,nx= nx,end_time=end_time,dt = dt,proliferation_correction_factor = proliferation_correction_factor,data_dir=data_dir,sample_type=sample_type)"
     ],
     "language": "python",
     "metadata": {},
     "outputs": [
      {
       "output_type": "stream",
       "stream": "stdout",
       "text": [
        "here\n",
        "../data-working/TXT_BrdU/BrdU_01_0120min.txt\n",
        "time taken: 24.0084691048"
       ]
      },
      {
       "output_type": "stream",
       "stream": "stdout",
       "text": [
        "\n"
       ]
      }
     ],
     "prompt_number": 12
    },
    {
     "cell_type": "code",
     "collapsed": false,
     "input": [
      "plt.plot(xfp, Lfp)"
     ],
     "language": "python",
     "metadata": {},
     "outputs": [
      {
       "metadata": {},
       "output_type": "pyout",
       "prompt_number": 13,
       "text": [
        "[<matplotlib.lines.Line2D at 0x109da5b10>]"
       ]
      },
      {
       "metadata": {},
       "output_type": "display_data",
       "png": "[encoded data removed]",
       "text": [
        "<matplotlib.figure.Figure at 0x1099a37d0>"
       ]
      }
     ],
     "prompt_number": 13
    },
    {
     "cell_type": "markdown",
     "metadata": {},
     "source": [
      "### Original FiPy working"
     ]
    },
    {
     "cell_type": "code",
     "collapsed": false,
     "input": [
      "# need e.g.: export PYTHONPATH=~/Dropbox/PythonWorkspaceDrop/FiPy-3.1/\n",
      "from fipy import *"
     ],
     "language": "python",
     "metadata": {},
     "outputs": [],
     "prompt_number": 14
    },
    {
     "cell_type": "code",
     "collapsed": false,
     "input": [
      "#domain, mesh options\n",
      "#Length=100.\n",
      "x_max_fp = 100.\n",
      "nx= 10000 #5000 OK\n",
      "#nx= 200 #5000 OK\n",
      "dx= x_max_fp/nx\n",
      "print dx\n",
      "mesh= Grid1D(dx=dx,nx=nx)\n",
      "#FiPy variables\n",
      "k_cv= CellVariable(name=\"$k(x)$\",mesh=mesh,value=0.0)\n",
      "x_cv= CellVariable(name=r\"$x$\",mesh=mesh,value=0)\n",
      "x_cv= mesh.cellCenters\n",
      "\n",
      "#Set values based on data via np arrays (todo - better way?)\n",
      "x_cv_array = np.array(x_cv[0])\n",
      "diffusion_correction_factor = 0.8#to demonstrate overestimation due to pure advection\n",
      "k_cv_array = diffusion_correction_factor*(time_scale_min/60.)*np.array([k_prolif(x_cv_array[i]) for i in range(len(x_cv_array))])\n",
      "k_cv.setValue(k_cv_array)\n",
      "\n",
      "#k_cv[:] = k_cv_array[:] #also works\n",
      "#plt.plot(x_cv.getValue()[0],k_cv.getValue()) #also works\n",
      "plt.plot(x_cv[0],k_cv.getValue())"
     ],
     "language": "python",
     "metadata": {},
     "outputs": [
      {
       "output_type": "stream",
       "stream": "stdout",
       "text": [
        "0.01\n"
       ]
      },
      {
       "metadata": {},
       "output_type": "pyout",
       "prompt_number": 15,
       "text": [
        "[<matplotlib.lines.Line2D at 0x109ede810>]"
       ]
      },
      {
       "metadata": {},
       "output_type": "display_data",
       "png": "[encoded data removed]",
       "text": [
        "<matplotlib.figure.Figure at 0x109e7f090>"
       ]
      }
     ],
     "prompt_number": 15
    },
    {
     "cell_type": "markdown",
     "metadata": {},
     "source": [
      "testing\n",
      "print k_cv.shape\n",
      "x_cv_array = np.array(x_cv[0])\n",
      "print len(a)\n",
      "print len(x_cv[0])\n",
      "[x_cv_array[i] for i in range(len(x_cv_array))]"
     ]
    },
    {
     "cell_type": "code",
     "collapsed": false,
     "input": [
      "#solve steady velocity equation separately (for now)\n",
      "#create vars and set initial conditions\n",
      "v0= 0.0\n",
      "v_cv= CellVariable(name=r\"velocity\",mesh=mesh,value=v0,hasOld=1)\n",
      "#set boundary conditions\n",
      "v_cv.constrain(v0,mesh.facesLeft)\n",
      "#fake outflow condition - to stop enforcing no flux condition. Need to change?\n",
      "v_cv.faceGrad.constrain([0],mesh.facesRight)\n",
      "#v_cv.faceGrad.constrain([0],mesh.facesLeft)\n",
      "\n",
      "#define equation and solve (no time loop here because steady-state)\n",
      "eq1= PowerLawConvectionTerm(coeff=(1.,),var=v_cv) == k_cv #-ImplicitSourceTerm(alpha)\n",
      "#residual/sweep loop\n",
      "res = 1e+10\n",
      "while res > 1e-10: #desiredRes:\n",
      "    res= eq1.sweep() #take one step and return residual but don't yet update.\n",
      "    #update once tol met.\n",
      "v_cv.updateOld()\n",
      "#eq1.solve()"
     ],
     "language": "python",
     "metadata": {},
     "outputs": [],
     "prompt_number": 16
    },
    {
     "cell_type": "code",
     "collapsed": false,
     "input": [
      "#plot so far\n",
      "viewer= Viewer(vars=(v_cv),ymax=2*max(v_cv))\n",
      "viewer.plot()"
     ],
     "language": "python",
     "metadata": {},
     "outputs": [
      {
       "output_type": "stream",
       "stream": "stderr",
       "text": [
        "/Users/user/Dropbox/PythonWorkspaceDrop/FiPy-3.1/fipy/viewers/matplotlibViewer/__init__.py:113: UserWarning: Matplotlib1DViewer efficiency is improved by setting the 'datamax' and 'datamin' keys\n",
        "  return Matplotlib1DViewer(vars=vars, title=title, axes=axes, **kwlimits)\n"
       ]
      },
      {
       "metadata": {},
       "output_type": "display_data",
       "png": "[encoded data removed]",
       "text": [
        "<matplotlib.figure.Figure at 0x10b3d7c10>"
       ]
      }
     ],
     "prompt_number": 17
    },
    {
     "cell_type": "code",
     "collapsed": false,
     "input": [
      "#L initial solution\n",
      "L0= 0.0\n",
      "L_cv0= CellVariable(name=r\"labelled fraction\",mesh=mesh,value=L0,hasOld=1)\n",
      "\n",
      "#get initial condition\n",
      "files_in_dir= os.listdir(data_dir)\n",
      "files_in_dir.sort() #assumes files have same name format!!\n",
      "\n",
      "start= actual_out_times[0]\n",
      "\n",
      "precision_time=4\n",
      "time_format= '%0'+('%1d' % precision_time)+'d'\n",
      "file_ic= get_data_file(data_dir,time_format%start)\n",
      "\n",
      "density_results= process_and_fit_label_data_file(data_dir=data_dir,file_to_fit=file_ic,sample_type=sample_type,x_max=x_max,do_plot=False)\n",
      "initial_profile_f= density_results[-1]\n",
      "plt.plot(x_cv[0],initial_profile_f(x_cv[0]))\n",
      "\n",
      "L_cv0.setValue(initial_profile_f(x_cv[0]))\n",
      "\n",
      "#viewer= Viewer(vars=(L_cv),xmin=0,ymin=0,ymax=1.0)\n",
      "plt.plot(x_cv[0],L_cv0.getValue(),'-r')"
     ],
     "language": "python",
     "metadata": {},
     "outputs": [
      {
       "output_type": "stream",
       "stream": "stdout",
       "text": [
        "here\n",
        "../data-working/TXT_BrdU/BrdU_01_0120min.txt\n"
       ]
      },
      {
       "metadata": {},
       "output_type": "pyout",
       "prompt_number": 18,
       "text": [
        "[<matplotlib.lines.Line2D at 0x109e06390>]"
       ]
      },
      {
       "metadata": {},
       "output_type": "display_data",
       "png": "[encoded data removed]",
       "text": [
        "<matplotlib.figure.Figure at 0x109c97390>"
       ]
      }
     ],
     "prompt_number": 18
    },
    {
     "cell_type": "code",
     "collapsed": false,
     "input": [
      "#solve L equation\n",
      "time = Variable()\n",
      "time.setValue(0) \n",
      "#desiredRes= 1e-5\n",
      "dt = .05\n",
      "\n",
      "#NOTE initialisation\n",
      "#L0= CellVariable(name=\"$L0(x)$\",mesh=mesh,value=0.0)\n",
      "#L0.setValue(0.1,where=(x_cv<=2))\n",
      "#L0.setValue(0.4,where=(x_cv>2)&(x_cv<=3))\n",
      "#L0.setValue(0.0,where=(x_cv>3))\n",
      "L_cv= CellVariable(name=r\"labelled fraction\",mesh=mesh,value=L_cv0,hasOld=1)\n",
      "\n",
      "#L_cv.setValue(initial_profile_f(x_cv[0]))\n",
      "#print L_cv.getValue()\n",
      "\n",
      "#v_cv.constrain([0.0],mesh.facesLeft)\n",
      "#fake outflow condition - to stop enforcing no flux condition. Need to change?\n",
      "v_cv.faceGrad.constrain([0],mesh.facesLeft)\n",
      "v_cv.faceGrad.constrain([0],mesh.facesRight)\n",
      "\n",
      "#--with diffusion and cross term\n",
      "#eq2= TransientTerm(var=L_cv) + PowerLawConvectionTerm(coeff=v_cv*[[1.0]],var=L_cv)- 0.5*PowerLawConvectionTerm(coeff=k_cv*[[1.0]],var=L_cv) ==  DiffusionTerm(coeff=0.5*v_cv,var=L_cv)+ImplicitSourceTerm(coeff=k_cv,var=L_cv) - 0.5*L_cv*(v_cv.faceGrad).divergence\n",
      "\n",
      "#--with 'outside' diffusion, using cancelling\n",
      "eq2= TransientTerm(var=L_cv) + PowerLawConvectionTerm(coeff=v_cv*[[1.0]],var=L_cv)+ PowerLawConvectionTerm(coeff=k_cv*[[0.5]],var=L_cv) ==  DiffusionTerm(coeff=0.5*v_cv,var=L_cv)+ImplicitSourceTerm(coeff=k_cv,var=L_cv) + 0.5*L_cv*(v_cv.faceGrad).divergence\n",
      "\n",
      "#--with 'inside' diffusion\n",
      "#eq2= TransientTerm(var=L_cv) + PowerLawConvectionTerm(coeff=v_cv*[[1.0]],var=L_cv) ==  DiffusionTerm(coeff=0.5*v_cv,var=L_cv)+ImplicitSourceTerm(coeff=k_cv,var=L_cv)\n",
      "\n",
      "#--with standard advection\n",
      "#rescale = 0.1\n",
      "#eq2= TransientTerm(var=L_cv) + PowerLawConvectionTerm(coeff=v_cv*[[1.0]],var=L_cv) ==  ImplicitSourceTerm(coeff=k_cv,var=L_cv)\n",
      "\n",
      "#-- standard advection with numerical diffusion\n",
      "#eq2= TransientTerm(var=L_cv) + UpwindConvectionTerm(coeff=v_cv*[[1.0]],var=L_cv) ==  ImplicitSourceTerm(coeff=k_cv,var=L_cv)\n",
      "\n",
      "import time as timer\n",
      "t0 = timer.time()\n",
      "\n",
      "while time() < 2.0:\n",
      "    time.setValue(time() + dt)\n",
      "    #residual/sweep loop\n",
      "    res = 1e+10\n",
      "    while res > 1e-10: #desiredRes:\n",
      "        res= eq2.sweep(var=L_cv,dt=dt) #take one step and return residual but don't yet update.\n",
      "        #eq2.solve(var=L, dt=dt) #replaced!\n",
      "    #update once tol met.\n",
      "    L_cv.updateOld()\n",
      "\n",
      "tf = timer.time()\n",
      "print 'time taken: '+ np.str(tf-t0)\n",
      "viewer= Viewer(vars=(L_cv),xmin=0,xmax=50,ymin=0,ymax=1.0)\n",
      "viewer= Viewer(vars=(v_cv),xmin=0,xmax=50,ymin=0)\n",
      "viewer= Viewer(vars=(k_cv),xmin=0,xmax=50,ymin=0)\n",
      "#print L_cv.getValue()"
     ],
     "language": "python",
     "metadata": {},
     "outputs": [
      {
       "output_type": "stream",
       "stream": "stdout",
       "text": [
        "time taken: 44.0181977749\n"
       ]
      },
      {
       "metadata": {},
       "output_type": "display_data",
       "png": "[encoded data removed]",
       "text": [
        "<matplotlib.figure.Figure at 0x10b203890>"
       ]
      },
      {
       "metadata": {},
       "output_type": "display_data",
       "png": "[encoded data removed]",
       "text": [
        "<matplotlib.figure.Figure at 0x10b068450>"
       ]
      },
      {
       "metadata": {},
       "output_type": "display_data",
       "png": "[encoded data removed]",
       "text": [
        "<matplotlib.figure.Figure at 0x10bf4ac10>"
       ]
      }
     ],
     "prompt_number": 19
    },
    {
     "cell_type": "code",
     "collapsed": false,
     "input": [],
     "language": "python",
     "metadata": {},
     "outputs": [],
     "prompt_number": 19
    },
    {
     "cell_type": "code",
     "collapsed": false,
     "input": [
      "#x_temp= x_cv.getValue()[0]\n",
      "#L_temp= L_cv.getValue()"
     ],
     "language": "python",
     "metadata": {},
     "outputs": [],
     "prompt_number": 20
    },
    {
     "cell_type": "code",
     "collapsed": false,
     "input": [
      "#x_temp_2= x_cv.getValue()[0]\n",
      "#L_temp_2= L_cv.getValue()"
     ],
     "language": "python",
     "metadata": {},
     "outputs": [],
     "prompt_number": 21
    },
    {
     "cell_type": "code",
     "collapsed": false,
     "input": [
      "x_temp_4= x_cv.getValue()[0]\n",
      "L_temp_4= L_cv.getValue()"
     ],
     "language": "python",
     "metadata": {},
     "outputs": [],
     "prompt_number": 22
    },
    {
     "cell_type": "code",
     "collapsed": false,
     "input": [
      "#solve L equation\n",
      "time = Variable()\n",
      "time.setValue(0) \n",
      "#desiredRes= 1e-5\n",
      "dt = .05\n",
      "\n",
      "#NOTE initialisation\n",
      "#L0= CellVariable(name=\"$L0(x)$\",mesh=mesh,value=0.0)\n",
      "#L0.setValue(0.1,where=(x_cv<=2))\n",
      "#L0.setValue(0.4,where=(x_cv>2)&(x_cv<=3))\n",
      "#L0.setValue(0.0,where=(x_cv>3))\n",
      "L_cv= CellVariable(name=r\"labelled fraction\",mesh=mesh,value=L_cv0,hasOld=1)\n",
      "\n",
      "#L_cv.setValue(initial_profile_f(x_cv[0]))\n",
      "#print L_cv.getValue()\n",
      "\n",
      "#v_cv.constrain([0.0],mesh.facesLeft)\n",
      "#fake outflow condition - to stop enforcing no flux condition. Need to change?\n",
      "v_cv.faceGrad.constrain([0],mesh.facesLeft)\n",
      "v_cv.faceGrad.constrain([0],mesh.facesRight)\n",
      "\n",
      "#--with diffusion and cross term\n",
      "#eq2= TransientTerm(var=L_cv) + PowerLawConvectionTerm(coeff=v_cv*[[1.0]],var=L_cv)- 0.5*PowerLawConvectionTerm(coeff=k_cv*[[1.0]],var=L_cv) ==  DiffusionTerm(coeff=0.5*v_cv,var=L_cv)+ImplicitSourceTerm(coeff=k_cv,var=L_cv) - 0.5*L_cv*(v_cv.faceGrad).divergence\n",
      "\n",
      "#--with 'outside' diffusion, using cancelling\n",
      "#eq2= TransientTerm(var=L_cv) + PowerLawConvectionTerm(coeff=v_cv*[[1.0]],var=L_cv)+ PowerLawConvectionTerm(coeff=k_cv*[[0.5]],var=L_cv) ==  DiffusionTerm(coeff=0.5*v_cv,var=L_cv)+ImplicitSourceTerm(coeff=k_cv,var=L_cv) + 0.5*L_cv*(v_cv.faceGrad).divergence\n",
      "\n",
      "#--with 'inside' diffusion\n",
      "#eq2= TransientTerm(var=L_cv) + PowerLawConvectionTerm(coeff=v_cv*[[1.0]],var=L_cv) ==  DiffusionTerm(coeff=0.5*v_cv,var=L_cv)+ImplicitSourceTerm(coeff=k_cv,var=L_cv)\n",
      "\n",
      "#--with standard advection\n",
      "#rescale = 0.1\n",
      "eq2= TransientTerm(var=L_cv) + PowerLawConvectionTerm(coeff=v_cv*[[1.0]],var=L_cv) ==  ImplicitSourceTerm(coeff=k_cv,var=L_cv)\n",
      "\n",
      "#-- standard advection with numerical diffusion\n",
      "#eq2= TransientTerm(var=L_cv) + UpwindConvectionTerm(coeff=v_cv*[[1.0]],var=L_cv) ==  ImplicitSourceTerm(coeff=k_cv,var=L_cv)\n",
      "\n",
      "import time as timer\n",
      "t0 = timer.time()\n",
      "\n",
      "while time() < 2.0:\n",
      "    time.setValue(time() + dt)\n",
      "    #residual/sweep loop\n",
      "    res = 1e+10\n",
      "    while res > 1e-10: #desiredRes:\n",
      "        res= eq2.sweep(var=L_cv,dt=dt) #take one step and return residual but don't yet update.\n",
      "        #eq2.solve(var=L, dt=dt) #replaced!\n",
      "    #update once tol met.\n",
      "    L_cv.updateOld()\n",
      "\n",
      "tf = timer.time()\n",
      "print 'time taken: '+ np.str(tf-t0)\n",
      "viewer= Viewer(vars=(L_cv),xmin=0,xmax=50,ymin=0,ymax=1.0)\n",
      "viewer= Viewer(vars=(v_cv),xmin=0,xmax=50,ymin=0)\n",
      "viewer= Viewer(vars=(k_cv),xmin=0,xmax=50,ymin=0)\n",
      "#print L_cv.getValue()"
     ],
     "language": "python",
     "metadata": {},
     "outputs": [
      {
       "output_type": "stream",
       "stream": "stdout",
       "text": [
        "time taken: 11.2511639595\n"
       ]
      },
      {
       "metadata": {},
       "output_type": "display_data",
       "png": "[encoded data removed]",
       "text": [
        "<matplotlib.figure.Figure at 0x10cedff10>"
       ]
      },
      {
       "metadata": {},
       "output_type": "display_data",
       "png": "[encoded data removed]",
       "text": [
        "<matplotlib.figure.Figure at 0x10cecf810>"
       ]
      },
      {
       "metadata": {},
       "output_type": "display_data",
       "png": "[encoded data removed]",
       "text": [
        "<matplotlib.figure.Figure at 0x10bf1b3d0>"
       ]
      }
     ],
     "prompt_number": 23
    },
    {
     "cell_type": "code",
     "collapsed": false,
     "input": [
      "x_temp_3= x_cv.getValue()[0]\n",
      "L_temp_3= L_cv.getValue()"
     ],
     "language": "python",
     "metadata": {},
     "outputs": [],
     "prompt_number": 24
    },
    {
     "cell_type": "code",
     "collapsed": false,
     "input": [
      "#plt.plot(x_temp,L_temp,'b')#advection\n",
      "#plt.plot(x_temp_2,L_temp_2,'r')#'inside diffusion'\n",
      "#plt.plot(x_temp_3,L_temp_3,'g')#'outside diffusion'\n",
      "plt.plot(x_temp_4,L_temp_4,'y')#'outside diffusion+cross term'\n",
      "plt.plot(xfp, Lfp,'--')\n",
      "plt.ylim(0,1.0)\n",
      "plt.xlim(0,50)"
     ],
     "language": "python",
     "metadata": {},
     "outputs": [
      {
       "metadata": {},
       "output_type": "pyout",
       "prompt_number": 25,
       "text": [
        "(0, 50)"
       ]
      },
      {
       "metadata": {},
       "output_type": "display_data",
       "png": "[encoded data removed]",
       "text": [
        "<matplotlib.figure.Figure at 0x10b04d850>"
       ]
      }
     ],
     "prompt_number": 25
    },
    {
     "cell_type": "code",
     "collapsed": false,
     "input": [
      "plt.plot(x_temp,L_temp-L_temp_2,'r')\n",
      "plt.plot(x_temp,L_temp-L_temp_3,'g')\n",
      "#plt.plot(x_temp,L_temp-L_temp_4,'y')"
     ],
     "language": "python",
     "metadata": {},
     "outputs": [
      {
       "ename": "NameError",
       "evalue": "name 'x_temp' is not defined",
       "output_type": "pyerr",
       "traceback": [
        "\u001b[0;31m---------------------------------------------------------------------------\u001b[0m\n\u001b[0;31mNameError\u001b[0m                                 Traceback (most recent call last)",
        "\u001b[0;32m<ipython-input-26-680bde70d9ee>\u001b[0m in \u001b[0;36m<module>\u001b[0;34m()\u001b[0m\n\u001b[0;32m----> 1\u001b[0;31m \u001b[0mplt\u001b[0m\u001b[0;34m.\u001b[0m\u001b[0mplot\u001b[0m\u001b[0;34m(\u001b[0m\u001b[0mx_temp\u001b[0m\u001b[0;34m,\u001b[0m\u001b[0mL_temp\u001b[0m\u001b[0;34m-\u001b[0m\u001b[0mL_temp_2\u001b[0m\u001b[0;34m,\u001b[0m\u001b[0;34m'r'\u001b[0m\u001b[0;34m)\u001b[0m\u001b[0;34m\u001b[0m\u001b[0m\n\u001b[0m\u001b[1;32m      2\u001b[0m \u001b[0mplt\u001b[0m\u001b[0;34m.\u001b[0m\u001b[0mplot\u001b[0m\u001b[0;34m(\u001b[0m\u001b[0mx_temp\u001b[0m\u001b[0;34m,\u001b[0m\u001b[0mL_temp\u001b[0m\u001b[0;34m-\u001b[0m\u001b[0mL_temp_3\u001b[0m\u001b[0;34m,\u001b[0m\u001b[0;34m'g'\u001b[0m\u001b[0;34m)\u001b[0m\u001b[0;34m\u001b[0m\u001b[0m\n\u001b[1;32m      3\u001b[0m \u001b[0;31m#plt.plot(x_temp,L_temp-L_temp_4,'y')\u001b[0m\u001b[0;34m\u001b[0m\u001b[0;34m\u001b[0m\u001b[0m\n",
        "\u001b[0;31mNameError\u001b[0m: name 'x_temp' is not defined"
       ]
      }
     ],
     "prompt_number": 26
    },
    {
     "cell_type": "markdown",
     "metadata": {},
     "source": [
      "### Scratchwork for FiPy"
     ]
    },
    {
     "cell_type": "code",
     "collapsed": false,
     "input": [
      "a = [[1]]\n",
      "a[0]"
     ],
     "language": "python",
     "metadata": {},
     "outputs": [
      {
       "metadata": {},
       "output_type": "pyout",
       "prompt_number": 27,
       "text": [
        "[1]"
       ]
      }
     ],
     "prompt_number": 27
    },
    {
     "cell_type": "code",
     "collapsed": false,
     "input": [
      "f= np.sin\n",
      "plt.plot(f(x.getValue()[0]))"
     ],
     "language": "python",
     "metadata": {},
     "outputs": [
      {
       "ename": "AttributeError",
       "evalue": "'numpy.ndarray' object has no attribute 'getValue'",
       "output_type": "pyerr",
       "traceback": [
        "\u001b[0;31m---------------------------------------------------------------------------\u001b[0m\n\u001b[0;31mAttributeError\u001b[0m                            Traceback (most recent call last)",
        "\u001b[0;32m<ipython-input-28-56e295a68fc4>\u001b[0m in \u001b[0;36m<module>\u001b[0;34m()\u001b[0m\n\u001b[1;32m      1\u001b[0m \u001b[0mf\u001b[0m\u001b[0;34m=\u001b[0m \u001b[0mnp\u001b[0m\u001b[0;34m.\u001b[0m\u001b[0msin\u001b[0m\u001b[0;34m\u001b[0m\u001b[0m\n\u001b[0;32m----> 2\u001b[0;31m \u001b[0mplt\u001b[0m\u001b[0;34m.\u001b[0m\u001b[0mplot\u001b[0m\u001b[0;34m(\u001b[0m\u001b[0mf\u001b[0m\u001b[0;34m(\u001b[0m\u001b[0mx\u001b[0m\u001b[0;34m.\u001b[0m\u001b[0mgetValue\u001b[0m\u001b[0;34m(\u001b[0m\u001b[0;34m)\u001b[0m\u001b[0;34m[\u001b[0m\u001b[0;36m0\u001b[0m\u001b[0;34m]\u001b[0m\u001b[0;34m)\u001b[0m\u001b[0;34m)\u001b[0m\u001b[0;34m\u001b[0m\u001b[0m\n\u001b[0m",
        "\u001b[0;31mAttributeError\u001b[0m: 'numpy.ndarray' object has no attribute 'getValue'"
       ]
      }
     ],
     "prompt_number": 28
    },
    {
     "cell_type": "code",
     "collapsed": false,
     "input": [
      "b = ((1,),)\n",
      "b[0]"
     ],
     "language": "python",
     "metadata": {},
     "outputs": []
    },
    {
     "cell_type": "code",
     "collapsed": false,
     "input": [
      "(v*[[1]]).shape"
     ],
     "language": "python",
     "metadata": {},
     "outputs": [
      {
       "ename": "NameError",
       "evalue": "name 'v' is not defined",
       "output_type": "pyerr",
       "traceback": [
        "\u001b[0;31m---------------------------------------------------------------------------\u001b[0m\n\u001b[0;31mNameError\u001b[0m                                 Traceback (most recent call last)",
        "\u001b[0;32m<ipython-input-29-8a397ea007cf>\u001b[0m in \u001b[0;36m<module>\u001b[0;34m()\u001b[0m\n\u001b[0;32m----> 1\u001b[0;31m \u001b[0;34m(\u001b[0m\u001b[0mv\u001b[0m\u001b[0;34m*\u001b[0m\u001b[0;34m[\u001b[0m\u001b[0;34m[\u001b[0m\u001b[0;36m1\u001b[0m\u001b[0;34m]\u001b[0m\u001b[0;34m]\u001b[0m\u001b[0;34m)\u001b[0m\u001b[0;34m.\u001b[0m\u001b[0mshape\u001b[0m\u001b[0;34m\u001b[0m\u001b[0m\n\u001b[0m",
        "\u001b[0;31mNameError\u001b[0m: name 'v' is not defined"
       ]
      }
     ],
     "prompt_number": 29
    },
    {
     "cell_type": "code",
     "collapsed": false,
     "input": [
      "vel= FaceVariable(name=r\"velocity_face\",mesh=mesh,value=0.0,rank=1)\n",
      "print v.shape\n",
      "print v.getFaceValue().shape\n",
      "print v.getFaceValue()\n",
      "print vel.getValue().shape\n",
      "print vel.getValue()"
     ],
     "language": "python",
     "metadata": {},
     "outputs": [
      {
       "ename": "NameError",
       "evalue": "name 'v' is not defined",
       "output_type": "pyerr",
       "traceback": [
        "\u001b[0;31m---------------------------------------------------------------------------\u001b[0m\n\u001b[0;31mNameError\u001b[0m                                 Traceback (most recent call last)",
        "\u001b[0;32m<ipython-input-30-6262da570ab8>\u001b[0m in \u001b[0;36m<module>\u001b[0;34m()\u001b[0m\n\u001b[1;32m      1\u001b[0m \u001b[0mvel\u001b[0m\u001b[0;34m=\u001b[0m \u001b[0mFaceVariable\u001b[0m\u001b[0;34m(\u001b[0m\u001b[0mname\u001b[0m\u001b[0;34m=\u001b[0m\u001b[0;34mr\"velocity_face\"\u001b[0m\u001b[0;34m,\u001b[0m\u001b[0mmesh\u001b[0m\u001b[0;34m=\u001b[0m\u001b[0mmesh\u001b[0m\u001b[0;34m,\u001b[0m\u001b[0mvalue\u001b[0m\u001b[0;34m=\u001b[0m\u001b[0;36m0.0\u001b[0m\u001b[0;34m,\u001b[0m\u001b[0mrank\u001b[0m\u001b[0;34m=\u001b[0m\u001b[0;36m1\u001b[0m\u001b[0;34m)\u001b[0m\u001b[0;34m\u001b[0m\u001b[0m\n\u001b[0;32m----> 2\u001b[0;31m \u001b[0;32mprint\u001b[0m \u001b[0mv\u001b[0m\u001b[0;34m.\u001b[0m\u001b[0mshape\u001b[0m\u001b[0;34m\u001b[0m\u001b[0m\n\u001b[0m\u001b[1;32m      3\u001b[0m \u001b[0;32mprint\u001b[0m \u001b[0mv\u001b[0m\u001b[0;34m.\u001b[0m\u001b[0mgetFaceValue\u001b[0m\u001b[0;34m(\u001b[0m\u001b[0;34m)\u001b[0m\u001b[0;34m.\u001b[0m\u001b[0mshape\u001b[0m\u001b[0;34m\u001b[0m\u001b[0m\n\u001b[1;32m      4\u001b[0m \u001b[0;32mprint\u001b[0m \u001b[0mv\u001b[0m\u001b[0;34m.\u001b[0m\u001b[0mgetFaceValue\u001b[0m\u001b[0;34m(\u001b[0m\u001b[0;34m)\u001b[0m\u001b[0;34m\u001b[0m\u001b[0m\n\u001b[1;32m      5\u001b[0m \u001b[0;32mprint\u001b[0m \u001b[0mvel\u001b[0m\u001b[0;34m.\u001b[0m\u001b[0mgetValue\u001b[0m\u001b[0;34m(\u001b[0m\u001b[0;34m)\u001b[0m\u001b[0;34m.\u001b[0m\u001b[0mshape\u001b[0m\u001b[0;34m\u001b[0m\u001b[0m\n",
        "\u001b[0;31mNameError\u001b[0m: name 'v' is not defined"
       ]
      }
     ],
     "prompt_number": 30
    },
    {
     "cell_type": "code",
     "collapsed": false,
     "input": [
      "(v*[[1]]).rank"
     ],
     "language": "python",
     "metadata": {},
     "outputs": [
      {
       "ename": "NameError",
       "evalue": "name 'v' is not defined",
       "output_type": "pyerr",
       "traceback": [
        "\u001b[0;31m---------------------------------------------------------------------------\u001b[0m\n\u001b[0;31mNameError\u001b[0m                                 Traceback (most recent call last)",
        "\u001b[0;32m<ipython-input-31-3541cd299d8f>\u001b[0m in \u001b[0;36m<module>\u001b[0;34m()\u001b[0m\n\u001b[0;32m----> 1\u001b[0;31m \u001b[0;34m(\u001b[0m\u001b[0mv\u001b[0m\u001b[0;34m*\u001b[0m\u001b[0;34m[\u001b[0m\u001b[0;34m[\u001b[0m\u001b[0;36m1\u001b[0m\u001b[0;34m]\u001b[0m\u001b[0;34m]\u001b[0m\u001b[0;34m)\u001b[0m\u001b[0;34m.\u001b[0m\u001b[0mrank\u001b[0m\u001b[0;34m\u001b[0m\u001b[0m\n\u001b[0m",
        "\u001b[0;31mNameError\u001b[0m: name 'v' is not defined"
       ]
      }
     ],
     "prompt_number": 31
    },
    {
     "cell_type": "markdown",
     "metadata": {},
     "source": [
      "## PyClaw version"
     ]
    },
    {
     "cell_type": "code",
     "collapsed": false,
     "input": [
      "#rescale\n",
      "new_out_times = np.array([120.,360.,600.,1080.])\n",
      "time_scale_min_old= np.max(actual_out_times)-np.min(actual_out_times)\n",
      "time_scale_min_new= np.max(new_out_times)-np.min(new_out_times)\n",
      "#time_scale_sec= time_scale_min_old/60.0\n",
      "time_scale_renorm_ratio= time_scale_min_new/time_scale_min_old\n",
      "print time_scale_renorm_ratio\n",
      "p_re_non_dim = time_scale_renorm_ratio*p_non_dim"
     ],
     "language": "python",
     "metadata": {},
     "outputs": [
      {
       "output_type": "stream",
       "stream": "stdout",
       "text": [
        "2.0\n"
       ]
      }
     ],
     "prompt_number": 32
    },
    {
     "cell_type": "code",
     "collapsed": false,
     "input": [
      "#run and plot pyclaw solution\n",
      "import time as timer\n",
      "t0 = timer.time()\n",
      "#results= construct_and_run_sim(p=p,nx=100)\n",
      "results= construct_and_run_sim(data_dir=data_dir,sample_type=sample_type,actual_out_times=new_out_times,precision_time=4,p=p_re_non_dim,x_min=0.,x_max=x_max,nx=100)\n",
      "l_model= results[0]\n",
      "x_model= results[2]\n",
      "tf = timer.time()\n",
      "print 'time taken: '+ np.str(tf-t0)"
     ],
     "language": "python",
     "metadata": {},
     "outputs": [
      {
       "output_type": "stream",
       "stream": "stdout",
       "text": [
        "here\n",
        "../data-working/TXT_BrdU/BrdU_01_0120min.txt\n",
        "2015-12-16 16:08:40,236 INFO CLAW: Solution 0 computed for time t=0.000000\n"
       ]
      },
      {
       "output_type": "stream",
       "stream": "stdout",
       "text": [
        "2015-12-16 16:08:40,245 INFO CLAW: Solution 1 computed for time t=0.250000\n"
       ]
      },
      {
       "output_type": "stream",
       "stream": "stdout",
       "text": [
        "2015-12-16 16:08:40,253 INFO CLAW: Solution 2 computed for time t=0.500000\n"
       ]
      },
      {
       "output_type": "stream",
       "stream": "stdout",
       "text": [
        "2015-12-16 16:08:40,279 INFO CLAW: Solution 3 computed for time t=1.000000\n"
       ]
      },
      {
       "output_type": "stream",
       "stream": "stdout",
       "text": [
        "time taken: 1.01118087769\n"
       ]
      }
     ],
     "prompt_number": 33
    },
    {
     "cell_type": "code",
     "collapsed": false,
     "input": [
      "plt.close('all')"
     ],
     "language": "python",
     "metadata": {},
     "outputs": [],
     "prompt_number": 45
    },
    {
     "cell_type": "code",
     "collapsed": false,
     "input": [
      "#--pyclaw\n",
      "#plt.plot(x_model[:,2],l_model[:,2],'b')\n",
      "plt.plot(x_model[:,3],l_model[:,3],linestyle='-',color='0.6',alpha=1.0) #advection old\n",
      "\n",
      "#--fipy\n",
      "#plt.plot(x_temp,L_temp,'r--')#advection fipy\n",
      "#plt.plot(x_temp,L_temp,'b--')#advection fipy smaller\n",
      "#plt.plot(x_temp_2,L_temp_2,'r-')#'inside diffusion'\n",
      "plt.plot(x_temp_3,L_temp_3,'b-',linestyle='--',color='0.6',alpha=1.0)#advection fipy smaller\n",
      "plt.plot(x_temp_4,L_temp_4,linestyle='-',color='b',alpha=1.0)#'inside diffusion' 0.7\n",
      "\n",
      "#plt.plot(x_model[0:x_plot_max,i],l_rep_data_resid.T,linestyle='-',color='0.6',alpha=0.7)\n",
      "#plt.plot(x[0:x_plot_max],vel[0:x_plot_max],linestyle='-',color='b',alpha=0.7)\n",
      "\n",
      "#--data\n",
      "k=3 #spline param\n",
      "s=5 #spline param\n",
      "label_data_at_x_data= np.zeros(x_max)\n",
      "\n",
      "compare_time= new_out_times[-2]\n",
      "file_current= get_data_file(data_dir,time_format%compare_time)\n",
      "print file_current\n",
      "data_result= process_and_fit_label_data_file(data_dir=data_dir,file_to_fit=file_current,sample_type=sample_type,k=k,s=s,x_max=100,do_plot=False)\n",
      "label_data_at_x_data= np.append(data_result[0],np.zeros(x_max-data_result[0].size))\n",
      "#plt.plot(label_data_at_x_data,'k')\n",
      "\n",
      "compare_time= new_out_times[-1]\n",
      "file_current= get_data_file(data_dir,time_format%compare_time)\n",
      "print file_current\n",
      "data_result= process_and_fit_label_data_file(data_dir=data_dir,file_to_fit=file_current,sample_type=sample_type,k=k,s=s,x_max=100,do_plot=False)\n",
      "label_data_at_x_data= np.append(data_result[0],np.zeros(x_max-data_result[0].size))\n",
      "plt.plot(label_data_at_x_data,'k',markersize=5,linewidth=1.0,linestyle='-',color='0.1',alpha=1.0)\n",
      "#markersize=5,linewidth=2.5,linestyle='-',color='0.1',alpha=1.0,zorder=n_param_samples+1)\n",
      "plt.xlabel(r'Location index (crypt-villus axis)')\n",
      "plt.ylabel(r'Labelled fraction')\n",
      "plt.title('Time: 1080 min')\n",
      "\n",
      "#--options\n",
      "plt.xlim(0,50)\n",
      "plt.ylim(0,1)\n",
      "plt.gca().yaxis.set_major_locator( MaxNLocator(nbins = 4) )\n",
      "\n",
      "save_fig = True\n",
      "output_path= '../figures/diffusion_plots/'\n",
      "save_path= output_path+sample_type+'/'\n",
      "save_fig= True\n",
      "if save_fig:\n",
      "    try:\n",
      "        os.makedirs(save_path)\n",
      "    except OSError as exc: # Python >2.5\n",
      "        if exc.errno == errno.EEXIST and os.path.isdir(save_path):\n",
      "            pass\n",
      "        else: raise\n",
      "    plt.savefig(save_path+'comparison-diffusion-correction-late-'+sample_type+'.pdf')\n",
      "plt.show()"
     ],
     "language": "python",
     "metadata": {},
     "outputs": [
      {
       "output_type": "stream",
       "stream": "stdout",
       "text": [
        "BrdU_01_0600min.txt\n",
        "here\n",
        "../data-working/TXT_BrdU/BrdU_01_0600min.txt\n",
        "BrdU_01_1080min.txt\n",
        "here\n",
        "../data-working/TXT_BrdU/BrdU_01_1080min.txt\n"
       ]
      },
      {
       "metadata": {},
       "output_type": "display_data",
       "png": "[encoded data removed]",
       "text": [
        "<matplotlib.figure.Figure at 0x10bada990>"
       ]
      }
     ],
     "prompt_number": 46
    },
    {
     "cell_type": "markdown",
     "metadata": {},
     "source": [
      "### Add margins"
     ]
    },
    {
     "cell_type": "code",
     "collapsed": false,
     "input": [
      "%%bash -s \"$sample_type\"\n",
      "#prior and posterior label plots\n",
      "sample_type=$1\n",
      "\n",
      "cd ../figures/diffusion_plots/BrdU/\n",
      "#create temporary clone of dir structure, minus files #DONE ABOVE NOW\n",
      "#find . -type d >dirs.txt\n",
      "#xargs mkdir -p <dirs.txt\n",
      "#copy temporary files\n",
      "pdfcrop --margins '40 35 40 5' comparison-diffusion-correction-late-BrdU.pdf comparison-diffusion-correction-late-BrdU-cropped.pdf\n",
      "\n",
      "cp comparison-diffusion-correction-late-BrdU-cropped.pdf ../../figures_to_include/BrdU-comparison-diffusion-correction.pdf\n",
      "#rm *.pdf #clean directory"
     ],
     "language": "python",
     "metadata": {},
     "outputs": [
      {
       "output_type": "stream",
       "stream": "stdout",
       "text": [
        "PDFCROP 1.38, 2012/11/02 - Copyright (c) 2002-2012 by Heiko Oberdiek.\n",
        "==> 1 page written on `comparison-diffusion-correction-late-BrdU-cropped.pdf'.\n"
       ]
      }
     ],
     "prompt_number": 47
    },
    {
     "cell_type": "code",
     "collapsed": false,
     "input": [
      "label_data_at_x_data"
     ],
     "language": "python",
     "metadata": {},
     "outputs": []
    },
    {
     "cell_type": "code",
     "collapsed": false,
     "input": [
      "plt.close('all')"
     ],
     "language": "python",
     "metadata": {},
     "outputs": [],
     "prompt_number": 30
    },
    {
     "cell_type": "markdown",
     "metadata": {},
     "source": [
      "### 'Outside' Diffusion"
     ]
    },
    {
     "cell_type": "code",
     "collapsed": false,
     "input": [],
     "language": "python",
     "metadata": {},
     "outputs": []
    }
   ],
   "metadata": {}
  }
 ]
}