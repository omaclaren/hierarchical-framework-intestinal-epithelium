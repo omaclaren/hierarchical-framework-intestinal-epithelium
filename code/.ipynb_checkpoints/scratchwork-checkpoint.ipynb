{
 "metadata": {
  "name": "",
  "signature": "sha256:e9e8d07bdd577d9e606275aacda09a723658079b287182a9201dbc228b97d330"
 },
 "nbformat": 3,
 "nbformat_minor": 0,
 "worksheets": [
  {
   "cells": [
    {
     "cell_type": "code",
     "collapsed": false,
     "input": [
      "a= (1,2,3)"
     ],
     "language": "python",
     "metadata": {},
     "outputs": [],
     "prompt_number": 1
    },
    {
     "cell_type": "code",
     "collapsed": false,
     "input": [
      "a"
     ],
     "language": "python",
     "metadata": {},
     "outputs": [
      {
       "metadata": {},
       "output_type": "pyout",
       "prompt_number": 2,
       "text": [
        "(1, 2, 3)"
       ]
      }
     ],
     "prompt_number": 2
    },
    {
     "cell_type": "code",
     "collapsed": false,
     "input": [
      "for i, a_i in enumerate(a):\n",
      "    print 'x-'\n",
      "    print i\n",
      "    print '...'\n",
      "    print a_i\n",
      "    print '-x'"
     ],
     "language": "python",
     "metadata": {},
     "outputs": [
      {
       "output_type": "stream",
       "stream": "stdout",
       "text": [
        "x-\n",
        "0\n",
        "...\n",
        "1\n",
        "-x\n",
        "x-\n",
        "1\n",
        "...\n",
        "2\n",
        "-x\n",
        "x-\n",
        "2\n",
        "...\n",
        "3\n",
        "-x\n"
       ]
      }
     ],
     "prompt_number": 6
    },
    {
     "cell_type": "code",
     "collapsed": false,
     "input": [
      "import numpy as np\n",
      "import numpy.linalg as la\n",
      "import scipy as sp\n",
      "from scipy import stats\n",
      "import scipy.interpolate as interpolate\n",
      "import scipy.special as special\n",
      "import matplotlib as mpl\n",
      "import matplotlib.pyplot as plt\n",
      "import os\n",
      "import errno\n",
      "import george\n",
      "from george import kernels\n",
      "import statsmodels.api as sm\n",
      "%matplotlib inline"
     ],
     "language": "python",
     "metadata": {},
     "outputs": [],
     "prompt_number": 7
    },
    {
     "cell_type": "code",
     "collapsed": false,
     "input": [
      "mpl.cm.spectral"
     ],
     "language": "python",
     "metadata": {},
     "outputs": [
      {
       "metadata": {},
       "output_type": "pyout",
       "prompt_number": 10,
       "text": [
        "<matplotlib.colors.LinearSegmentedColormap at 0x106eaa450>"
       ]
      }
     ],
     "prompt_number": 10
    },
    {
     "cell_type": "code",
     "collapsed": false,
     "input": [],
     "language": "python",
     "metadata": {},
     "outputs": []
    }
   ],
   "metadata": {}
  }
 ]
}