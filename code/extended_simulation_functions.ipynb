{
 "metadata": {
  "name": "",
  "signature": "sha256:6dab509d55add93f8650b664a9533188f070b58ba3ef8530ea7579248727a790"
 },
 "nbformat": 3,
 "nbformat_minor": 0,
 "worksheets": [
  {
   "cells": [
    {
     "cell_type": "markdown",
     "metadata": {},
     "source": [
      "# Extended simulation functions  \n",
      "Adding diffusion correction terms\n",
      "Uses FiPy at the moment"
     ]
    },
    {
     "cell_type": "code",
     "collapsed": false,
     "input": [
      "import numpy as np\n",
      "import numpy.linalg as la\n",
      "import scipy as sp\n",
      "from scipy import stats\n",
      "import scipy.interpolate as interpolate\n",
      "import scipy.special as special\n",
      "import matplotlib as mpl\n",
      "import matplotlib.pyplot as plt\n",
      "import os\n",
      "import errno\n",
      "import george\n",
      "from george import kernels\n",
      "import statsmodels.api as sm\n",
      "%matplotlib inline"
     ],
     "language": "python",
     "metadata": {},
     "outputs": [],
     "prompt_number": 1
    },
    {
     "cell_type": "code",
     "collapsed": false,
     "input": [
      "%run data_analysis_functions.ipynb"
     ],
     "language": "python",
     "metadata": {},
     "outputs": [],
     "prompt_number": 2
    },
    {
     "cell_type": "code",
     "collapsed": false,
     "input": [
      "%run simulation_functions.ipynb"
     ],
     "language": "python",
     "metadata": {},
     "outputs": [],
     "prompt_number": 3
    },
    {
     "cell_type": "code",
     "collapsed": false,
     "input": [
      "# need e.g.: export PYTHONPATH=~/Dropbox/PythonWorkspaceDrop/FiPy-3.1/\n",
      "from fipy import *"
     ],
     "language": "python",
     "metadata": {},
     "outputs": [
      {
       "ename": "ImportError",
       "evalue": "No module named fipy",
       "output_type": "pyerr",
       "traceback": [
        "\u001b[0;31m---------------------------------------------------------------------------\u001b[0m\n\u001b[0;31mImportError\u001b[0m                               Traceback (most recent call last)",
        "\u001b[0;32m<ipython-input-4-4616b4537c53>\u001b[0m in \u001b[0;36m<module>\u001b[0;34m()\u001b[0m\n\u001b[1;32m      1\u001b[0m \u001b[0;31m# need e.g.: export PYTHONPATH=~/Dropbox/PythonWorkspaceDrop/FiPy-3.1/\u001b[0m\u001b[0;34m\u001b[0m\u001b[0;34m\u001b[0m\u001b[0m\n\u001b[0;32m----> 2\u001b[0;31m \u001b[0;32mfrom\u001b[0m \u001b[0mfipy\u001b[0m \u001b[0;32mimport\u001b[0m \u001b[0;34m*\u001b[0m\u001b[0;34m\u001b[0m\u001b[0m\n\u001b[0m",
        "\u001b[0;31mImportError\u001b[0m: No module named fipy"
       ]
      }
     ],
     "prompt_number": 4
    },
    {
     "cell_type": "code",
     "collapsed": false,
     "input": [
      "def construct_and_run_fp_sim(k_prolif,time_scale_min,x_max_fp = 100.,nx= 10000.,proliferation_correction_factor = 1.0,dt = .01,data_dir='../data-working/TXT_BrdU/',sample_type='BrdU',end_time=1.0):\n",
      "    \n",
      "    \n",
      "    #--domain, mesh options\n",
      "    #Length=100.\n",
      "    #nx= 10000 #5000 OK\n",
      "    dx= x_max_fp/nx\n",
      "    mesh= Grid1D(dx=dx,nx=nx)\n",
      "    \n",
      "    #--FiPy variables\n",
      "    k_cv= CellVariable(name=\"$k(x)$\",mesh=mesh,value=0.0)\n",
      "    x_cv= CellVariable(name=r\"$x$\",mesh=mesh,value=0)\n",
      "    x_cv= mesh.cellCenters\n",
      "\n",
      "    #Set values based on data via np arrays (todo - better way?)\n",
      "    x_cv_array = np.array(x_cv[0])\n",
      "    k_cv_array = proliferation_correction_factor*(time_scale_min/60.)*np.array([k_prolif(x_cv_array[i]) for i in range(len(x_cv_array))])\n",
      "    k_cv.setValue(k_cv_array)\n",
      "    \n",
      "    #--Solve steady velocity equation separately (for now)\n",
      "    #create vars and set initial conditions\n",
      "    v0= 0.0\n",
      "    v_cv= CellVariable(name=r\"velocity\",mesh=mesh,value=v0,hasOld=1)\n",
      "    #set boundary conditions\n",
      "    v_cv.constrain(v0,mesh.facesLeft)\n",
      "    #fake outflow condition - to stop enforcing no flux condition. Need to change?\n",
      "    v_cv.faceGrad.constrain([0],mesh.facesRight)\n",
      "    #v_cv.faceGrad.constrain([0],mesh.facesLeft)\n",
      "\n",
      "    #--Define equation and solve (no time loop here because steady-state)\n",
      "    eq1= PowerLawConvectionTerm(coeff=(1.,),var=v_cv) == k_cv #-ImplicitSourceTerm(alpha)\n",
      "    #residual/sweep loop\n",
      "    res = 1e+10\n",
      "    while res > 1e-10: #desiredRes:\n",
      "        res= eq1.sweep() #take one step and return residual but don't yet update.\n",
      "        #update once tol met.\n",
      "    v_cv.updateOld()\n",
      "    #eq1.solve()\n",
      "    \n",
      "    #--L initial solution\n",
      "    L0= 0.0\n",
      "    L_cv0= CellVariable(name=r\"labelled fraction\",mesh=mesh,value=L0,hasOld=1)\n",
      "\n",
      "    #get initial condition\n",
      "    files_in_dir= os.listdir(data_dir)\n",
      "    files_in_dir.sort() #assumes files have same name format!!\n",
      "\n",
      "    start= actual_out_times[0]\n",
      "\n",
      "    precision_time=4\n",
      "    time_format= '%0'+('%1d' % precision_time)+'d'\n",
      "    file_ic= get_data_file(data_dir,time_format%start)\n",
      "\n",
      "    density_results= process_and_fit_label_data_file(data_dir=data_dir,file_to_fit=file_ic,sample_type=sample_type,x_max=x_max_fp,do_plot=False)\n",
      "    initial_profile_f= density_results[-1]\n",
      "    #plt.plot(x_cv[0],initial_profile_f(x_cv[0]))\n",
      "\n",
      "    L_cv0.setValue(initial_profile_f(x_cv[0]))\n",
      "    \n",
      "    #--Solve L equation\n",
      "    time = Variable()\n",
      "    time.setValue(0) \n",
      "    #desiredRes= 1e-5\n",
      "    dt = .05\n",
      "\n",
      "    #NOTE initialisation\n",
      "    L_cv= CellVariable(name=r\"labelled fraction\",mesh=mesh,value=L_cv0,hasOld=1)\n",
      "\n",
      "    #v_cv.constrain([0.0],mesh.facesLeft)\n",
      "    #fake outflow condition - to stop enforcing no flux condition. Need to change?\n",
      "    v_cv.faceGrad.constrain([0],mesh.facesLeft)\n",
      "    v_cv.faceGrad.constrain([0],mesh.facesRight)\n",
      "\n",
      "    #--with 'outside' diffusion, using cancelling\n",
      "    eq2= TransientTerm(var=L_cv) + PowerLawConvectionTerm(coeff=v_cv*[[1.0]],var=L_cv)+ PowerLawConvectionTerm(coeff=k_cv*[[0.5]],var=L_cv) ==  DiffusionTerm(coeff=0.5*v_cv,var=L_cv)+ImplicitSourceTerm(coeff=k_cv,var=L_cv) + 0.5*L_cv*(v_cv.faceGrad).divergence\n",
      "\n",
      "    #--with 'inside' diffusion\n",
      "    #eq2= TransientTerm(var=L_cv) + PowerLawConvectionTerm(coeff=v_cv*[[1.0]],var=L_cv) ==  DiffusionTerm(coeff=0.5*v_cv,var=L_cv)+ImplicitSourceTerm(coeff=k_cv,var=L_cv)\n",
      "\n",
      "    #--with standard advection\n",
      "    #rescale = 0.1\n",
      "    #eq2= TransientTerm(var=L_cv) + PowerLawConvectionTerm(coeff=v_cv*[[1.0]],var=L_cv) ==  ImplicitSourceTerm(coeff=k_cv,var=L_cv)\n",
      "\n",
      "    import time as timer\n",
      "    t0 = timer.time()\n",
      "\n",
      "    while time() < end_time:\n",
      "        time.setValue(time() + dt)\n",
      "        #residual/sweep loop\n",
      "        res = 1e+10\n",
      "        while res > 1e-10: #desiredRes:\n",
      "            res= eq2.sweep(var=L_cv,dt=dt) #take one step and return residual but don't yet update.\n",
      "            #eq2.solve(var=L, dt=dt) #replaced!\n",
      "        #update once tol met.\n",
      "        L_cv.updateOld()\n",
      "\n",
      "    tf = timer.time()\n",
      "    print 'time taken: '+ np.str(tf-t0)\n",
      "    #viewer= Viewer(vars=(L_cv),xmin=0,xmax=50,ymin=0,ymax=1.0)\n",
      "    #viewer= Viewer(vars=(v_cv),xmin=0,xmax=50,ymin=0)\n",
      "    #viewer= Viewer(vars=(k_cv),xmin=0,xmax=50,ymin=0)\n",
      "    \n",
      "    return L_cv.getValue(), v_cv.getValue(), k_cv.getValue(), x_cv.getValue()[0]"
     ],
     "language": "python",
     "metadata": {},
     "outputs": []
    },
    {
     "cell_type": "code",
     "collapsed": false,
     "input": [],
     "language": "python",
     "metadata": {},
     "outputs": []
    }
   ],
   "metadata": {}
  }
 ]
}